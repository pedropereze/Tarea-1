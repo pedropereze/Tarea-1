{
 "cells": [
  {
   "cell_type": "markdown",
   "metadata": {},
   "source": [
    "# Tarea 1 \n",
    "\n",
    "Alumnos:\n",
    "\n",
    "* Miguel Espinoza\n",
    "* Sebastián López\n",
    "* Pedro Pérez"
   ]
  },
  {
   "cell_type": "markdown",
   "metadata": {},
   "source": [
    "## P1"
   ]
  },
  {
   "cell_type": "markdown",
   "metadata": {},
   "source": [
    "### Parte 1"
   ]
  },
  {
   "cell_type": "code",
   "execution_count": 1,
   "metadata": {},
   "outputs": [
    {
     "data": {
      "text/plain": [
       "['w13', 'w14', 'w15', 'w16', 'w17']"
      ]
     },
     "execution_count": 1,
     "metadata": {},
     "output_type": "execute_result"
    }
   ],
   "source": [
    "import os\n",
    "\n",
    "folder = 'data/raw/'  #Carpeta principal en la que estan los archivos\n",
    "weeks = os.listdir(folder)  #Se agregan las subcarpetas a una lista\n",
    "weeks"
   ]
  },
  {
   "cell_type": "code",
   "execution_count": 2,
   "metadata": {},
   "outputs": [
    {
     "data": {
      "text/plain": [
       "['data/raw/w13/metrocuadrado_all_w13.csv',\n",
       " 'data/raw/w14/metrocuadrado_all_w14.csv',\n",
       " 'data/raw/w15/metrocuadrado_all_w15.csv',\n",
       " 'data/raw/w16/metrocuadrado_all_w16.csv',\n",
       " 'data/raw/w17/metrocuadrado_all_w17.csv']"
      ]
     },
     "execution_count": 2,
     "metadata": {},
     "output_type": "execute_result"
    }
   ],
   "source": [
    "#Se crean dos listas para guardar los archivos normales\n",
    "#y los 'furnished'\n",
    "files = []\n",
    "files_furnished = []\n",
    "\n",
    "#Mediante un bucle for se guardan las direcciones de todos\n",
    "#los archivos en las listas creadas\n",
    "for week in weeks:\n",
    "    direccion = folder + week + '/'\n",
    "    file = os.listdir(direccion)\n",
    "    files.append(direccion + file[0])\n",
    "    files_furnished.append(direccion + file[1])\n",
    "    \n",
    "files"
   ]
  },
  {
   "cell_type": "code",
   "execution_count": 3,
   "metadata": {
    "scrolled": false
   },
   "outputs": [
    {
     "data": {
      "text/html": [
       "<div>\n",
       "<style scoped>\n",
       "    .dataframe tbody tr th:only-of-type {\n",
       "        vertical-align: middle;\n",
       "    }\n",
       "\n",
       "    .dataframe tbody tr th {\n",
       "        vertical-align: top;\n",
       "    }\n",
       "\n",
       "    .dataframe thead th {\n",
       "        text-align: right;\n",
       "    }\n",
       "</style>\n",
       "<table border=\"1\" class=\"dataframe\">\n",
       "  <thead>\n",
       "    <tr style=\"text-align: right;\">\n",
       "      <th></th>\n",
       "      <th>property_type|rent_type|location</th>\n",
       "      <th>price</th>\n",
       "      <th>n_rooms</th>\n",
       "      <th>n_bath</th>\n",
       "      <th>surface</th>\n",
       "      <th>details</th>\n",
       "      <th>url</th>\n",
       "      <th>metrocuadrado_index</th>\n",
       "    </tr>\n",
       "  </thead>\n",
       "  <tbody>\n",
       "    <tr>\n",
       "      <th>0</th>\n",
       "      <td>Casa en Arriendo, LA SOLEDAD NORTE Bogotá D.C..</td>\n",
       "      <td>$1.050.000</td>\n",
       "      <td>3</td>\n",
       "      <td>2</td>\n",
       "      <td>63.0 m2</td>\n",
       "      <td>Excelente casa cerca de la calle 80 y Avenida ...</td>\n",
       "      <td>https://www.metrocuadrado.com/inmueble/arriend...</td>\n",
       "      <td>25.6</td>\n",
       "    </tr>\n",
       "    <tr>\n",
       "      <th>1</th>\n",
       "      <td>Casa en Arriendo, CIUDAD SALITRE SUR-ORIENTAL ...</td>\n",
       "      <td>$3.930.000</td>\n",
       "      <td>3</td>\n",
       "      <td>2</td>\n",
       "      <td>100.0 m2</td>\n",
       "      <td>Se arrienda casa bonita totalmente amoblada co...</td>\n",
       "      <td>https://www.metrocuadrado.com/inmueble/arriend...</td>\n",
       "      <td>57.3</td>\n",
       "    </tr>\n",
       "    <tr>\n",
       "      <th>2</th>\n",
       "      <td>Casa en Arriendo, VILLA DE LOS ALPES II SECTOR...</td>\n",
       "      <td>$750.000</td>\n",
       "      <td>3</td>\n",
       "      <td>1</td>\n",
       "      <td>90.0 m2</td>\n",
       "      <td>CASA DE TRES NIVELES TRES ALCOBAS SALA COMEDOR...</td>\n",
       "      <td>https://www.metrocuadrado.com/inmueble/arriend...</td>\n",
       "      <td>12.2</td>\n",
       "    </tr>\n",
       "  </tbody>\n",
       "</table>\n",
       "</div>"
      ],
      "text/plain": [
       "                    property_type|rent_type|location       price n_rooms  \\\n",
       "0    Casa en Arriendo, LA SOLEDAD NORTE Bogotá D.C..  $1.050.000       3   \n",
       "1  Casa en Arriendo, CIUDAD SALITRE SUR-ORIENTAL ...  $3.930.000       3   \n",
       "2  Casa en Arriendo, VILLA DE LOS ALPES II SECTOR...    $750.000       3   \n",
       "\n",
       "  n_bath   surface                                            details  \\\n",
       "0      2   63.0 m2  Excelente casa cerca de la calle 80 y Avenida ...   \n",
       "1      2  100.0 m2  Se arrienda casa bonita totalmente amoblada co...   \n",
       "2      1   90.0 m2  CASA DE TRES NIVELES TRES ALCOBAS SALA COMEDOR...   \n",
       "\n",
       "                                                 url  metrocuadrado_index  \n",
       "0  https://www.metrocuadrado.com/inmueble/arriend...                 25.6  \n",
       "1  https://www.metrocuadrado.com/inmueble/arriend...                 57.3  \n",
       "2  https://www.metrocuadrado.com/inmueble/arriend...                 12.2  "
      ]
     },
     "execution_count": 3,
     "metadata": {},
     "output_type": "execute_result"
    }
   ],
   "source": [
    "import pandas as pd\n",
    "\n",
    "#Se lee el primer dataframe para observar los datos\n",
    "data_all = pd.read_csv(files[0])\n",
    "data_all.head(3)"
   ]
  },
  {
   "cell_type": "markdown",
   "metadata": {},
   "source": [
    "En primer lugar se combinan los dataframes normales"
   ]
  },
  {
   "cell_type": "code",
   "execution_count": 4,
   "metadata": {
    "scrolled": false
   },
   "outputs": [
    {
     "name": "stdout",
     "output_type": "stream",
     "text": [
      "Cantidad de datos:  16470\n"
     ]
    },
    {
     "data": {
      "text/html": [
       "<div>\n",
       "<style scoped>\n",
       "    .dataframe tbody tr th:only-of-type {\n",
       "        vertical-align: middle;\n",
       "    }\n",
       "\n",
       "    .dataframe tbody tr th {\n",
       "        vertical-align: top;\n",
       "    }\n",
       "\n",
       "    .dataframe thead th {\n",
       "        text-align: right;\n",
       "    }\n",
       "</style>\n",
       "<table border=\"1\" class=\"dataframe\">\n",
       "  <thead>\n",
       "    <tr style=\"text-align: right;\">\n",
       "      <th></th>\n",
       "      <th>property_type|rent_type|location</th>\n",
       "      <th>price</th>\n",
       "      <th>n_rooms</th>\n",
       "      <th>n_bath</th>\n",
       "      <th>surface</th>\n",
       "      <th>details</th>\n",
       "      <th>url</th>\n",
       "      <th>metrocuadrado_index</th>\n",
       "    </tr>\n",
       "  </thead>\n",
       "  <tbody>\n",
       "    <tr>\n",
       "      <th>0</th>\n",
       "      <td>Casa en Arriendo, LA SOLEDAD NORTE Bogotá D.C..</td>\n",
       "      <td>$1.050.000</td>\n",
       "      <td>3</td>\n",
       "      <td>2</td>\n",
       "      <td>63.0 m2</td>\n",
       "      <td>Excelente casa cerca de la calle 80 y Avenida ...</td>\n",
       "      <td>https://www.metrocuadrado.com/inmueble/arriend...</td>\n",
       "      <td>25.6</td>\n",
       "    </tr>\n",
       "    <tr>\n",
       "      <th>1</th>\n",
       "      <td>Casa en Arriendo, CIUDAD SALITRE SUR-ORIENTAL ...</td>\n",
       "      <td>$3.930.000</td>\n",
       "      <td>3</td>\n",
       "      <td>2</td>\n",
       "      <td>100.0 m2</td>\n",
       "      <td>Se arrienda casa bonita totalmente amoblada co...</td>\n",
       "      <td>https://www.metrocuadrado.com/inmueble/arriend...</td>\n",
       "      <td>57.3</td>\n",
       "    </tr>\n",
       "    <tr>\n",
       "      <th>2</th>\n",
       "      <td>Casa en Arriendo, VILLA DE LOS ALPES II SECTOR...</td>\n",
       "      <td>$750.000</td>\n",
       "      <td>3</td>\n",
       "      <td>1</td>\n",
       "      <td>90.0 m2</td>\n",
       "      <td>CASA DE TRES NIVELES TRES ALCOBAS SALA COMEDOR...</td>\n",
       "      <td>https://www.metrocuadrado.com/inmueble/arriend...</td>\n",
       "      <td>12.2</td>\n",
       "    </tr>\n",
       "  </tbody>\n",
       "</table>\n",
       "</div>"
      ],
      "text/plain": [
       "                    property_type|rent_type|location       price n_rooms  \\\n",
       "0    Casa en Arriendo, LA SOLEDAD NORTE Bogotá D.C..  $1.050.000       3   \n",
       "1  Casa en Arriendo, CIUDAD SALITRE SUR-ORIENTAL ...  $3.930.000       3   \n",
       "2  Casa en Arriendo, VILLA DE LOS ALPES II SECTOR...    $750.000       3   \n",
       "\n",
       "  n_bath   surface                                            details  \\\n",
       "0      2   63.0 m2  Excelente casa cerca de la calle 80 y Avenida ...   \n",
       "1      2  100.0 m2  Se arrienda casa bonita totalmente amoblada co...   \n",
       "2      1   90.0 m2  CASA DE TRES NIVELES TRES ALCOBAS SALA COMEDOR...   \n",
       "\n",
       "                                                 url  metrocuadrado_index  \n",
       "0  https://www.metrocuadrado.com/inmueble/arriend...                 25.6  \n",
       "1  https://www.metrocuadrado.com/inmueble/arriend...                 57.3  \n",
       "2  https://www.metrocuadrado.com/inmueble/arriend...                 12.2  "
      ]
     },
     "execution_count": 4,
     "metadata": {},
     "output_type": "execute_result"
    }
   ],
   "source": [
    "data_all = pd.read_csv(files[0])\n",
    "\n",
    "for file in files:\n",
    "    dato_semanal = pd.read_csv(file)\n",
    "    data_all = data_all.merge(dato_semanal, how = 'outer') \n",
    "    #Se pone 'outer' para hacer la union de todos los dataframes\n",
    "\n",
    "print('Cantidad de datos: ', len(data_all))\n",
    "data_all.head(3)"
   ]
  },
  {
   "cell_type": "code",
   "execution_count": 5,
   "metadata": {},
   "outputs": [
    {
     "name": "stdout",
     "output_type": "stream",
     "text": [
      "Duplicados:  175\n"
     ]
    }
   ],
   "source": [
    "#Se ve si hay duplicados\n",
    "print('Duplicados: ', data_all.duplicated().sum())"
   ]
  },
  {
   "cell_type": "code",
   "execution_count": 6,
   "metadata": {
    "scrolled": true
   },
   "outputs": [
    {
     "name": "stdout",
     "output_type": "stream",
     "text": [
      "Cantidad de datos:  16295\n"
     ]
    }
   ],
   "source": [
    "#Se eliminan las filas duplicadas\n",
    "data_all.drop_duplicates(inplace=True)\n",
    "print('Cantidad de datos: ', len(data_all))"
   ]
  },
  {
   "cell_type": "markdown",
   "metadata": {},
   "source": [
    "Ahora se combinan los archivos furnished"
   ]
  },
  {
   "cell_type": "code",
   "execution_count": 7,
   "metadata": {},
   "outputs": [
    {
     "name": "stdout",
     "output_type": "stream",
     "text": [
      "Cantidad de datos:  2101\n"
     ]
    },
    {
     "data": {
      "text/html": [
       "<div>\n",
       "<style scoped>\n",
       "    .dataframe tbody tr th:only-of-type {\n",
       "        vertical-align: middle;\n",
       "    }\n",
       "\n",
       "    .dataframe tbody tr th {\n",
       "        vertical-align: top;\n",
       "    }\n",
       "\n",
       "    .dataframe thead th {\n",
       "        text-align: right;\n",
       "    }\n",
       "</style>\n",
       "<table border=\"1\" class=\"dataframe\">\n",
       "  <thead>\n",
       "    <tr style=\"text-align: right;\">\n",
       "      <th></th>\n",
       "      <th>property_type|rent_type|location</th>\n",
       "      <th>price</th>\n",
       "      <th>n_rooms</th>\n",
       "      <th>n_bath</th>\n",
       "      <th>surface</th>\n",
       "      <th>details</th>\n",
       "      <th>url</th>\n",
       "      <th>metrocuadrado_index</th>\n",
       "    </tr>\n",
       "  </thead>\n",
       "  <tbody>\n",
       "    <tr>\n",
       "      <th>0</th>\n",
       "      <td>Casa en Arriendo, CIUDAD SALITRE SUR-ORIENTAL ...</td>\n",
       "      <td>$3.930.000</td>\n",
       "      <td>3.0</td>\n",
       "      <td>2.0</td>\n",
       "      <td>100.0 m2</td>\n",
       "      <td>Se arrienda casa bonita totalmente amoblada co...</td>\n",
       "      <td>https://www.metrocuadrado.com/inmueble/arriend...</td>\n",
       "      <td>57.3</td>\n",
       "    </tr>\n",
       "    <tr>\n",
       "      <th>1</th>\n",
       "      <td>Casa en Venta Y Arriendo, BELLAVISTA Bogotá D.C..</td>\n",
       "      <td>$1.300.000</td>\n",
       "      <td>3.0</td>\n",
       "      <td>2.0</td>\n",
       "      <td>72.0 m2</td>\n",
       "      <td>hermosa casa en venta y en arriendo en, mandal...</td>\n",
       "      <td>https://www.metrocuadrado.com/inmueble/venta-c...</td>\n",
       "      <td>41.4</td>\n",
       "    </tr>\n",
       "    <tr>\n",
       "      <th>2</th>\n",
       "      <td>Casa en Arriendo, PORTALES DEL NORTE Bogotá D.C..</td>\n",
       "      <td>$1.800.000</td>\n",
       "      <td>3.0</td>\n",
       "      <td>3.0</td>\n",
       "      <td>76.81 m2</td>\n",
       "      <td>Estrato 4. CASA TRIPLEX!! Exterior . Cuenta co...</td>\n",
       "      <td>https://www.metrocuadrado.com/inmueble/arriend...</td>\n",
       "      <td>41.3</td>\n",
       "    </tr>\n",
       "  </tbody>\n",
       "</table>\n",
       "</div>"
      ],
      "text/plain": [
       "                    property_type|rent_type|location       price  n_rooms  \\\n",
       "0  Casa en Arriendo, CIUDAD SALITRE SUR-ORIENTAL ...  $3.930.000      3.0   \n",
       "1  Casa en Venta Y Arriendo, BELLAVISTA Bogotá D.C..  $1.300.000      3.0   \n",
       "2  Casa en Arriendo, PORTALES DEL NORTE Bogotá D.C..  $1.800.000      3.0   \n",
       "\n",
       "   n_bath   surface                                            details  \\\n",
       "0     2.0  100.0 m2  Se arrienda casa bonita totalmente amoblada co...   \n",
       "1     2.0   72.0 m2  hermosa casa en venta y en arriendo en, mandal...   \n",
       "2     3.0  76.81 m2  Estrato 4. CASA TRIPLEX!! Exterior . Cuenta co...   \n",
       "\n",
       "                                                 url  metrocuadrado_index  \n",
       "0  https://www.metrocuadrado.com/inmueble/arriend...                 57.3  \n",
       "1  https://www.metrocuadrado.com/inmueble/venta-c...                 41.4  \n",
       "2  https://www.metrocuadrado.com/inmueble/arriend...                 41.3  "
      ]
     },
     "execution_count": 7,
     "metadata": {},
     "output_type": "execute_result"
    }
   ],
   "source": [
    "data_furnished = pd.read_csv(files_furnished[0])\n",
    "\n",
    "for file in files_furnished:\n",
    "    dato_semanal = pd.read_csv(file)\n",
    "    data_furnished = data_furnished.merge(dato_semanal, how='outer')\n",
    "\n",
    "print('Cantidad de datos: ', len(data_furnished))\n",
    "data_furnished.head(3)"
   ]
  },
  {
   "cell_type": "code",
   "execution_count": 8,
   "metadata": {},
   "outputs": [
    {
     "name": "stdout",
     "output_type": "stream",
     "text": [
      "Duplicados:  2\n"
     ]
    }
   ],
   "source": [
    "#Se buscan los duplicados y se eliminan\n",
    "print('Duplicados: ', data_furnished.duplicated().sum())"
   ]
  },
  {
   "cell_type": "code",
   "execution_count": 9,
   "metadata": {},
   "outputs": [
    {
     "name": "stdout",
     "output_type": "stream",
     "text": [
      "Cantidad de datos:  2099\n"
     ]
    }
   ],
   "source": [
    "data_furnished.drop_duplicates(inplace=True)\n",
    "\n",
    "print('Cantidad de datos: ', len(data_furnished))\n",
    "#Se observa que son muchos menos los datos de tipo furnished"
   ]
  },
  {
   "cell_type": "markdown",
   "metadata": {},
   "source": [
    "Al intentar combinar ambos dataframes usando `data_all.merge(data_furnished, how='outer')` aparece el error:\n",
    "\n",
    "`ValueError: You are trying to merge on object and float64 columns. If you wish to proceed you should use pd.concat`\n",
    "\n",
    "Por lo que se decide comprobar los tipos de las columnas"
   ]
  },
  {
   "cell_type": "code",
   "execution_count": 10,
   "metadata": {},
   "outputs": [
    {
     "name": "stdout",
     "output_type": "stream",
     "text": [
      "Tipos Data All\n",
      "property_type|rent_type|location     object\n",
      "price                                object\n",
      "n_rooms                              object\n",
      "n_bath                               object\n",
      "surface                              object\n",
      "details                              object\n",
      "url                                  object\n",
      "metrocuadrado_index                 float64\n",
      "dtype: object\n",
      "\n",
      "Tipos Data Furnished\n",
      "property_type|rent_type|location     object\n",
      "price                                object\n",
      "n_rooms                             float64\n",
      "n_bath                              float64\n",
      "surface                              object\n",
      "details                              object\n",
      "url                                  object\n",
      "metrocuadrado_index                 float64\n",
      "dtype: object\n"
     ]
    }
   ],
   "source": [
    "#Se observan las columnas de los dataframe\n",
    "print('Tipos Data All')\n",
    "print(data_all.dtypes)\n",
    "print()\n",
    "print('Tipos Data Furnished')\n",
    "print(data_furnished.dtypes)"
   ]
  },
  {
   "cell_type": "markdown",
   "metadata": {},
   "source": [
    "Se observa que el error se debe a que en `Data All` las columnas `n_rooms` y `n_bath` son de tipo `object`, en cambio en `Data Furnished` son de tipo `float64`.\n",
    "\n",
    "Este problema se resuelve simplemente cambiando el tipo de esas columnas."
   ]
  },
  {
   "cell_type": "code",
   "execution_count": 11,
   "metadata": {},
   "outputs": [],
   "source": [
    "#Se cambian las columnas de 'data_furnished' a object\n",
    "data_furnished = data_furnished.astype({'n_rooms':'object', 'n_bath':'object'})\n",
    "\n",
    "#Obs: No se pueden cambiar las columnas de 'data_all' a float64, pues hay un dato llamado '5+'"
   ]
  },
  {
   "cell_type": "code",
   "execution_count": 153,
   "metadata": {},
   "outputs": [
    {
     "name": "stdout",
     "output_type": "stream",
     "text": [
      "Cantidad de datos:  18394\n"
     ]
    },
    {
     "data": {
      "text/html": [
       "<div>\n",
       "<style scoped>\n",
       "    .dataframe tbody tr th:only-of-type {\n",
       "        vertical-align: middle;\n",
       "    }\n",
       "\n",
       "    .dataframe tbody tr th {\n",
       "        vertical-align: top;\n",
       "    }\n",
       "\n",
       "    .dataframe thead th {\n",
       "        text-align: right;\n",
       "    }\n",
       "</style>\n",
       "<table border=\"1\" class=\"dataframe\">\n",
       "  <thead>\n",
       "    <tr style=\"text-align: right;\">\n",
       "      <th></th>\n",
       "      <th>property_type|rent_type|location</th>\n",
       "      <th>price</th>\n",
       "      <th>n_rooms</th>\n",
       "      <th>n_bath</th>\n",
       "      <th>surface</th>\n",
       "      <th>details</th>\n",
       "      <th>url</th>\n",
       "      <th>metrocuadrado_index</th>\n",
       "      <th>Furnished</th>\n",
       "    </tr>\n",
       "  </thead>\n",
       "  <tbody>\n",
       "    <tr>\n",
       "      <th>0</th>\n",
       "      <td>Casa en Arriendo, LA SOLEDAD NORTE Bogotá D.C..</td>\n",
       "      <td>$1.050.000</td>\n",
       "      <td>3</td>\n",
       "      <td>2</td>\n",
       "      <td>63.0 m2</td>\n",
       "      <td>Excelente casa cerca de la calle 80 y Avenida ...</td>\n",
       "      <td>https://www.metrocuadrado.com/inmueble/arriend...</td>\n",
       "      <td>25.6</td>\n",
       "      <td>left_only</td>\n",
       "    </tr>\n",
       "    <tr>\n",
       "      <th>1</th>\n",
       "      <td>Casa en Arriendo, CIUDAD SALITRE SUR-ORIENTAL ...</td>\n",
       "      <td>$3.930.000</td>\n",
       "      <td>3</td>\n",
       "      <td>2</td>\n",
       "      <td>100.0 m2</td>\n",
       "      <td>Se arrienda casa bonita totalmente amoblada co...</td>\n",
       "      <td>https://www.metrocuadrado.com/inmueble/arriend...</td>\n",
       "      <td>57.3</td>\n",
       "      <td>left_only</td>\n",
       "    </tr>\n",
       "    <tr>\n",
       "      <th>2</th>\n",
       "      <td>Casa en Arriendo, VILLA DE LOS ALPES II SECTOR...</td>\n",
       "      <td>$750.000</td>\n",
       "      <td>3</td>\n",
       "      <td>1</td>\n",
       "      <td>90.0 m2</td>\n",
       "      <td>CASA DE TRES NIVELES TRES ALCOBAS SALA COMEDOR...</td>\n",
       "      <td>https://www.metrocuadrado.com/inmueble/arriend...</td>\n",
       "      <td>12.2</td>\n",
       "      <td>left_only</td>\n",
       "    </tr>\n",
       "  </tbody>\n",
       "</table>\n",
       "</div>"
      ],
      "text/plain": [
       "                    property_type|rent_type|location       price n_rooms  \\\n",
       "0    Casa en Arriendo, LA SOLEDAD NORTE Bogotá D.C..  $1.050.000       3   \n",
       "1  Casa en Arriendo, CIUDAD SALITRE SUR-ORIENTAL ...  $3.930.000       3   \n",
       "2  Casa en Arriendo, VILLA DE LOS ALPES II SECTOR...    $750.000       3   \n",
       "\n",
       "  n_bath   surface                                            details  \\\n",
       "0      2   63.0 m2  Excelente casa cerca de la calle 80 y Avenida ...   \n",
       "1      2  100.0 m2  Se arrienda casa bonita totalmente amoblada co...   \n",
       "2      1   90.0 m2  CASA DE TRES NIVELES TRES ALCOBAS SALA COMEDOR...   \n",
       "\n",
       "                                                 url  metrocuadrado_index  \\\n",
       "0  https://www.metrocuadrado.com/inmueble/arriend...                 25.6   \n",
       "1  https://www.metrocuadrado.com/inmueble/arriend...                 57.3   \n",
       "2  https://www.metrocuadrado.com/inmueble/arriend...                 12.2   \n",
       "\n",
       "   Furnished  \n",
       "0  left_only  \n",
       "1  left_only  \n",
       "2  left_only  "
      ]
     },
     "execution_count": 153,
     "metadata": {},
     "output_type": "execute_result"
    }
   ],
   "source": [
    "#Se combinan los dataframes\n",
    "data = data_all.merge(data_furnished, how='outer', indicator='Furnished')\n",
    "\n",
    "#Se coloca utiliza el parámetro indicator para indicar de que dataframe \n",
    "#proviene cada fila.\n",
    "#left_only indica que viene del dataframe 'data_all'\n",
    "#right_only indica que viene del dataframe 'data_furnished'\n",
    "#y both que proviene de ambos\n",
    "\n",
    "print('Cantidad de datos: ', len(data))\n",
    "data.head(3)"
   ]
  },
  {
   "cell_type": "code",
   "execution_count": 154,
   "metadata": {
    "scrolled": true
   },
   "outputs": [
    {
     "data": {
      "text/html": [
       "<div>\n",
       "<style scoped>\n",
       "    .dataframe tbody tr th:only-of-type {\n",
       "        vertical-align: middle;\n",
       "    }\n",
       "\n",
       "    .dataframe tbody tr th {\n",
       "        vertical-align: top;\n",
       "    }\n",
       "\n",
       "    .dataframe thead th {\n",
       "        text-align: right;\n",
       "    }\n",
       "</style>\n",
       "<table border=\"1\" class=\"dataframe\">\n",
       "  <thead>\n",
       "    <tr style=\"text-align: right;\">\n",
       "      <th></th>\n",
       "      <th>property_type|rent_type|location</th>\n",
       "      <th>price</th>\n",
       "      <th>n_rooms</th>\n",
       "      <th>n_bath</th>\n",
       "      <th>surface</th>\n",
       "      <th>details</th>\n",
       "      <th>url</th>\n",
       "      <th>metrocuadrado_index</th>\n",
       "      <th>Furnished</th>\n",
       "    </tr>\n",
       "  </thead>\n",
       "  <tbody>\n",
       "    <tr>\n",
       "      <th>0</th>\n",
       "      <td>Casa en Arriendo, LA SOLEDAD NORTE Bogotá D.C..</td>\n",
       "      <td>$1.050.000</td>\n",
       "      <td>3</td>\n",
       "      <td>2</td>\n",
       "      <td>63.0 m2</td>\n",
       "      <td>Excelente casa cerca de la calle 80 y Avenida ...</td>\n",
       "      <td>https://www.metrocuadrado.com/inmueble/arriend...</td>\n",
       "      <td>25.6</td>\n",
       "      <td>No</td>\n",
       "    </tr>\n",
       "    <tr>\n",
       "      <th>1</th>\n",
       "      <td>Casa en Arriendo, CIUDAD SALITRE SUR-ORIENTAL ...</td>\n",
       "      <td>$3.930.000</td>\n",
       "      <td>3</td>\n",
       "      <td>2</td>\n",
       "      <td>100.0 m2</td>\n",
       "      <td>Se arrienda casa bonita totalmente amoblada co...</td>\n",
       "      <td>https://www.metrocuadrado.com/inmueble/arriend...</td>\n",
       "      <td>57.3</td>\n",
       "      <td>No</td>\n",
       "    </tr>\n",
       "    <tr>\n",
       "      <th>2</th>\n",
       "      <td>Casa en Arriendo, VILLA DE LOS ALPES II SECTOR...</td>\n",
       "      <td>$750.000</td>\n",
       "      <td>3</td>\n",
       "      <td>1</td>\n",
       "      <td>90.0 m2</td>\n",
       "      <td>CASA DE TRES NIVELES TRES ALCOBAS SALA COMEDOR...</td>\n",
       "      <td>https://www.metrocuadrado.com/inmueble/arriend...</td>\n",
       "      <td>12.2</td>\n",
       "      <td>No</td>\n",
       "    </tr>\n",
       "  </tbody>\n",
       "</table>\n",
       "</div>"
      ],
      "text/plain": [
       "                    property_type|rent_type|location       price n_rooms  \\\n",
       "0    Casa en Arriendo, LA SOLEDAD NORTE Bogotá D.C..  $1.050.000       3   \n",
       "1  Casa en Arriendo, CIUDAD SALITRE SUR-ORIENTAL ...  $3.930.000       3   \n",
       "2  Casa en Arriendo, VILLA DE LOS ALPES II SECTOR...    $750.000       3   \n",
       "\n",
       "  n_bath   surface                                            details  \\\n",
       "0      2   63.0 m2  Excelente casa cerca de la calle 80 y Avenida ...   \n",
       "1      2  100.0 m2  Se arrienda casa bonita totalmente amoblada co...   \n",
       "2      1   90.0 m2  CASA DE TRES NIVELES TRES ALCOBAS SALA COMEDOR...   \n",
       "\n",
       "                                                 url  metrocuadrado_index  \\\n",
       "0  https://www.metrocuadrado.com/inmueble/arriend...                 25.6   \n",
       "1  https://www.metrocuadrado.com/inmueble/arriend...                 57.3   \n",
       "2  https://www.metrocuadrado.com/inmueble/arriend...                 12.2   \n",
       "\n",
       "  Furnished  \n",
       "0        No  \n",
       "1        No  \n",
       "2        No  "
      ]
     },
     "execution_count": 154,
     "metadata": {},
     "output_type": "execute_result"
    }
   ],
   "source": [
    "data['Furnished'].replace({'left_only':'No', 'right_only':'Si', 'both':'Ambos'}, inplace=True)\n",
    "\n",
    "#Se cambian los nombres para indicar más claramente si provienen de furnished o no\n",
    "data.head(3)"
   ]
  },
  {
   "cell_type": "code",
   "execution_count": 155,
   "metadata": {},
   "outputs": [
    {
     "data": {
      "text/plain": [
       "No    16295\n",
       "Si     2099\n",
       "Name: Furnished, dtype: int64"
      ]
     },
     "execution_count": 155,
     "metadata": {},
     "output_type": "execute_result"
    }
   ],
   "source": [
    "#Se cuentan la cantidad de cada valores de cada tipo\n",
    "data['Furnished'].value_counts()"
   ]
  },
  {
   "cell_type": "markdown",
   "metadata": {},
   "source": [
    "Como se observa no hay elementos comunes entre ambos grupos, son disjuntos. No hay archivos con texto 'furnished' que no estén contenidos en archivos con texto 'all'."
   ]
  },
  {
   "cell_type": "code",
   "execution_count": 156,
   "metadata": {},
   "outputs": [
    {
     "data": {
      "text/html": [
       "<div>\n",
       "<style scoped>\n",
       "    .dataframe tbody tr th:only-of-type {\n",
       "        vertical-align: middle;\n",
       "    }\n",
       "\n",
       "    .dataframe tbody tr th {\n",
       "        vertical-align: top;\n",
       "    }\n",
       "\n",
       "    .dataframe thead th {\n",
       "        text-align: right;\n",
       "    }\n",
       "</style>\n",
       "<table border=\"1\" class=\"dataframe\">\n",
       "  <thead>\n",
       "    <tr style=\"text-align: right;\">\n",
       "      <th></th>\n",
       "      <th>property_type|rent_type|location</th>\n",
       "      <th>price</th>\n",
       "      <th>n_rooms</th>\n",
       "      <th>n_bath</th>\n",
       "      <th>surface</th>\n",
       "      <th>details</th>\n",
       "      <th>url</th>\n",
       "      <th>metrocuadrado_index</th>\n",
       "    </tr>\n",
       "  </thead>\n",
       "  <tbody>\n",
       "  </tbody>\n",
       "</table>\n",
       "</div>"
      ],
      "text/plain": [
       "Empty DataFrame\n",
       "Columns: [property_type|rent_type|location, price, n_rooms, n_bath, surface, details, url, metrocuadrado_index]\n",
       "Index: []"
      ]
     },
     "execution_count": 156,
     "metadata": {},
     "output_type": "execute_result"
    }
   ],
   "source": [
    "#Esto se comprueba tambien haciendo una intersección entre los dataframes\n",
    "#mediante el argumento 'inner'\n",
    "pd.merge(data_all, data_furnished, how='inner')\n",
    "\n",
    "#Se observa que el resultado es un dataframe vacío"
   ]
  },
  {
   "cell_type": "markdown",
   "metadata": {},
   "source": [
    "### Parte 2"
   ]
  },
  {
   "cell_type": "markdown",
   "metadata": {},
   "source": [
    "#### A"
   ]
  },
  {
   "cell_type": "markdown",
   "metadata": {},
   "source": [
    "Primero se limpia el precio"
   ]
  },
  {
   "cell_type": "code",
   "execution_count": 157,
   "metadata": {},
   "outputs": [
    {
     "data": {
      "text/plain": [
       "0    $1.050.000\n",
       "1    $3.930.000\n",
       "2      $750.000\n",
       "Name: price, dtype: object"
      ]
     },
     "execution_count": 157,
     "metadata": {},
     "output_type": "execute_result"
    }
   ],
   "source": [
    "data['price'].head(3)"
   ]
  },
  {
   "cell_type": "markdown",
   "metadata": {},
   "source": [
    "Se observa que son de tipo `object`, pues el precio contiene el signo peso '$' y los puntos. Convendría eliminar este signo y los puntos para poder pasar los datos a `float64`."
   ]
  },
  {
   "cell_type": "code",
   "execution_count": 158,
   "metadata": {},
   "outputs": [
    {
     "data": {
      "text/plain": [
       "0    1050000\n",
       "1    3930000\n",
       "2     750000\n",
       "Name: price, dtype: object"
      ]
     },
     "execution_count": 158,
     "metadata": {},
     "output_type": "execute_result"
    }
   ],
   "source": [
    "data['price'] = data['price'].str.replace('$','')\n",
    "data['price'] = data['price'].str.replace('.','')\n",
    "data['price'].head(3)"
   ]
  },
  {
   "cell_type": "code",
   "execution_count": 159,
   "metadata": {},
   "outputs": [
    {
     "data": {
      "text/plain": [
       "0    1050000.0\n",
       "1    3930000.0\n",
       "2     750000.0\n",
       "Name: price, dtype: float64"
      ]
     },
     "execution_count": 159,
     "metadata": {},
     "output_type": "execute_result"
    }
   ],
   "source": [
    "#Se cambia el tipo a float64\n",
    "data['price'] = data['price'].astype('float')\n",
    "data['price'].head(3)"
   ]
  },
  {
   "cell_type": "markdown",
   "metadata": {},
   "source": [
    "Ahora se limpia el área"
   ]
  },
  {
   "cell_type": "code",
   "execution_count": 160,
   "metadata": {},
   "outputs": [
    {
     "data": {
      "text/plain": [
       "18390    164.34 m2\n",
       "18391     110.0 m2\n",
       "18392     106.0 m2\n",
       "18393     135.0 m2\n",
       "Name: surface, dtype: object"
      ]
     },
     "execution_count": 160,
     "metadata": {},
     "output_type": "execute_result"
    }
   ],
   "source": [
    "data['surface'].tail(4)"
   ]
  },
  {
   "cell_type": "markdown",
   "metadata": {},
   "source": [
    "Se deben eliminar los carácteres ' m2' al final del número, y luego cambiar el tipo a `float`."
   ]
  },
  {
   "cell_type": "code",
   "execution_count": 161,
   "metadata": {},
   "outputs": [
    {
     "data": {
      "text/plain": [
       "18390    164.34\n",
       "18391    110.00\n",
       "18392    106.00\n",
       "18393    135.00\n",
       "Name: surface, dtype: float64"
      ]
     },
     "execution_count": 161,
     "metadata": {},
     "output_type": "execute_result"
    }
   ],
   "source": [
    "data['surface'] = data['surface'].str.replace(' m2','')\n",
    "data['surface'] = data['surface'].astype('float')\n",
    "data['surface'].tail(4)"
   ]
  },
  {
   "cell_type": "markdown",
   "metadata": {},
   "source": [
    "Ahora se limpia el número de habitaciones"
   ]
  },
  {
   "cell_type": "code",
   "execution_count": 162,
   "metadata": {},
   "outputs": [
    {
     "data": {
      "text/plain": [
       "0    3\n",
       "1    3\n",
       "2    3\n",
       "Name: n_rooms, dtype: object"
      ]
     },
     "execution_count": 162,
     "metadata": {},
     "output_type": "execute_result"
    }
   ],
   "source": [
    "data['n_rooms'].head(3)"
   ]
  },
  {
   "cell_type": "markdown",
   "metadata": {},
   "source": [
    "Parece que fueran números enteros, pero el tipo de la columna es object"
   ]
  },
  {
   "cell_type": "code",
   "execution_count": 163,
   "metadata": {},
   "outputs": [
    {
     "data": {
      "text/plain": [
       "array(['3', '5', '4', '2', '1', nan, '5+', 3.0, 5.0, 4.0, 2.0, 1.0],\n",
       "      dtype=object)"
      ]
     },
     "execution_count": 163,
     "metadata": {},
     "output_type": "execute_result"
    }
   ],
   "source": [
    "#Se ven los valores de la columna\n",
    "data['n_rooms'].unique()"
   ]
  },
  {
   "cell_type": "markdown",
   "metadata": {},
   "source": [
    "Se observa que la columna tiene valores de tipo string y float. Más aún se ve que se podría cambiar inmediatamente el tipo a `float` sino existiera el valor `5+`."
   ]
  },
  {
   "cell_type": "code",
   "execution_count": 164,
   "metadata": {},
   "outputs": [
    {
     "data": {
      "text/plain": [
       "2      6571\n",
       "1      6271\n",
       "3      1351\n",
       "4      1198\n",
       "1.0    1040\n",
       "2.0     938\n",
       "5       862\n",
       "3.0      52\n",
       "5.0      36\n",
       "4.0      32\n",
       "5+        9\n",
       "Name: n_rooms, dtype: int64"
      ]
     },
     "execution_count": 164,
     "metadata": {},
     "output_type": "execute_result"
    }
   ],
   "source": [
    "#Se cuenta cuantas entradas hay de cada valor\n",
    "data['n_rooms'].value_counts()"
   ]
  },
  {
   "cell_type": "markdown",
   "metadata": {},
   "source": [
    "Se ve que solo son 9 las entradas con valor `5+`, por lo que es una parte infima del total del dataset que es de $18394$ entradas, simplemente se podrían eliminar. Pero como no se desea botar datos, se cambiará el valor `5+` por $6$, dado que es el entero mayor a 5 más cercano."
   ]
  },
  {
   "cell_type": "code",
   "execution_count": 165,
   "metadata": {},
   "outputs": [
    {
     "data": {
      "text/plain": [
       "array(['3', '5', '4', '2', '1', nan, 6, 3.0, 5.0, 4.0, 2.0, 1.0],\n",
       "      dtype=object)"
      ]
     },
     "execution_count": 165,
     "metadata": {},
     "output_type": "execute_result"
    }
   ],
   "source": [
    "data['n_rooms'] = data['n_rooms'].replace('5+',6)\n",
    "#Se reemplazan el valor que daba problemas, y se muestran los valores de las entradas\n",
    "data['n_rooms'].unique()"
   ]
  },
  {
   "cell_type": "code",
   "execution_count": 166,
   "metadata": {},
   "outputs": [
    {
     "data": {
      "text/plain": [
       "0    3.0\n",
       "1    3.0\n",
       "2    3.0\n",
       "Name: n_rooms, dtype: float64"
      ]
     },
     "execution_count": 166,
     "metadata": {},
     "output_type": "execute_result"
    }
   ],
   "source": [
    "#Como esta correcto, se puede cambiar el tipo de la columna\n",
    "data['n_rooms'] = data['n_rooms'].astype('float')\n",
    "data['n_rooms'].head(3)"
   ]
  },
  {
   "cell_type": "markdown",
   "metadata": {},
   "source": [
    "Por último se limpia el número de baños"
   ]
  },
  {
   "cell_type": "code",
   "execution_count": 167,
   "metadata": {},
   "outputs": [
    {
     "data": {
      "text/plain": [
       "18391    3\n",
       "18392    3\n",
       "18393    2\n",
       "Name: n_bath, dtype: object"
      ]
     },
     "execution_count": 167,
     "metadata": {},
     "output_type": "execute_result"
    }
   ],
   "source": [
    "data['n_bath'].tail(3)"
   ]
  },
  {
   "cell_type": "markdown",
   "metadata": {},
   "source": [
    "Nuevamente parecen ser enteros, pero el tipo es object"
   ]
  },
  {
   "cell_type": "code",
   "execution_count": 168,
   "metadata": {},
   "outputs": [
    {
     "data": {
      "text/plain": [
       "array(['2', '1', '4', '3', nan, '5', '5+', 2.0, 3.0, 4.0, 5.0, 1.0],\n",
       "      dtype=object)"
      ]
     },
     "execution_count": 168,
     "metadata": {},
     "output_type": "execute_result"
    }
   ],
   "source": [
    "#Se ven los valores de la columna\n",
    "data['n_bath'].unique()"
   ]
  },
  {
   "cell_type": "markdown",
   "metadata": {},
   "source": [
    "Nuevamente el error viene dado por `5+`, por lo que se procede de igual manera que en `n_rooms`."
   ]
  },
  {
   "cell_type": "code",
   "execution_count": 169,
   "metadata": {},
   "outputs": [
    {
     "data": {
      "text/plain": [
       "0    2.0\n",
       "1    2.0\n",
       "2    1.0\n",
       "Name: n_bath, dtype: float64"
      ]
     },
     "execution_count": 169,
     "metadata": {},
     "output_type": "execute_result"
    }
   ],
   "source": [
    "data['n_bath'] = data['n_bath'].replace('5+',6) #Se reemplazan '5+' por 6\n",
    "data['n_bath'] = data['n_bath'].astype('float') #Se cambia el tipo a float\n",
    "data['n_bath'].head(3)"
   ]
  },
  {
   "cell_type": "markdown",
   "metadata": {},
   "source": [
    "Finalmente se muestran nuevamente los tipos de las columnas"
   ]
  },
  {
   "cell_type": "code",
   "execution_count": 170,
   "metadata": {},
   "outputs": [
    {
     "data": {
      "text/plain": [
       "property_type|rent_type|location     object\n",
       "price                               float64\n",
       "n_rooms                             float64\n",
       "n_bath                              float64\n",
       "surface                             float64\n",
       "details                              object\n",
       "url                                  object\n",
       "metrocuadrado_index                 float64\n",
       "Furnished                            object\n",
       "dtype: object"
      ]
     },
     "execution_count": 170,
     "metadata": {},
     "output_type": "execute_result"
    }
   ],
   "source": [
    "data.dtypes"
   ]
  },
  {
   "cell_type": "markdown",
   "metadata": {},
   "source": [
    "#### B"
   ]
  },
  {
   "cell_type": "markdown",
   "metadata": {},
   "source": [
    "Se debe dividir la columna `property_type|rent_type|location` en 3 columnas distintas."
   ]
  },
  {
   "cell_type": "code",
   "execution_count": 171,
   "metadata": {},
   "outputs": [],
   "source": [
    "#Se hace una copia de la data por si se realiza un error\n",
    "copia_seguridad = data.copy()"
   ]
  },
  {
   "cell_type": "code",
   "execution_count": 151,
   "metadata": {},
   "outputs": [],
   "source": [
    "#Cuando algo salga mal correr esta celda\n",
    "data = copia_seguridad.copy()"
   ]
  },
  {
   "cell_type": "code",
   "execution_count": 172,
   "metadata": {},
   "outputs": [
    {
     "data": {
      "text/plain": [
       "0          Casa en Arriendo, LA SOLEDAD NORTE Bogotá D.C..\n",
       "1        Casa en Arriendo, CIUDAD SALITRE SUR-ORIENTAL ...\n",
       "2        Casa en Arriendo, VILLA DE LOS ALPES II SECTOR...\n",
       "3              Casa en Arriendo, PARIS GAITAN Bogotá D.C..\n",
       "4        Casa en Arriendo, BALCONES DE ORIENTE Bogotá D...\n",
       "                               ...                        \n",
       "18389    Apartamento en Arriendo, CHICO NORTE Bogotá D.C..\n",
       "18390    Apartamento en Arriendo, CHICO NORTE II Bogotá...\n",
       "18391    Apartamento en Venta Y Arriendo, CHICO NORTE B...\n",
       "18392    Apartamento en Arriendo, MOLINOS NORTE Bogotá ...\n",
       "18393       Apartamento en Arriendo, EL NOGAL Bogotá D.C..\n",
       "Name: property_type|rent_type|location, Length: 18394, dtype: object"
      ]
     },
     "execution_count": 172,
     "metadata": {},
     "output_type": "execute_result"
    }
   ],
   "source": [
    "#Se muestran unos pocos datos de esta columna\n",
    "data['property_type|rent_type|location']"
   ]
  },
  {
   "cell_type": "markdown",
   "metadata": {},
   "source": [
    "Se pueden deducir varias cosas:\n",
    "1. El tipo de propiedad es la primera palabra del string.\n",
    "2. El tipo de renta aparece después de la palabra 'en' y un espacio ' '.\n",
    "3. El lugar esta después de la coma."
   ]
  },
  {
   "cell_type": "markdown",
   "metadata": {},
   "source": [
    "En primer lugar se decide dividir el string en dos partes separadas por la coma."
   ]
  },
  {
   "cell_type": "code",
   "execution_count": 173,
   "metadata": {},
   "outputs": [
    {
     "data": {
      "text/html": [
       "<div>\n",
       "<style scoped>\n",
       "    .dataframe tbody tr th:only-of-type {\n",
       "        vertical-align: middle;\n",
       "    }\n",
       "\n",
       "    .dataframe tbody tr th {\n",
       "        vertical-align: top;\n",
       "    }\n",
       "\n",
       "    .dataframe thead th {\n",
       "        text-align: right;\n",
       "    }\n",
       "</style>\n",
       "<table border=\"1\" class=\"dataframe\">\n",
       "  <thead>\n",
       "    <tr style=\"text-align: right;\">\n",
       "      <th></th>\n",
       "      <th>0</th>\n",
       "      <th>1</th>\n",
       "    </tr>\n",
       "  </thead>\n",
       "  <tbody>\n",
       "    <tr>\n",
       "      <th>0</th>\n",
       "      <td>Casa en Arriendo</td>\n",
       "      <td>LA SOLEDAD NORTE Bogotá D.C..</td>\n",
       "    </tr>\n",
       "    <tr>\n",
       "      <th>1</th>\n",
       "      <td>Casa en Arriendo</td>\n",
       "      <td>CIUDAD SALITRE SUR-ORIENTAL Bogotá D.C..</td>\n",
       "    </tr>\n",
       "    <tr>\n",
       "      <th>2</th>\n",
       "      <td>Casa en Arriendo</td>\n",
       "      <td>VILLA DE LOS ALPES II SECTOR Bogotá D.C..</td>\n",
       "    </tr>\n",
       "  </tbody>\n",
       "</table>\n",
       "</div>"
      ],
      "text/plain": [
       "                  0                                           1\n",
       "0  Casa en Arriendo               LA SOLEDAD NORTE Bogotá D.C..\n",
       "1  Casa en Arriendo    CIUDAD SALITRE SUR-ORIENTAL Bogotá D.C..\n",
       "2  Casa en Arriendo   VILLA DE LOS ALPES II SECTOR Bogotá D.C.."
      ]
     },
     "execution_count": 173,
     "metadata": {},
     "output_type": "execute_result"
    }
   ],
   "source": [
    "new_columns = data['property_type|rent_type|location'].str.split(pat=',', expand=True)\n",
    "new_columns.head(3)"
   ]
  },
  {
   "cell_type": "code",
   "execution_count": 174,
   "metadata": {},
   "outputs": [
    {
     "data": {
      "text/html": [
       "<div>\n",
       "<style scoped>\n",
       "    .dataframe tbody tr th:only-of-type {\n",
       "        vertical-align: middle;\n",
       "    }\n",
       "\n",
       "    .dataframe tbody tr th {\n",
       "        vertical-align: top;\n",
       "    }\n",
       "\n",
       "    .dataframe thead th {\n",
       "        text-align: right;\n",
       "    }\n",
       "</style>\n",
       "<table border=\"1\" class=\"dataframe\">\n",
       "  <thead>\n",
       "    <tr style=\"text-align: right;\">\n",
       "      <th></th>\n",
       "      <th>price</th>\n",
       "      <th>n_rooms</th>\n",
       "      <th>n_bath</th>\n",
       "      <th>surface</th>\n",
       "      <th>details</th>\n",
       "      <th>url</th>\n",
       "      <th>metrocuadrado_index</th>\n",
       "      <th>Furnished</th>\n",
       "      <th>property_type|rent_type</th>\n",
       "      <th>location</th>\n",
       "    </tr>\n",
       "  </thead>\n",
       "  <tbody>\n",
       "    <tr>\n",
       "      <th>0</th>\n",
       "      <td>1050000.0</td>\n",
       "      <td>3.0</td>\n",
       "      <td>2.0</td>\n",
       "      <td>63.0</td>\n",
       "      <td>Excelente casa cerca de la calle 80 y Avenida ...</td>\n",
       "      <td>https://www.metrocuadrado.com/inmueble/arriend...</td>\n",
       "      <td>25.6</td>\n",
       "      <td>No</td>\n",
       "      <td>Casa en Arriendo</td>\n",
       "      <td>LA SOLEDAD NORTE Bogotá D.C..</td>\n",
       "    </tr>\n",
       "    <tr>\n",
       "      <th>1</th>\n",
       "      <td>3930000.0</td>\n",
       "      <td>3.0</td>\n",
       "      <td>2.0</td>\n",
       "      <td>100.0</td>\n",
       "      <td>Se arrienda casa bonita totalmente amoblada co...</td>\n",
       "      <td>https://www.metrocuadrado.com/inmueble/arriend...</td>\n",
       "      <td>57.3</td>\n",
       "      <td>No</td>\n",
       "      <td>Casa en Arriendo</td>\n",
       "      <td>CIUDAD SALITRE SUR-ORIENTAL Bogotá D.C..</td>\n",
       "    </tr>\n",
       "    <tr>\n",
       "      <th>2</th>\n",
       "      <td>750000.0</td>\n",
       "      <td>3.0</td>\n",
       "      <td>1.0</td>\n",
       "      <td>90.0</td>\n",
       "      <td>CASA DE TRES NIVELES TRES ALCOBAS SALA COMEDOR...</td>\n",
       "      <td>https://www.metrocuadrado.com/inmueble/arriend...</td>\n",
       "      <td>12.2</td>\n",
       "      <td>No</td>\n",
       "      <td>Casa en Arriendo</td>\n",
       "      <td>VILLA DE LOS ALPES II SECTOR Bogotá D.C..</td>\n",
       "    </tr>\n",
       "  </tbody>\n",
       "</table>\n",
       "</div>"
      ],
      "text/plain": [
       "       price  n_rooms  n_bath  surface  \\\n",
       "0  1050000.0      3.0     2.0     63.0   \n",
       "1  3930000.0      3.0     2.0    100.0   \n",
       "2   750000.0      3.0     1.0     90.0   \n",
       "\n",
       "                                             details  \\\n",
       "0  Excelente casa cerca de la calle 80 y Avenida ...   \n",
       "1  Se arrienda casa bonita totalmente amoblada co...   \n",
       "2  CASA DE TRES NIVELES TRES ALCOBAS SALA COMEDOR...   \n",
       "\n",
       "                                                 url  metrocuadrado_index  \\\n",
       "0  https://www.metrocuadrado.com/inmueble/arriend...                 25.6   \n",
       "1  https://www.metrocuadrado.com/inmueble/arriend...                 57.3   \n",
       "2  https://www.metrocuadrado.com/inmueble/arriend...                 12.2   \n",
       "\n",
       "  Furnished property_type|rent_type  \\\n",
       "0        No        Casa en Arriendo   \n",
       "1        No        Casa en Arriendo   \n",
       "2        No        Casa en Arriendo   \n",
       "\n",
       "                                     location  \n",
       "0               LA SOLEDAD NORTE Bogotá D.C..  \n",
       "1    CIUDAD SALITRE SUR-ORIENTAL Bogotá D.C..  \n",
       "2   VILLA DE LOS ALPES II SECTOR Bogotá D.C..  "
      ]
     },
     "execution_count": 174,
     "metadata": {},
     "output_type": "execute_result"
    }
   ],
   "source": [
    "#Se insertan las columnas en la data \n",
    "data[['property_type|rent_type', 'location']] = new_columns\n",
    "\n",
    "#Se elimina la columna original\n",
    "data.drop('property_type|rent_type|location', axis=1, inplace=True)\n",
    "\n",
    "data.head(3)"
   ]
  },
  {
   "cell_type": "markdown",
   "metadata": {},
   "source": [
    "Ahora se divide la columna `property_type|rent_type` en dos columnas más."
   ]
  },
  {
   "cell_type": "code",
   "execution_count": 175,
   "metadata": {},
   "outputs": [
    {
     "data": {
      "text/html": [
       "<div>\n",
       "<style scoped>\n",
       "    .dataframe tbody tr th:only-of-type {\n",
       "        vertical-align: middle;\n",
       "    }\n",
       "\n",
       "    .dataframe tbody tr th {\n",
       "        vertical-align: top;\n",
       "    }\n",
       "\n",
       "    .dataframe thead th {\n",
       "        text-align: right;\n",
       "    }\n",
       "</style>\n",
       "<table border=\"1\" class=\"dataframe\">\n",
       "  <thead>\n",
       "    <tr style=\"text-align: right;\">\n",
       "      <th></th>\n",
       "      <th>0</th>\n",
       "      <th>1</th>\n",
       "    </tr>\n",
       "  </thead>\n",
       "  <tbody>\n",
       "    <tr>\n",
       "      <th>0</th>\n",
       "      <td>Casa</td>\n",
       "      <td>Arriendo</td>\n",
       "    </tr>\n",
       "    <tr>\n",
       "      <th>1</th>\n",
       "      <td>Casa</td>\n",
       "      <td>Arriendo</td>\n",
       "    </tr>\n",
       "    <tr>\n",
       "      <th>2</th>\n",
       "      <td>Casa</td>\n",
       "      <td>Arriendo</td>\n",
       "    </tr>\n",
       "  </tbody>\n",
       "</table>\n",
       "</div>"
      ],
      "text/plain": [
       "       0         1\n",
       "0  Casa   Arriendo\n",
       "1  Casa   Arriendo\n",
       "2  Casa   Arriendo"
      ]
     },
     "execution_count": 175,
     "metadata": {},
     "output_type": "execute_result"
    }
   ],
   "source": [
    "new_columns = data['property_type|rent_type'].str.split(pat='en ', expand=True)\n",
    "new_columns.head(3)"
   ]
  },
  {
   "cell_type": "code",
   "execution_count": 176,
   "metadata": {},
   "outputs": [
    {
     "data": {
      "text/html": [
       "<div>\n",
       "<style scoped>\n",
       "    .dataframe tbody tr th:only-of-type {\n",
       "        vertical-align: middle;\n",
       "    }\n",
       "\n",
       "    .dataframe tbody tr th {\n",
       "        vertical-align: top;\n",
       "    }\n",
       "\n",
       "    .dataframe thead th {\n",
       "        text-align: right;\n",
       "    }\n",
       "</style>\n",
       "<table border=\"1\" class=\"dataframe\">\n",
       "  <thead>\n",
       "    <tr style=\"text-align: right;\">\n",
       "      <th></th>\n",
       "      <th>price</th>\n",
       "      <th>n_rooms</th>\n",
       "      <th>n_bath</th>\n",
       "      <th>surface</th>\n",
       "      <th>details</th>\n",
       "      <th>url</th>\n",
       "      <th>metrocuadrado_index</th>\n",
       "      <th>Furnished</th>\n",
       "      <th>location</th>\n",
       "      <th>property</th>\n",
       "      <th>rent</th>\n",
       "    </tr>\n",
       "  </thead>\n",
       "  <tbody>\n",
       "    <tr>\n",
       "      <th>0</th>\n",
       "      <td>1050000.0</td>\n",
       "      <td>3.0</td>\n",
       "      <td>2.0</td>\n",
       "      <td>63.0</td>\n",
       "      <td>Excelente casa cerca de la calle 80 y Avenida ...</td>\n",
       "      <td>https://www.metrocuadrado.com/inmueble/arriend...</td>\n",
       "      <td>25.6</td>\n",
       "      <td>No</td>\n",
       "      <td>LA SOLEDAD NORTE Bogotá D.C..</td>\n",
       "      <td>Casa</td>\n",
       "      <td>Arriendo</td>\n",
       "    </tr>\n",
       "    <tr>\n",
       "      <th>1</th>\n",
       "      <td>3930000.0</td>\n",
       "      <td>3.0</td>\n",
       "      <td>2.0</td>\n",
       "      <td>100.0</td>\n",
       "      <td>Se arrienda casa bonita totalmente amoblada co...</td>\n",
       "      <td>https://www.metrocuadrado.com/inmueble/arriend...</td>\n",
       "      <td>57.3</td>\n",
       "      <td>No</td>\n",
       "      <td>CIUDAD SALITRE SUR-ORIENTAL Bogotá D.C..</td>\n",
       "      <td>Casa</td>\n",
       "      <td>Arriendo</td>\n",
       "    </tr>\n",
       "    <tr>\n",
       "      <th>2</th>\n",
       "      <td>750000.0</td>\n",
       "      <td>3.0</td>\n",
       "      <td>1.0</td>\n",
       "      <td>90.0</td>\n",
       "      <td>CASA DE TRES NIVELES TRES ALCOBAS SALA COMEDOR...</td>\n",
       "      <td>https://www.metrocuadrado.com/inmueble/arriend...</td>\n",
       "      <td>12.2</td>\n",
       "      <td>No</td>\n",
       "      <td>VILLA DE LOS ALPES II SECTOR Bogotá D.C..</td>\n",
       "      <td>Casa</td>\n",
       "      <td>Arriendo</td>\n",
       "    </tr>\n",
       "  </tbody>\n",
       "</table>\n",
       "</div>"
      ],
      "text/plain": [
       "       price  n_rooms  n_bath  surface  \\\n",
       "0  1050000.0      3.0     2.0     63.0   \n",
       "1  3930000.0      3.0     2.0    100.0   \n",
       "2   750000.0      3.0     1.0     90.0   \n",
       "\n",
       "                                             details  \\\n",
       "0  Excelente casa cerca de la calle 80 y Avenida ...   \n",
       "1  Se arrienda casa bonita totalmente amoblada co...   \n",
       "2  CASA DE TRES NIVELES TRES ALCOBAS SALA COMEDOR...   \n",
       "\n",
       "                                                 url  metrocuadrado_index  \\\n",
       "0  https://www.metrocuadrado.com/inmueble/arriend...                 25.6   \n",
       "1  https://www.metrocuadrado.com/inmueble/arriend...                 57.3   \n",
       "2  https://www.metrocuadrado.com/inmueble/arriend...                 12.2   \n",
       "\n",
       "  Furnished                                    location property      rent  \n",
       "0        No               LA SOLEDAD NORTE Bogotá D.C..    Casa   Arriendo  \n",
       "1        No    CIUDAD SALITRE SUR-ORIENTAL Bogotá D.C..    Casa   Arriendo  \n",
       "2        No   VILLA DE LOS ALPES II SECTOR Bogotá D.C..    Casa   Arriendo  "
      ]
     },
     "execution_count": 176,
     "metadata": {},
     "output_type": "execute_result"
    }
   ],
   "source": [
    "#Se insertan las columnas en la data y se elimina la columna original\n",
    "data[['property','rent']] = new_columns\n",
    "data.drop('property_type|rent_type', axis=1, inplace=True)\n",
    "data.head(3)"
   ]
  },
  {
   "cell_type": "markdown",
   "metadata": {},
   "source": [
    "Por último se revisa que no hayan espacios vacíos al inicio o final de las nuevas columnas."
   ]
  },
  {
   "cell_type": "code",
   "execution_count": 178,
   "metadata": {
    "scrolled": true
   },
   "outputs": [
    {
     "name": "stdout",
     "output_type": "stream",
     "text": [
      " LA SOLEDAD NORTE Bogotá D.C..\n",
      "Casa \n",
      "Arriendo\n"
     ]
    }
   ],
   "source": [
    "print(data['location'][0])\n",
    "print(data['property'][0])\n",
    "print(data['rent'][0])"
   ]
  },
  {
   "cell_type": "markdown",
   "metadata": {},
   "source": [
    "Tanto location como property tienen espacios, por lo que se utiliza strip para eliminarlos."
   ]
  },
  {
   "cell_type": "code",
   "execution_count": 182,
   "metadata": {},
   "outputs": [],
   "source": [
    "data['location'] = data['location'].str.strip()\n",
    "data['property'] = data['property'].str.strip()"
   ]
  },
  {
   "cell_type": "markdown",
   "metadata": {},
   "source": [
    "### Parte 3"
   ]
  },
  {
   "cell_type": "markdown",
   "metadata": {},
   "source": []
  },
  {
   "cell_type": "markdown",
   "metadata": {},
   "source": [
    "### Parte 4"
   ]
  },
  {
   "cell_type": "markdown",
   "metadata": {},
   "source": [
    "### Parte 5"
   ]
  },
  {
   "cell_type": "markdown",
   "metadata": {},
   "source": [
    "### Parte 6"
   ]
  },
  {
   "cell_type": "markdown",
   "metadata": {},
   "source": [
    "## P2"
   ]
  },
  {
   "cell_type": "code",
   "execution_count": null,
   "metadata": {},
   "outputs": [],
   "source": []
  },
  {
   "cell_type": "markdown",
   "metadata": {},
   "source": [
    "# P3 "
   ]
  },
  {
   "cell_type": "markdown",
   "metadata": {},
   "source": [
    "## Implementación"
   ]
  },
  {
   "cell_type": "markdown",
   "metadata": {},
   "source": [
    "### Parte 1"
   ]
  },
  {
   "cell_type": "code",
   "execution_count": 213,
   "metadata": {},
   "outputs": [],
   "source": [
    "from sklearn.base import BaseEstimator as BE\n",
    "from sklearn.base import RegressorMixin as RM\n",
    "import numpy as np\n",
    "\n",
    "class RegresionBayesianaEmpirica(BE,RM):\n",
    "    \n",
    "    def __init__(self,alpha,beta,tol=1e-15,maxiter=100):\n",
    "        self.set_params(alpha=alpha,beta=beta,tol=tol,maxiter=maxiter)\n",
    "        \n",
    "    def get_posteriori(self,X,y,alpha,beta):\n",
    "        N,d = X.shape\n",
    "        try:\n",
    "            S_N = np.linalg.inv(alpha*np.eye(d) + beta*np.dot(X.T,X)) # dim dxd\n",
    "        except LinAlgError:\n",
    "            print('Matriz S_N no invertible')\n",
    "        m_N = beta*np.dot(S_N,np.dot(X.T,y)) # dim dx1\n",
    "\n",
    "        return m_N, S_N\n",
    "    \n",
    "    \n",
    "    def fit(self,X,y,i=0,verbose=True):\n",
    "        i += 1\n",
    "        if verbose:\n",
    "            print('Iteracion',i)\n",
    "            print('Valores actuales: alpha=',self.alpha,' beta=',self.beta)\n",
    "        if i <= self.maxiter:\n",
    "            N,d = X.shape\n",
    "            eigen_val, eigen_vec = np.linalg.eig(self.beta*np.dot(X.T,X))\n",
    "            eigen_val = np.real_if_close(eigen_val,tol=1)\n",
    "            gamma = np.sum(eigen_val/(self.alpha + eigen_val))\n",
    "            m_N, S_N = self.get_posteriori(X,y,self.alpha,self.beta)\n",
    "        \n",
    "            new_alpha = gamma/(np.dot(m_N.T,m_N))\n",
    "            new_beta = (N-gamma)/(np.sum((y-np.dot(m_N.T,X.T))**2))\n",
    "        \n",
    "            if np.abs(self.alpha - new_alpha) < self.tol and np.abs(self.beta - new_beta) < self.tol:\n",
    "                self.alpha = new_alpha\n",
    "                self.beta = new_beta\n",
    "                self.m_N = m_N\n",
    "                self.S_N = S_N\n",
    "                if verbose:\n",
    "                    print('Valores finales: alpha=',self.alpha,' beta=',self.beta)\n",
    "            else:\n",
    "                self.alpha = new_alpha\n",
    "                self.beta = new_beta\n",
    "                self.m_N = m_N\n",
    "                self.S_N = S_N\n",
    "                self.fit(X,y,i)\n",
    "                \n",
    "    \n",
    "    def predict(self,X_,return_std=False):\n",
    "        y_ = np.dot(X_,self.m_N)\n",
    "        y_std = np.sqrt((1/self.beta) + np.diag(np.dot(X_,np.dot(self.S_N,X_.T))))\n",
    "        \n",
    "        if return_std:\n",
    "            return (y_,y_std)\n",
    "        return y_"
   ]
  },
  {
   "cell_type": "markdown",
   "metadata": {},
   "source": [
    "### Parte 2"
   ]
  },
  {
   "cell_type": "code",
   "execution_count": 214,
   "metadata": {},
   "outputs": [],
   "source": [
    "import pandas as pd\n",
    "import numpy as np\n",
    "\n",
    "#Datos para prueba\n",
    "df = pd.read_csv('data_2.csv')"
   ]
  },
  {
   "cell_type": "code",
   "execution_count": 215,
   "metadata": {},
   "outputs": [],
   "source": [
    "df.replace([np.inf, -np.inf], np.nan, inplace=True)\n",
    "df.dropna(inplace=True)\n",
    "df.drop(df[df.surface==0].index, inplace=True)\n",
    "df.drop(['price','surface','url','details','personas','property'],axis=1,inplace=True)#"
   ]
  },
  {
   "cell_type": "code",
   "execution_count": 216,
   "metadata": {},
   "outputs": [
    {
     "name": "stdout",
     "output_type": "stream",
     "text": [
      "<class 'pandas.core.frame.DataFrame'>\n",
      "Int64Index: 15773 entries, 3 to 18018\n",
      "Data columns (total 19 columns):\n",
      "n_rooms                   15773 non-null float64\n",
      "n_bath                    15773 non-null float64\n",
      "metrocuadrado_index       15773 non-null float64\n",
      "Garajes                   15773 non-null int64\n",
      "tipo de producto          15773 non-null int64\n",
      "trabajo_ninos             15773 non-null float64\n",
      "trabajoamp_ninos          15773 non-null float64\n",
      "jovenes_nini              15773 non-null float64\n",
      "indice_envegecimiento     15773 non-null float64\n",
      "jefe_mujer                15773 non-null float64\n",
      "adultos_mayores_pobres    15773 non-null float64\n",
      "indice_inseguridad        15773 non-null float64\n",
      "areas_verdes_perc         15773 non-null float64\n",
      "pob_density               15773 non-null float64\n",
      "Precio m2                 15773 non-null float64\n",
      "location                  15773 non-null object\n",
      "rent                      15773 non-null object\n",
      "Furnished                 15773 non-null object\n",
      "UPZRecat                  15773 non-null int64\n",
      "dtypes: float64(13), int64(3), object(3)\n",
      "memory usage: 2.4+ MB\n"
     ]
    }
   ],
   "source": [
    "df.info()"
   ]
  },
  {
   "cell_type": "code",
   "execution_count": 217,
   "metadata": {},
   "outputs": [],
   "source": [
    "df_y = df['Precio m2']#.to_numpy()\n",
    "df_X = df.drop('Precio m2',axis=1)#.to_numpy()\n",
    "\n",
    "#num_cols = df_X.select_dtypes(include=['int64', 'float64']).columns\n",
    "#cat_cols = df_X.select_dtypes(include=['object']).columns\n",
    "float_cols = ['pob_density']\n",
    "percentage_cols = ['n_rooms','n_bath','metrocuadrado_index','Garajes','trabajo_ninos','trabajoamp_ninos',\n",
    "                   'jovenes_nini','indice_envegecimiento','jefe_mujer','adultos_mayores_pobres','indice_inseguridad',\n",
    "                   'areas_verdes_perc']\n",
    "cat_cols = ['Furnished','location','rent','tipo de producto','UPZRecat']"
   ]
  },
  {
   "cell_type": "code",
   "execution_count": 218,
   "metadata": {},
   "outputs": [],
   "source": [
    "from sklearn.preprocessing import StandardScaler, MinMaxScaler, OneHotEncoder, PolynomialFeatures, FunctionTransformer\n",
    "from sklearn.compose import ColumnTransformer\n",
    "from sklearn.pipeline import Pipeline\n",
    "\n",
    "#cat pipe\n",
    "cat_pipe = Pipeline(steps=[('ordinal', OneHotEncoder(handle_unknown='ignore'))])\n",
    "\n",
    "#num pipe\n",
    "#num_pipe = Pipeline(steps=[('poly',PolynomialFeatures(degree=3)),('scaler',StandardScaler())])\n",
    "float_pipe = Pipeline(steps=[('scaler',StandardScaler()),('poly',PolynomialFeatures(degree=3))])\n",
    "percentage_pipe = Pipeline(steps=[('scaler',MinMaxScaler()),('poly',PolynomialFeatures(degree=3))])\n",
    "\n",
    "#Se diferencian columnas numéricas y categóricas\n",
    "prep = ColumnTransformer(transformers=[('flt',float_pipe,float_cols),('perc',percentage_pipe,percentage_cols),('cat',cat_pipe,cat_cols)])"
   ]
  },
  {
   "cell_type": "markdown",
   "metadata": {},
   "source": [
    "### Parte 3"
   ]
  },
  {
   "cell_type": "code",
   "execution_count": 219,
   "metadata": {},
   "outputs": [],
   "source": [
    "random_state = 7\n",
    "def run(df_X,df_y,mode='all'):\n",
    "    from sklearn.model_selection import train_test_split\n",
    "    import numpy as np\n",
    "    import pickle\n",
    "    \n",
    "    alpha_grid = np.linspace(1e-10,1e-5,3,endpoint=True)\n",
    "    beta_grid = np.linspace(1e-10,1e-5,3,endpoint=True)\n",
    "    \n",
    "    actual_R2 = 0\n",
    "    actual_RMSE = 0\n",
    "    \n",
    "    X_train, X_test, y_train, y_test = train_test_split(df_X, df_y, test_size=0.2, random_state=random_state)\n",
    "    def run_single(pipeline):\n",
    "        pipeline.fit(X_train,y_train)\n",
    "        print('Fit terminado', '\\n')\n",
    "        y_pred = pipeline.predict(X_test) \n",
    "\n",
    "        R_2 = pipeline.score(X_test, y_test)\n",
    "        RMSE = np.sqrt(np.mean((y_pred-y_test)**2))\n",
    "        return R_2, RMSE\n",
    "    \n",
    "    best_alpha = alpha_grid[0]\n",
    "    best_beta = beta_grid[0]\n",
    "    for alpha in alpha_grid:\n",
    "        for beta in beta_grid:\n",
    "            Tubo = Pipeline(steps=[('prep',prep),('clf', RegresionBayesianaEmpirica(alpha,beta))])\n",
    "            print(\"Empezando fit: alpha y beta iniciales\",[alpha,beta])\n",
    "            R_2, RMSE = run_single(Tubo)\n",
    "            if R_2 > actual_R2:\n",
    "                actual_R2 = R_2\n",
    "                actual_RMSE = RMSE\n",
    "                best_alpha = alpha\n",
    "                best_beta = beta\n",
    "    \n",
    "    best_fit = Pipeline(steps=[('prep',prep),('clf', RegresionBayesianaEmpirica(best_alpha,best_beta))])\n",
    "    print(\"Reentrenando el mejor modelo encontrado\")\n",
    "    best_fit.fit(X_train,y_train)\n",
    "    if mode=='all':\n",
    "        filename = 'modelo.pkl'\n",
    "        pickle.dump(best_fit,open(filename,'wb'))\n",
    "    elif mode=='EDA':\n",
    "        filename = 'modelo_EDA.pkl'\n",
    "        pickle.dump(best_fit,open(filename,'wb'))\n",
    "    else:\n",
    "        raise InvalidMode('Modo de ejecución no válido')\n",
    "    \n",
    "    print('RMSE:',actual_RMSE,' R_2:',actual_R2)"
   ]
  },
  {
   "cell_type": "code",
   "execution_count": 220,
   "metadata": {},
   "outputs": [
    {
     "name": "stdout",
     "output_type": "stream",
     "text": [
      "Empezando fit: alpha y beta iniciales [1e-10, 1e-10]\n",
      "Iteracion 1\n",
      "Valores actuales: alpha= 1e-10  beta= 1e-10\n",
      "Iteracion 2\n",
      "Valores actuales: alpha= 3.8290427430317627e-08  beta= 1.9628446636610682e-08\n",
      "Iteracion 3\n",
      "Valores actuales: alpha= 5.247242747453211e-08  beta= 1.9546591661525524e-08\n",
      "Iteracion 4\n",
      "Valores actuales: alpha= 5.975830318299633e-08  beta= 1.9499364217949887e-08\n",
      "Iteracion 5\n",
      "Valores actuales: alpha= 6.280197087432148e-08  beta= 1.9477840885152242e-08\n",
      "Iteracion 6\n",
      "Valores actuales: alpha= 6.396641567401383e-08  beta= 1.9469257009780898e-08\n",
      "Iteracion 7\n",
      "Valores actuales: alpha= 6.439708170090721e-08  beta= 1.9466028688623654e-08\n",
      "Iteracion 8\n",
      "Valores actuales: alpha= 6.455437767669053e-08  beta= 1.9464842112764012e-08\n",
      "Iteracion 9\n",
      "Valores actuales: alpha= 6.461156572344813e-08  beta= 1.9464409706787802e-08\n",
      "Iteracion 10\n",
      "Valores actuales: alpha= 6.463232296171194e-08  beta= 1.946425262580393e-08\n",
      "Iteracion 11\n",
      "Valores actuales: alpha= 6.463985255151921e-08  beta= 1.9464195627895717e-08\n",
      "Iteracion 12\n",
      "Valores actuales: alpha= 6.464258327568074e-08  beta= 1.9464174954401025e-08\n",
      "Iteracion 13\n",
      "Valores actuales: alpha= 6.464357353685509e-08  beta= 1.946416745712683e-08\n",
      "Iteracion 14\n",
      "Valores actuales: alpha= 6.464393263179123e-08  beta= 1.9464164738376683e-08\n",
      "Iteracion 15\n",
      "Valores actuales: alpha= 6.464406284770339e-08  beta= 1.9464163752491392e-08\n",
      "Iteracion 16\n",
      "Valores actuales: alpha= 6.464411006678993e-08  beta= 1.9464163394987524e-08\n",
      "Iteracion 17\n",
      "Valores actuales: alpha= 6.464412718941081e-08  beta= 1.9464163265349105e-08\n",
      "Iteracion 18\n",
      "Valores actuales: alpha= 6.464413339841624e-08  beta= 1.9464163218339607e-08\n",
      "Iteracion 19\n",
      "Valores actuales: alpha= 6.464413564993389e-08  beta= 1.9464163201292963e-08\n",
      "Valores finales: alpha= 6.46441364663453e-08  beta= 1.9464163195111767e-08\n",
      "Fit terminado \n",
      "\n",
      "Empezando fit: alpha y beta iniciales [1e-10, 5.0000500000000005e-06]\n",
      "Iteracion 1\n",
      "Valores actuales: alpha= 1e-10  beta= 5.0000500000000005e-06\n",
      "Iteracion 2\n",
      "Valores actuales: alpha= 5.7349819610391773e-11  beta= 1.993187120194016e-08\n",
      "Iteracion 3\n",
      "Valores actuales: alpha= 1.0266284613531384e-09  beta= 1.9924071750504864e-08\n",
      "Iteracion 4\n",
      "Valores actuales: alpha= 6.368304276811286e-09  beta= 1.9857470234849508e-08\n",
      "Iteracion 5\n",
      "Valores actuales: alpha= 2.0152590293095545e-08  beta= 1.9736317906138523e-08\n",
      "Iteracion 6\n",
      "Valores actuales: alpha= 3.86998945880282e-08  beta= 1.9626166461232822e-08\n",
      "Iteracion 7\n",
      "Valores actuales: alpha= 5.271482191758471e-08  beta= 1.954509917089893e-08\n",
      "Iteracion 8\n",
      "Valores actuales: alpha= 5.986600851102172e-08  beta= 1.9498623372533134e-08\n",
      "Iteracion 9\n",
      "Valores actuales: alpha= 6.28441733733417e-08  beta= 1.947753336782008e-08\n",
      "Iteracion 10\n",
      "Valores actuales: alpha= 6.398216305712194e-08  beta= 1.946913948729609e-08\n",
      "Iteracion 11\n",
      "Valores actuales: alpha= 6.440285191194366e-08  beta= 1.9465985231737106e-08\n",
      "Iteracion 12\n",
      "Valores actuales: alpha= 6.455647802197922e-08  beta= 1.9464826241281084e-08\n",
      "Iteracion 13\n",
      "Valores actuales: alpha= 6.461232840029875e-08  beta= 1.946440393646342e-08\n",
      "Iteracion 14\n",
      "Valores actuales: alpha= 6.463259966201773e-08  beta= 1.9464250531387752e-08\n",
      "Iteracion 15\n",
      "Valores actuales: alpha= 6.463995290682071e-08  beta= 1.9464194868157526e-08\n",
      "Iteracion 16\n",
      "Valores actuales: alpha= 6.464261966887264e-08  beta= 1.9464174678870772e-08\n",
      "Iteracion 17\n",
      "Valores actuales: alpha= 6.464358673418346e-08  beta= 1.9464167357208678e-08\n",
      "Iteracion 18\n",
      "Valores actuales: alpha= 6.464393741743663e-08  beta= 1.946416470214385e-08\n",
      "Iteracion 19\n",
      "Valores actuales: alpha= 6.464406458312463e-08  beta= 1.9464163739352223e-08\n",
      "Iteracion 20\n",
      "Valores actuales: alpha= 6.464411069607092e-08  beta= 1.9464163390223123e-08\n",
      "Iteracion 21\n",
      "Valores actuales: alpha= 6.46441274176513e-08  beta= 1.9464163263621055e-08\n",
      "Iteracion 22\n",
      "Valores actuales: alpha= 6.464413348115088e-08  beta= 1.946416321771321e-08\n",
      "Iteracion 23\n",
      "Valores actuales: alpha= 6.464413567995466e-08  beta= 1.946416320106567e-08\n",
      "Valores finales: alpha= 6.46441364771939e-08  beta= 1.9464163195029624e-08\n",
      "Fit terminado \n",
      "\n",
      "Empezando fit: alpha y beta iniciales [1e-10, 1e-05]\n",
      "Iteracion 1\n",
      "Valores actuales: alpha= 1e-10  beta= 1e-05\n",
      "Iteracion 2\n",
      "Valores actuales: alpha= 4.527801176934891e-11  beta= 1.9931133205165777e-08\n",
      "Iteracion 3\n",
      "Valores actuales: alpha= 8.87643674327774e-10  beta= 1.9925654958328065e-08\n",
      "Iteracion 4\n",
      "Valores actuales: alpha= 5.8167497805232075e-09  beta= 1.9863695383260026e-08\n",
      "Iteracion 5\n",
      "Valores actuales: alpha= 1.9061721263587597e-08  beta= 1.9743931760772947e-08\n",
      "Iteracion 6\n",
      "Valores actuales: alpha= 3.76063516969284e-08  beta= 1.9632254891801138e-08\n",
      "Iteracion 7\n",
      "Valores actuales: alpha= 5.2062383326514955e-08  beta= 1.954910608538082e-08\n",
      "Iteracion 8\n",
      "Valores actuales: alpha= 5.957501044615482e-08  beta= 1.9500621699953907e-08\n",
      "Iteracion 9\n",
      "Valores actuales: alpha= 6.272997712894761e-08  beta= 1.947836487536563e-08\n",
      "Iteracion 10\n",
      "Valores actuales: alpha= 6.393952761266218e-08  beta= 1.94694575842704e-08\n",
      "Iteracion 11\n",
      "Valores actuales: alpha= 6.438722599595541e-08  beta= 1.946610290187508e-08\n",
      "Iteracion 12\n",
      "Valores actuales: alpha= 6.45507897837786e-08  beta= 1.9464869223386984e-08\n",
      "Iteracion 13\n",
      "Valores actuales: alpha= 6.461026283097583e-08  beta= 1.9464419564099534e-08\n",
      "Iteracion 14\n",
      "Valores actuales: alpha= 6.463185026274793e-08  beta= 1.9464256203755493e-08\n",
      "Iteracion 15\n",
      "Valores actuales: alpha= 6.463968110921752e-08  beta= 1.946419692579306e-08\n",
      "Iteracion 16\n",
      "Valores actuales: alpha= 6.46425211029106e-08  beta= 1.9464175425106104e-08\n",
      "Iteracion 17\n",
      "Valores actuales: alpha= 6.464355099119932e-08  beta= 1.9464167627821944e-08\n",
      "Iteracion 18\n",
      "Valores actuales: alpha= 6.464392445628117e-08  beta= 1.9464164800274675e-08\n",
      "Iteracion 19\n",
      "Valores actuales: alpha= 6.464405988313766e-08  beta= 1.9464163774936623e-08\n",
      "Iteracion 20\n",
      "Valores actuales: alpha= 6.464410899177529e-08  beta= 1.946416340312665e-08\n",
      "Iteracion 21\n",
      "Valores actuales: alpha= 6.46441267995536e-08  beta= 1.9464163268300787e-08\n",
      "Iteracion 22\n",
      "Valores actuales: alpha= 6.4644133257122e-08  beta= 1.9464163219409373e-08\n",
      "Iteracion 23\n",
      "Valores actuales: alpha= 6.464413559875787e-08  beta= 1.9464163201680428e-08\n",
      "Valores finales: alpha= 6.464413644774517e-08  beta= 1.9464163195252586e-08\n",
      "Fit terminado \n",
      "\n",
      "Empezando fit: alpha y beta iniciales [5.0000500000000005e-06, 1e-10]\n",
      "Iteracion 1\n",
      "Valores actuales: alpha= 5.0000500000000005e-06  beta= 1e-10\n",
      "Iteracion 2\n",
      "Valores actuales: alpha= 5.5921789339433e-08  beta= 4.3015358625719e-09\n",
      "Iteracion 3\n",
      "Valores actuales: alpha= 9.224058623315918e-08  beta= 1.9133204470488377e-08\n",
      "Iteracion 4\n",
      "Valores actuales: alpha= 7.300870199199782e-08  beta= 1.939398532175693e-08\n",
      "Iteracion 5\n",
      "Valores actuales: alpha= 6.749591532080532e-08  beta= 1.9441862847308933e-08\n",
      "Iteracion 6\n",
      "Valores actuales: alpha= 6.56560212231889e-08  beta= 1.9456415998997566e-08\n",
      "Iteracion 7\n",
      "Valores actuales: alpha= 6.500821753219599e-08  beta= 1.946139567526141e-08\n",
      "Iteracion 8\n",
      "Valores actuales: alpha= 6.477578877787471e-08  beta= 1.9463165000357732e-08\n",
      "Iteracion 9\n",
      "Valores actuales: alpha= 6.469182793365022e-08  beta= 1.9463801926861846e-08\n",
      "Iteracion 10\n",
      "Valores actuales: alpha= 6.466142427507263e-08  beta= 1.9464032281355227e-08\n",
      "Iteracion 11\n",
      "Valores actuales: alpha= 6.465040483594013e-08  beta= 1.9464115732913113e-08\n",
      "Iteracion 12\n",
      "Valores actuales: alpha= 6.464640969120272e-08  beta= 1.946414598368884e-08\n",
      "Iteracion 13\n",
      "Valores actuales: alpha= 6.464496106570314e-08  beta= 1.9464156951864605e-08\n",
      "Iteracion 14\n",
      "Valores actuales: alpha= 6.464443577710583e-08  beta= 1.9464160928968383e-08\n",
      "Iteracion 15\n",
      "Valores actuales: alpha= 6.464424529839796e-08  beta= 1.9464162371123595e-08\n",
      "Iteracion 16\n",
      "Valores actuales: alpha= 6.464417622706027e-08  beta= 1.9464162894076055e-08\n",
      "Iteracion 17\n",
      "Valores actuales: alpha= 6.464415118047261e-08  beta= 1.946416308370842e-08\n",
      "Iteracion 18\n",
      "Valores actuales: alpha= 6.4644142098092e-08  beta= 1.9464163152472787e-08\n",
      "Iteracion 19\n",
      "Valores actuales: alpha= 6.464413880467054e-08  beta= 1.9464163177407878e-08\n",
      "Iteracion 20\n",
      "Valores actuales: alpha= 6.464413761033588e-08  beta= 1.9464163186450405e-08\n",
      "Valores finales: alpha= 6.46441371772485e-08  beta= 1.9464163189729385e-08\n",
      "Fit terminado \n",
      "\n",
      "Empezando fit: alpha y beta iniciales [5.0000500000000005e-06, 5.0000500000000005e-06]\n",
      "Iteracion 1\n",
      "Valores actuales: alpha= 5.0000500000000005e-06  beta= 5.0000500000000005e-06\n"
     ]
    },
    {
     "name": "stdout",
     "output_type": "stream",
     "text": [
      "Iteracion 2\n",
      "Valores actuales: alpha= 3.829042743040566e-08  beta= 1.9628446636609868e-08\n",
      "Iteracion 3\n",
      "Valores actuales: alpha= 5.247242747464667e-08  beta= 1.954659166152471e-08\n",
      "Iteracion 4\n",
      "Valores actuales: alpha= 5.975830318309763e-08  beta= 1.9499364217949153e-08\n",
      "Iteracion 5\n",
      "Valores actuales: alpha= 6.280197087430695e-08  beta= 1.9477840885152364e-08\n",
      "Iteracion 6\n",
      "Valores actuales: alpha= 6.396641567389849e-08  beta= 1.946925700978177e-08\n",
      "Iteracion 7\n",
      "Valores actuales: alpha= 6.439708170083688e-08  beta= 1.9466028688624187e-08\n",
      "Iteracion 8\n",
      "Valores actuales: alpha= 6.45543776767666e-08  beta= 1.9464842112763437e-08\n",
      "Iteracion 9\n",
      "Valores actuales: alpha= 6.461156572333664e-08  beta= 1.9464409706788646e-08\n",
      "Iteracion 10\n",
      "Valores actuales: alpha= 6.463232296158232e-08  beta= 1.946425262580491e-08\n",
      "Iteracion 11\n",
      "Valores actuales: alpha= 6.463985255148791e-08  beta= 1.9464195627895956e-08\n",
      "Iteracion 12\n",
      "Valores actuales: alpha= 6.464258327568605e-08  beta= 1.946417495440098e-08\n",
      "Iteracion 13\n",
      "Valores actuales: alpha= 6.464357353686591e-08  beta= 1.946416745712675e-08\n",
      "Iteracion 14\n",
      "Valores actuales: alpha= 6.464393263171062e-08  beta= 1.9464164738377292e-08\n",
      "Iteracion 15\n",
      "Valores actuales: alpha= 6.46440628476895e-08  beta= 1.9464163752491498e-08\n",
      "Iteracion 16\n",
      "Valores actuales: alpha= 6.46441100668095e-08  beta= 1.9464163394987375e-08\n",
      "Iteracion 17\n",
      "Valores actuales: alpha= 6.464412718935365e-08  beta= 1.9464163265349542e-08\n",
      "Iteracion 18\n",
      "Valores actuales: alpha= 6.464413339834122e-08  beta= 1.9464163218340176e-08\n",
      "Iteracion 19\n",
      "Valores actuales: alpha= 6.464413564989464e-08  beta= 1.9464163201293258e-08\n",
      "Valores finales: alpha= 6.46441364664109e-08  beta= 1.9464163195111267e-08\n",
      "Fit terminado \n",
      "\n",
      "Empezando fit: alpha y beta iniciales [5.0000500000000005e-06, 1e-05]\n",
      "Iteracion 1\n",
      "Valores actuales: alpha= 5.0000500000000005e-06  beta= 1e-05\n",
      "Iteracion 2\n",
      "Valores actuales: alpha= 2.6236926596519087e-08  beta= 1.969727740569283e-08\n",
      "Iteracion 3\n",
      "Valores actuales: alpha= 4.41244182492872e-08  beta= 1.9595720605738866e-08\n",
      "Iteracion 4\n",
      "Valores actuales: alpha= 5.572803696457587e-08  beta= 1.952613336354904e-08\n",
      "Iteracion 5\n",
      "Valores actuales: alpha= 6.11663096599489e-08  beta= 1.9489562835441414e-08\n",
      "Iteracion 6\n",
      "Valores actuales: alpha= 6.334780957882895e-08  beta= 1.9473842963891888e-08\n",
      "Iteracion 7\n",
      "Valores actuales: alpha= 6.416927784775532e-08  beta= 1.9467740035280086e-08\n",
      "Iteracion 8\n",
      "Valores actuales: alpha= 6.447130654915573e-08  beta= 1.946546926983131e-08\n",
      "Iteracion 9\n",
      "Valores actuales: alpha= 6.458138099837778e-08  beta= 1.9464638004160768e-08\n",
      "Iteracion 10\n",
      "Valores actuales: alpha= 6.462136926922914e-08  beta= 1.9464335527012593e-08\n",
      "Iteracion 11\n",
      "Valores actuales: alpha= 6.463587945351725e-08  beta= 1.9464225704837484e-08\n",
      "Iteracion 12\n",
      "Valores actuales: alpha= 6.464114240898199e-08  beta= 1.946418586292427e-08\n",
      "Iteracion 13\n",
      "Valores actuales: alpha= 6.464305103074857e-08  beta= 1.94641714130443e-08\n",
      "Iteracion 14\n",
      "Valores actuales: alpha= 6.464374315790846e-08  beta= 1.9464166172908467e-08\n",
      "Iteracion 15\n",
      "Valores actuales: alpha= 6.464399414043797e-08  beta= 1.9464164272685327e-08\n",
      "Iteracion 16\n",
      "Valores actuales: alpha= 6.464408515204905e-08  beta= 1.9464163583621378e-08\n",
      "Iteracion 17\n",
      "Valores actuales: alpha= 6.46441181547297e-08  beta= 1.9464163333752296e-08\n",
      "Iteracion 18\n",
      "Valores actuales: alpha= 6.464413012234124e-08  beta= 1.9464163243143366e-08\n",
      "Iteracion 19\n",
      "Valores actuales: alpha= 6.464413446192861e-08  beta= 1.9464163210287566e-08\n",
      "Iteracion 20\n",
      "Valores actuales: alpha= 6.46441360355892e-08  beta= 1.9464163198373095e-08\n",
      "Valores finales: alpha= 6.46441366062217e-08  beta= 1.9464163194052734e-08\n",
      "Fit terminado \n",
      "\n",
      "Empezando fit: alpha y beta iniciales [1e-05, 1e-10]\n",
      "Iteracion 1\n",
      "Valores actuales: alpha= 1e-05  beta= 1e-10\n",
      "Iteracion 2\n",
      "Valores actuales: alpha= 6.623283967165936e-08  beta= 2.723713869493541e-09\n",
      "Iteracion 3\n",
      "Valores actuales: alpha= 1.0153964850858606e-07  beta= 1.8885594800313995e-08\n",
      "Iteracion 4\n",
      "Valores actuales: alpha= 7.537051901020216e-08  beta= 1.9371084915647482e-08\n",
      "Iteracion 5\n",
      "Valores actuales: alpha= 6.824206484774179e-08  beta= 1.9435776786996305e-08\n",
      "Iteracion 6\n",
      "Valores actuales: alpha= 6.591369147052434e-08  beta= 1.9454415041512344e-08\n",
      "Iteracion 7\n",
      "Valores actuales: alpha= 6.510002944665472e-08  beta= 1.9460694274251418e-08\n",
      "Iteracion 8\n",
      "Valores actuales: alpha= 6.480887134538155e-08  beta= 1.9462913715101222e-08\n",
      "Iteracion 9\n",
      "Valores actuales: alpha= 6.470379685124201e-08  beta= 1.946371120202214e-08\n",
      "Iteracion 10\n",
      "Valores actuales: alpha= 6.466576084097955e-08  beta= 1.9463999434522516e-08\n",
      "Iteracion 11\n",
      "Valores actuales: alpha= 6.465197688926271e-08  beta= 1.9464103828785374e-08\n",
      "Iteracion 12\n",
      "Valores actuales: alpha= 6.46469796874874e-08  beta= 1.946414166790347e-08\n",
      "Iteracion 13\n",
      "Valores actuales: alpha= 6.46451677499396e-08  beta= 1.946415538698921e-08\n",
      "Iteracion 14\n",
      "Valores actuales: alpha= 6.464451072400048e-08  beta= 1.9464160361527707e-08\n",
      "Iteracion 15\n",
      "Valores actuales: alpha= 6.464427247553893e-08  beta= 1.9464162165359992e-08\n",
      "Iteracion 16\n",
      "Valores actuales: alpha= 6.464418608214345e-08  beta= 1.946416281946136e-08\n",
      "Iteracion 17\n",
      "Valores actuales: alpha= 6.464415475415618e-08  beta= 1.9464163056651407e-08\n",
      "Iteracion 18\n",
      "Valores actuales: alpha= 6.464414339392614e-08  beta= 1.9464163142661786e-08\n",
      "Iteracion 19\n",
      "Valores actuales: alpha= 6.464413927448126e-08  beta= 1.9464163173850853e-08\n",
      "Iteracion 20\n",
      "Valores actuales: alpha= 6.464413778072438e-08  beta= 1.9464163185160364e-08\n",
      "Valores finales: alpha= 6.464413723912918e-08  beta= 1.9464163189260877e-08\n",
      "Fit terminado \n",
      "\n",
      "Empezando fit: alpha y beta iniciales [1e-05, 5.0000500000000005e-06]\n",
      "Iteracion 1\n",
      "Valores actuales: alpha= 1e-05  beta= 5.0000500000000005e-06\n",
      "Iteracion 2\n",
      "Valores actuales: alpha= 5.3034546744102713e-08  beta= 1.954312343341912e-08\n",
      "Iteracion 3\n",
      "Valores actuales: alpha= 6.000734740245586e-08  beta= 1.9497648992190602e-08\n",
      "Iteracion 4\n",
      "Valores actuales: alpha= 6.289944054096766e-08  beta= 1.947713025283017e-08\n",
      "Iteracion 5\n",
      "Valores actuales: alpha= 6.40027694034804e-08  beta= 1.946898564309186e-08\n",
      "Iteracion 6\n",
      "Valores actuales: alpha= 6.441040041415296e-08  beta= 1.9465928373935788e-08\n",
      "Iteracion 7\n",
      "Valores actuales: alpha= 6.455922537709827e-08  beta= 1.9464805479508134e-08\n",
      "Iteracion 8\n",
      "Valores actuales: alpha= 6.46133259817707e-08  beta= 1.9464396388733627e-08\n",
      "Iteracion 9\n",
      "Valores actuales: alpha= 6.463296158098465e-08  beta= 1.9464247791910462e-08\n",
      "Iteracion 10\n",
      "Valores actuales: alpha= 6.464008416930687e-08  beta= 1.9464193874434486e-08\n",
      "Iteracion 11\n",
      "Valores actuales: alpha= 6.464266727048514e-08  beta= 1.9464174318482046e-08\n",
      "Iteracion 12\n",
      "Valores actuales: alpha= 6.464360399587557e-08  beta= 1.9464167226518813e-08\n",
      "Iteracion 13\n",
      "Valores actuales: alpha= 6.464394367698564e-08  beta= 1.9464164654751873e-08\n",
      "Iteracion 14\n",
      "Valores actuales: alpha= 6.464406685302426e-08  beta= 1.9464163722166428e-08\n",
      "Iteracion 15\n",
      "Valores actuales: alpha= 6.464411151915127e-08  beta= 1.946416338399144e-08\n",
      "Iteracion 16\n",
      "Valores actuales: alpha= 6.464412771615041e-08  beta= 1.946416326136107e-08\n",
      "Iteracion 17\n",
      "Valores actuales: alpha= 6.464413358942159e-08  beta= 1.946416321689347e-08\n",
      "Iteracion 18\n",
      "Valores actuales: alpha= 6.464413571920077e-08  beta= 1.946416320076853e-08\n",
      "Valores finales: alpha= 6.46441364915167e-08  beta= 1.9464163194921188e-08\n",
      "Fit terminado \n",
      "\n",
      "Empezando fit: alpha y beta iniciales [1e-05, 1e-05]\n",
      "Iteracion 1\n",
      "Valores actuales: alpha= 1e-05  beta= 1e-05\n",
      "Iteracion 2\n",
      "Valores actuales: alpha= 3.829042743038702e-08  beta= 1.9628446636610037e-08\n",
      "Iteracion 3\n",
      "Valores actuales: alpha= 5.247242747466522e-08  beta= 1.9546591661524548e-08\n",
      "Iteracion 4\n",
      "Valores actuales: alpha= 5.975830318321704e-08  beta= 1.9499364217948246e-08\n",
      "Iteracion 5\n",
      "Valores actuales: alpha= 6.280197087429025e-08  beta= 1.9477840885152506e-08\n",
      "Iteracion 6\n",
      "Valores actuales: alpha= 6.396641567393077e-08  beta= 1.9469257009781526e-08\n",
      "Iteracion 7\n",
      "Valores actuales: alpha= 6.439708170081143e-08  beta= 1.946602868862438e-08\n",
      "Iteracion 8\n",
      "Valores actuales: alpha= 6.455437767674825e-08  beta= 1.9464842112763576e-08\n",
      "Iteracion 9\n",
      "Valores actuales: alpha= 6.461156572336399e-08  beta= 1.9464409706788438e-08\n",
      "Iteracion 10\n",
      "Valores actuales: alpha= 6.463232296164878e-08  beta= 1.946425262580441e-08\n",
      "Iteracion 11\n",
      "Valores actuales: alpha= 6.463985255152476e-08  beta= 1.9464195627895674e-08\n"
     ]
    },
    {
     "name": "stdout",
     "output_type": "stream",
     "text": [
      "Iteracion 12\n",
      "Valores actuales: alpha= 6.464258327563541e-08  beta= 1.946417495440137e-08\n",
      "Iteracion 13\n",
      "Valores actuales: alpha= 6.46435735369262e-08  beta= 1.946416745712629e-08\n",
      "Iteracion 14\n",
      "Valores actuales: alpha= 6.464393263176585e-08  beta= 1.9464164738376875e-08\n",
      "Iteracion 15\n",
      "Valores actuales: alpha= 6.464406284773063e-08  beta= 1.9464163752491187e-08\n",
      "Iteracion 16\n",
      "Valores actuales: alpha= 6.464411006678923e-08  beta= 1.9464163394987528e-08\n",
      "Iteracion 17\n",
      "Valores actuales: alpha= 6.46441271894607e-08  beta= 1.9464163265348728e-08\n",
      "Iteracion 18\n",
      "Valores actuales: alpha= 6.464413339840142e-08  beta= 1.9464163218339723e-08\n",
      "Iteracion 19\n",
      "Valores actuales: alpha= 6.46441356499349e-08  beta= 1.9464163201292953e-08\n",
      "Valores finales: alpha= 6.464413646638456e-08  beta= 1.946416319511147e-08\n",
      "Fit terminado \n",
      "\n",
      "Reentrenando el mejor modelo encontrado\n",
      "Iteracion 1\n",
      "Valores actuales: alpha= 1e-10  beta= 1e-05\n",
      "Iteracion 2\n",
      "Valores actuales: alpha= 4.527801176934891e-11  beta= 1.9931133205165777e-08\n",
      "Iteracion 3\n",
      "Valores actuales: alpha= 8.87643674327774e-10  beta= 1.9925654958328065e-08\n",
      "Iteracion 4\n",
      "Valores actuales: alpha= 5.8167497805232075e-09  beta= 1.9863695383260026e-08\n",
      "Iteracion 5\n",
      "Valores actuales: alpha= 1.9061721263587597e-08  beta= 1.9743931760772947e-08\n",
      "Iteracion 6\n",
      "Valores actuales: alpha= 3.76063516969284e-08  beta= 1.9632254891801138e-08\n",
      "Iteracion 7\n",
      "Valores actuales: alpha= 5.2062383326514955e-08  beta= 1.954910608538082e-08\n",
      "Iteracion 8\n",
      "Valores actuales: alpha= 5.957501044615482e-08  beta= 1.9500621699953907e-08\n",
      "Iteracion 9\n",
      "Valores actuales: alpha= 6.272997712894761e-08  beta= 1.947836487536563e-08\n",
      "Iteracion 10\n",
      "Valores actuales: alpha= 6.393952761266218e-08  beta= 1.94694575842704e-08\n",
      "Iteracion 11\n",
      "Valores actuales: alpha= 6.438722599595541e-08  beta= 1.946610290187508e-08\n",
      "Iteracion 12\n",
      "Valores actuales: alpha= 6.45507897837786e-08  beta= 1.9464869223386984e-08\n",
      "Iteracion 13\n",
      "Valores actuales: alpha= 6.461026283097583e-08  beta= 1.9464419564099534e-08\n",
      "Iteracion 14\n",
      "Valores actuales: alpha= 6.463185026274793e-08  beta= 1.9464256203755493e-08\n",
      "Iteracion 15\n",
      "Valores actuales: alpha= 6.463968110921752e-08  beta= 1.946419692579306e-08\n",
      "Iteracion 16\n",
      "Valores actuales: alpha= 6.46425211029106e-08  beta= 1.9464175425106104e-08\n",
      "Iteracion 17\n",
      "Valores actuales: alpha= 6.464355099119932e-08  beta= 1.9464167627821944e-08\n",
      "Iteracion 18\n",
      "Valores actuales: alpha= 6.464392445628117e-08  beta= 1.9464164800274675e-08\n",
      "Iteracion 19\n",
      "Valores actuales: alpha= 6.464405988313766e-08  beta= 1.9464163774936623e-08\n",
      "Iteracion 20\n",
      "Valores actuales: alpha= 6.464410899177529e-08  beta= 1.946416340312665e-08\n",
      "Iteracion 21\n",
      "Valores actuales: alpha= 6.46441267995536e-08  beta= 1.9464163268300787e-08\n",
      "Iteracion 22\n",
      "Valores actuales: alpha= 6.4644133257122e-08  beta= 1.9464163219409373e-08\n",
      "Iteracion 23\n",
      "Valores actuales: alpha= 6.464413559875787e-08  beta= 1.9464163201680428e-08\n",
      "Valores finales: alpha= 6.464413644774517e-08  beta= 1.9464163195252586e-08\n",
      "RMSE: 7183.646947681574  R_2: 0.6765973171596269\n"
     ]
    }
   ],
   "source": [
    "run(df_X,df_y)"
   ]
  },
  {
   "cell_type": "markdown",
   "metadata": {},
   "source": [
    "### Parte 4"
   ]
  },
  {
   "cell_type": "code",
   "execution_count": 223,
   "metadata": {},
   "outputs": [],
   "source": [
    "#Ahora, seleccionamos solo aquellas columnas que se obtienen del análisis EDA\n",
    "df_y = df['Precio m2']#.to_numpy()\n",
    "df_X = df[['n_rooms','metrocuadrado_index','tipo de producto','indice_envegecimiento','jefe_mujer',\n",
    "                  'Furnished','UPZRecat']]#.to_numpy()\n",
    "\n",
    "#num_cols = df_X.select_dtypes(include=['int64', 'float64']).columns\n",
    "#cat_cols = df_X.select_dtypes(include=['object']).columns\n",
    "float_cols = []\n",
    "percentage_cols = ['n_rooms','metrocuadrado_index','indice_envegecimiento','jefe_mujer']\n",
    "cat_cols = ['Furnished','tipo de producto','UPZRecat']"
   ]
  },
  {
   "cell_type": "code",
   "execution_count": 226,
   "metadata": {},
   "outputs": [],
   "source": [
    "from sklearn.preprocessing import StandardScaler, MinMaxScaler, OneHotEncoder, PolynomialFeatures, FunctionTransformer\n",
    "from sklearn.compose import ColumnTransformer\n",
    "from sklearn.pipeline import Pipeline\n",
    "\n",
    "#cat pipe\n",
    "cat_pipe = Pipeline(steps=[('ordinal', OneHotEncoder(handle_unknown='ignore'))])\n",
    "\n",
    "#num pipe\n",
    "#num_pipe = Pipeline(steps=[('poly',PolynomialFeatures(degree=3)),('scaler',StandardScaler())])\n",
    "float_pipe = Pipeline(steps=[('scaler',StandardScaler()),('poly',PolynomialFeatures(degree=3))])\n",
    "percentage_pipe = Pipeline(steps=[('scaler',MinMaxScaler()),('poly',PolynomialFeatures(degree=3))])\n",
    "\n",
    "#Se diferencian columnas numéricas y categóricas\n",
    "prep = ColumnTransformer(transformers=[('flt',float_pipe,float_cols),('perc',percentage_pipe,percentage_cols),('cat',cat_pipe,cat_cols)])"
   ]
  },
  {
   "cell_type": "code",
   "execution_count": 227,
   "metadata": {},
   "outputs": [
    {
     "name": "stdout",
     "output_type": "stream",
     "text": [
      "Empezando fit: alpha y beta iniciales [1e-10, 1e-10]\n",
      "Iteracion 1\n",
      "Valores actuales: alpha= 1e-10  beta= 1e-10\n",
      "Iteracion 2\n",
      "Valores actuales: alpha= 8.111795241418061e-09  beta= 1.522523912398418e-08\n",
      "Iteracion 3\n",
      "Valores actuales: alpha= 5.058518036005735e-09  beta= 1.5264585137037273e-08\n",
      "Iteracion 4\n",
      "Valores actuales: alpha= 3.5662055039023164e-09  beta= 1.5291348590848967e-08\n",
      "Iteracion 5\n",
      "Valores actuales: alpha= 2.8155825871450023e-09  beta= 1.530796101590647e-08\n",
      "Iteracion 6\n",
      "Valores actuales: alpha= 2.4350804297152657e-09  beta= 1.5317326273691068e-08\n",
      "Iteracion 7\n",
      "Valores actuales: alpha= 2.241464420026334e-09  beta= 1.5322308671756167e-08\n",
      "Iteracion 8\n",
      "Valores actuales: alpha= 2.142689884334832e-09  beta= 1.5324892732171605e-08\n",
      "Iteracion 9\n",
      "Valores actuales: alpha= 2.0922156474346977e-09  beta= 1.532622092082614e-08\n",
      "Iteracion 10\n",
      "Valores actuales: alpha= 2.066397985059938e-09  beta= 1.5326901728496497e-08\n",
      "Iteracion 11\n",
      "Valores actuales: alpha= 2.0531851283735516e-09  beta= 1.5327250435812625e-08\n",
      "Iteracion 12\n",
      "Valores actuales: alpha= 2.0464211802347447e-09  beta= 1.53274290087469e-08\n",
      "Iteracion 13\n",
      "Valores actuales: alpha= 2.042958053025453e-09  beta= 1.532752045218573e-08\n",
      "Iteracion 14\n",
      "Valores actuales: alpha= 2.0411848029987994e-09  beta= 1.5327567278177526e-08\n",
      "Iteracion 15\n",
      "Valores actuales: alpha= 2.0402767967505977e-09  beta= 1.532759125668177e-08\n",
      "Iteracion 16\n",
      "Valores actuales: alpha= 2.0398118355745466e-09  beta= 1.5327603535543254e-08\n",
      "Iteracion 17\n",
      "Valores actuales: alpha= 2.039573742209958e-09  beta= 1.5327609823258074e-08\n",
      "Iteracion 18\n",
      "Valores actuales: alpha= 2.0394518188786713e-09  beta= 1.5327613043099404e-08\n",
      "Iteracion 19\n",
      "Valores actuales: alpha= 2.0393893860858176e-09  beta= 1.5327614691874768e-08\n",
      "Iteracion 20\n",
      "Valores actuales: alpha= 2.039357413520071e-09  beta= 1.5327615536233044e-08\n",
      "Iteracion 21\n",
      "Valores actuales: alpha= 2.0393410431676888e-09  beta= 1.532761596855529e-08\n",
      "Iteracion 22\n",
      "Valores actuales: alpha= 2.0393326595348913e-09  beta= 1.53276161899575e-08\n",
      "Iteracion 23\n",
      "Valores actuales: alpha= 2.0393283671992113e-09  beta= 1.5327616303313227e-08\n",
      "Iteracion 24\n",
      "Valores actuales: alpha= 2.0393261687182195e-09  beta= 1.5327616361372624e-08\n",
      "Iteracion 25\n",
      "Valores actuales: alpha= 2.0393250435663016e-09  beta= 1.5327616391086613e-08\n",
      "Valores finales: alpha= 2.0393244658162758e-09  beta= 1.532761640634434e-08\n",
      "Fit terminado \n",
      "\n",
      "Empezando fit: alpha y beta iniciales [1e-10, 5.0000500000000005e-06]\n",
      "Iteracion 1\n",
      "Valores actuales: alpha= 1e-10  beta= 5.0000500000000005e-06\n",
      "Iteracion 2\n",
      "Valores actuales: alpha= 9.24866159306068e-10  beta= 1.5348209920565863e-08\n",
      "Iteracion 3\n",
      "Valores actuales: alpha= 1.4595220124608975e-09  beta= 1.5342326780081134e-08\n",
      "Iteracion 4\n",
      "Valores actuales: alpha= 1.7406597751246969e-09  beta= 1.5335458988946437e-08\n",
      "Iteracion 5\n",
      "Valores actuales: alpha= 1.8859830092601938e-09  beta= 1.533166513173719e-08\n",
      "Iteracion 6\n",
      "Valores actuales: alpha= 1.96070281746739e-09  beta= 1.532969373739405e-08\n",
      "Iteracion 7\n",
      "Valores actuales: alpha= 1.999038706212564e-09  beta= 1.5328680729872834e-08\n",
      "Iteracion 8\n",
      "Valores actuales: alpha= 2.0186882392964087e-09  beta= 1.5328161516333985e-08\n",
      "Iteracion 9\n",
      "Valores actuales: alpha= 2.0287551185231225e-09  beta= 1.5327895567721235e-08\n",
      "Iteracion 10\n",
      "Valores actuales: alpha= 2.033911391758799e-09  beta= 1.5327759369530798e-08\n",
      "Iteracion 11\n",
      "Valores actuales: alpha= 2.0365521363151014e-09  beta= 1.5327689623109653e-08\n",
      "Iteracion 12\n",
      "Valores actuales: alpha= 2.0379044901492723e-09  beta= 1.5327653907006475e-08\n",
      "Iteracion 13\n",
      "Valores actuales: alpha= 2.038597023707021e-09  beta= 1.5327635617456015e-08\n",
      "Iteracion 14\n",
      "Valores actuales: alpha= 2.0389516606727628e-09  beta= 1.532762625175659e-08\n",
      "Iteracion 15\n",
      "Valores actuales: alpha= 2.039133263419122e-09  beta= 1.5327621455796828e-08\n",
      "Iteracion 16\n",
      "Valores actuales: alpha= 2.03922625946223e-09  beta= 1.5327618999866755e-08\n",
      "Iteracion 17\n",
      "Valores actuales: alpha= 2.039273880557225e-09  beta= 1.532761774224486e-08\n",
      "Iteracion 18\n",
      "Valores actuales: alpha= 2.0392982671444697e-09  beta= 1.5327617098221944e-08\n",
      "Iteracion 19\n",
      "Valores actuales: alpha= 2.0393107549907875e-09  beta= 1.5327616768431837e-08\n",
      "Iteracion 20\n",
      "Valores actuales: alpha= 2.0393171496924177e-09  beta= 1.5327616599554937e-08\n",
      "Iteracion 21\n",
      "Valores actuales: alpha= 2.0393204234087556e-09  beta= 1.532761651309977e-08\n",
      "Iteracion 22\n",
      "Valores actuales: alpha= 2.0393221018901956e-09  beta= 1.5327616468772964e-08\n",
      "Valores finales: alpha= 2.0393229590218568e-09  beta= 1.532761644613708e-08\n",
      "Fit terminado \n",
      "\n",
      "Empezando fit: alpha y beta iniciales [1e-10, 1e-05]\n",
      "Iteracion 1\n",
      "Valores actuales: alpha= 1e-10  beta= 1e-05\n",
      "Iteracion 2\n",
      "Valores actuales: alpha= 9.247578482616255e-10  beta= 1.534820892094038e-08\n",
      "Iteracion 3\n",
      "Valores actuales: alpha= 1.4594640840823857e-09  beta= 1.534232807748722e-08\n",
      "Iteracion 4\n",
      "Valores actuales: alpha= 1.7406297017488994e-09  beta= 1.5335459764480225e-08\n",
      "Iteracion 5\n",
      "Valores actuales: alpha= 1.8859675237813697e-09  beta= 1.5331665539479235e-08\n",
      "Iteracion 6\n",
      "Valores actuales: alpha= 1.9606948675466855e-09  beta= 1.5329693947424054e-08\n",
      "Iteracion 7\n",
      "Valores actuales: alpha= 1.999034631050867e-09  beta= 1.53286808375627e-08\n",
      "Iteracion 8\n",
      "Valores actuales: alpha= 2.0186861530573772e-09  beta= 1.532816157145345e-08\n",
      "Iteracion 9\n",
      "Valores actuales: alpha= 2.028754049037684e-09  beta= 1.532789559597234e-08\n",
      "Iteracion 10\n",
      "Valores actuales: alpha= 2.033910845203426e-09  beta= 1.5327759383966685e-08\n",
      "Iteracion 11\n",
      "Valores actuales: alpha= 2.03655185354938e-09  beta= 1.532768963057773e-08\n",
      "Iteracion 12\n",
      "Valores actuales: alpha= 2.037904344395625e-09  beta= 1.5327653910855813e-08\n",
      "Iteracion 13\n",
      "Valores actuales: alpha= 2.038596949216375e-09  beta= 1.5327635619423266e-08\n",
      "Iteracion 14\n",
      "Valores actuales: alpha= 2.0389516221835505e-09  beta= 1.532762625277306e-08\n",
      "Iteracion 15\n",
      "Valores actuales: alpha= 2.039133245161873e-09  beta= 1.5327621456278985e-08\n",
      "Iteracion 16\n",
      "Valores actuales: alpha= 2.039226251438072e-09  beta= 1.5327619000078663e-08\n",
      "Iteracion 17\n",
      "Valores actuales: alpha= 2.0392738797829015e-09  beta= 1.5327617742265312e-08\n",
      "Iteracion 18\n",
      "Valores actuales: alpha= 2.0392982669660683e-09  beta= 1.532761709822666e-08\n",
      "Iteracion 19\n",
      "Valores actuales: alpha= 2.0393107558603595e-09  beta= 1.5327616768408874e-08\n",
      "Iteracion 20\n",
      "Valores actuales: alpha= 2.039317149635032e-09  beta= 1.5327616599556453e-08\n",
      "Iteracion 21\n",
      "Valores actuales: alpha= 2.039320423879815e-09  beta= 1.532761651308733e-08\n",
      "Iteracion 22\n",
      "Valores actuales: alpha= 2.0393221007957107e-09  beta= 1.5327616468801866e-08\n",
      "Valores finales: alpha= 2.0393229613283713e-09  beta= 1.532761644607617e-08\n",
      "Fit terminado \n",
      "\n",
      "Empezando fit: alpha y beta iniciales [5.0000500000000005e-06, 1e-10]\n",
      "Iteracion 1\n",
      "Valores actuales: alpha= 5.0000500000000005e-06  beta= 1e-10\n",
      "Iteracion 2\n",
      "Valores actuales: alpha= 1.766901921541264e-08  beta= 3.1205851189645556e-09\n",
      "Iteracion 3\n",
      "Valores actuales: alpha= 1.8053871506320994e-08  beta= 1.5129548779258263e-08\n",
      "Iteracion 4\n",
      "Valores actuales: alpha= 9.181325161840463e-09  beta= 1.521415955074382e-08\n",
      "Iteracion 5\n",
      "Valores actuales: alpha= 5.560851709372021e-09  beta= 1.525698981512135e-08\n",
      "Iteracion 6\n",
      "Valores actuales: alpha= 3.816487993131561e-09  beta= 1.5286332358651685e-08\n",
      "Iteracion 7\n",
      "Valores actuales: alpha= 2.942065628824168e-09  beta= 1.5304988046535437e-08\n",
      "Iteracion 8\n",
      "Valores actuales: alpha= 2.4993208507502543e-09  beta= 1.5315702808731445e-08\n",
      "Iteracion 9\n",
      "Valores actuales: alpha= 2.2741952604587166e-09  beta= 1.5321457931584992e-08\n",
      "Iteracion 10\n",
      "Valores actuales: alpha= 2.1594022109261064e-09  beta= 1.5324453967261642e-08\n",
      "Iteracion 11\n",
      "Valores actuales: alpha= 2.1007601622467685e-09  beta= 1.532599579440846e-08\n",
      "Iteracion 12\n",
      "Valores actuales: alpha= 2.070769787860748e-09  beta= 1.5326786389298748e-08\n",
      "Iteracion 13\n",
      "Valores actuales: alpha= 2.0554228590627405e-09  beta= 1.5327191366947008e-08\n",
      "Iteracion 14\n",
      "Valores actuales: alpha= 2.0475668170311e-09  beta= 1.5327398760443423e-08\n",
      "Iteracion 15\n",
      "Valores actuales: alpha= 2.0435446409398585e-09  beta= 1.5327504962752e-08\n",
      "Iteracion 16\n",
      "Valores actuales: alpha= 2.0414851655600216e-09  beta= 1.532755934637677e-08\n",
      "Iteracion 17\n",
      "Valores actuales: alpha= 2.0404306002674754e-09  beta= 1.5327587195017558e-08\n",
      "Iteracion 18\n",
      "Valores actuales: alpha= 2.0398905944304236e-09  beta= 1.532760145564024e-08\n",
      "Iteracion 19\n",
      "Valores actuales: alpha= 2.0396140725217493e-09  beta= 1.5327608758187755e-08\n",
      "Iteracion 20\n",
      "Valores actuales: alpha= 2.039472472440065e-09  beta= 1.5327612497664168e-08\n",
      "Iteracion 21\n",
      "Valores actuales: alpha= 2.0393999629117982e-09  beta= 1.532761441255325e-08\n",
      "Iteracion 22\n",
      "Valores actuales: alpha= 2.0393628314501405e-09  beta= 1.5327615393151758e-08\n"
     ]
    },
    {
     "name": "stdout",
     "output_type": "stream",
     "text": [
      "Iteracion 23\n",
      "Valores actuales: alpha= 2.0393438162659733e-09  beta= 1.5327615895320932e-08\n",
      "Iteracion 24\n",
      "Valores actuales: alpha= 2.0393340802709747e-09  beta= 1.5327616152437472e-08\n",
      "Iteracion 25\n",
      "Valores actuales: alpha= 2.0393290937307964e-09  beta= 1.5327616284126346e-08\n",
      "Iteracion 26\n",
      "Valores actuales: alpha= 2.0393265418011222e-09  beta= 1.5327616351519924e-08\n",
      "Iteracion 27\n",
      "Valores actuales: alpha= 2.039325233318529e-09  beta= 1.5327616386075477e-08\n",
      "Valores finales: alpha= 2.0393245632820616e-09  beta= 1.5327616403770382e-08\n",
      "Fit terminado \n",
      "\n",
      "Empezando fit: alpha y beta iniciales [5.0000500000000005e-06, 5.0000500000000005e-06]\n",
      "Iteracion 1\n",
      "Valores actuales: alpha= 5.0000500000000005e-06  beta= 5.0000500000000005e-06\n",
      "Iteracion 2\n",
      "Valores actuales: alpha= 8.111795241800731e-09  beta= 1.522523912398031e-08\n",
      "Iteracion 3\n",
      "Valores actuales: alpha= 5.058518035813044e-09  beta= 1.5264585137039996e-08\n",
      "Iteracion 4\n",
      "Valores actuales: alpha= 3.5662055042212508e-09  beta= 1.529134859084277e-08\n",
      "Iteracion 5\n",
      "Valores actuales: alpha= 2.8155825871051363e-09  beta= 1.530796101590728e-08\n",
      "Iteracion 6\n",
      "Valores actuales: alpha= 2.4350804271812947e-09  beta= 1.5317326273754142e-08\n",
      "Iteracion 7\n",
      "Valores actuales: alpha= 2.241464416708973e-09  beta= 1.5322308671841912e-08\n",
      "Iteracion 8\n",
      "Valores actuales: alpha= 2.142689880819679e-09  beta= 1.5324892732263628e-08\n",
      "Iteracion 9\n",
      "Valores actuales: alpha= 2.0922156462932816e-09  beta= 1.532622092085628e-08\n",
      "Iteracion 10\n",
      "Valores actuales: alpha= 2.066397983373945e-09  beta= 1.5326901728540923e-08\n",
      "Iteracion 11\n",
      "Valores actuales: alpha= 2.053185127864137e-09  beta= 1.5327250435826082e-08\n",
      "Iteracion 12\n",
      "Valores actuales: alpha= 2.046421180112431e-09  beta= 1.5327429008750128e-08\n",
      "Iteracion 13\n",
      "Valores actuales: alpha= 2.0429580531791644e-09  beta= 1.5327520452181676e-08\n",
      "Iteracion 14\n",
      "Valores actuales: alpha= 2.041184803053014e-09  beta= 1.5327567278176093e-08\n",
      "Iteracion 15\n",
      "Valores actuales: alpha= 2.0402767969118727e-09  beta= 1.532759125667751e-08\n",
      "Iteracion 16\n",
      "Valores actuales: alpha= 2.039811835385945e-09  beta= 1.532760353554823e-08\n",
      "Iteracion 17\n",
      "Valores actuales: alpha= 2.0395737414018266e-09  beta= 1.5327609823279415e-08\n",
      "Iteracion 18\n",
      "Valores actuales: alpha= 2.039451820783272e-09  beta= 1.5327613043049105e-08\n",
      "Iteracion 19\n",
      "Valores actuales: alpha= 2.0393893860271238e-09  beta= 1.5327614691876317e-08\n",
      "Iteracion 20\n",
      "Valores actuales: alpha= 2.03935741468999e-09  beta= 1.5327615536202147e-08\n",
      "Iteracion 21\n",
      "Valores actuales: alpha= 2.0393410429472468e-09  beta= 1.5327615968561115e-08\n",
      "Iteracion 22\n",
      "Valores actuales: alpha= 2.0393326598595924e-09  beta= 1.5327616189948925e-08\n",
      "Iteracion 23\n",
      "Valores actuales: alpha= 2.0393283656092656e-09  beta= 1.5327616303355212e-08\n",
      "Iteracion 24\n",
      "Valores actuales: alpha= 2.0393261680203222e-09  beta= 1.5327616361391054e-08\n",
      "Iteracion 25\n",
      "Valores actuales: alpha= 2.039325041900578e-09  beta= 1.5327616391130606e-08\n",
      "Valores finales: alpha= 2.03932446555288e-09  beta= 1.5327616406351298e-08\n",
      "Fit terminado \n",
      "\n",
      "Empezando fit: alpha y beta iniciales [5.0000500000000005e-06, 1e-05]\n",
      "Iteracion 1\n",
      "Valores actuales: alpha= 5.0000500000000005e-06  beta= 1e-05\n",
      "Iteracion 2\n",
      "Valores actuales: alpha= 4.821343079828654e-09  beta= 1.526838503610417e-08\n",
      "Iteracion 3\n",
      "Valores actuales: alpha= 3.4475531567856594e-09  beta= 1.5293813729904098e-08\n",
      "Iteracion 4\n",
      "Valores actuales: alpha= 2.755551247168875e-09  beta= 1.53093970726017e-08\n",
      "Iteracion 5\n",
      "Valores actuales: alpha= 2.404571344320063e-09  beta= 1.5318102807430026e-08\n",
      "Iteracion 6\n",
      "Valores actuales: alpha= 2.2259130039442196e-09  beta= 1.5322713930865355e-08\n",
      "Iteracion 7\n",
      "Valores actuales: alpha= 2.134747112695175e-09  beta= 1.5325101451147564e-08\n",
      "Iteracion 8\n",
      "Valores actuales: alpha= 2.0881540831939367e-09  beta= 1.532632796830064e-08\n",
      "Iteracion 9\n",
      "Valores actuales: alpha= 2.0643197009711655e-09  beta= 1.5326956566045697e-08\n",
      "Iteracion 10\n",
      "Valores actuales: alpha= 2.0521212959550187e-09  beta= 1.5327278519128396e-08\n",
      "Iteracion 11\n",
      "Valores actuales: alpha= 2.0458765231786568e-09  beta= 1.5327443389724112e-08\n",
      "Iteracion 12\n",
      "Valores actuales: alpha= 2.042679174435202e-09  beta= 1.532752781634206e-08\n",
      "Iteracion 13\n",
      "Valores actuales: alpha= 2.041042003810606e-09  beta= 1.532757104915909e-08\n",
      "Iteracion 14\n",
      "Valores actuales: alpha= 2.0402036743829034e-09  beta= 1.532759318771319e-08\n",
      "Iteracion 15\n",
      "Valores actuales: alpha= 2.039774392189678e-09  beta= 1.5327604524368325e-08\n",
      "Iteracion 16\n",
      "Valores actuales: alpha= 2.039554567441277e-09  beta= 1.532761032963882e-08\n",
      "Iteracion 17\n",
      "Valores actuales: alpha= 2.0394420013435042e-09  beta= 1.532761330236858e-08\n",
      "Iteracion 18\n",
      "Valores actuales: alpha= 2.03938435746991e-09  beta= 1.532761482467462e-08\n",
      "Iteracion 19\n",
      "Valores actuales: alpha= 2.0393548395434447e-09  beta= 1.5327615604208804e-08\n",
      "Iteracion 20\n",
      "Valores actuales: alpha= 2.0393397244300598e-09  beta= 1.532761600338165e-08\n",
      "Iteracion 21\n",
      "Valores actuales: alpha= 2.0393319844969496e-09  beta= 1.5327616207784488e-08\n",
      "Iteracion 22\n",
      "Valores actuales: alpha= 2.0393280206187597e-09  beta= 1.5327616312466024e-08\n",
      "Iteracion 23\n",
      "Valores actuales: alpha= 2.0393259897804865e-09  beta= 1.5327616366098165e-08\n",
      "Iteracion 24\n",
      "Valores actuales: alpha= 2.0393249510058966e-09  beta= 1.532761639353103e-08\n",
      "Valores finales: alpha= 2.0393244197996848e-09  beta= 1.5327616407559587e-08\n",
      "Fit terminado \n",
      "\n",
      "Empezando fit: alpha y beta iniciales [1e-05, 1e-10]\n",
      "Iteracion 1\n",
      "Valores actuales: alpha= 1e-05  beta= 1e-10\n",
      "Iteracion 2\n",
      "Valores actuales: alpha= 2.1427759186741097e-08  beta= 1.9698246712561135e-09\n",
      "Iteracion 3\n",
      "Valores actuales: alpha= 1.993572225629149e-08  beta= 1.509529121504135e-08\n",
      "Iteracion 4\n",
      "Valores actuales: alpha= 9.82579610278621e-09  beta= 1.520788498422111e-08\n",
      "Iteracion 5\n",
      "Valores actuales: alpha= 5.8573697727479e-09  beta= 1.525276436737902e-08\n",
      "Iteracion 6\n",
      "Valores actuales: alpha= 3.963497837527941e-09  beta= 1.528349658924894e-08\n",
      "Iteracion 7\n",
      "Valores actuales: alpha= 3.016262077983081e-09  beta= 1.5303277444058995e-08\n",
      "Iteracion 8\n",
      "Valores actuales: alpha= 2.5369804812028593e-09  beta= 1.5314758688036953e-08\n",
      "Iteracion 9\n",
      "Valores actuales: alpha= 2.2933743266062243e-09  beta= 1.5320960893535843e-08\n",
      "Iteracion 10\n",
      "Valores actuales: alpha= 2.169192131758647e-09  beta= 1.5324197208620468e-08\n",
      "Iteracion 11\n",
      "Valores actuales: alpha= 2.105764588825807e-09  beta= 1.5325863989663783e-08\n",
      "Iteracion 12\n",
      "Valores actuales: alpha= 2.0733300586405586e-09  beta= 1.532671885270896e-08\n",
      "Iteracion 13\n",
      "Valores actuales: alpha= 2.056733279745651e-09  beta= 1.532715677820232e-08\n",
      "Iteracion 14\n",
      "Valores actuales: alpha= 2.0482376863488564e-09  beta= 1.532738104794563e-08\n",
      "Iteracion 15\n",
      "Valores actuales: alpha= 2.0438881355515795e-09  beta= 1.532749589255918e-08\n",
      "Iteracion 16\n",
      "Valores actuales: alpha= 2.0416610490694417e-09  beta= 1.5327554701777633e-08\n",
      "Iteracion 17\n",
      "Valores actuales: alpha= 2.040520664425151e-09  beta= 1.5327584816598954e-08\n",
      "Iteracion 18\n",
      "Valores actuales: alpha= 2.039936713795983e-09  beta= 1.5327600237699175e-08\n",
      "Iteracion 19\n",
      "Valores actuales: alpha= 2.039637688612599e-09  beta= 1.5327608134518494e-08\n",
      "Iteracion 20\n",
      "Valores actuales: alpha= 2.039484564618021e-09  beta= 1.532761217832471e-08\n",
      "Iteracion 21\n",
      "Valores actuales: alpha= 2.0394061544434895e-09  beta= 1.532761424904223e-08\n",
      "Iteracion 22\n",
      "Valores actuales: alpha= 2.0393660019427488e-09  beta= 1.532761530942272e-08\n",
      "Iteracion 23\n",
      "Valores actuales: alpha= 2.039345439901346e-09  beta= 1.5327615852442576e-08\n",
      "Iteracion 24\n",
      "Valores actuales: alpha= 2.03933491240119e-09  beta= 1.532761613046186e-08\n",
      "Iteracion 25\n",
      "Valores actuales: alpha= 2.0393295207389884e-09  beta= 1.5327616272849542e-08\n",
      "Iteracion 26\n",
      "Valores actuales: alpha= 2.0393267595492832e-09  beta= 1.5327616345769444e-08\n",
      "Iteracion 27\n",
      "Valores actuales: alpha= 2.0393253443509756e-09  beta= 1.532761638314323e-08\n",
      "Valores finales: alpha= 2.0393246212873125e-09  beta= 1.5327616402238526e-08\n",
      "Fit terminado \n",
      "\n",
      "Empezando fit: alpha y beta iniciales [1e-05, 5.0000500000000005e-06]\n",
      "Iteracion 1\n",
      "Valores actuales: alpha= 1e-05  beta= 5.0000500000000005e-06\n",
      "Iteracion 2\n",
      "Valores actuales: alpha= 1.2564550748756465e-08  beta= 1.518321763332286e-08\n",
      "Iteracion 3\n",
      "Valores actuales: alpha= 7.060747067154877e-09  beta= 1.5237209650761593e-08\n",
      "Iteracion 4\n",
      "Valores actuales: alpha= 4.5535022859849655e-09  beta= 1.52728603439041e-08\n",
      "Iteracion 5\n",
      "Valores actuales: alpha= 3.3132291754355055e-09  beta= 1.529667504802111e-08\n",
      "Iteracion 6\n",
      "Valores actuales: alpha= 2.6875389816502874e-09  beta= 1.53110433179221e-08\n",
      "Iteracion 7\n",
      "Valores actuales: alpha= 2.3699903572382606e-09  beta= 1.5318987091036847e-08\n"
     ]
    },
    {
     "name": "stdout",
     "output_type": "stream",
     "text": [
      "Iteracion 8\n",
      "Valores actuales: alpha= 2.2082804177296175e-09  beta= 1.5323174192319122e-08\n",
      "Iteracion 9\n",
      "Valores actuales: alpha= 2.1257396098672895e-09  beta= 1.532533828835217e-08\n",
      "Iteracion 10\n",
      "Valores actuales: alpha= 2.083547540434728e-09  beta= 1.5326449405707323e-08\n",
      "Iteracion 11\n",
      "Valores actuales: alpha= 2.0619624064004937e-09  beta= 1.5327018770956208e-08\n",
      "Iteracion 12\n",
      "Valores actuales: alpha= 2.050914606101217e-09  beta= 1.5327310374832218e-08\n",
      "Iteracion 13\n",
      "Valores actuales: alpha= 2.0452587177525483e-09  beta= 1.532745970237663e-08\n",
      "Iteracion 14\n",
      "Valores actuales: alpha= 2.0423628386225927e-09  beta= 1.5327536169676513e-08\n",
      "Iteracion 15\n",
      "Valores actuales: alpha= 2.040880021317467e-09  beta= 1.532757532674343e-08\n",
      "Iteracion 16\n",
      "Valores actuales: alpha= 2.0401207283428346e-09  beta= 1.532759537817495e-08\n",
      "Iteracion 17\n",
      "Valores actuales: alpha= 2.0397319175402554e-09  beta= 1.532760564606295e-08\n",
      "Iteracion 18\n",
      "Valores actuales: alpha= 2.039532817557711e-09  beta= 1.5327610904025322e-08\n",
      "Iteracion 19\n",
      "Valores actuales: alpha= 2.0394308626793922e-09  beta= 1.5327613596527247e-08\n",
      "Iteracion 20\n",
      "Valores actuales: alpha= 2.0393786555758173e-09  beta= 1.5327614975254974e-08\n",
      "Iteracion 21\n",
      "Valores actuales: alpha= 2.0393519206223763e-09  beta= 1.532761568129416e-08\n",
      "Iteracion 22\n",
      "Valores actuales: alpha= 2.0393382313505153e-09  beta= 1.5327616042812182e-08\n",
      "Iteracion 23\n",
      "Valores actuales: alpha= 2.039331219671602e-09  beta= 1.5327616227982657e-08\n",
      "Iteracion 24\n",
      "Valores actuales: alpha= 2.039327628684226e-09  beta= 1.532761632281657e-08\n",
      "Iteracion 25\n",
      "Valores actuales: alpha= 2.0393257912936475e-09  beta= 1.532761637133998e-08\n",
      "Valores finales: alpha= 2.039324850360006e-09  beta= 1.5327616396188974e-08\n",
      "Fit terminado \n",
      "\n",
      "Empezando fit: alpha y beta iniciales [1e-05, 1e-05]\n",
      "Iteracion 1\n",
      "Valores actuales: alpha= 1e-05  beta= 1e-05\n",
      "Iteracion 2\n",
      "Valores actuales: alpha= 8.111795241007395e-09  beta= 1.5225239123988328e-08\n",
      "Iteracion 3\n",
      "Valores actuales: alpha= 5.058518036303519e-09  beta= 1.5264585137032988e-08\n",
      "Iteracion 4\n",
      "Valores actuales: alpha= 3.566205503954307e-09  beta= 1.5291348590847815e-08\n",
      "Iteracion 5\n",
      "Valores actuales: alpha= 2.8155825872531177e-09  beta= 1.5307961015903965e-08\n",
      "Iteracion 6\n",
      "Valores actuales: alpha= 2.435080427825417e-09  beta= 1.5317326273738075e-08\n",
      "Iteracion 7\n",
      "Valores actuales: alpha= 2.241464418888478e-09  beta= 1.5322308671785743e-08\n",
      "Iteracion 8\n",
      "Valores actuales: alpha= 2.1426898843847166e-09  beta= 1.5324892732170404e-08\n",
      "Iteracion 9\n",
      "Valores actuales: alpha= 2.092215647793214e-09  beta= 1.5326220920816722e-08\n",
      "Iteracion 10\n",
      "Valores actuales: alpha= 2.066397984542914e-09  beta= 1.53269017285101e-08\n",
      "Iteracion 11\n",
      "Valores actuales: alpha= 2.053185127937781e-09  beta= 1.5327250435824123e-08\n",
      "Iteracion 12\n",
      "Valores actuales: alpha= 2.0464211789313653e-09  beta= 1.5327429008781296e-08\n",
      "Iteracion 13\n",
      "Valores actuales: alpha= 2.042958052384783e-09  beta= 1.532752045220265e-08\n",
      "Iteracion 14\n",
      "Valores actuales: alpha= 2.0411848020056053e-09  beta= 1.532756727820375e-08\n",
      "Iteracion 15\n",
      "Valores actuales: alpha= 2.0402767963538686e-09  beta= 1.5327591256692248e-08\n",
      "Iteracion 16\n",
      "Valores actuales: alpha= 2.0398118365319218e-09  beta= 1.532760353551797e-08\n",
      "Iteracion 17\n",
      "Valores actuales: alpha= 2.03957374289065e-09  beta= 1.5327609823240097e-08\n",
      "Iteracion 18\n",
      "Valores actuales: alpha= 2.0394518185611026e-09  beta= 1.532761304310779e-08\n",
      "Iteracion 19\n",
      "Valores actuales: alpha= 2.0393893861585934e-09  beta= 1.5327614691872846e-08\n",
      "Iteracion 20\n",
      "Valores actuales: alpha= 2.0393574159048595e-09  beta= 1.5327615536170065e-08\n",
      "Iteracion 21\n",
      "Valores actuales: alpha= 2.0393410430687625e-09  beta= 1.5327615968557905e-08\n",
      "Iteracion 22\n",
      "Valores actuales: alpha= 2.039332659793082e-09  beta= 1.5327616189950682e-08\n",
      "Iteracion 23\n",
      "Valores actuales: alpha= 2.039328366950578e-09  beta= 1.5327616303319792e-08\n",
      "Iteracion 24\n",
      "Valores actuales: alpha= 2.039326167082784e-09  beta= 1.5327616361415813e-08\n",
      "Iteracion 25\n",
      "Valores actuales: alpha= 2.0393250420134226e-09  beta= 1.5327616391127625e-08\n",
      "Valores finales: alpha= 2.0393244655635733e-09  beta= 1.5327616406351013e-08\n",
      "Fit terminado \n",
      "\n",
      "Reentrenando el mejor modelo encontrado\n",
      "Iteracion 1\n",
      "Valores actuales: alpha= 1e-10  beta= 5.0000500000000005e-06\n",
      "Iteracion 2\n",
      "Valores actuales: alpha= 9.24866159306068e-10  beta= 1.5348209920565863e-08\n",
      "Iteracion 3\n",
      "Valores actuales: alpha= 1.4595220124608975e-09  beta= 1.5342326780081134e-08\n",
      "Iteracion 4\n",
      "Valores actuales: alpha= 1.7406597751246969e-09  beta= 1.5335458988946437e-08\n",
      "Iteracion 5\n",
      "Valores actuales: alpha= 1.8859830092601938e-09  beta= 1.533166513173719e-08\n",
      "Iteracion 6\n",
      "Valores actuales: alpha= 1.96070281746739e-09  beta= 1.532969373739405e-08\n",
      "Iteracion 7\n",
      "Valores actuales: alpha= 1.999038706212564e-09  beta= 1.5328680729872834e-08\n",
      "Iteracion 8\n",
      "Valores actuales: alpha= 2.0186882392964087e-09  beta= 1.5328161516333985e-08\n",
      "Iteracion 9\n",
      "Valores actuales: alpha= 2.0287551185231225e-09  beta= 1.5327895567721235e-08\n",
      "Iteracion 10\n",
      "Valores actuales: alpha= 2.033911391758799e-09  beta= 1.5327759369530798e-08\n",
      "Iteracion 11\n",
      "Valores actuales: alpha= 2.0365521363151014e-09  beta= 1.5327689623109653e-08\n",
      "Iteracion 12\n",
      "Valores actuales: alpha= 2.0379044901492723e-09  beta= 1.5327653907006475e-08\n",
      "Iteracion 13\n",
      "Valores actuales: alpha= 2.038597023707021e-09  beta= 1.5327635617456015e-08\n",
      "Iteracion 14\n",
      "Valores actuales: alpha= 2.0389516606727628e-09  beta= 1.532762625175659e-08\n",
      "Iteracion 15\n",
      "Valores actuales: alpha= 2.039133263419122e-09  beta= 1.5327621455796828e-08\n",
      "Iteracion 16\n",
      "Valores actuales: alpha= 2.03922625946223e-09  beta= 1.5327618999866755e-08\n",
      "Iteracion 17\n",
      "Valores actuales: alpha= 2.039273880557225e-09  beta= 1.532761774224486e-08\n",
      "Iteracion 18\n",
      "Valores actuales: alpha= 2.0392982671444697e-09  beta= 1.5327617098221944e-08\n",
      "Iteracion 19\n",
      "Valores actuales: alpha= 2.0393107549907875e-09  beta= 1.5327616768431837e-08\n",
      "Iteracion 20\n",
      "Valores actuales: alpha= 2.0393171496924177e-09  beta= 1.5327616599554937e-08\n",
      "Iteracion 21\n",
      "Valores actuales: alpha= 2.0393204234087556e-09  beta= 1.532761651309977e-08\n",
      "Iteracion 22\n",
      "Valores actuales: alpha= 2.0393221018901956e-09  beta= 1.5327616468772964e-08\n",
      "Valores finales: alpha= 2.0393229590218568e-09  beta= 1.532761644613708e-08\n",
      "RMSE: 8083.610013345835  R_2: 0.5904901384489528\n"
     ]
    }
   ],
   "source": [
    "run(df_X,df_y,mode='EDA')"
   ]
  },
  {
   "cell_type": "markdown",
   "metadata": {},
   "source": [
    "### Parte 5"
   ]
  },
  {
   "cell_type": "code",
   "execution_count": 228,
   "metadata": {},
   "outputs": [
    {
     "name": "stdout",
     "output_type": "stream",
     "text": [
      "Fit terminado \n",
      "\n",
      "RMSE =  8083.34595688417  R2 = 0.5905168918323402\n"
     ]
    }
   ],
   "source": [
    "from sklearn.linear_model import BayesianRidge\n",
    "from sklearn.model_selection import train_test_split\n",
    "\n",
    "X_train, X_test, y_train, y_test = train_test_split(df_X, df_y, test_size=0.2, random_state=random_state)\n",
    "BR_pipe = Pipeline([('prep',prep),('clf',BayesianRidge())])\n",
    "BR_pipe.fit(X_train,y_train)\n",
    "print('Fit terminado', '\\n')\n",
    "y_pred = BR_pipe.predict(X_test) \n",
    "\n",
    "R_2 = BR_pipe.score(X_test, y_test)\n",
    "RMSE = np.sqrt(np.mean((y_pred-y_test)**2))\n",
    "print('RMSE = ',RMSE,' R2 =',R_2,)"
   ]
  }
 ],
 "metadata": {
  "kernelspec": {
   "display_name": "Python 3",
   "language": "python",
   "name": "python3"
  },
  "language_info": {
   "codemirror_mode": {
    "name": "ipython",
    "version": 3
   },
   "file_extension": ".py",
   "mimetype": "text/x-python",
   "name": "python",
   "nbconvert_exporter": "python",
   "pygments_lexer": "ipython3",
   "version": "3.7.3"
  },
  "toc": {
   "base_numbering": 1,
   "nav_menu": {},
   "number_sections": true,
   "sideBar": true,
   "skip_h1_title": false,
   "title_cell": "Table of Contents",
   "title_sidebar": "Contents",
   "toc_cell": false,
   "toc_position": {},
   "toc_section_display": true,
   "toc_window_display": false
  }
 },
 "nbformat": 4,
 "nbformat_minor": 2
}
