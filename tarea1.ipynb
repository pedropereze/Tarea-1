{
 "cells": [
  {
   "cell_type": "markdown",
   "metadata": {},
   "source": [
    "# Tarea 1 \n",
    "\n",
    "Alumnos:\n",
    "\n",
    "* Miguel Espinoza\n",
    "* Sebastián López\n",
    "* Pedro Pérez"
   ]
  },
  {
   "cell_type": "markdown",
   "metadata": {},
   "source": [
    "## P1"
   ]
  },
  {
   "cell_type": "markdown",
   "metadata": {},
   "source": [
    "### Parte 1"
   ]
  },
  {
   "cell_type": "code",
   "execution_count": 1,
   "metadata": {},
   "outputs": [
    {
     "data": {
      "text/plain": [
       "['w13', 'w14', 'w15', 'w16', 'w17']"
      ]
     },
     "execution_count": 1,
     "metadata": {},
     "output_type": "execute_result"
    }
   ],
   "source": [
    "import os\n",
    "\n",
    "folder = 'data/raw/'  #Carpeta principal en la que estan los archivos\n",
    "weeks = os.listdir(folder)  #Se agregan las subcarpetas a una lista\n",
    "weeks"
   ]
  },
  {
   "cell_type": "code",
   "execution_count": 2,
   "metadata": {},
   "outputs": [
    {
     "data": {
      "text/plain": [
       "['data/raw/w13/metrocuadrado_all_w13.csv',\n",
       " 'data/raw/w14/metrocuadrado_all_w14.csv',\n",
       " 'data/raw/w15/metrocuadrado_all_w15.csv',\n",
       " 'data/raw/w16/metrocuadrado_all_w16.csv',\n",
       " 'data/raw/w17/metrocuadrado_all_w17.csv']"
      ]
     },
     "execution_count": 2,
     "metadata": {},
     "output_type": "execute_result"
    }
   ],
   "source": [
    "#Se crean dos listas para guardar los archivos normales\n",
    "#y los 'furnished'\n",
    "files = []\n",
    "files_furnished = []\n",
    "\n",
    "#Mediante un bucle for se guardan las direcciones de todos\n",
    "#los archivos en las listas creadas\n",
    "for week in weeks:\n",
    "    direccion = folder + week + '/'\n",
    "    file = os.listdir(direccion)\n",
    "    files.append(direccion + file[0])\n",
    "    files_furnished.append(direccion + file[1])\n",
    "    \n",
    "files"
   ]
  },
  {
   "cell_type": "code",
   "execution_count": 3,
   "metadata": {
    "scrolled": false
   },
   "outputs": [
    {
     "data": {
      "text/html": [
       "<div>\n",
       "<style scoped>\n",
       "    .dataframe tbody tr th:only-of-type {\n",
       "        vertical-align: middle;\n",
       "    }\n",
       "\n",
       "    .dataframe tbody tr th {\n",
       "        vertical-align: top;\n",
       "    }\n",
       "\n",
       "    .dataframe thead th {\n",
       "        text-align: right;\n",
       "    }\n",
       "</style>\n",
       "<table border=\"1\" class=\"dataframe\">\n",
       "  <thead>\n",
       "    <tr style=\"text-align: right;\">\n",
       "      <th></th>\n",
       "      <th>property_type|rent_type|location</th>\n",
       "      <th>price</th>\n",
       "      <th>n_rooms</th>\n",
       "      <th>n_bath</th>\n",
       "      <th>surface</th>\n",
       "      <th>details</th>\n",
       "      <th>url</th>\n",
       "      <th>metrocuadrado_index</th>\n",
       "    </tr>\n",
       "  </thead>\n",
       "  <tbody>\n",
       "    <tr>\n",
       "      <th>0</th>\n",
       "      <td>Casa en Arriendo, LA SOLEDAD NORTE Bogotá D.C..</td>\n",
       "      <td>$1.050.000</td>\n",
       "      <td>3</td>\n",
       "      <td>2</td>\n",
       "      <td>63.0 m2</td>\n",
       "      <td>Excelente casa cerca de la calle 80 y Avenida ...</td>\n",
       "      <td>https://www.metrocuadrado.com/inmueble/arriend...</td>\n",
       "      <td>25.6</td>\n",
       "    </tr>\n",
       "    <tr>\n",
       "      <th>1</th>\n",
       "      <td>Casa en Arriendo, CIUDAD SALITRE SUR-ORIENTAL ...</td>\n",
       "      <td>$3.930.000</td>\n",
       "      <td>3</td>\n",
       "      <td>2</td>\n",
       "      <td>100.0 m2</td>\n",
       "      <td>Se arrienda casa bonita totalmente amoblada co...</td>\n",
       "      <td>https://www.metrocuadrado.com/inmueble/arriend...</td>\n",
       "      <td>57.3</td>\n",
       "    </tr>\n",
       "    <tr>\n",
       "      <th>2</th>\n",
       "      <td>Casa en Arriendo, VILLA DE LOS ALPES II SECTOR...</td>\n",
       "      <td>$750.000</td>\n",
       "      <td>3</td>\n",
       "      <td>1</td>\n",
       "      <td>90.0 m2</td>\n",
       "      <td>CASA DE TRES NIVELES TRES ALCOBAS SALA COMEDOR...</td>\n",
       "      <td>https://www.metrocuadrado.com/inmueble/arriend...</td>\n",
       "      <td>12.2</td>\n",
       "    </tr>\n",
       "  </tbody>\n",
       "</table>\n",
       "</div>"
      ],
      "text/plain": [
       "                    property_type|rent_type|location       price n_rooms  \\\n",
       "0    Casa en Arriendo, LA SOLEDAD NORTE Bogotá D.C..  $1.050.000       3   \n",
       "1  Casa en Arriendo, CIUDAD SALITRE SUR-ORIENTAL ...  $3.930.000       3   \n",
       "2  Casa en Arriendo, VILLA DE LOS ALPES II SECTOR...    $750.000       3   \n",
       "\n",
       "  n_bath   surface                                            details  \\\n",
       "0      2   63.0 m2  Excelente casa cerca de la calle 80 y Avenida ...   \n",
       "1      2  100.0 m2  Se arrienda casa bonita totalmente amoblada co...   \n",
       "2      1   90.0 m2  CASA DE TRES NIVELES TRES ALCOBAS SALA COMEDOR...   \n",
       "\n",
       "                                                 url  metrocuadrado_index  \n",
       "0  https://www.metrocuadrado.com/inmueble/arriend...                 25.6  \n",
       "1  https://www.metrocuadrado.com/inmueble/arriend...                 57.3  \n",
       "2  https://www.metrocuadrado.com/inmueble/arriend...                 12.2  "
      ]
     },
     "execution_count": 3,
     "metadata": {},
     "output_type": "execute_result"
    }
   ],
   "source": [
    "import pandas as pd\n",
    "\n",
    "#Se lee el primer dataframe para observar los datos\n",
    "data_all = pd.read_csv(files[0])\n",
    "data_all.head(3)"
   ]
  },
  {
   "cell_type": "markdown",
   "metadata": {},
   "source": [
    "En primer lugar se combinan los dataframes normales"
   ]
  },
  {
   "cell_type": "code",
   "execution_count": 4,
   "metadata": {
    "scrolled": false
   },
   "outputs": [
    {
     "name": "stdout",
     "output_type": "stream",
     "text": [
      "Cantidad de datos:  16470\n"
     ]
    },
    {
     "data": {
      "text/html": [
       "<div>\n",
       "<style scoped>\n",
       "    .dataframe tbody tr th:only-of-type {\n",
       "        vertical-align: middle;\n",
       "    }\n",
       "\n",
       "    .dataframe tbody tr th {\n",
       "        vertical-align: top;\n",
       "    }\n",
       "\n",
       "    .dataframe thead th {\n",
       "        text-align: right;\n",
       "    }\n",
       "</style>\n",
       "<table border=\"1\" class=\"dataframe\">\n",
       "  <thead>\n",
       "    <tr style=\"text-align: right;\">\n",
       "      <th></th>\n",
       "      <th>property_type|rent_type|location</th>\n",
       "      <th>price</th>\n",
       "      <th>n_rooms</th>\n",
       "      <th>n_bath</th>\n",
       "      <th>surface</th>\n",
       "      <th>details</th>\n",
       "      <th>url</th>\n",
       "      <th>metrocuadrado_index</th>\n",
       "    </tr>\n",
       "  </thead>\n",
       "  <tbody>\n",
       "    <tr>\n",
       "      <th>0</th>\n",
       "      <td>Casa en Arriendo, LA SOLEDAD NORTE Bogotá D.C..</td>\n",
       "      <td>$1.050.000</td>\n",
       "      <td>3</td>\n",
       "      <td>2</td>\n",
       "      <td>63.0 m2</td>\n",
       "      <td>Excelente casa cerca de la calle 80 y Avenida ...</td>\n",
       "      <td>https://www.metrocuadrado.com/inmueble/arriend...</td>\n",
       "      <td>25.6</td>\n",
       "    </tr>\n",
       "    <tr>\n",
       "      <th>1</th>\n",
       "      <td>Casa en Arriendo, CIUDAD SALITRE SUR-ORIENTAL ...</td>\n",
       "      <td>$3.930.000</td>\n",
       "      <td>3</td>\n",
       "      <td>2</td>\n",
       "      <td>100.0 m2</td>\n",
       "      <td>Se arrienda casa bonita totalmente amoblada co...</td>\n",
       "      <td>https://www.metrocuadrado.com/inmueble/arriend...</td>\n",
       "      <td>57.3</td>\n",
       "    </tr>\n",
       "    <tr>\n",
       "      <th>2</th>\n",
       "      <td>Casa en Arriendo, VILLA DE LOS ALPES II SECTOR...</td>\n",
       "      <td>$750.000</td>\n",
       "      <td>3</td>\n",
       "      <td>1</td>\n",
       "      <td>90.0 m2</td>\n",
       "      <td>CASA DE TRES NIVELES TRES ALCOBAS SALA COMEDOR...</td>\n",
       "      <td>https://www.metrocuadrado.com/inmueble/arriend...</td>\n",
       "      <td>12.2</td>\n",
       "    </tr>\n",
       "  </tbody>\n",
       "</table>\n",
       "</div>"
      ],
      "text/plain": [
       "                    property_type|rent_type|location       price n_rooms  \\\n",
       "0    Casa en Arriendo, LA SOLEDAD NORTE Bogotá D.C..  $1.050.000       3   \n",
       "1  Casa en Arriendo, CIUDAD SALITRE SUR-ORIENTAL ...  $3.930.000       3   \n",
       "2  Casa en Arriendo, VILLA DE LOS ALPES II SECTOR...    $750.000       3   \n",
       "\n",
       "  n_bath   surface                                            details  \\\n",
       "0      2   63.0 m2  Excelente casa cerca de la calle 80 y Avenida ...   \n",
       "1      2  100.0 m2  Se arrienda casa bonita totalmente amoblada co...   \n",
       "2      1   90.0 m2  CASA DE TRES NIVELES TRES ALCOBAS SALA COMEDOR...   \n",
       "\n",
       "                                                 url  metrocuadrado_index  \n",
       "0  https://www.metrocuadrado.com/inmueble/arriend...                 25.6  \n",
       "1  https://www.metrocuadrado.com/inmueble/arriend...                 57.3  \n",
       "2  https://www.metrocuadrado.com/inmueble/arriend...                 12.2  "
      ]
     },
     "execution_count": 4,
     "metadata": {},
     "output_type": "execute_result"
    }
   ],
   "source": [
    "data_all = pd.read_csv(files[0])\n",
    "\n",
    "for file in files:\n",
    "    dato_semanal = pd.read_csv(file)\n",
    "    data_all = data_all.merge(dato_semanal, how = 'outer') \n",
    "    #Se pone 'outer' para hacer la union de todos los dataframes\n",
    "\n",
    "print('Cantidad de datos: ', len(data_all))\n",
    "data_all.head(3)"
   ]
  },
  {
   "cell_type": "code",
   "execution_count": 5,
   "metadata": {},
   "outputs": [
    {
     "name": "stdout",
     "output_type": "stream",
     "text": [
      "Duplicados:  175\n"
     ]
    }
   ],
   "source": [
    "#Se ve si hay duplicados\n",
    "print('Duplicados: ', data_all.duplicated().sum())"
   ]
  },
  {
   "cell_type": "code",
   "execution_count": 6,
   "metadata": {
    "scrolled": true
   },
   "outputs": [
    {
     "name": "stdout",
     "output_type": "stream",
     "text": [
      "Cantidad de datos:  16295\n"
     ]
    }
   ],
   "source": [
    "#Se eliminan las filas duplicadas\n",
    "data_all.drop_duplicates(inplace=True)\n",
    "print('Cantidad de datos: ', len(data_all))"
   ]
  },
  {
   "cell_type": "markdown",
   "metadata": {},
   "source": [
    "Ahora se combinan los archivos furnished"
   ]
  },
  {
   "cell_type": "code",
   "execution_count": 7,
   "metadata": {},
   "outputs": [
    {
     "name": "stdout",
     "output_type": "stream",
     "text": [
      "Cantidad de datos:  2101\n"
     ]
    },
    {
     "data": {
      "text/html": [
       "<div>\n",
       "<style scoped>\n",
       "    .dataframe tbody tr th:only-of-type {\n",
       "        vertical-align: middle;\n",
       "    }\n",
       "\n",
       "    .dataframe tbody tr th {\n",
       "        vertical-align: top;\n",
       "    }\n",
       "\n",
       "    .dataframe thead th {\n",
       "        text-align: right;\n",
       "    }\n",
       "</style>\n",
       "<table border=\"1\" class=\"dataframe\">\n",
       "  <thead>\n",
       "    <tr style=\"text-align: right;\">\n",
       "      <th></th>\n",
       "      <th>property_type|rent_type|location</th>\n",
       "      <th>price</th>\n",
       "      <th>n_rooms</th>\n",
       "      <th>n_bath</th>\n",
       "      <th>surface</th>\n",
       "      <th>details</th>\n",
       "      <th>url</th>\n",
       "      <th>metrocuadrado_index</th>\n",
       "    </tr>\n",
       "  </thead>\n",
       "  <tbody>\n",
       "    <tr>\n",
       "      <th>0</th>\n",
       "      <td>Casa en Arriendo, CIUDAD SALITRE SUR-ORIENTAL ...</td>\n",
       "      <td>$3.930.000</td>\n",
       "      <td>3.0</td>\n",
       "      <td>2.0</td>\n",
       "      <td>100.0 m2</td>\n",
       "      <td>Se arrienda casa bonita totalmente amoblada co...</td>\n",
       "      <td>https://www.metrocuadrado.com/inmueble/arriend...</td>\n",
       "      <td>57.3</td>\n",
       "    </tr>\n",
       "    <tr>\n",
       "      <th>1</th>\n",
       "      <td>Casa en Venta Y Arriendo, BELLAVISTA Bogotá D.C..</td>\n",
       "      <td>$1.300.000</td>\n",
       "      <td>3.0</td>\n",
       "      <td>2.0</td>\n",
       "      <td>72.0 m2</td>\n",
       "      <td>hermosa casa en venta y en arriendo en, mandal...</td>\n",
       "      <td>https://www.metrocuadrado.com/inmueble/venta-c...</td>\n",
       "      <td>41.4</td>\n",
       "    </tr>\n",
       "    <tr>\n",
       "      <th>2</th>\n",
       "      <td>Casa en Arriendo, PORTALES DEL NORTE Bogotá D.C..</td>\n",
       "      <td>$1.800.000</td>\n",
       "      <td>3.0</td>\n",
       "      <td>3.0</td>\n",
       "      <td>76.81 m2</td>\n",
       "      <td>Estrato 4. CASA TRIPLEX!! Exterior . Cuenta co...</td>\n",
       "      <td>https://www.metrocuadrado.com/inmueble/arriend...</td>\n",
       "      <td>41.3</td>\n",
       "    </tr>\n",
       "  </tbody>\n",
       "</table>\n",
       "</div>"
      ],
      "text/plain": [
       "                    property_type|rent_type|location       price  n_rooms  \\\n",
       "0  Casa en Arriendo, CIUDAD SALITRE SUR-ORIENTAL ...  $3.930.000      3.0   \n",
       "1  Casa en Venta Y Arriendo, BELLAVISTA Bogotá D.C..  $1.300.000      3.0   \n",
       "2  Casa en Arriendo, PORTALES DEL NORTE Bogotá D.C..  $1.800.000      3.0   \n",
       "\n",
       "   n_bath   surface                                            details  \\\n",
       "0     2.0  100.0 m2  Se arrienda casa bonita totalmente amoblada co...   \n",
       "1     2.0   72.0 m2  hermosa casa en venta y en arriendo en, mandal...   \n",
       "2     3.0  76.81 m2  Estrato 4. CASA TRIPLEX!! Exterior . Cuenta co...   \n",
       "\n",
       "                                                 url  metrocuadrado_index  \n",
       "0  https://www.metrocuadrado.com/inmueble/arriend...                 57.3  \n",
       "1  https://www.metrocuadrado.com/inmueble/venta-c...                 41.4  \n",
       "2  https://www.metrocuadrado.com/inmueble/arriend...                 41.3  "
      ]
     },
     "execution_count": 7,
     "metadata": {},
     "output_type": "execute_result"
    }
   ],
   "source": [
    "data_furnished = pd.read_csv(files_furnished[0])\n",
    "\n",
    "for file in files_furnished:\n",
    "    dato_semanal = pd.read_csv(file)\n",
    "    data_furnished = data_furnished.merge(dato_semanal, how='outer')\n",
    "\n",
    "print('Cantidad de datos: ', len(data_furnished))\n",
    "data_furnished.head(3)"
   ]
  },
  {
   "cell_type": "code",
   "execution_count": 8,
   "metadata": {},
   "outputs": [
    {
     "name": "stdout",
     "output_type": "stream",
     "text": [
      "Duplicados:  2\n"
     ]
    }
   ],
   "source": [
    "#Se buscan los duplicados y se eliminan\n",
    "print('Duplicados: ', data_furnished.duplicated().sum())"
   ]
  },
  {
   "cell_type": "code",
   "execution_count": 9,
   "metadata": {},
   "outputs": [
    {
     "name": "stdout",
     "output_type": "stream",
     "text": [
      "Cantidad de datos:  2099\n"
     ]
    }
   ],
   "source": [
    "data_furnished.drop_duplicates(inplace=True)\n",
    "\n",
    "print('Cantidad de datos: ', len(data_furnished))\n",
    "#Se observa que son muchos menos los datos de tipo furnished"
   ]
  },
  {
   "cell_type": "markdown",
   "metadata": {},
   "source": [
    "Al intentar combinar ambos dataframes usando `data_all.merge(data_furnished, how='outer')` aparece el error:\n",
    "\n",
    "`ValueError: You are trying to merge on object and float64 columns. If you wish to proceed you should use pd.concat`\n",
    "\n",
    "Por lo que se decide comprobar los tipos de las columnas"
   ]
  },
  {
   "cell_type": "code",
   "execution_count": 10,
   "metadata": {},
   "outputs": [
    {
     "name": "stdout",
     "output_type": "stream",
     "text": [
      "Tipos Data All\n",
      "property_type|rent_type|location     object\n",
      "price                                object\n",
      "n_rooms                              object\n",
      "n_bath                               object\n",
      "surface                              object\n",
      "details                              object\n",
      "url                                  object\n",
      "metrocuadrado_index                 float64\n",
      "dtype: object\n",
      "\n",
      "Tipos Data Furnished\n",
      "property_type|rent_type|location     object\n",
      "price                                object\n",
      "n_rooms                             float64\n",
      "n_bath                              float64\n",
      "surface                              object\n",
      "details                              object\n",
      "url                                  object\n",
      "metrocuadrado_index                 float64\n",
      "dtype: object\n"
     ]
    }
   ],
   "source": [
    "#Se observan las columnas de los dataframe\n",
    "print('Tipos Data All')\n",
    "print(data_all.dtypes)\n",
    "print()\n",
    "print('Tipos Data Furnished')\n",
    "print(data_furnished.dtypes)"
   ]
  },
  {
   "cell_type": "markdown",
   "metadata": {},
   "source": [
    "Se observa que el error se debe a que en `Data All` las columnas `n_rooms` y `n_bath` son de tipo `object`, en cambio en `Data Furnished` son de tipo `float64`.\n",
    "\n",
    "Este problema se resuelve simplemente cambiando el tipo de esas columnas."
   ]
  },
  {
   "cell_type": "code",
   "execution_count": 11,
   "metadata": {},
   "outputs": [],
   "source": [
    "#Se cambian las columnas de 'data_furnished' a object\n",
    "data_furnished = data_furnished.astype({'n_rooms':'object', 'n_bath':'object'})\n",
    "\n",
    "#Obs: No se pueden cambiar las columnas de 'data_all' a float64, pues hay un dato llamado '5+'"
   ]
  },
  {
   "cell_type": "code",
   "execution_count": 12,
   "metadata": {},
   "outputs": [
    {
     "name": "stdout",
     "output_type": "stream",
     "text": [
      "Cantidad de datos:  18394\n"
     ]
    },
    {
     "data": {
      "text/html": [
       "<div>\n",
       "<style scoped>\n",
       "    .dataframe tbody tr th:only-of-type {\n",
       "        vertical-align: middle;\n",
       "    }\n",
       "\n",
       "    .dataframe tbody tr th {\n",
       "        vertical-align: top;\n",
       "    }\n",
       "\n",
       "    .dataframe thead th {\n",
       "        text-align: right;\n",
       "    }\n",
       "</style>\n",
       "<table border=\"1\" class=\"dataframe\">\n",
       "  <thead>\n",
       "    <tr style=\"text-align: right;\">\n",
       "      <th></th>\n",
       "      <th>property_type|rent_type|location</th>\n",
       "      <th>price</th>\n",
       "      <th>n_rooms</th>\n",
       "      <th>n_bath</th>\n",
       "      <th>surface</th>\n",
       "      <th>details</th>\n",
       "      <th>url</th>\n",
       "      <th>metrocuadrado_index</th>\n",
       "      <th>Furnished</th>\n",
       "    </tr>\n",
       "  </thead>\n",
       "  <tbody>\n",
       "    <tr>\n",
       "      <th>0</th>\n",
       "      <td>Casa en Arriendo, LA SOLEDAD NORTE Bogotá D.C..</td>\n",
       "      <td>$1.050.000</td>\n",
       "      <td>3</td>\n",
       "      <td>2</td>\n",
       "      <td>63.0 m2</td>\n",
       "      <td>Excelente casa cerca de la calle 80 y Avenida ...</td>\n",
       "      <td>https://www.metrocuadrado.com/inmueble/arriend...</td>\n",
       "      <td>25.6</td>\n",
       "      <td>left_only</td>\n",
       "    </tr>\n",
       "    <tr>\n",
       "      <th>1</th>\n",
       "      <td>Casa en Arriendo, CIUDAD SALITRE SUR-ORIENTAL ...</td>\n",
       "      <td>$3.930.000</td>\n",
       "      <td>3</td>\n",
       "      <td>2</td>\n",
       "      <td>100.0 m2</td>\n",
       "      <td>Se arrienda casa bonita totalmente amoblada co...</td>\n",
       "      <td>https://www.metrocuadrado.com/inmueble/arriend...</td>\n",
       "      <td>57.3</td>\n",
       "      <td>left_only</td>\n",
       "    </tr>\n",
       "    <tr>\n",
       "      <th>2</th>\n",
       "      <td>Casa en Arriendo, VILLA DE LOS ALPES II SECTOR...</td>\n",
       "      <td>$750.000</td>\n",
       "      <td>3</td>\n",
       "      <td>1</td>\n",
       "      <td>90.0 m2</td>\n",
       "      <td>CASA DE TRES NIVELES TRES ALCOBAS SALA COMEDOR...</td>\n",
       "      <td>https://www.metrocuadrado.com/inmueble/arriend...</td>\n",
       "      <td>12.2</td>\n",
       "      <td>left_only</td>\n",
       "    </tr>\n",
       "  </tbody>\n",
       "</table>\n",
       "</div>"
      ],
      "text/plain": [
       "                    property_type|rent_type|location       price n_rooms  \\\n",
       "0    Casa en Arriendo, LA SOLEDAD NORTE Bogotá D.C..  $1.050.000       3   \n",
       "1  Casa en Arriendo, CIUDAD SALITRE SUR-ORIENTAL ...  $3.930.000       3   \n",
       "2  Casa en Arriendo, VILLA DE LOS ALPES II SECTOR...    $750.000       3   \n",
       "\n",
       "  n_bath   surface                                            details  \\\n",
       "0      2   63.0 m2  Excelente casa cerca de la calle 80 y Avenida ...   \n",
       "1      2  100.0 m2  Se arrienda casa bonita totalmente amoblada co...   \n",
       "2      1   90.0 m2  CASA DE TRES NIVELES TRES ALCOBAS SALA COMEDOR...   \n",
       "\n",
       "                                                 url  metrocuadrado_index  \\\n",
       "0  https://www.metrocuadrado.com/inmueble/arriend...                 25.6   \n",
       "1  https://www.metrocuadrado.com/inmueble/arriend...                 57.3   \n",
       "2  https://www.metrocuadrado.com/inmueble/arriend...                 12.2   \n",
       "\n",
       "   Furnished  \n",
       "0  left_only  \n",
       "1  left_only  \n",
       "2  left_only  "
      ]
     },
     "execution_count": 12,
     "metadata": {},
     "output_type": "execute_result"
    }
   ],
   "source": [
    "#Se combinan los dataframes\n",
    "data = data_all.merge(data_furnished, how='outer', indicator='Furnished')\n",
    "\n",
    "#Se coloca utiliza el parámetro indicator para indicar de que dataframe \n",
    "#proviene cada fila.\n",
    "#left_only indica que viene del dataframe 'data_all'\n",
    "#right_only indica que viene del dataframe 'data_furnished'\n",
    "#y both que proviene de ambos\n",
    "\n",
    "print('Cantidad de datos: ', len(data))\n",
    "data.head(3)"
   ]
  },
  {
   "cell_type": "code",
   "execution_count": 13,
   "metadata": {
    "scrolled": true
   },
   "outputs": [
    {
     "data": {
      "text/html": [
       "<div>\n",
       "<style scoped>\n",
       "    .dataframe tbody tr th:only-of-type {\n",
       "        vertical-align: middle;\n",
       "    }\n",
       "\n",
       "    .dataframe tbody tr th {\n",
       "        vertical-align: top;\n",
       "    }\n",
       "\n",
       "    .dataframe thead th {\n",
       "        text-align: right;\n",
       "    }\n",
       "</style>\n",
       "<table border=\"1\" class=\"dataframe\">\n",
       "  <thead>\n",
       "    <tr style=\"text-align: right;\">\n",
       "      <th></th>\n",
       "      <th>property_type|rent_type|location</th>\n",
       "      <th>price</th>\n",
       "      <th>n_rooms</th>\n",
       "      <th>n_bath</th>\n",
       "      <th>surface</th>\n",
       "      <th>details</th>\n",
       "      <th>url</th>\n",
       "      <th>metrocuadrado_index</th>\n",
       "      <th>Furnished</th>\n",
       "    </tr>\n",
       "  </thead>\n",
       "  <tbody>\n",
       "    <tr>\n",
       "      <th>0</th>\n",
       "      <td>Casa en Arriendo, LA SOLEDAD NORTE Bogotá D.C..</td>\n",
       "      <td>$1.050.000</td>\n",
       "      <td>3</td>\n",
       "      <td>2</td>\n",
       "      <td>63.0 m2</td>\n",
       "      <td>Excelente casa cerca de la calle 80 y Avenida ...</td>\n",
       "      <td>https://www.metrocuadrado.com/inmueble/arriend...</td>\n",
       "      <td>25.6</td>\n",
       "      <td>No</td>\n",
       "    </tr>\n",
       "    <tr>\n",
       "      <th>1</th>\n",
       "      <td>Casa en Arriendo, CIUDAD SALITRE SUR-ORIENTAL ...</td>\n",
       "      <td>$3.930.000</td>\n",
       "      <td>3</td>\n",
       "      <td>2</td>\n",
       "      <td>100.0 m2</td>\n",
       "      <td>Se arrienda casa bonita totalmente amoblada co...</td>\n",
       "      <td>https://www.metrocuadrado.com/inmueble/arriend...</td>\n",
       "      <td>57.3</td>\n",
       "      <td>No</td>\n",
       "    </tr>\n",
       "    <tr>\n",
       "      <th>2</th>\n",
       "      <td>Casa en Arriendo, VILLA DE LOS ALPES II SECTOR...</td>\n",
       "      <td>$750.000</td>\n",
       "      <td>3</td>\n",
       "      <td>1</td>\n",
       "      <td>90.0 m2</td>\n",
       "      <td>CASA DE TRES NIVELES TRES ALCOBAS SALA COMEDOR...</td>\n",
       "      <td>https://www.metrocuadrado.com/inmueble/arriend...</td>\n",
       "      <td>12.2</td>\n",
       "      <td>No</td>\n",
       "    </tr>\n",
       "  </tbody>\n",
       "</table>\n",
       "</div>"
      ],
      "text/plain": [
       "                    property_type|rent_type|location       price n_rooms  \\\n",
       "0    Casa en Arriendo, LA SOLEDAD NORTE Bogotá D.C..  $1.050.000       3   \n",
       "1  Casa en Arriendo, CIUDAD SALITRE SUR-ORIENTAL ...  $3.930.000       3   \n",
       "2  Casa en Arriendo, VILLA DE LOS ALPES II SECTOR...    $750.000       3   \n",
       "\n",
       "  n_bath   surface                                            details  \\\n",
       "0      2   63.0 m2  Excelente casa cerca de la calle 80 y Avenida ...   \n",
       "1      2  100.0 m2  Se arrienda casa bonita totalmente amoblada co...   \n",
       "2      1   90.0 m2  CASA DE TRES NIVELES TRES ALCOBAS SALA COMEDOR...   \n",
       "\n",
       "                                                 url  metrocuadrado_index  \\\n",
       "0  https://www.metrocuadrado.com/inmueble/arriend...                 25.6   \n",
       "1  https://www.metrocuadrado.com/inmueble/arriend...                 57.3   \n",
       "2  https://www.metrocuadrado.com/inmueble/arriend...                 12.2   \n",
       "\n",
       "  Furnished  \n",
       "0        No  \n",
       "1        No  \n",
       "2        No  "
      ]
     },
     "execution_count": 13,
     "metadata": {},
     "output_type": "execute_result"
    }
   ],
   "source": [
    "data['Furnished'].replace({'left_only':'No', 'right_only':'Si', 'both':'Ambos'}, inplace=True)\n",
    "\n",
    "#Se cambian los nombres para indicar más claramente si provienen de furnished o no\n",
    "data.head(3)"
   ]
  },
  {
   "cell_type": "code",
   "execution_count": 14,
   "metadata": {},
   "outputs": [
    {
     "data": {
      "text/plain": [
       "No    16295\n",
       "Si     2099\n",
       "Name: Furnished, dtype: int64"
      ]
     },
     "execution_count": 14,
     "metadata": {},
     "output_type": "execute_result"
    }
   ],
   "source": [
    "#Se cuentan la cantidad de cada valores de cada tipo\n",
    "data['Furnished'].value_counts()"
   ]
  },
  {
   "cell_type": "markdown",
   "metadata": {},
   "source": [
    "Como se observa no hay elementos comunes entre ambos grupos, son disjuntos. No hay archivos con texto 'furnished' que no estén contenidos en archivos con texto 'all'."
   ]
  },
  {
   "cell_type": "code",
   "execution_count": 15,
   "metadata": {},
   "outputs": [
    {
     "data": {
      "text/html": [
       "<div>\n",
       "<style scoped>\n",
       "    .dataframe tbody tr th:only-of-type {\n",
       "        vertical-align: middle;\n",
       "    }\n",
       "\n",
       "    .dataframe tbody tr th {\n",
       "        vertical-align: top;\n",
       "    }\n",
       "\n",
       "    .dataframe thead th {\n",
       "        text-align: right;\n",
       "    }\n",
       "</style>\n",
       "<table border=\"1\" class=\"dataframe\">\n",
       "  <thead>\n",
       "    <tr style=\"text-align: right;\">\n",
       "      <th></th>\n",
       "      <th>property_type|rent_type|location</th>\n",
       "      <th>price</th>\n",
       "      <th>n_rooms</th>\n",
       "      <th>n_bath</th>\n",
       "      <th>surface</th>\n",
       "      <th>details</th>\n",
       "      <th>url</th>\n",
       "      <th>metrocuadrado_index</th>\n",
       "    </tr>\n",
       "  </thead>\n",
       "  <tbody>\n",
       "  </tbody>\n",
       "</table>\n",
       "</div>"
      ],
      "text/plain": [
       "Empty DataFrame\n",
       "Columns: [property_type|rent_type|location, price, n_rooms, n_bath, surface, details, url, metrocuadrado_index]\n",
       "Index: []"
      ]
     },
     "execution_count": 15,
     "metadata": {},
     "output_type": "execute_result"
    }
   ],
   "source": [
    "#Esto se comprueba tambien haciendo una intersección entre los dataframes\n",
    "#mediante el argumento 'inner'\n",
    "pd.merge(data_all, data_furnished, how='inner')\n",
    "\n",
    "#Se observa que el resultado es un dataframe vacío"
   ]
  },
  {
   "cell_type": "markdown",
   "metadata": {},
   "source": [
    "### Parte 2"
   ]
  },
  {
   "cell_type": "markdown",
   "metadata": {},
   "source": [
    "#### A"
   ]
  },
  {
   "cell_type": "markdown",
   "metadata": {},
   "source": [
    "Primero se limpia el precio"
   ]
  },
  {
   "cell_type": "code",
   "execution_count": 16,
   "metadata": {},
   "outputs": [
    {
     "data": {
      "text/plain": [
       "0    $1.050.000\n",
       "1    $3.930.000\n",
       "2      $750.000\n",
       "Name: price, dtype: object"
      ]
     },
     "execution_count": 16,
     "metadata": {},
     "output_type": "execute_result"
    }
   ],
   "source": [
    "data['price'].head(3)"
   ]
  },
  {
   "cell_type": "markdown",
   "metadata": {},
   "source": [
    "Se observa que son de tipo `object`, pues el precio contiene el signo peso '$' y los puntos. Convendría eliminar este signo y los puntos para poder pasar los datos a `float64`."
   ]
  },
  {
   "cell_type": "code",
   "execution_count": 17,
   "metadata": {},
   "outputs": [
    {
     "data": {
      "text/plain": [
       "0    1050000\n",
       "1    3930000\n",
       "2     750000\n",
       "Name: price, dtype: object"
      ]
     },
     "execution_count": 17,
     "metadata": {},
     "output_type": "execute_result"
    }
   ],
   "source": [
    "data['price'] = data['price'].str.replace('$','')\n",
    "data['price'] = data['price'].str.replace('.','')\n",
    "data['price'].head(3)"
   ]
  },
  {
   "cell_type": "code",
   "execution_count": 18,
   "metadata": {},
   "outputs": [
    {
     "data": {
      "text/plain": [
       "0    1050000.0\n",
       "1    3930000.0\n",
       "2     750000.0\n",
       "Name: price, dtype: float64"
      ]
     },
     "execution_count": 18,
     "metadata": {},
     "output_type": "execute_result"
    }
   ],
   "source": [
    "#Se cambia el tipo a float64\n",
    "data['price'] = data['price'].astype('float')\n",
    "data['price'].head(3)"
   ]
  },
  {
   "cell_type": "code",
   "execution_count": 19,
   "metadata": {},
   "outputs": [
    {
     "data": {
      "text/plain": [
       "0"
      ]
     },
     "execution_count": 19,
     "metadata": {},
     "output_type": "execute_result"
    }
   ],
   "source": [
    "#Finalmente se revisa que no hayan nulos\n",
    "data['price'].isnull().sum()"
   ]
  },
  {
   "cell_type": "markdown",
   "metadata": {},
   "source": [
    "Ahora se limpia el área"
   ]
  },
  {
   "cell_type": "code",
   "execution_count": 20,
   "metadata": {},
   "outputs": [
    {
     "data": {
      "text/plain": [
       "18390    164.34 m2\n",
       "18391     110.0 m2\n",
       "18392     106.0 m2\n",
       "18393     135.0 m2\n",
       "Name: surface, dtype: object"
      ]
     },
     "execution_count": 20,
     "metadata": {},
     "output_type": "execute_result"
    }
   ],
   "source": [
    "data['surface'].tail(4)"
   ]
  },
  {
   "cell_type": "markdown",
   "metadata": {},
   "source": [
    "Se deben eliminar los carácteres ' m2' al final del número, y luego cambiar el tipo a `float`."
   ]
  },
  {
   "cell_type": "code",
   "execution_count": 21,
   "metadata": {},
   "outputs": [
    {
     "data": {
      "text/plain": [
       "18390    164.34\n",
       "18391    110.00\n",
       "18392    106.00\n",
       "18393    135.00\n",
       "Name: surface, dtype: float64"
      ]
     },
     "execution_count": 21,
     "metadata": {},
     "output_type": "execute_result"
    }
   ],
   "source": [
    "data['surface'] = data['surface'].str.replace(' m2','')\n",
    "data['surface'] = data['surface'].astype('float')\n",
    "data['surface'].tail(4)"
   ]
  },
  {
   "cell_type": "code",
   "execution_count": 22,
   "metadata": {},
   "outputs": [
    {
     "data": {
      "text/plain": [
       "0"
      ]
     },
     "execution_count": 22,
     "metadata": {},
     "output_type": "execute_result"
    }
   ],
   "source": [
    "#Se revisa que no hayan nulos\n",
    "data['surface'].isnull().sum()"
   ]
  },
  {
   "cell_type": "code",
   "execution_count": 23,
   "metadata": {},
   "outputs": [
    {
     "data": {
      "text/plain": [
       "4014     0.0\n",
       "5170     0.0\n",
       "5171     0.0\n",
       "5293     0.0\n",
       "5424     0.0\n",
       "5425     0.0\n",
       "5564     0.0\n",
       "5655     0.0\n",
       "5800     0.0\n",
       "5819     0.0\n",
       "5850     0.0\n",
       "5894     0.0\n",
       "5895     0.0\n",
       "5930     0.0\n",
       "12337    0.0\n",
       "16280    0.0\n",
       "Name: surface, dtype: float64"
      ]
     },
     "execution_count": 23,
     "metadata": {},
     "output_type": "execute_result"
    }
   ],
   "source": [
    "#Finalmente se revisa si hay valores extraños\n",
    "data['surface'][data['surface']==0]"
   ]
  },
  {
   "cell_type": "markdown",
   "metadata": {},
   "source": [
    "Claramente es imposible que exista una vivienda con área nula.\n",
    "\n",
    "Se revisan los datos que crean problemas, y se cuenta el número de ellos."
   ]
  },
  {
   "cell_type": "code",
   "execution_count": 24,
   "metadata": {},
   "outputs": [
    {
     "name": "stdout",
     "output_type": "stream",
     "text": [
      "Número de datos con área nula: 16\n"
     ]
    },
    {
     "data": {
      "text/html": [
       "<div>\n",
       "<style scoped>\n",
       "    .dataframe tbody tr th:only-of-type {\n",
       "        vertical-align: middle;\n",
       "    }\n",
       "\n",
       "    .dataframe tbody tr th {\n",
       "        vertical-align: top;\n",
       "    }\n",
       "\n",
       "    .dataframe thead th {\n",
       "        text-align: right;\n",
       "    }\n",
       "</style>\n",
       "<table border=\"1\" class=\"dataframe\">\n",
       "  <thead>\n",
       "    <tr style=\"text-align: right;\">\n",
       "      <th></th>\n",
       "      <th>property_type|rent_type|location</th>\n",
       "      <th>price</th>\n",
       "      <th>n_rooms</th>\n",
       "      <th>n_bath</th>\n",
       "      <th>surface</th>\n",
       "      <th>details</th>\n",
       "      <th>url</th>\n",
       "      <th>metrocuadrado_index</th>\n",
       "      <th>Furnished</th>\n",
       "    </tr>\n",
       "  </thead>\n",
       "  <tbody>\n",
       "    <tr>\n",
       "      <th>4014</th>\n",
       "      <td>Apartamento en Arriendo, CHAPINERO NORTE Bogot...</td>\n",
       "      <td>1614000.0</td>\n",
       "      <td>1</td>\n",
       "      <td>1</td>\n",
       "      <td>0.0</td>\n",
       "      <td>Aparta estudio en arriendo, alcoba con closet ...</td>\n",
       "      <td>https://www.metrocuadrado.com/inmueble/arriend...</td>\n",
       "      <td>72.5</td>\n",
       "      <td>No</td>\n",
       "    </tr>\n",
       "    <tr>\n",
       "      <th>5170</th>\n",
       "      <td>Apartamento en Arriendo, LA ISABELA Bogotá D.C..</td>\n",
       "      <td>685121.0</td>\n",
       "      <td>1</td>\n",
       "      <td>NaN</td>\n",
       "      <td>0.0</td>\n",
       "      <td>Ninguna</td>\n",
       "      <td>https://www.metrocuadrado.com/inmueble/arriend...</td>\n",
       "      <td>60.4</td>\n",
       "      <td>No</td>\n",
       "    </tr>\n",
       "    <tr>\n",
       "      <th>5171</th>\n",
       "      <td>Apartamento en Arriendo, SAN LUIS Bogotá D.C..</td>\n",
       "      <td>1062754.0</td>\n",
       "      <td>1</td>\n",
       "      <td>NaN</td>\n",
       "      <td>0.0</td>\n",
       "      <td>Ninguna</td>\n",
       "      <td>https://www.metrocuadrado.com/inmueble/arriend...</td>\n",
       "      <td>32.5</td>\n",
       "      <td>No</td>\n",
       "    </tr>\n",
       "    <tr>\n",
       "      <th>5293</th>\n",
       "      <td>Apartamento en Arriendo, EL SALITRE Bogotá D.C..</td>\n",
       "      <td>583945.0</td>\n",
       "      <td>1</td>\n",
       "      <td>NaN</td>\n",
       "      <td>0.0</td>\n",
       "      <td>NaN</td>\n",
       "      <td>https://www.metrocuadrado.com/inmueble/arriend...</td>\n",
       "      <td>54.7</td>\n",
       "      <td>No</td>\n",
       "    </tr>\n",
       "    <tr>\n",
       "      <th>5424</th>\n",
       "      <td>Apartamento en Arriendo, EL CHILCAL Bogotá D.C..</td>\n",
       "      <td>333123.0</td>\n",
       "      <td>1</td>\n",
       "      <td>NaN</td>\n",
       "      <td>0.0</td>\n",
       "      <td>Ninguna</td>\n",
       "      <td>https://www.metrocuadrado.com/inmueble/arriend...</td>\n",
       "      <td>47.0</td>\n",
       "      <td>No</td>\n",
       "    </tr>\n",
       "    <tr>\n",
       "      <th>5425</th>\n",
       "      <td>Apartamento en Arriendo, COLOMBIA Bogotá D.C..</td>\n",
       "      <td>1400000.0</td>\n",
       "      <td>1</td>\n",
       "      <td>NaN</td>\n",
       "      <td>0.0</td>\n",
       "      <td>Ninguna</td>\n",
       "      <td>https://www.metrocuadrado.com/inmueble/arriend...</td>\n",
       "      <td>55.8</td>\n",
       "      <td>No</td>\n",
       "    </tr>\n",
       "    <tr>\n",
       "      <th>5564</th>\n",
       "      <td>Apartamento en Arriendo, SANTA BARBARA CENTRAL...</td>\n",
       "      <td>1317950.0</td>\n",
       "      <td>1</td>\n",
       "      <td>NaN</td>\n",
       "      <td>0.0</td>\n",
       "      <td>NaN</td>\n",
       "      <td>https://www.metrocuadrado.com/inmueble/arriend...</td>\n",
       "      <td>44.0</td>\n",
       "      <td>No</td>\n",
       "    </tr>\n",
       "    <tr>\n",
       "      <th>5655</th>\n",
       "      <td>Apartamento en Arriendo, SANTA BARBARA CENTRAL...</td>\n",
       "      <td>2743261.0</td>\n",
       "      <td>1</td>\n",
       "      <td>NaN</td>\n",
       "      <td>0.0</td>\n",
       "      <td>Ninguna</td>\n",
       "      <td>https://www.metrocuadrado.com/inmueble/arriend...</td>\n",
       "      <td>51.7</td>\n",
       "      <td>No</td>\n",
       "    </tr>\n",
       "    <tr>\n",
       "      <th>5800</th>\n",
       "      <td>Apartamento en Arriendo, TUNA ALTA Bogotá D.C..</td>\n",
       "      <td>442023.0</td>\n",
       "      <td>1</td>\n",
       "      <td>NaN</td>\n",
       "      <td>0.0</td>\n",
       "      <td>Ninguna</td>\n",
       "      <td>https://www.metrocuadrado.com/inmueble/arriend...</td>\n",
       "      <td>46.8</td>\n",
       "      <td>No</td>\n",
       "    </tr>\n",
       "    <tr>\n",
       "      <th>5819</th>\n",
       "      <td>Apartamento en Arriendo, EL SALITRE Bogotá D.C..</td>\n",
       "      <td>462441.0</td>\n",
       "      <td>1</td>\n",
       "      <td>NaN</td>\n",
       "      <td>0.0</td>\n",
       "      <td>Ninguna</td>\n",
       "      <td>https://www.metrocuadrado.com/inmueble/arriend...</td>\n",
       "      <td>53.6</td>\n",
       "      <td>No</td>\n",
       "    </tr>\n",
       "    <tr>\n",
       "      <th>5850</th>\n",
       "      <td>Apartamento en Arriendo, CHAPINERO CENTRAL Bog...</td>\n",
       "      <td>284010.0</td>\n",
       "      <td>1</td>\n",
       "      <td>NaN</td>\n",
       "      <td>0.0</td>\n",
       "      <td>NaN</td>\n",
       "      <td>https://www.metrocuadrado.com/inmueble/arriend...</td>\n",
       "      <td>34.7</td>\n",
       "      <td>No</td>\n",
       "    </tr>\n",
       "    <tr>\n",
       "      <th>5894</th>\n",
       "      <td>Apartamento en Arriendo, CONEJERA Bogotá D.C..</td>\n",
       "      <td>464884.0</td>\n",
       "      <td>1</td>\n",
       "      <td>NaN</td>\n",
       "      <td>0.0</td>\n",
       "      <td>NaN</td>\n",
       "      <td>https://www.metrocuadrado.com/inmueble/arriend...</td>\n",
       "      <td>27.3</td>\n",
       "      <td>No</td>\n",
       "    </tr>\n",
       "    <tr>\n",
       "      <th>5895</th>\n",
       "      <td>Apartamento en Arriendo, SANTA BIBIANA Bogotá ...</td>\n",
       "      <td>1564000.0</td>\n",
       "      <td>1</td>\n",
       "      <td>NaN</td>\n",
       "      <td>0.0</td>\n",
       "      <td>NaN</td>\n",
       "      <td>https://www.metrocuadrado.com/inmueble/arriend...</td>\n",
       "      <td>72.3</td>\n",
       "      <td>No</td>\n",
       "    </tr>\n",
       "    <tr>\n",
       "      <th>5930</th>\n",
       "      <td>Apartamento en Arriendo, PARQUES DE LORENA Bog...</td>\n",
       "      <td>982506.0</td>\n",
       "      <td>1</td>\n",
       "      <td>NaN</td>\n",
       "      <td>0.0</td>\n",
       "      <td>Ninguna</td>\n",
       "      <td>https://www.metrocuadrado.com/inmueble/arriend...</td>\n",
       "      <td>45.3</td>\n",
       "      <td>No</td>\n",
       "    </tr>\n",
       "    <tr>\n",
       "      <th>12337</th>\n",
       "      <td>Apartamento en Arriendo, PASADENA Bogotá D.C..</td>\n",
       "      <td>1630000.0</td>\n",
       "      <td>1</td>\n",
       "      <td>2</td>\n",
       "      <td>0.0</td>\n",
       "      <td>Aptoestudio para arrendar!\\r\\nUn cuarto, con b...</td>\n",
       "      <td>https://www.metrocuadrado.com/inmueble/arriend...</td>\n",
       "      <td>40.3</td>\n",
       "      <td>No</td>\n",
       "    </tr>\n",
       "    <tr>\n",
       "      <th>16280</th>\n",
       "      <td>Apartamento en Arriendo, SANTA TERESITA Bogotá...</td>\n",
       "      <td>722876.0</td>\n",
       "      <td>1</td>\n",
       "      <td>1</td>\n",
       "      <td>0.0</td>\n",
       "      <td>APARTAESTUDIO  Excelente ubicaciOn  vista al e...</td>\n",
       "      <td>https://www.metrocuadrado.com/inmueble/arriend...</td>\n",
       "      <td>44.7</td>\n",
       "      <td>No</td>\n",
       "    </tr>\n",
       "  </tbody>\n",
       "</table>\n",
       "</div>"
      ],
      "text/plain": [
       "                        property_type|rent_type|location      price n_rooms  \\\n",
       "4014   Apartamento en Arriendo, CHAPINERO NORTE Bogot...  1614000.0       1   \n",
       "5170    Apartamento en Arriendo, LA ISABELA Bogotá D.C..   685121.0       1   \n",
       "5171      Apartamento en Arriendo, SAN LUIS Bogotá D.C..  1062754.0       1   \n",
       "5293    Apartamento en Arriendo, EL SALITRE Bogotá D.C..   583945.0       1   \n",
       "5424    Apartamento en Arriendo, EL CHILCAL Bogotá D.C..   333123.0       1   \n",
       "5425      Apartamento en Arriendo, COLOMBIA Bogotá D.C..  1400000.0       1   \n",
       "5564   Apartamento en Arriendo, SANTA BARBARA CENTRAL...  1317950.0       1   \n",
       "5655   Apartamento en Arriendo, SANTA BARBARA CENTRAL...  2743261.0       1   \n",
       "5800     Apartamento en Arriendo, TUNA ALTA Bogotá D.C..   442023.0       1   \n",
       "5819    Apartamento en Arriendo, EL SALITRE Bogotá D.C..   462441.0       1   \n",
       "5850   Apartamento en Arriendo, CHAPINERO CENTRAL Bog...   284010.0       1   \n",
       "5894      Apartamento en Arriendo, CONEJERA Bogotá D.C..   464884.0       1   \n",
       "5895   Apartamento en Arriendo, SANTA BIBIANA Bogotá ...  1564000.0       1   \n",
       "5930   Apartamento en Arriendo, PARQUES DE LORENA Bog...   982506.0       1   \n",
       "12337     Apartamento en Arriendo, PASADENA Bogotá D.C..  1630000.0       1   \n",
       "16280  Apartamento en Arriendo, SANTA TERESITA Bogotá...   722876.0       1   \n",
       "\n",
       "      n_bath  surface                                            details  \\\n",
       "4014       1      0.0  Aparta estudio en arriendo, alcoba con closet ...   \n",
       "5170     NaN      0.0                                            Ninguna   \n",
       "5171     NaN      0.0                                            Ninguna   \n",
       "5293     NaN      0.0                                                NaN   \n",
       "5424     NaN      0.0                                            Ninguna   \n",
       "5425     NaN      0.0                                            Ninguna   \n",
       "5564     NaN      0.0                                                NaN   \n",
       "5655     NaN      0.0                                            Ninguna   \n",
       "5800     NaN      0.0                                            Ninguna   \n",
       "5819     NaN      0.0                                            Ninguna   \n",
       "5850     NaN      0.0                                                NaN   \n",
       "5894     NaN      0.0                                                NaN   \n",
       "5895     NaN      0.0                                                NaN   \n",
       "5930     NaN      0.0                                            Ninguna   \n",
       "12337      2      0.0  Aptoestudio para arrendar!\\r\\nUn cuarto, con b...   \n",
       "16280      1      0.0  APARTAESTUDIO  Excelente ubicaciOn  vista al e...   \n",
       "\n",
       "                                                     url  metrocuadrado_index  \\\n",
       "4014   https://www.metrocuadrado.com/inmueble/arriend...                 72.5   \n",
       "5170   https://www.metrocuadrado.com/inmueble/arriend...                 60.4   \n",
       "5171   https://www.metrocuadrado.com/inmueble/arriend...                 32.5   \n",
       "5293   https://www.metrocuadrado.com/inmueble/arriend...                 54.7   \n",
       "5424   https://www.metrocuadrado.com/inmueble/arriend...                 47.0   \n",
       "5425   https://www.metrocuadrado.com/inmueble/arriend...                 55.8   \n",
       "5564   https://www.metrocuadrado.com/inmueble/arriend...                 44.0   \n",
       "5655   https://www.metrocuadrado.com/inmueble/arriend...                 51.7   \n",
       "5800   https://www.metrocuadrado.com/inmueble/arriend...                 46.8   \n",
       "5819   https://www.metrocuadrado.com/inmueble/arriend...                 53.6   \n",
       "5850   https://www.metrocuadrado.com/inmueble/arriend...                 34.7   \n",
       "5894   https://www.metrocuadrado.com/inmueble/arriend...                 27.3   \n",
       "5895   https://www.metrocuadrado.com/inmueble/arriend...                 72.3   \n",
       "5930   https://www.metrocuadrado.com/inmueble/arriend...                 45.3   \n",
       "12337  https://www.metrocuadrado.com/inmueble/arriend...                 40.3   \n",
       "16280  https://www.metrocuadrado.com/inmueble/arriend...                 44.7   \n",
       "\n",
       "      Furnished  \n",
       "4014         No  \n",
       "5170         No  \n",
       "5171         No  \n",
       "5293         No  \n",
       "5424         No  \n",
       "5425         No  \n",
       "5564         No  \n",
       "5655         No  \n",
       "5800         No  \n",
       "5819         No  \n",
       "5850         No  \n",
       "5894         No  \n",
       "5895         No  \n",
       "5930         No  \n",
       "12337        No  \n",
       "16280        No  "
      ]
     },
     "execution_count": 24,
     "metadata": {},
     "output_type": "execute_result"
    }
   ],
   "source": [
    "area_nula = data[data['surface']==0]\n",
    "print('Número de datos con área nula: {}'.format(len(area_nula)))\n",
    "area_nula"
   ]
  },
  {
   "cell_type": "markdown",
   "metadata": {},
   "source": [
    "Como son pocos los datos y además presentan datos nulos en otras columnas, se decide eliminarlos."
   ]
  },
  {
   "cell_type": "code",
   "execution_count": 25,
   "metadata": {},
   "outputs": [],
   "source": [
    "data = data.drop(area_nula.index)"
   ]
  },
  {
   "cell_type": "code",
   "execution_count": 26,
   "metadata": {},
   "outputs": [],
   "source": [
    "#Finalmente se resetea el indice\n",
    "data.reset_index(drop=True, inplace=True)"
   ]
  },
  {
   "cell_type": "code",
   "execution_count": 27,
   "metadata": {},
   "outputs": [],
   "source": [
    "#Se elimina la columan que"
   ]
  },
  {
   "cell_type": "markdown",
   "metadata": {},
   "source": [
    "Ahora se limpia el número de habitaciones"
   ]
  },
  {
   "cell_type": "code",
   "execution_count": 28,
   "metadata": {},
   "outputs": [
    {
     "data": {
      "text/plain": [
       "0    3\n",
       "1    3\n",
       "2    3\n",
       "Name: n_rooms, dtype: object"
      ]
     },
     "execution_count": 28,
     "metadata": {},
     "output_type": "execute_result"
    }
   ],
   "source": [
    "data['n_rooms'].head(3)"
   ]
  },
  {
   "cell_type": "markdown",
   "metadata": {},
   "source": [
    "Parece que fueran números enteros, pero el tipo de la columna es object"
   ]
  },
  {
   "cell_type": "code",
   "execution_count": 29,
   "metadata": {},
   "outputs": [
    {
     "data": {
      "text/plain": [
       "array(['3', '5', '4', '2', '1', nan, '5+', 3.0, 5.0, 4.0, 2.0, 1.0],\n",
       "      dtype=object)"
      ]
     },
     "execution_count": 29,
     "metadata": {},
     "output_type": "execute_result"
    }
   ],
   "source": [
    "#Se ven los valores de la columna\n",
    "data['n_rooms'].unique()"
   ]
  },
  {
   "cell_type": "markdown",
   "metadata": {},
   "source": [
    "Se observa que la columna tiene valores de tipo string y float. Más aún se ve que se podría cambiar inmediatamente el tipo a `float` sino existiera el valor `5+`."
   ]
  },
  {
   "cell_type": "code",
   "execution_count": 30,
   "metadata": {},
   "outputs": [
    {
     "data": {
      "text/plain": [
       "2      6571\n",
       "1      6255\n",
       "3      1351\n",
       "4      1198\n",
       "1.0    1040\n",
       "2.0     938\n",
       "5       862\n",
       "3.0      52\n",
       "5.0      36\n",
       "4.0      32\n",
       "5+        9\n",
       "Name: n_rooms, dtype: int64"
      ]
     },
     "execution_count": 30,
     "metadata": {},
     "output_type": "execute_result"
    }
   ],
   "source": [
    "#Se cuenta cuantas entradas hay de cada valor\n",
    "data['n_rooms'].value_counts()"
   ]
  },
  {
   "cell_type": "markdown",
   "metadata": {},
   "source": [
    "Se ve que solo son 9 las entradas con valor `5+`, por lo que es una parte infima del total del dataset que es de $18394$ entradas, simplemente se podrían eliminar. Pero como no se desea botar datos, se cambiará el valor `5+` por $6$, dado que es el entero mayor a 5 más cercano."
   ]
  },
  {
   "cell_type": "code",
   "execution_count": 31,
   "metadata": {},
   "outputs": [
    {
     "data": {
      "text/plain": [
       "array(['3', '5', '4', '2', '1', nan, 6, 3.0, 5.0, 4.0, 2.0, 1.0],\n",
       "      dtype=object)"
      ]
     },
     "execution_count": 31,
     "metadata": {},
     "output_type": "execute_result"
    }
   ],
   "source": [
    "data['n_rooms'].replace('5+',6, inplace=True)\n",
    "#Se reemplazan el valor que daba problemas, y se muestran los valores de las entradas\n",
    "data['n_rooms'].unique()"
   ]
  },
  {
   "cell_type": "code",
   "execution_count": 32,
   "metadata": {},
   "outputs": [
    {
     "data": {
      "text/plain": [
       "0    3.0\n",
       "1    3.0\n",
       "2    3.0\n",
       "Name: n_rooms, dtype: float64"
      ]
     },
     "execution_count": 32,
     "metadata": {},
     "output_type": "execute_result"
    }
   ],
   "source": [
    "#Como esta correcto, se puede cambiar el tipo de la columna\n",
    "data['n_rooms'] = data['n_rooms'].astype('float')\n",
    "data['n_rooms'].head(3)"
   ]
  },
  {
   "cell_type": "code",
   "execution_count": 33,
   "metadata": {},
   "outputs": [
    {
     "data": {
      "text/plain": [
       "34"
      ]
     },
     "execution_count": 33,
     "metadata": {},
     "output_type": "execute_result"
    }
   ],
   "source": [
    "#Finalmente se revisa que si hay nulos\n",
    "data['n_rooms'].isnull().sum()"
   ]
  },
  {
   "cell_type": "markdown",
   "metadata": {},
   "source": [
    "Por último se limpia el número de baños"
   ]
  },
  {
   "cell_type": "code",
   "execution_count": 34,
   "metadata": {},
   "outputs": [
    {
     "data": {
      "text/plain": [
       "18375    3\n",
       "18376    3\n",
       "18377    2\n",
       "Name: n_bath, dtype: object"
      ]
     },
     "execution_count": 34,
     "metadata": {},
     "output_type": "execute_result"
    }
   ],
   "source": [
    "data['n_bath'].tail(3)"
   ]
  },
  {
   "cell_type": "markdown",
   "metadata": {},
   "source": [
    "Nuevamente parecen ser enteros, pero el tipo es object"
   ]
  },
  {
   "cell_type": "code",
   "execution_count": 35,
   "metadata": {},
   "outputs": [
    {
     "data": {
      "text/plain": [
       "array(['2', '1', '4', '3', nan, '5', '5+', 2.0, 3.0, 4.0, 5.0, 1.0],\n",
       "      dtype=object)"
      ]
     },
     "execution_count": 35,
     "metadata": {},
     "output_type": "execute_result"
    }
   ],
   "source": [
    "#Se ven los valores de la columna\n",
    "data['n_bath'].unique()"
   ]
  },
  {
   "cell_type": "markdown",
   "metadata": {},
   "source": [
    "Nuevamente el error viene dado por `5+`, por lo que se procede de igual manera que en `n_rooms`."
   ]
  },
  {
   "cell_type": "code",
   "execution_count": 36,
   "metadata": {},
   "outputs": [
    {
     "data": {
      "text/plain": [
       "2      7019\n",
       "1      3517\n",
       "3      3293\n",
       "4      1348\n",
       "2.0    1085\n",
       "5       878\n",
       "1.0     515\n",
       "3.0     394\n",
       "4.0      58\n",
       "5.0      44\n",
       "5+        8\n",
       "Name: n_bath, dtype: int64"
      ]
     },
     "execution_count": 36,
     "metadata": {},
     "output_type": "execute_result"
    }
   ],
   "source": [
    "#Hay 8 valores con error\n",
    "data['n_bath'].value_counts()"
   ]
  },
  {
   "cell_type": "code",
   "execution_count": 37,
   "metadata": {},
   "outputs": [
    {
     "data": {
      "text/plain": [
       "0    2.0\n",
       "1    2.0\n",
       "2    1.0\n",
       "Name: n_bath, dtype: float64"
      ]
     },
     "execution_count": 37,
     "metadata": {},
     "output_type": "execute_result"
    }
   ],
   "source": [
    "data['n_bath'] = data['n_bath'].replace('5+',6) #Se reemplazan '5+' por 6\n",
    "data['n_bath'] = data['n_bath'].astype('float') #Se cambia el tipo a float\n",
    "data['n_bath'].head(3)"
   ]
  },
  {
   "cell_type": "code",
   "execution_count": 38,
   "metadata": {},
   "outputs": [
    {
     "data": {
      "text/plain": [
       "219"
      ]
     },
     "execution_count": 38,
     "metadata": {},
     "output_type": "execute_result"
    }
   ],
   "source": [
    "#Finalmente se revisa que si hay nulos\n",
    "data['n_bath'].isnull().sum()"
   ]
  },
  {
   "cell_type": "markdown",
   "metadata": {},
   "source": [
    "Finalmente se muestran nuevamente los tipos de las columnas"
   ]
  },
  {
   "cell_type": "code",
   "execution_count": 39,
   "metadata": {},
   "outputs": [
    {
     "data": {
      "text/plain": [
       "property_type|rent_type|location     object\n",
       "price                               float64\n",
       "n_rooms                             float64\n",
       "n_bath                              float64\n",
       "surface                             float64\n",
       "details                              object\n",
       "url                                  object\n",
       "metrocuadrado_index                 float64\n",
       "Furnished                            object\n",
       "dtype: object"
      ]
     },
     "execution_count": 39,
     "metadata": {},
     "output_type": "execute_result"
    }
   ],
   "source": [
    "data.dtypes"
   ]
  },
  {
   "cell_type": "markdown",
   "metadata": {},
   "source": [
    "#### B"
   ]
  },
  {
   "cell_type": "markdown",
   "metadata": {},
   "source": [
    "Se debe dividir la columna `property_type|rent_type|location` en 3 columnas distintas."
   ]
  },
  {
   "cell_type": "code",
   "execution_count": 40,
   "metadata": {},
   "outputs": [],
   "source": [
    "#Se hace una copia de la data por si se realiza un error\n",
    "copia_seguridad = data.copy()"
   ]
  },
  {
   "cell_type": "code",
   "execution_count": 41,
   "metadata": {},
   "outputs": [],
   "source": [
    "#Cuando algo salga mal correr esta celda\n",
    "data = copia_seguridad.copy()"
   ]
  },
  {
   "cell_type": "code",
   "execution_count": 42,
   "metadata": {},
   "outputs": [
    {
     "data": {
      "text/plain": [
       "0          Casa en Arriendo, LA SOLEDAD NORTE Bogotá D.C..\n",
       "1        Casa en Arriendo, CIUDAD SALITRE SUR-ORIENTAL ...\n",
       "2        Casa en Arriendo, VILLA DE LOS ALPES II SECTOR...\n",
       "3              Casa en Arriendo, PARIS GAITAN Bogotá D.C..\n",
       "4        Casa en Arriendo, BALCONES DE ORIENTE Bogotá D...\n",
       "                               ...                        \n",
       "18373    Apartamento en Arriendo, CHICO NORTE Bogotá D.C..\n",
       "18374    Apartamento en Arriendo, CHICO NORTE II Bogotá...\n",
       "18375    Apartamento en Venta Y Arriendo, CHICO NORTE B...\n",
       "18376    Apartamento en Arriendo, MOLINOS NORTE Bogotá ...\n",
       "18377       Apartamento en Arriendo, EL NOGAL Bogotá D.C..\n",
       "Name: property_type|rent_type|location, Length: 18378, dtype: object"
      ]
     },
     "execution_count": 42,
     "metadata": {},
     "output_type": "execute_result"
    }
   ],
   "source": [
    "#Se muestran unos pocos datos de esta columna\n",
    "data['property_type|rent_type|location']"
   ]
  },
  {
   "cell_type": "markdown",
   "metadata": {},
   "source": [
    "Se pueden deducir varias cosas:\n",
    "1. El tipo de propiedad es la primera palabra del string.\n",
    "2. El tipo de renta aparece después de la palabra 'en' y un espacio ' '.\n",
    "3. El lugar esta después de la coma."
   ]
  },
  {
   "cell_type": "markdown",
   "metadata": {},
   "source": [
    "En primer lugar se decide dividir el string en dos partes separadas por la coma."
   ]
  },
  {
   "cell_type": "code",
   "execution_count": 43,
   "metadata": {},
   "outputs": [
    {
     "data": {
      "text/html": [
       "<div>\n",
       "<style scoped>\n",
       "    .dataframe tbody tr th:only-of-type {\n",
       "        vertical-align: middle;\n",
       "    }\n",
       "\n",
       "    .dataframe tbody tr th {\n",
       "        vertical-align: top;\n",
       "    }\n",
       "\n",
       "    .dataframe thead th {\n",
       "        text-align: right;\n",
       "    }\n",
       "</style>\n",
       "<table border=\"1\" class=\"dataframe\">\n",
       "  <thead>\n",
       "    <tr style=\"text-align: right;\">\n",
       "      <th></th>\n",
       "      <th>0</th>\n",
       "      <th>1</th>\n",
       "    </tr>\n",
       "  </thead>\n",
       "  <tbody>\n",
       "    <tr>\n",
       "      <th>0</th>\n",
       "      <td>Casa en Arriendo</td>\n",
       "      <td>LA SOLEDAD NORTE Bogotá D.C..</td>\n",
       "    </tr>\n",
       "    <tr>\n",
       "      <th>1</th>\n",
       "      <td>Casa en Arriendo</td>\n",
       "      <td>CIUDAD SALITRE SUR-ORIENTAL Bogotá D.C..</td>\n",
       "    </tr>\n",
       "    <tr>\n",
       "      <th>2</th>\n",
       "      <td>Casa en Arriendo</td>\n",
       "      <td>VILLA DE LOS ALPES II SECTOR Bogotá D.C..</td>\n",
       "    </tr>\n",
       "  </tbody>\n",
       "</table>\n",
       "</div>"
      ],
      "text/plain": [
       "                  0                                           1\n",
       "0  Casa en Arriendo               LA SOLEDAD NORTE Bogotá D.C..\n",
       "1  Casa en Arriendo    CIUDAD SALITRE SUR-ORIENTAL Bogotá D.C..\n",
       "2  Casa en Arriendo   VILLA DE LOS ALPES II SECTOR Bogotá D.C.."
      ]
     },
     "execution_count": 43,
     "metadata": {},
     "output_type": "execute_result"
    }
   ],
   "source": [
    "new_columns = data['property_type|rent_type|location'].str.split(pat=',', expand=True)\n",
    "new_columns.head(3)"
   ]
  },
  {
   "cell_type": "code",
   "execution_count": 44,
   "metadata": {},
   "outputs": [
    {
     "data": {
      "text/html": [
       "<div>\n",
       "<style scoped>\n",
       "    .dataframe tbody tr th:only-of-type {\n",
       "        vertical-align: middle;\n",
       "    }\n",
       "\n",
       "    .dataframe tbody tr th {\n",
       "        vertical-align: top;\n",
       "    }\n",
       "\n",
       "    .dataframe thead th {\n",
       "        text-align: right;\n",
       "    }\n",
       "</style>\n",
       "<table border=\"1\" class=\"dataframe\">\n",
       "  <thead>\n",
       "    <tr style=\"text-align: right;\">\n",
       "      <th></th>\n",
       "      <th>price</th>\n",
       "      <th>n_rooms</th>\n",
       "      <th>n_bath</th>\n",
       "      <th>surface</th>\n",
       "      <th>details</th>\n",
       "      <th>url</th>\n",
       "      <th>metrocuadrado_index</th>\n",
       "      <th>Furnished</th>\n",
       "      <th>property_type|rent_type</th>\n",
       "      <th>location</th>\n",
       "    </tr>\n",
       "  </thead>\n",
       "  <tbody>\n",
       "    <tr>\n",
       "      <th>0</th>\n",
       "      <td>1050000.0</td>\n",
       "      <td>3.0</td>\n",
       "      <td>2.0</td>\n",
       "      <td>63.0</td>\n",
       "      <td>Excelente casa cerca de la calle 80 y Avenida ...</td>\n",
       "      <td>https://www.metrocuadrado.com/inmueble/arriend...</td>\n",
       "      <td>25.6</td>\n",
       "      <td>No</td>\n",
       "      <td>Casa en Arriendo</td>\n",
       "      <td>LA SOLEDAD NORTE Bogotá D.C..</td>\n",
       "    </tr>\n",
       "    <tr>\n",
       "      <th>1</th>\n",
       "      <td>3930000.0</td>\n",
       "      <td>3.0</td>\n",
       "      <td>2.0</td>\n",
       "      <td>100.0</td>\n",
       "      <td>Se arrienda casa bonita totalmente amoblada co...</td>\n",
       "      <td>https://www.metrocuadrado.com/inmueble/arriend...</td>\n",
       "      <td>57.3</td>\n",
       "      <td>No</td>\n",
       "      <td>Casa en Arriendo</td>\n",
       "      <td>CIUDAD SALITRE SUR-ORIENTAL Bogotá D.C..</td>\n",
       "    </tr>\n",
       "    <tr>\n",
       "      <th>2</th>\n",
       "      <td>750000.0</td>\n",
       "      <td>3.0</td>\n",
       "      <td>1.0</td>\n",
       "      <td>90.0</td>\n",
       "      <td>CASA DE TRES NIVELES TRES ALCOBAS SALA COMEDOR...</td>\n",
       "      <td>https://www.metrocuadrado.com/inmueble/arriend...</td>\n",
       "      <td>12.2</td>\n",
       "      <td>No</td>\n",
       "      <td>Casa en Arriendo</td>\n",
       "      <td>VILLA DE LOS ALPES II SECTOR Bogotá D.C..</td>\n",
       "    </tr>\n",
       "  </tbody>\n",
       "</table>\n",
       "</div>"
      ],
      "text/plain": [
       "       price  n_rooms  n_bath  surface  \\\n",
       "0  1050000.0      3.0     2.0     63.0   \n",
       "1  3930000.0      3.0     2.0    100.0   \n",
       "2   750000.0      3.0     1.0     90.0   \n",
       "\n",
       "                                             details  \\\n",
       "0  Excelente casa cerca de la calle 80 y Avenida ...   \n",
       "1  Se arrienda casa bonita totalmente amoblada co...   \n",
       "2  CASA DE TRES NIVELES TRES ALCOBAS SALA COMEDOR...   \n",
       "\n",
       "                                                 url  metrocuadrado_index  \\\n",
       "0  https://www.metrocuadrado.com/inmueble/arriend...                 25.6   \n",
       "1  https://www.metrocuadrado.com/inmueble/arriend...                 57.3   \n",
       "2  https://www.metrocuadrado.com/inmueble/arriend...                 12.2   \n",
       "\n",
       "  Furnished property_type|rent_type  \\\n",
       "0        No        Casa en Arriendo   \n",
       "1        No        Casa en Arriendo   \n",
       "2        No        Casa en Arriendo   \n",
       "\n",
       "                                     location  \n",
       "0               LA SOLEDAD NORTE Bogotá D.C..  \n",
       "1    CIUDAD SALITRE SUR-ORIENTAL Bogotá D.C..  \n",
       "2   VILLA DE LOS ALPES II SECTOR Bogotá D.C..  "
      ]
     },
     "execution_count": 44,
     "metadata": {},
     "output_type": "execute_result"
    }
   ],
   "source": [
    "#Se insertan las columnas en la data \n",
    "data[['property_type|rent_type', 'location']] = new_columns\n",
    "\n",
    "#Se elimina la columna original\n",
    "data.drop('property_type|rent_type|location', axis=1, inplace=True)\n",
    "\n",
    "data.head(3)"
   ]
  },
  {
   "cell_type": "markdown",
   "metadata": {},
   "source": [
    "Se debe trabajar con la columna location para que quede sólo el nombre del barrio, es decir las palabras en mayúsculas."
   ]
  },
  {
   "cell_type": "code",
   "execution_count": 45,
   "metadata": {},
   "outputs": [],
   "source": [
    "location = data['location'].copy()\n",
    "location = location.str.split()"
   ]
  },
  {
   "cell_type": "markdown",
   "metadata": {},
   "source": [
    "Mediante dos bucles for se puede eliminar la ciudad de la columna location."
   ]
  },
  {
   "cell_type": "code",
   "execution_count": 46,
   "metadata": {},
   "outputs": [],
   "source": [
    "#Primero se busca en las filas\n",
    "for fila in location:\n",
    "    #Luego en cada palabra de la fila\n",
    "    for i in range(len(fila)):\n",
    "        #Si la palabra no esta mayuscula\n",
    "        if not fila[i].isupper():\n",
    "            #elimina la palabra y todas las palabras que le siguen de la lista\n",
    "            del fila[i:]\n",
    "            break"
   ]
  },
  {
   "cell_type": "code",
   "execution_count": 47,
   "metadata": {},
   "outputs": [
    {
     "data": {
      "text/plain": [
       "0                   [LA, SOLEDAD, NORTE]\n",
       "1        [CIUDAD, SALITRE, SUR-ORIENTAL]\n",
       "2    [VILLA, DE, LOS, ALPES, II, SECTOR]\n",
       "3                        [PARIS, GAITAN]\n",
       "4                [BALCONES, DE, ORIENTE]\n",
       "Name: location, dtype: object"
      ]
     },
     "execution_count": 47,
     "metadata": {},
     "output_type": "execute_result"
    }
   ],
   "source": [
    "#Se observa el resultado\n",
    "location.head()"
   ]
  },
  {
   "cell_type": "markdown",
   "metadata": {},
   "source": [
    "Por ultimo se unen las palabras de cada lista y se añaden al dataframe."
   ]
  },
  {
   "cell_type": "code",
   "execution_count": 48,
   "metadata": {},
   "outputs": [
    {
     "data": {
      "text/html": [
       "<div>\n",
       "<style scoped>\n",
       "    .dataframe tbody tr th:only-of-type {\n",
       "        vertical-align: middle;\n",
       "    }\n",
       "\n",
       "    .dataframe tbody tr th {\n",
       "        vertical-align: top;\n",
       "    }\n",
       "\n",
       "    .dataframe thead th {\n",
       "        text-align: right;\n",
       "    }\n",
       "</style>\n",
       "<table border=\"1\" class=\"dataframe\">\n",
       "  <thead>\n",
       "    <tr style=\"text-align: right;\">\n",
       "      <th></th>\n",
       "      <th>price</th>\n",
       "      <th>n_rooms</th>\n",
       "      <th>n_bath</th>\n",
       "      <th>surface</th>\n",
       "      <th>details</th>\n",
       "      <th>url</th>\n",
       "      <th>metrocuadrado_index</th>\n",
       "      <th>Furnished</th>\n",
       "      <th>property_type|rent_type</th>\n",
       "      <th>location</th>\n",
       "    </tr>\n",
       "  </thead>\n",
       "  <tbody>\n",
       "    <tr>\n",
       "      <th>0</th>\n",
       "      <td>1050000.0</td>\n",
       "      <td>3.0</td>\n",
       "      <td>2.0</td>\n",
       "      <td>63.0</td>\n",
       "      <td>Excelente casa cerca de la calle 80 y Avenida ...</td>\n",
       "      <td>https://www.metrocuadrado.com/inmueble/arriend...</td>\n",
       "      <td>25.6</td>\n",
       "      <td>No</td>\n",
       "      <td>Casa en Arriendo</td>\n",
       "      <td>LA SOLEDAD NORTE</td>\n",
       "    </tr>\n",
       "    <tr>\n",
       "      <th>1</th>\n",
       "      <td>3930000.0</td>\n",
       "      <td>3.0</td>\n",
       "      <td>2.0</td>\n",
       "      <td>100.0</td>\n",
       "      <td>Se arrienda casa bonita totalmente amoblada co...</td>\n",
       "      <td>https://www.metrocuadrado.com/inmueble/arriend...</td>\n",
       "      <td>57.3</td>\n",
       "      <td>No</td>\n",
       "      <td>Casa en Arriendo</td>\n",
       "      <td>CIUDAD SALITRE SUR-ORIENTAL</td>\n",
       "    </tr>\n",
       "    <tr>\n",
       "      <th>2</th>\n",
       "      <td>750000.0</td>\n",
       "      <td>3.0</td>\n",
       "      <td>1.0</td>\n",
       "      <td>90.0</td>\n",
       "      <td>CASA DE TRES NIVELES TRES ALCOBAS SALA COMEDOR...</td>\n",
       "      <td>https://www.metrocuadrado.com/inmueble/arriend...</td>\n",
       "      <td>12.2</td>\n",
       "      <td>No</td>\n",
       "      <td>Casa en Arriendo</td>\n",
       "      <td>VILLA DE LOS ALPES II SECTOR</td>\n",
       "    </tr>\n",
       "  </tbody>\n",
       "</table>\n",
       "</div>"
      ],
      "text/plain": [
       "       price  n_rooms  n_bath  surface  \\\n",
       "0  1050000.0      3.0     2.0     63.0   \n",
       "1  3930000.0      3.0     2.0    100.0   \n",
       "2   750000.0      3.0     1.0     90.0   \n",
       "\n",
       "                                             details  \\\n",
       "0  Excelente casa cerca de la calle 80 y Avenida ...   \n",
       "1  Se arrienda casa bonita totalmente amoblada co...   \n",
       "2  CASA DE TRES NIVELES TRES ALCOBAS SALA COMEDOR...   \n",
       "\n",
       "                                                 url  metrocuadrado_index  \\\n",
       "0  https://www.metrocuadrado.com/inmueble/arriend...                 25.6   \n",
       "1  https://www.metrocuadrado.com/inmueble/arriend...                 57.3   \n",
       "2  https://www.metrocuadrado.com/inmueble/arriend...                 12.2   \n",
       "\n",
       "  Furnished property_type|rent_type                      location  \n",
       "0        No        Casa en Arriendo              LA SOLEDAD NORTE  \n",
       "1        No        Casa en Arriendo   CIUDAD SALITRE SUR-ORIENTAL  \n",
       "2        No        Casa en Arriendo  VILLA DE LOS ALPES II SECTOR  "
      ]
     },
     "execution_count": 48,
     "metadata": {},
     "output_type": "execute_result"
    }
   ],
   "source": [
    "location = location.str.join(' ')\n",
    "data['location'] = location\n",
    "data.head(3)"
   ]
  },
  {
   "cell_type": "markdown",
   "metadata": {},
   "source": [
    "Ahora se divide la columna `property_type|rent_type` en dos columnas más."
   ]
  },
  {
   "cell_type": "code",
   "execution_count": 49,
   "metadata": {},
   "outputs": [
    {
     "data": {
      "text/html": [
       "<div>\n",
       "<style scoped>\n",
       "    .dataframe tbody tr th:only-of-type {\n",
       "        vertical-align: middle;\n",
       "    }\n",
       "\n",
       "    .dataframe tbody tr th {\n",
       "        vertical-align: top;\n",
       "    }\n",
       "\n",
       "    .dataframe thead th {\n",
       "        text-align: right;\n",
       "    }\n",
       "</style>\n",
       "<table border=\"1\" class=\"dataframe\">\n",
       "  <thead>\n",
       "    <tr style=\"text-align: right;\">\n",
       "      <th></th>\n",
       "      <th>0</th>\n",
       "      <th>1</th>\n",
       "    </tr>\n",
       "  </thead>\n",
       "  <tbody>\n",
       "    <tr>\n",
       "      <th>0</th>\n",
       "      <td>Casa</td>\n",
       "      <td>Arriendo</td>\n",
       "    </tr>\n",
       "    <tr>\n",
       "      <th>1</th>\n",
       "      <td>Casa</td>\n",
       "      <td>Arriendo</td>\n",
       "    </tr>\n",
       "    <tr>\n",
       "      <th>2</th>\n",
       "      <td>Casa</td>\n",
       "      <td>Arriendo</td>\n",
       "    </tr>\n",
       "  </tbody>\n",
       "</table>\n",
       "</div>"
      ],
      "text/plain": [
       "       0         1\n",
       "0  Casa   Arriendo\n",
       "1  Casa   Arriendo\n",
       "2  Casa   Arriendo"
      ]
     },
     "execution_count": 49,
     "metadata": {},
     "output_type": "execute_result"
    }
   ],
   "source": [
    "new_columns = data['property_type|rent_type'].str.split(pat='en ', expand=True)\n",
    "new_columns.head(3)"
   ]
  },
  {
   "cell_type": "code",
   "execution_count": 50,
   "metadata": {},
   "outputs": [
    {
     "data": {
      "text/html": [
       "<div>\n",
       "<style scoped>\n",
       "    .dataframe tbody tr th:only-of-type {\n",
       "        vertical-align: middle;\n",
       "    }\n",
       "\n",
       "    .dataframe tbody tr th {\n",
       "        vertical-align: top;\n",
       "    }\n",
       "\n",
       "    .dataframe thead th {\n",
       "        text-align: right;\n",
       "    }\n",
       "</style>\n",
       "<table border=\"1\" class=\"dataframe\">\n",
       "  <thead>\n",
       "    <tr style=\"text-align: right;\">\n",
       "      <th></th>\n",
       "      <th>price</th>\n",
       "      <th>n_rooms</th>\n",
       "      <th>n_bath</th>\n",
       "      <th>surface</th>\n",
       "      <th>details</th>\n",
       "      <th>url</th>\n",
       "      <th>metrocuadrado_index</th>\n",
       "      <th>Furnished</th>\n",
       "      <th>location</th>\n",
       "      <th>property</th>\n",
       "      <th>rent</th>\n",
       "    </tr>\n",
       "  </thead>\n",
       "  <tbody>\n",
       "    <tr>\n",
       "      <th>0</th>\n",
       "      <td>1050000.0</td>\n",
       "      <td>3.0</td>\n",
       "      <td>2.0</td>\n",
       "      <td>63.0</td>\n",
       "      <td>Excelente casa cerca de la calle 80 y Avenida ...</td>\n",
       "      <td>https://www.metrocuadrado.com/inmueble/arriend...</td>\n",
       "      <td>25.6</td>\n",
       "      <td>No</td>\n",
       "      <td>LA SOLEDAD NORTE</td>\n",
       "      <td>Casa</td>\n",
       "      <td>Arriendo</td>\n",
       "    </tr>\n",
       "    <tr>\n",
       "      <th>1</th>\n",
       "      <td>3930000.0</td>\n",
       "      <td>3.0</td>\n",
       "      <td>2.0</td>\n",
       "      <td>100.0</td>\n",
       "      <td>Se arrienda casa bonita totalmente amoblada co...</td>\n",
       "      <td>https://www.metrocuadrado.com/inmueble/arriend...</td>\n",
       "      <td>57.3</td>\n",
       "      <td>No</td>\n",
       "      <td>CIUDAD SALITRE SUR-ORIENTAL</td>\n",
       "      <td>Casa</td>\n",
       "      <td>Arriendo</td>\n",
       "    </tr>\n",
       "    <tr>\n",
       "      <th>2</th>\n",
       "      <td>750000.0</td>\n",
       "      <td>3.0</td>\n",
       "      <td>1.0</td>\n",
       "      <td>90.0</td>\n",
       "      <td>CASA DE TRES NIVELES TRES ALCOBAS SALA COMEDOR...</td>\n",
       "      <td>https://www.metrocuadrado.com/inmueble/arriend...</td>\n",
       "      <td>12.2</td>\n",
       "      <td>No</td>\n",
       "      <td>VILLA DE LOS ALPES II SECTOR</td>\n",
       "      <td>Casa</td>\n",
       "      <td>Arriendo</td>\n",
       "    </tr>\n",
       "  </tbody>\n",
       "</table>\n",
       "</div>"
      ],
      "text/plain": [
       "       price  n_rooms  n_bath  surface  \\\n",
       "0  1050000.0      3.0     2.0     63.0   \n",
       "1  3930000.0      3.0     2.0    100.0   \n",
       "2   750000.0      3.0     1.0     90.0   \n",
       "\n",
       "                                             details  \\\n",
       "0  Excelente casa cerca de la calle 80 y Avenida ...   \n",
       "1  Se arrienda casa bonita totalmente amoblada co...   \n",
       "2  CASA DE TRES NIVELES TRES ALCOBAS SALA COMEDOR...   \n",
       "\n",
       "                                                 url  metrocuadrado_index  \\\n",
       "0  https://www.metrocuadrado.com/inmueble/arriend...                 25.6   \n",
       "1  https://www.metrocuadrado.com/inmueble/arriend...                 57.3   \n",
       "2  https://www.metrocuadrado.com/inmueble/arriend...                 12.2   \n",
       "\n",
       "  Furnished                      location property      rent  \n",
       "0        No              LA SOLEDAD NORTE    Casa   Arriendo  \n",
       "1        No   CIUDAD SALITRE SUR-ORIENTAL    Casa   Arriendo  \n",
       "2        No  VILLA DE LOS ALPES II SECTOR    Casa   Arriendo  "
      ]
     },
     "execution_count": 50,
     "metadata": {},
     "output_type": "execute_result"
    }
   ],
   "source": [
    "#Se insertan las columnas en la data y se elimina la columna original\n",
    "data[['property','rent']] = new_columns\n",
    "data.drop('property_type|rent_type', axis=1, inplace=True)\n",
    "data.head(3)"
   ]
  },
  {
   "cell_type": "markdown",
   "metadata": {},
   "source": [
    "Por último se revisa que no hayan espacios vacíos al inicio o final de las nuevas columnas."
   ]
  },
  {
   "cell_type": "code",
   "execution_count": 51,
   "metadata": {
    "scrolled": true
   },
   "outputs": [
    {
     "name": "stdout",
     "output_type": "stream",
     "text": [
      "LA SOLEDAD NORTE\n",
      "Casa \n",
      "Arriendo\n"
     ]
    }
   ],
   "source": [
    "print(data['location'][0])\n",
    "print(data['property'][0])\n",
    "print(data['rent'][0])"
   ]
  },
  {
   "cell_type": "markdown",
   "metadata": {},
   "source": [
    "La columna property tiene espacios, por lo que se utiliza strip para eliminarlos."
   ]
  },
  {
   "cell_type": "code",
   "execution_count": 52,
   "metadata": {},
   "outputs": [],
   "source": [
    "data['property'] = data['property'].str.strip()"
   ]
  },
  {
   "cell_type": "markdown",
   "metadata": {},
   "source": [
    "### Parte 3"
   ]
  },
  {
   "cell_type": "markdown",
   "metadata": {},
   "source": [
    "#### A"
   ]
  },
  {
   "cell_type": "markdown",
   "metadata": {},
   "source": [
    "Se debe generar una nueva columna que contenga el precio por metro cuadrado.\n",
    "\n",
    "Para esto simplemente se divide el precio por la superficie."
   ]
  },
  {
   "cell_type": "code",
   "execution_count": 53,
   "metadata": {},
   "outputs": [
    {
     "data": {
      "text/html": [
       "<div>\n",
       "<style scoped>\n",
       "    .dataframe tbody tr th:only-of-type {\n",
       "        vertical-align: middle;\n",
       "    }\n",
       "\n",
       "    .dataframe tbody tr th {\n",
       "        vertical-align: top;\n",
       "    }\n",
       "\n",
       "    .dataframe thead th {\n",
       "        text-align: right;\n",
       "    }\n",
       "</style>\n",
       "<table border=\"1\" class=\"dataframe\">\n",
       "  <thead>\n",
       "    <tr style=\"text-align: right;\">\n",
       "      <th></th>\n",
       "      <th>price</th>\n",
       "      <th>n_rooms</th>\n",
       "      <th>n_bath</th>\n",
       "      <th>surface</th>\n",
       "      <th>details</th>\n",
       "      <th>url</th>\n",
       "      <th>metrocuadrado_index</th>\n",
       "      <th>Furnished</th>\n",
       "      <th>location</th>\n",
       "      <th>property</th>\n",
       "      <th>rent</th>\n",
       "      <th>Precio m2</th>\n",
       "    </tr>\n",
       "  </thead>\n",
       "  <tbody>\n",
       "    <tr>\n",
       "      <th>0</th>\n",
       "      <td>1050000.0</td>\n",
       "      <td>3.0</td>\n",
       "      <td>2.0</td>\n",
       "      <td>63.0</td>\n",
       "      <td>Excelente casa cerca de la calle 80 y Avenida ...</td>\n",
       "      <td>https://www.metrocuadrado.com/inmueble/arriend...</td>\n",
       "      <td>25.6</td>\n",
       "      <td>No</td>\n",
       "      <td>LA SOLEDAD NORTE</td>\n",
       "      <td>Casa</td>\n",
       "      <td>Arriendo</td>\n",
       "      <td>16666.666667</td>\n",
       "    </tr>\n",
       "    <tr>\n",
       "      <th>1</th>\n",
       "      <td>3930000.0</td>\n",
       "      <td>3.0</td>\n",
       "      <td>2.0</td>\n",
       "      <td>100.0</td>\n",
       "      <td>Se arrienda casa bonita totalmente amoblada co...</td>\n",
       "      <td>https://www.metrocuadrado.com/inmueble/arriend...</td>\n",
       "      <td>57.3</td>\n",
       "      <td>No</td>\n",
       "      <td>CIUDAD SALITRE SUR-ORIENTAL</td>\n",
       "      <td>Casa</td>\n",
       "      <td>Arriendo</td>\n",
       "      <td>39300.000000</td>\n",
       "    </tr>\n",
       "    <tr>\n",
       "      <th>2</th>\n",
       "      <td>750000.0</td>\n",
       "      <td>3.0</td>\n",
       "      <td>1.0</td>\n",
       "      <td>90.0</td>\n",
       "      <td>CASA DE TRES NIVELES TRES ALCOBAS SALA COMEDOR...</td>\n",
       "      <td>https://www.metrocuadrado.com/inmueble/arriend...</td>\n",
       "      <td>12.2</td>\n",
       "      <td>No</td>\n",
       "      <td>VILLA DE LOS ALPES II SECTOR</td>\n",
       "      <td>Casa</td>\n",
       "      <td>Arriendo</td>\n",
       "      <td>8333.333333</td>\n",
       "    </tr>\n",
       "    <tr>\n",
       "      <th>3</th>\n",
       "      <td>3400000.0</td>\n",
       "      <td>5.0</td>\n",
       "      <td>4.0</td>\n",
       "      <td>71.0</td>\n",
       "      <td>casa ezquinera excelente ubicacion cinco alcob...</td>\n",
       "      <td>https://www.metrocuadrado.com/inmueble/arriend...</td>\n",
       "      <td>56.0</td>\n",
       "      <td>No</td>\n",
       "      <td>PARIS GAITAN</td>\n",
       "      <td>Casa</td>\n",
       "      <td>Arriendo</td>\n",
       "      <td>47887.323944</td>\n",
       "    </tr>\n",
       "  </tbody>\n",
       "</table>\n",
       "</div>"
      ],
      "text/plain": [
       "       price  n_rooms  n_bath  surface  \\\n",
       "0  1050000.0      3.0     2.0     63.0   \n",
       "1  3930000.0      3.0     2.0    100.0   \n",
       "2   750000.0      3.0     1.0     90.0   \n",
       "3  3400000.0      5.0     4.0     71.0   \n",
       "\n",
       "                                             details  \\\n",
       "0  Excelente casa cerca de la calle 80 y Avenida ...   \n",
       "1  Se arrienda casa bonita totalmente amoblada co...   \n",
       "2  CASA DE TRES NIVELES TRES ALCOBAS SALA COMEDOR...   \n",
       "3  casa ezquinera excelente ubicacion cinco alcob...   \n",
       "\n",
       "                                                 url  metrocuadrado_index  \\\n",
       "0  https://www.metrocuadrado.com/inmueble/arriend...                 25.6   \n",
       "1  https://www.metrocuadrado.com/inmueble/arriend...                 57.3   \n",
       "2  https://www.metrocuadrado.com/inmueble/arriend...                 12.2   \n",
       "3  https://www.metrocuadrado.com/inmueble/arriend...                 56.0   \n",
       "\n",
       "  Furnished                      location property      rent     Precio m2  \n",
       "0        No              LA SOLEDAD NORTE     Casa  Arriendo  16666.666667  \n",
       "1        No   CIUDAD SALITRE SUR-ORIENTAL     Casa  Arriendo  39300.000000  \n",
       "2        No  VILLA DE LOS ALPES II SECTOR     Casa  Arriendo   8333.333333  \n",
       "3        No                  PARIS GAITAN     Casa  Arriendo  47887.323944  "
      ]
     },
     "execution_count": 53,
     "metadata": {},
     "output_type": "execute_result"
    }
   ],
   "source": [
    "data['Precio m2'] = data['price']/data['surface']\n",
    "data.head(4)"
   ]
  },
  {
   "cell_type": "markdown",
   "metadata": {},
   "source": [
    "#### B"
   ]
  },
  {
   "cell_type": "markdown",
   "metadata": {},
   "source": [
    "Se debe obtener el número de garajes a partir de la columna url."
   ]
  },
  {
   "cell_type": "code",
   "execution_count": 54,
   "metadata": {},
   "outputs": [
    {
     "name": "stdout",
     "output_type": "stream",
     "text": [
      "https://www.metrocuadrado.com/inmueble/arriendo-casa-bogota-la-soledad-norte-3-habitaciones-2-banos-1-garajes/35-M1919\n",
      "https://www.metrocuadrado.com/inmueble/arriendo-casa-bogota-ciudad-salitre-sur-oriental-3-habitaciones-2-banos-1-garajes/769-M2387196\n",
      "https://www.metrocuadrado.com/inmueble/arriendo-casa-bogota-villa-de-los-alpes-ii-sector-3-habitaciones-1-banos/BOSA-04551604\n",
      "https://www.metrocuadrado.com/inmueble/arriendo-casa-bogota-paris-gaitan-5-habitaciones-4-banos/OCHE-04552802\n",
      "https://www.metrocuadrado.com/inmueble/arriendo-casa-bogota-balcones-de-oriente-4-habitaciones-3-banos-1-garajes/943-M2386284\n"
     ]
    }
   ],
   "source": [
    "# Se revisa la columna url\n",
    "for i in range(5):\n",
    "    print(data['url'][i])"
   ]
  },
  {
   "cell_type": "markdown",
   "metadata": {},
   "source": [
    "Se observa que el número de garajes aparece dentro de la url de la página.\n",
    "\n",
    "Parece ser del estilo `n-garajes`, donde `n` es el número de garajes de la propiedad.\n",
    "\n",
    "Sin embargo se debe tener cuidado porque hay url que no tienen garajes."
   ]
  },
  {
   "cell_type": "code",
   "execution_count": 55,
   "metadata": {},
   "outputs": [
    {
     "data": {
      "text/html": [
       "<div>\n",
       "<style scoped>\n",
       "    .dataframe tbody tr th:only-of-type {\n",
       "        vertical-align: middle;\n",
       "    }\n",
       "\n",
       "    .dataframe tbody tr th {\n",
       "        vertical-align: top;\n",
       "    }\n",
       "\n",
       "    .dataframe thead th {\n",
       "        text-align: right;\n",
       "    }\n",
       "</style>\n",
       "<table border=\"1\" class=\"dataframe\">\n",
       "  <thead>\n",
       "    <tr style=\"text-align: right;\">\n",
       "      <th></th>\n",
       "      <th>0</th>\n",
       "      <th>1</th>\n",
       "      <th>2</th>\n",
       "      <th>3</th>\n",
       "      <th>4</th>\n",
       "      <th>5</th>\n",
       "    </tr>\n",
       "  </thead>\n",
       "  <tbody>\n",
       "    <tr>\n",
       "      <th>0</th>\n",
       "      <td>https:</td>\n",
       "      <td></td>\n",
       "      <td>www.metrocuadrado.com</td>\n",
       "      <td>inmueble</td>\n",
       "      <td>arriendo-casa-bogota-la-soledad-norte-3-habita...</td>\n",
       "      <td>35-M1919</td>\n",
       "    </tr>\n",
       "    <tr>\n",
       "      <th>1</th>\n",
       "      <td>https:</td>\n",
       "      <td></td>\n",
       "      <td>www.metrocuadrado.com</td>\n",
       "      <td>inmueble</td>\n",
       "      <td>arriendo-casa-bogota-ciudad-salitre-sur-orient...</td>\n",
       "      <td>769-M2387196</td>\n",
       "    </tr>\n",
       "    <tr>\n",
       "      <th>2</th>\n",
       "      <td>https:</td>\n",
       "      <td></td>\n",
       "      <td>www.metrocuadrado.com</td>\n",
       "      <td>inmueble</td>\n",
       "      <td>arriendo-casa-bogota-villa-de-los-alpes-ii-sec...</td>\n",
       "      <td>BOSA-04551604</td>\n",
       "    </tr>\n",
       "  </tbody>\n",
       "</table>\n",
       "</div>"
      ],
      "text/plain": [
       "        0 1                      2         3  \\\n",
       "0  https:    www.metrocuadrado.com  inmueble   \n",
       "1  https:    www.metrocuadrado.com  inmueble   \n",
       "2  https:    www.metrocuadrado.com  inmueble   \n",
       "\n",
       "                                                   4              5  \n",
       "0  arriendo-casa-bogota-la-soledad-norte-3-habita...       35-M1919  \n",
       "1  arriendo-casa-bogota-ciudad-salitre-sur-orient...   769-M2387196  \n",
       "2  arriendo-casa-bogota-villa-de-los-alpes-ii-sec...  BOSA-04551604  "
      ]
     },
     "execution_count": 55,
     "metadata": {},
     "output_type": "execute_result"
    }
   ],
   "source": [
    "#En primer lugar se divide la url de acuerdo al separarador '/'\n",
    "data['url'].str.split(pat='/', expand=True).head(3)"
   ]
  },
  {
   "cell_type": "code",
   "execution_count": 56,
   "metadata": {},
   "outputs": [
    {
     "name": "stdout",
     "output_type": "stream",
     "text": [
      "arriendo-casa-bogota-la-soledad-norte-3-habitaciones-2-banos-1-garajes\n",
      "arriendo-casa-bogota-ciudad-salitre-sur-oriental-3-habitaciones-2-banos-1-garajes\n",
      "arriendo-casa-bogota-villa-de-los-alpes-ii-sector-3-habitaciones-1-banos\n",
      "arriendo-casa-bogota-paris-gaitan-5-habitaciones-4-banos\n",
      "arriendo-casa-bogota-balcones-de-oriente-4-habitaciones-3-banos-1-garajes\n"
     ]
    }
   ],
   "source": [
    "#Se observa que la columna 4 contiene el detalle de la vivienda\n",
    "detalle = data['url'].str.split(pat='/', expand=True)[4]\n",
    "\n",
    "#Se imprimen algunos datos de ejemplos\n",
    "for i in range(5):\n",
    "    print(detalle[i])"
   ]
  },
  {
   "cell_type": "markdown",
   "metadata": {},
   "source": [
    "Se observa que no todas las viviendas tienen garajes"
   ]
  },
  {
   "cell_type": "code",
   "execution_count": 57,
   "metadata": {},
   "outputs": [
    {
     "name": "stdout",
     "output_type": "stream",
     "text": [
      "Entradas con garajes: 16054\n"
     ]
    }
   ],
   "source": [
    "#Se cuenta el número de filas que contiene la palabra 'garajes'\n",
    "num_garajes = detalle.str.contains('garajes').sum()\n",
    "print('Entradas con garajes:', num_garajes)"
   ]
  },
  {
   "cell_type": "markdown",
   "metadata": {},
   "source": [
    "Se crea una serie para guardar el numero de garajes de las viviendas"
   ]
  },
  {
   "cell_type": "code",
   "execution_count": 58,
   "metadata": {},
   "outputs": [
    {
     "data": {
      "text/plain": [
       "0        NaN\n",
       "1        NaN\n",
       "2        NaN\n",
       "3        NaN\n",
       "4        NaN\n",
       "        ... \n",
       "18373    NaN\n",
       "18374    NaN\n",
       "18375    NaN\n",
       "18376    NaN\n",
       "18377    NaN\n",
       "Name: Garajes, Length: 18378, dtype: object"
      ]
     },
     "execution_count": 58,
     "metadata": {},
     "output_type": "execute_result"
    }
   ],
   "source": [
    "garajes = pd.Series(index=data.index, dtype=str, name='Garajes')\n",
    "garajes"
   ]
  },
  {
   "cell_type": "code",
   "execution_count": 59,
   "metadata": {},
   "outputs": [],
   "source": [
    "#La palabra garajes aparece al final de lista, por lo que se debe \n",
    "#obtener el penultimo valor de la lista.\n",
    "#Siempre y cuando la ultima palabra de la lista sea garajes.\n",
    "\n",
    "for i, elem in enumerate(detalle.str.split('-')):\n",
    "    if elem[-1] == 'garajes':\n",
    "        num = elem[-2]\n",
    "    else:\n",
    "        #Si no aparece, se asume que no tiene garaje\n",
    "        num = 0\n",
    "    garajes[i] = num"
   ]
  },
  {
   "cell_type": "code",
   "execution_count": 60,
   "metadata": {},
   "outputs": [
    {
     "data": {
      "text/plain": [
       "1     8089\n",
       "2     6369\n",
       "0     2324\n",
       "3      912\n",
       "4      675\n",
       "4+       9\n",
       "Name: Garajes, dtype: int64"
      ]
     },
     "execution_count": 60,
     "metadata": {},
     "output_type": "execute_result"
    }
   ],
   "source": [
    "#Se observan los valores y el número de entradas que tiene cada uno\n",
    "garajes.value_counts()"
   ]
  },
  {
   "cell_type": "markdown",
   "metadata": {},
   "source": [
    "Se cambia el valor `4+` por 5."
   ]
  },
  {
   "cell_type": "code",
   "execution_count": 61,
   "metadata": {},
   "outputs": [],
   "source": [
    "garajes = garajes.replace('4+',5)"
   ]
  },
  {
   "cell_type": "markdown",
   "metadata": {},
   "source": [
    "Se comprueba que el número de garajes esta correcto."
   ]
  },
  {
   "cell_type": "code",
   "execution_count": 62,
   "metadata": {},
   "outputs": [
    {
     "data": {
      "text/plain": [
       "True"
      ]
     },
     "execution_count": 62,
     "metadata": {},
     "output_type": "execute_result"
    }
   ],
   "source": [
    "#Al total de entradas se le restan las entradas sin garaje.\n",
    "num_garajes == len(garajes) - garajes.value_counts()[0]"
   ]
  },
  {
   "cell_type": "markdown",
   "metadata": {},
   "source": [
    "Por último, se agrega la columna a los datos."
   ]
  },
  {
   "cell_type": "code",
   "execution_count": 63,
   "metadata": {},
   "outputs": [
    {
     "data": {
      "text/html": [
       "<div>\n",
       "<style scoped>\n",
       "    .dataframe tbody tr th:only-of-type {\n",
       "        vertical-align: middle;\n",
       "    }\n",
       "\n",
       "    .dataframe tbody tr th {\n",
       "        vertical-align: top;\n",
       "    }\n",
       "\n",
       "    .dataframe thead th {\n",
       "        text-align: right;\n",
       "    }\n",
       "</style>\n",
       "<table border=\"1\" class=\"dataframe\">\n",
       "  <thead>\n",
       "    <tr style=\"text-align: right;\">\n",
       "      <th></th>\n",
       "      <th>price</th>\n",
       "      <th>n_rooms</th>\n",
       "      <th>n_bath</th>\n",
       "      <th>surface</th>\n",
       "      <th>details</th>\n",
       "      <th>url</th>\n",
       "      <th>metrocuadrado_index</th>\n",
       "      <th>Furnished</th>\n",
       "      <th>location</th>\n",
       "      <th>property</th>\n",
       "      <th>rent</th>\n",
       "      <th>Precio m2</th>\n",
       "      <th>Garajes</th>\n",
       "    </tr>\n",
       "  </thead>\n",
       "  <tbody>\n",
       "    <tr>\n",
       "      <th>0</th>\n",
       "      <td>1050000.0</td>\n",
       "      <td>3.0</td>\n",
       "      <td>2.0</td>\n",
       "      <td>63.0</td>\n",
       "      <td>Excelente casa cerca de la calle 80 y Avenida ...</td>\n",
       "      <td>https://www.metrocuadrado.com/inmueble/arriend...</td>\n",
       "      <td>25.6</td>\n",
       "      <td>No</td>\n",
       "      <td>LA SOLEDAD NORTE</td>\n",
       "      <td>Casa</td>\n",
       "      <td>Arriendo</td>\n",
       "      <td>16666.666667</td>\n",
       "      <td>1</td>\n",
       "    </tr>\n",
       "    <tr>\n",
       "      <th>1</th>\n",
       "      <td>3930000.0</td>\n",
       "      <td>3.0</td>\n",
       "      <td>2.0</td>\n",
       "      <td>100.0</td>\n",
       "      <td>Se arrienda casa bonita totalmente amoblada co...</td>\n",
       "      <td>https://www.metrocuadrado.com/inmueble/arriend...</td>\n",
       "      <td>57.3</td>\n",
       "      <td>No</td>\n",
       "      <td>CIUDAD SALITRE SUR-ORIENTAL</td>\n",
       "      <td>Casa</td>\n",
       "      <td>Arriendo</td>\n",
       "      <td>39300.000000</td>\n",
       "      <td>1</td>\n",
       "    </tr>\n",
       "    <tr>\n",
       "      <th>2</th>\n",
       "      <td>750000.0</td>\n",
       "      <td>3.0</td>\n",
       "      <td>1.0</td>\n",
       "      <td>90.0</td>\n",
       "      <td>CASA DE TRES NIVELES TRES ALCOBAS SALA COMEDOR...</td>\n",
       "      <td>https://www.metrocuadrado.com/inmueble/arriend...</td>\n",
       "      <td>12.2</td>\n",
       "      <td>No</td>\n",
       "      <td>VILLA DE LOS ALPES II SECTOR</td>\n",
       "      <td>Casa</td>\n",
       "      <td>Arriendo</td>\n",
       "      <td>8333.333333</td>\n",
       "      <td>0</td>\n",
       "    </tr>\n",
       "  </tbody>\n",
       "</table>\n",
       "</div>"
      ],
      "text/plain": [
       "       price  n_rooms  n_bath  surface  \\\n",
       "0  1050000.0      3.0     2.0     63.0   \n",
       "1  3930000.0      3.0     2.0    100.0   \n",
       "2   750000.0      3.0     1.0     90.0   \n",
       "\n",
       "                                             details  \\\n",
       "0  Excelente casa cerca de la calle 80 y Avenida ...   \n",
       "1  Se arrienda casa bonita totalmente amoblada co...   \n",
       "2  CASA DE TRES NIVELES TRES ALCOBAS SALA COMEDOR...   \n",
       "\n",
       "                                                 url  metrocuadrado_index  \\\n",
       "0  https://www.metrocuadrado.com/inmueble/arriend...                 25.6   \n",
       "1  https://www.metrocuadrado.com/inmueble/arriend...                 57.3   \n",
       "2  https://www.metrocuadrado.com/inmueble/arriend...                 12.2   \n",
       "\n",
       "  Furnished                      location property      rent     Precio m2  \\\n",
       "0        No              LA SOLEDAD NORTE     Casa  Arriendo  16666.666667   \n",
       "1        No   CIUDAD SALITRE SUR-ORIENTAL     Casa  Arriendo  39300.000000   \n",
       "2        No  VILLA DE LOS ALPES II SECTOR     Casa  Arriendo   8333.333333   \n",
       "\n",
       "  Garajes  \n",
       "0       1  \n",
       "1       1  \n",
       "2       0  "
      ]
     },
     "execution_count": 63,
     "metadata": {},
     "output_type": "execute_result"
    }
   ],
   "source": [
    "data['Garajes'] = garajes\n",
    "data.head(3)"
   ]
  },
  {
   "cell_type": "markdown",
   "metadata": {},
   "source": [
    "### Parte 4"
   ]
  },
  {
   "cell_type": "markdown",
   "metadata": {},
   "source": [
    "Se deben clasificar las observaciones por tipo de producto de acuerdo a los criterios de una tabla."
   ]
  },
  {
   "cell_type": "code",
   "execution_count": 64,
   "metadata": {},
   "outputs": [],
   "source": [
    "tipo1 = data.query('property==\"Casa\" and surface>=80 and surface<120')\n",
    "tipo2 = data.query('property==\"Casa\" and surface>=120 and surface<180')\n",
    "tipo3 = data.query('property==\"Casa\" and surface>=180 and surface<240')\n",
    "tipo4 = data.query('property==\"Casa\" and surface>=240 and surface<360')\n",
    "tipo5 = data.query('property==\"Casa\" and surface>=360 and surface<=460')\n",
    "tipo6 = data.query('property==\"Apartamento\" and surface>=40 and surface<60')\n",
    "tipo7 = data.query('property==\"Apartamento\" and surface>=60 and surface<80')\n",
    "tipo8 = data.query('property==\"Apartamento\" and surface>=80 and surface<=120')"
   ]
  },
  {
   "cell_type": "markdown",
   "metadata": {},
   "source": [
    "Lo que importan son los indices de estos datos."
   ]
  },
  {
   "cell_type": "code",
   "execution_count": 65,
   "metadata": {},
   "outputs": [],
   "source": [
    "t1 = pd.Series(data=1, index=tipo1.index)\n",
    "t2 = pd.Series(data=2, index=tipo2.index)\n",
    "t3 = pd.Series(data=3, index=tipo3.index)\n",
    "t4 = pd.Series(data=4, index=tipo4.index)\n",
    "t5 = pd.Series(data=5, index=tipo5.index)\n",
    "t6 = pd.Series(data=6, index=tipo6.index)\n",
    "t7 = pd.Series(data=7, index=tipo7.index)\n",
    "t8 = pd.Series(data=8, index=tipo8.index)"
   ]
  },
  {
   "cell_type": "markdown",
   "metadata": {},
   "source": [
    "Se concatenan todas estas series y se unen al dataframe."
   ]
  },
  {
   "cell_type": "code",
   "execution_count": 66,
   "metadata": {},
   "outputs": [],
   "source": [
    "cop = data.copy()"
   ]
  },
  {
   "cell_type": "code",
   "execution_count": 67,
   "metadata": {},
   "outputs": [
    {
     "name": "stdout",
     "output_type": "stream",
     "text": [
      "Cantidad de datos: 18378\n"
     ]
    },
    {
     "data": {
      "text/html": [
       "<div>\n",
       "<style scoped>\n",
       "    .dataframe tbody tr th:only-of-type {\n",
       "        vertical-align: middle;\n",
       "    }\n",
       "\n",
       "    .dataframe tbody tr th {\n",
       "        vertical-align: top;\n",
       "    }\n",
       "\n",
       "    .dataframe thead th {\n",
       "        text-align: right;\n",
       "    }\n",
       "</style>\n",
       "<table border=\"1\" class=\"dataframe\">\n",
       "  <thead>\n",
       "    <tr style=\"text-align: right;\">\n",
       "      <th></th>\n",
       "      <th>price</th>\n",
       "      <th>n_rooms</th>\n",
       "      <th>n_bath</th>\n",
       "      <th>surface</th>\n",
       "      <th>details</th>\n",
       "      <th>url</th>\n",
       "      <th>metrocuadrado_index</th>\n",
       "      <th>Furnished</th>\n",
       "      <th>location</th>\n",
       "      <th>property</th>\n",
       "      <th>rent</th>\n",
       "      <th>Precio m2</th>\n",
       "      <th>Garajes</th>\n",
       "      <th>tipo de producto</th>\n",
       "    </tr>\n",
       "  </thead>\n",
       "  <tbody>\n",
       "    <tr>\n",
       "      <th>0</th>\n",
       "      <td>1050000.0</td>\n",
       "      <td>3.0</td>\n",
       "      <td>2.0</td>\n",
       "      <td>63.0</td>\n",
       "      <td>Excelente casa cerca de la calle 80 y Avenida ...</td>\n",
       "      <td>https://www.metrocuadrado.com/inmueble/arriend...</td>\n",
       "      <td>25.6</td>\n",
       "      <td>No</td>\n",
       "      <td>LA SOLEDAD NORTE</td>\n",
       "      <td>Casa</td>\n",
       "      <td>Arriendo</td>\n",
       "      <td>16666.666667</td>\n",
       "      <td>1</td>\n",
       "      <td>NaN</td>\n",
       "    </tr>\n",
       "    <tr>\n",
       "      <th>1</th>\n",
       "      <td>3930000.0</td>\n",
       "      <td>3.0</td>\n",
       "      <td>2.0</td>\n",
       "      <td>100.0</td>\n",
       "      <td>Se arrienda casa bonita totalmente amoblada co...</td>\n",
       "      <td>https://www.metrocuadrado.com/inmueble/arriend...</td>\n",
       "      <td>57.3</td>\n",
       "      <td>No</td>\n",
       "      <td>CIUDAD SALITRE SUR-ORIENTAL</td>\n",
       "      <td>Casa</td>\n",
       "      <td>Arriendo</td>\n",
       "      <td>39300.000000</td>\n",
       "      <td>1</td>\n",
       "      <td>1.0</td>\n",
       "    </tr>\n",
       "    <tr>\n",
       "      <th>2</th>\n",
       "      <td>750000.0</td>\n",
       "      <td>3.0</td>\n",
       "      <td>1.0</td>\n",
       "      <td>90.0</td>\n",
       "      <td>CASA DE TRES NIVELES TRES ALCOBAS SALA COMEDOR...</td>\n",
       "      <td>https://www.metrocuadrado.com/inmueble/arriend...</td>\n",
       "      <td>12.2</td>\n",
       "      <td>No</td>\n",
       "      <td>VILLA DE LOS ALPES II SECTOR</td>\n",
       "      <td>Casa</td>\n",
       "      <td>Arriendo</td>\n",
       "      <td>8333.333333</td>\n",
       "      <td>0</td>\n",
       "      <td>1.0</td>\n",
       "    </tr>\n",
       "  </tbody>\n",
       "</table>\n",
       "</div>"
      ],
      "text/plain": [
       "       price  n_rooms  n_bath  surface  \\\n",
       "0  1050000.0      3.0     2.0     63.0   \n",
       "1  3930000.0      3.0     2.0    100.0   \n",
       "2   750000.0      3.0     1.0     90.0   \n",
       "\n",
       "                                             details  \\\n",
       "0  Excelente casa cerca de la calle 80 y Avenida ...   \n",
       "1  Se arrienda casa bonita totalmente amoblada co...   \n",
       "2  CASA DE TRES NIVELES TRES ALCOBAS SALA COMEDOR...   \n",
       "\n",
       "                                                 url  metrocuadrado_index  \\\n",
       "0  https://www.metrocuadrado.com/inmueble/arriend...                 25.6   \n",
       "1  https://www.metrocuadrado.com/inmueble/arriend...                 57.3   \n",
       "2  https://www.metrocuadrado.com/inmueble/arriend...                 12.2   \n",
       "\n",
       "  Furnished                      location property      rent     Precio m2  \\\n",
       "0        No              LA SOLEDAD NORTE     Casa  Arriendo  16666.666667   \n",
       "1        No   CIUDAD SALITRE SUR-ORIENTAL     Casa  Arriendo  39300.000000   \n",
       "2        No  VILLA DE LOS ALPES II SECTOR     Casa  Arriendo   8333.333333   \n",
       "\n",
       "  Garajes  tipo de producto  \n",
       "0       1               NaN  \n",
       "1       1               1.0  \n",
       "2       0               1.0  "
      ]
     },
     "execution_count": 67,
     "metadata": {},
     "output_type": "execute_result"
    }
   ],
   "source": [
    "tipo_producto = pd.concat([t1, t2, t3, t4, t5, t6, t7, t8])\n",
    "data['tipo de producto'] = tipo_producto\n",
    "\n",
    "print('Cantidad de datos:', len(data))\n",
    "data.head(3)"
   ]
  },
  {
   "cell_type": "markdown",
   "metadata": {},
   "source": [
    "Se tienen `NaN` porque hay datos que no entran en ninguno de los tipos. \n",
    "\n",
    "Para decidir que se hará con esos datos en primer lugar se contará el número de ellos."
   ]
  },
  {
   "cell_type": "code",
   "execution_count": 68,
   "metadata": {},
   "outputs": [
    {
     "name": "stdout",
     "output_type": "stream",
     "text": [
      "Datos nulos: 2746\n",
      "Porcentaje de nulos: 14.942%\n"
     ]
    }
   ],
   "source": [
    "nulos = data['tipo de producto'].isnull().sum()\n",
    "print('Datos nulos:', nulos)\n",
    "print('Porcentaje de nulos: {:.3f}%'.format(nulos/len(data)*100))"
   ]
  },
  {
   "cell_type": "markdown",
   "metadata": {},
   "source": [
    "Como se observa es una gran cantidad de datos, por lo que se requiere tener más información para saber que hacer con esos datos."
   ]
  },
  {
   "cell_type": "code",
   "execution_count": 69,
   "metadata": {
    "scrolled": false
   },
   "outputs": [
    {
     "data": {
      "text/html": [
       "<div>\n",
       "<style scoped>\n",
       "    .dataframe tbody tr th:only-of-type {\n",
       "        vertical-align: middle;\n",
       "    }\n",
       "\n",
       "    .dataframe tbody tr th {\n",
       "        vertical-align: top;\n",
       "    }\n",
       "\n",
       "    .dataframe thead th {\n",
       "        text-align: right;\n",
       "    }\n",
       "</style>\n",
       "<table border=\"1\" class=\"dataframe\">\n",
       "  <thead>\n",
       "    <tr style=\"text-align: right;\">\n",
       "      <th></th>\n",
       "      <th>price</th>\n",
       "      <th>n_rooms</th>\n",
       "      <th>n_bath</th>\n",
       "      <th>surface</th>\n",
       "      <th>details</th>\n",
       "      <th>url</th>\n",
       "      <th>metrocuadrado_index</th>\n",
       "      <th>Furnished</th>\n",
       "      <th>location</th>\n",
       "      <th>property</th>\n",
       "      <th>rent</th>\n",
       "      <th>Precio m2</th>\n",
       "      <th>Garajes</th>\n",
       "      <th>tipo de producto</th>\n",
       "    </tr>\n",
       "  </thead>\n",
       "  <tbody>\n",
       "    <tr>\n",
       "      <th>0</th>\n",
       "      <td>1050000.0</td>\n",
       "      <td>3.0</td>\n",
       "      <td>2.0</td>\n",
       "      <td>63.0</td>\n",
       "      <td>Excelente casa cerca de la calle 80 y Avenida ...</td>\n",
       "      <td>https://www.metrocuadrado.com/inmueble/arriend...</td>\n",
       "      <td>25.6</td>\n",
       "      <td>No</td>\n",
       "      <td>LA SOLEDAD NORTE</td>\n",
       "      <td>Casa</td>\n",
       "      <td>Arriendo</td>\n",
       "      <td>16666.666667</td>\n",
       "      <td>1</td>\n",
       "      <td>NaN</td>\n",
       "    </tr>\n",
       "    <tr>\n",
       "      <th>3</th>\n",
       "      <td>3400000.0</td>\n",
       "      <td>5.0</td>\n",
       "      <td>4.0</td>\n",
       "      <td>71.0</td>\n",
       "      <td>casa ezquinera excelente ubicacion cinco alcob...</td>\n",
       "      <td>https://www.metrocuadrado.com/inmueble/arriend...</td>\n",
       "      <td>56.0</td>\n",
       "      <td>No</td>\n",
       "      <td>PARIS GAITAN</td>\n",
       "      <td>Casa</td>\n",
       "      <td>Arriendo</td>\n",
       "      <td>47887.323944</td>\n",
       "      <td>0</td>\n",
       "      <td>NaN</td>\n",
       "    </tr>\n",
       "    <tr>\n",
       "      <th>5</th>\n",
       "      <td>1100000.0</td>\n",
       "      <td>3.0</td>\n",
       "      <td>2.0</td>\n",
       "      <td>69.0</td>\n",
       "      <td>Casa en conjunto cerrado, recién remodelada, c...</td>\n",
       "      <td>https://www.metrocuadrado.com/inmueble/arriend...</td>\n",
       "      <td>32.4</td>\n",
       "      <td>No</td>\n",
       "      <td>TIBABUYES</td>\n",
       "      <td>Casa</td>\n",
       "      <td>Arriendo</td>\n",
       "      <td>15942.028986</td>\n",
       "      <td>0</td>\n",
       "      <td>NaN</td>\n",
       "    </tr>\n",
       "  </tbody>\n",
       "</table>\n",
       "</div>"
      ],
      "text/plain": [
       "       price  n_rooms  n_bath  surface  \\\n",
       "0  1050000.0      3.0     2.0     63.0   \n",
       "3  3400000.0      5.0     4.0     71.0   \n",
       "5  1100000.0      3.0     2.0     69.0   \n",
       "\n",
       "                                             details  \\\n",
       "0  Excelente casa cerca de la calle 80 y Avenida ...   \n",
       "3  casa ezquinera excelente ubicacion cinco alcob...   \n",
       "5  Casa en conjunto cerrado, recién remodelada, c...   \n",
       "\n",
       "                                                 url  metrocuadrado_index  \\\n",
       "0  https://www.metrocuadrado.com/inmueble/arriend...                 25.6   \n",
       "3  https://www.metrocuadrado.com/inmueble/arriend...                 56.0   \n",
       "5  https://www.metrocuadrado.com/inmueble/arriend...                 32.4   \n",
       "\n",
       "  Furnished          location property      rent     Precio m2 Garajes  \\\n",
       "0        No  LA SOLEDAD NORTE     Casa  Arriendo  16666.666667       1   \n",
       "3        No      PARIS GAITAN     Casa  Arriendo  47887.323944       0   \n",
       "5        No         TIBABUYES     Casa  Arriendo  15942.028986       0   \n",
       "\n",
       "   tipo de producto  \n",
       "0               NaN  \n",
       "3               NaN  \n",
       "5               NaN  "
      ]
     },
     "execution_count": 69,
     "metadata": {},
     "output_type": "execute_result"
    }
   ],
   "source": [
    "data_nulos = data[data['tipo de producto'].isnull()]\n",
    "data_nulos.head(3)"
   ]
  },
  {
   "cell_type": "markdown",
   "metadata": {},
   "source": [
    "Los tipos de datos que no están siendo considerados son lo siguientes:\n",
    "\n",
    "1. Casa con área menor a $80m^2$\n",
    "2. Casa con área mayor a $460m^2$\n",
    "3. Apartamento con área menor a $40m^2$\n",
    "4. Apartamento con área mayor a $120m^2$\n",
    "\n",
    "Se estudiará la cantidad de datos en cada uno de estos subconjuntos."
   ]
  },
  {
   "cell_type": "code",
   "execution_count": 70,
   "metadata": {},
   "outputs": [],
   "source": [
    "tipo9 = data.query('property==\"Casa\" and surface<80')\n",
    "tipo10 = data.query('property==\"Casa\" and surface>460')\n",
    "tipo11 = data.query('property==\"Apartamento\" and surface<40')\n",
    "tipo12 = data.query('property==\"Apartamento\" and surface>120')"
   ]
  },
  {
   "cell_type": "code",
   "execution_count": 71,
   "metadata": {},
   "outputs": [
    {
     "name": "stdout",
     "output_type": "stream",
     "text": [
      "Cantidad de datos:  188\n",
      "Cantidad de datos:  166\n",
      "Cantidad de datos:  1084\n",
      "Cantidad de datos:  1308\n"
     ]
    }
   ],
   "source": [
    "sin_tipo = [tipo9, tipo10, tipo11, tipo12]\n",
    "for i in sin_tipo:\n",
    "    print('Cantidad de datos: ', len(i))"
   ]
  },
  {
   "cell_type": "markdown",
   "metadata": {},
   "source": [
    "Se observa que la mayoria de datos que no son considerados son los de apartamentos."
   ]
  },
  {
   "cell_type": "code",
   "execution_count": 72,
   "metadata": {},
   "outputs": [],
   "source": [
    "#Se forman series con los indices de los datos sin tipo\n",
    "t9 = pd.Series(data=9, index=tipo9.index)\n",
    "t10 = pd.Series(data=10, index=tipo10.index)\n",
    "t11 = pd.Series(data=11, index=tipo11.index)\n",
    "t12 = pd.Series(data=12, index=tipo12.index)"
   ]
  },
  {
   "cell_type": "markdown",
   "metadata": {},
   "source": [
    "Se concatenan todos los datos que no pertencen a ningún tipo."
   ]
  },
  {
   "cell_type": "code",
   "execution_count": 73,
   "metadata": {},
   "outputs": [],
   "source": [
    "datos_sin_tipo = pd.concat([t9, t10, t11, t12])\n",
    "datos_sin_tipo.name = 'tipo de producto'"
   ]
  },
  {
   "cell_type": "markdown",
   "metadata": {},
   "source": [
    "Finalmente se decide unirlos con los otros datos, pero dandoles otros tipos de acuerdo a su valor."
   ]
  },
  {
   "cell_type": "code",
   "execution_count": 74,
   "metadata": {},
   "outputs": [
    {
     "name": "stdout",
     "output_type": "stream",
     "text": [
      "Cantidad de datos: 18378\n"
     ]
    },
    {
     "data": {
      "text/html": [
       "<div>\n",
       "<style scoped>\n",
       "    .dataframe tbody tr th:only-of-type {\n",
       "        vertical-align: middle;\n",
       "    }\n",
       "\n",
       "    .dataframe tbody tr th {\n",
       "        vertical-align: top;\n",
       "    }\n",
       "\n",
       "    .dataframe thead th {\n",
       "        text-align: right;\n",
       "    }\n",
       "</style>\n",
       "<table border=\"1\" class=\"dataframe\">\n",
       "  <thead>\n",
       "    <tr style=\"text-align: right;\">\n",
       "      <th></th>\n",
       "      <th>price</th>\n",
       "      <th>n_rooms</th>\n",
       "      <th>n_bath</th>\n",
       "      <th>surface</th>\n",
       "      <th>details</th>\n",
       "      <th>url</th>\n",
       "      <th>metrocuadrado_index</th>\n",
       "      <th>Furnished</th>\n",
       "      <th>location</th>\n",
       "      <th>property</th>\n",
       "      <th>rent</th>\n",
       "      <th>Precio m2</th>\n",
       "      <th>Garajes</th>\n",
       "      <th>tipo de producto</th>\n",
       "    </tr>\n",
       "  </thead>\n",
       "  <tbody>\n",
       "    <tr>\n",
       "      <th>0</th>\n",
       "      <td>1050000.0</td>\n",
       "      <td>3.0</td>\n",
       "      <td>2.0</td>\n",
       "      <td>63.0</td>\n",
       "      <td>Excelente casa cerca de la calle 80 y Avenida ...</td>\n",
       "      <td>https://www.metrocuadrado.com/inmueble/arriend...</td>\n",
       "      <td>25.6</td>\n",
       "      <td>No</td>\n",
       "      <td>LA SOLEDAD NORTE</td>\n",
       "      <td>Casa</td>\n",
       "      <td>Arriendo</td>\n",
       "      <td>16666.666667</td>\n",
       "      <td>1</td>\n",
       "      <td>9.0</td>\n",
       "    </tr>\n",
       "    <tr>\n",
       "      <th>1</th>\n",
       "      <td>3930000.0</td>\n",
       "      <td>3.0</td>\n",
       "      <td>2.0</td>\n",
       "      <td>100.0</td>\n",
       "      <td>Se arrienda casa bonita totalmente amoblada co...</td>\n",
       "      <td>https://www.metrocuadrado.com/inmueble/arriend...</td>\n",
       "      <td>57.3</td>\n",
       "      <td>No</td>\n",
       "      <td>CIUDAD SALITRE SUR-ORIENTAL</td>\n",
       "      <td>Casa</td>\n",
       "      <td>Arriendo</td>\n",
       "      <td>39300.000000</td>\n",
       "      <td>1</td>\n",
       "      <td>1.0</td>\n",
       "    </tr>\n",
       "    <tr>\n",
       "      <th>2</th>\n",
       "      <td>750000.0</td>\n",
       "      <td>3.0</td>\n",
       "      <td>1.0</td>\n",
       "      <td>90.0</td>\n",
       "      <td>CASA DE TRES NIVELES TRES ALCOBAS SALA COMEDOR...</td>\n",
       "      <td>https://www.metrocuadrado.com/inmueble/arriend...</td>\n",
       "      <td>12.2</td>\n",
       "      <td>No</td>\n",
       "      <td>VILLA DE LOS ALPES II SECTOR</td>\n",
       "      <td>Casa</td>\n",
       "      <td>Arriendo</td>\n",
       "      <td>8333.333333</td>\n",
       "      <td>0</td>\n",
       "      <td>1.0</td>\n",
       "    </tr>\n",
       "    <tr>\n",
       "      <th>3</th>\n",
       "      <td>3400000.0</td>\n",
       "      <td>5.0</td>\n",
       "      <td>4.0</td>\n",
       "      <td>71.0</td>\n",
       "      <td>casa ezquinera excelente ubicacion cinco alcob...</td>\n",
       "      <td>https://www.metrocuadrado.com/inmueble/arriend...</td>\n",
       "      <td>56.0</td>\n",
       "      <td>No</td>\n",
       "      <td>PARIS GAITAN</td>\n",
       "      <td>Casa</td>\n",
       "      <td>Arriendo</td>\n",
       "      <td>47887.323944</td>\n",
       "      <td>0</td>\n",
       "      <td>9.0</td>\n",
       "    </tr>\n",
       "    <tr>\n",
       "      <th>4</th>\n",
       "      <td>1560000.0</td>\n",
       "      <td>4.0</td>\n",
       "      <td>3.0</td>\n",
       "      <td>96.0</td>\n",
       "      <td>Excelente casa de tres niveles, buena ubicació...</td>\n",
       "      <td>https://www.metrocuadrado.com/inmueble/arriend...</td>\n",
       "      <td>47.1</td>\n",
       "      <td>No</td>\n",
       "      <td>BALCONES DE ORIENTE</td>\n",
       "      <td>Casa</td>\n",
       "      <td>Arriendo</td>\n",
       "      <td>16250.000000</td>\n",
       "      <td>1</td>\n",
       "      <td>1.0</td>\n",
       "    </tr>\n",
       "  </tbody>\n",
       "</table>\n",
       "</div>"
      ],
      "text/plain": [
       "       price  n_rooms  n_bath  surface  \\\n",
       "0  1050000.0      3.0     2.0     63.0   \n",
       "1  3930000.0      3.0     2.0    100.0   \n",
       "2   750000.0      3.0     1.0     90.0   \n",
       "3  3400000.0      5.0     4.0     71.0   \n",
       "4  1560000.0      4.0     3.0     96.0   \n",
       "\n",
       "                                             details  \\\n",
       "0  Excelente casa cerca de la calle 80 y Avenida ...   \n",
       "1  Se arrienda casa bonita totalmente amoblada co...   \n",
       "2  CASA DE TRES NIVELES TRES ALCOBAS SALA COMEDOR...   \n",
       "3  casa ezquinera excelente ubicacion cinco alcob...   \n",
       "4  Excelente casa de tres niveles, buena ubicació...   \n",
       "\n",
       "                                                 url  metrocuadrado_index  \\\n",
       "0  https://www.metrocuadrado.com/inmueble/arriend...                 25.6   \n",
       "1  https://www.metrocuadrado.com/inmueble/arriend...                 57.3   \n",
       "2  https://www.metrocuadrado.com/inmueble/arriend...                 12.2   \n",
       "3  https://www.metrocuadrado.com/inmueble/arriend...                 56.0   \n",
       "4  https://www.metrocuadrado.com/inmueble/arriend...                 47.1   \n",
       "\n",
       "  Furnished                      location property      rent     Precio m2  \\\n",
       "0        No              LA SOLEDAD NORTE     Casa  Arriendo  16666.666667   \n",
       "1        No   CIUDAD SALITRE SUR-ORIENTAL     Casa  Arriendo  39300.000000   \n",
       "2        No  VILLA DE LOS ALPES II SECTOR     Casa  Arriendo   8333.333333   \n",
       "3        No                  PARIS GAITAN     Casa  Arriendo  47887.323944   \n",
       "4        No           BALCONES DE ORIENTE     Casa  Arriendo  16250.000000   \n",
       "\n",
       "  Garajes  tipo de producto  \n",
       "0       1               9.0  \n",
       "1       1               1.0  \n",
       "2       0               1.0  \n",
       "3       0               9.0  \n",
       "4       1               1.0  "
      ]
     },
     "execution_count": 74,
     "metadata": {},
     "output_type": "execute_result"
    }
   ],
   "source": [
    "data['tipo de producto'] = data['tipo de producto'].combine_first(datos_sin_tipo)\n",
    "print('Cantidad de datos:', len(data))\n",
    "data.head()"
   ]
  },
  {
   "cell_type": "markdown",
   "metadata": {},
   "source": [
    "### Parte 5"
   ]
  },
  {
   "cell_type": "markdown",
   "metadata": {},
   "source": [
    "Se cargan los datos desde `data/asignacion_upz/barrio-upz.csv`."
   ]
  },
  {
   "cell_type": "code",
   "execution_count": 75,
   "metadata": {},
   "outputs": [],
   "source": [
    "copia = data.copy()"
   ]
  },
  {
   "cell_type": "code",
   "execution_count": 76,
   "metadata": {
    "scrolled": false
   },
   "outputs": [
    {
     "data": {
      "text/html": [
       "<div>\n",
       "<style scoped>\n",
       "    .dataframe tbody tr th:only-of-type {\n",
       "        vertical-align: middle;\n",
       "    }\n",
       "\n",
       "    .dataframe tbody tr th {\n",
       "        vertical-align: top;\n",
       "    }\n",
       "\n",
       "    .dataframe thead th {\n",
       "        text-align: right;\n",
       "    }\n",
       "</style>\n",
       "<table border=\"1\" class=\"dataframe\">\n",
       "  <thead>\n",
       "    <tr style=\"text-align: right;\">\n",
       "      <th></th>\n",
       "      <th>UPlCodigo</th>\n",
       "      <th>UPlTipo</th>\n",
       "      <th>UPlNombre</th>\n",
       "      <th>UPlArea</th>\n",
       "      <th>pro_location</th>\n",
       "    </tr>\n",
       "  </thead>\n",
       "  <tbody>\n",
       "    <tr>\n",
       "      <th>0</th>\n",
       "      <td>UPZ100</td>\n",
       "      <td>1</td>\n",
       "      <td>GALERIAS</td>\n",
       "      <td>2.375681e+06</td>\n",
       "      <td>palermo</td>\n",
       "    </tr>\n",
       "    <tr>\n",
       "      <th>1</th>\n",
       "      <td>UPZ100</td>\n",
       "      <td>1</td>\n",
       "      <td>GALERIAS</td>\n",
       "      <td>2.375681e+06</td>\n",
       "      <td>belalcazar</td>\n",
       "    </tr>\n",
       "    <tr>\n",
       "      <th>2</th>\n",
       "      <td>UPZ100</td>\n",
       "      <td>1</td>\n",
       "      <td>GALERIAS</td>\n",
       "      <td>2.375681e+06</td>\n",
       "      <td>sears</td>\n",
       "    </tr>\n",
       "    <tr>\n",
       "      <th>3</th>\n",
       "      <td>UPZ100</td>\n",
       "      <td>1</td>\n",
       "      <td>GALERIAS</td>\n",
       "      <td>2.375681e+06</td>\n",
       "      <td>galerias</td>\n",
       "    </tr>\n",
       "    <tr>\n",
       "      <th>4</th>\n",
       "      <td>UPZ100</td>\n",
       "      <td>1</td>\n",
       "      <td>GALERIAS</td>\n",
       "      <td>2.375681e+06</td>\n",
       "      <td>banco central</td>\n",
       "    </tr>\n",
       "    <tr>\n",
       "      <th>...</th>\n",
       "      <td>...</td>\n",
       "      <td>...</td>\n",
       "      <td>...</td>\n",
       "      <td>...</td>\n",
       "      <td>...</td>\n",
       "    </tr>\n",
       "    <tr>\n",
       "      <th>463</th>\n",
       "      <td>UPZ42</td>\n",
       "      <td>1</td>\n",
       "      <td>VENECIA</td>\n",
       "      <td>6.638420e+06</td>\n",
       "      <td>nuevo muzu</td>\n",
       "    </tr>\n",
       "    <tr>\n",
       "      <th>464</th>\n",
       "      <td>UPZ42</td>\n",
       "      <td>1</td>\n",
       "      <td>VENECIA</td>\n",
       "      <td>6.638420e+06</td>\n",
       "      <td>el condor</td>\n",
       "    </tr>\n",
       "    <tr>\n",
       "      <th>465</th>\n",
       "      <td>UPZ42</td>\n",
       "      <td>1</td>\n",
       "      <td>VENECIA</td>\n",
       "      <td>6.638420e+06</td>\n",
       "      <td>laguneta</td>\n",
       "    </tr>\n",
       "    <tr>\n",
       "      <th>466</th>\n",
       "      <td>UPZ52</td>\n",
       "      <td>1</td>\n",
       "      <td>LA FLORA</td>\n",
       "      <td>1.877160e+06</td>\n",
       "      <td>villa maria</td>\n",
       "    </tr>\n",
       "    <tr>\n",
       "      <th>467</th>\n",
       "      <td>UPZ60</td>\n",
       "      <td>1</td>\n",
       "      <td>PARQUE ENTRENUBES</td>\n",
       "      <td>4.190395e+06</td>\n",
       "      <td>NaN</td>\n",
       "    </tr>\n",
       "  </tbody>\n",
       "</table>\n",
       "<p>468 rows × 5 columns</p>\n",
       "</div>"
      ],
      "text/plain": [
       "    UPlCodigo  UPlTipo          UPlNombre       UPlArea   pro_location\n",
       "0      UPZ100        1           GALERIAS  2.375681e+06        palermo\n",
       "1      UPZ100        1           GALERIAS  2.375681e+06     belalcazar\n",
       "2      UPZ100        1           GALERIAS  2.375681e+06          sears\n",
       "3      UPZ100        1           GALERIAS  2.375681e+06       galerias\n",
       "4      UPZ100        1           GALERIAS  2.375681e+06  banco central\n",
       "..        ...      ...                ...           ...            ...\n",
       "463     UPZ42        1            VENECIA  6.638420e+06     nuevo muzu\n",
       "464     UPZ42        1            VENECIA  6.638420e+06      el condor\n",
       "465     UPZ42        1            VENECIA  6.638420e+06       laguneta\n",
       "466     UPZ52        1           LA FLORA  1.877160e+06    villa maria\n",
       "467     UPZ60        1  PARQUE ENTRENUBES  4.190395e+06            NaN\n",
       "\n",
       "[468 rows x 5 columns]"
      ]
     },
     "execution_count": 76,
     "metadata": {},
     "output_type": "execute_result"
    }
   ],
   "source": [
    "barrio_df = pd.read_csv('data/asignacion_upz/barrio-upz.csv')\n",
    "barrio_df"
   ]
  },
  {
   "cell_type": "markdown",
   "metadata": {},
   "source": [
    "Se deduce que la columna `UPlNombre` tiene el nombre del código UPZ de la localidad, pero la columna `pro_location` tiene el nombre del barrio y es la que se relaciona con la columna `location` del dataframe."
   ]
  },
  {
   "cell_type": "markdown",
   "metadata": {},
   "source": [
    "En primer lugar se buscan los valores nulos en la columna `UPlNombre`."
   ]
  },
  {
   "cell_type": "code",
   "execution_count": 77,
   "metadata": {},
   "outputs": [
    {
     "data": {
      "text/plain": [
       "12"
      ]
     },
     "execution_count": 77,
     "metadata": {},
     "output_type": "execute_result"
    }
   ],
   "source": [
    "barrio_df['pro_location'].isnull().sum()"
   ]
  },
  {
   "cell_type": "markdown",
   "metadata": {},
   "source": [
    "Se cambian los `NaN` por 'NaN' para poner pasar la columna a tipo string"
   ]
  },
  {
   "cell_type": "code",
   "execution_count": 78,
   "metadata": {},
   "outputs": [],
   "source": [
    "barrio_df['pro_location'].fillna('NaN', inplace=True)"
   ]
  },
  {
   "cell_type": "markdown",
   "metadata": {},
   "source": [
    "Luego se ve el número de valores únicos."
   ]
  },
  {
   "cell_type": "code",
   "execution_count": 79,
   "metadata": {},
   "outputs": [
    {
     "data": {
      "text/plain": [
       "0            palermo\n",
       "1         belalcazar\n",
       "2              sears\n",
       "3           galerias\n",
       "4      banco central\n",
       "           ...      \n",
       "463       nuevo muzu\n",
       "464        el condor\n",
       "465         laguneta\n",
       "466      villa maria\n",
       "467              NaN\n",
       "Name: pro_location, Length: 468, dtype: object"
      ]
     },
     "execution_count": 79,
     "metadata": {},
     "output_type": "execute_result"
    }
   ],
   "source": [
    "barrio_df['pro_location'].astype(str)"
   ]
  },
  {
   "cell_type": "code",
   "execution_count": 80,
   "metadata": {},
   "outputs": [
    {
     "name": "stdout",
     "output_type": "stream",
     "text": [
      "Unicos:  457\n"
     ]
    },
    {
     "data": {
      "text/plain": [
       "array(['palermo', 'belalcazar', 'sears', 'galerias'], dtype=object)"
      ]
     },
     "execution_count": 80,
     "metadata": {},
     "output_type": "execute_result"
    }
   ],
   "source": [
    "b_unicos = barrio_df['pro_location'].unique()\n",
    "print('Unicos: ', len(b_unicos))\n",
    "b_unicos[:4]"
   ]
  },
  {
   "cell_type": "markdown",
   "metadata": {},
   "source": [
    "Por lo tanto no hay ningún valor repetido además de los `NaN`, puesto que $457+12-1=468$ que es el largo del dataframe."
   ]
  },
  {
   "cell_type": "markdown",
   "metadata": {},
   "source": [
    "Se creará una serie que solo contenga el nombre del barrio y otra que contenga el código."
   ]
  },
  {
   "cell_type": "code",
   "execution_count": 81,
   "metadata": {},
   "outputs": [
    {
     "name": "stdout",
     "output_type": "stream",
     "text": [
      "Largo:  468\n"
     ]
    },
    {
     "data": {
      "text/plain": [
       "0       palermo\n",
       "1    belalcazar\n",
       "2         sears\n",
       "Name: pro_location, dtype: object"
      ]
     },
     "execution_count": 81,
     "metadata": {},
     "output_type": "execute_result"
    }
   ],
   "source": [
    "barrio = pd.Series(data=barrio_df['pro_location'])\n",
    "print('Largo: ', len(barrio))\n",
    "barrio.head(3)"
   ]
  },
  {
   "cell_type": "code",
   "execution_count": 82,
   "metadata": {},
   "outputs": [
    {
     "name": "stdout",
     "output_type": "stream",
     "text": [
      "Largo:  468\n"
     ]
    },
    {
     "data": {
      "text/plain": [
       "0    UPZ100\n",
       "1    UPZ100\n",
       "2    UPZ100\n",
       "Name: UPlCodigo, dtype: object"
      ]
     },
     "execution_count": 82,
     "metadata": {},
     "output_type": "execute_result"
    }
   ],
   "source": [
    "codigo = pd.Series(data=barrio_df['UPlCodigo'])\n",
    "print('Largo: ', len(codigo))\n",
    "codigo.head(3)"
   ]
  },
  {
   "cell_type": "markdown",
   "metadata": {},
   "source": [
    "Se cuenta el número de valores únicos en `location`."
   ]
  },
  {
   "cell_type": "code",
   "execution_count": 83,
   "metadata": {},
   "outputs": [
    {
     "name": "stdout",
     "output_type": "stream",
     "text": [
      "622\n"
     ]
    }
   ],
   "source": [
    "print(len(location.unique()))"
   ]
  },
  {
   "cell_type": "markdown",
   "metadata": {},
   "source": [
    "Se ve que hay más datos únicos que los que aparecen en la serie `barrio`, $623$ vs $457$. Por lo que probablemente deban quedar algunos barrios de la data sin código."
   ]
  },
  {
   "cell_type": "markdown",
   "metadata": {},
   "source": [
    "Para agregar el código de cada barrio a `data` se crea una serie."
   ]
  },
  {
   "cell_type": "code",
   "execution_count": 84,
   "metadata": {},
   "outputs": [
    {
     "data": {
      "text/plain": [
       "0        NaN\n",
       "1        NaN\n",
       "2        NaN\n",
       "3        NaN\n",
       "4        NaN\n",
       "        ... \n",
       "18373    NaN\n",
       "18374    NaN\n",
       "18375    NaN\n",
       "18376    NaN\n",
       "18377    NaN\n",
       "Length: 18378, dtype: object"
      ]
     },
     "execution_count": 84,
     "metadata": {},
     "output_type": "execute_result"
    }
   ],
   "source": [
    "code_data = pd.Series(index=data.index, dtype=str)\n",
    "code_data"
   ]
  },
  {
   "cell_type": "code",
   "execution_count": 85,
   "metadata": {},
   "outputs": [],
   "source": [
    "for i, loc in enumerate(location):\n",
    "    busqueda = barrio.str.contains(loc.lower())\n",
    "    if busqueda.any() == True:\n",
    "        indice = busqueda.argmax() #Se busca el primer True\n",
    "        code_data[i] = codigo[indice]"
   ]
  },
  {
   "cell_type": "code",
   "execution_count": 86,
   "metadata": {},
   "outputs": [
    {
     "data": {
      "text/plain": [
       "18373    UPZ97\n",
       "18374    UPZ97\n",
       "18375    UPZ97\n",
       "18376    UPZ16\n",
       "18377    UPZ88\n",
       "dtype: object"
      ]
     },
     "execution_count": 86,
     "metadata": {},
     "output_type": "execute_result"
    }
   ],
   "source": [
    "#Se revisa la serie\n",
    "code_data.tail()"
   ]
  },
  {
   "cell_type": "markdown",
   "metadata": {},
   "source": [
    "Se ve la cantidad de nulos que hay."
   ]
  },
  {
   "cell_type": "code",
   "execution_count": 87,
   "metadata": {},
   "outputs": [
    {
     "name": "stdout",
     "output_type": "stream",
     "text": [
      "Nulos: 1741\n",
      "Porcentaje de nulos: 9.473283273479161%\n"
     ]
    }
   ],
   "source": [
    "nulos = code_data.isnull().sum()\n",
    "print('Nulos:', nulos)\n",
    "print('Porcentaje de nulos: {}%'.format(nulos/len(code_data)*100))"
   ]
  },
  {
   "cell_type": "markdown",
   "metadata": {},
   "source": [
    "Es decir alrededor del 90% de los datos no son nulos, tal como aparece en el enunciado de la tarea."
   ]
  },
  {
   "cell_type": "markdown",
   "metadata": {},
   "source": [
    "Se buscan los barrios nulos."
   ]
  },
  {
   "cell_type": "code",
   "execution_count": 88,
   "metadata": {
    "scrolled": true
   },
   "outputs": [
    {
     "data": {
      "text/plain": [
       "array(['LA SOLEDAD NORTE', 'CIUDAD SALITRE SUR-ORIENTAL',\n",
       "       'VILLA DE LOS ALPES II SECTOR', 'PORTALES DEL NORTE',\n",
       "       'URBANIZACION BOLIVIA ORIENTAL', 'URBANIZACION AZAFRANES',\n",
       "       'URBANIZACION EL CORTIJO', 'LOS PANTANOS', 'BOSQUE DE PINOS',\n",
       "       'PRADO VERANIEGO NORTE', 'URBANIZACION TIBABUYES UNIVERSAL',\n",
       "       'EL TINTAL A.S.D.', 'URBANIZACION TINTALA', 'EL VERVENAL',\n",
       "       'GUIPARMA', 'PREDIO CALDAS', 'MARGARITAS OCCIDENTAL',\n",
       "       'MARRUECOS II SECTOR', 'EL RINCON SANTO', 'LAS GALIAS',\n",
       "       'URBANIZACION LA GRAN GRANADA', 'VILLA DEL NORTE III',\n",
       "       'BERTHA HERNANDEZ DE OSPINA PER', 'RODESIA', 'BILBAO I SECTOR',\n",
       "       'OSORIO XII', 'SAN CIPRIANO', 'CAOBOS SALAZAR', 'VILLA RIOS',\n",
       "       'SUBA NARANJOS', 'SAN BERNARDINO', 'ESTRELLA DEL NORTE',\n",
       "       'POTRERILLOS', 'JOSE MARIA CARBONELL', 'BOSCONIA',\n",
       "       'URBANIZACION CARVAJAL', 'TEJARES DEL NORTE', 'CEDRO NARVAEZ',\n",
       "       'BOGOTA PROTECHO II', 'SAN JOSE DEL PRADO',\n",
       "       'URBANIZACION SABANA DE TIBABUYES', 'EL RETAZO',\n",
       "       'URBANIZACION CIUDAD KENNEDY SU', 'URBANIZACION BOSQUES DE MEDINA',\n",
       "       'URBANIZACION EL DORADO', 'VILLA NOVA', 'TIERRA LINDA',\n",
       "       'URBANIZACION SANTA COLOMA', 'VILLAS DEL MEDITERRANEO',\n",
       "       'PRADO PINZON', 'MARANTA III SECTOR', 'PALOBLANCO', 'JULIO FLOREZ',\n",
       "       'LAS ACASIAS', 'SANTA ROSA', 'SAN JOSE DE BAVARIA',\n",
       "       'CIUDAD SALITRE OCCIDENTAL', 'AMERICAS SECTOR GALAN',\n",
       "       'CAMPIN OCCIDENTAL', 'AUTOPISTA MEDELLIN', 'SABANALARGA',\n",
       "       'AMERICAS OCCIDENTAL II', 'PRINCESA BOCHICA', 'TUNALITO',\n",
       "       'SUBA URBANO', 'FOLEDO', 'MOCHUELO NORTE',\n",
       "       'URBANIZACION CORDOBA NIZA', 'GINEBRA NORTE',\n",
       "       'MARGARITAS I SECTOR', 'BALCARES', 'URBANIZACION AVENIDA DECIMA',\n",
       "       'NUEVA MARSELLA I', 'AMERICA OCCIDENTAL III', 'SAN GABRIEL NORTE',\n",
       "       'CERROS DE LOS ALPES', 'URBANIZACION ALEJANDRO',\n",
       "       'CHAPINERO SUR OCCIDENTAL', 'CANODROMO', 'RINCON DEL CEDRO',\n",
       "       'GARCES NAVAS ORIENTAL', 'URBANIZACION CIUDADELA COLSUBSIDIO',\n",
       "       'ALTOS DE CHOZICA', 'PARDO RUBIO', 'CERROS DE SANTA BARBARA',\n",
       "       'A.J. SUCRE I', 'NUEVO CONTRY', 'EL RECREO DE LOS FRAILES',\n",
       "       'VIVEROS', 'CAJICA', 'PRADOS DEL SALITRE', 'ONCE DE NOVIEMBRE',\n",
       "       'BABARIA TECHO III', 'LA ACANADA', 'CANDELARIA LA NUEVA II SECTOR',\n",
       "       'BOSQUES DEL MARQUEZ', 'FLORIDA BLANCA NORTE', 'LA MERCED NORTE',\n",
       "       'BOSQUES DE PINO', 'LA SURENA', 'URBANIZACION TECHO BAVARIA',\n",
       "       'NUEVA MARSELLA III', 'URBANIZACION TURINGIA',\n",
       "       'LA ESPERANZA NORTE', 'LA CAMPIÑA I SECTOR',\n",
       "       'CIUDAD SALITRE NOR-ORIENTAL', 'PARQUE RESIDENCIA NUEVO SUBA',\n",
       "       'CEDRO MADEIRAS', 'PAULO VI NORTE', 'SAN FERNANDO OCCIDENTAL',\n",
       "       'SAN CRISTOBAL SUR', 'CONJUNTO RESIDENCIAL EL BOSQUE',\n",
       "       'EL CONDADO DE LA PAZ', 'BOSQUE CALDERON TEJADA',\n",
       "       'AUTOPISTA MUZU 0RIENTAL', 'BOCHICA PRIMER SECTOR',\n",
       "       'PRADOS DE LA CALLEJA', 'CASA BLANCA I', 'URBANIZACION BENGALA',\n",
       "       'URBANIZACION BOCHICA I', 'URBANIZACION BOCHICA III',\n",
       "       'BOSQUE DE PINOS I', 'VILLA MAYOR ORIENTAL',\n",
       "       'URBANIZACION CATALINA', 'MORABIA', 'SOCIEGO SUR',\n",
       "       'UNIDAD CARABELAS', 'URBANIZACION CIUDAD BACHUE II',\n",
       "       'URBANIZACION CASTILLA LA NUEVA', 'PLAYAS DE JABOQUE',\n",
       "       'LAGO DE SUBA', 'LOS CIPRECES', 'URBANIZACION CASTILLA REAL',\n",
       "       'CINCO DE NOVIEMBRE', 'URBANIZACION SANTA CECILIA',\n",
       "       'SAN ANTONIO DE PADUA', 'AUTOPISTA DEL SUR', 'EL PAÑUELITO',\n",
       "       'LOS EJIDOS', 'RINCON DE SANTA PAULA', 'SOCIEGO',\n",
       "       'PARDO RUBIO NOROCCIDENTAL', 'RINCON DE MANDALAY', 'LUNAPARK',\n",
       "       'SUPER MANZANA', 'BOSQUE DE PINOS USAQUEN', 'BOSQUE DE PINOS III',\n",
       "       'CHAPINERO OCCIDENTAL', 'SAN JOSE DE USAQUEN', 'VILLA DEL MAR',\n",
       "       'VILLAS DEL MADRIGAL', 'HIPODROMO DE TECHO II', 'SUPER MANZANA 9B',\n",
       "       'RINCON DEL NORTE', 'URBANIZACION PARQUE METROPOLIT.',\n",
       "       'SAN JOSE DE LA GRANJA', 'ALMENDROS NORTE',\n",
       "       'GARCES NAVES OCCIDENTAL', 'CLUB DE LOS LAGARTOS',\n",
       "       'URBANIZACION SINAI', 'URBANIZACION TUNDAMA', 'BILBAO II SECTOR',\n",
       "       'CIUDAD VILLAMAYOR ANTIGUA', 'SAN MARTIN DE PORRES I Y II',\n",
       "       'COCADAS', 'VILLA TERESITA', 'POLICARPA SALAVARRETA'], dtype=object)"
      ]
     },
     "execution_count": 88,
     "metadata": {},
     "output_type": "execute_result"
    }
   ],
   "source": [
    "barrios_sin_upz = data['location'][code_data.isnull()].unique()\n",
    "barrios_sin_upz"
   ]
  },
  {
   "cell_type": "markdown",
   "metadata": {},
   "source": [
    "Hay 168 barrios sin upz."
   ]
  },
  {
   "cell_type": "markdown",
   "metadata": {},
   "source": [
    "Finalmente agrega esta serie a `data`."
   ]
  },
  {
   "cell_type": "code",
   "execution_count": 89,
   "metadata": {},
   "outputs": [
    {
     "name": "stdout",
     "output_type": "stream",
     "text": [
      "Cantidad de datos: 18378\n"
     ]
    },
    {
     "data": {
      "text/html": [
       "<div>\n",
       "<style scoped>\n",
       "    .dataframe tbody tr th:only-of-type {\n",
       "        vertical-align: middle;\n",
       "    }\n",
       "\n",
       "    .dataframe tbody tr th {\n",
       "        vertical-align: top;\n",
       "    }\n",
       "\n",
       "    .dataframe thead th {\n",
       "        text-align: right;\n",
       "    }\n",
       "</style>\n",
       "<table border=\"1\" class=\"dataframe\">\n",
       "  <thead>\n",
       "    <tr style=\"text-align: right;\">\n",
       "      <th></th>\n",
       "      <th>price</th>\n",
       "      <th>n_rooms</th>\n",
       "      <th>n_bath</th>\n",
       "      <th>surface</th>\n",
       "      <th>details</th>\n",
       "      <th>url</th>\n",
       "      <th>metrocuadrado_index</th>\n",
       "      <th>Furnished</th>\n",
       "      <th>location</th>\n",
       "      <th>property</th>\n",
       "      <th>rent</th>\n",
       "      <th>Precio m2</th>\n",
       "      <th>Garajes</th>\n",
       "      <th>tipo de producto</th>\n",
       "      <th>CodigoUPZ</th>\n",
       "    </tr>\n",
       "  </thead>\n",
       "  <tbody>\n",
       "    <tr>\n",
       "      <th>18375</th>\n",
       "      <td>3600000.0</td>\n",
       "      <td>2.0</td>\n",
       "      <td>3.0</td>\n",
       "      <td>110.0</td>\n",
       "      <td>Espectacular apartamento DUPLEX muy iluminado ...</td>\n",
       "      <td>https://www.metrocuadrado.com/inmueble/venta-a...</td>\n",
       "      <td>50.8</td>\n",
       "      <td>Si</td>\n",
       "      <td>CHICO NORTE</td>\n",
       "      <td>Apartamento</td>\n",
       "      <td>Venta Y Arriendo</td>\n",
       "      <td>32727.272727</td>\n",
       "      <td>2</td>\n",
       "      <td>8.0</td>\n",
       "      <td>UPZ97</td>\n",
       "    </tr>\n",
       "    <tr>\n",
       "      <th>18376</th>\n",
       "      <td>2525000.0</td>\n",
       "      <td>2.0</td>\n",
       "      <td>3.0</td>\n",
       "      <td>106.0</td>\n",
       "      <td>Hermoso apartamento de 106m2  2  añoS de const...</td>\n",
       "      <td>https://www.metrocuadrado.com/inmueble/arriend...</td>\n",
       "      <td>44.4</td>\n",
       "      <td>Si</td>\n",
       "      <td>MOLINOS NORTE</td>\n",
       "      <td>Apartamento</td>\n",
       "      <td>Arriendo</td>\n",
       "      <td>23820.754717</td>\n",
       "      <td>2</td>\n",
       "      <td>8.0</td>\n",
       "      <td>UPZ16</td>\n",
       "    </tr>\n",
       "    <tr>\n",
       "      <th>18377</th>\n",
       "      <td>4600000.0</td>\n",
       "      <td>2.0</td>\n",
       "      <td>2.0</td>\n",
       "      <td>135.0</td>\n",
       "      <td>PH amoblado totalmente dotado, con terraza, bi...</td>\n",
       "      <td>https://www.metrocuadrado.com/inmueble/arriend...</td>\n",
       "      <td>49.6</td>\n",
       "      <td>Si</td>\n",
       "      <td>EL NOGAL</td>\n",
       "      <td>Apartamento</td>\n",
       "      <td>Arriendo</td>\n",
       "      <td>34074.074074</td>\n",
       "      <td>1</td>\n",
       "      <td>12.0</td>\n",
       "      <td>UPZ88</td>\n",
       "    </tr>\n",
       "  </tbody>\n",
       "</table>\n",
       "</div>"
      ],
      "text/plain": [
       "           price  n_rooms  n_bath  surface  \\\n",
       "18375  3600000.0      2.0     3.0    110.0   \n",
       "18376  2525000.0      2.0     3.0    106.0   \n",
       "18377  4600000.0      2.0     2.0    135.0   \n",
       "\n",
       "                                                 details  \\\n",
       "18375  Espectacular apartamento DUPLEX muy iluminado ...   \n",
       "18376  Hermoso apartamento de 106m2  2  añoS de const...   \n",
       "18377  PH amoblado totalmente dotado, con terraza, bi...   \n",
       "\n",
       "                                                     url  metrocuadrado_index  \\\n",
       "18375  https://www.metrocuadrado.com/inmueble/venta-a...                 50.8   \n",
       "18376  https://www.metrocuadrado.com/inmueble/arriend...                 44.4   \n",
       "18377  https://www.metrocuadrado.com/inmueble/arriend...                 49.6   \n",
       "\n",
       "      Furnished       location     property              rent     Precio m2  \\\n",
       "18375        Si    CHICO NORTE  Apartamento  Venta Y Arriendo  32727.272727   \n",
       "18376        Si  MOLINOS NORTE  Apartamento          Arriendo  23820.754717   \n",
       "18377        Si       EL NOGAL  Apartamento          Arriendo  34074.074074   \n",
       "\n",
       "      Garajes  tipo de producto CodigoUPZ  \n",
       "18375       2               8.0     UPZ97  \n",
       "18376       2               8.0     UPZ16  \n",
       "18377       1              12.0     UPZ88  "
      ]
     },
     "execution_count": 89,
     "metadata": {},
     "output_type": "execute_result"
    }
   ],
   "source": [
    "data['CodigoUPZ'] = code_data\n",
    "print('Cantidad de datos:', len(data))\n",
    "data.tail(3)"
   ]
  },
  {
   "cell_type": "markdown",
   "metadata": {},
   "source": [
    "### Parte 6"
   ]
  },
  {
   "cell_type": "markdown",
   "metadata": {},
   "source": [
    "Se observan las estadisticas que se tienen."
   ]
  },
  {
   "cell_type": "code",
   "execution_count": 90,
   "metadata": {},
   "outputs": [],
   "source": [
    "copia_seguridad = data.copy()"
   ]
  },
  {
   "cell_type": "code",
   "execution_count": 91,
   "metadata": {},
   "outputs": [
    {
     "data": {
      "text/plain": [
       "['estadisticas_poblacion.csv',\n",
       " 'indice_inseguridad.csv',\n",
       " 'porcentaje_areas_verdes.csv',\n",
       " 'readme.md']"
      ]
     },
     "execution_count": 91,
     "metadata": {},
     "output_type": "execute_result"
    }
   ],
   "source": [
    "folder = 'data/estadisticas_upz/'\n",
    "stats_upz = os.listdir(folder)\n",
    "stats_upz"
   ]
  },
  {
   "cell_type": "code",
   "execution_count": 92,
   "metadata": {},
   "outputs": [
    {
     "data": {
      "text/html": [
       "<div>\n",
       "<style scoped>\n",
       "    .dataframe tbody tr th:only-of-type {\n",
       "        vertical-align: middle;\n",
       "    }\n",
       "\n",
       "    .dataframe tbody tr th {\n",
       "        vertical-align: top;\n",
       "    }\n",
       "\n",
       "    .dataframe thead th {\n",
       "        text-align: right;\n",
       "    }\n",
       "</style>\n",
       "<table border=\"1\" class=\"dataframe\">\n",
       "  <thead>\n",
       "    <tr style=\"text-align: right;\">\n",
       "      <th></th>\n",
       "      <th>Unnamed: 0</th>\n",
       "      <th>upz</th>\n",
       "      <th>nomupz</th>\n",
       "      <th>personas</th>\n",
       "      <th>trabajoinf_ninos_5_17_anos_perc</th>\n",
       "      <th>trabajoinfampliado_ninos_5_17_anos_perc</th>\n",
       "      <th>jovenes_14_24_anos_nini_perc</th>\n",
       "      <th>indice_envegecimiento</th>\n",
       "      <th>jefe_mujer_perc</th>\n",
       "      <th>adultos_mayores_pobres_perc</th>\n",
       "    </tr>\n",
       "  </thead>\n",
       "  <tbody>\n",
       "    <tr>\n",
       "      <th>0</th>\n",
       "      <td>0</td>\n",
       "      <td>UPZ11</td>\n",
       "      <td>SAN CRISTOBAL NORTE</td>\n",
       "      <td>68430</td>\n",
       "      <td>0.6</td>\n",
       "      <td>3.9</td>\n",
       "      <td>20.7</td>\n",
       "      <td>35.2</td>\n",
       "      <td>44.579934</td>\n",
       "      <td>17.931973</td>\n",
       "    </tr>\n",
       "    <tr>\n",
       "      <th>1</th>\n",
       "      <td>1</td>\n",
       "      <td>UPZ12</td>\n",
       "      <td>TOBERIN</td>\n",
       "      <td>50037</td>\n",
       "      <td>1.8</td>\n",
       "      <td>16.7</td>\n",
       "      <td>9.1</td>\n",
       "      <td>54.7</td>\n",
       "      <td>36.279630</td>\n",
       "      <td>5.420442</td>\n",
       "    </tr>\n",
       "    <tr>\n",
       "      <th>2</th>\n",
       "      <td>2</td>\n",
       "      <td>UPZ13</td>\n",
       "      <td>LOS CEDROS</td>\n",
       "      <td>102981</td>\n",
       "      <td>0.0</td>\n",
       "      <td>3.5</td>\n",
       "      <td>5.5</td>\n",
       "      <td>118.4</td>\n",
       "      <td>33.286852</td>\n",
       "      <td>3.250000</td>\n",
       "    </tr>\n",
       "  </tbody>\n",
       "</table>\n",
       "</div>"
      ],
      "text/plain": [
       "   Unnamed: 0    upz               nomupz  personas  \\\n",
       "0           0  UPZ11  SAN CRISTOBAL NORTE     68430   \n",
       "1           1  UPZ12              TOBERIN     50037   \n",
       "2           2  UPZ13           LOS CEDROS    102981   \n",
       "\n",
       "   trabajoinf_ninos_5_17_anos_perc  trabajoinfampliado_ninos_5_17_anos_perc  \\\n",
       "0                              0.6                                      3.9   \n",
       "1                              1.8                                     16.7   \n",
       "2                              0.0                                      3.5   \n",
       "\n",
       "   jovenes_14_24_anos_nini_perc  indice_envegecimiento  jefe_mujer_perc  \\\n",
       "0                          20.7                   35.2        44.579934   \n",
       "1                           9.1                   54.7        36.279630   \n",
       "2                           5.5                  118.4        33.286852   \n",
       "\n",
       "   adultos_mayores_pobres_perc  \n",
       "0                    17.931973  \n",
       "1                     5.420442  \n",
       "2                     3.250000  "
      ]
     },
     "execution_count": 92,
     "metadata": {},
     "output_type": "execute_result"
    }
   ],
   "source": [
    "stats_pob = pd.read_csv(folder + 'estadisticas_poblacion.csv')\n",
    "stats_pob.head(3)"
   ]
  },
  {
   "cell_type": "code",
   "execution_count": 93,
   "metadata": {},
   "outputs": [
    {
     "data": {
      "text/html": [
       "<div>\n",
       "<style scoped>\n",
       "    .dataframe tbody tr th:only-of-type {\n",
       "        vertical-align: middle;\n",
       "    }\n",
       "\n",
       "    .dataframe tbody tr th {\n",
       "        vertical-align: top;\n",
       "    }\n",
       "\n",
       "    .dataframe thead th {\n",
       "        text-align: right;\n",
       "    }\n",
       "</style>\n",
       "<table border=\"1\" class=\"dataframe\">\n",
       "  <thead>\n",
       "    <tr style=\"text-align: right;\">\n",
       "      <th></th>\n",
       "      <th>Unnamed: 0</th>\n",
       "      <th>UPlCodigo</th>\n",
       "      <th>UPlNombre2</th>\n",
       "      <th>indice_inseguridad</th>\n",
       "    </tr>\n",
       "  </thead>\n",
       "  <tbody>\n",
       "    <tr>\n",
       "      <th>0</th>\n",
       "      <td>0</td>\n",
       "      <td>UPZ100</td>\n",
       "      <td>GALERIAS</td>\n",
       "      <td>0.671141</td>\n",
       "    </tr>\n",
       "    <tr>\n",
       "      <th>1</th>\n",
       "      <td>1</td>\n",
       "      <td>UPZ83</td>\n",
       "      <td>LAS MARGARITAS</td>\n",
       "      <td>0.000000</td>\n",
       "    </tr>\n",
       "    <tr>\n",
       "      <th>2</th>\n",
       "      <td>2</td>\n",
       "      <td>UPZ107</td>\n",
       "      <td>QUINTA PAREDES</td>\n",
       "      <td>2.318841</td>\n",
       "    </tr>\n",
       "  </tbody>\n",
       "</table>\n",
       "</div>"
      ],
      "text/plain": [
       "   Unnamed: 0 UPlCodigo      UPlNombre2  indice_inseguridad\n",
       "0           0    UPZ100        GALERIAS            0.671141\n",
       "1           1     UPZ83  LAS MARGARITAS            0.000000\n",
       "2           2    UPZ107  QUINTA PAREDES            2.318841"
      ]
     },
     "execution_count": 93,
     "metadata": {},
     "output_type": "execute_result"
    }
   ],
   "source": [
    "i_seguridad = pd.read_csv(folder + 'indice_inseguridad.csv')\n",
    "i_seguridad.head(3)"
   ]
  },
  {
   "cell_type": "code",
   "execution_count": 94,
   "metadata": {},
   "outputs": [
    {
     "data": {
      "text/html": [
       "<div>\n",
       "<style scoped>\n",
       "    .dataframe tbody tr th:only-of-type {\n",
       "        vertical-align: middle;\n",
       "    }\n",
       "\n",
       "    .dataframe tbody tr th {\n",
       "        vertical-align: top;\n",
       "    }\n",
       "\n",
       "    .dataframe thead th {\n",
       "        text-align: right;\n",
       "    }\n",
       "</style>\n",
       "<table border=\"1\" class=\"dataframe\">\n",
       "  <thead>\n",
       "    <tr style=\"text-align: right;\">\n",
       "      <th></th>\n",
       "      <th>Unnamed: 0</th>\n",
       "      <th>cod_upz</th>\n",
       "      <th>upz</th>\n",
       "      <th>areas_verdes_perc</th>\n",
       "    </tr>\n",
       "  </thead>\n",
       "  <tbody>\n",
       "    <tr>\n",
       "      <th>0</th>\n",
       "      <td>0</td>\n",
       "      <td>51.0</td>\n",
       "      <td>Los Libertadores</td>\n",
       "      <td>58.196667</td>\n",
       "    </tr>\n",
       "    <tr>\n",
       "      <th>1</th>\n",
       "      <td>1</td>\n",
       "      <td>87.0</td>\n",
       "      <td>Tintal Sur</td>\n",
       "      <td>85.924848</td>\n",
       "    </tr>\n",
       "    <tr>\n",
       "      <th>2</th>\n",
       "      <td>2</td>\n",
       "      <td>1.0</td>\n",
       "      <td>Paseo de los Libertadores</td>\n",
       "      <td>83.966495</td>\n",
       "    </tr>\n",
       "  </tbody>\n",
       "</table>\n",
       "</div>"
      ],
      "text/plain": [
       "   Unnamed: 0  cod_upz                        upz  areas_verdes_perc\n",
       "0           0     51.0           Los Libertadores          58.196667\n",
       "1           1     87.0                 Tintal Sur          85.924848\n",
       "2           2      1.0  Paseo de los Libertadores          83.966495"
      ]
     },
     "execution_count": 94,
     "metadata": {},
     "output_type": "execute_result"
    }
   ],
   "source": [
    "areas_verdes = pd.read_csv(folder + 'porcentaje_areas_verdes.csv')\n",
    "areas_verdes.head(3)"
   ]
  },
  {
   "cell_type": "markdown",
   "metadata": {},
   "source": [
    "Se observa que los 3 dataframes contienen información sobre las localidades de acuerdo a su código UPZ. Por lo tanto se agregarán a la data en función de su código."
   ]
  },
  {
   "cell_type": "markdown",
   "metadata": {},
   "source": [
    "Primero se añade `stats_pob`.\n",
    "\n",
    "A `stats_pob` se le debe eliminar la columna `Unnamed: 0` antes de agregarlo."
   ]
  },
  {
   "cell_type": "code",
   "execution_count": 95,
   "metadata": {},
   "outputs": [],
   "source": [
    "stats_pob.drop('Unnamed: 0', axis=1, inplace=True)"
   ]
  },
  {
   "cell_type": "markdown",
   "metadata": {},
   "source": [
    "Se hace un merge entre la columna `CodigoUPZ` de `data`, y la columna `upz` de `stats_pob`."
   ]
  },
  {
   "cell_type": "code",
   "execution_count": 96,
   "metadata": {},
   "outputs": [
    {
     "name": "stdout",
     "output_type": "stream",
     "text": [
      "Cantidad de datos: 18378\n"
     ]
    },
    {
     "data": {
      "text/html": [
       "<div>\n",
       "<style scoped>\n",
       "    .dataframe tbody tr th:only-of-type {\n",
       "        vertical-align: middle;\n",
       "    }\n",
       "\n",
       "    .dataframe tbody tr th {\n",
       "        vertical-align: top;\n",
       "    }\n",
       "\n",
       "    .dataframe thead th {\n",
       "        text-align: right;\n",
       "    }\n",
       "</style>\n",
       "<table border=\"1\" class=\"dataframe\">\n",
       "  <thead>\n",
       "    <tr style=\"text-align: right;\">\n",
       "      <th></th>\n",
       "      <th>price</th>\n",
       "      <th>n_rooms</th>\n",
       "      <th>n_bath</th>\n",
       "      <th>surface</th>\n",
       "      <th>details</th>\n",
       "      <th>url</th>\n",
       "      <th>metrocuadrado_index</th>\n",
       "      <th>Furnished</th>\n",
       "      <th>location</th>\n",
       "      <th>property</th>\n",
       "      <th>...</th>\n",
       "      <th>CodigoUPZ</th>\n",
       "      <th>upz</th>\n",
       "      <th>nomupz</th>\n",
       "      <th>personas</th>\n",
       "      <th>trabajoinf_ninos_5_17_anos_perc</th>\n",
       "      <th>trabajoinfampliado_ninos_5_17_anos_perc</th>\n",
       "      <th>jovenes_14_24_anos_nini_perc</th>\n",
       "      <th>indice_envegecimiento</th>\n",
       "      <th>jefe_mujer_perc</th>\n",
       "      <th>adultos_mayores_pobres_perc</th>\n",
       "    </tr>\n",
       "  </thead>\n",
       "  <tbody>\n",
       "    <tr>\n",
       "      <th>0</th>\n",
       "      <td>1050000.0</td>\n",
       "      <td>3.0</td>\n",
       "      <td>2.0</td>\n",
       "      <td>63.0</td>\n",
       "      <td>Excelente casa cerca de la calle 80 y Avenida ...</td>\n",
       "      <td>https://www.metrocuadrado.com/inmueble/arriend...</td>\n",
       "      <td>25.6</td>\n",
       "      <td>No</td>\n",
       "      <td>LA SOLEDAD NORTE</td>\n",
       "      <td>Casa</td>\n",
       "      <td>...</td>\n",
       "      <td>NaN</td>\n",
       "      <td>NaN</td>\n",
       "      <td>NaN</td>\n",
       "      <td>NaN</td>\n",
       "      <td>NaN</td>\n",
       "      <td>NaN</td>\n",
       "      <td>NaN</td>\n",
       "      <td>NaN</td>\n",
       "      <td>NaN</td>\n",
       "      <td>NaN</td>\n",
       "    </tr>\n",
       "    <tr>\n",
       "      <th>1</th>\n",
       "      <td>3930000.0</td>\n",
       "      <td>3.0</td>\n",
       "      <td>2.0</td>\n",
       "      <td>100.0</td>\n",
       "      <td>Se arrienda casa bonita totalmente amoblada co...</td>\n",
       "      <td>https://www.metrocuadrado.com/inmueble/arriend...</td>\n",
       "      <td>57.3</td>\n",
       "      <td>No</td>\n",
       "      <td>CIUDAD SALITRE SUR-ORIENTAL</td>\n",
       "      <td>Casa</td>\n",
       "      <td>...</td>\n",
       "      <td>NaN</td>\n",
       "      <td>NaN</td>\n",
       "      <td>NaN</td>\n",
       "      <td>NaN</td>\n",
       "      <td>NaN</td>\n",
       "      <td>NaN</td>\n",
       "      <td>NaN</td>\n",
       "      <td>NaN</td>\n",
       "      <td>NaN</td>\n",
       "      <td>NaN</td>\n",
       "    </tr>\n",
       "    <tr>\n",
       "      <th>2</th>\n",
       "      <td>750000.0</td>\n",
       "      <td>3.0</td>\n",
       "      <td>1.0</td>\n",
       "      <td>90.0</td>\n",
       "      <td>CASA DE TRES NIVELES TRES ALCOBAS SALA COMEDOR...</td>\n",
       "      <td>https://www.metrocuadrado.com/inmueble/arriend...</td>\n",
       "      <td>12.2</td>\n",
       "      <td>No</td>\n",
       "      <td>VILLA DE LOS ALPES II SECTOR</td>\n",
       "      <td>Casa</td>\n",
       "      <td>...</td>\n",
       "      <td>NaN</td>\n",
       "      <td>NaN</td>\n",
       "      <td>NaN</td>\n",
       "      <td>NaN</td>\n",
       "      <td>NaN</td>\n",
       "      <td>NaN</td>\n",
       "      <td>NaN</td>\n",
       "      <td>NaN</td>\n",
       "      <td>NaN</td>\n",
       "      <td>NaN</td>\n",
       "    </tr>\n",
       "    <tr>\n",
       "      <th>3</th>\n",
       "      <td>3400000.0</td>\n",
       "      <td>5.0</td>\n",
       "      <td>4.0</td>\n",
       "      <td>71.0</td>\n",
       "      <td>casa ezquinera excelente ubicacion cinco alcob...</td>\n",
       "      <td>https://www.metrocuadrado.com/inmueble/arriend...</td>\n",
       "      <td>56.0</td>\n",
       "      <td>No</td>\n",
       "      <td>PARIS GAITAN</td>\n",
       "      <td>Casa</td>\n",
       "      <td>...</td>\n",
       "      <td>UPZ29</td>\n",
       "      <td>UPZ29</td>\n",
       "      <td>MINUTO DE DIOS</td>\n",
       "      <td>156375.0</td>\n",
       "      <td>1.1</td>\n",
       "      <td>0.8</td>\n",
       "      <td>12.6</td>\n",
       "      <td>71.1</td>\n",
       "      <td>37.073314</td>\n",
       "      <td>8.406360</td>\n",
       "    </tr>\n",
       "    <tr>\n",
       "      <th>4</th>\n",
       "      <td>1560000.0</td>\n",
       "      <td>4.0</td>\n",
       "      <td>3.0</td>\n",
       "      <td>96.0</td>\n",
       "      <td>Excelente casa de tres niveles, buena ubicació...</td>\n",
       "      <td>https://www.metrocuadrado.com/inmueble/arriend...</td>\n",
       "      <td>47.1</td>\n",
       "      <td>No</td>\n",
       "      <td>BALCONES DE ORIENTE</td>\n",
       "      <td>Casa</td>\n",
       "      <td>...</td>\n",
       "      <td>UPZ12</td>\n",
       "      <td>UPZ12</td>\n",
       "      <td>TOBERIN</td>\n",
       "      <td>50037.0</td>\n",
       "      <td>1.8</td>\n",
       "      <td>16.7</td>\n",
       "      <td>9.1</td>\n",
       "      <td>54.7</td>\n",
       "      <td>36.279630</td>\n",
       "      <td>5.420442</td>\n",
       "    </tr>\n",
       "  </tbody>\n",
       "</table>\n",
       "<p>5 rows × 24 columns</p>\n",
       "</div>"
      ],
      "text/plain": [
       "       price  n_rooms  n_bath  surface  \\\n",
       "0  1050000.0      3.0     2.0     63.0   \n",
       "1  3930000.0      3.0     2.0    100.0   \n",
       "2   750000.0      3.0     1.0     90.0   \n",
       "3  3400000.0      5.0     4.0     71.0   \n",
       "4  1560000.0      4.0     3.0     96.0   \n",
       "\n",
       "                                             details  \\\n",
       "0  Excelente casa cerca de la calle 80 y Avenida ...   \n",
       "1  Se arrienda casa bonita totalmente amoblada co...   \n",
       "2  CASA DE TRES NIVELES TRES ALCOBAS SALA COMEDOR...   \n",
       "3  casa ezquinera excelente ubicacion cinco alcob...   \n",
       "4  Excelente casa de tres niveles, buena ubicació...   \n",
       "\n",
       "                                                 url  metrocuadrado_index  \\\n",
       "0  https://www.metrocuadrado.com/inmueble/arriend...                 25.6   \n",
       "1  https://www.metrocuadrado.com/inmueble/arriend...                 57.3   \n",
       "2  https://www.metrocuadrado.com/inmueble/arriend...                 12.2   \n",
       "3  https://www.metrocuadrado.com/inmueble/arriend...                 56.0   \n",
       "4  https://www.metrocuadrado.com/inmueble/arriend...                 47.1   \n",
       "\n",
       "  Furnished                      location property  ... CodigoUPZ    upz  \\\n",
       "0        No              LA SOLEDAD NORTE     Casa  ...       NaN    NaN   \n",
       "1        No   CIUDAD SALITRE SUR-ORIENTAL     Casa  ...       NaN    NaN   \n",
       "2        No  VILLA DE LOS ALPES II SECTOR     Casa  ...       NaN    NaN   \n",
       "3        No                  PARIS GAITAN     Casa  ...     UPZ29  UPZ29   \n",
       "4        No           BALCONES DE ORIENTE     Casa  ...     UPZ12  UPZ12   \n",
       "\n",
       "           nomupz  personas trabajoinf_ninos_5_17_anos_perc  \\\n",
       "0             NaN       NaN                             NaN   \n",
       "1             NaN       NaN                             NaN   \n",
       "2             NaN       NaN                             NaN   \n",
       "3  MINUTO DE DIOS  156375.0                             1.1   \n",
       "4         TOBERIN   50037.0                             1.8   \n",
       "\n",
       "  trabajoinfampliado_ninos_5_17_anos_perc jovenes_14_24_anos_nini_perc  \\\n",
       "0                                     NaN                          NaN   \n",
       "1                                     NaN                          NaN   \n",
       "2                                     NaN                          NaN   \n",
       "3                                     0.8                         12.6   \n",
       "4                                    16.7                          9.1   \n",
       "\n",
       "   indice_envegecimiento  jefe_mujer_perc  adultos_mayores_pobres_perc  \n",
       "0                    NaN              NaN                          NaN  \n",
       "1                    NaN              NaN                          NaN  \n",
       "2                    NaN              NaN                          NaN  \n",
       "3                   71.1        37.073314                     8.406360  \n",
       "4                   54.7        36.279630                     5.420442  \n",
       "\n",
       "[5 rows x 24 columns]"
      ]
     },
     "execution_count": 96,
     "metadata": {},
     "output_type": "execute_result"
    }
   ],
   "source": [
    "data = data.merge(stats_pob, left_on='CodigoUPZ', right_on='upz', how='left')\n",
    "print('Cantidad de datos:', len(data))\n",
    "data.head()"
   ]
  },
  {
   "cell_type": "code",
   "execution_count": 97,
   "metadata": {},
   "outputs": [],
   "source": [
    "#Se elimina la columna upz porque esta repetida\n",
    "data.drop('upz', axis=1, inplace=True)\n",
    "\n",
    "#y la columna nomupz, porque contiene el nombre del codigo upz\n",
    "data.drop('nomupz', axis=1, inplace=True)"
   ]
  },
  {
   "cell_type": "markdown",
   "metadata": {},
   "source": [
    "Se añade `i_seguridad`."
   ]
  },
  {
   "cell_type": "code",
   "execution_count": 98,
   "metadata": {},
   "outputs": [],
   "source": [
    "#Al igual que antes se elimina la columna `Unnamed: 0` antes de agregarlo.\n",
    "i_seguridad.drop('Unnamed: 0', axis=1, inplace=True)"
   ]
  },
  {
   "cell_type": "markdown",
   "metadata": {},
   "source": [
    "Se hace un merge entre la columna `CodigoUPZ` de `data`, y la columna `UPlCodigo` de `i_seguridad`."
   ]
  },
  {
   "cell_type": "code",
   "execution_count": 99,
   "metadata": {},
   "outputs": [
    {
     "name": "stdout",
     "output_type": "stream",
     "text": [
      "Cantidad de datos: 18380\n"
     ]
    },
    {
     "data": {
      "text/html": [
       "<div>\n",
       "<style scoped>\n",
       "    .dataframe tbody tr th:only-of-type {\n",
       "        vertical-align: middle;\n",
       "    }\n",
       "\n",
       "    .dataframe tbody tr th {\n",
       "        vertical-align: top;\n",
       "    }\n",
       "\n",
       "    .dataframe thead th {\n",
       "        text-align: right;\n",
       "    }\n",
       "</style>\n",
       "<table border=\"1\" class=\"dataframe\">\n",
       "  <thead>\n",
       "    <tr style=\"text-align: right;\">\n",
       "      <th></th>\n",
       "      <th>price</th>\n",
       "      <th>n_rooms</th>\n",
       "      <th>n_bath</th>\n",
       "      <th>surface</th>\n",
       "      <th>details</th>\n",
       "      <th>url</th>\n",
       "      <th>metrocuadrado_index</th>\n",
       "      <th>Furnished</th>\n",
       "      <th>location</th>\n",
       "      <th>property</th>\n",
       "      <th>...</th>\n",
       "      <th>personas</th>\n",
       "      <th>trabajoinf_ninos_5_17_anos_perc</th>\n",
       "      <th>trabajoinfampliado_ninos_5_17_anos_perc</th>\n",
       "      <th>jovenes_14_24_anos_nini_perc</th>\n",
       "      <th>indice_envegecimiento</th>\n",
       "      <th>jefe_mujer_perc</th>\n",
       "      <th>adultos_mayores_pobres_perc</th>\n",
       "      <th>UPlCodigo</th>\n",
       "      <th>UPlNombre2</th>\n",
       "      <th>indice_inseguridad</th>\n",
       "    </tr>\n",
       "  </thead>\n",
       "  <tbody>\n",
       "    <tr>\n",
       "      <th>0</th>\n",
       "      <td>1050000.0</td>\n",
       "      <td>3.0</td>\n",
       "      <td>2.0</td>\n",
       "      <td>63.0</td>\n",
       "      <td>Excelente casa cerca de la calle 80 y Avenida ...</td>\n",
       "      <td>https://www.metrocuadrado.com/inmueble/arriend...</td>\n",
       "      <td>25.6</td>\n",
       "      <td>No</td>\n",
       "      <td>LA SOLEDAD NORTE</td>\n",
       "      <td>Casa</td>\n",
       "      <td>...</td>\n",
       "      <td>NaN</td>\n",
       "      <td>NaN</td>\n",
       "      <td>NaN</td>\n",
       "      <td>NaN</td>\n",
       "      <td>NaN</td>\n",
       "      <td>NaN</td>\n",
       "      <td>NaN</td>\n",
       "      <td>NaN</td>\n",
       "      <td>NaN</td>\n",
       "      <td>NaN</td>\n",
       "    </tr>\n",
       "    <tr>\n",
       "      <th>1</th>\n",
       "      <td>3930000.0</td>\n",
       "      <td>3.0</td>\n",
       "      <td>2.0</td>\n",
       "      <td>100.0</td>\n",
       "      <td>Se arrienda casa bonita totalmente amoblada co...</td>\n",
       "      <td>https://www.metrocuadrado.com/inmueble/arriend...</td>\n",
       "      <td>57.3</td>\n",
       "      <td>No</td>\n",
       "      <td>CIUDAD SALITRE SUR-ORIENTAL</td>\n",
       "      <td>Casa</td>\n",
       "      <td>...</td>\n",
       "      <td>NaN</td>\n",
       "      <td>NaN</td>\n",
       "      <td>NaN</td>\n",
       "      <td>NaN</td>\n",
       "      <td>NaN</td>\n",
       "      <td>NaN</td>\n",
       "      <td>NaN</td>\n",
       "      <td>NaN</td>\n",
       "      <td>NaN</td>\n",
       "      <td>NaN</td>\n",
       "    </tr>\n",
       "    <tr>\n",
       "      <th>2</th>\n",
       "      <td>750000.0</td>\n",
       "      <td>3.0</td>\n",
       "      <td>1.0</td>\n",
       "      <td>90.0</td>\n",
       "      <td>CASA DE TRES NIVELES TRES ALCOBAS SALA COMEDOR...</td>\n",
       "      <td>https://www.metrocuadrado.com/inmueble/arriend...</td>\n",
       "      <td>12.2</td>\n",
       "      <td>No</td>\n",
       "      <td>VILLA DE LOS ALPES II SECTOR</td>\n",
       "      <td>Casa</td>\n",
       "      <td>...</td>\n",
       "      <td>NaN</td>\n",
       "      <td>NaN</td>\n",
       "      <td>NaN</td>\n",
       "      <td>NaN</td>\n",
       "      <td>NaN</td>\n",
       "      <td>NaN</td>\n",
       "      <td>NaN</td>\n",
       "      <td>NaN</td>\n",
       "      <td>NaN</td>\n",
       "      <td>NaN</td>\n",
       "    </tr>\n",
       "    <tr>\n",
       "      <th>3</th>\n",
       "      <td>3400000.0</td>\n",
       "      <td>5.0</td>\n",
       "      <td>4.0</td>\n",
       "      <td>71.0</td>\n",
       "      <td>casa ezquinera excelente ubicacion cinco alcob...</td>\n",
       "      <td>https://www.metrocuadrado.com/inmueble/arriend...</td>\n",
       "      <td>56.0</td>\n",
       "      <td>No</td>\n",
       "      <td>PARIS GAITAN</td>\n",
       "      <td>Casa</td>\n",
       "      <td>...</td>\n",
       "      <td>156375.0</td>\n",
       "      <td>1.1</td>\n",
       "      <td>0.8</td>\n",
       "      <td>12.6</td>\n",
       "      <td>71.1</td>\n",
       "      <td>37.073314</td>\n",
       "      <td>8.406360</td>\n",
       "      <td>UPZ29</td>\n",
       "      <td>MINUTO DE DIOS</td>\n",
       "      <td>1.029160</td>\n",
       "    </tr>\n",
       "    <tr>\n",
       "      <th>4</th>\n",
       "      <td>1560000.0</td>\n",
       "      <td>4.0</td>\n",
       "      <td>3.0</td>\n",
       "      <td>96.0</td>\n",
       "      <td>Excelente casa de tres niveles, buena ubicació...</td>\n",
       "      <td>https://www.metrocuadrado.com/inmueble/arriend...</td>\n",
       "      <td>47.1</td>\n",
       "      <td>No</td>\n",
       "      <td>BALCONES DE ORIENTE</td>\n",
       "      <td>Casa</td>\n",
       "      <td>...</td>\n",
       "      <td>50037.0</td>\n",
       "      <td>1.8</td>\n",
       "      <td>16.7</td>\n",
       "      <td>9.1</td>\n",
       "      <td>54.7</td>\n",
       "      <td>36.279630</td>\n",
       "      <td>5.420442</td>\n",
       "      <td>UPZ12</td>\n",
       "      <td>TOBERIN</td>\n",
       "      <td>3.166227</td>\n",
       "    </tr>\n",
       "  </tbody>\n",
       "</table>\n",
       "<p>5 rows × 25 columns</p>\n",
       "</div>"
      ],
      "text/plain": [
       "       price  n_rooms  n_bath  surface  \\\n",
       "0  1050000.0      3.0     2.0     63.0   \n",
       "1  3930000.0      3.0     2.0    100.0   \n",
       "2   750000.0      3.0     1.0     90.0   \n",
       "3  3400000.0      5.0     4.0     71.0   \n",
       "4  1560000.0      4.0     3.0     96.0   \n",
       "\n",
       "                                             details  \\\n",
       "0  Excelente casa cerca de la calle 80 y Avenida ...   \n",
       "1  Se arrienda casa bonita totalmente amoblada co...   \n",
       "2  CASA DE TRES NIVELES TRES ALCOBAS SALA COMEDOR...   \n",
       "3  casa ezquinera excelente ubicacion cinco alcob...   \n",
       "4  Excelente casa de tres niveles, buena ubicació...   \n",
       "\n",
       "                                                 url  metrocuadrado_index  \\\n",
       "0  https://www.metrocuadrado.com/inmueble/arriend...                 25.6   \n",
       "1  https://www.metrocuadrado.com/inmueble/arriend...                 57.3   \n",
       "2  https://www.metrocuadrado.com/inmueble/arriend...                 12.2   \n",
       "3  https://www.metrocuadrado.com/inmueble/arriend...                 56.0   \n",
       "4  https://www.metrocuadrado.com/inmueble/arriend...                 47.1   \n",
       "\n",
       "  Furnished                      location property  ...  personas  \\\n",
       "0        No              LA SOLEDAD NORTE     Casa  ...       NaN   \n",
       "1        No   CIUDAD SALITRE SUR-ORIENTAL     Casa  ...       NaN   \n",
       "2        No  VILLA DE LOS ALPES II SECTOR     Casa  ...       NaN   \n",
       "3        No                  PARIS GAITAN     Casa  ...  156375.0   \n",
       "4        No           BALCONES DE ORIENTE     Casa  ...   50037.0   \n",
       "\n",
       "   trabajoinf_ninos_5_17_anos_perc trabajoinfampliado_ninos_5_17_anos_perc  \\\n",
       "0                              NaN                                     NaN   \n",
       "1                              NaN                                     NaN   \n",
       "2                              NaN                                     NaN   \n",
       "3                              1.1                                     0.8   \n",
       "4                              1.8                                    16.7   \n",
       "\n",
       "   jovenes_14_24_anos_nini_perc indice_envegecimiento  jefe_mujer_perc  \\\n",
       "0                           NaN                   NaN              NaN   \n",
       "1                           NaN                   NaN              NaN   \n",
       "2                           NaN                   NaN              NaN   \n",
       "3                          12.6                  71.1        37.073314   \n",
       "4                           9.1                  54.7        36.279630   \n",
       "\n",
       "   adultos_mayores_pobres_perc  UPlCodigo      UPlNombre2  indice_inseguridad  \n",
       "0                          NaN        NaN             NaN                 NaN  \n",
       "1                          NaN        NaN             NaN                 NaN  \n",
       "2                          NaN        NaN             NaN                 NaN  \n",
       "3                     8.406360      UPZ29  MINUTO DE DIOS            1.029160  \n",
       "4                     5.420442      UPZ12         TOBERIN            3.166227  \n",
       "\n",
       "[5 rows x 25 columns]"
      ]
     },
     "execution_count": 99,
     "metadata": {},
     "output_type": "execute_result"
    }
   ],
   "source": [
    "data = data.merge(i_seguridad, left_on='CodigoUPZ', right_on='UPlCodigo', how='left')\n",
    "print('Cantidad de datos:', len(data))\n",
    "data.head()"
   ]
  },
  {
   "cell_type": "markdown",
   "metadata": {},
   "source": [
    "Se observa también que aumentaron en 2 el total de datos, antes eran 18378 y ahora son 18380. Por lo que pueden haber duplicados."
   ]
  },
  {
   "cell_type": "code",
   "execution_count": 100,
   "metadata": {},
   "outputs": [
    {
     "data": {
      "text/html": [
       "<div>\n",
       "<style scoped>\n",
       "    .dataframe tbody tr th:only-of-type {\n",
       "        vertical-align: middle;\n",
       "    }\n",
       "\n",
       "    .dataframe tbody tr th {\n",
       "        vertical-align: top;\n",
       "    }\n",
       "\n",
       "    .dataframe thead th {\n",
       "        text-align: right;\n",
       "    }\n",
       "</style>\n",
       "<table border=\"1\" class=\"dataframe\">\n",
       "  <thead>\n",
       "    <tr style=\"text-align: right;\">\n",
       "      <th></th>\n",
       "      <th>price</th>\n",
       "      <th>n_rooms</th>\n",
       "      <th>n_bath</th>\n",
       "      <th>surface</th>\n",
       "      <th>details</th>\n",
       "      <th>url</th>\n",
       "      <th>metrocuadrado_index</th>\n",
       "      <th>Furnished</th>\n",
       "      <th>location</th>\n",
       "      <th>property</th>\n",
       "      <th>...</th>\n",
       "      <th>personas</th>\n",
       "      <th>trabajoinf_ninos_5_17_anos_perc</th>\n",
       "      <th>trabajoinfampliado_ninos_5_17_anos_perc</th>\n",
       "      <th>jovenes_14_24_anos_nini_perc</th>\n",
       "      <th>indice_envegecimiento</th>\n",
       "      <th>jefe_mujer_perc</th>\n",
       "      <th>adultos_mayores_pobres_perc</th>\n",
       "      <th>UPlCodigo</th>\n",
       "      <th>UPlNombre2</th>\n",
       "      <th>indice_inseguridad</th>\n",
       "    </tr>\n",
       "  </thead>\n",
       "  <tbody>\n",
       "    <tr>\n",
       "      <th>123</th>\n",
       "      <td>700000.0</td>\n",
       "      <td>2.0</td>\n",
       "      <td>1.0</td>\n",
       "      <td>70.0</td>\n",
       "      <td>Casa de dos pisos, 2 alcobas patio grande, dep...</td>\n",
       "      <td>https://www.metrocuadrado.com/inmueble/arriend...</td>\n",
       "      <td>33.9</td>\n",
       "      <td>No</td>\n",
       "      <td>VILLA MARIA</td>\n",
       "      <td>Casa</td>\n",
       "      <td>...</td>\n",
       "      <td>16030.0</td>\n",
       "      <td>1.3</td>\n",
       "      <td>5.0</td>\n",
       "      <td>33.6</td>\n",
       "      <td>16.2</td>\n",
       "      <td>39.020306</td>\n",
       "      <td>50.669819</td>\n",
       "      <td>UPZ52</td>\n",
       "      <td>LA FLORA</td>\n",
       "      <td>32.0</td>\n",
       "    </tr>\n",
       "    <tr>\n",
       "      <th>9510</th>\n",
       "      <td>680000.0</td>\n",
       "      <td>2.0</td>\n",
       "      <td>1.0</td>\n",
       "      <td>70.0</td>\n",
       "      <td>Se arrienda apartamento en suba, de dos habita...</td>\n",
       "      <td>https://www.metrocuadrado.com/inmueble/arriend...</td>\n",
       "      <td>17.5</td>\n",
       "      <td>No</td>\n",
       "      <td>VILLA MARIA</td>\n",
       "      <td>Apartamento</td>\n",
       "      <td>...</td>\n",
       "      <td>16030.0</td>\n",
       "      <td>1.3</td>\n",
       "      <td>5.0</td>\n",
       "      <td>33.6</td>\n",
       "      <td>16.2</td>\n",
       "      <td>39.020306</td>\n",
       "      <td>50.669819</td>\n",
       "      <td>UPZ52</td>\n",
       "      <td>LA FLORA</td>\n",
       "      <td>32.0</td>\n",
       "    </tr>\n",
       "  </tbody>\n",
       "</table>\n",
       "<p>2 rows × 25 columns</p>\n",
       "</div>"
      ],
      "text/plain": [
       "         price  n_rooms  n_bath  surface  \\\n",
       "123   700000.0      2.0     1.0     70.0   \n",
       "9510  680000.0      2.0     1.0     70.0   \n",
       "\n",
       "                                                details  \\\n",
       "123   Casa de dos pisos, 2 alcobas patio grande, dep...   \n",
       "9510  Se arrienda apartamento en suba, de dos habita...   \n",
       "\n",
       "                                                    url  metrocuadrado_index  \\\n",
       "123   https://www.metrocuadrado.com/inmueble/arriend...                 33.9   \n",
       "9510  https://www.metrocuadrado.com/inmueble/arriend...                 17.5   \n",
       "\n",
       "     Furnished     location     property  ... personas  \\\n",
       "123         No  VILLA MARIA         Casa  ...  16030.0   \n",
       "9510        No  VILLA MARIA  Apartamento  ...  16030.0   \n",
       "\n",
       "      trabajoinf_ninos_5_17_anos_perc trabajoinfampliado_ninos_5_17_anos_perc  \\\n",
       "123                               1.3                                     5.0   \n",
       "9510                              1.3                                     5.0   \n",
       "\n",
       "      jovenes_14_24_anos_nini_perc indice_envegecimiento  jefe_mujer_perc  \\\n",
       "123                           33.6                  16.2        39.020306   \n",
       "9510                          33.6                  16.2        39.020306   \n",
       "\n",
       "      adultos_mayores_pobres_perc  UPlCodigo  UPlNombre2  indice_inseguridad  \n",
       "123                     50.669819      UPZ52    LA FLORA                32.0  \n",
       "9510                    50.669819      UPZ52    LA FLORA                32.0  \n",
       "\n",
       "[2 rows x 25 columns]"
      ]
     },
     "execution_count": 100,
     "metadata": {},
     "output_type": "execute_result"
    }
   ],
   "source": [
    "data[data.duplicated()]"
   ]
  },
  {
   "cell_type": "code",
   "execution_count": 101,
   "metadata": {},
   "outputs": [],
   "source": [
    "#Efectivamente hay duplicados, los cuales se eliminan.\n",
    "data.drop_duplicates(inplace=True)"
   ]
  },
  {
   "cell_type": "code",
   "execution_count": 102,
   "metadata": {},
   "outputs": [],
   "source": [
    "#Se eliminan las columnas UPlCodigo y UPlNombre2\n",
    "data.drop(['UPlCodigo','UPlNombre2'], axis=1, inplace=True)"
   ]
  },
  {
   "cell_type": "markdown",
   "metadata": {},
   "source": [
    "Por último se agrega `areas_verdes`."
   ]
  },
  {
   "cell_type": "code",
   "execution_count": 103,
   "metadata": {},
   "outputs": [],
   "source": [
    "#Se elimina la columna Unnamed: 0\n",
    "areas_verdes.drop('Unnamed: 0', axis=1, inplace=True)"
   ]
  },
  {
   "cell_type": "code",
   "execution_count": 104,
   "metadata": {},
   "outputs": [
    {
     "data": {
      "text/html": [
       "<div>\n",
       "<style scoped>\n",
       "    .dataframe tbody tr th:only-of-type {\n",
       "        vertical-align: middle;\n",
       "    }\n",
       "\n",
       "    .dataframe tbody tr th {\n",
       "        vertical-align: top;\n",
       "    }\n",
       "\n",
       "    .dataframe thead th {\n",
       "        text-align: right;\n",
       "    }\n",
       "</style>\n",
       "<table border=\"1\" class=\"dataframe\">\n",
       "  <thead>\n",
       "    <tr style=\"text-align: right;\">\n",
       "      <th></th>\n",
       "      <th>cod_upz</th>\n",
       "      <th>upz</th>\n",
       "      <th>areas_verdes_perc</th>\n",
       "    </tr>\n",
       "  </thead>\n",
       "  <tbody>\n",
       "    <tr>\n",
       "      <th>0</th>\n",
       "      <td>51.0</td>\n",
       "      <td>Los Libertadores</td>\n",
       "      <td>58.196667</td>\n",
       "    </tr>\n",
       "    <tr>\n",
       "      <th>1</th>\n",
       "      <td>87.0</td>\n",
       "      <td>Tintal Sur</td>\n",
       "      <td>85.924848</td>\n",
       "    </tr>\n",
       "    <tr>\n",
       "      <th>2</th>\n",
       "      <td>1.0</td>\n",
       "      <td>Paseo de los Libertadores</td>\n",
       "      <td>83.966495</td>\n",
       "    </tr>\n",
       "  </tbody>\n",
       "</table>\n",
       "</div>"
      ],
      "text/plain": [
       "   cod_upz                        upz  areas_verdes_perc\n",
       "0     51.0           Los Libertadores          58.196667\n",
       "1     87.0                 Tintal Sur          85.924848\n",
       "2      1.0  Paseo de los Libertadores          83.966495"
      ]
     },
     "execution_count": 104,
     "metadata": {},
     "output_type": "execute_result"
    }
   ],
   "source": [
    "areas_verdes.head(3)"
   ]
  },
  {
   "cell_type": "markdown",
   "metadata": {},
   "source": [
    "Se puede ver que el codigo upz en `areas_verdes` esta en `float`, por lo que se debe cambiar a `str` y agregarles el prefijo `UPZ`."
   ]
  },
  {
   "cell_type": "code",
   "execution_count": 105,
   "metadata": {
    "scrolled": false
   },
   "outputs": [
    {
     "data": {
      "text/html": [
       "<div>\n",
       "<style scoped>\n",
       "    .dataframe tbody tr th:only-of-type {\n",
       "        vertical-align: middle;\n",
       "    }\n",
       "\n",
       "    .dataframe tbody tr th {\n",
       "        vertical-align: top;\n",
       "    }\n",
       "\n",
       "    .dataframe thead th {\n",
       "        text-align: right;\n",
       "    }\n",
       "</style>\n",
       "<table border=\"1\" class=\"dataframe\">\n",
       "  <thead>\n",
       "    <tr style=\"text-align: right;\">\n",
       "      <th></th>\n",
       "      <th>cod_upz</th>\n",
       "      <th>upz</th>\n",
       "      <th>areas_verdes_perc</th>\n",
       "    </tr>\n",
       "  </thead>\n",
       "  <tbody>\n",
       "    <tr>\n",
       "      <th>0</th>\n",
       "      <td>UPZ51</td>\n",
       "      <td>Los Libertadores</td>\n",
       "      <td>58.196667</td>\n",
       "    </tr>\n",
       "    <tr>\n",
       "      <th>1</th>\n",
       "      <td>UPZ87</td>\n",
       "      <td>Tintal Sur</td>\n",
       "      <td>85.924848</td>\n",
       "    </tr>\n",
       "    <tr>\n",
       "      <th>2</th>\n",
       "      <td>UPZ1</td>\n",
       "      <td>Paseo de los Libertadores</td>\n",
       "      <td>83.966495</td>\n",
       "    </tr>\n",
       "  </tbody>\n",
       "</table>\n",
       "</div>"
      ],
      "text/plain": [
       "  cod_upz                        upz  areas_verdes_perc\n",
       "0   UPZ51           Los Libertadores          58.196667\n",
       "1   UPZ87                 Tintal Sur          85.924848\n",
       "2    UPZ1  Paseo de los Libertadores          83.966495"
      ]
     },
     "execution_count": 105,
     "metadata": {},
     "output_type": "execute_result"
    }
   ],
   "source": [
    "#Se pasan a int primero para eliminar el punto decimal \n",
    "areas_verdes['cod_upz'] = areas_verdes['cod_upz'].astype('int').astype('str')\n",
    "\n",
    "#Se añade el prefijo UPZ\n",
    "areas_verdes['cod_upz'] = 'UPZ' + areas_verdes['cod_upz']\n",
    "areas_verdes.head(3)"
   ]
  },
  {
   "cell_type": "code",
   "execution_count": 106,
   "metadata": {
    "scrolled": false
   },
   "outputs": [
    {
     "name": "stdout",
     "output_type": "stream",
     "text": [
      "Cantidad de datos: 18378\n"
     ]
    },
    {
     "data": {
      "text/html": [
       "<div>\n",
       "<style scoped>\n",
       "    .dataframe tbody tr th:only-of-type {\n",
       "        vertical-align: middle;\n",
       "    }\n",
       "\n",
       "    .dataframe tbody tr th {\n",
       "        vertical-align: top;\n",
       "    }\n",
       "\n",
       "    .dataframe thead th {\n",
       "        text-align: right;\n",
       "    }\n",
       "</style>\n",
       "<table border=\"1\" class=\"dataframe\">\n",
       "  <thead>\n",
       "    <tr style=\"text-align: right;\">\n",
       "      <th></th>\n",
       "      <th>price</th>\n",
       "      <th>n_rooms</th>\n",
       "      <th>n_bath</th>\n",
       "      <th>surface</th>\n",
       "      <th>details</th>\n",
       "      <th>url</th>\n",
       "      <th>metrocuadrado_index</th>\n",
       "      <th>Furnished</th>\n",
       "      <th>location</th>\n",
       "      <th>property</th>\n",
       "      <th>...</th>\n",
       "      <th>trabajoinf_ninos_5_17_anos_perc</th>\n",
       "      <th>trabajoinfampliado_ninos_5_17_anos_perc</th>\n",
       "      <th>jovenes_14_24_anos_nini_perc</th>\n",
       "      <th>indice_envegecimiento</th>\n",
       "      <th>jefe_mujer_perc</th>\n",
       "      <th>adultos_mayores_pobres_perc</th>\n",
       "      <th>indice_inseguridad</th>\n",
       "      <th>cod_upz</th>\n",
       "      <th>upz</th>\n",
       "      <th>areas_verdes_perc</th>\n",
       "    </tr>\n",
       "  </thead>\n",
       "  <tbody>\n",
       "    <tr>\n",
       "      <th>0</th>\n",
       "      <td>1050000.0</td>\n",
       "      <td>3.0</td>\n",
       "      <td>2.0</td>\n",
       "      <td>63.0</td>\n",
       "      <td>Excelente casa cerca de la calle 80 y Avenida ...</td>\n",
       "      <td>https://www.metrocuadrado.com/inmueble/arriend...</td>\n",
       "      <td>25.6</td>\n",
       "      <td>No</td>\n",
       "      <td>LA SOLEDAD NORTE</td>\n",
       "      <td>Casa</td>\n",
       "      <td>...</td>\n",
       "      <td>NaN</td>\n",
       "      <td>NaN</td>\n",
       "      <td>NaN</td>\n",
       "      <td>NaN</td>\n",
       "      <td>NaN</td>\n",
       "      <td>NaN</td>\n",
       "      <td>NaN</td>\n",
       "      <td>NaN</td>\n",
       "      <td>NaN</td>\n",
       "      <td>NaN</td>\n",
       "    </tr>\n",
       "    <tr>\n",
       "      <th>1</th>\n",
       "      <td>3930000.0</td>\n",
       "      <td>3.0</td>\n",
       "      <td>2.0</td>\n",
       "      <td>100.0</td>\n",
       "      <td>Se arrienda casa bonita totalmente amoblada co...</td>\n",
       "      <td>https://www.metrocuadrado.com/inmueble/arriend...</td>\n",
       "      <td>57.3</td>\n",
       "      <td>No</td>\n",
       "      <td>CIUDAD SALITRE SUR-ORIENTAL</td>\n",
       "      <td>Casa</td>\n",
       "      <td>...</td>\n",
       "      <td>NaN</td>\n",
       "      <td>NaN</td>\n",
       "      <td>NaN</td>\n",
       "      <td>NaN</td>\n",
       "      <td>NaN</td>\n",
       "      <td>NaN</td>\n",
       "      <td>NaN</td>\n",
       "      <td>NaN</td>\n",
       "      <td>NaN</td>\n",
       "      <td>NaN</td>\n",
       "    </tr>\n",
       "    <tr>\n",
       "      <th>2</th>\n",
       "      <td>750000.0</td>\n",
       "      <td>3.0</td>\n",
       "      <td>1.0</td>\n",
       "      <td>90.0</td>\n",
       "      <td>CASA DE TRES NIVELES TRES ALCOBAS SALA COMEDOR...</td>\n",
       "      <td>https://www.metrocuadrado.com/inmueble/arriend...</td>\n",
       "      <td>12.2</td>\n",
       "      <td>No</td>\n",
       "      <td>VILLA DE LOS ALPES II SECTOR</td>\n",
       "      <td>Casa</td>\n",
       "      <td>...</td>\n",
       "      <td>NaN</td>\n",
       "      <td>NaN</td>\n",
       "      <td>NaN</td>\n",
       "      <td>NaN</td>\n",
       "      <td>NaN</td>\n",
       "      <td>NaN</td>\n",
       "      <td>NaN</td>\n",
       "      <td>NaN</td>\n",
       "      <td>NaN</td>\n",
       "      <td>NaN</td>\n",
       "    </tr>\n",
       "    <tr>\n",
       "      <th>3</th>\n",
       "      <td>3400000.0</td>\n",
       "      <td>5.0</td>\n",
       "      <td>4.0</td>\n",
       "      <td>71.0</td>\n",
       "      <td>casa ezquinera excelente ubicacion cinco alcob...</td>\n",
       "      <td>https://www.metrocuadrado.com/inmueble/arriend...</td>\n",
       "      <td>56.0</td>\n",
       "      <td>No</td>\n",
       "      <td>PARIS GAITAN</td>\n",
       "      <td>Casa</td>\n",
       "      <td>...</td>\n",
       "      <td>1.1</td>\n",
       "      <td>0.8</td>\n",
       "      <td>12.6</td>\n",
       "      <td>71.1</td>\n",
       "      <td>37.073314</td>\n",
       "      <td>8.406360</td>\n",
       "      <td>1.029160</td>\n",
       "      <td>UPZ29</td>\n",
       "      <td>Minuto de Dios</td>\n",
       "      <td>37.852289</td>\n",
       "    </tr>\n",
       "    <tr>\n",
       "      <th>4</th>\n",
       "      <td>1560000.0</td>\n",
       "      <td>4.0</td>\n",
       "      <td>3.0</td>\n",
       "      <td>96.0</td>\n",
       "      <td>Excelente casa de tres niveles, buena ubicació...</td>\n",
       "      <td>https://www.metrocuadrado.com/inmueble/arriend...</td>\n",
       "      <td>47.1</td>\n",
       "      <td>No</td>\n",
       "      <td>BALCONES DE ORIENTE</td>\n",
       "      <td>Casa</td>\n",
       "      <td>...</td>\n",
       "      <td>1.8</td>\n",
       "      <td>16.7</td>\n",
       "      <td>9.1</td>\n",
       "      <td>54.7</td>\n",
       "      <td>36.279630</td>\n",
       "      <td>5.420442</td>\n",
       "      <td>3.166227</td>\n",
       "      <td>UPZ12</td>\n",
       "      <td>Toberin</td>\n",
       "      <td>32.395663</td>\n",
       "    </tr>\n",
       "  </tbody>\n",
       "</table>\n",
       "<p>5 rows × 26 columns</p>\n",
       "</div>"
      ],
      "text/plain": [
       "       price  n_rooms  n_bath  surface  \\\n",
       "0  1050000.0      3.0     2.0     63.0   \n",
       "1  3930000.0      3.0     2.0    100.0   \n",
       "2   750000.0      3.0     1.0     90.0   \n",
       "3  3400000.0      5.0     4.0     71.0   \n",
       "4  1560000.0      4.0     3.0     96.0   \n",
       "\n",
       "                                             details  \\\n",
       "0  Excelente casa cerca de la calle 80 y Avenida ...   \n",
       "1  Se arrienda casa bonita totalmente amoblada co...   \n",
       "2  CASA DE TRES NIVELES TRES ALCOBAS SALA COMEDOR...   \n",
       "3  casa ezquinera excelente ubicacion cinco alcob...   \n",
       "4  Excelente casa de tres niveles, buena ubicació...   \n",
       "\n",
       "                                                 url  metrocuadrado_index  \\\n",
       "0  https://www.metrocuadrado.com/inmueble/arriend...                 25.6   \n",
       "1  https://www.metrocuadrado.com/inmueble/arriend...                 57.3   \n",
       "2  https://www.metrocuadrado.com/inmueble/arriend...                 12.2   \n",
       "3  https://www.metrocuadrado.com/inmueble/arriend...                 56.0   \n",
       "4  https://www.metrocuadrado.com/inmueble/arriend...                 47.1   \n",
       "\n",
       "  Furnished                      location property  ...  \\\n",
       "0        No              LA SOLEDAD NORTE     Casa  ...   \n",
       "1        No   CIUDAD SALITRE SUR-ORIENTAL     Casa  ...   \n",
       "2        No  VILLA DE LOS ALPES II SECTOR     Casa  ...   \n",
       "3        No                  PARIS GAITAN     Casa  ...   \n",
       "4        No           BALCONES DE ORIENTE     Casa  ...   \n",
       "\n",
       "  trabajoinf_ninos_5_17_anos_perc  trabajoinfampliado_ninos_5_17_anos_perc  \\\n",
       "0                             NaN                                      NaN   \n",
       "1                             NaN                                      NaN   \n",
       "2                             NaN                                      NaN   \n",
       "3                             1.1                                      0.8   \n",
       "4                             1.8                                     16.7   \n",
       "\n",
       "  jovenes_14_24_anos_nini_perc  indice_envegecimiento jefe_mujer_perc  \\\n",
       "0                          NaN                    NaN             NaN   \n",
       "1                          NaN                    NaN             NaN   \n",
       "2                          NaN                    NaN             NaN   \n",
       "3                         12.6                   71.1       37.073314   \n",
       "4                          9.1                   54.7       36.279630   \n",
       "\n",
       "   adultos_mayores_pobres_perc  indice_inseguridad  cod_upz             upz  \\\n",
       "0                          NaN                 NaN      NaN             NaN   \n",
       "1                          NaN                 NaN      NaN             NaN   \n",
       "2                          NaN                 NaN      NaN             NaN   \n",
       "3                     8.406360            1.029160    UPZ29  Minuto de Dios   \n",
       "4                     5.420442            3.166227    UPZ12         Toberin   \n",
       "\n",
       "   areas_verdes_perc  \n",
       "0                NaN  \n",
       "1                NaN  \n",
       "2                NaN  \n",
       "3          37.852289  \n",
       "4          32.395663  \n",
       "\n",
       "[5 rows x 26 columns]"
      ]
     },
     "execution_count": 106,
     "metadata": {},
     "output_type": "execute_result"
    }
   ],
   "source": [
    "data = data.merge(areas_verdes, left_on='CodigoUPZ', right_on='cod_upz', how='left')\n",
    "print('Cantidad de datos:', len(data))\n",
    "data.head()"
   ]
  },
  {
   "cell_type": "code",
   "execution_count": 107,
   "metadata": {},
   "outputs": [],
   "source": [
    "#Se eliminan las columnas cod_upz y upz\n",
    "data.drop(['cod_upz', 'upz'], axis=1, inplace=True)"
   ]
  },
  {
   "cell_type": "markdown",
   "metadata": {},
   "source": [
    "Por último se añade una columna con la densidad de población por UPZ"
   ]
  },
  {
   "cell_type": "markdown",
   "metadata": {},
   "source": [
    "Para calcular la densidad de población se necesita el área por UPZ. El área de cada upz se encuentra en el dataframe `barrio_df`, en la columna `UPlArea`."
   ]
  },
  {
   "cell_type": "code",
   "execution_count": 108,
   "metadata": {},
   "outputs": [
    {
     "data": {
      "text/html": [
       "<div>\n",
       "<style scoped>\n",
       "    .dataframe tbody tr th:only-of-type {\n",
       "        vertical-align: middle;\n",
       "    }\n",
       "\n",
       "    .dataframe tbody tr th {\n",
       "        vertical-align: top;\n",
       "    }\n",
       "\n",
       "    .dataframe thead th {\n",
       "        text-align: right;\n",
       "    }\n",
       "</style>\n",
       "<table border=\"1\" class=\"dataframe\">\n",
       "  <thead>\n",
       "    <tr style=\"text-align: right;\">\n",
       "      <th></th>\n",
       "      <th>UPlCodigo</th>\n",
       "      <th>UPlTipo</th>\n",
       "      <th>UPlNombre</th>\n",
       "      <th>UPlArea</th>\n",
       "      <th>pro_location</th>\n",
       "    </tr>\n",
       "  </thead>\n",
       "  <tbody>\n",
       "    <tr>\n",
       "      <th>0</th>\n",
       "      <td>UPZ100</td>\n",
       "      <td>1</td>\n",
       "      <td>GALERIAS</td>\n",
       "      <td>2.375681e+06</td>\n",
       "      <td>palermo</td>\n",
       "    </tr>\n",
       "    <tr>\n",
       "      <th>1</th>\n",
       "      <td>UPZ100</td>\n",
       "      <td>1</td>\n",
       "      <td>GALERIAS</td>\n",
       "      <td>2.375681e+06</td>\n",
       "      <td>belalcazar</td>\n",
       "    </tr>\n",
       "    <tr>\n",
       "      <th>2</th>\n",
       "      <td>UPZ100</td>\n",
       "      <td>1</td>\n",
       "      <td>GALERIAS</td>\n",
       "      <td>2.375681e+06</td>\n",
       "      <td>sears</td>\n",
       "    </tr>\n",
       "  </tbody>\n",
       "</table>\n",
       "</div>"
      ],
      "text/plain": [
       "  UPlCodigo  UPlTipo UPlNombre       UPlArea pro_location\n",
       "0    UPZ100        1  GALERIAS  2.375681e+06      palermo\n",
       "1    UPZ100        1  GALERIAS  2.375681e+06   belalcazar\n",
       "2    UPZ100        1  GALERIAS  2.375681e+06        sears"
      ]
     },
     "execution_count": 108,
     "metadata": {},
     "output_type": "execute_result"
    }
   ],
   "source": [
    "barrio_df.head(3)"
   ]
  },
  {
   "cell_type": "code",
   "execution_count": 109,
   "metadata": {},
   "outputs": [
    {
     "data": {
      "text/html": [
       "<div>\n",
       "<style scoped>\n",
       "    .dataframe tbody tr th:only-of-type {\n",
       "        vertical-align: middle;\n",
       "    }\n",
       "\n",
       "    .dataframe tbody tr th {\n",
       "        vertical-align: top;\n",
       "    }\n",
       "\n",
       "    .dataframe thead th {\n",
       "        text-align: right;\n",
       "    }\n",
       "</style>\n",
       "<table border=\"1\" class=\"dataframe\">\n",
       "  <thead>\n",
       "    <tr style=\"text-align: right;\">\n",
       "      <th></th>\n",
       "      <th>UPlCodigo</th>\n",
       "      <th>UPlArea</th>\n",
       "    </tr>\n",
       "  </thead>\n",
       "  <tbody>\n",
       "    <tr>\n",
       "      <th>0</th>\n",
       "      <td>UPZ100</td>\n",
       "      <td>2.375681e+06</td>\n",
       "    </tr>\n",
       "    <tr>\n",
       "      <th>6</th>\n",
       "      <td>UPZ83</td>\n",
       "      <td>1.472415e+06</td>\n",
       "    </tr>\n",
       "    <tr>\n",
       "      <th>8</th>\n",
       "      <td>UPZ107</td>\n",
       "      <td>1.739560e+06</td>\n",
       "    </tr>\n",
       "  </tbody>\n",
       "</table>\n",
       "</div>"
      ],
      "text/plain": [
       "  UPlCodigo       UPlArea\n",
       "0    UPZ100  2.375681e+06\n",
       "6     UPZ83  1.472415e+06\n",
       "8    UPZ107  1.739560e+06"
      ]
     },
     "execution_count": 109,
     "metadata": {},
     "output_type": "execute_result"
    }
   ],
   "source": [
    "#Se copia solo las columnas que nos interesan\n",
    "area_upz = barrio_df[['UPlCodigo', 'UPlArea']].copy()\n",
    "\n",
    "#Se eliminan las entradas repetidas\n",
    "area_upz.drop_duplicates(inplace=True)\n",
    "area_upz.head(3)"
   ]
  },
  {
   "cell_type": "markdown",
   "metadata": {},
   "source": [
    "Se hace un merge entre `data` y `area_upz`. "
   ]
  },
  {
   "cell_type": "code",
   "execution_count": 110,
   "metadata": {
    "scrolled": false
   },
   "outputs": [
    {
     "name": "stdout",
     "output_type": "stream",
     "text": [
      "Cantidad de datos: 18378\n"
     ]
    },
    {
     "data": {
      "text/html": [
       "<div>\n",
       "<style scoped>\n",
       "    .dataframe tbody tr th:only-of-type {\n",
       "        vertical-align: middle;\n",
       "    }\n",
       "\n",
       "    .dataframe tbody tr th {\n",
       "        vertical-align: top;\n",
       "    }\n",
       "\n",
       "    .dataframe thead th {\n",
       "        text-align: right;\n",
       "    }\n",
       "</style>\n",
       "<table border=\"1\" class=\"dataframe\">\n",
       "  <thead>\n",
       "    <tr style=\"text-align: right;\">\n",
       "      <th></th>\n",
       "      <th>price</th>\n",
       "      <th>n_rooms</th>\n",
       "      <th>n_bath</th>\n",
       "      <th>surface</th>\n",
       "      <th>details</th>\n",
       "      <th>url</th>\n",
       "      <th>metrocuadrado_index</th>\n",
       "      <th>Furnished</th>\n",
       "      <th>location</th>\n",
       "      <th>property</th>\n",
       "      <th>...</th>\n",
       "      <th>trabajoinf_ninos_5_17_anos_perc</th>\n",
       "      <th>trabajoinfampliado_ninos_5_17_anos_perc</th>\n",
       "      <th>jovenes_14_24_anos_nini_perc</th>\n",
       "      <th>indice_envegecimiento</th>\n",
       "      <th>jefe_mujer_perc</th>\n",
       "      <th>adultos_mayores_pobres_perc</th>\n",
       "      <th>indice_inseguridad</th>\n",
       "      <th>areas_verdes_perc</th>\n",
       "      <th>UPlCodigo</th>\n",
       "      <th>UPlArea</th>\n",
       "    </tr>\n",
       "  </thead>\n",
       "  <tbody>\n",
       "    <tr>\n",
       "      <th>0</th>\n",
       "      <td>1050000.0</td>\n",
       "      <td>3.0</td>\n",
       "      <td>2.0</td>\n",
       "      <td>63.0</td>\n",
       "      <td>Excelente casa cerca de la calle 80 y Avenida ...</td>\n",
       "      <td>https://www.metrocuadrado.com/inmueble/arriend...</td>\n",
       "      <td>25.6</td>\n",
       "      <td>No</td>\n",
       "      <td>LA SOLEDAD NORTE</td>\n",
       "      <td>Casa</td>\n",
       "      <td>...</td>\n",
       "      <td>NaN</td>\n",
       "      <td>NaN</td>\n",
       "      <td>NaN</td>\n",
       "      <td>NaN</td>\n",
       "      <td>NaN</td>\n",
       "      <td>NaN</td>\n",
       "      <td>NaN</td>\n",
       "      <td>NaN</td>\n",
       "      <td>NaN</td>\n",
       "      <td>NaN</td>\n",
       "    </tr>\n",
       "    <tr>\n",
       "      <th>1</th>\n",
       "      <td>3930000.0</td>\n",
       "      <td>3.0</td>\n",
       "      <td>2.0</td>\n",
       "      <td>100.0</td>\n",
       "      <td>Se arrienda casa bonita totalmente amoblada co...</td>\n",
       "      <td>https://www.metrocuadrado.com/inmueble/arriend...</td>\n",
       "      <td>57.3</td>\n",
       "      <td>No</td>\n",
       "      <td>CIUDAD SALITRE SUR-ORIENTAL</td>\n",
       "      <td>Casa</td>\n",
       "      <td>...</td>\n",
       "      <td>NaN</td>\n",
       "      <td>NaN</td>\n",
       "      <td>NaN</td>\n",
       "      <td>NaN</td>\n",
       "      <td>NaN</td>\n",
       "      <td>NaN</td>\n",
       "      <td>NaN</td>\n",
       "      <td>NaN</td>\n",
       "      <td>NaN</td>\n",
       "      <td>NaN</td>\n",
       "    </tr>\n",
       "    <tr>\n",
       "      <th>2</th>\n",
       "      <td>750000.0</td>\n",
       "      <td>3.0</td>\n",
       "      <td>1.0</td>\n",
       "      <td>90.0</td>\n",
       "      <td>CASA DE TRES NIVELES TRES ALCOBAS SALA COMEDOR...</td>\n",
       "      <td>https://www.metrocuadrado.com/inmueble/arriend...</td>\n",
       "      <td>12.2</td>\n",
       "      <td>No</td>\n",
       "      <td>VILLA DE LOS ALPES II SECTOR</td>\n",
       "      <td>Casa</td>\n",
       "      <td>...</td>\n",
       "      <td>NaN</td>\n",
       "      <td>NaN</td>\n",
       "      <td>NaN</td>\n",
       "      <td>NaN</td>\n",
       "      <td>NaN</td>\n",
       "      <td>NaN</td>\n",
       "      <td>NaN</td>\n",
       "      <td>NaN</td>\n",
       "      <td>NaN</td>\n",
       "      <td>NaN</td>\n",
       "    </tr>\n",
       "    <tr>\n",
       "      <th>3</th>\n",
       "      <td>3400000.0</td>\n",
       "      <td>5.0</td>\n",
       "      <td>4.0</td>\n",
       "      <td>71.0</td>\n",
       "      <td>casa ezquinera excelente ubicacion cinco alcob...</td>\n",
       "      <td>https://www.metrocuadrado.com/inmueble/arriend...</td>\n",
       "      <td>56.0</td>\n",
       "      <td>No</td>\n",
       "      <td>PARIS GAITAN</td>\n",
       "      <td>Casa</td>\n",
       "      <td>...</td>\n",
       "      <td>1.1</td>\n",
       "      <td>0.8</td>\n",
       "      <td>12.6</td>\n",
       "      <td>71.1</td>\n",
       "      <td>37.073314</td>\n",
       "      <td>8.406360</td>\n",
       "      <td>1.029160</td>\n",
       "      <td>37.852289</td>\n",
       "      <td>UPZ29</td>\n",
       "      <td>3.732645e+06</td>\n",
       "    </tr>\n",
       "    <tr>\n",
       "      <th>4</th>\n",
       "      <td>1560000.0</td>\n",
       "      <td>4.0</td>\n",
       "      <td>3.0</td>\n",
       "      <td>96.0</td>\n",
       "      <td>Excelente casa de tres niveles, buena ubicació...</td>\n",
       "      <td>https://www.metrocuadrado.com/inmueble/arriend...</td>\n",
       "      <td>47.1</td>\n",
       "      <td>No</td>\n",
       "      <td>BALCONES DE ORIENTE</td>\n",
       "      <td>Casa</td>\n",
       "      <td>...</td>\n",
       "      <td>1.8</td>\n",
       "      <td>16.7</td>\n",
       "      <td>9.1</td>\n",
       "      <td>54.7</td>\n",
       "      <td>36.279630</td>\n",
       "      <td>5.420442</td>\n",
       "      <td>3.166227</td>\n",
       "      <td>32.395663</td>\n",
       "      <td>UPZ12</td>\n",
       "      <td>2.906631e+06</td>\n",
       "    </tr>\n",
       "  </tbody>\n",
       "</table>\n",
       "<p>5 rows × 26 columns</p>\n",
       "</div>"
      ],
      "text/plain": [
       "       price  n_rooms  n_bath  surface  \\\n",
       "0  1050000.0      3.0     2.0     63.0   \n",
       "1  3930000.0      3.0     2.0    100.0   \n",
       "2   750000.0      3.0     1.0     90.0   \n",
       "3  3400000.0      5.0     4.0     71.0   \n",
       "4  1560000.0      4.0     3.0     96.0   \n",
       "\n",
       "                                             details  \\\n",
       "0  Excelente casa cerca de la calle 80 y Avenida ...   \n",
       "1  Se arrienda casa bonita totalmente amoblada co...   \n",
       "2  CASA DE TRES NIVELES TRES ALCOBAS SALA COMEDOR...   \n",
       "3  casa ezquinera excelente ubicacion cinco alcob...   \n",
       "4  Excelente casa de tres niveles, buena ubicació...   \n",
       "\n",
       "                                                 url  metrocuadrado_index  \\\n",
       "0  https://www.metrocuadrado.com/inmueble/arriend...                 25.6   \n",
       "1  https://www.metrocuadrado.com/inmueble/arriend...                 57.3   \n",
       "2  https://www.metrocuadrado.com/inmueble/arriend...                 12.2   \n",
       "3  https://www.metrocuadrado.com/inmueble/arriend...                 56.0   \n",
       "4  https://www.metrocuadrado.com/inmueble/arriend...                 47.1   \n",
       "\n",
       "  Furnished                      location property  ...  \\\n",
       "0        No              LA SOLEDAD NORTE     Casa  ...   \n",
       "1        No   CIUDAD SALITRE SUR-ORIENTAL     Casa  ...   \n",
       "2        No  VILLA DE LOS ALPES II SECTOR     Casa  ...   \n",
       "3        No                  PARIS GAITAN     Casa  ...   \n",
       "4        No           BALCONES DE ORIENTE     Casa  ...   \n",
       "\n",
       "  trabajoinf_ninos_5_17_anos_perc  trabajoinfampliado_ninos_5_17_anos_perc  \\\n",
       "0                             NaN                                      NaN   \n",
       "1                             NaN                                      NaN   \n",
       "2                             NaN                                      NaN   \n",
       "3                             1.1                                      0.8   \n",
       "4                             1.8                                     16.7   \n",
       "\n",
       "  jovenes_14_24_anos_nini_perc  indice_envegecimiento jefe_mujer_perc  \\\n",
       "0                          NaN                    NaN             NaN   \n",
       "1                          NaN                    NaN             NaN   \n",
       "2                          NaN                    NaN             NaN   \n",
       "3                         12.6                   71.1       37.073314   \n",
       "4                          9.1                   54.7       36.279630   \n",
       "\n",
       "   adultos_mayores_pobres_perc  indice_inseguridad  areas_verdes_perc  \\\n",
       "0                          NaN                 NaN                NaN   \n",
       "1                          NaN                 NaN                NaN   \n",
       "2                          NaN                 NaN                NaN   \n",
       "3                     8.406360            1.029160          37.852289   \n",
       "4                     5.420442            3.166227          32.395663   \n",
       "\n",
       "   UPlCodigo       UPlArea  \n",
       "0        NaN           NaN  \n",
       "1        NaN           NaN  \n",
       "2        NaN           NaN  \n",
       "3      UPZ29  3.732645e+06  \n",
       "4      UPZ12  2.906631e+06  \n",
       "\n",
       "[5 rows x 26 columns]"
      ]
     },
     "execution_count": 110,
     "metadata": {},
     "output_type": "execute_result"
    }
   ],
   "source": [
    "data = data.merge(area_upz, left_on='CodigoUPZ', right_on='UPlCodigo', how='left')\n",
    "print('Cantidad de datos:', len(data))\n",
    "data.head()"
   ]
  },
  {
   "cell_type": "markdown",
   "metadata": {},
   "source": [
    "Para calcular la densidad de poblacion se divide la columna `personas` por la columna `UPlArea`."
   ]
  },
  {
   "cell_type": "code",
   "execution_count": 111,
   "metadata": {},
   "outputs": [
    {
     "data": {
      "text/html": [
       "<div>\n",
       "<style scoped>\n",
       "    .dataframe tbody tr th:only-of-type {\n",
       "        vertical-align: middle;\n",
       "    }\n",
       "\n",
       "    .dataframe tbody tr th {\n",
       "        vertical-align: top;\n",
       "    }\n",
       "\n",
       "    .dataframe thead th {\n",
       "        text-align: right;\n",
       "    }\n",
       "</style>\n",
       "<table border=\"1\" class=\"dataframe\">\n",
       "  <thead>\n",
       "    <tr style=\"text-align: right;\">\n",
       "      <th></th>\n",
       "      <th>price</th>\n",
       "      <th>n_rooms</th>\n",
       "      <th>n_bath</th>\n",
       "      <th>surface</th>\n",
       "      <th>details</th>\n",
       "      <th>url</th>\n",
       "      <th>metrocuadrado_index</th>\n",
       "      <th>Furnished</th>\n",
       "      <th>location</th>\n",
       "      <th>property</th>\n",
       "      <th>...</th>\n",
       "      <th>trabajoinfampliado_ninos_5_17_anos_perc</th>\n",
       "      <th>jovenes_14_24_anos_nini_perc</th>\n",
       "      <th>indice_envegecimiento</th>\n",
       "      <th>jefe_mujer_perc</th>\n",
       "      <th>adultos_mayores_pobres_perc</th>\n",
       "      <th>indice_inseguridad</th>\n",
       "      <th>areas_verdes_perc</th>\n",
       "      <th>UPlCodigo</th>\n",
       "      <th>UPlArea</th>\n",
       "      <th>pob_density</th>\n",
       "    </tr>\n",
       "  </thead>\n",
       "  <tbody>\n",
       "    <tr>\n",
       "      <th>0</th>\n",
       "      <td>1050000.0</td>\n",
       "      <td>3.0</td>\n",
       "      <td>2.0</td>\n",
       "      <td>63.0</td>\n",
       "      <td>Excelente casa cerca de la calle 80 y Avenida ...</td>\n",
       "      <td>https://www.metrocuadrado.com/inmueble/arriend...</td>\n",
       "      <td>25.6</td>\n",
       "      <td>No</td>\n",
       "      <td>LA SOLEDAD NORTE</td>\n",
       "      <td>Casa</td>\n",
       "      <td>...</td>\n",
       "      <td>NaN</td>\n",
       "      <td>NaN</td>\n",
       "      <td>NaN</td>\n",
       "      <td>NaN</td>\n",
       "      <td>NaN</td>\n",
       "      <td>NaN</td>\n",
       "      <td>NaN</td>\n",
       "      <td>NaN</td>\n",
       "      <td>NaN</td>\n",
       "      <td>NaN</td>\n",
       "    </tr>\n",
       "    <tr>\n",
       "      <th>1</th>\n",
       "      <td>3930000.0</td>\n",
       "      <td>3.0</td>\n",
       "      <td>2.0</td>\n",
       "      <td>100.0</td>\n",
       "      <td>Se arrienda casa bonita totalmente amoblada co...</td>\n",
       "      <td>https://www.metrocuadrado.com/inmueble/arriend...</td>\n",
       "      <td>57.3</td>\n",
       "      <td>No</td>\n",
       "      <td>CIUDAD SALITRE SUR-ORIENTAL</td>\n",
       "      <td>Casa</td>\n",
       "      <td>...</td>\n",
       "      <td>NaN</td>\n",
       "      <td>NaN</td>\n",
       "      <td>NaN</td>\n",
       "      <td>NaN</td>\n",
       "      <td>NaN</td>\n",
       "      <td>NaN</td>\n",
       "      <td>NaN</td>\n",
       "      <td>NaN</td>\n",
       "      <td>NaN</td>\n",
       "      <td>NaN</td>\n",
       "    </tr>\n",
       "    <tr>\n",
       "      <th>2</th>\n",
       "      <td>750000.0</td>\n",
       "      <td>3.0</td>\n",
       "      <td>1.0</td>\n",
       "      <td>90.0</td>\n",
       "      <td>CASA DE TRES NIVELES TRES ALCOBAS SALA COMEDOR...</td>\n",
       "      <td>https://www.metrocuadrado.com/inmueble/arriend...</td>\n",
       "      <td>12.2</td>\n",
       "      <td>No</td>\n",
       "      <td>VILLA DE LOS ALPES II SECTOR</td>\n",
       "      <td>Casa</td>\n",
       "      <td>...</td>\n",
       "      <td>NaN</td>\n",
       "      <td>NaN</td>\n",
       "      <td>NaN</td>\n",
       "      <td>NaN</td>\n",
       "      <td>NaN</td>\n",
       "      <td>NaN</td>\n",
       "      <td>NaN</td>\n",
       "      <td>NaN</td>\n",
       "      <td>NaN</td>\n",
       "      <td>NaN</td>\n",
       "    </tr>\n",
       "    <tr>\n",
       "      <th>3</th>\n",
       "      <td>3400000.0</td>\n",
       "      <td>5.0</td>\n",
       "      <td>4.0</td>\n",
       "      <td>71.0</td>\n",
       "      <td>casa ezquinera excelente ubicacion cinco alcob...</td>\n",
       "      <td>https://www.metrocuadrado.com/inmueble/arriend...</td>\n",
       "      <td>56.0</td>\n",
       "      <td>No</td>\n",
       "      <td>PARIS GAITAN</td>\n",
       "      <td>Casa</td>\n",
       "      <td>...</td>\n",
       "      <td>0.8</td>\n",
       "      <td>12.6</td>\n",
       "      <td>71.1</td>\n",
       "      <td>37.073314</td>\n",
       "      <td>8.406360</td>\n",
       "      <td>1.029160</td>\n",
       "      <td>37.852289</td>\n",
       "      <td>UPZ29</td>\n",
       "      <td>3.732645e+06</td>\n",
       "      <td>0.041894</td>\n",
       "    </tr>\n",
       "    <tr>\n",
       "      <th>4</th>\n",
       "      <td>1560000.0</td>\n",
       "      <td>4.0</td>\n",
       "      <td>3.0</td>\n",
       "      <td>96.0</td>\n",
       "      <td>Excelente casa de tres niveles, buena ubicació...</td>\n",
       "      <td>https://www.metrocuadrado.com/inmueble/arriend...</td>\n",
       "      <td>47.1</td>\n",
       "      <td>No</td>\n",
       "      <td>BALCONES DE ORIENTE</td>\n",
       "      <td>Casa</td>\n",
       "      <td>...</td>\n",
       "      <td>16.7</td>\n",
       "      <td>9.1</td>\n",
       "      <td>54.7</td>\n",
       "      <td>36.279630</td>\n",
       "      <td>5.420442</td>\n",
       "      <td>3.166227</td>\n",
       "      <td>32.395663</td>\n",
       "      <td>UPZ12</td>\n",
       "      <td>2.906631e+06</td>\n",
       "      <td>0.017215</td>\n",
       "    </tr>\n",
       "  </tbody>\n",
       "</table>\n",
       "<p>5 rows × 27 columns</p>\n",
       "</div>"
      ],
      "text/plain": [
       "       price  n_rooms  n_bath  surface  \\\n",
       "0  1050000.0      3.0     2.0     63.0   \n",
       "1  3930000.0      3.0     2.0    100.0   \n",
       "2   750000.0      3.0     1.0     90.0   \n",
       "3  3400000.0      5.0     4.0     71.0   \n",
       "4  1560000.0      4.0     3.0     96.0   \n",
       "\n",
       "                                             details  \\\n",
       "0  Excelente casa cerca de la calle 80 y Avenida ...   \n",
       "1  Se arrienda casa bonita totalmente amoblada co...   \n",
       "2  CASA DE TRES NIVELES TRES ALCOBAS SALA COMEDOR...   \n",
       "3  casa ezquinera excelente ubicacion cinco alcob...   \n",
       "4  Excelente casa de tres niveles, buena ubicació...   \n",
       "\n",
       "                                                 url  metrocuadrado_index  \\\n",
       "0  https://www.metrocuadrado.com/inmueble/arriend...                 25.6   \n",
       "1  https://www.metrocuadrado.com/inmueble/arriend...                 57.3   \n",
       "2  https://www.metrocuadrado.com/inmueble/arriend...                 12.2   \n",
       "3  https://www.metrocuadrado.com/inmueble/arriend...                 56.0   \n",
       "4  https://www.metrocuadrado.com/inmueble/arriend...                 47.1   \n",
       "\n",
       "  Furnished                      location property  ...  \\\n",
       "0        No              LA SOLEDAD NORTE     Casa  ...   \n",
       "1        No   CIUDAD SALITRE SUR-ORIENTAL     Casa  ...   \n",
       "2        No  VILLA DE LOS ALPES II SECTOR     Casa  ...   \n",
       "3        No                  PARIS GAITAN     Casa  ...   \n",
       "4        No           BALCONES DE ORIENTE     Casa  ...   \n",
       "\n",
       "  trabajoinfampliado_ninos_5_17_anos_perc  jovenes_14_24_anos_nini_perc  \\\n",
       "0                                     NaN                           NaN   \n",
       "1                                     NaN                           NaN   \n",
       "2                                     NaN                           NaN   \n",
       "3                                     0.8                          12.6   \n",
       "4                                    16.7                           9.1   \n",
       "\n",
       "  indice_envegecimiento  jefe_mujer_perc adultos_mayores_pobres_perc  \\\n",
       "0                   NaN              NaN                         NaN   \n",
       "1                   NaN              NaN                         NaN   \n",
       "2                   NaN              NaN                         NaN   \n",
       "3                  71.1        37.073314                    8.406360   \n",
       "4                  54.7        36.279630                    5.420442   \n",
       "\n",
       "   indice_inseguridad  areas_verdes_perc  UPlCodigo       UPlArea  pob_density  \n",
       "0                 NaN                NaN        NaN           NaN          NaN  \n",
       "1                 NaN                NaN        NaN           NaN          NaN  \n",
       "2                 NaN                NaN        NaN           NaN          NaN  \n",
       "3            1.029160          37.852289      UPZ29  3.732645e+06     0.041894  \n",
       "4            3.166227          32.395663      UPZ12  2.906631e+06     0.017215  \n",
       "\n",
       "[5 rows x 27 columns]"
      ]
     },
     "execution_count": 111,
     "metadata": {},
     "output_type": "execute_result"
    }
   ],
   "source": [
    "data['pob_density'] = data['personas']/data['UPlArea']\n",
    "data.head()"
   ]
  },
  {
   "cell_type": "code",
   "execution_count": 112,
   "metadata": {},
   "outputs": [],
   "source": [
    "#Finalmente se eliminan las columnas UPlCodigo y UPlArea\n",
    "data.drop(['UPlCodigo', 'UPlArea'], axis=1, inplace=True)"
   ]
  },
  {
   "cell_type": "markdown",
   "metadata": {},
   "source": [
    "Se muestra el resultado final."
   ]
  },
  {
   "cell_type": "code",
   "execution_count": 113,
   "metadata": {
    "scrolled": false
   },
   "outputs": [
    {
     "data": {
      "text/html": [
       "<div>\n",
       "<style scoped>\n",
       "    .dataframe tbody tr th:only-of-type {\n",
       "        vertical-align: middle;\n",
       "    }\n",
       "\n",
       "    .dataframe tbody tr th {\n",
       "        vertical-align: top;\n",
       "    }\n",
       "\n",
       "    .dataframe thead th {\n",
       "        text-align: right;\n",
       "    }\n",
       "</style>\n",
       "<table border=\"1\" class=\"dataframe\">\n",
       "  <thead>\n",
       "    <tr style=\"text-align: right;\">\n",
       "      <th></th>\n",
       "      <th>price</th>\n",
       "      <th>n_rooms</th>\n",
       "      <th>n_bath</th>\n",
       "      <th>surface</th>\n",
       "      <th>details</th>\n",
       "      <th>url</th>\n",
       "      <th>metrocuadrado_index</th>\n",
       "      <th>Furnished</th>\n",
       "      <th>location</th>\n",
       "      <th>property</th>\n",
       "      <th>...</th>\n",
       "      <th>personas</th>\n",
       "      <th>trabajoinf_ninos_5_17_anos_perc</th>\n",
       "      <th>trabajoinfampliado_ninos_5_17_anos_perc</th>\n",
       "      <th>jovenes_14_24_anos_nini_perc</th>\n",
       "      <th>indice_envegecimiento</th>\n",
       "      <th>jefe_mujer_perc</th>\n",
       "      <th>adultos_mayores_pobres_perc</th>\n",
       "      <th>indice_inseguridad</th>\n",
       "      <th>areas_verdes_perc</th>\n",
       "      <th>pob_density</th>\n",
       "    </tr>\n",
       "  </thead>\n",
       "  <tbody>\n",
       "    <tr>\n",
       "      <th>0</th>\n",
       "      <td>1050000.0</td>\n",
       "      <td>3.0</td>\n",
       "      <td>2.0</td>\n",
       "      <td>63.0</td>\n",
       "      <td>Excelente casa cerca de la calle 80 y Avenida ...</td>\n",
       "      <td>https://www.metrocuadrado.com/inmueble/arriend...</td>\n",
       "      <td>25.6</td>\n",
       "      <td>No</td>\n",
       "      <td>LA SOLEDAD NORTE</td>\n",
       "      <td>Casa</td>\n",
       "      <td>...</td>\n",
       "      <td>NaN</td>\n",
       "      <td>NaN</td>\n",
       "      <td>NaN</td>\n",
       "      <td>NaN</td>\n",
       "      <td>NaN</td>\n",
       "      <td>NaN</td>\n",
       "      <td>NaN</td>\n",
       "      <td>NaN</td>\n",
       "      <td>NaN</td>\n",
       "      <td>NaN</td>\n",
       "    </tr>\n",
       "    <tr>\n",
       "      <th>1</th>\n",
       "      <td>3930000.0</td>\n",
       "      <td>3.0</td>\n",
       "      <td>2.0</td>\n",
       "      <td>100.0</td>\n",
       "      <td>Se arrienda casa bonita totalmente amoblada co...</td>\n",
       "      <td>https://www.metrocuadrado.com/inmueble/arriend...</td>\n",
       "      <td>57.3</td>\n",
       "      <td>No</td>\n",
       "      <td>CIUDAD SALITRE SUR-ORIENTAL</td>\n",
       "      <td>Casa</td>\n",
       "      <td>...</td>\n",
       "      <td>NaN</td>\n",
       "      <td>NaN</td>\n",
       "      <td>NaN</td>\n",
       "      <td>NaN</td>\n",
       "      <td>NaN</td>\n",
       "      <td>NaN</td>\n",
       "      <td>NaN</td>\n",
       "      <td>NaN</td>\n",
       "      <td>NaN</td>\n",
       "      <td>NaN</td>\n",
       "    </tr>\n",
       "    <tr>\n",
       "      <th>2</th>\n",
       "      <td>750000.0</td>\n",
       "      <td>3.0</td>\n",
       "      <td>1.0</td>\n",
       "      <td>90.0</td>\n",
       "      <td>CASA DE TRES NIVELES TRES ALCOBAS SALA COMEDOR...</td>\n",
       "      <td>https://www.metrocuadrado.com/inmueble/arriend...</td>\n",
       "      <td>12.2</td>\n",
       "      <td>No</td>\n",
       "      <td>VILLA DE LOS ALPES II SECTOR</td>\n",
       "      <td>Casa</td>\n",
       "      <td>...</td>\n",
       "      <td>NaN</td>\n",
       "      <td>NaN</td>\n",
       "      <td>NaN</td>\n",
       "      <td>NaN</td>\n",
       "      <td>NaN</td>\n",
       "      <td>NaN</td>\n",
       "      <td>NaN</td>\n",
       "      <td>NaN</td>\n",
       "      <td>NaN</td>\n",
       "      <td>NaN</td>\n",
       "    </tr>\n",
       "    <tr>\n",
       "      <th>3</th>\n",
       "      <td>3400000.0</td>\n",
       "      <td>5.0</td>\n",
       "      <td>4.0</td>\n",
       "      <td>71.0</td>\n",
       "      <td>casa ezquinera excelente ubicacion cinco alcob...</td>\n",
       "      <td>https://www.metrocuadrado.com/inmueble/arriend...</td>\n",
       "      <td>56.0</td>\n",
       "      <td>No</td>\n",
       "      <td>PARIS GAITAN</td>\n",
       "      <td>Casa</td>\n",
       "      <td>...</td>\n",
       "      <td>156375.0</td>\n",
       "      <td>1.1</td>\n",
       "      <td>0.8</td>\n",
       "      <td>12.6</td>\n",
       "      <td>71.1</td>\n",
       "      <td>37.073314</td>\n",
       "      <td>8.406360</td>\n",
       "      <td>1.029160</td>\n",
       "      <td>37.852289</td>\n",
       "      <td>0.041894</td>\n",
       "    </tr>\n",
       "    <tr>\n",
       "      <th>4</th>\n",
       "      <td>1560000.0</td>\n",
       "      <td>4.0</td>\n",
       "      <td>3.0</td>\n",
       "      <td>96.0</td>\n",
       "      <td>Excelente casa de tres niveles, buena ubicació...</td>\n",
       "      <td>https://www.metrocuadrado.com/inmueble/arriend...</td>\n",
       "      <td>47.1</td>\n",
       "      <td>No</td>\n",
       "      <td>BALCONES DE ORIENTE</td>\n",
       "      <td>Casa</td>\n",
       "      <td>...</td>\n",
       "      <td>50037.0</td>\n",
       "      <td>1.8</td>\n",
       "      <td>16.7</td>\n",
       "      <td>9.1</td>\n",
       "      <td>54.7</td>\n",
       "      <td>36.279630</td>\n",
       "      <td>5.420442</td>\n",
       "      <td>3.166227</td>\n",
       "      <td>32.395663</td>\n",
       "      <td>0.017215</td>\n",
       "    </tr>\n",
       "  </tbody>\n",
       "</table>\n",
       "<p>5 rows × 25 columns</p>\n",
       "</div>"
      ],
      "text/plain": [
       "       price  n_rooms  n_bath  surface  \\\n",
       "0  1050000.0      3.0     2.0     63.0   \n",
       "1  3930000.0      3.0     2.0    100.0   \n",
       "2   750000.0      3.0     1.0     90.0   \n",
       "3  3400000.0      5.0     4.0     71.0   \n",
       "4  1560000.0      4.0     3.0     96.0   \n",
       "\n",
       "                                             details  \\\n",
       "0  Excelente casa cerca de la calle 80 y Avenida ...   \n",
       "1  Se arrienda casa bonita totalmente amoblada co...   \n",
       "2  CASA DE TRES NIVELES TRES ALCOBAS SALA COMEDOR...   \n",
       "3  casa ezquinera excelente ubicacion cinco alcob...   \n",
       "4  Excelente casa de tres niveles, buena ubicació...   \n",
       "\n",
       "                                                 url  metrocuadrado_index  \\\n",
       "0  https://www.metrocuadrado.com/inmueble/arriend...                 25.6   \n",
       "1  https://www.metrocuadrado.com/inmueble/arriend...                 57.3   \n",
       "2  https://www.metrocuadrado.com/inmueble/arriend...                 12.2   \n",
       "3  https://www.metrocuadrado.com/inmueble/arriend...                 56.0   \n",
       "4  https://www.metrocuadrado.com/inmueble/arriend...                 47.1   \n",
       "\n",
       "  Furnished                      location property  ...  personas  \\\n",
       "0        No              LA SOLEDAD NORTE     Casa  ...       NaN   \n",
       "1        No   CIUDAD SALITRE SUR-ORIENTAL     Casa  ...       NaN   \n",
       "2        No  VILLA DE LOS ALPES II SECTOR     Casa  ...       NaN   \n",
       "3        No                  PARIS GAITAN     Casa  ...  156375.0   \n",
       "4        No           BALCONES DE ORIENTE     Casa  ...   50037.0   \n",
       "\n",
       "   trabajoinf_ninos_5_17_anos_perc trabajoinfampliado_ninos_5_17_anos_perc  \\\n",
       "0                              NaN                                     NaN   \n",
       "1                              NaN                                     NaN   \n",
       "2                              NaN                                     NaN   \n",
       "3                              1.1                                     0.8   \n",
       "4                              1.8                                    16.7   \n",
       "\n",
       "   jovenes_14_24_anos_nini_perc indice_envegecimiento  jefe_mujer_perc  \\\n",
       "0                           NaN                   NaN              NaN   \n",
       "1                           NaN                   NaN              NaN   \n",
       "2                           NaN                   NaN              NaN   \n",
       "3                          12.6                  71.1        37.073314   \n",
       "4                           9.1                  54.7        36.279630   \n",
       "\n",
       "   adultos_mayores_pobres_perc  indice_inseguridad  areas_verdes_perc  \\\n",
       "0                          NaN                 NaN                NaN   \n",
       "1                          NaN                 NaN                NaN   \n",
       "2                          NaN                 NaN                NaN   \n",
       "3                     8.406360            1.029160          37.852289   \n",
       "4                     5.420442            3.166227          32.395663   \n",
       "\n",
       "   pob_density  \n",
       "0          NaN  \n",
       "1          NaN  \n",
       "2          NaN  \n",
       "3     0.041894  \n",
       "4     0.017215  \n",
       "\n",
       "[5 rows x 25 columns]"
      ]
     },
     "execution_count": 113,
     "metadata": {},
     "output_type": "execute_result"
    }
   ],
   "source": [
    "data.head()"
   ]
  },
  {
   "cell_type": "code",
   "execution_count": 114,
   "metadata": {},
   "outputs": [
    {
     "data": {
      "text/plain": [
       "Index(['price', 'n_rooms', 'n_bath', 'surface', 'details', 'url',\n",
       "       'metrocuadrado_index', 'Furnished', 'location', 'property', 'rent',\n",
       "       'Precio m2', 'Garajes', 'tipo de producto', 'CodigoUPZ', 'personas',\n",
       "       'trabajoinf_ninos_5_17_anos_perc',\n",
       "       'trabajoinfampliado_ninos_5_17_anos_perc',\n",
       "       'jovenes_14_24_anos_nini_perc', 'indice_envegecimiento',\n",
       "       'jefe_mujer_perc', 'adultos_mayores_pobres_perc', 'indice_inseguridad',\n",
       "       'areas_verdes_perc', 'pob_density'],\n",
       "      dtype='object')"
      ]
     },
     "execution_count": 114,
     "metadata": {},
     "output_type": "execute_result"
    }
   ],
   "source": [
    "data.columns"
   ]
  },
  {
   "cell_type": "code",
   "execution_count": 115,
   "metadata": {},
   "outputs": [
    {
     "data": {
      "text/plain": [
       "price                                      float64\n",
       "n_rooms                                    float64\n",
       "n_bath                                     float64\n",
       "surface                                    float64\n",
       "details                                     object\n",
       "url                                         object\n",
       "metrocuadrado_index                        float64\n",
       "Furnished                                   object\n",
       "location                                    object\n",
       "property                                    object\n",
       "rent                                        object\n",
       "Precio m2                                  float64\n",
       "Garajes                                     object\n",
       "tipo de producto                           float64\n",
       "CodigoUPZ                                   object\n",
       "personas                                   float64\n",
       "trabajoinf_ninos_5_17_anos_perc            float64\n",
       "trabajoinfampliado_ninos_5_17_anos_perc    float64\n",
       "jovenes_14_24_anos_nini_perc               float64\n",
       "indice_envegecimiento                      float64\n",
       "jefe_mujer_perc                            float64\n",
       "adultos_mayores_pobres_perc                float64\n",
       "indice_inseguridad                         float64\n",
       "areas_verdes_perc                          float64\n",
       "pob_density                                float64\n",
       "dtype: object"
      ]
     },
     "execution_count": 115,
     "metadata": {},
     "output_type": "execute_result"
    }
   ],
   "source": [
    "data.dtypes"
   ]
  },
  {
   "cell_type": "markdown",
   "metadata": {},
   "source": [
    "Antes de terminar se cambia el tipo de algunas columnas para que tengan más sentido."
   ]
  },
  {
   "cell_type": "code",
   "execution_count": 117,
   "metadata": {},
   "outputs": [],
   "source": [
    "c = data.copy()"
   ]
  },
  {
   "cell_type": "code",
   "execution_count": 124,
   "metadata": {},
   "outputs": [],
   "source": [
    "#Loa tipoa de 'Garajes' y 'tipo de producto' a int\n",
    "data = data.astype({'Garajes':int, 'tipo de producto':int})"
   ]
  },
  {
   "cell_type": "code",
   "execution_count": 130,
   "metadata": {},
   "outputs": [],
   "source": [
    "#Y se cambia el nombre de algunas columnas para que no sea tan amplio\n",
    "\n",
    "data = data.rename(columns={'trabajoinf_ninos_5_17_anos_perc':'trabajo_ninos',\n",
    "                     'trabajoinfampliado_ninos_5_17_anos_perc':'trabajoamp_ninos',\n",
    "                     'jovenes_14_24_anos_nini_perc':'jovenes_nini',\n",
    "                     'jefe_mujer_perc':'jefe_mujer',\n",
    "                     'areas_verde_perc':'areas_verdes',\n",
    "                     'adultos_mayores_pobres_perc':'adultos_mayores_pobres'})"
   ]
  },
  {
   "cell_type": "code",
   "execution_count": 131,
   "metadata": {},
   "outputs": [
    {
     "data": {
      "text/plain": [
       "price                     float64\n",
       "n_rooms                   float64\n",
       "n_bath                    float64\n",
       "surface                   float64\n",
       "details                    object\n",
       "url                        object\n",
       "metrocuadrado_index       float64\n",
       "Furnished                  object\n",
       "location                   object\n",
       "property                   object\n",
       "rent                       object\n",
       "Precio m2                 float64\n",
       "Garajes                     int32\n",
       "tipo de producto            int32\n",
       "CodigoUPZ                  object\n",
       "personas                  float64\n",
       "trabajo_ninos             float64\n",
       "trabajoamp_ninos          float64\n",
       "jovenes_nini              float64\n",
       "indice_envegecimiento     float64\n",
       "jefe_mujer                float64\n",
       "adultos_mayores_pobres    float64\n",
       "indice_inseguridad        float64\n",
       "areas_verdes_perc         float64\n",
       "pob_density               float64\n",
       "dtype: object"
      ]
     },
     "execution_count": 131,
     "metadata": {},
     "output_type": "execute_result"
    }
   ],
   "source": [
    "#Ahora estos son los tipos y nombres de cada columna\n",
    "data.dtypes"
   ]
  },
  {
   "cell_type": "markdown",
   "metadata": {},
   "source": [
    "Se guardan los datos en un csv para la siguiente parte."
   ]
  },
  {
   "cell_type": "code",
   "execution_count": 132,
   "metadata": {},
   "outputs": [],
   "source": [
    "data.to_csv('data.csv', index=False)"
   ]
  },
  {
   "cell_type": "markdown",
   "metadata": {},
   "source": [
    "## P2"
   ]
  },
  {
   "cell_type": "code",
   "execution_count": null,
   "metadata": {},
   "outputs": [],
   "source": []
  },
  {
   "cell_type": "markdown",
   "metadata": {},
   "source": [
    "## P3"
   ]
  },
  {
   "cell_type": "code",
   "execution_count": null,
   "metadata": {},
   "outputs": [],
   "source": []
  }
 ],
 "metadata": {
  "kernelspec": {
   "display_name": "Python 3",
   "language": "python",
   "name": "python3"
  },
  "language_info": {
   "codemirror_mode": {
    "name": "ipython",
    "version": 3
   },
   "file_extension": ".py",
   "mimetype": "text/x-python",
   "name": "python",
   "nbconvert_exporter": "python",
   "pygments_lexer": "ipython3",
   "version": "3.7.4"
  },
  "toc": {
   "base_numbering": 1,
   "nav_menu": {},
   "number_sections": true,
   "sideBar": true,
   "skip_h1_title": false,
   "title_cell": "Table of Contents",
   "title_sidebar": "Contents",
   "toc_cell": false,
   "toc_position": {},
   "toc_section_display": true,
   "toc_window_display": false
  }
 },
 "nbformat": 4,
 "nbformat_minor": 2
}
