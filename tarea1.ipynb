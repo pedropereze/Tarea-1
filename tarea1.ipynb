{
 "cells": [
  {
   "cell_type": "markdown",
   "metadata": {},
   "source": [
    "# Tarea 1 \n",
    "\n",
    "Alumnos:\n",
    "\n",
    "* Miguel Espinoza\n",
    "* Sebastián López\n",
    "* Pedro Pérez"
   ]
  },
  {
   "cell_type": "markdown",
   "metadata": {},
   "source": [
    "## P1"
   ]
  },
  {
   "cell_type": "markdown",
   "metadata": {},
   "source": [
    "### Parte 1"
   ]
  },
  {
   "cell_type": "code",
   "execution_count": 1,
   "metadata": {},
   "outputs": [
    {
     "data": {
      "text/plain": [
       "['w13', 'w14', 'w15', 'w16', 'w17']"
      ]
     },
     "execution_count": 1,
     "metadata": {},
     "output_type": "execute_result"
    }
   ],
   "source": [
    "import os\n",
    "\n",
    "folder = 'data/raw/'  #Carpeta principal en la que estan los archivos\n",
    "weeks = os.listdir(folder)  #Se agregan las subcarpetas a una lista\n",
    "weeks"
   ]
  },
  {
   "cell_type": "code",
   "execution_count": 2,
   "metadata": {},
   "outputs": [
    {
     "data": {
      "text/plain": [
       "['data/raw/w13/metrocuadrado_all_w13.csv',\n",
       " 'data/raw/w14/metrocuadrado_all_w14.csv',\n",
       " 'data/raw/w15/metrocuadrado_all_w15.csv',\n",
       " 'data/raw/w16/metrocuadrado_all_w16.csv',\n",
       " 'data/raw/w17/metrocuadrado_all_w17.csv']"
      ]
     },
     "execution_count": 2,
     "metadata": {},
     "output_type": "execute_result"
    }
   ],
   "source": [
    "#Se crean dos listas para guardar los archivos normales\n",
    "#y los 'furnished'\n",
    "files = []\n",
    "files_furnished = []\n",
    "\n",
    "#Mediante un bucle for se guardan las direcciones de todos\n",
    "#los archivos en las listas creadas\n",
    "for week in weeks:\n",
    "    direccion = folder + week + '/'\n",
    "    file = os.listdir(direccion)\n",
    "    files.append(direccion + file[0])\n",
    "    files_furnished.append(direccion + file[1])\n",
    "    \n",
    "files"
   ]
  },
  {
   "cell_type": "code",
   "execution_count": 3,
   "metadata": {
    "scrolled": false
   },
   "outputs": [
    {
     "data": {
      "text/html": [
       "<div>\n",
       "<style scoped>\n",
       "    .dataframe tbody tr th:only-of-type {\n",
       "        vertical-align: middle;\n",
       "    }\n",
       "\n",
       "    .dataframe tbody tr th {\n",
       "        vertical-align: top;\n",
       "    }\n",
       "\n",
       "    .dataframe thead th {\n",
       "        text-align: right;\n",
       "    }\n",
       "</style>\n",
       "<table border=\"1\" class=\"dataframe\">\n",
       "  <thead>\n",
       "    <tr style=\"text-align: right;\">\n",
       "      <th></th>\n",
       "      <th>property_type|rent_type|location</th>\n",
       "      <th>price</th>\n",
       "      <th>n_rooms</th>\n",
       "      <th>n_bath</th>\n",
       "      <th>surface</th>\n",
       "      <th>details</th>\n",
       "      <th>url</th>\n",
       "      <th>metrocuadrado_index</th>\n",
       "    </tr>\n",
       "  </thead>\n",
       "  <tbody>\n",
       "    <tr>\n",
       "      <th>0</th>\n",
       "      <td>Casa en Arriendo, LA SOLEDAD NORTE Bogotá D.C..</td>\n",
       "      <td>$1.050.000</td>\n",
       "      <td>3</td>\n",
       "      <td>2</td>\n",
       "      <td>63.0 m2</td>\n",
       "      <td>Excelente casa cerca de la calle 80 y Avenida ...</td>\n",
       "      <td>https://www.metrocuadrado.com/inmueble/arriend...</td>\n",
       "      <td>25.6</td>\n",
       "    </tr>\n",
       "    <tr>\n",
       "      <th>1</th>\n",
       "      <td>Casa en Arriendo, CIUDAD SALITRE SUR-ORIENTAL ...</td>\n",
       "      <td>$3.930.000</td>\n",
       "      <td>3</td>\n",
       "      <td>2</td>\n",
       "      <td>100.0 m2</td>\n",
       "      <td>Se arrienda casa bonita totalmente amoblada co...</td>\n",
       "      <td>https://www.metrocuadrado.com/inmueble/arriend...</td>\n",
       "      <td>57.3</td>\n",
       "    </tr>\n",
       "    <tr>\n",
       "      <th>2</th>\n",
       "      <td>Casa en Arriendo, VILLA DE LOS ALPES II SECTOR...</td>\n",
       "      <td>$750.000</td>\n",
       "      <td>3</td>\n",
       "      <td>1</td>\n",
       "      <td>90.0 m2</td>\n",
       "      <td>CASA DE TRES NIVELES TRES ALCOBAS SALA COMEDOR...</td>\n",
       "      <td>https://www.metrocuadrado.com/inmueble/arriend...</td>\n",
       "      <td>12.2</td>\n",
       "    </tr>\n",
       "  </tbody>\n",
       "</table>\n",
       "</div>"
      ],
      "text/plain": [
       "                    property_type|rent_type|location       price n_rooms  \\\n",
       "0    Casa en Arriendo, LA SOLEDAD NORTE Bogotá D.C..  $1.050.000       3   \n",
       "1  Casa en Arriendo, CIUDAD SALITRE SUR-ORIENTAL ...  $3.930.000       3   \n",
       "2  Casa en Arriendo, VILLA DE LOS ALPES II SECTOR...    $750.000       3   \n",
       "\n",
       "  n_bath   surface                                            details  \\\n",
       "0      2   63.0 m2  Excelente casa cerca de la calle 80 y Avenida ...   \n",
       "1      2  100.0 m2  Se arrienda casa bonita totalmente amoblada co...   \n",
       "2      1   90.0 m2  CASA DE TRES NIVELES TRES ALCOBAS SALA COMEDOR...   \n",
       "\n",
       "                                                 url  metrocuadrado_index  \n",
       "0  https://www.metrocuadrado.com/inmueble/arriend...                 25.6  \n",
       "1  https://www.metrocuadrado.com/inmueble/arriend...                 57.3  \n",
       "2  https://www.metrocuadrado.com/inmueble/arriend...                 12.2  "
      ]
     },
     "execution_count": 3,
     "metadata": {},
     "output_type": "execute_result"
    }
   ],
   "source": [
    "import pandas as pd\n",
    "\n",
    "#Se lee el primer dataframe para observar los datos\n",
    "data_all = pd.read_csv(files[0])\n",
    "data_all.head(3)"
   ]
  },
  {
   "cell_type": "markdown",
   "metadata": {},
   "source": [
    "En primer lugar se combinan los dataframes normales"
   ]
  },
  {
   "cell_type": "code",
   "execution_count": 4,
   "metadata": {
    "scrolled": false
   },
   "outputs": [
    {
     "name": "stdout",
     "output_type": "stream",
     "text": [
      "Cantidad de datos:  16470\n"
     ]
    },
    {
     "data": {
      "text/html": [
       "<div>\n",
       "<style scoped>\n",
       "    .dataframe tbody tr th:only-of-type {\n",
       "        vertical-align: middle;\n",
       "    }\n",
       "\n",
       "    .dataframe tbody tr th {\n",
       "        vertical-align: top;\n",
       "    }\n",
       "\n",
       "    .dataframe thead th {\n",
       "        text-align: right;\n",
       "    }\n",
       "</style>\n",
       "<table border=\"1\" class=\"dataframe\">\n",
       "  <thead>\n",
       "    <tr style=\"text-align: right;\">\n",
       "      <th></th>\n",
       "      <th>property_type|rent_type|location</th>\n",
       "      <th>price</th>\n",
       "      <th>n_rooms</th>\n",
       "      <th>n_bath</th>\n",
       "      <th>surface</th>\n",
       "      <th>details</th>\n",
       "      <th>url</th>\n",
       "      <th>metrocuadrado_index</th>\n",
       "    </tr>\n",
       "  </thead>\n",
       "  <tbody>\n",
       "    <tr>\n",
       "      <th>0</th>\n",
       "      <td>Casa en Arriendo, LA SOLEDAD NORTE Bogotá D.C..</td>\n",
       "      <td>$1.050.000</td>\n",
       "      <td>3</td>\n",
       "      <td>2</td>\n",
       "      <td>63.0 m2</td>\n",
       "      <td>Excelente casa cerca de la calle 80 y Avenida ...</td>\n",
       "      <td>https://www.metrocuadrado.com/inmueble/arriend...</td>\n",
       "      <td>25.6</td>\n",
       "    </tr>\n",
       "    <tr>\n",
       "      <th>1</th>\n",
       "      <td>Casa en Arriendo, CIUDAD SALITRE SUR-ORIENTAL ...</td>\n",
       "      <td>$3.930.000</td>\n",
       "      <td>3</td>\n",
       "      <td>2</td>\n",
       "      <td>100.0 m2</td>\n",
       "      <td>Se arrienda casa bonita totalmente amoblada co...</td>\n",
       "      <td>https://www.metrocuadrado.com/inmueble/arriend...</td>\n",
       "      <td>57.3</td>\n",
       "    </tr>\n",
       "    <tr>\n",
       "      <th>2</th>\n",
       "      <td>Casa en Arriendo, VILLA DE LOS ALPES II SECTOR...</td>\n",
       "      <td>$750.000</td>\n",
       "      <td>3</td>\n",
       "      <td>1</td>\n",
       "      <td>90.0 m2</td>\n",
       "      <td>CASA DE TRES NIVELES TRES ALCOBAS SALA COMEDOR...</td>\n",
       "      <td>https://www.metrocuadrado.com/inmueble/arriend...</td>\n",
       "      <td>12.2</td>\n",
       "    </tr>\n",
       "  </tbody>\n",
       "</table>\n",
       "</div>"
      ],
      "text/plain": [
       "                    property_type|rent_type|location       price n_rooms  \\\n",
       "0    Casa en Arriendo, LA SOLEDAD NORTE Bogotá D.C..  $1.050.000       3   \n",
       "1  Casa en Arriendo, CIUDAD SALITRE SUR-ORIENTAL ...  $3.930.000       3   \n",
       "2  Casa en Arriendo, VILLA DE LOS ALPES II SECTOR...    $750.000       3   \n",
       "\n",
       "  n_bath   surface                                            details  \\\n",
       "0      2   63.0 m2  Excelente casa cerca de la calle 80 y Avenida ...   \n",
       "1      2  100.0 m2  Se arrienda casa bonita totalmente amoblada co...   \n",
       "2      1   90.0 m2  CASA DE TRES NIVELES TRES ALCOBAS SALA COMEDOR...   \n",
       "\n",
       "                                                 url  metrocuadrado_index  \n",
       "0  https://www.metrocuadrado.com/inmueble/arriend...                 25.6  \n",
       "1  https://www.metrocuadrado.com/inmueble/arriend...                 57.3  \n",
       "2  https://www.metrocuadrado.com/inmueble/arriend...                 12.2  "
      ]
     },
     "execution_count": 4,
     "metadata": {},
     "output_type": "execute_result"
    }
   ],
   "source": [
    "data_all = pd.read_csv(files[0])\n",
    "\n",
    "for file in files:\n",
    "    dato_semanal = pd.read_csv(file)\n",
    "    data_all = data_all.merge(dato_semanal, how = 'outer') \n",
    "    #Se pone 'outer' para hacer la union de todos los dataframes\n",
    "\n",
    "print('Cantidad de datos: ', len(data_all))\n",
    "data_all.head(3)"
   ]
  },
  {
   "cell_type": "code",
   "execution_count": 5,
   "metadata": {},
   "outputs": [
    {
     "name": "stdout",
     "output_type": "stream",
     "text": [
      "Duplicados:  175\n"
     ]
    }
   ],
   "source": [
    "#Se ve si hay duplicados\n",
    "print('Duplicados: ', data_all.duplicated().sum())"
   ]
  },
  {
   "cell_type": "code",
   "execution_count": 6,
   "metadata": {
    "scrolled": true
   },
   "outputs": [
    {
     "name": "stdout",
     "output_type": "stream",
     "text": [
      "Cantidad de datos:  16295\n"
     ]
    }
   ],
   "source": [
    "#Se eliminan las filas duplicadas\n",
    "data_all.drop_duplicates(inplace=True)\n",
    "print('Cantidad de datos: ', len(data_all))"
   ]
  },
  {
   "cell_type": "markdown",
   "metadata": {},
   "source": [
    "Ahora se combinan los archivos furnished"
   ]
  },
  {
   "cell_type": "code",
   "execution_count": 7,
   "metadata": {},
   "outputs": [
    {
     "name": "stdout",
     "output_type": "stream",
     "text": [
      "Cantidad de datos:  2101\n"
     ]
    },
    {
     "data": {
      "text/html": [
       "<div>\n",
       "<style scoped>\n",
       "    .dataframe tbody tr th:only-of-type {\n",
       "        vertical-align: middle;\n",
       "    }\n",
       "\n",
       "    .dataframe tbody tr th {\n",
       "        vertical-align: top;\n",
       "    }\n",
       "\n",
       "    .dataframe thead th {\n",
       "        text-align: right;\n",
       "    }\n",
       "</style>\n",
       "<table border=\"1\" class=\"dataframe\">\n",
       "  <thead>\n",
       "    <tr style=\"text-align: right;\">\n",
       "      <th></th>\n",
       "      <th>property_type|rent_type|location</th>\n",
       "      <th>price</th>\n",
       "      <th>n_rooms</th>\n",
       "      <th>n_bath</th>\n",
       "      <th>surface</th>\n",
       "      <th>details</th>\n",
       "      <th>url</th>\n",
       "      <th>metrocuadrado_index</th>\n",
       "    </tr>\n",
       "  </thead>\n",
       "  <tbody>\n",
       "    <tr>\n",
       "      <th>0</th>\n",
       "      <td>Casa en Arriendo, CIUDAD SALITRE SUR-ORIENTAL ...</td>\n",
       "      <td>$3.930.000</td>\n",
       "      <td>3.0</td>\n",
       "      <td>2.0</td>\n",
       "      <td>100.0 m2</td>\n",
       "      <td>Se arrienda casa bonita totalmente amoblada co...</td>\n",
       "      <td>https://www.metrocuadrado.com/inmueble/arriend...</td>\n",
       "      <td>57.3</td>\n",
       "    </tr>\n",
       "    <tr>\n",
       "      <th>1</th>\n",
       "      <td>Casa en Venta Y Arriendo, BELLAVISTA Bogotá D.C..</td>\n",
       "      <td>$1.300.000</td>\n",
       "      <td>3.0</td>\n",
       "      <td>2.0</td>\n",
       "      <td>72.0 m2</td>\n",
       "      <td>hermosa casa en venta y en arriendo en, mandal...</td>\n",
       "      <td>https://www.metrocuadrado.com/inmueble/venta-c...</td>\n",
       "      <td>41.4</td>\n",
       "    </tr>\n",
       "    <tr>\n",
       "      <th>2</th>\n",
       "      <td>Casa en Arriendo, PORTALES DEL NORTE Bogotá D.C..</td>\n",
       "      <td>$1.800.000</td>\n",
       "      <td>3.0</td>\n",
       "      <td>3.0</td>\n",
       "      <td>76.81 m2</td>\n",
       "      <td>Estrato 4. CASA TRIPLEX!! Exterior . Cuenta co...</td>\n",
       "      <td>https://www.metrocuadrado.com/inmueble/arriend...</td>\n",
       "      <td>41.3</td>\n",
       "    </tr>\n",
       "  </tbody>\n",
       "</table>\n",
       "</div>"
      ],
      "text/plain": [
       "                    property_type|rent_type|location       price  n_rooms  \\\n",
       "0  Casa en Arriendo, CIUDAD SALITRE SUR-ORIENTAL ...  $3.930.000      3.0   \n",
       "1  Casa en Venta Y Arriendo, BELLAVISTA Bogotá D.C..  $1.300.000      3.0   \n",
       "2  Casa en Arriendo, PORTALES DEL NORTE Bogotá D.C..  $1.800.000      3.0   \n",
       "\n",
       "   n_bath   surface                                            details  \\\n",
       "0     2.0  100.0 m2  Se arrienda casa bonita totalmente amoblada co...   \n",
       "1     2.0   72.0 m2  hermosa casa en venta y en arriendo en, mandal...   \n",
       "2     3.0  76.81 m2  Estrato 4. CASA TRIPLEX!! Exterior . Cuenta co...   \n",
       "\n",
       "                                                 url  metrocuadrado_index  \n",
       "0  https://www.metrocuadrado.com/inmueble/arriend...                 57.3  \n",
       "1  https://www.metrocuadrado.com/inmueble/venta-c...                 41.4  \n",
       "2  https://www.metrocuadrado.com/inmueble/arriend...                 41.3  "
      ]
     },
     "execution_count": 7,
     "metadata": {},
     "output_type": "execute_result"
    }
   ],
   "source": [
    "data_furnished = pd.read_csv(files_furnished[0])\n",
    "\n",
    "for file in files_furnished:\n",
    "    dato_semanal = pd.read_csv(file)\n",
    "    data_furnished = data_furnished.merge(dato_semanal, how='outer')\n",
    "\n",
    "print('Cantidad de datos: ', len(data_furnished))\n",
    "data_furnished.head(3)"
   ]
  },
  {
   "cell_type": "code",
   "execution_count": 8,
   "metadata": {},
   "outputs": [
    {
     "name": "stdout",
     "output_type": "stream",
     "text": [
      "Duplicados:  2\n"
     ]
    }
   ],
   "source": [
    "#Se buscan los duplicados y se eliminan\n",
    "print('Duplicados: ', data_furnished.duplicated().sum())"
   ]
  },
  {
   "cell_type": "code",
   "execution_count": 9,
   "metadata": {},
   "outputs": [
    {
     "name": "stdout",
     "output_type": "stream",
     "text": [
      "Cantidad de datos:  2099\n"
     ]
    }
   ],
   "source": [
    "data_furnished.drop_duplicates(inplace=True)\n",
    "\n",
    "print('Cantidad de datos: ', len(data_furnished))\n",
    "#Se observa que son muchos menos los datos de tipo furnished"
   ]
  },
  {
   "cell_type": "markdown",
   "metadata": {},
   "source": [
    "Al intentar combinar ambos dataframes usando `data_all.merge(data_furnished, how='outer')` aparece el error:\n",
    "\n",
    "`ValueError: You are trying to merge on object and float64 columns. If you wish to proceed you should use pd.concat`\n",
    "\n",
    "Por lo que se decide comprobar los tipos de las columnas"
   ]
  },
  {
   "cell_type": "code",
   "execution_count": 10,
   "metadata": {},
   "outputs": [
    {
     "name": "stdout",
     "output_type": "stream",
     "text": [
      "Tipos Data All\n",
      "property_type|rent_type|location     object\n",
      "price                                object\n",
      "n_rooms                              object\n",
      "n_bath                               object\n",
      "surface                              object\n",
      "details                              object\n",
      "url                                  object\n",
      "metrocuadrado_index                 float64\n",
      "dtype: object\n",
      "\n",
      "Tipos Data Furnished\n",
      "property_type|rent_type|location     object\n",
      "price                                object\n",
      "n_rooms                             float64\n",
      "n_bath                              float64\n",
      "surface                              object\n",
      "details                              object\n",
      "url                                  object\n",
      "metrocuadrado_index                 float64\n",
      "dtype: object\n"
     ]
    }
   ],
   "source": [
    "#Se observan las columnas de los dataframe\n",
    "print('Tipos Data All')\n",
    "print(data_all.dtypes)\n",
    "print()\n",
    "print('Tipos Data Furnished')\n",
    "print(data_furnished.dtypes)"
   ]
  },
  {
   "cell_type": "markdown",
   "metadata": {},
   "source": [
    "Se observa que el error se debe a que en `Data All` las columnas `n_rooms` y `n_bath` son de tipo `object`, en cambio en `Data Furnished` son de tipo `float64`.\n",
    "\n",
    "Este problema se resuelve simplemente cambiando el tipo de esas columnas."
   ]
  },
  {
   "cell_type": "code",
   "execution_count": 11,
   "metadata": {},
   "outputs": [],
   "source": [
    "#Se cambian las columnas de 'data_furnished' a object\n",
    "data_furnished = data_furnished.astype({'n_rooms':'object', 'n_bath':'object'})\n",
    "\n",
    "#Obs: No se pueden cambiar las columnas de 'data_all' a float64, pues hay un dato llamado '5+'"
   ]
  },
  {
   "cell_type": "code",
   "execution_count": 153,
   "metadata": {},
   "outputs": [
    {
     "name": "stdout",
     "output_type": "stream",
     "text": [
      "Cantidad de datos:  18394\n"
     ]
    },
    {
     "data": {
      "text/html": [
       "<div>\n",
       "<style scoped>\n",
       "    .dataframe tbody tr th:only-of-type {\n",
       "        vertical-align: middle;\n",
       "    }\n",
       "\n",
       "    .dataframe tbody tr th {\n",
       "        vertical-align: top;\n",
       "    }\n",
       "\n",
       "    .dataframe thead th {\n",
       "        text-align: right;\n",
       "    }\n",
       "</style>\n",
       "<table border=\"1\" class=\"dataframe\">\n",
       "  <thead>\n",
       "    <tr style=\"text-align: right;\">\n",
       "      <th></th>\n",
       "      <th>property_type|rent_type|location</th>\n",
       "      <th>price</th>\n",
       "      <th>n_rooms</th>\n",
       "      <th>n_bath</th>\n",
       "      <th>surface</th>\n",
       "      <th>details</th>\n",
       "      <th>url</th>\n",
       "      <th>metrocuadrado_index</th>\n",
       "      <th>Furnished</th>\n",
       "    </tr>\n",
       "  </thead>\n",
       "  <tbody>\n",
       "    <tr>\n",
       "      <th>0</th>\n",
       "      <td>Casa en Arriendo, LA SOLEDAD NORTE Bogotá D.C..</td>\n",
       "      <td>$1.050.000</td>\n",
       "      <td>3</td>\n",
       "      <td>2</td>\n",
       "      <td>63.0 m2</td>\n",
       "      <td>Excelente casa cerca de la calle 80 y Avenida ...</td>\n",
       "      <td>https://www.metrocuadrado.com/inmueble/arriend...</td>\n",
       "      <td>25.6</td>\n",
       "      <td>left_only</td>\n",
       "    </tr>\n",
       "    <tr>\n",
       "      <th>1</th>\n",
       "      <td>Casa en Arriendo, CIUDAD SALITRE SUR-ORIENTAL ...</td>\n",
       "      <td>$3.930.000</td>\n",
       "      <td>3</td>\n",
       "      <td>2</td>\n",
       "      <td>100.0 m2</td>\n",
       "      <td>Se arrienda casa bonita totalmente amoblada co...</td>\n",
       "      <td>https://www.metrocuadrado.com/inmueble/arriend...</td>\n",
       "      <td>57.3</td>\n",
       "      <td>left_only</td>\n",
       "    </tr>\n",
       "    <tr>\n",
       "      <th>2</th>\n",
       "      <td>Casa en Arriendo, VILLA DE LOS ALPES II SECTOR...</td>\n",
       "      <td>$750.000</td>\n",
       "      <td>3</td>\n",
       "      <td>1</td>\n",
       "      <td>90.0 m2</td>\n",
       "      <td>CASA DE TRES NIVELES TRES ALCOBAS SALA COMEDOR...</td>\n",
       "      <td>https://www.metrocuadrado.com/inmueble/arriend...</td>\n",
       "      <td>12.2</td>\n",
       "      <td>left_only</td>\n",
       "    </tr>\n",
       "  </tbody>\n",
       "</table>\n",
       "</div>"
      ],
      "text/plain": [
       "                    property_type|rent_type|location       price n_rooms  \\\n",
       "0    Casa en Arriendo, LA SOLEDAD NORTE Bogotá D.C..  $1.050.000       3   \n",
       "1  Casa en Arriendo, CIUDAD SALITRE SUR-ORIENTAL ...  $3.930.000       3   \n",
       "2  Casa en Arriendo, VILLA DE LOS ALPES II SECTOR...    $750.000       3   \n",
       "\n",
       "  n_bath   surface                                            details  \\\n",
       "0      2   63.0 m2  Excelente casa cerca de la calle 80 y Avenida ...   \n",
       "1      2  100.0 m2  Se arrienda casa bonita totalmente amoblada co...   \n",
       "2      1   90.0 m2  CASA DE TRES NIVELES TRES ALCOBAS SALA COMEDOR...   \n",
       "\n",
       "                                                 url  metrocuadrado_index  \\\n",
       "0  https://www.metrocuadrado.com/inmueble/arriend...                 25.6   \n",
       "1  https://www.metrocuadrado.com/inmueble/arriend...                 57.3   \n",
       "2  https://www.metrocuadrado.com/inmueble/arriend...                 12.2   \n",
       "\n",
       "   Furnished  \n",
       "0  left_only  \n",
       "1  left_only  \n",
       "2  left_only  "
      ]
     },
     "execution_count": 153,
     "metadata": {},
     "output_type": "execute_result"
    }
   ],
   "source": [
    "#Se combinan los dataframes\n",
    "data = data_all.merge(data_furnished, how='outer', indicator='Furnished')\n",
    "\n",
    "#Se coloca utiliza el parámetro indicator para indicar de que dataframe \n",
    "#proviene cada fila.\n",
    "#left_only indica que viene del dataframe 'data_all'\n",
    "#right_only indica que viene del dataframe 'data_furnished'\n",
    "#y both que proviene de ambos\n",
    "\n",
    "print('Cantidad de datos: ', len(data))\n",
    "data.head(3)"
   ]
  },
  {
   "cell_type": "code",
   "execution_count": 154,
   "metadata": {
    "scrolled": true
   },
   "outputs": [
    {
     "data": {
      "text/html": [
       "<div>\n",
       "<style scoped>\n",
       "    .dataframe tbody tr th:only-of-type {\n",
       "        vertical-align: middle;\n",
       "    }\n",
       "\n",
       "    .dataframe tbody tr th {\n",
       "        vertical-align: top;\n",
       "    }\n",
       "\n",
       "    .dataframe thead th {\n",
       "        text-align: right;\n",
       "    }\n",
       "</style>\n",
       "<table border=\"1\" class=\"dataframe\">\n",
       "  <thead>\n",
       "    <tr style=\"text-align: right;\">\n",
       "      <th></th>\n",
       "      <th>property_type|rent_type|location</th>\n",
       "      <th>price</th>\n",
       "      <th>n_rooms</th>\n",
       "      <th>n_bath</th>\n",
       "      <th>surface</th>\n",
       "      <th>details</th>\n",
       "      <th>url</th>\n",
       "      <th>metrocuadrado_index</th>\n",
       "      <th>Furnished</th>\n",
       "    </tr>\n",
       "  </thead>\n",
       "  <tbody>\n",
       "    <tr>\n",
       "      <th>0</th>\n",
       "      <td>Casa en Arriendo, LA SOLEDAD NORTE Bogotá D.C..</td>\n",
       "      <td>$1.050.000</td>\n",
       "      <td>3</td>\n",
       "      <td>2</td>\n",
       "      <td>63.0 m2</td>\n",
       "      <td>Excelente casa cerca de la calle 80 y Avenida ...</td>\n",
       "      <td>https://www.metrocuadrado.com/inmueble/arriend...</td>\n",
       "      <td>25.6</td>\n",
       "      <td>No</td>\n",
       "    </tr>\n",
       "    <tr>\n",
       "      <th>1</th>\n",
       "      <td>Casa en Arriendo, CIUDAD SALITRE SUR-ORIENTAL ...</td>\n",
       "      <td>$3.930.000</td>\n",
       "      <td>3</td>\n",
       "      <td>2</td>\n",
       "      <td>100.0 m2</td>\n",
       "      <td>Se arrienda casa bonita totalmente amoblada co...</td>\n",
       "      <td>https://www.metrocuadrado.com/inmueble/arriend...</td>\n",
       "      <td>57.3</td>\n",
       "      <td>No</td>\n",
       "    </tr>\n",
       "    <tr>\n",
       "      <th>2</th>\n",
       "      <td>Casa en Arriendo, VILLA DE LOS ALPES II SECTOR...</td>\n",
       "      <td>$750.000</td>\n",
       "      <td>3</td>\n",
       "      <td>1</td>\n",
       "      <td>90.0 m2</td>\n",
       "      <td>CASA DE TRES NIVELES TRES ALCOBAS SALA COMEDOR...</td>\n",
       "      <td>https://www.metrocuadrado.com/inmueble/arriend...</td>\n",
       "      <td>12.2</td>\n",
       "      <td>No</td>\n",
       "    </tr>\n",
       "  </tbody>\n",
       "</table>\n",
       "</div>"
      ],
      "text/plain": [
       "                    property_type|rent_type|location       price n_rooms  \\\n",
       "0    Casa en Arriendo, LA SOLEDAD NORTE Bogotá D.C..  $1.050.000       3   \n",
       "1  Casa en Arriendo, CIUDAD SALITRE SUR-ORIENTAL ...  $3.930.000       3   \n",
       "2  Casa en Arriendo, VILLA DE LOS ALPES II SECTOR...    $750.000       3   \n",
       "\n",
       "  n_bath   surface                                            details  \\\n",
       "0      2   63.0 m2  Excelente casa cerca de la calle 80 y Avenida ...   \n",
       "1      2  100.0 m2  Se arrienda casa bonita totalmente amoblada co...   \n",
       "2      1   90.0 m2  CASA DE TRES NIVELES TRES ALCOBAS SALA COMEDOR...   \n",
       "\n",
       "                                                 url  metrocuadrado_index  \\\n",
       "0  https://www.metrocuadrado.com/inmueble/arriend...                 25.6   \n",
       "1  https://www.metrocuadrado.com/inmueble/arriend...                 57.3   \n",
       "2  https://www.metrocuadrado.com/inmueble/arriend...                 12.2   \n",
       "\n",
       "  Furnished  \n",
       "0        No  \n",
       "1        No  \n",
       "2        No  "
      ]
     },
     "execution_count": 154,
     "metadata": {},
     "output_type": "execute_result"
    }
   ],
   "source": [
    "data['Furnished'].replace({'left_only':'No', 'right_only':'Si', 'both':'Ambos'}, inplace=True)\n",
    "\n",
    "#Se cambian los nombres para indicar más claramente si provienen de furnished o no\n",
    "data.head(3)"
   ]
  },
  {
   "cell_type": "code",
   "execution_count": 155,
   "metadata": {},
   "outputs": [
    {
     "data": {
      "text/plain": [
       "No    16295\n",
       "Si     2099\n",
       "Name: Furnished, dtype: int64"
      ]
     },
     "execution_count": 155,
     "metadata": {},
     "output_type": "execute_result"
    }
   ],
   "source": [
    "#Se cuentan la cantidad de cada valores de cada tipo\n",
    "data['Furnished'].value_counts()"
   ]
  },
  {
   "cell_type": "markdown",
   "metadata": {},
   "source": [
    "Como se observa no hay elementos comunes entre ambos grupos, son disjuntos. No hay archivos con texto 'furnished' que no estén contenidos en archivos con texto 'all'."
   ]
  },
  {
   "cell_type": "code",
   "execution_count": 156,
   "metadata": {},
   "outputs": [
    {
     "data": {
      "text/html": [
       "<div>\n",
       "<style scoped>\n",
       "    .dataframe tbody tr th:only-of-type {\n",
       "        vertical-align: middle;\n",
       "    }\n",
       "\n",
       "    .dataframe tbody tr th {\n",
       "        vertical-align: top;\n",
       "    }\n",
       "\n",
       "    .dataframe thead th {\n",
       "        text-align: right;\n",
       "    }\n",
       "</style>\n",
       "<table border=\"1\" class=\"dataframe\">\n",
       "  <thead>\n",
       "    <tr style=\"text-align: right;\">\n",
       "      <th></th>\n",
       "      <th>property_type|rent_type|location</th>\n",
       "      <th>price</th>\n",
       "      <th>n_rooms</th>\n",
       "      <th>n_bath</th>\n",
       "      <th>surface</th>\n",
       "      <th>details</th>\n",
       "      <th>url</th>\n",
       "      <th>metrocuadrado_index</th>\n",
       "    </tr>\n",
       "  </thead>\n",
       "  <tbody>\n",
       "  </tbody>\n",
       "</table>\n",
       "</div>"
      ],
      "text/plain": [
       "Empty DataFrame\n",
       "Columns: [property_type|rent_type|location, price, n_rooms, n_bath, surface, details, url, metrocuadrado_index]\n",
       "Index: []"
      ]
     },
     "execution_count": 156,
     "metadata": {},
     "output_type": "execute_result"
    }
   ],
   "source": [
    "#Esto se comprueba tambien haciendo una intersección entre los dataframes\n",
    "#mediante el argumento 'inner'\n",
    "pd.merge(data_all, data_furnished, how='inner')\n",
    "\n",
    "#Se observa que el resultado es un dataframe vacío"
   ]
  },
  {
   "cell_type": "markdown",
   "metadata": {},
   "source": [
    "### Parte 2"
   ]
  },
  {
   "cell_type": "markdown",
   "metadata": {},
   "source": [
    "#### A"
   ]
  },
  {
   "cell_type": "markdown",
   "metadata": {},
   "source": [
    "Primero se limpia el precio"
   ]
  },
  {
   "cell_type": "code",
   "execution_count": 157,
   "metadata": {},
   "outputs": [
    {
     "data": {
      "text/plain": [
       "0    $1.050.000\n",
       "1    $3.930.000\n",
       "2      $750.000\n",
       "Name: price, dtype: object"
      ]
     },
     "execution_count": 157,
     "metadata": {},
     "output_type": "execute_result"
    }
   ],
   "source": [
    "data['price'].head(3)"
   ]
  },
  {
   "cell_type": "markdown",
   "metadata": {},
   "source": [
    "Se observa que son de tipo `object`, pues el precio contiene el signo peso '$' y los puntos. Convendría eliminar este signo y los puntos para poder pasar los datos a `float64`."
   ]
  },
  {
   "cell_type": "code",
   "execution_count": 158,
   "metadata": {},
   "outputs": [
    {
     "data": {
      "text/plain": [
       "0    1050000\n",
       "1    3930000\n",
       "2     750000\n",
       "Name: price, dtype: object"
      ]
     },
     "execution_count": 158,
     "metadata": {},
     "output_type": "execute_result"
    }
   ],
   "source": [
    "data['price'] = data['price'].str.replace('$','')\n",
    "data['price'] = data['price'].str.replace('.','')\n",
    "data['price'].head(3)"
   ]
  },
  {
   "cell_type": "code",
   "execution_count": 159,
   "metadata": {},
   "outputs": [
    {
     "data": {
      "text/plain": [
       "0    1050000.0\n",
       "1    3930000.0\n",
       "2     750000.0\n",
       "Name: price, dtype: float64"
      ]
     },
     "execution_count": 159,
     "metadata": {},
     "output_type": "execute_result"
    }
   ],
   "source": [
    "#Se cambia el tipo a float64\n",
    "data['price'] = data['price'].astype('float')\n",
    "data['price'].head(3)"
   ]
  },
  {
   "cell_type": "markdown",
   "metadata": {},
   "source": [
    "Ahora se limpia el área"
   ]
  },
  {
   "cell_type": "code",
   "execution_count": 160,
   "metadata": {},
   "outputs": [
    {
     "data": {
      "text/plain": [
       "18390    164.34 m2\n",
       "18391     110.0 m2\n",
       "18392     106.0 m2\n",
       "18393     135.0 m2\n",
       "Name: surface, dtype: object"
      ]
     },
     "execution_count": 160,
     "metadata": {},
     "output_type": "execute_result"
    }
   ],
   "source": [
    "data['surface'].tail(4)"
   ]
  },
  {
   "cell_type": "markdown",
   "metadata": {},
   "source": [
    "Se deben eliminar los carácteres ' m2' al final del número, y luego cambiar el tipo a `float`."
   ]
  },
  {
   "cell_type": "code",
   "execution_count": 161,
   "metadata": {},
   "outputs": [
    {
     "data": {
      "text/plain": [
       "18390    164.34\n",
       "18391    110.00\n",
       "18392    106.00\n",
       "18393    135.00\n",
       "Name: surface, dtype: float64"
      ]
     },
     "execution_count": 161,
     "metadata": {},
     "output_type": "execute_result"
    }
   ],
   "source": [
    "data['surface'] = data['surface'].str.replace(' m2','')\n",
    "data['surface'] = data['surface'].astype('float')\n",
    "data['surface'].tail(4)"
   ]
  },
  {
   "cell_type": "markdown",
   "metadata": {},
   "source": [
    "Ahora se limpia el número de habitaciones"
   ]
  },
  {
   "cell_type": "code",
   "execution_count": 162,
   "metadata": {},
   "outputs": [
    {
     "data": {
      "text/plain": [
       "0    3\n",
       "1    3\n",
       "2    3\n",
       "Name: n_rooms, dtype: object"
      ]
     },
     "execution_count": 162,
     "metadata": {},
     "output_type": "execute_result"
    }
   ],
   "source": [
    "data['n_rooms'].head(3)"
   ]
  },
  {
   "cell_type": "markdown",
   "metadata": {},
   "source": [
    "Parece que fueran números enteros, pero el tipo de la columna es object"
   ]
  },
  {
   "cell_type": "code",
   "execution_count": 163,
   "metadata": {},
   "outputs": [
    {
     "data": {
      "text/plain": [
       "array(['3', '5', '4', '2', '1', nan, '5+', 3.0, 5.0, 4.0, 2.0, 1.0],\n",
       "      dtype=object)"
      ]
     },
     "execution_count": 163,
     "metadata": {},
     "output_type": "execute_result"
    }
   ],
   "source": [
    "#Se ven los valores de la columna\n",
    "data['n_rooms'].unique()"
   ]
  },
  {
   "cell_type": "markdown",
   "metadata": {},
   "source": [
    "Se observa que la columna tiene valores de tipo string y float. Más aún se ve que se podría cambiar inmediatamente el tipo a `float` sino existiera el valor `5+`."
   ]
  },
  {
   "cell_type": "code",
   "execution_count": 164,
   "metadata": {},
   "outputs": [
    {
     "data": {
      "text/plain": [
       "2      6571\n",
       "1      6271\n",
       "3      1351\n",
       "4      1198\n",
       "1.0    1040\n",
       "2.0     938\n",
       "5       862\n",
       "3.0      52\n",
       "5.0      36\n",
       "4.0      32\n",
       "5+        9\n",
       "Name: n_rooms, dtype: int64"
      ]
     },
     "execution_count": 164,
     "metadata": {},
     "output_type": "execute_result"
    }
   ],
   "source": [
    "#Se cuenta cuantas entradas hay de cada valor\n",
    "data['n_rooms'].value_counts()"
   ]
  },
  {
   "cell_type": "markdown",
   "metadata": {},
   "source": [
    "Se ve que solo son 9 las entradas con valor `5+`, por lo que es una parte infima del total del dataset que es de $18394$ entradas, simplemente se podrían eliminar. Pero como no se desea botar datos, se cambiará el valor `5+` por $6$, dado que es el entero mayor a 5 más cercano."
   ]
  },
  {
   "cell_type": "code",
   "execution_count": 165,
   "metadata": {},
   "outputs": [
    {
     "data": {
      "text/plain": [
       "array(['3', '5', '4', '2', '1', nan, 6, 3.0, 5.0, 4.0, 2.0, 1.0],\n",
       "      dtype=object)"
      ]
     },
     "execution_count": 165,
     "metadata": {},
     "output_type": "execute_result"
    }
   ],
   "source": [
    "data['n_rooms'] = data['n_rooms'].replace('5+',6)\n",
    "#Se reemplazan el valor que daba problemas, y se muestran los valores de las entradas\n",
    "data['n_rooms'].unique()"
   ]
  },
  {
   "cell_type": "code",
   "execution_count": 166,
   "metadata": {},
   "outputs": [
    {
     "data": {
      "text/plain": [
       "0    3.0\n",
       "1    3.0\n",
       "2    3.0\n",
       "Name: n_rooms, dtype: float64"
      ]
     },
     "execution_count": 166,
     "metadata": {},
     "output_type": "execute_result"
    }
   ],
   "source": [
    "#Como esta correcto, se puede cambiar el tipo de la columna\n",
    "data['n_rooms'] = data['n_rooms'].astype('float')\n",
    "data['n_rooms'].head(3)"
   ]
  },
  {
   "cell_type": "markdown",
   "metadata": {},
   "source": [
    "Por último se limpia el número de baños"
   ]
  },
  {
   "cell_type": "code",
   "execution_count": 167,
   "metadata": {},
   "outputs": [
    {
     "data": {
      "text/plain": [
       "18391    3\n",
       "18392    3\n",
       "18393    2\n",
       "Name: n_bath, dtype: object"
      ]
     },
     "execution_count": 167,
     "metadata": {},
     "output_type": "execute_result"
    }
   ],
   "source": [
    "data['n_bath'].tail(3)"
   ]
  },
  {
   "cell_type": "markdown",
   "metadata": {},
   "source": [
    "Nuevamente parecen ser enteros, pero el tipo es object"
   ]
  },
  {
   "cell_type": "code",
   "execution_count": 168,
   "metadata": {},
   "outputs": [
    {
     "data": {
      "text/plain": [
       "array(['2', '1', '4', '3', nan, '5', '5+', 2.0, 3.0, 4.0, 5.0, 1.0],\n",
       "      dtype=object)"
      ]
     },
     "execution_count": 168,
     "metadata": {},
     "output_type": "execute_result"
    }
   ],
   "source": [
    "#Se ven los valores de la columna\n",
    "data['n_bath'].unique()"
   ]
  },
  {
   "cell_type": "markdown",
   "metadata": {},
   "source": [
    "Nuevamente el error viene dado por `5+`, por lo que se procede de igual manera que en `n_rooms`."
   ]
  },
  {
   "cell_type": "code",
   "execution_count": 169,
   "metadata": {},
   "outputs": [
    {
     "data": {
      "text/plain": [
       "0    2.0\n",
       "1    2.0\n",
       "2    1.0\n",
       "Name: n_bath, dtype: float64"
      ]
     },
     "execution_count": 169,
     "metadata": {},
     "output_type": "execute_result"
    }
   ],
   "source": [
    "data['n_bath'] = data['n_bath'].replace('5+',6) #Se reemplazan '5+' por 6\n",
    "data['n_bath'] = data['n_bath'].astype('float') #Se cambia el tipo a float\n",
    "data['n_bath'].head(3)"
   ]
  },
  {
   "cell_type": "markdown",
   "metadata": {},
   "source": [
    "Finalmente se muestran nuevamente los tipos de las columnas"
   ]
  },
  {
   "cell_type": "code",
   "execution_count": 170,
   "metadata": {},
   "outputs": [
    {
     "data": {
      "text/plain": [
       "property_type|rent_type|location     object\n",
       "price                               float64\n",
       "n_rooms                             float64\n",
       "n_bath                              float64\n",
       "surface                             float64\n",
       "details                              object\n",
       "url                                  object\n",
       "metrocuadrado_index                 float64\n",
       "Furnished                            object\n",
       "dtype: object"
      ]
     },
     "execution_count": 170,
     "metadata": {},
     "output_type": "execute_result"
    }
   ],
   "source": [
    "data.dtypes"
   ]
  },
  {
   "cell_type": "markdown",
   "metadata": {},
   "source": [
    "#### B"
   ]
  },
  {
   "cell_type": "markdown",
   "metadata": {},
   "source": [
    "Se debe dividir la columna `property_type|rent_type|location` en 3 columnas distintas."
   ]
  },
  {
   "cell_type": "code",
   "execution_count": 171,
   "metadata": {},
   "outputs": [],
   "source": [
    "#Se hace una copia de la data por si se realiza un error\n",
    "copia_seguridad = data.copy()"
   ]
  },
  {
   "cell_type": "code",
   "execution_count": 151,
   "metadata": {},
   "outputs": [],
   "source": [
    "#Cuando algo salga mal correr esta celda\n",
    "data = copia_seguridad.copy()"
   ]
  },
  {
   "cell_type": "code",
   "execution_count": 172,
   "metadata": {},
   "outputs": [
    {
     "data": {
      "text/plain": [
       "0          Casa en Arriendo, LA SOLEDAD NORTE Bogotá D.C..\n",
       "1        Casa en Arriendo, CIUDAD SALITRE SUR-ORIENTAL ...\n",
       "2        Casa en Arriendo, VILLA DE LOS ALPES II SECTOR...\n",
       "3              Casa en Arriendo, PARIS GAITAN Bogotá D.C..\n",
       "4        Casa en Arriendo, BALCONES DE ORIENTE Bogotá D...\n",
       "                               ...                        \n",
       "18389    Apartamento en Arriendo, CHICO NORTE Bogotá D.C..\n",
       "18390    Apartamento en Arriendo, CHICO NORTE II Bogotá...\n",
       "18391    Apartamento en Venta Y Arriendo, CHICO NORTE B...\n",
       "18392    Apartamento en Arriendo, MOLINOS NORTE Bogotá ...\n",
       "18393       Apartamento en Arriendo, EL NOGAL Bogotá D.C..\n",
       "Name: property_type|rent_type|location, Length: 18394, dtype: object"
      ]
     },
     "execution_count": 172,
     "metadata": {},
     "output_type": "execute_result"
    }
   ],
   "source": [
    "#Se muestran unos pocos datos de esta columna\n",
    "data['property_type|rent_type|location']"
   ]
  },
  {
   "cell_type": "markdown",
   "metadata": {},
   "source": [
    "Se pueden deducir varias cosas:\n",
    "1. El tipo de propiedad es la primera palabra del string.\n",
    "2. El tipo de renta aparece después de la palabra 'en' y un espacio ' '.\n",
    "3. El lugar esta después de la coma."
   ]
  },
  {
   "cell_type": "markdown",
   "metadata": {},
   "source": [
    "En primer lugar se decide dividir el string en dos partes separadas por la coma."
   ]
  },
  {
   "cell_type": "code",
   "execution_count": 173,
   "metadata": {},
   "outputs": [
    {
     "data": {
      "text/html": [
       "<div>\n",
       "<style scoped>\n",
       "    .dataframe tbody tr th:only-of-type {\n",
       "        vertical-align: middle;\n",
       "    }\n",
       "\n",
       "    .dataframe tbody tr th {\n",
       "        vertical-align: top;\n",
       "    }\n",
       "\n",
       "    .dataframe thead th {\n",
       "        text-align: right;\n",
       "    }\n",
       "</style>\n",
       "<table border=\"1\" class=\"dataframe\">\n",
       "  <thead>\n",
       "    <tr style=\"text-align: right;\">\n",
       "      <th></th>\n",
       "      <th>0</th>\n",
       "      <th>1</th>\n",
       "    </tr>\n",
       "  </thead>\n",
       "  <tbody>\n",
       "    <tr>\n",
       "      <th>0</th>\n",
       "      <td>Casa en Arriendo</td>\n",
       "      <td>LA SOLEDAD NORTE Bogotá D.C..</td>\n",
       "    </tr>\n",
       "    <tr>\n",
       "      <th>1</th>\n",
       "      <td>Casa en Arriendo</td>\n",
       "      <td>CIUDAD SALITRE SUR-ORIENTAL Bogotá D.C..</td>\n",
       "    </tr>\n",
       "    <tr>\n",
       "      <th>2</th>\n",
       "      <td>Casa en Arriendo</td>\n",
       "      <td>VILLA DE LOS ALPES II SECTOR Bogotá D.C..</td>\n",
       "    </tr>\n",
       "  </tbody>\n",
       "</table>\n",
       "</div>"
      ],
      "text/plain": [
       "                  0                                           1\n",
       "0  Casa en Arriendo               LA SOLEDAD NORTE Bogotá D.C..\n",
       "1  Casa en Arriendo    CIUDAD SALITRE SUR-ORIENTAL Bogotá D.C..\n",
       "2  Casa en Arriendo   VILLA DE LOS ALPES II SECTOR Bogotá D.C.."
      ]
     },
     "execution_count": 173,
     "metadata": {},
     "output_type": "execute_result"
    }
   ],
   "source": [
    "new_columns = data['property_type|rent_type|location'].str.split(pat=',', expand=True)\n",
    "new_columns.head(3)"
   ]
  },
  {
   "cell_type": "code",
   "execution_count": 174,
   "metadata": {},
   "outputs": [
    {
     "data": {
      "text/html": [
       "<div>\n",
       "<style scoped>\n",
       "    .dataframe tbody tr th:only-of-type {\n",
       "        vertical-align: middle;\n",
       "    }\n",
       "\n",
       "    .dataframe tbody tr th {\n",
       "        vertical-align: top;\n",
       "    }\n",
       "\n",
       "    .dataframe thead th {\n",
       "        text-align: right;\n",
       "    }\n",
       "</style>\n",
       "<table border=\"1\" class=\"dataframe\">\n",
       "  <thead>\n",
       "    <tr style=\"text-align: right;\">\n",
       "      <th></th>\n",
       "      <th>price</th>\n",
       "      <th>n_rooms</th>\n",
       "      <th>n_bath</th>\n",
       "      <th>surface</th>\n",
       "      <th>details</th>\n",
       "      <th>url</th>\n",
       "      <th>metrocuadrado_index</th>\n",
       "      <th>Furnished</th>\n",
       "      <th>property_type|rent_type</th>\n",
       "      <th>location</th>\n",
       "    </tr>\n",
       "  </thead>\n",
       "  <tbody>\n",
       "    <tr>\n",
       "      <th>0</th>\n",
       "      <td>1050000.0</td>\n",
       "      <td>3.0</td>\n",
       "      <td>2.0</td>\n",
       "      <td>63.0</td>\n",
       "      <td>Excelente casa cerca de la calle 80 y Avenida ...</td>\n",
       "      <td>https://www.metrocuadrado.com/inmueble/arriend...</td>\n",
       "      <td>25.6</td>\n",
       "      <td>No</td>\n",
       "      <td>Casa en Arriendo</td>\n",
       "      <td>LA SOLEDAD NORTE Bogotá D.C..</td>\n",
       "    </tr>\n",
       "    <tr>\n",
       "      <th>1</th>\n",
       "      <td>3930000.0</td>\n",
       "      <td>3.0</td>\n",
       "      <td>2.0</td>\n",
       "      <td>100.0</td>\n",
       "      <td>Se arrienda casa bonita totalmente amoblada co...</td>\n",
       "      <td>https://www.metrocuadrado.com/inmueble/arriend...</td>\n",
       "      <td>57.3</td>\n",
       "      <td>No</td>\n",
       "      <td>Casa en Arriendo</td>\n",
       "      <td>CIUDAD SALITRE SUR-ORIENTAL Bogotá D.C..</td>\n",
       "    </tr>\n",
       "    <tr>\n",
       "      <th>2</th>\n",
       "      <td>750000.0</td>\n",
       "      <td>3.0</td>\n",
       "      <td>1.0</td>\n",
       "      <td>90.0</td>\n",
       "      <td>CASA DE TRES NIVELES TRES ALCOBAS SALA COMEDOR...</td>\n",
       "      <td>https://www.metrocuadrado.com/inmueble/arriend...</td>\n",
       "      <td>12.2</td>\n",
       "      <td>No</td>\n",
       "      <td>Casa en Arriendo</td>\n",
       "      <td>VILLA DE LOS ALPES II SECTOR Bogotá D.C..</td>\n",
       "    </tr>\n",
       "  </tbody>\n",
       "</table>\n",
       "</div>"
      ],
      "text/plain": [
       "       price  n_rooms  n_bath  surface  \\\n",
       "0  1050000.0      3.0     2.0     63.0   \n",
       "1  3930000.0      3.0     2.0    100.0   \n",
       "2   750000.0      3.0     1.0     90.0   \n",
       "\n",
       "                                             details  \\\n",
       "0  Excelente casa cerca de la calle 80 y Avenida ...   \n",
       "1  Se arrienda casa bonita totalmente amoblada co...   \n",
       "2  CASA DE TRES NIVELES TRES ALCOBAS SALA COMEDOR...   \n",
       "\n",
       "                                                 url  metrocuadrado_index  \\\n",
       "0  https://www.metrocuadrado.com/inmueble/arriend...                 25.6   \n",
       "1  https://www.metrocuadrado.com/inmueble/arriend...                 57.3   \n",
       "2  https://www.metrocuadrado.com/inmueble/arriend...                 12.2   \n",
       "\n",
       "  Furnished property_type|rent_type  \\\n",
       "0        No        Casa en Arriendo   \n",
       "1        No        Casa en Arriendo   \n",
       "2        No        Casa en Arriendo   \n",
       "\n",
       "                                     location  \n",
       "0               LA SOLEDAD NORTE Bogotá D.C..  \n",
       "1    CIUDAD SALITRE SUR-ORIENTAL Bogotá D.C..  \n",
       "2   VILLA DE LOS ALPES II SECTOR Bogotá D.C..  "
      ]
     },
     "execution_count": 174,
     "metadata": {},
     "output_type": "execute_result"
    }
   ],
   "source": [
    "#Se insertan las columnas en la data \n",
    "data[['property_type|rent_type', 'location']] = new_columns\n",
    "\n",
    "#Se elimina la columna original\n",
    "data.drop('property_type|rent_type|location', axis=1, inplace=True)\n",
    "\n",
    "data.head(3)"
   ]
  },
  {
   "cell_type": "markdown",
   "metadata": {},
   "source": [
    "Ahora se divide la columna `property_type|rent_type` en dos columnas más."
   ]
  },
  {
   "cell_type": "code",
   "execution_count": 175,
   "metadata": {},
   "outputs": [
    {
     "data": {
      "text/html": [
       "<div>\n",
       "<style scoped>\n",
       "    .dataframe tbody tr th:only-of-type {\n",
       "        vertical-align: middle;\n",
       "    }\n",
       "\n",
       "    .dataframe tbody tr th {\n",
       "        vertical-align: top;\n",
       "    }\n",
       "\n",
       "    .dataframe thead th {\n",
       "        text-align: right;\n",
       "    }\n",
       "</style>\n",
       "<table border=\"1\" class=\"dataframe\">\n",
       "  <thead>\n",
       "    <tr style=\"text-align: right;\">\n",
       "      <th></th>\n",
       "      <th>0</th>\n",
       "      <th>1</th>\n",
       "    </tr>\n",
       "  </thead>\n",
       "  <tbody>\n",
       "    <tr>\n",
       "      <th>0</th>\n",
       "      <td>Casa</td>\n",
       "      <td>Arriendo</td>\n",
       "    </tr>\n",
       "    <tr>\n",
       "      <th>1</th>\n",
       "      <td>Casa</td>\n",
       "      <td>Arriendo</td>\n",
       "    </tr>\n",
       "    <tr>\n",
       "      <th>2</th>\n",
       "      <td>Casa</td>\n",
       "      <td>Arriendo</td>\n",
       "    </tr>\n",
       "  </tbody>\n",
       "</table>\n",
       "</div>"
      ],
      "text/plain": [
       "       0         1\n",
       "0  Casa   Arriendo\n",
       "1  Casa   Arriendo\n",
       "2  Casa   Arriendo"
      ]
     },
     "execution_count": 175,
     "metadata": {},
     "output_type": "execute_result"
    }
   ],
   "source": [
    "new_columns = data['property_type|rent_type'].str.split(pat='en ', expand=True)\n",
    "new_columns.head(3)"
   ]
  },
  {
   "cell_type": "code",
   "execution_count": 176,
   "metadata": {},
   "outputs": [
    {
     "data": {
      "text/html": [
       "<div>\n",
       "<style scoped>\n",
       "    .dataframe tbody tr th:only-of-type {\n",
       "        vertical-align: middle;\n",
       "    }\n",
       "\n",
       "    .dataframe tbody tr th {\n",
       "        vertical-align: top;\n",
       "    }\n",
       "\n",
       "    .dataframe thead th {\n",
       "        text-align: right;\n",
       "    }\n",
       "</style>\n",
       "<table border=\"1\" class=\"dataframe\">\n",
       "  <thead>\n",
       "    <tr style=\"text-align: right;\">\n",
       "      <th></th>\n",
       "      <th>price</th>\n",
       "      <th>n_rooms</th>\n",
       "      <th>n_bath</th>\n",
       "      <th>surface</th>\n",
       "      <th>details</th>\n",
       "      <th>url</th>\n",
       "      <th>metrocuadrado_index</th>\n",
       "      <th>Furnished</th>\n",
       "      <th>location</th>\n",
       "      <th>property</th>\n",
       "      <th>rent</th>\n",
       "    </tr>\n",
       "  </thead>\n",
       "  <tbody>\n",
       "    <tr>\n",
       "      <th>0</th>\n",
       "      <td>1050000.0</td>\n",
       "      <td>3.0</td>\n",
       "      <td>2.0</td>\n",
       "      <td>63.0</td>\n",
       "      <td>Excelente casa cerca de la calle 80 y Avenida ...</td>\n",
       "      <td>https://www.metrocuadrado.com/inmueble/arriend...</td>\n",
       "      <td>25.6</td>\n",
       "      <td>No</td>\n",
       "      <td>LA SOLEDAD NORTE Bogotá D.C..</td>\n",
       "      <td>Casa</td>\n",
       "      <td>Arriendo</td>\n",
       "    </tr>\n",
       "    <tr>\n",
       "      <th>1</th>\n",
       "      <td>3930000.0</td>\n",
       "      <td>3.0</td>\n",
       "      <td>2.0</td>\n",
       "      <td>100.0</td>\n",
       "      <td>Se arrienda casa bonita totalmente amoblada co...</td>\n",
       "      <td>https://www.metrocuadrado.com/inmueble/arriend...</td>\n",
       "      <td>57.3</td>\n",
       "      <td>No</td>\n",
       "      <td>CIUDAD SALITRE SUR-ORIENTAL Bogotá D.C..</td>\n",
       "      <td>Casa</td>\n",
       "      <td>Arriendo</td>\n",
       "    </tr>\n",
       "    <tr>\n",
       "      <th>2</th>\n",
       "      <td>750000.0</td>\n",
       "      <td>3.0</td>\n",
       "      <td>1.0</td>\n",
       "      <td>90.0</td>\n",
       "      <td>CASA DE TRES NIVELES TRES ALCOBAS SALA COMEDOR...</td>\n",
       "      <td>https://www.metrocuadrado.com/inmueble/arriend...</td>\n",
       "      <td>12.2</td>\n",
       "      <td>No</td>\n",
       "      <td>VILLA DE LOS ALPES II SECTOR Bogotá D.C..</td>\n",
       "      <td>Casa</td>\n",
       "      <td>Arriendo</td>\n",
       "    </tr>\n",
       "  </tbody>\n",
       "</table>\n",
       "</div>"
      ],
      "text/plain": [
       "       price  n_rooms  n_bath  surface  \\\n",
       "0  1050000.0      3.0     2.0     63.0   \n",
       "1  3930000.0      3.0     2.0    100.0   \n",
       "2   750000.0      3.0     1.0     90.0   \n",
       "\n",
       "                                             details  \\\n",
       "0  Excelente casa cerca de la calle 80 y Avenida ...   \n",
       "1  Se arrienda casa bonita totalmente amoblada co...   \n",
       "2  CASA DE TRES NIVELES TRES ALCOBAS SALA COMEDOR...   \n",
       "\n",
       "                                                 url  metrocuadrado_index  \\\n",
       "0  https://www.metrocuadrado.com/inmueble/arriend...                 25.6   \n",
       "1  https://www.metrocuadrado.com/inmueble/arriend...                 57.3   \n",
       "2  https://www.metrocuadrado.com/inmueble/arriend...                 12.2   \n",
       "\n",
       "  Furnished                                    location property      rent  \n",
       "0        No               LA SOLEDAD NORTE Bogotá D.C..    Casa   Arriendo  \n",
       "1        No    CIUDAD SALITRE SUR-ORIENTAL Bogotá D.C..    Casa   Arriendo  \n",
       "2        No   VILLA DE LOS ALPES II SECTOR Bogotá D.C..    Casa   Arriendo  "
      ]
     },
     "execution_count": 176,
     "metadata": {},
     "output_type": "execute_result"
    }
   ],
   "source": [
    "#Se insertan las columnas en la data y se elimina la columna original\n",
    "data[['property','rent']] = new_columns\n",
    "data.drop('property_type|rent_type', axis=1, inplace=True)\n",
    "data.head(3)"
   ]
  },
  {
   "cell_type": "markdown",
   "metadata": {},
   "source": [
    "Por último se revisa que no hayan espacios vacíos al inicio o final de las nuevas columnas."
   ]
  },
  {
   "cell_type": "code",
   "execution_count": 178,
   "metadata": {
    "scrolled": true
   },
   "outputs": [
    {
     "name": "stdout",
     "output_type": "stream",
     "text": [
      " LA SOLEDAD NORTE Bogotá D.C..\n",
      "Casa \n",
      "Arriendo\n"
     ]
    }
   ],
   "source": [
    "print(data['location'][0])\n",
    "print(data['property'][0])\n",
    "print(data['rent'][0])"
   ]
  },
  {
   "cell_type": "markdown",
   "metadata": {},
   "source": [
    "Tanto location como property tienen espacios, por lo que se utiliza strip para eliminarlos."
   ]
  },
  {
   "cell_type": "code",
   "execution_count": 182,
   "metadata": {},
   "outputs": [],
   "source": [
    "data['location'] = data['location'].str.strip()\n",
    "data['property'] = data['property'].str.strip()"
   ]
  },
  {
   "cell_type": "markdown",
   "metadata": {},
   "source": [
    "### Parte 3"
   ]
  },
  {
   "cell_type": "markdown",
   "metadata": {},
   "source": []
  },
  {
   "cell_type": "markdown",
   "metadata": {},
   "source": [
    "### Parte 4"
   ]
  },
  {
   "cell_type": "markdown",
   "metadata": {},
   "source": [
    "### Parte 5"
   ]
  },
  {
   "cell_type": "markdown",
   "metadata": {},
   "source": [
    "### Parte 6"
   ]
  },
  {
   "cell_type": "markdown",
   "metadata": {},
   "source": [
    "## P2"
   ]
  },
  {
   "cell_type": "code",
   "execution_count": null,
   "metadata": {},
   "outputs": [],
   "source": []
  },
  {
   "cell_type": "markdown",
   "metadata": {},
   "source": [
    "# P3 "
   ]
  },
  {
   "cell_type": "markdown",
   "metadata": {},
   "source": [
    "## Implementación"
   ]
  },
  {
   "cell_type": "markdown",
   "metadata": {},
   "source": [
    "### Parte 1"
   ]
  },
  {
   "cell_type": "code",
   "execution_count": 79,
   "metadata": {},
   "outputs": [],
   "source": [
    "from sklearn.base import BaseEstimator as BE\n",
    "from sklearn.base import RegressorMixin as RM\n",
    "import numpy as np\n",
    "\n",
    "class RegresionBayesianaEmpirica(BE,RM):\n",
    "    \n",
    "    def __init__(self,alpha_0,beta_0,tol=10**(-5),maxiter=200):\n",
    "        self.__alpha = alpha_0\n",
    "        self.__beta = beta_0\n",
    "        self.__tol = tol\n",
    "        self.__maxiter = maxiter\n",
    "        \n",
    "    def get_posteriori(self,X,y,alpha,beta):\n",
    "        N,d = X.shape\n",
    "        S_N = np.linalg.inv(alpha*np.eye(d) + beta*np.dot(X.T,X)) # dim dxd\n",
    "        m_N = beta*np.dot(S_N,np.dot(X.T,y)) # dim dx1\n",
    "        #K = np.exp( (-1/2)*(beta*np.dot(y.T,y) - (beta**2)*np.dot(y.T,np.dot(X,np.dot(S_N,np.dot(X.T,y))))) )*(np.linalg.det(S_N)**0.5)*((2*np.pi)**(d/2 - N))*(alpha**(d/2))*(beta**(N/2))\n",
    "        \n",
    "        #def dens_posteriori(w):\n",
    "            # w de dim dx1\n",
    "            #return K*((2*np.pi)**(-d/2))*(np.linalg.det(S_N)**(-0.5))*np.exp(-0.5*(((w-m_N).T)*(np.linalg.inv(S_N))*(w-m_N)))\n",
    "        \n",
    "        return m_N, S_N#, dens_posteriori\n",
    "    \n",
    "    \n",
    "    def fit(self,X,y,i=0):\n",
    "        i += 1\n",
    "        print('Iteracion',i)\n",
    "        print('Valores actuales: alpha=',self.__alpha,' beta=',self.__beta)\n",
    "        if i <= self.__maxiter:\n",
    "            N,d = X.shape\n",
    "            eigen_val, eigen_vec = np.linalg.eig(self.__beta*np.dot(X.T,X))\n",
    "            gamma = np.sum(eigen_val/(self.__alpha + eigen_val))\n",
    "            m_N, S_N = self.get_posteriori(X,y,self.__alpha,self.__beta)\n",
    "        \n",
    "            new_alpha = gamma/(np.dot(m_N.T,m_N))\n",
    "            new_beta = (N-gamma)/(np.sum((y-np.dot(X,m_N))**2))\n",
    "        \n",
    "            if np.abs(self.__alpha - new_alpha) < self.__tol and np.abs(self.__beta - new_beta) < self.__tol:\n",
    "                self.__alpha = new_alpha\n",
    "                self.__beta = new_beta\n",
    "                self.__m_N = m_N\n",
    "                self.__S_N = S_N\n",
    "            else:\n",
    "                self.__alpha = new_alpha\n",
    "                self.__beta = new_beta\n",
    "                self.__m_N = m_N\n",
    "                self.__S_N = S_N\n",
    "                self.fit(X,y,i)\n",
    "                \n",
    "    \n",
    "    def predict(self,X_,return_std=False):\n",
    "        y_ = np.dot(X_,self.__m_N)\n",
    "        y_std = np.sqrt((1/self.__beta)*np.dot(X_,np.dot(self.__S_N,X_.T)))\n",
    "        \n",
    "        if return_std:\n",
    "            return (y_,y_std)\n",
    "        return y_"
   ]
  },
  {
   "cell_type": "markdown",
   "metadata": {},
   "source": [
    "### Parte 2"
   ]
  },
  {
   "cell_type": "code",
   "execution_count": 82,
   "metadata": {},
   "outputs": [
    {
     "ename": "NameError",
     "evalue": "name 'num_cols' is not defined",
     "output_type": "error",
     "traceback": [
      "\u001b[1;31m---------------------------------------------------------------------------\u001b[0m",
      "\u001b[1;31mNameError\u001b[0m                                 Traceback (most recent call last)",
      "\u001b[1;32m<ipython-input-82-97f324994096>\u001b[0m in \u001b[0;36m<module>\u001b[1;34m\u001b[0m\n\u001b[0;32m     16\u001b[0m \u001b[1;33m\u001b[0m\u001b[0m\n\u001b[0;32m     17\u001b[0m \u001b[1;31m#Se diferencian columnas numéricas y categóricas\u001b[0m\u001b[1;33m\u001b[0m\u001b[1;33m\u001b[0m\u001b[1;33m\u001b[0m\u001b[0m\n\u001b[1;32m---> 18\u001b[1;33m \u001b[0mprep\u001b[0m \u001b[1;33m=\u001b[0m \u001b[0mColumnTransformer\u001b[0m\u001b[1;33m(\u001b[0m\u001b[0mtransformers\u001b[0m\u001b[1;33m=\u001b[0m\u001b[1;33m[\u001b[0m\u001b[1;33m(\u001b[0m\u001b[1;34m'num'\u001b[0m\u001b[1;33m,\u001b[0m\u001b[0mnum_pipe\u001b[0m\u001b[1;33m,\u001b[0m\u001b[0mnum_cols\u001b[0m\u001b[1;33m)\u001b[0m\u001b[1;33m,\u001b[0m\u001b[1;33m(\u001b[0m\u001b[1;34m'cat'\u001b[0m\u001b[1;33m,\u001b[0m\u001b[0mcat_pipe\u001b[0m\u001b[1;33m,\u001b[0m\u001b[0mcat_cols\u001b[0m\u001b[1;33m)\u001b[0m\u001b[1;33m]\u001b[0m\u001b[1;33m)\u001b[0m\u001b[1;33m\u001b[0m\u001b[1;33m\u001b[0m\u001b[0m\n\u001b[0m",
      "\u001b[1;31mNameError\u001b[0m: name 'num_cols' is not defined"
     ]
    }
   ],
   "source": [
    "from sklearn.preprocessing import StandardScaler, MinMaxScaler, OneHotEncoder, PolynomialFeatures, FunctionTransformer\n",
    "from sklearn.compose import ColumnTransformer\n",
    "from sklearn.pipeline import Pipeline\n",
    "\n",
    "def data_1d(df_column):\n",
    "    return df_column.values.reshape([-1,1])\n",
    "\n",
    "#reshape\n",
    "rs = FunctionTransformer(data_1d)\n",
    "\n",
    "#cat pipe\n",
    "cat_pipe = Pipeline([('reshape', rs),('ordinal', OneHotEncoder(handle_unknown='ignore'))])\n",
    "\n",
    "#num pipe\n",
    "num_pipe = Pipeline([('reshape', rs),('scaler',StandardScaler()),('poly',PolynomialFeatures(degree=3))])\n",
    "\n",
    "#Se diferencian columnas numéricas y categóricas\n",
    "prep = ColumnTransformer(transformers=[('num',num_pipe,num_cols),('cat',cat_pipe,cat_cols)])"
   ]
  },
  {
   "cell_type": "markdown",
   "metadata": {},
   "source": [
    "### Parte 3"
   ]
  },
  {
   "cell_type": "code",
   "execution_count": 84,
   "metadata": {},
   "outputs": [
    {
     "ename": "NameError",
     "evalue": "name 'df_X' is not defined",
     "output_type": "error",
     "traceback": [
      "\u001b[1;31m---------------------------------------------------------------------------\u001b[0m",
      "\u001b[1;31mNameError\u001b[0m                                 Traceback (most recent call last)",
      "\u001b[1;32m<ipython-input-84-92870f634b5f>\u001b[0m in \u001b[0;36m<module>\u001b[1;34m\u001b[0m\n\u001b[0;32m      1\u001b[0m \u001b[1;32mfrom\u001b[0m \u001b[0msklearn\u001b[0m\u001b[1;33m.\u001b[0m\u001b[0mmodel_selection\u001b[0m \u001b[1;32mimport\u001b[0m \u001b[0mtrain_test_split\u001b[0m\u001b[1;33m\u001b[0m\u001b[1;33m\u001b[0m\u001b[0m\n\u001b[0;32m      2\u001b[0m \u001b[1;33m\u001b[0m\u001b[0m\n\u001b[1;32m----> 3\u001b[1;33m \u001b[0mX_train\u001b[0m\u001b[1;33m,\u001b[0m \u001b[0mX_test\u001b[0m\u001b[1;33m,\u001b[0m \u001b[0my_train\u001b[0m\u001b[1;33m,\u001b[0m \u001b[0my_test\u001b[0m \u001b[1;33m=\u001b[0m \u001b[0mtrain_test_split\u001b[0m\u001b[1;33m(\u001b[0m\u001b[0mdf_X\u001b[0m\u001b[1;33m,\u001b[0m \u001b[0mdf_y\u001b[0m\u001b[1;33m,\u001b[0m \u001b[0mtest_size\u001b[0m\u001b[1;33m=\u001b[0m\u001b[1;36m0.2\u001b[0m\u001b[1;33m)\u001b[0m\u001b[1;33m\u001b[0m\u001b[1;33m\u001b[0m\u001b[0m\n\u001b[0m\u001b[0;32m      4\u001b[0m \u001b[0malpha_ini\u001b[0m \u001b[1;33m=\u001b[0m \u001b[1;36m1e-7\u001b[0m\u001b[1;33m\u001b[0m\u001b[1;33m\u001b[0m\u001b[0m\n\u001b[0;32m      5\u001b[0m \u001b[0mbeta_ini\u001b[0m \u001b[1;33m=\u001b[0m \u001b[1;36m1e-8\u001b[0m\u001b[1;33m\u001b[0m\u001b[1;33m\u001b[0m\u001b[0m\n",
      "\u001b[1;31mNameError\u001b[0m: name 'df_X' is not defined"
     ]
    }
   ],
   "source": [
    "from sklearn.model_selection import train_test_split\n",
    "\n",
    "def run(df_X, df_y, pipeline):\n",
    "    X_train, X_test, y_train, y_test = train_test_split(df_X, df_y, test_size=0.2)\n",
    "    alpha_ini = 1e-7\n",
    "    beta_ini = 1e-8\n",
    "    \n",
    "    pipeline.fit(X_train,y_train)\n",
    "    y_pred = pipeline.predict(X_test) \n",
    "    \n",
    "    #Tubo = Pipeline([('prep',prep),('clf', RegressionBayesianaEmpirica(alpha_ini,beta_ini))])\n",
    "    #Tubo.fit(X_train, y_train)\n",
    "    #y_pred = Tubo.predict(X_test)\n",
    "    \n",
    "    R_2 = Tubo.score(X_test, y_test)\n",
    "    RMSE = np.sqrt(np.mean((y_pred-y_test)**2))\n",
    "    print('RMSE:',RMSE,' R_2:',R_2)"
   ]
  },
  {
   "cell_type": "markdown",
   "metadata": {},
   "source": [
    "### Parte 4"
   ]
  },
  {
   "cell_type": "code",
   "execution_count": 85,
   "metadata": {},
   "outputs": [
    {
     "ename": "NameError",
     "evalue": "name 'prep' is not defined",
     "output_type": "error",
     "traceback": [
      "\u001b[1;31m---------------------------------------------------------------------------\u001b[0m",
      "\u001b[1;31mNameError\u001b[0m                                 Traceback (most recent call last)",
      "\u001b[1;32m<ipython-input-85-ab510961fa8f>\u001b[0m in \u001b[0;36m<module>\u001b[1;34m\u001b[0m\n\u001b[1;32m----> 1\u001b[1;33m \u001b[0mTubo\u001b[0m \u001b[1;33m=\u001b[0m \u001b[0mPipeline\u001b[0m\u001b[1;33m(\u001b[0m\u001b[1;33m[\u001b[0m\u001b[1;33m(\u001b[0m\u001b[1;34m'prep'\u001b[0m\u001b[1;33m,\u001b[0m\u001b[0mprep\u001b[0m\u001b[1;33m)\u001b[0m\u001b[1;33m,\u001b[0m\u001b[1;33m(\u001b[0m\u001b[1;34m'clf'\u001b[0m\u001b[1;33m,\u001b[0m \u001b[0mRegressionBayesianaEmpirica\u001b[0m\u001b[1;33m(\u001b[0m\u001b[0malpha_ini\u001b[0m\u001b[1;33m,\u001b[0m\u001b[0mbeta_ini\u001b[0m\u001b[1;33m)\u001b[0m\u001b[1;33m)\u001b[0m\u001b[1;33m]\u001b[0m\u001b[1;33m)\u001b[0m\u001b[1;33m\u001b[0m\u001b[1;33m\u001b[0m\u001b[0m\n\u001b[0m\u001b[0;32m      2\u001b[0m \u001b[0mrun\u001b[0m\u001b[1;33m(\u001b[0m\u001b[0mdf_X\u001b[0m\u001b[1;33m,\u001b[0m\u001b[0mdf_y\u001b[0m\u001b[1;33m,\u001b[0m\u001b[0mTubo\u001b[0m\u001b[1;33m)\u001b[0m\u001b[1;33m\u001b[0m\u001b[1;33m\u001b[0m\u001b[0m\n",
      "\u001b[1;31mNameError\u001b[0m: name 'prep' is not defined"
     ]
    }
   ],
   "source": [
    "Tubo = Pipeline([('prep',prep),('clf', RegressionBayesianaEmpirica(alpha_ini,beta_ini))])\n",
    "run(df_X,df_y,Tubo)"
   ]
  },
  {
   "cell_type": "markdown",
   "metadata": {},
   "source": [
    "### Parte 5"
   ]
  },
  {
   "cell_type": "code",
   "execution_count": 86,
   "metadata": {},
   "outputs": [
    {
     "ename": "NameError",
     "evalue": "name 'prep' is not defined",
     "output_type": "error",
     "traceback": [
      "\u001b[1;31m---------------------------------------------------------------------------\u001b[0m",
      "\u001b[1;31mNameError\u001b[0m                                 Traceback (most recent call last)",
      "\u001b[1;32m<ipython-input-86-c051e5d7cf28>\u001b[0m in \u001b[0;36m<module>\u001b[1;34m\u001b[0m\n\u001b[0;32m      1\u001b[0m \u001b[1;32mfrom\u001b[0m \u001b[0msklearn\u001b[0m\u001b[1;33m.\u001b[0m\u001b[0mlinear_model\u001b[0m \u001b[1;32mimport\u001b[0m \u001b[0mBayesianRidge\u001b[0m\u001b[1;33m\u001b[0m\u001b[1;33m\u001b[0m\u001b[0m\n\u001b[0;32m      2\u001b[0m \u001b[1;33m\u001b[0m\u001b[0m\n\u001b[1;32m----> 3\u001b[1;33m \u001b[0mBR_pipe\u001b[0m \u001b[1;33m=\u001b[0m \u001b[0mPipeline\u001b[0m\u001b[1;33m(\u001b[0m\u001b[1;33m[\u001b[0m\u001b[1;33m(\u001b[0m\u001b[1;34m'prep'\u001b[0m\u001b[1;33m,\u001b[0m\u001b[0mprep\u001b[0m\u001b[1;33m)\u001b[0m\u001b[1;33m,\u001b[0m\u001b[1;33m(\u001b[0m\u001b[1;34m'clf'\u001b[0m\u001b[1;33m,\u001b[0m\u001b[0mBayesianRidge\u001b[0m\u001b[1;33m(\u001b[0m\u001b[1;33m)\u001b[0m\u001b[1;33m)\u001b[0m\u001b[1;33m]\u001b[0m\u001b[1;33m)\u001b[0m\u001b[1;33m\u001b[0m\u001b[1;33m\u001b[0m\u001b[0m\n\u001b[0m\u001b[0;32m      4\u001b[0m \u001b[0mrun\u001b[0m\u001b[1;33m(\u001b[0m\u001b[0mdf_x\u001b[0m\u001b[1;33m,\u001b[0m\u001b[0mdf_y\u001b[0m\u001b[1;33m,\u001b[0m\u001b[0mBR_pipe\u001b[0m\u001b[1;33m)\u001b[0m\u001b[1;33m\u001b[0m\u001b[1;33m\u001b[0m\u001b[0m\n",
      "\u001b[1;31mNameError\u001b[0m: name 'prep' is not defined"
     ]
    }
   ],
   "source": [
    "from sklearn.linear_model import BayesianRidge\n",
    "\n",
    "BR_pipe = Pipeline([('prep',prep),('clf',BayesianRidge())])\n",
    "run(df_x,df_y,BR_pipe)"
   ]
  }
 ],
 "metadata": {
  "kernelspec": {
   "display_name": "Python 3",
   "language": "python",
   "name": "python3"
  },
  "language_info": {
   "codemirror_mode": {
    "name": "ipython",
    "version": 3
   },
   "file_extension": ".py",
   "mimetype": "text/x-python",
   "name": "python",
   "nbconvert_exporter": "python",
   "pygments_lexer": "ipython3",
   "version": "3.7.3"
  },
  "toc": {
   "base_numbering": 1,
   "nav_menu": {},
   "number_sections": true,
   "sideBar": true,
   "skip_h1_title": false,
   "title_cell": "Table of Contents",
   "title_sidebar": "Contents",
   "toc_cell": false,
   "toc_position": {},
   "toc_section_display": true,
   "toc_window_display": false
  }
 },
 "nbformat": 4,
 "nbformat_minor": 2
}
