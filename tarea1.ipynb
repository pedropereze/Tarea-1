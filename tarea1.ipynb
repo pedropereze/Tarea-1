{
 "cells": [
  {
   "cell_type": "markdown",
   "metadata": {},
   "source": [
    "# Tarea 1 \n",
    "\n",
    "Alumnos:\n",
    "\n",
    "* Miguel Espinoza\n",
    "* Sebastián López\n",
    "* Pedro Pérez"
   ]
  },
  {
   "cell_type": "markdown",
   "metadata": {},
   "source": [
    "## P1"
   ]
  },
  {
   "cell_type": "markdown",
   "metadata": {},
   "source": [
    "### Parte 1"
   ]
  },
  {
   "cell_type": "code",
   "execution_count": 1,
   "metadata": {},
   "outputs": [
    {
     "data": {
      "text/plain": [
       "['w13', 'w14', 'w15', 'w16', 'w17']"
      ]
     },
     "execution_count": 1,
     "metadata": {},
     "output_type": "execute_result"
    }
   ],
   "source": [
    "import os\n",
    "\n",
    "folder = 'data/raw/'  #Carpeta principal en la que estan los archivos\n",
    "weeks = os.listdir(folder)  #Se agregan las subcarpetas a una lista\n",
    "weeks"
   ]
  },
  {
   "cell_type": "code",
   "execution_count": 2,
   "metadata": {},
   "outputs": [
    {
     "data": {
      "text/plain": [
       "['data/raw/w13/metrocuadrado_all_w13.csv',\n",
       " 'data/raw/w14/metrocuadrado_all_w14.csv',\n",
       " 'data/raw/w15/metrocuadrado_all_w15.csv',\n",
       " 'data/raw/w16/metrocuadrado_all_w16.csv',\n",
       " 'data/raw/w17/metrocuadrado_all_w17.csv']"
      ]
     },
     "execution_count": 2,
     "metadata": {},
     "output_type": "execute_result"
    }
   ],
   "source": [
    "#Se crean dos listas para guardar los archivos normales\n",
    "#y los 'furnished'\n",
    "files = []\n",
    "files_furnished = []\n",
    "\n",
    "#Mediante un bucle for se guardan las direcciones de todos\n",
    "#los archivos en las listas creadas\n",
    "for week in weeks:\n",
    "    direccion = folder + week + '/'\n",
    "    file = os.listdir(direccion)\n",
    "    files.append(direccion + file[0])\n",
    "    files_furnished.append(direccion + file[1])\n",
    "    \n",
    "files"
   ]
  },
  {
   "cell_type": "code",
   "execution_count": 3,
   "metadata": {
    "scrolled": false
   },
   "outputs": [
    {
     "data": {
      "text/html": [
       "<div>\n",
       "<style scoped>\n",
       "    .dataframe tbody tr th:only-of-type {\n",
       "        vertical-align: middle;\n",
       "    }\n",
       "\n",
       "    .dataframe tbody tr th {\n",
       "        vertical-align: top;\n",
       "    }\n",
       "\n",
       "    .dataframe thead th {\n",
       "        text-align: right;\n",
       "    }\n",
       "</style>\n",
       "<table border=\"1\" class=\"dataframe\">\n",
       "  <thead>\n",
       "    <tr style=\"text-align: right;\">\n",
       "      <th></th>\n",
       "      <th>property_type|rent_type|location</th>\n",
       "      <th>price</th>\n",
       "      <th>n_rooms</th>\n",
       "      <th>n_bath</th>\n",
       "      <th>surface</th>\n",
       "      <th>details</th>\n",
       "      <th>url</th>\n",
       "      <th>metrocuadrado_index</th>\n",
       "    </tr>\n",
       "  </thead>\n",
       "  <tbody>\n",
       "    <tr>\n",
       "      <th>0</th>\n",
       "      <td>Casa en Arriendo, LA SOLEDAD NORTE Bogotá D.C..</td>\n",
       "      <td>$1.050.000</td>\n",
       "      <td>3</td>\n",
       "      <td>2</td>\n",
       "      <td>63.0 m2</td>\n",
       "      <td>Excelente casa cerca de la calle 80 y Avenida ...</td>\n",
       "      <td>https://www.metrocuadrado.com/inmueble/arriend...</td>\n",
       "      <td>25.6</td>\n",
       "    </tr>\n",
       "    <tr>\n",
       "      <th>1</th>\n",
       "      <td>Casa en Arriendo, CIUDAD SALITRE SUR-ORIENTAL ...</td>\n",
       "      <td>$3.930.000</td>\n",
       "      <td>3</td>\n",
       "      <td>2</td>\n",
       "      <td>100.0 m2</td>\n",
       "      <td>Se arrienda casa bonita totalmente amoblada co...</td>\n",
       "      <td>https://www.metrocuadrado.com/inmueble/arriend...</td>\n",
       "      <td>57.3</td>\n",
       "    </tr>\n",
       "    <tr>\n",
       "      <th>2</th>\n",
       "      <td>Casa en Arriendo, VILLA DE LOS ALPES II SECTOR...</td>\n",
       "      <td>$750.000</td>\n",
       "      <td>3</td>\n",
       "      <td>1</td>\n",
       "      <td>90.0 m2</td>\n",
       "      <td>CASA DE TRES NIVELES TRES ALCOBAS SALA COMEDOR...</td>\n",
       "      <td>https://www.metrocuadrado.com/inmueble/arriend...</td>\n",
       "      <td>12.2</td>\n",
       "    </tr>\n",
       "  </tbody>\n",
       "</table>\n",
       "</div>"
      ],
      "text/plain": [
       "                    property_type|rent_type|location       price n_rooms  \\\n",
       "0    Casa en Arriendo, LA SOLEDAD NORTE Bogotá D.C..  $1.050.000       3   \n",
       "1  Casa en Arriendo, CIUDAD SALITRE SUR-ORIENTAL ...  $3.930.000       3   \n",
       "2  Casa en Arriendo, VILLA DE LOS ALPES II SECTOR...    $750.000       3   \n",
       "\n",
       "  n_bath   surface                                            details  \\\n",
       "0      2   63.0 m2  Excelente casa cerca de la calle 80 y Avenida ...   \n",
       "1      2  100.0 m2  Se arrienda casa bonita totalmente amoblada co...   \n",
       "2      1   90.0 m2  CASA DE TRES NIVELES TRES ALCOBAS SALA COMEDOR...   \n",
       "\n",
       "                                                 url  metrocuadrado_index  \n",
       "0  https://www.metrocuadrado.com/inmueble/arriend...                 25.6  \n",
       "1  https://www.metrocuadrado.com/inmueble/arriend...                 57.3  \n",
       "2  https://www.metrocuadrado.com/inmueble/arriend...                 12.2  "
      ]
     },
     "execution_count": 3,
     "metadata": {},
     "output_type": "execute_result"
    }
   ],
   "source": [
    "import pandas as pd\n",
    "\n",
    "#Se lee el primer dataframe para observar los datos\n",
    "data_all = pd.read_csv(files[0])\n",
    "data_all.head(3)"
   ]
  },
  {
   "cell_type": "markdown",
   "metadata": {},
   "source": [
    "En primer lugar se combinan los dataframes normales"
   ]
  },
  {
   "cell_type": "code",
   "execution_count": 4,
   "metadata": {
    "scrolled": false
   },
   "outputs": [
    {
     "name": "stdout",
     "output_type": "stream",
     "text": [
      "Cantidad de datos:  16470\n"
     ]
    },
    {
     "data": {
      "text/html": [
       "<div>\n",
       "<style scoped>\n",
       "    .dataframe tbody tr th:only-of-type {\n",
       "        vertical-align: middle;\n",
       "    }\n",
       "\n",
       "    .dataframe tbody tr th {\n",
       "        vertical-align: top;\n",
       "    }\n",
       "\n",
       "    .dataframe thead th {\n",
       "        text-align: right;\n",
       "    }\n",
       "</style>\n",
       "<table border=\"1\" class=\"dataframe\">\n",
       "  <thead>\n",
       "    <tr style=\"text-align: right;\">\n",
       "      <th></th>\n",
       "      <th>property_type|rent_type|location</th>\n",
       "      <th>price</th>\n",
       "      <th>n_rooms</th>\n",
       "      <th>n_bath</th>\n",
       "      <th>surface</th>\n",
       "      <th>details</th>\n",
       "      <th>url</th>\n",
       "      <th>metrocuadrado_index</th>\n",
       "    </tr>\n",
       "  </thead>\n",
       "  <tbody>\n",
       "    <tr>\n",
       "      <th>0</th>\n",
       "      <td>Casa en Arriendo, LA SOLEDAD NORTE Bogotá D.C..</td>\n",
       "      <td>$1.050.000</td>\n",
       "      <td>3</td>\n",
       "      <td>2</td>\n",
       "      <td>63.0 m2</td>\n",
       "      <td>Excelente casa cerca de la calle 80 y Avenida ...</td>\n",
       "      <td>https://www.metrocuadrado.com/inmueble/arriend...</td>\n",
       "      <td>25.6</td>\n",
       "    </tr>\n",
       "    <tr>\n",
       "      <th>1</th>\n",
       "      <td>Casa en Arriendo, CIUDAD SALITRE SUR-ORIENTAL ...</td>\n",
       "      <td>$3.930.000</td>\n",
       "      <td>3</td>\n",
       "      <td>2</td>\n",
       "      <td>100.0 m2</td>\n",
       "      <td>Se arrienda casa bonita totalmente amoblada co...</td>\n",
       "      <td>https://www.metrocuadrado.com/inmueble/arriend...</td>\n",
       "      <td>57.3</td>\n",
       "    </tr>\n",
       "    <tr>\n",
       "      <th>2</th>\n",
       "      <td>Casa en Arriendo, VILLA DE LOS ALPES II SECTOR...</td>\n",
       "      <td>$750.000</td>\n",
       "      <td>3</td>\n",
       "      <td>1</td>\n",
       "      <td>90.0 m2</td>\n",
       "      <td>CASA DE TRES NIVELES TRES ALCOBAS SALA COMEDOR...</td>\n",
       "      <td>https://www.metrocuadrado.com/inmueble/arriend...</td>\n",
       "      <td>12.2</td>\n",
       "    </tr>\n",
       "  </tbody>\n",
       "</table>\n",
       "</div>"
      ],
      "text/plain": [
       "                    property_type|rent_type|location       price n_rooms  \\\n",
       "0    Casa en Arriendo, LA SOLEDAD NORTE Bogotá D.C..  $1.050.000       3   \n",
       "1  Casa en Arriendo, CIUDAD SALITRE SUR-ORIENTAL ...  $3.930.000       3   \n",
       "2  Casa en Arriendo, VILLA DE LOS ALPES II SECTOR...    $750.000       3   \n",
       "\n",
       "  n_bath   surface                                            details  \\\n",
       "0      2   63.0 m2  Excelente casa cerca de la calle 80 y Avenida ...   \n",
       "1      2  100.0 m2  Se arrienda casa bonita totalmente amoblada co...   \n",
       "2      1   90.0 m2  CASA DE TRES NIVELES TRES ALCOBAS SALA COMEDOR...   \n",
       "\n",
       "                                                 url  metrocuadrado_index  \n",
       "0  https://www.metrocuadrado.com/inmueble/arriend...                 25.6  \n",
       "1  https://www.metrocuadrado.com/inmueble/arriend...                 57.3  \n",
       "2  https://www.metrocuadrado.com/inmueble/arriend...                 12.2  "
      ]
     },
     "execution_count": 4,
     "metadata": {},
     "output_type": "execute_result"
    }
   ],
   "source": [
    "data_all = pd.read_csv(files[0])\n",
    "\n",
    "for file in files:\n",
    "    dato_semanal = pd.read_csv(file)\n",
    "    data_all = data_all.merge(dato_semanal, how = 'outer') \n",
    "    #Se pone 'outer' para hacer la union de todos los dataframes\n",
    "\n",
    "print('Cantidad de datos: ', len(data_all))\n",
    "data_all.head(3)"
   ]
  },
  {
   "cell_type": "code",
   "execution_count": 5,
   "metadata": {},
   "outputs": [
    {
     "name": "stdout",
     "output_type": "stream",
     "text": [
      "Duplicados:  175\n"
     ]
    }
   ],
   "source": [
    "#Se ve si hay duplicados\n",
    "print('Duplicados: ', data_all.duplicated().sum())"
   ]
  },
  {
   "cell_type": "code",
   "execution_count": 6,
   "metadata": {
    "scrolled": true
   },
   "outputs": [
    {
     "name": "stdout",
     "output_type": "stream",
     "text": [
      "Cantidad de datos:  16295\n"
     ]
    }
   ],
   "source": [
    "#Se eliminan las filas duplicadas\n",
    "data_all.drop_duplicates(inplace=True)\n",
    "print('Cantidad de datos: ', len(data_all))"
   ]
  },
  {
   "cell_type": "markdown",
   "metadata": {},
   "source": [
    "Ahora se combinan los archivos furnished"
   ]
  },
  {
   "cell_type": "code",
   "execution_count": 7,
   "metadata": {},
   "outputs": [
    {
     "name": "stdout",
     "output_type": "stream",
     "text": [
      "Cantidad de datos:  2101\n"
     ]
    },
    {
     "data": {
      "text/html": [
       "<div>\n",
       "<style scoped>\n",
       "    .dataframe tbody tr th:only-of-type {\n",
       "        vertical-align: middle;\n",
       "    }\n",
       "\n",
       "    .dataframe tbody tr th {\n",
       "        vertical-align: top;\n",
       "    }\n",
       "\n",
       "    .dataframe thead th {\n",
       "        text-align: right;\n",
       "    }\n",
       "</style>\n",
       "<table border=\"1\" class=\"dataframe\">\n",
       "  <thead>\n",
       "    <tr style=\"text-align: right;\">\n",
       "      <th></th>\n",
       "      <th>property_type|rent_type|location</th>\n",
       "      <th>price</th>\n",
       "      <th>n_rooms</th>\n",
       "      <th>n_bath</th>\n",
       "      <th>surface</th>\n",
       "      <th>details</th>\n",
       "      <th>url</th>\n",
       "      <th>metrocuadrado_index</th>\n",
       "    </tr>\n",
       "  </thead>\n",
       "  <tbody>\n",
       "    <tr>\n",
       "      <th>0</th>\n",
       "      <td>Casa en Arriendo, CIUDAD SALITRE SUR-ORIENTAL ...</td>\n",
       "      <td>$3.930.000</td>\n",
       "      <td>3.0</td>\n",
       "      <td>2.0</td>\n",
       "      <td>100.0 m2</td>\n",
       "      <td>Se arrienda casa bonita totalmente amoblada co...</td>\n",
       "      <td>https://www.metrocuadrado.com/inmueble/arriend...</td>\n",
       "      <td>57.3</td>\n",
       "    </tr>\n",
       "    <tr>\n",
       "      <th>1</th>\n",
       "      <td>Casa en Venta Y Arriendo, BELLAVISTA Bogotá D.C..</td>\n",
       "      <td>$1.300.000</td>\n",
       "      <td>3.0</td>\n",
       "      <td>2.0</td>\n",
       "      <td>72.0 m2</td>\n",
       "      <td>hermosa casa en venta y en arriendo en, mandal...</td>\n",
       "      <td>https://www.metrocuadrado.com/inmueble/venta-c...</td>\n",
       "      <td>41.4</td>\n",
       "    </tr>\n",
       "    <tr>\n",
       "      <th>2</th>\n",
       "      <td>Casa en Arriendo, PORTALES DEL NORTE Bogotá D.C..</td>\n",
       "      <td>$1.800.000</td>\n",
       "      <td>3.0</td>\n",
       "      <td>3.0</td>\n",
       "      <td>76.81 m2</td>\n",
       "      <td>Estrato 4. CASA TRIPLEX!! Exterior . Cuenta co...</td>\n",
       "      <td>https://www.metrocuadrado.com/inmueble/arriend...</td>\n",
       "      <td>41.3</td>\n",
       "    </tr>\n",
       "  </tbody>\n",
       "</table>\n",
       "</div>"
      ],
      "text/plain": [
       "                    property_type|rent_type|location       price  n_rooms  \\\n",
       "0  Casa en Arriendo, CIUDAD SALITRE SUR-ORIENTAL ...  $3.930.000      3.0   \n",
       "1  Casa en Venta Y Arriendo, BELLAVISTA Bogotá D.C..  $1.300.000      3.0   \n",
       "2  Casa en Arriendo, PORTALES DEL NORTE Bogotá D.C..  $1.800.000      3.0   \n",
       "\n",
       "   n_bath   surface                                            details  \\\n",
       "0     2.0  100.0 m2  Se arrienda casa bonita totalmente amoblada co...   \n",
       "1     2.0   72.0 m2  hermosa casa en venta y en arriendo en, mandal...   \n",
       "2     3.0  76.81 m2  Estrato 4. CASA TRIPLEX!! Exterior . Cuenta co...   \n",
       "\n",
       "                                                 url  metrocuadrado_index  \n",
       "0  https://www.metrocuadrado.com/inmueble/arriend...                 57.3  \n",
       "1  https://www.metrocuadrado.com/inmueble/venta-c...                 41.4  \n",
       "2  https://www.metrocuadrado.com/inmueble/arriend...                 41.3  "
      ]
     },
     "execution_count": 7,
     "metadata": {},
     "output_type": "execute_result"
    }
   ],
   "source": [
    "data_furnished = pd.read_csv(files_furnished[0])\n",
    "\n",
    "for file in files_furnished:\n",
    "    dato_semanal = pd.read_csv(file)\n",
    "    data_furnished = data_furnished.merge(dato_semanal, how='outer')\n",
    "\n",
    "print('Cantidad de datos: ', len(data_furnished))\n",
    "data_furnished.head(3)"
   ]
  },
  {
   "cell_type": "code",
   "execution_count": 8,
   "metadata": {},
   "outputs": [
    {
     "name": "stdout",
     "output_type": "stream",
     "text": [
      "Duplicados:  2\n"
     ]
    }
   ],
   "source": [
    "#Se buscan los duplicados y se eliminan\n",
    "print('Duplicados: ', data_furnished.duplicated().sum())"
   ]
  },
  {
   "cell_type": "code",
   "execution_count": 9,
   "metadata": {},
   "outputs": [
    {
     "name": "stdout",
     "output_type": "stream",
     "text": [
      "Cantidad de datos:  2099\n"
     ]
    }
   ],
   "source": [
    "data_furnished.drop_duplicates(inplace=True)\n",
    "\n",
    "print('Cantidad de datos: ', len(data_furnished))\n",
    "#Se observa que son muchos menos los datos de tipo furnished"
   ]
  },
  {
   "cell_type": "markdown",
   "metadata": {},
   "source": [
    "Al intentar combinar ambos dataframes usando `data_all.merge(data_furnished, how='outer')` aparece el error:\n",
    "\n",
    "`ValueError: You are trying to merge on object and float64 columns. If you wish to proceed you should use pd.concat`\n",
    "\n",
    "Por lo que se decide comprobar los tipos de las columnas"
   ]
  },
  {
   "cell_type": "code",
   "execution_count": 10,
   "metadata": {},
   "outputs": [
    {
     "name": "stdout",
     "output_type": "stream",
     "text": [
      "Tipos Data All\n",
      "property_type|rent_type|location     object\n",
      "price                                object\n",
      "n_rooms                              object\n",
      "n_bath                               object\n",
      "surface                              object\n",
      "details                              object\n",
      "url                                  object\n",
      "metrocuadrado_index                 float64\n",
      "dtype: object\n",
      "\n",
      "Tipos Data Furnished\n",
      "property_type|rent_type|location     object\n",
      "price                                object\n",
      "n_rooms                             float64\n",
      "n_bath                              float64\n",
      "surface                              object\n",
      "details                              object\n",
      "url                                  object\n",
      "metrocuadrado_index                 float64\n",
      "dtype: object\n"
     ]
    }
   ],
   "source": [
    "#Se observan las columnas de los dataframe\n",
    "print('Tipos Data All')\n",
    "print(data_all.dtypes)\n",
    "print()\n",
    "print('Tipos Data Furnished')\n",
    "print(data_furnished.dtypes)"
   ]
  },
  {
   "cell_type": "markdown",
   "metadata": {},
   "source": [
    "Se observa que el error se debe a que en `Data All` las columnas `n_rooms` y `n_bath` son de tipo `object`, en cambio en `Data Furnished` son de tipo `float64`.\n",
    "\n",
    "Este problema se resuelve simplemente cambiando el tipo de esas columnas."
   ]
  },
  {
   "cell_type": "code",
   "execution_count": 11,
   "metadata": {},
   "outputs": [],
   "source": [
    "#Se cambian las columnas de 'data_furnished' a object\n",
    "data_furnished = data_furnished.astype({'n_rooms':'object', 'n_bath':'object'})\n",
    "\n",
    "#Obs: No se pueden cambiar las columnas de 'data_all' a float64, pues hay un dato llamado '5+'"
   ]
  },
  {
   "cell_type": "code",
   "execution_count": 153,
   "metadata": {},
   "outputs": [
    {
     "name": "stdout",
     "output_type": "stream",
     "text": [
      "Cantidad de datos:  18394\n"
     ]
    },
    {
     "data": {
      "text/html": [
       "<div>\n",
       "<style scoped>\n",
       "    .dataframe tbody tr th:only-of-type {\n",
       "        vertical-align: middle;\n",
       "    }\n",
       "\n",
       "    .dataframe tbody tr th {\n",
       "        vertical-align: top;\n",
       "    }\n",
       "\n",
       "    .dataframe thead th {\n",
       "        text-align: right;\n",
       "    }\n",
       "</style>\n",
       "<table border=\"1\" class=\"dataframe\">\n",
       "  <thead>\n",
       "    <tr style=\"text-align: right;\">\n",
       "      <th></th>\n",
       "      <th>property_type|rent_type|location</th>\n",
       "      <th>price</th>\n",
       "      <th>n_rooms</th>\n",
       "      <th>n_bath</th>\n",
       "      <th>surface</th>\n",
       "      <th>details</th>\n",
       "      <th>url</th>\n",
       "      <th>metrocuadrado_index</th>\n",
       "      <th>Furnished</th>\n",
       "    </tr>\n",
       "  </thead>\n",
       "  <tbody>\n",
       "    <tr>\n",
       "      <th>0</th>\n",
       "      <td>Casa en Arriendo, LA SOLEDAD NORTE Bogotá D.C..</td>\n",
       "      <td>$1.050.000</td>\n",
       "      <td>3</td>\n",
       "      <td>2</td>\n",
       "      <td>63.0 m2</td>\n",
       "      <td>Excelente casa cerca de la calle 80 y Avenida ...</td>\n",
       "      <td>https://www.metrocuadrado.com/inmueble/arriend...</td>\n",
       "      <td>25.6</td>\n",
       "      <td>left_only</td>\n",
       "    </tr>\n",
       "    <tr>\n",
       "      <th>1</th>\n",
       "      <td>Casa en Arriendo, CIUDAD SALITRE SUR-ORIENTAL ...</td>\n",
       "      <td>$3.930.000</td>\n",
       "      <td>3</td>\n",
       "      <td>2</td>\n",
       "      <td>100.0 m2</td>\n",
       "      <td>Se arrienda casa bonita totalmente amoblada co...</td>\n",
       "      <td>https://www.metrocuadrado.com/inmueble/arriend...</td>\n",
       "      <td>57.3</td>\n",
       "      <td>left_only</td>\n",
       "    </tr>\n",
       "    <tr>\n",
       "      <th>2</th>\n",
       "      <td>Casa en Arriendo, VILLA DE LOS ALPES II SECTOR...</td>\n",
       "      <td>$750.000</td>\n",
       "      <td>3</td>\n",
       "      <td>1</td>\n",
       "      <td>90.0 m2</td>\n",
       "      <td>CASA DE TRES NIVELES TRES ALCOBAS SALA COMEDOR...</td>\n",
       "      <td>https://www.metrocuadrado.com/inmueble/arriend...</td>\n",
       "      <td>12.2</td>\n",
       "      <td>left_only</td>\n",
       "    </tr>\n",
       "  </tbody>\n",
       "</table>\n",
       "</div>"
      ],
      "text/plain": [
       "                    property_type|rent_type|location       price n_rooms  \\\n",
       "0    Casa en Arriendo, LA SOLEDAD NORTE Bogotá D.C..  $1.050.000       3   \n",
       "1  Casa en Arriendo, CIUDAD SALITRE SUR-ORIENTAL ...  $3.930.000       3   \n",
       "2  Casa en Arriendo, VILLA DE LOS ALPES II SECTOR...    $750.000       3   \n",
       "\n",
       "  n_bath   surface                                            details  \\\n",
       "0      2   63.0 m2  Excelente casa cerca de la calle 80 y Avenida ...   \n",
       "1      2  100.0 m2  Se arrienda casa bonita totalmente amoblada co...   \n",
       "2      1   90.0 m2  CASA DE TRES NIVELES TRES ALCOBAS SALA COMEDOR...   \n",
       "\n",
       "                                                 url  metrocuadrado_index  \\\n",
       "0  https://www.metrocuadrado.com/inmueble/arriend...                 25.6   \n",
       "1  https://www.metrocuadrado.com/inmueble/arriend...                 57.3   \n",
       "2  https://www.metrocuadrado.com/inmueble/arriend...                 12.2   \n",
       "\n",
       "   Furnished  \n",
       "0  left_only  \n",
       "1  left_only  \n",
       "2  left_only  "
      ]
     },
     "execution_count": 153,
     "metadata": {},
     "output_type": "execute_result"
    }
   ],
   "source": [
    "#Se combinan los dataframes\n",
    "data = data_all.merge(data_furnished, how='outer', indicator='Furnished')\n",
    "\n",
    "#Se coloca utiliza el parámetro indicator para indicar de que dataframe \n",
    "#proviene cada fila.\n",
    "#left_only indica que viene del dataframe 'data_all'\n",
    "#right_only indica que viene del dataframe 'data_furnished'\n",
    "#y both que proviene de ambos\n",
    "\n",
    "print('Cantidad de datos: ', len(data))\n",
    "data.head(3)"
   ]
  },
  {
   "cell_type": "code",
   "execution_count": 154,
   "metadata": {
    "scrolled": true
   },
   "outputs": [
    {
     "data": {
      "text/html": [
       "<div>\n",
       "<style scoped>\n",
       "    .dataframe tbody tr th:only-of-type {\n",
       "        vertical-align: middle;\n",
       "    }\n",
       "\n",
       "    .dataframe tbody tr th {\n",
       "        vertical-align: top;\n",
       "    }\n",
       "\n",
       "    .dataframe thead th {\n",
       "        text-align: right;\n",
       "    }\n",
       "</style>\n",
       "<table border=\"1\" class=\"dataframe\">\n",
       "  <thead>\n",
       "    <tr style=\"text-align: right;\">\n",
       "      <th></th>\n",
       "      <th>property_type|rent_type|location</th>\n",
       "      <th>price</th>\n",
       "      <th>n_rooms</th>\n",
       "      <th>n_bath</th>\n",
       "      <th>surface</th>\n",
       "      <th>details</th>\n",
       "      <th>url</th>\n",
       "      <th>metrocuadrado_index</th>\n",
       "      <th>Furnished</th>\n",
       "    </tr>\n",
       "  </thead>\n",
       "  <tbody>\n",
       "    <tr>\n",
       "      <th>0</th>\n",
       "      <td>Casa en Arriendo, LA SOLEDAD NORTE Bogotá D.C..</td>\n",
       "      <td>$1.050.000</td>\n",
       "      <td>3</td>\n",
       "      <td>2</td>\n",
       "      <td>63.0 m2</td>\n",
       "      <td>Excelente casa cerca de la calle 80 y Avenida ...</td>\n",
       "      <td>https://www.metrocuadrado.com/inmueble/arriend...</td>\n",
       "      <td>25.6</td>\n",
       "      <td>No</td>\n",
       "    </tr>\n",
       "    <tr>\n",
       "      <th>1</th>\n",
       "      <td>Casa en Arriendo, CIUDAD SALITRE SUR-ORIENTAL ...</td>\n",
       "      <td>$3.930.000</td>\n",
       "      <td>3</td>\n",
       "      <td>2</td>\n",
       "      <td>100.0 m2</td>\n",
       "      <td>Se arrienda casa bonita totalmente amoblada co...</td>\n",
       "      <td>https://www.metrocuadrado.com/inmueble/arriend...</td>\n",
       "      <td>57.3</td>\n",
       "      <td>No</td>\n",
       "    </tr>\n",
       "    <tr>\n",
       "      <th>2</th>\n",
       "      <td>Casa en Arriendo, VILLA DE LOS ALPES II SECTOR...</td>\n",
       "      <td>$750.000</td>\n",
       "      <td>3</td>\n",
       "      <td>1</td>\n",
       "      <td>90.0 m2</td>\n",
       "      <td>CASA DE TRES NIVELES TRES ALCOBAS SALA COMEDOR...</td>\n",
       "      <td>https://www.metrocuadrado.com/inmueble/arriend...</td>\n",
       "      <td>12.2</td>\n",
       "      <td>No</td>\n",
       "    </tr>\n",
       "  </tbody>\n",
       "</table>\n",
       "</div>"
      ],
      "text/plain": [
       "                    property_type|rent_type|location       price n_rooms  \\\n",
       "0    Casa en Arriendo, LA SOLEDAD NORTE Bogotá D.C..  $1.050.000       3   \n",
       "1  Casa en Arriendo, CIUDAD SALITRE SUR-ORIENTAL ...  $3.930.000       3   \n",
       "2  Casa en Arriendo, VILLA DE LOS ALPES II SECTOR...    $750.000       3   \n",
       "\n",
       "  n_bath   surface                                            details  \\\n",
       "0      2   63.0 m2  Excelente casa cerca de la calle 80 y Avenida ...   \n",
       "1      2  100.0 m2  Se arrienda casa bonita totalmente amoblada co...   \n",
       "2      1   90.0 m2  CASA DE TRES NIVELES TRES ALCOBAS SALA COMEDOR...   \n",
       "\n",
       "                                                 url  metrocuadrado_index  \\\n",
       "0  https://www.metrocuadrado.com/inmueble/arriend...                 25.6   \n",
       "1  https://www.metrocuadrado.com/inmueble/arriend...                 57.3   \n",
       "2  https://www.metrocuadrado.com/inmueble/arriend...                 12.2   \n",
       "\n",
       "  Furnished  \n",
       "0        No  \n",
       "1        No  \n",
       "2        No  "
      ]
     },
     "execution_count": 154,
     "metadata": {},
     "output_type": "execute_result"
    }
   ],
   "source": [
    "data['Furnished'].replace({'left_only':'No', 'right_only':'Si', 'both':'Ambos'}, inplace=True)\n",
    "\n",
    "#Se cambian los nombres para indicar más claramente si provienen de furnished o no\n",
    "data.head(3)"
   ]
  },
  {
   "cell_type": "code",
   "execution_count": 155,
   "metadata": {},
   "outputs": [
    {
     "data": {
      "text/plain": [
       "No    16295\n",
       "Si     2099\n",
       "Name: Furnished, dtype: int64"
      ]
     },
     "execution_count": 155,
     "metadata": {},
     "output_type": "execute_result"
    }
   ],
   "source": [
    "#Se cuentan la cantidad de cada valores de cada tipo\n",
    "data['Furnished'].value_counts()"
   ]
  },
  {
   "cell_type": "markdown",
   "metadata": {},
   "source": [
    "Como se observa no hay elementos comunes entre ambos grupos, son disjuntos. No hay archivos con texto 'furnished' que no estén contenidos en archivos con texto 'all'."
   ]
  },
  {
   "cell_type": "code",
   "execution_count": 156,
   "metadata": {},
   "outputs": [
    {
     "data": {
      "text/html": [
       "<div>\n",
       "<style scoped>\n",
       "    .dataframe tbody tr th:only-of-type {\n",
       "        vertical-align: middle;\n",
       "    }\n",
       "\n",
       "    .dataframe tbody tr th {\n",
       "        vertical-align: top;\n",
       "    }\n",
       "\n",
       "    .dataframe thead th {\n",
       "        text-align: right;\n",
       "    }\n",
       "</style>\n",
       "<table border=\"1\" class=\"dataframe\">\n",
       "  <thead>\n",
       "    <tr style=\"text-align: right;\">\n",
       "      <th></th>\n",
       "      <th>property_type|rent_type|location</th>\n",
       "      <th>price</th>\n",
       "      <th>n_rooms</th>\n",
       "      <th>n_bath</th>\n",
       "      <th>surface</th>\n",
       "      <th>details</th>\n",
       "      <th>url</th>\n",
       "      <th>metrocuadrado_index</th>\n",
       "    </tr>\n",
       "  </thead>\n",
       "  <tbody>\n",
       "  </tbody>\n",
       "</table>\n",
       "</div>"
      ],
      "text/plain": [
       "Empty DataFrame\n",
       "Columns: [property_type|rent_type|location, price, n_rooms, n_bath, surface, details, url, metrocuadrado_index]\n",
       "Index: []"
      ]
     },
     "execution_count": 156,
     "metadata": {},
     "output_type": "execute_result"
    }
   ],
   "source": [
    "#Esto se comprueba tambien haciendo una intersección entre los dataframes\n",
    "#mediante el argumento 'inner'\n",
    "pd.merge(data_all, data_furnished, how='inner')\n",
    "\n",
    "#Se observa que el resultado es un dataframe vacío"
   ]
  },
  {
   "cell_type": "markdown",
   "metadata": {},
   "source": [
    "### Parte 2"
   ]
  },
  {
   "cell_type": "markdown",
   "metadata": {},
   "source": [
    "#### A"
   ]
  },
  {
   "cell_type": "markdown",
   "metadata": {},
   "source": [
    "Primero se limpia el precio"
   ]
  },
  {
   "cell_type": "code",
   "execution_count": 157,
   "metadata": {},
   "outputs": [
    {
     "data": {
      "text/plain": [
       "0    $1.050.000\n",
       "1    $3.930.000\n",
       "2      $750.000\n",
       "Name: price, dtype: object"
      ]
     },
     "execution_count": 157,
     "metadata": {},
     "output_type": "execute_result"
    }
   ],
   "source": [
    "data['price'].head(3)"
   ]
  },
  {
   "cell_type": "markdown",
   "metadata": {},
   "source": [
    "Se observa que son de tipo `object`, pues el precio contiene el signo peso '$' y los puntos. Convendría eliminar este signo y los puntos para poder pasar los datos a `float64`."
   ]
  },
  {
   "cell_type": "code",
   "execution_count": 158,
   "metadata": {},
   "outputs": [
    {
     "data": {
      "text/plain": [
       "0    1050000\n",
       "1    3930000\n",
       "2     750000\n",
       "Name: price, dtype: object"
      ]
     },
     "execution_count": 158,
     "metadata": {},
     "output_type": "execute_result"
    }
   ],
   "source": [
    "data['price'] = data['price'].str.replace('$','')\n",
    "data['price'] = data['price'].str.replace('.','')\n",
    "data['price'].head(3)"
   ]
  },
  {
   "cell_type": "code",
   "execution_count": 159,
   "metadata": {},
   "outputs": [
    {
     "data": {
      "text/plain": [
       "0    1050000.0\n",
       "1    3930000.0\n",
       "2     750000.0\n",
       "Name: price, dtype: float64"
      ]
     },
     "execution_count": 159,
     "metadata": {},
     "output_type": "execute_result"
    }
   ],
   "source": [
    "#Se cambia el tipo a float64\n",
    "data['price'] = data['price'].astype('float')\n",
    "data['price'].head(3)"
   ]
  },
  {
   "cell_type": "markdown",
   "metadata": {},
   "source": [
    "Ahora se limpia el área"
   ]
  },
  {
   "cell_type": "code",
   "execution_count": 160,
   "metadata": {},
   "outputs": [
    {
     "data": {
      "text/plain": [
       "18390    164.34 m2\n",
       "18391     110.0 m2\n",
       "18392     106.0 m2\n",
       "18393     135.0 m2\n",
       "Name: surface, dtype: object"
      ]
     },
     "execution_count": 160,
     "metadata": {},
     "output_type": "execute_result"
    }
   ],
   "source": [
    "data['surface'].tail(4)"
   ]
  },
  {
   "cell_type": "markdown",
   "metadata": {},
   "source": [
    "Se deben eliminar los carácteres ' m2' al final del número, y luego cambiar el tipo a `float`."
   ]
  },
  {
   "cell_type": "code",
   "execution_count": 161,
   "metadata": {},
   "outputs": [
    {
     "data": {
      "text/plain": [
       "18390    164.34\n",
       "18391    110.00\n",
       "18392    106.00\n",
       "18393    135.00\n",
       "Name: surface, dtype: float64"
      ]
     },
     "execution_count": 161,
     "metadata": {},
     "output_type": "execute_result"
    }
   ],
   "source": [
    "data['surface'] = data['surface'].str.replace(' m2','')\n",
    "data['surface'] = data['surface'].astype('float')\n",
    "data['surface'].tail(4)"
   ]
  },
  {
   "cell_type": "markdown",
   "metadata": {},
   "source": [
    "Ahora se limpia el número de habitaciones"
   ]
  },
  {
   "cell_type": "code",
   "execution_count": 162,
   "metadata": {},
   "outputs": [
    {
     "data": {
      "text/plain": [
       "0    3\n",
       "1    3\n",
       "2    3\n",
       "Name: n_rooms, dtype: object"
      ]
     },
     "execution_count": 162,
     "metadata": {},
     "output_type": "execute_result"
    }
   ],
   "source": [
    "data['n_rooms'].head(3)"
   ]
  },
  {
   "cell_type": "markdown",
   "metadata": {},
   "source": [
    "Parece que fueran números enteros, pero el tipo de la columna es object"
   ]
  },
  {
   "cell_type": "code",
   "execution_count": 163,
   "metadata": {},
   "outputs": [
    {
     "data": {
      "text/plain": [
       "array(['3', '5', '4', '2', '1', nan, '5+', 3.0, 5.0, 4.0, 2.0, 1.0],\n",
       "      dtype=object)"
      ]
     },
     "execution_count": 163,
     "metadata": {},
     "output_type": "execute_result"
    }
   ],
   "source": [
    "#Se ven los valores de la columna\n",
    "data['n_rooms'].unique()"
   ]
  },
  {
   "cell_type": "markdown",
   "metadata": {},
   "source": [
    "Se observa que la columna tiene valores de tipo string y float. Más aún se ve que se podría cambiar inmediatamente el tipo a `float` sino existiera el valor `5+`."
   ]
  },
  {
   "cell_type": "code",
   "execution_count": 164,
   "metadata": {},
   "outputs": [
    {
     "data": {
      "text/plain": [
       "2      6571\n",
       "1      6271\n",
       "3      1351\n",
       "4      1198\n",
       "1.0    1040\n",
       "2.0     938\n",
       "5       862\n",
       "3.0      52\n",
       "5.0      36\n",
       "4.0      32\n",
       "5+        9\n",
       "Name: n_rooms, dtype: int64"
      ]
     },
     "execution_count": 164,
     "metadata": {},
     "output_type": "execute_result"
    }
   ],
   "source": [
    "#Se cuenta cuantas entradas hay de cada valor\n",
    "data['n_rooms'].value_counts()"
   ]
  },
  {
   "cell_type": "markdown",
   "metadata": {},
   "source": [
    "Se ve que solo son 9 las entradas con valor `5+`, por lo que es una parte infima del total del dataset que es de $18394$ entradas, simplemente se podrían eliminar. Pero como no se desea botar datos, se cambiará el valor `5+` por $6$, dado que es el entero mayor a 5 más cercano."
   ]
  },
  {
   "cell_type": "code",
   "execution_count": 165,
   "metadata": {},
   "outputs": [
    {
     "data": {
      "text/plain": [
       "array(['3', '5', '4', '2', '1', nan, 6, 3.0, 5.0, 4.0, 2.0, 1.0],\n",
       "      dtype=object)"
      ]
     },
     "execution_count": 165,
     "metadata": {},
     "output_type": "execute_result"
    }
   ],
   "source": [
    "data['n_rooms'] = data['n_rooms'].replace('5+',6)\n",
    "#Se reemplazan el valor que daba problemas, y se muestran los valores de las entradas\n",
    "data['n_rooms'].unique()"
   ]
  },
  {
   "cell_type": "code",
   "execution_count": 166,
   "metadata": {},
   "outputs": [
    {
     "data": {
      "text/plain": [
       "0    3.0\n",
       "1    3.0\n",
       "2    3.0\n",
       "Name: n_rooms, dtype: float64"
      ]
     },
     "execution_count": 166,
     "metadata": {},
     "output_type": "execute_result"
    }
   ],
   "source": [
    "#Como esta correcto, se puede cambiar el tipo de la columna\n",
    "data['n_rooms'] = data['n_rooms'].astype('float')\n",
    "data['n_rooms'].head(3)"
   ]
  },
  {
   "cell_type": "markdown",
   "metadata": {},
   "source": [
    "Por último se limpia el número de baños"
   ]
  },
  {
   "cell_type": "code",
   "execution_count": 167,
   "metadata": {},
   "outputs": [
    {
     "data": {
      "text/plain": [
       "18391    3\n",
       "18392    3\n",
       "18393    2\n",
       "Name: n_bath, dtype: object"
      ]
     },
     "execution_count": 167,
     "metadata": {},
     "output_type": "execute_result"
    }
   ],
   "source": [
    "data['n_bath'].tail(3)"
   ]
  },
  {
   "cell_type": "markdown",
   "metadata": {},
   "source": [
    "Nuevamente parecen ser enteros, pero el tipo es object"
   ]
  },
  {
   "cell_type": "code",
   "execution_count": 168,
   "metadata": {},
   "outputs": [
    {
     "data": {
      "text/plain": [
       "array(['2', '1', '4', '3', nan, '5', '5+', 2.0, 3.0, 4.0, 5.0, 1.0],\n",
       "      dtype=object)"
      ]
     },
     "execution_count": 168,
     "metadata": {},
     "output_type": "execute_result"
    }
   ],
   "source": [
    "#Se ven los valores de la columna\n",
    "data['n_bath'].unique()"
   ]
  },
  {
   "cell_type": "markdown",
   "metadata": {},
   "source": [
    "Nuevamente el error viene dado por `5+`, por lo que se procede de igual manera que en `n_rooms`."
   ]
  },
  {
   "cell_type": "code",
   "execution_count": 169,
   "metadata": {},
   "outputs": [
    {
     "data": {
      "text/plain": [
       "0    2.0\n",
       "1    2.0\n",
       "2    1.0\n",
       "Name: n_bath, dtype: float64"
      ]
     },
     "execution_count": 169,
     "metadata": {},
     "output_type": "execute_result"
    }
   ],
   "source": [
    "data['n_bath'] = data['n_bath'].replace('5+',6) #Se reemplazan '5+' por 6\n",
    "data['n_bath'] = data['n_bath'].astype('float') #Se cambia el tipo a float\n",
    "data['n_bath'].head(3)"
   ]
  },
  {
   "cell_type": "markdown",
   "metadata": {},
   "source": [
    "Finalmente se muestran nuevamente los tipos de las columnas"
   ]
  },
  {
   "cell_type": "code",
   "execution_count": 170,
   "metadata": {},
   "outputs": [
    {
     "data": {
      "text/plain": [
       "property_type|rent_type|location     object\n",
       "price                               float64\n",
       "n_rooms                             float64\n",
       "n_bath                              float64\n",
       "surface                             float64\n",
       "details                              object\n",
       "url                                  object\n",
       "metrocuadrado_index                 float64\n",
       "Furnished                            object\n",
       "dtype: object"
      ]
     },
     "execution_count": 170,
     "metadata": {},
     "output_type": "execute_result"
    }
   ],
   "source": [
    "data.dtypes"
   ]
  },
  {
   "cell_type": "markdown",
   "metadata": {},
   "source": [
    "#### B"
   ]
  },
  {
   "cell_type": "markdown",
   "metadata": {},
   "source": [
    "Se debe dividir la columna `property_type|rent_type|location` en 3 columnas distintas."
   ]
  },
  {
   "cell_type": "code",
   "execution_count": 171,
   "metadata": {},
   "outputs": [],
   "source": [
    "#Se hace una copia de la data por si se realiza un error\n",
    "copia_seguridad = data.copy()"
   ]
  },
  {
   "cell_type": "code",
   "execution_count": 444,
   "metadata": {},
   "outputs": [],
   "source": [
    "#Cuando algo salga mal correr esta celda\n",
    "data = copia_seguridad.copy()"
   ]
  },
  {
   "cell_type": "code",
   "execution_count": 445,
   "metadata": {},
   "outputs": [
    {
     "data": {
      "text/plain": [
       "0          Casa en Arriendo, LA SOLEDAD NORTE Bogotá D.C..\n",
       "1        Casa en Arriendo, CIUDAD SALITRE SUR-ORIENTAL ...\n",
       "2        Casa en Arriendo, VILLA DE LOS ALPES II SECTOR...\n",
       "3              Casa en Arriendo, PARIS GAITAN Bogotá D.C..\n",
       "4        Casa en Arriendo, BALCONES DE ORIENTE Bogotá D...\n",
       "                               ...                        \n",
       "18389    Apartamento en Arriendo, CHICO NORTE Bogotá D.C..\n",
       "18390    Apartamento en Arriendo, CHICO NORTE II Bogotá...\n",
       "18391    Apartamento en Venta Y Arriendo, CHICO NORTE B...\n",
       "18392    Apartamento en Arriendo, MOLINOS NORTE Bogotá ...\n",
       "18393       Apartamento en Arriendo, EL NOGAL Bogotá D.C..\n",
       "Name: property_type|rent_type|location, Length: 18394, dtype: object"
      ]
     },
     "execution_count": 445,
     "metadata": {},
     "output_type": "execute_result"
    }
   ],
   "source": [
    "#Se muestran unos pocos datos de esta columna\n",
    "data['property_type|rent_type|location']"
   ]
  },
  {
   "cell_type": "markdown",
   "metadata": {},
   "source": [
    "Se pueden deducir varias cosas:\n",
    "1. El tipo de propiedad es la primera palabra del string.\n",
    "2. El tipo de renta aparece después de la palabra 'en' y un espacio ' '.\n",
    "3. El lugar esta después de la coma."
   ]
  },
  {
   "cell_type": "markdown",
   "metadata": {},
   "source": [
    "En primer lugar se decide dividir el string en dos partes separadas por la coma."
   ]
  },
  {
   "cell_type": "code",
   "execution_count": 446,
   "metadata": {},
   "outputs": [
    {
     "data": {
      "text/html": [
       "<div>\n",
       "<style scoped>\n",
       "    .dataframe tbody tr th:only-of-type {\n",
       "        vertical-align: middle;\n",
       "    }\n",
       "\n",
       "    .dataframe tbody tr th {\n",
       "        vertical-align: top;\n",
       "    }\n",
       "\n",
       "    .dataframe thead th {\n",
       "        text-align: right;\n",
       "    }\n",
       "</style>\n",
       "<table border=\"1\" class=\"dataframe\">\n",
       "  <thead>\n",
       "    <tr style=\"text-align: right;\">\n",
       "      <th></th>\n",
       "      <th>0</th>\n",
       "      <th>1</th>\n",
       "    </tr>\n",
       "  </thead>\n",
       "  <tbody>\n",
       "    <tr>\n",
       "      <th>0</th>\n",
       "      <td>Casa en Arriendo</td>\n",
       "      <td>LA SOLEDAD NORTE Bogotá D.C..</td>\n",
       "    </tr>\n",
       "    <tr>\n",
       "      <th>1</th>\n",
       "      <td>Casa en Arriendo</td>\n",
       "      <td>CIUDAD SALITRE SUR-ORIENTAL Bogotá D.C..</td>\n",
       "    </tr>\n",
       "    <tr>\n",
       "      <th>2</th>\n",
       "      <td>Casa en Arriendo</td>\n",
       "      <td>VILLA DE LOS ALPES II SECTOR Bogotá D.C..</td>\n",
       "    </tr>\n",
       "  </tbody>\n",
       "</table>\n",
       "</div>"
      ],
      "text/plain": [
       "                  0                                           1\n",
       "0  Casa en Arriendo               LA SOLEDAD NORTE Bogotá D.C..\n",
       "1  Casa en Arriendo    CIUDAD SALITRE SUR-ORIENTAL Bogotá D.C..\n",
       "2  Casa en Arriendo   VILLA DE LOS ALPES II SECTOR Bogotá D.C.."
      ]
     },
     "execution_count": 446,
     "metadata": {},
     "output_type": "execute_result"
    }
   ],
   "source": [
    "new_columns = data['property_type|rent_type|location'].str.split(pat=',', expand=True)\n",
    "new_columns.head(3)"
   ]
  },
  {
   "cell_type": "code",
   "execution_count": 447,
   "metadata": {},
   "outputs": [
    {
     "data": {
      "text/html": [
       "<div>\n",
       "<style scoped>\n",
       "    .dataframe tbody tr th:only-of-type {\n",
       "        vertical-align: middle;\n",
       "    }\n",
       "\n",
       "    .dataframe tbody tr th {\n",
       "        vertical-align: top;\n",
       "    }\n",
       "\n",
       "    .dataframe thead th {\n",
       "        text-align: right;\n",
       "    }\n",
       "</style>\n",
       "<table border=\"1\" class=\"dataframe\">\n",
       "  <thead>\n",
       "    <tr style=\"text-align: right;\">\n",
       "      <th></th>\n",
       "      <th>price</th>\n",
       "      <th>n_rooms</th>\n",
       "      <th>n_bath</th>\n",
       "      <th>surface</th>\n",
       "      <th>details</th>\n",
       "      <th>url</th>\n",
       "      <th>metrocuadrado_index</th>\n",
       "      <th>Furnished</th>\n",
       "      <th>property_type|rent_type</th>\n",
       "      <th>location</th>\n",
       "    </tr>\n",
       "  </thead>\n",
       "  <tbody>\n",
       "    <tr>\n",
       "      <th>0</th>\n",
       "      <td>1050000.0</td>\n",
       "      <td>3.0</td>\n",
       "      <td>2.0</td>\n",
       "      <td>63.0</td>\n",
       "      <td>Excelente casa cerca de la calle 80 y Avenida ...</td>\n",
       "      <td>https://www.metrocuadrado.com/inmueble/arriend...</td>\n",
       "      <td>25.6</td>\n",
       "      <td>No</td>\n",
       "      <td>Casa en Arriendo</td>\n",
       "      <td>LA SOLEDAD NORTE Bogotá D.C..</td>\n",
       "    </tr>\n",
       "    <tr>\n",
       "      <th>1</th>\n",
       "      <td>3930000.0</td>\n",
       "      <td>3.0</td>\n",
       "      <td>2.0</td>\n",
       "      <td>100.0</td>\n",
       "      <td>Se arrienda casa bonita totalmente amoblada co...</td>\n",
       "      <td>https://www.metrocuadrado.com/inmueble/arriend...</td>\n",
       "      <td>57.3</td>\n",
       "      <td>No</td>\n",
       "      <td>Casa en Arriendo</td>\n",
       "      <td>CIUDAD SALITRE SUR-ORIENTAL Bogotá D.C..</td>\n",
       "    </tr>\n",
       "    <tr>\n",
       "      <th>2</th>\n",
       "      <td>750000.0</td>\n",
       "      <td>3.0</td>\n",
       "      <td>1.0</td>\n",
       "      <td>90.0</td>\n",
       "      <td>CASA DE TRES NIVELES TRES ALCOBAS SALA COMEDOR...</td>\n",
       "      <td>https://www.metrocuadrado.com/inmueble/arriend...</td>\n",
       "      <td>12.2</td>\n",
       "      <td>No</td>\n",
       "      <td>Casa en Arriendo</td>\n",
       "      <td>VILLA DE LOS ALPES II SECTOR Bogotá D.C..</td>\n",
       "    </tr>\n",
       "  </tbody>\n",
       "</table>\n",
       "</div>"
      ],
      "text/plain": [
       "       price  n_rooms  n_bath  surface  \\\n",
       "0  1050000.0      3.0     2.0     63.0   \n",
       "1  3930000.0      3.0     2.0    100.0   \n",
       "2   750000.0      3.0     1.0     90.0   \n",
       "\n",
       "                                             details  \\\n",
       "0  Excelente casa cerca de la calle 80 y Avenida ...   \n",
       "1  Se arrienda casa bonita totalmente amoblada co...   \n",
       "2  CASA DE TRES NIVELES TRES ALCOBAS SALA COMEDOR...   \n",
       "\n",
       "                                                 url  metrocuadrado_index  \\\n",
       "0  https://www.metrocuadrado.com/inmueble/arriend...                 25.6   \n",
       "1  https://www.metrocuadrado.com/inmueble/arriend...                 57.3   \n",
       "2  https://www.metrocuadrado.com/inmueble/arriend...                 12.2   \n",
       "\n",
       "  Furnished property_type|rent_type  \\\n",
       "0        No        Casa en Arriendo   \n",
       "1        No        Casa en Arriendo   \n",
       "2        No        Casa en Arriendo   \n",
       "\n",
       "                                     location  \n",
       "0               LA SOLEDAD NORTE Bogotá D.C..  \n",
       "1    CIUDAD SALITRE SUR-ORIENTAL Bogotá D.C..  \n",
       "2   VILLA DE LOS ALPES II SECTOR Bogotá D.C..  "
      ]
     },
     "execution_count": 447,
     "metadata": {},
     "output_type": "execute_result"
    }
   ],
   "source": [
    "#Se insertan las columnas en la data \n",
    "data[['property_type|rent_type', 'location']] = new_columns\n",
    "\n",
    "#Se elimina la columna original\n",
    "data.drop('property_type|rent_type|location', axis=1, inplace=True)\n",
    "\n",
    "data.head(3)"
   ]
  },
  {
   "cell_type": "markdown",
   "metadata": {},
   "source": [
    "Se debe trabajar con la columna location para que quede sólo el nombre del barrio, es decir las palabras en mayúsculas."
   ]
  },
  {
   "cell_type": "code",
   "execution_count": 486,
   "metadata": {},
   "outputs": [],
   "source": [
    "location = data['location'].copy()\n",
    "location = location.str.split()"
   ]
  },
  {
   "cell_type": "markdown",
   "metadata": {},
   "source": [
    "Mediante dos bucles for se puede eliminar la ciudad de la columna location."
   ]
  },
  {
   "cell_type": "code",
   "execution_count": 487,
   "metadata": {},
   "outputs": [],
   "source": [
    "#Primero se busca en las filas\n",
    "for fila in location:\n",
    "    #Luego en cada palabra de la fila\n",
    "    for i in range(len(fila)):\n",
    "        #Si la palabra no esta mayuscula\n",
    "        if not fila[i].isupper():\n",
    "            #elimina la palabra y todas las palabras que le siguen de la lista\n",
    "            del fila[i:]\n",
    "            break"
   ]
  },
  {
   "cell_type": "code",
   "execution_count": 488,
   "metadata": {},
   "outputs": [
    {
     "data": {
      "text/plain": [
       "0                   [LA, SOLEDAD, NORTE]\n",
       "1        [CIUDAD, SALITRE, SUR-ORIENTAL]\n",
       "2    [VILLA, DE, LOS, ALPES, II, SECTOR]\n",
       "3                        [PARIS, GAITAN]\n",
       "4                [BALCONES, DE, ORIENTE]\n",
       "Name: location, dtype: object"
      ]
     },
     "execution_count": 488,
     "metadata": {},
     "output_type": "execute_result"
    }
   ],
   "source": [
    "#Se observa el resultado\n",
    "location.head()"
   ]
  },
  {
   "cell_type": "markdown",
   "metadata": {},
   "source": [
    "Por ultimo se unen las palabras de cada lista y se añaden al dataframe."
   ]
  },
  {
   "cell_type": "code",
   "execution_count": 491,
   "metadata": {},
   "outputs": [
    {
     "data": {
      "text/html": [
       "<div>\n",
       "<style scoped>\n",
       "    .dataframe tbody tr th:only-of-type {\n",
       "        vertical-align: middle;\n",
       "    }\n",
       "\n",
       "    .dataframe tbody tr th {\n",
       "        vertical-align: top;\n",
       "    }\n",
       "\n",
       "    .dataframe thead th {\n",
       "        text-align: right;\n",
       "    }\n",
       "</style>\n",
       "<table border=\"1\" class=\"dataframe\">\n",
       "  <thead>\n",
       "    <tr style=\"text-align: right;\">\n",
       "      <th></th>\n",
       "      <th>price</th>\n",
       "      <th>n_rooms</th>\n",
       "      <th>n_bath</th>\n",
       "      <th>surface</th>\n",
       "      <th>details</th>\n",
       "      <th>url</th>\n",
       "      <th>metrocuadrado_index</th>\n",
       "      <th>Furnished</th>\n",
       "      <th>property_type|rent_type</th>\n",
       "      <th>location</th>\n",
       "    </tr>\n",
       "  </thead>\n",
       "  <tbody>\n",
       "    <tr>\n",
       "      <th>0</th>\n",
       "      <td>1050000.0</td>\n",
       "      <td>3.0</td>\n",
       "      <td>2.0</td>\n",
       "      <td>63.0</td>\n",
       "      <td>Excelente casa cerca de la calle 80 y Avenida ...</td>\n",
       "      <td>https://www.metrocuadrado.com/inmueble/arriend...</td>\n",
       "      <td>25.6</td>\n",
       "      <td>No</td>\n",
       "      <td>Casa en Arriendo</td>\n",
       "      <td>LA SOLEDAD NORTE</td>\n",
       "    </tr>\n",
       "    <tr>\n",
       "      <th>1</th>\n",
       "      <td>3930000.0</td>\n",
       "      <td>3.0</td>\n",
       "      <td>2.0</td>\n",
       "      <td>100.0</td>\n",
       "      <td>Se arrienda casa bonita totalmente amoblada co...</td>\n",
       "      <td>https://www.metrocuadrado.com/inmueble/arriend...</td>\n",
       "      <td>57.3</td>\n",
       "      <td>No</td>\n",
       "      <td>Casa en Arriendo</td>\n",
       "      <td>CIUDAD SALITRE SUR-ORIENTAL</td>\n",
       "    </tr>\n",
       "    <tr>\n",
       "      <th>2</th>\n",
       "      <td>750000.0</td>\n",
       "      <td>3.0</td>\n",
       "      <td>1.0</td>\n",
       "      <td>90.0</td>\n",
       "      <td>CASA DE TRES NIVELES TRES ALCOBAS SALA COMEDOR...</td>\n",
       "      <td>https://www.metrocuadrado.com/inmueble/arriend...</td>\n",
       "      <td>12.2</td>\n",
       "      <td>No</td>\n",
       "      <td>Casa en Arriendo</td>\n",
       "      <td>VILLA DE LOS ALPES II SECTOR</td>\n",
       "    </tr>\n",
       "  </tbody>\n",
       "</table>\n",
       "</div>"
      ],
      "text/plain": [
       "       price  n_rooms  n_bath  surface  \\\n",
       "0  1050000.0      3.0     2.0     63.0   \n",
       "1  3930000.0      3.0     2.0    100.0   \n",
       "2   750000.0      3.0     1.0     90.0   \n",
       "\n",
       "                                             details  \\\n",
       "0  Excelente casa cerca de la calle 80 y Avenida ...   \n",
       "1  Se arrienda casa bonita totalmente amoblada co...   \n",
       "2  CASA DE TRES NIVELES TRES ALCOBAS SALA COMEDOR...   \n",
       "\n",
       "                                                 url  metrocuadrado_index  \\\n",
       "0  https://www.metrocuadrado.com/inmueble/arriend...                 25.6   \n",
       "1  https://www.metrocuadrado.com/inmueble/arriend...                 57.3   \n",
       "2  https://www.metrocuadrado.com/inmueble/arriend...                 12.2   \n",
       "\n",
       "  Furnished property_type|rent_type                      location  \n",
       "0        No        Casa en Arriendo              LA SOLEDAD NORTE  \n",
       "1        No        Casa en Arriendo   CIUDAD SALITRE SUR-ORIENTAL  \n",
       "2        No        Casa en Arriendo  VILLA DE LOS ALPES II SECTOR  "
      ]
     },
     "execution_count": 491,
     "metadata": {},
     "output_type": "execute_result"
    }
   ],
   "source": [
    "location = location.str.join(' ')\n",
    "data['location'] = location\n",
    "data.head(3)"
   ]
  },
  {
   "cell_type": "markdown",
   "metadata": {},
   "source": [
    "Ahora se divide la columna `property_type|rent_type` en dos columnas más."
   ]
  },
  {
   "cell_type": "code",
   "execution_count": 492,
   "metadata": {},
   "outputs": [
    {
     "data": {
      "text/html": [
       "<div>\n",
       "<style scoped>\n",
       "    .dataframe tbody tr th:only-of-type {\n",
       "        vertical-align: middle;\n",
       "    }\n",
       "\n",
       "    .dataframe tbody tr th {\n",
       "        vertical-align: top;\n",
       "    }\n",
       "\n",
       "    .dataframe thead th {\n",
       "        text-align: right;\n",
       "    }\n",
       "</style>\n",
       "<table border=\"1\" class=\"dataframe\">\n",
       "  <thead>\n",
       "    <tr style=\"text-align: right;\">\n",
       "      <th></th>\n",
       "      <th>0</th>\n",
       "      <th>1</th>\n",
       "    </tr>\n",
       "  </thead>\n",
       "  <tbody>\n",
       "    <tr>\n",
       "      <th>0</th>\n",
       "      <td>Casa</td>\n",
       "      <td>Arriendo</td>\n",
       "    </tr>\n",
       "    <tr>\n",
       "      <th>1</th>\n",
       "      <td>Casa</td>\n",
       "      <td>Arriendo</td>\n",
       "    </tr>\n",
       "    <tr>\n",
       "      <th>2</th>\n",
       "      <td>Casa</td>\n",
       "      <td>Arriendo</td>\n",
       "    </tr>\n",
       "  </tbody>\n",
       "</table>\n",
       "</div>"
      ],
      "text/plain": [
       "       0         1\n",
       "0  Casa   Arriendo\n",
       "1  Casa   Arriendo\n",
       "2  Casa   Arriendo"
      ]
     },
     "execution_count": 492,
     "metadata": {},
     "output_type": "execute_result"
    }
   ],
   "source": [
    "new_columns = data['property_type|rent_type'].str.split(pat='en ', expand=True)\n",
    "new_columns.head(3)"
   ]
  },
  {
   "cell_type": "code",
   "execution_count": 493,
   "metadata": {},
   "outputs": [
    {
     "data": {
      "text/html": [
       "<div>\n",
       "<style scoped>\n",
       "    .dataframe tbody tr th:only-of-type {\n",
       "        vertical-align: middle;\n",
       "    }\n",
       "\n",
       "    .dataframe tbody tr th {\n",
       "        vertical-align: top;\n",
       "    }\n",
       "\n",
       "    .dataframe thead th {\n",
       "        text-align: right;\n",
       "    }\n",
       "</style>\n",
       "<table border=\"1\" class=\"dataframe\">\n",
       "  <thead>\n",
       "    <tr style=\"text-align: right;\">\n",
       "      <th></th>\n",
       "      <th>price</th>\n",
       "      <th>n_rooms</th>\n",
       "      <th>n_bath</th>\n",
       "      <th>surface</th>\n",
       "      <th>details</th>\n",
       "      <th>url</th>\n",
       "      <th>metrocuadrado_index</th>\n",
       "      <th>Furnished</th>\n",
       "      <th>location</th>\n",
       "      <th>property</th>\n",
       "      <th>rent</th>\n",
       "    </tr>\n",
       "  </thead>\n",
       "  <tbody>\n",
       "    <tr>\n",
       "      <th>0</th>\n",
       "      <td>1050000.0</td>\n",
       "      <td>3.0</td>\n",
       "      <td>2.0</td>\n",
       "      <td>63.0</td>\n",
       "      <td>Excelente casa cerca de la calle 80 y Avenida ...</td>\n",
       "      <td>https://www.metrocuadrado.com/inmueble/arriend...</td>\n",
       "      <td>25.6</td>\n",
       "      <td>No</td>\n",
       "      <td>LA SOLEDAD NORTE</td>\n",
       "      <td>Casa</td>\n",
       "      <td>Arriendo</td>\n",
       "    </tr>\n",
       "    <tr>\n",
       "      <th>1</th>\n",
       "      <td>3930000.0</td>\n",
       "      <td>3.0</td>\n",
       "      <td>2.0</td>\n",
       "      <td>100.0</td>\n",
       "      <td>Se arrienda casa bonita totalmente amoblada co...</td>\n",
       "      <td>https://www.metrocuadrado.com/inmueble/arriend...</td>\n",
       "      <td>57.3</td>\n",
       "      <td>No</td>\n",
       "      <td>CIUDAD SALITRE SUR-ORIENTAL</td>\n",
       "      <td>Casa</td>\n",
       "      <td>Arriendo</td>\n",
       "    </tr>\n",
       "    <tr>\n",
       "      <th>2</th>\n",
       "      <td>750000.0</td>\n",
       "      <td>3.0</td>\n",
       "      <td>1.0</td>\n",
       "      <td>90.0</td>\n",
       "      <td>CASA DE TRES NIVELES TRES ALCOBAS SALA COMEDOR...</td>\n",
       "      <td>https://www.metrocuadrado.com/inmueble/arriend...</td>\n",
       "      <td>12.2</td>\n",
       "      <td>No</td>\n",
       "      <td>VILLA DE LOS ALPES II SECTOR</td>\n",
       "      <td>Casa</td>\n",
       "      <td>Arriendo</td>\n",
       "    </tr>\n",
       "  </tbody>\n",
       "</table>\n",
       "</div>"
      ],
      "text/plain": [
       "       price  n_rooms  n_bath  surface  \\\n",
       "0  1050000.0      3.0     2.0     63.0   \n",
       "1  3930000.0      3.0     2.0    100.0   \n",
       "2   750000.0      3.0     1.0     90.0   \n",
       "\n",
       "                                             details  \\\n",
       "0  Excelente casa cerca de la calle 80 y Avenida ...   \n",
       "1  Se arrienda casa bonita totalmente amoblada co...   \n",
       "2  CASA DE TRES NIVELES TRES ALCOBAS SALA COMEDOR...   \n",
       "\n",
       "                                                 url  metrocuadrado_index  \\\n",
       "0  https://www.metrocuadrado.com/inmueble/arriend...                 25.6   \n",
       "1  https://www.metrocuadrado.com/inmueble/arriend...                 57.3   \n",
       "2  https://www.metrocuadrado.com/inmueble/arriend...                 12.2   \n",
       "\n",
       "  Furnished                      location property      rent  \n",
       "0        No              LA SOLEDAD NORTE    Casa   Arriendo  \n",
       "1        No   CIUDAD SALITRE SUR-ORIENTAL    Casa   Arriendo  \n",
       "2        No  VILLA DE LOS ALPES II SECTOR    Casa   Arriendo  "
      ]
     },
     "execution_count": 493,
     "metadata": {},
     "output_type": "execute_result"
    }
   ],
   "source": [
    "#Se insertan las columnas en la data y se elimina la columna original\n",
    "data[['property','rent']] = new_columns\n",
    "data.drop('property_type|rent_type', axis=1, inplace=True)\n",
    "data.head(3)"
   ]
  },
  {
   "cell_type": "markdown",
   "metadata": {},
   "source": [
    "Por último se revisa que no hayan espacios vacíos al inicio o final de las nuevas columnas."
   ]
  },
  {
   "cell_type": "code",
   "execution_count": 494,
   "metadata": {
    "scrolled": true
   },
   "outputs": [
    {
     "name": "stdout",
     "output_type": "stream",
     "text": [
      "LA SOLEDAD NORTE\n",
      "Casa \n",
      "Arriendo\n"
     ]
    }
   ],
   "source": [
    "print(data['location'][0])\n",
    "print(data['property'][0])\n",
    "print(data['rent'][0])"
   ]
  },
  {
   "cell_type": "markdown",
   "metadata": {},
   "source": [
    "La columna property tiene espacios, por lo que se utiliza strip para eliminarlos."
   ]
  },
  {
   "cell_type": "code",
   "execution_count": 495,
   "metadata": {},
   "outputs": [],
   "source": [
    "data['property'] = data['property'].str.strip()"
   ]
  },
  {
   "cell_type": "markdown",
   "metadata": {},
   "source": [
    "### Parte 3"
   ]
  },
  {
   "cell_type": "markdown",
   "metadata": {},
   "source": [
    "Adjunte las siguientes columnas:\n",
    "(a) Genere una variable que represente el precio por metro cuadrado.\n",
    "(b) Obtenga el n\u0013umero de garajes procesando la columna 'url' ."
   ]
  },
  {
   "cell_type": "markdown",
   "metadata": {},
   "source": [
    "#### A"
   ]
  },
  {
   "cell_type": "markdown",
   "metadata": {},
   "source": [
    "Se debe generar una nueva columna que contenga el precio por metro cuadrado.\n",
    "\n",
    "Para esto simplemente se divide el precio por la superficie."
   ]
  },
  {
   "cell_type": "code",
   "execution_count": 496,
   "metadata": {},
   "outputs": [
    {
     "data": {
      "text/html": [
       "<div>\n",
       "<style scoped>\n",
       "    .dataframe tbody tr th:only-of-type {\n",
       "        vertical-align: middle;\n",
       "    }\n",
       "\n",
       "    .dataframe tbody tr th {\n",
       "        vertical-align: top;\n",
       "    }\n",
       "\n",
       "    .dataframe thead th {\n",
       "        text-align: right;\n",
       "    }\n",
       "</style>\n",
       "<table border=\"1\" class=\"dataframe\">\n",
       "  <thead>\n",
       "    <tr style=\"text-align: right;\">\n",
       "      <th></th>\n",
       "      <th>price</th>\n",
       "      <th>n_rooms</th>\n",
       "      <th>n_bath</th>\n",
       "      <th>surface</th>\n",
       "      <th>details</th>\n",
       "      <th>url</th>\n",
       "      <th>metrocuadrado_index</th>\n",
       "      <th>Furnished</th>\n",
       "      <th>location</th>\n",
       "      <th>property</th>\n",
       "      <th>rent</th>\n",
       "      <th>Precio m2</th>\n",
       "    </tr>\n",
       "  </thead>\n",
       "  <tbody>\n",
       "    <tr>\n",
       "      <th>0</th>\n",
       "      <td>1050000.0</td>\n",
       "      <td>3.0</td>\n",
       "      <td>2.0</td>\n",
       "      <td>63.0</td>\n",
       "      <td>Excelente casa cerca de la calle 80 y Avenida ...</td>\n",
       "      <td>https://www.metrocuadrado.com/inmueble/arriend...</td>\n",
       "      <td>25.6</td>\n",
       "      <td>No</td>\n",
       "      <td>LA SOLEDAD NORTE</td>\n",
       "      <td>Casa</td>\n",
       "      <td>Arriendo</td>\n",
       "      <td>16666.666667</td>\n",
       "    </tr>\n",
       "    <tr>\n",
       "      <th>1</th>\n",
       "      <td>3930000.0</td>\n",
       "      <td>3.0</td>\n",
       "      <td>2.0</td>\n",
       "      <td>100.0</td>\n",
       "      <td>Se arrienda casa bonita totalmente amoblada co...</td>\n",
       "      <td>https://www.metrocuadrado.com/inmueble/arriend...</td>\n",
       "      <td>57.3</td>\n",
       "      <td>No</td>\n",
       "      <td>CIUDAD SALITRE SUR-ORIENTAL</td>\n",
       "      <td>Casa</td>\n",
       "      <td>Arriendo</td>\n",
       "      <td>39300.000000</td>\n",
       "    </tr>\n",
       "    <tr>\n",
       "      <th>2</th>\n",
       "      <td>750000.0</td>\n",
       "      <td>3.0</td>\n",
       "      <td>1.0</td>\n",
       "      <td>90.0</td>\n",
       "      <td>CASA DE TRES NIVELES TRES ALCOBAS SALA COMEDOR...</td>\n",
       "      <td>https://www.metrocuadrado.com/inmueble/arriend...</td>\n",
       "      <td>12.2</td>\n",
       "      <td>No</td>\n",
       "      <td>VILLA DE LOS ALPES II SECTOR</td>\n",
       "      <td>Casa</td>\n",
       "      <td>Arriendo</td>\n",
       "      <td>8333.333333</td>\n",
       "    </tr>\n",
       "    <tr>\n",
       "      <th>3</th>\n",
       "      <td>3400000.0</td>\n",
       "      <td>5.0</td>\n",
       "      <td>4.0</td>\n",
       "      <td>71.0</td>\n",
       "      <td>casa ezquinera excelente ubicacion cinco alcob...</td>\n",
       "      <td>https://www.metrocuadrado.com/inmueble/arriend...</td>\n",
       "      <td>56.0</td>\n",
       "      <td>No</td>\n",
       "      <td>PARIS GAITAN</td>\n",
       "      <td>Casa</td>\n",
       "      <td>Arriendo</td>\n",
       "      <td>47887.323944</td>\n",
       "    </tr>\n",
       "  </tbody>\n",
       "</table>\n",
       "</div>"
      ],
      "text/plain": [
       "       price  n_rooms  n_bath  surface  \\\n",
       "0  1050000.0      3.0     2.0     63.0   \n",
       "1  3930000.0      3.0     2.0    100.0   \n",
       "2   750000.0      3.0     1.0     90.0   \n",
       "3  3400000.0      5.0     4.0     71.0   \n",
       "\n",
       "                                             details  \\\n",
       "0  Excelente casa cerca de la calle 80 y Avenida ...   \n",
       "1  Se arrienda casa bonita totalmente amoblada co...   \n",
       "2  CASA DE TRES NIVELES TRES ALCOBAS SALA COMEDOR...   \n",
       "3  casa ezquinera excelente ubicacion cinco alcob...   \n",
       "\n",
       "                                                 url  metrocuadrado_index  \\\n",
       "0  https://www.metrocuadrado.com/inmueble/arriend...                 25.6   \n",
       "1  https://www.metrocuadrado.com/inmueble/arriend...                 57.3   \n",
       "2  https://www.metrocuadrado.com/inmueble/arriend...                 12.2   \n",
       "3  https://www.metrocuadrado.com/inmueble/arriend...                 56.0   \n",
       "\n",
       "  Furnished                      location property      rent     Precio m2  \n",
       "0        No              LA SOLEDAD NORTE     Casa  Arriendo  16666.666667  \n",
       "1        No   CIUDAD SALITRE SUR-ORIENTAL     Casa  Arriendo  39300.000000  \n",
       "2        No  VILLA DE LOS ALPES II SECTOR     Casa  Arriendo   8333.333333  \n",
       "3        No                  PARIS GAITAN     Casa  Arriendo  47887.323944  "
      ]
     },
     "execution_count": 496,
     "metadata": {},
     "output_type": "execute_result"
    }
   ],
   "source": [
    "data['Precio m2'] = data['price']/data['surface']\n",
    "data.head(4)"
   ]
  },
  {
   "cell_type": "markdown",
   "metadata": {},
   "source": [
    "#### B"
   ]
  },
  {
   "cell_type": "markdown",
   "metadata": {},
   "source": [
    "Se debe obtener el número de garajes a partir de la columna url."
   ]
  },
  {
   "cell_type": "code",
   "execution_count": 497,
   "metadata": {},
   "outputs": [
    {
     "name": "stdout",
     "output_type": "stream",
     "text": [
      "https://www.metrocuadrado.com/inmueble/arriendo-casa-bogota-la-soledad-norte-3-habitaciones-2-banos-1-garajes/35-M1919\n",
      "https://www.metrocuadrado.com/inmueble/arriendo-casa-bogota-ciudad-salitre-sur-oriental-3-habitaciones-2-banos-1-garajes/769-M2387196\n",
      "https://www.metrocuadrado.com/inmueble/arriendo-casa-bogota-villa-de-los-alpes-ii-sector-3-habitaciones-1-banos/BOSA-04551604\n",
      "https://www.metrocuadrado.com/inmueble/arriendo-casa-bogota-paris-gaitan-5-habitaciones-4-banos/OCHE-04552802\n",
      "https://www.metrocuadrado.com/inmueble/arriendo-casa-bogota-balcones-de-oriente-4-habitaciones-3-banos-1-garajes/943-M2386284\n"
     ]
    }
   ],
   "source": [
    "# Se revisa la columna url\n",
    "for i in range(5):\n",
    "    print(data['url'][i])"
   ]
  },
  {
   "cell_type": "markdown",
   "metadata": {},
   "source": [
    "Se observa que el número de garajes aparece dentro de la url de la página.\n",
    "\n",
    "Parece ser del estilo `n-garajes`, donde `n` es el número de garajes de la propiedad.\n",
    "\n",
    "Sin embargo se debe tener cuidado porque hay url que no tienen garajes."
   ]
  },
  {
   "cell_type": "code",
   "execution_count": 498,
   "metadata": {},
   "outputs": [
    {
     "data": {
      "text/html": [
       "<div>\n",
       "<style scoped>\n",
       "    .dataframe tbody tr th:only-of-type {\n",
       "        vertical-align: middle;\n",
       "    }\n",
       "\n",
       "    .dataframe tbody tr th {\n",
       "        vertical-align: top;\n",
       "    }\n",
       "\n",
       "    .dataframe thead th {\n",
       "        text-align: right;\n",
       "    }\n",
       "</style>\n",
       "<table border=\"1\" class=\"dataframe\">\n",
       "  <thead>\n",
       "    <tr style=\"text-align: right;\">\n",
       "      <th></th>\n",
       "      <th>0</th>\n",
       "      <th>1</th>\n",
       "      <th>2</th>\n",
       "      <th>3</th>\n",
       "      <th>4</th>\n",
       "      <th>5</th>\n",
       "    </tr>\n",
       "  </thead>\n",
       "  <tbody>\n",
       "    <tr>\n",
       "      <th>0</th>\n",
       "      <td>https:</td>\n",
       "      <td></td>\n",
       "      <td>www.metrocuadrado.com</td>\n",
       "      <td>inmueble</td>\n",
       "      <td>arriendo-casa-bogota-la-soledad-norte-3-habita...</td>\n",
       "      <td>35-M1919</td>\n",
       "    </tr>\n",
       "    <tr>\n",
       "      <th>1</th>\n",
       "      <td>https:</td>\n",
       "      <td></td>\n",
       "      <td>www.metrocuadrado.com</td>\n",
       "      <td>inmueble</td>\n",
       "      <td>arriendo-casa-bogota-ciudad-salitre-sur-orient...</td>\n",
       "      <td>769-M2387196</td>\n",
       "    </tr>\n",
       "    <tr>\n",
       "      <th>2</th>\n",
       "      <td>https:</td>\n",
       "      <td></td>\n",
       "      <td>www.metrocuadrado.com</td>\n",
       "      <td>inmueble</td>\n",
       "      <td>arriendo-casa-bogota-villa-de-los-alpes-ii-sec...</td>\n",
       "      <td>BOSA-04551604</td>\n",
       "    </tr>\n",
       "  </tbody>\n",
       "</table>\n",
       "</div>"
      ],
      "text/plain": [
       "        0 1                      2         3  \\\n",
       "0  https:    www.metrocuadrado.com  inmueble   \n",
       "1  https:    www.metrocuadrado.com  inmueble   \n",
       "2  https:    www.metrocuadrado.com  inmueble   \n",
       "\n",
       "                                                   4              5  \n",
       "0  arriendo-casa-bogota-la-soledad-norte-3-habita...       35-M1919  \n",
       "1  arriendo-casa-bogota-ciudad-salitre-sur-orient...   769-M2387196  \n",
       "2  arriendo-casa-bogota-villa-de-los-alpes-ii-sec...  BOSA-04551604  "
      ]
     },
     "execution_count": 498,
     "metadata": {},
     "output_type": "execute_result"
    }
   ],
   "source": [
    "#En primer lugar se divide la url de acuerdo al separarador '/'\n",
    "data['url'].str.split(pat='/', expand=True).head(3)"
   ]
  },
  {
   "cell_type": "code",
   "execution_count": 499,
   "metadata": {},
   "outputs": [
    {
     "name": "stdout",
     "output_type": "stream",
     "text": [
      "arriendo-casa-bogota-la-soledad-norte-3-habitaciones-2-banos-1-garajes\n",
      "arriendo-casa-bogota-ciudad-salitre-sur-oriental-3-habitaciones-2-banos-1-garajes\n",
      "arriendo-casa-bogota-villa-de-los-alpes-ii-sector-3-habitaciones-1-banos\n",
      "arriendo-casa-bogota-paris-gaitan-5-habitaciones-4-banos\n",
      "arriendo-casa-bogota-balcones-de-oriente-4-habitaciones-3-banos-1-garajes\n"
     ]
    }
   ],
   "source": [
    "#Se observa que la columna 4 contiene el detalle de la vivienda\n",
    "detalle = data['url'].str.split(pat='/', expand=True)[4]\n",
    "\n",
    "#Se imprimen algunos datos de ejemplos\n",
    "for i in range(5):\n",
    "    print(detalle[i])"
   ]
  },
  {
   "cell_type": "markdown",
   "metadata": {},
   "source": [
    "Se observa que no todas las viviendas tienen garajes"
   ]
  },
  {
   "cell_type": "code",
   "execution_count": 500,
   "metadata": {},
   "outputs": [
    {
     "name": "stdout",
     "output_type": "stream",
     "text": [
      "Entradas con garajes: 16056\n"
     ]
    }
   ],
   "source": [
    "#Se cuenta el número de filas que contiene la palabra 'garajes'\n",
    "num_garajes = detalle.str.contains('garajes').sum()\n",
    "print('Entradas con garajes:', num_garajes)"
   ]
  },
  {
   "cell_type": "markdown",
   "metadata": {},
   "source": [
    "Se crea una serie para guardar el numero de garajes de las viviendas"
   ]
  },
  {
   "cell_type": "code",
   "execution_count": 501,
   "metadata": {},
   "outputs": [
    {
     "data": {
      "text/plain": [
       "0        NaN\n",
       "1        NaN\n",
       "2        NaN\n",
       "3        NaN\n",
       "4        NaN\n",
       "        ... \n",
       "18389    NaN\n",
       "18390    NaN\n",
       "18391    NaN\n",
       "18392    NaN\n",
       "18393    NaN\n",
       "Name: Garajes, Length: 18394, dtype: object"
      ]
     },
     "execution_count": 501,
     "metadata": {},
     "output_type": "execute_result"
    }
   ],
   "source": [
    "garajes = pd.Series(index=data.index, dtype=str, name='Garajes')\n",
    "garajes"
   ]
  },
  {
   "cell_type": "code",
   "execution_count": 502,
   "metadata": {},
   "outputs": [],
   "source": [
    "#La palabra garajes aparece al final de lista, por lo que se debe \n",
    "#obtener el penultimo valor de la lista.\n",
    "#Siempre y cuando la ultima palabra de la lista sea garajes.\n",
    "\n",
    "for i, elem in enumerate(detalle.str.split('-')):\n",
    "    if elem[-1] == 'garajes':\n",
    "        num = elem[-2]\n",
    "    else:\n",
    "        #Si no aparece, se asume que no tiene garaje\n",
    "        num = 0\n",
    "    garajes[i] = num"
   ]
  },
  {
   "cell_type": "code",
   "execution_count": 503,
   "metadata": {},
   "outputs": [
    {
     "data": {
      "text/plain": [
       "1     8091\n",
       "2     6369\n",
       "0     2338\n",
       "3      912\n",
       "4      675\n",
       "4+       9\n",
       "Name: Garajes, dtype: int64"
      ]
     },
     "execution_count": 503,
     "metadata": {},
     "output_type": "execute_result"
    }
   ],
   "source": [
    "#Se observan los valores y el número de entradas que tiene cada uno\n",
    "garajes.value_counts()"
   ]
  },
  {
   "cell_type": "markdown",
   "metadata": {},
   "source": [
    "Se cambia el valor `4+` por 5."
   ]
  },
  {
   "cell_type": "code",
   "execution_count": 504,
   "metadata": {},
   "outputs": [],
   "source": [
    "garajes = garajes.replace('4+',5)"
   ]
  },
  {
   "cell_type": "markdown",
   "metadata": {},
   "source": [
    "Se comprueba que el número de garajes esta correcto."
   ]
  },
  {
   "cell_type": "code",
   "execution_count": 505,
   "metadata": {},
   "outputs": [
    {
     "data": {
      "text/plain": [
       "True"
      ]
     },
     "execution_count": 505,
     "metadata": {},
     "output_type": "execute_result"
    }
   ],
   "source": [
    "#Al total de entradas se le restan las entradas sin garaje.\n",
    "num_garajes == len(garajes) - garajes.value_counts()[0]"
   ]
  },
  {
   "cell_type": "markdown",
   "metadata": {},
   "source": [
    "Por último, se agrega la columna a los datos."
   ]
  },
  {
   "cell_type": "code",
   "execution_count": 506,
   "metadata": {},
   "outputs": [
    {
     "data": {
      "text/html": [
       "<div>\n",
       "<style scoped>\n",
       "    .dataframe tbody tr th:only-of-type {\n",
       "        vertical-align: middle;\n",
       "    }\n",
       "\n",
       "    .dataframe tbody tr th {\n",
       "        vertical-align: top;\n",
       "    }\n",
       "\n",
       "    .dataframe thead th {\n",
       "        text-align: right;\n",
       "    }\n",
       "</style>\n",
       "<table border=\"1\" class=\"dataframe\">\n",
       "  <thead>\n",
       "    <tr style=\"text-align: right;\">\n",
       "      <th></th>\n",
       "      <th>price</th>\n",
       "      <th>n_rooms</th>\n",
       "      <th>n_bath</th>\n",
       "      <th>surface</th>\n",
       "      <th>details</th>\n",
       "      <th>url</th>\n",
       "      <th>metrocuadrado_index</th>\n",
       "      <th>Furnished</th>\n",
       "      <th>location</th>\n",
       "      <th>property</th>\n",
       "      <th>rent</th>\n",
       "      <th>Precio m2</th>\n",
       "      <th>Garajes</th>\n",
       "    </tr>\n",
       "  </thead>\n",
       "  <tbody>\n",
       "    <tr>\n",
       "      <th>0</th>\n",
       "      <td>1050000.0</td>\n",
       "      <td>3.0</td>\n",
       "      <td>2.0</td>\n",
       "      <td>63.0</td>\n",
       "      <td>Excelente casa cerca de la calle 80 y Avenida ...</td>\n",
       "      <td>https://www.metrocuadrado.com/inmueble/arriend...</td>\n",
       "      <td>25.6</td>\n",
       "      <td>No</td>\n",
       "      <td>LA SOLEDAD NORTE</td>\n",
       "      <td>Casa</td>\n",
       "      <td>Arriendo</td>\n",
       "      <td>16666.666667</td>\n",
       "      <td>1</td>\n",
       "    </tr>\n",
       "    <tr>\n",
       "      <th>1</th>\n",
       "      <td>3930000.0</td>\n",
       "      <td>3.0</td>\n",
       "      <td>2.0</td>\n",
       "      <td>100.0</td>\n",
       "      <td>Se arrienda casa bonita totalmente amoblada co...</td>\n",
       "      <td>https://www.metrocuadrado.com/inmueble/arriend...</td>\n",
       "      <td>57.3</td>\n",
       "      <td>No</td>\n",
       "      <td>CIUDAD SALITRE SUR-ORIENTAL</td>\n",
       "      <td>Casa</td>\n",
       "      <td>Arriendo</td>\n",
       "      <td>39300.000000</td>\n",
       "      <td>1</td>\n",
       "    </tr>\n",
       "    <tr>\n",
       "      <th>2</th>\n",
       "      <td>750000.0</td>\n",
       "      <td>3.0</td>\n",
       "      <td>1.0</td>\n",
       "      <td>90.0</td>\n",
       "      <td>CASA DE TRES NIVELES TRES ALCOBAS SALA COMEDOR...</td>\n",
       "      <td>https://www.metrocuadrado.com/inmueble/arriend...</td>\n",
       "      <td>12.2</td>\n",
       "      <td>No</td>\n",
       "      <td>VILLA DE LOS ALPES II SECTOR</td>\n",
       "      <td>Casa</td>\n",
       "      <td>Arriendo</td>\n",
       "      <td>8333.333333</td>\n",
       "      <td>0</td>\n",
       "    </tr>\n",
       "  </tbody>\n",
       "</table>\n",
       "</div>"
      ],
      "text/plain": [
       "       price  n_rooms  n_bath  surface  \\\n",
       "0  1050000.0      3.0     2.0     63.0   \n",
       "1  3930000.0      3.0     2.0    100.0   \n",
       "2   750000.0      3.0     1.0     90.0   \n",
       "\n",
       "                                             details  \\\n",
       "0  Excelente casa cerca de la calle 80 y Avenida ...   \n",
       "1  Se arrienda casa bonita totalmente amoblada co...   \n",
       "2  CASA DE TRES NIVELES TRES ALCOBAS SALA COMEDOR...   \n",
       "\n",
       "                                                 url  metrocuadrado_index  \\\n",
       "0  https://www.metrocuadrado.com/inmueble/arriend...                 25.6   \n",
       "1  https://www.metrocuadrado.com/inmueble/arriend...                 57.3   \n",
       "2  https://www.metrocuadrado.com/inmueble/arriend...                 12.2   \n",
       "\n",
       "  Furnished                      location property      rent     Precio m2  \\\n",
       "0        No              LA SOLEDAD NORTE     Casa  Arriendo  16666.666667   \n",
       "1        No   CIUDAD SALITRE SUR-ORIENTAL     Casa  Arriendo  39300.000000   \n",
       "2        No  VILLA DE LOS ALPES II SECTOR     Casa  Arriendo   8333.333333   \n",
       "\n",
       "  Garajes  \n",
       "0       1  \n",
       "1       1  \n",
       "2       0  "
      ]
     },
     "execution_count": 506,
     "metadata": {},
     "output_type": "execute_result"
    }
   ],
   "source": [
    "data['Garajes'] = garajes\n",
    "data.head(3)"
   ]
  },
  {
   "cell_type": "markdown",
   "metadata": {},
   "source": [
    "### Parte 4"
   ]
  },
  {
   "cell_type": "markdown",
   "metadata": {},
   "source": [
    "Se deben clasificar las observaciones por tipo de producto de acuerdo a los criterios de una tabla."
   ]
  },
  {
   "cell_type": "code",
   "execution_count": 507,
   "metadata": {},
   "outputs": [],
   "source": [
    "tipo1 = data.query('property==\"Casa\" and surface>=80 and surface<120')\n",
    "tipo2 = data.query('property==\"Casa\" and surface>=120 and surface<180')\n",
    "tipo3 = data.query('property==\"Casa\" and surface>=180 and surface<240')\n",
    "tipo4 = data.query('property==\"Casa\" and surface>=240 and surface<360')\n",
    "tipo5 = data.query('property==\"Casa\" and surface>=360 and surface<460')\n",
    "tipo6 = data.query('property==\"Apartamento\" and surface>=40 and surface<60')\n",
    "tipo7 = data.query('property==\"Apartamento\" and surface>=60 and surface<80')\n",
    "tipo8 = data.query('property==\"Apartamento\" and surface>=80 and surface<=120')"
   ]
  },
  {
   "cell_type": "markdown",
   "metadata": {},
   "source": [
    "Lo que importan son los indices de estos datos."
   ]
  },
  {
   "cell_type": "code",
   "execution_count": 509,
   "metadata": {},
   "outputs": [],
   "source": [
    "t1 = pd.Series(data=1, index=tipo1.index)\n",
    "t2 = pd.Series(data=2, index=tipo2.index)\n",
    "t3 = pd.Series(data=3, index=tipo3.index)\n",
    "t4 = pd.Series(data=4, index=tipo4.index)\n",
    "t5 = pd.Series(data=5, index=tipo5.index)\n",
    "t6 = pd.Series(data=6, index=tipo6.index)\n",
    "t7 = pd.Series(data=7, index=tipo7.index)\n",
    "t8 = pd.Series(data=8, index=tipo8.index)"
   ]
  },
  {
   "cell_type": "markdown",
   "metadata": {},
   "source": [
    "Se concatenan todas estas series y se unen al dataframe."
   ]
  },
  {
   "cell_type": "code",
   "execution_count": 510,
   "metadata": {},
   "outputs": [],
   "source": [
    "cop = data.copy()"
   ]
  },
  {
   "cell_type": "code",
   "execution_count": 511,
   "metadata": {},
   "outputs": [
    {
     "data": {
      "text/html": [
       "<div>\n",
       "<style scoped>\n",
       "    .dataframe tbody tr th:only-of-type {\n",
       "        vertical-align: middle;\n",
       "    }\n",
       "\n",
       "    .dataframe tbody tr th {\n",
       "        vertical-align: top;\n",
       "    }\n",
       "\n",
       "    .dataframe thead th {\n",
       "        text-align: right;\n",
       "    }\n",
       "</style>\n",
       "<table border=\"1\" class=\"dataframe\">\n",
       "  <thead>\n",
       "    <tr style=\"text-align: right;\">\n",
       "      <th></th>\n",
       "      <th>price</th>\n",
       "      <th>n_rooms</th>\n",
       "      <th>n_bath</th>\n",
       "      <th>surface</th>\n",
       "      <th>details</th>\n",
       "      <th>url</th>\n",
       "      <th>metrocuadrado_index</th>\n",
       "      <th>Furnished</th>\n",
       "      <th>location</th>\n",
       "      <th>property</th>\n",
       "      <th>rent</th>\n",
       "      <th>Precio m2</th>\n",
       "      <th>Garajes</th>\n",
       "      <th>tipo de producto</th>\n",
       "    </tr>\n",
       "  </thead>\n",
       "  <tbody>\n",
       "    <tr>\n",
       "      <th>0</th>\n",
       "      <td>1050000.0</td>\n",
       "      <td>3.0</td>\n",
       "      <td>2.0</td>\n",
       "      <td>63.0</td>\n",
       "      <td>Excelente casa cerca de la calle 80 y Avenida ...</td>\n",
       "      <td>https://www.metrocuadrado.com/inmueble/arriend...</td>\n",
       "      <td>25.6</td>\n",
       "      <td>No</td>\n",
       "      <td>LA SOLEDAD NORTE</td>\n",
       "      <td>Casa</td>\n",
       "      <td>Arriendo</td>\n",
       "      <td>16666.666667</td>\n",
       "      <td>1</td>\n",
       "      <td>NaN</td>\n",
       "    </tr>\n",
       "    <tr>\n",
       "      <th>1</th>\n",
       "      <td>3930000.0</td>\n",
       "      <td>3.0</td>\n",
       "      <td>2.0</td>\n",
       "      <td>100.0</td>\n",
       "      <td>Se arrienda casa bonita totalmente amoblada co...</td>\n",
       "      <td>https://www.metrocuadrado.com/inmueble/arriend...</td>\n",
       "      <td>57.3</td>\n",
       "      <td>No</td>\n",
       "      <td>CIUDAD SALITRE SUR-ORIENTAL</td>\n",
       "      <td>Casa</td>\n",
       "      <td>Arriendo</td>\n",
       "      <td>39300.000000</td>\n",
       "      <td>1</td>\n",
       "      <td>1.0</td>\n",
       "    </tr>\n",
       "    <tr>\n",
       "      <th>2</th>\n",
       "      <td>750000.0</td>\n",
       "      <td>3.0</td>\n",
       "      <td>1.0</td>\n",
       "      <td>90.0</td>\n",
       "      <td>CASA DE TRES NIVELES TRES ALCOBAS SALA COMEDOR...</td>\n",
       "      <td>https://www.metrocuadrado.com/inmueble/arriend...</td>\n",
       "      <td>12.2</td>\n",
       "      <td>No</td>\n",
       "      <td>VILLA DE LOS ALPES II SECTOR</td>\n",
       "      <td>Casa</td>\n",
       "      <td>Arriendo</td>\n",
       "      <td>8333.333333</td>\n",
       "      <td>0</td>\n",
       "      <td>1.0</td>\n",
       "    </tr>\n",
       "  </tbody>\n",
       "</table>\n",
       "</div>"
      ],
      "text/plain": [
       "       price  n_rooms  n_bath  surface  \\\n",
       "0  1050000.0      3.0     2.0     63.0   \n",
       "1  3930000.0      3.0     2.0    100.0   \n",
       "2   750000.0      3.0     1.0     90.0   \n",
       "\n",
       "                                             details  \\\n",
       "0  Excelente casa cerca de la calle 80 y Avenida ...   \n",
       "1  Se arrienda casa bonita totalmente amoblada co...   \n",
       "2  CASA DE TRES NIVELES TRES ALCOBAS SALA COMEDOR...   \n",
       "\n",
       "                                                 url  metrocuadrado_index  \\\n",
       "0  https://www.metrocuadrado.com/inmueble/arriend...                 25.6   \n",
       "1  https://www.metrocuadrado.com/inmueble/arriend...                 57.3   \n",
       "2  https://www.metrocuadrado.com/inmueble/arriend...                 12.2   \n",
       "\n",
       "  Furnished                      location property      rent     Precio m2  \\\n",
       "0        No              LA SOLEDAD NORTE     Casa  Arriendo  16666.666667   \n",
       "1        No   CIUDAD SALITRE SUR-ORIENTAL     Casa  Arriendo  39300.000000   \n",
       "2        No  VILLA DE LOS ALPES II SECTOR     Casa  Arriendo   8333.333333   \n",
       "\n",
       "  Garajes  tipo de producto  \n",
       "0       1               NaN  \n",
       "1       1               1.0  \n",
       "2       0               1.0  "
      ]
     },
     "execution_count": 511,
     "metadata": {},
     "output_type": "execute_result"
    }
   ],
   "source": [
    "tipo_producto = pd.concat([t1, t2, t3, t4, t5, t6, t7, t8])\n",
    "data['tipo de producto'] = tipo_producto\n",
    "data.head(3)"
   ]
  },
  {
   "cell_type": "markdown",
   "metadata": {},
   "source": [
    "Se tienen `NaN` porque hay datos que no entran en ninguno de los tipos. \n",
    "\n",
    "Para decidir que se hará con esos datos en primer lugar se contará el número de ellos."
   ]
  },
  {
   "cell_type": "code",
   "execution_count": 512,
   "metadata": {},
   "outputs": [
    {
     "name": "stdout",
     "output_type": "stream",
     "text": [
      "Datos nulos: 2774\n",
      "Porcentaje de nulos: 15.081%\n"
     ]
    }
   ],
   "source": [
    "nulos = data['tipo de producto'].isnull().sum()\n",
    "print('Datos nulos:', nulos)\n",
    "print('Porcentaje de nulos: {:.3f}%'.format(nulos/len(data)*100))"
   ]
  },
  {
   "cell_type": "markdown",
   "metadata": {},
   "source": [
    "Como se observa es una gran cantidad de datos, por lo que se requiere tener más información para saber que hacer con esos datos."
   ]
  },
  {
   "cell_type": "code",
   "execution_count": 513,
   "metadata": {
    "scrolled": false
   },
   "outputs": [
    {
     "data": {
      "text/html": [
       "<div>\n",
       "<style scoped>\n",
       "    .dataframe tbody tr th:only-of-type {\n",
       "        vertical-align: middle;\n",
       "    }\n",
       "\n",
       "    .dataframe tbody tr th {\n",
       "        vertical-align: top;\n",
       "    }\n",
       "\n",
       "    .dataframe thead th {\n",
       "        text-align: right;\n",
       "    }\n",
       "</style>\n",
       "<table border=\"1\" class=\"dataframe\">\n",
       "  <thead>\n",
       "    <tr style=\"text-align: right;\">\n",
       "      <th></th>\n",
       "      <th>price</th>\n",
       "      <th>n_rooms</th>\n",
       "      <th>n_bath</th>\n",
       "      <th>surface</th>\n",
       "      <th>details</th>\n",
       "      <th>url</th>\n",
       "      <th>metrocuadrado_index</th>\n",
       "      <th>Furnished</th>\n",
       "      <th>location</th>\n",
       "      <th>property</th>\n",
       "      <th>rent</th>\n",
       "      <th>Precio m2</th>\n",
       "      <th>Garajes</th>\n",
       "      <th>tipo de producto</th>\n",
       "    </tr>\n",
       "  </thead>\n",
       "  <tbody>\n",
       "    <tr>\n",
       "      <th>0</th>\n",
       "      <td>1050000.0</td>\n",
       "      <td>3.0</td>\n",
       "      <td>2.0</td>\n",
       "      <td>63.0</td>\n",
       "      <td>Excelente casa cerca de la calle 80 y Avenida ...</td>\n",
       "      <td>https://www.metrocuadrado.com/inmueble/arriend...</td>\n",
       "      <td>25.6</td>\n",
       "      <td>No</td>\n",
       "      <td>LA SOLEDAD NORTE</td>\n",
       "      <td>Casa</td>\n",
       "      <td>Arriendo</td>\n",
       "      <td>16666.666667</td>\n",
       "      <td>1</td>\n",
       "      <td>NaN</td>\n",
       "    </tr>\n",
       "    <tr>\n",
       "      <th>3</th>\n",
       "      <td>3400000.0</td>\n",
       "      <td>5.0</td>\n",
       "      <td>4.0</td>\n",
       "      <td>71.0</td>\n",
       "      <td>casa ezquinera excelente ubicacion cinco alcob...</td>\n",
       "      <td>https://www.metrocuadrado.com/inmueble/arriend...</td>\n",
       "      <td>56.0</td>\n",
       "      <td>No</td>\n",
       "      <td>PARIS GAITAN</td>\n",
       "      <td>Casa</td>\n",
       "      <td>Arriendo</td>\n",
       "      <td>47887.323944</td>\n",
       "      <td>0</td>\n",
       "      <td>NaN</td>\n",
       "    </tr>\n",
       "    <tr>\n",
       "      <th>5</th>\n",
       "      <td>1100000.0</td>\n",
       "      <td>3.0</td>\n",
       "      <td>2.0</td>\n",
       "      <td>69.0</td>\n",
       "      <td>Casa en conjunto cerrado, recién remodelada, c...</td>\n",
       "      <td>https://www.metrocuadrado.com/inmueble/arriend...</td>\n",
       "      <td>32.4</td>\n",
       "      <td>No</td>\n",
       "      <td>TIBABUYES</td>\n",
       "      <td>Casa</td>\n",
       "      <td>Arriendo</td>\n",
       "      <td>15942.028986</td>\n",
       "      <td>0</td>\n",
       "      <td>NaN</td>\n",
       "    </tr>\n",
       "  </tbody>\n",
       "</table>\n",
       "</div>"
      ],
      "text/plain": [
       "       price  n_rooms  n_bath  surface  \\\n",
       "0  1050000.0      3.0     2.0     63.0   \n",
       "3  3400000.0      5.0     4.0     71.0   \n",
       "5  1100000.0      3.0     2.0     69.0   \n",
       "\n",
       "                                             details  \\\n",
       "0  Excelente casa cerca de la calle 80 y Avenida ...   \n",
       "3  casa ezquinera excelente ubicacion cinco alcob...   \n",
       "5  Casa en conjunto cerrado, recién remodelada, c...   \n",
       "\n",
       "                                                 url  metrocuadrado_index  \\\n",
       "0  https://www.metrocuadrado.com/inmueble/arriend...                 25.6   \n",
       "3  https://www.metrocuadrado.com/inmueble/arriend...                 56.0   \n",
       "5  https://www.metrocuadrado.com/inmueble/arriend...                 32.4   \n",
       "\n",
       "  Furnished          location property      rent     Precio m2 Garajes  \\\n",
       "0        No  LA SOLEDAD NORTE     Casa  Arriendo  16666.666667       1   \n",
       "3        No      PARIS GAITAN     Casa  Arriendo  47887.323944       0   \n",
       "5        No         TIBABUYES     Casa  Arriendo  15942.028986       0   \n",
       "\n",
       "   tipo de producto  \n",
       "0               NaN  \n",
       "3               NaN  \n",
       "5               NaN  "
      ]
     },
     "execution_count": 513,
     "metadata": {},
     "output_type": "execute_result"
    }
   ],
   "source": [
    "data_nulos = data[data['tipo de producto'].isnull()]\n",
    "data_nulos.head(3)"
   ]
  },
  {
   "cell_type": "markdown",
   "metadata": {},
   "source": [
    "Los tipos de datos que no están siendo considerados son lo siguientes:\n",
    "\n",
    "1. Casa con área menor a $80m^2$\n",
    "2. Casa con área mayor a $460m^2$\n",
    "3. Apartamento con área menor a $40m^2$\n",
    "4. Apartamento con área mayor a $120m^2$\n",
    "\n",
    "Se estudiará la cantidad de datos en cada uno de estos subconjuntos."
   ]
  },
  {
   "cell_type": "code",
   "execution_count": 514,
   "metadata": {},
   "outputs": [],
   "source": [
    "tipo9 = data.query('property==\"Casa\" and surface<80')\n",
    "tipo10 = data.query('property==\"Casa\" and surface>460')\n",
    "tipo11 = data.query('property==\"Apartamento\" and surface<40')\n",
    "tipo12 = data.query('property==\"Apartamento\" and surface>120')"
   ]
  },
  {
   "cell_type": "code",
   "execution_count": 515,
   "metadata": {},
   "outputs": [
    {
     "name": "stdout",
     "output_type": "stream",
     "text": [
      "Cantidad de datos:  188\n",
      "Cantidad de datos:  166\n",
      "Cantidad de datos:  1100\n",
      "Cantidad de datos:  1308\n"
     ]
    }
   ],
   "source": [
    "sin_tipo = [tipo9, tipo10, tipo11, tipo12]\n",
    "for i in sin_tipo:\n",
    "    print('Cantidad de datos: ', len(i))"
   ]
  },
  {
   "cell_type": "markdown",
   "metadata": {},
   "source": [
    "Se observa que la mayoria de datos que no son considerados son los de apartamentos."
   ]
  },
  {
   "cell_type": "code",
   "execution_count": 516,
   "metadata": {},
   "outputs": [],
   "source": [
    "#Se forman series con los indices de los datos sin tipo\n",
    "t9 = pd.Series(data=9, index=tipo9.index)\n",
    "t10 = pd.Series(data=10, index=tipo10.index)\n",
    "t11 = pd.Series(data=11, index=tipo11.index)\n",
    "t12 = pd.Series(data=12, index=tipo12.index)"
   ]
  },
  {
   "cell_type": "markdown",
   "metadata": {},
   "source": [
    "Se concatenan todos los datos que no pertencen a ningún tipo."
   ]
  },
  {
   "cell_type": "code",
   "execution_count": 517,
   "metadata": {},
   "outputs": [],
   "source": [
    "datos_sin_tipo = pd.concat([t9, t10, t11, t12])\n",
    "datos_sin_tipo.name = 'tipo de producto'"
   ]
  },
  {
   "cell_type": "markdown",
   "metadata": {},
   "source": [
    "Finalmente se decide unirlos con los otros datos, pero dandoles otros tipos de acuerdo a su valor."
   ]
  },
  {
   "cell_type": "code",
   "execution_count": 518,
   "metadata": {},
   "outputs": [
    {
     "data": {
      "text/html": [
       "<div>\n",
       "<style scoped>\n",
       "    .dataframe tbody tr th:only-of-type {\n",
       "        vertical-align: middle;\n",
       "    }\n",
       "\n",
       "    .dataframe tbody tr th {\n",
       "        vertical-align: top;\n",
       "    }\n",
       "\n",
       "    .dataframe thead th {\n",
       "        text-align: right;\n",
       "    }\n",
       "</style>\n",
       "<table border=\"1\" class=\"dataframe\">\n",
       "  <thead>\n",
       "    <tr style=\"text-align: right;\">\n",
       "      <th></th>\n",
       "      <th>price</th>\n",
       "      <th>n_rooms</th>\n",
       "      <th>n_bath</th>\n",
       "      <th>surface</th>\n",
       "      <th>details</th>\n",
       "      <th>url</th>\n",
       "      <th>metrocuadrado_index</th>\n",
       "      <th>Furnished</th>\n",
       "      <th>location</th>\n",
       "      <th>property</th>\n",
       "      <th>rent</th>\n",
       "      <th>Precio m2</th>\n",
       "      <th>Garajes</th>\n",
       "      <th>tipo de producto</th>\n",
       "    </tr>\n",
       "  </thead>\n",
       "  <tbody>\n",
       "    <tr>\n",
       "      <th>0</th>\n",
       "      <td>1050000.0</td>\n",
       "      <td>3.0</td>\n",
       "      <td>2.0</td>\n",
       "      <td>63.0</td>\n",
       "      <td>Excelente casa cerca de la calle 80 y Avenida ...</td>\n",
       "      <td>https://www.metrocuadrado.com/inmueble/arriend...</td>\n",
       "      <td>25.6</td>\n",
       "      <td>No</td>\n",
       "      <td>LA SOLEDAD NORTE</td>\n",
       "      <td>Casa</td>\n",
       "      <td>Arriendo</td>\n",
       "      <td>16666.666667</td>\n",
       "      <td>1</td>\n",
       "      <td>9.0</td>\n",
       "    </tr>\n",
       "    <tr>\n",
       "      <th>1</th>\n",
       "      <td>3930000.0</td>\n",
       "      <td>3.0</td>\n",
       "      <td>2.0</td>\n",
       "      <td>100.0</td>\n",
       "      <td>Se arrienda casa bonita totalmente amoblada co...</td>\n",
       "      <td>https://www.metrocuadrado.com/inmueble/arriend...</td>\n",
       "      <td>57.3</td>\n",
       "      <td>No</td>\n",
       "      <td>CIUDAD SALITRE SUR-ORIENTAL</td>\n",
       "      <td>Casa</td>\n",
       "      <td>Arriendo</td>\n",
       "      <td>39300.000000</td>\n",
       "      <td>1</td>\n",
       "      <td>1.0</td>\n",
       "    </tr>\n",
       "    <tr>\n",
       "      <th>2</th>\n",
       "      <td>750000.0</td>\n",
       "      <td>3.0</td>\n",
       "      <td>1.0</td>\n",
       "      <td>90.0</td>\n",
       "      <td>CASA DE TRES NIVELES TRES ALCOBAS SALA COMEDOR...</td>\n",
       "      <td>https://www.metrocuadrado.com/inmueble/arriend...</td>\n",
       "      <td>12.2</td>\n",
       "      <td>No</td>\n",
       "      <td>VILLA DE LOS ALPES II SECTOR</td>\n",
       "      <td>Casa</td>\n",
       "      <td>Arriendo</td>\n",
       "      <td>8333.333333</td>\n",
       "      <td>0</td>\n",
       "      <td>1.0</td>\n",
       "    </tr>\n",
       "    <tr>\n",
       "      <th>3</th>\n",
       "      <td>3400000.0</td>\n",
       "      <td>5.0</td>\n",
       "      <td>4.0</td>\n",
       "      <td>71.0</td>\n",
       "      <td>casa ezquinera excelente ubicacion cinco alcob...</td>\n",
       "      <td>https://www.metrocuadrado.com/inmueble/arriend...</td>\n",
       "      <td>56.0</td>\n",
       "      <td>No</td>\n",
       "      <td>PARIS GAITAN</td>\n",
       "      <td>Casa</td>\n",
       "      <td>Arriendo</td>\n",
       "      <td>47887.323944</td>\n",
       "      <td>0</td>\n",
       "      <td>9.0</td>\n",
       "    </tr>\n",
       "    <tr>\n",
       "      <th>4</th>\n",
       "      <td>1560000.0</td>\n",
       "      <td>4.0</td>\n",
       "      <td>3.0</td>\n",
       "      <td>96.0</td>\n",
       "      <td>Excelente casa de tres niveles, buena ubicació...</td>\n",
       "      <td>https://www.metrocuadrado.com/inmueble/arriend...</td>\n",
       "      <td>47.1</td>\n",
       "      <td>No</td>\n",
       "      <td>BALCONES DE ORIENTE</td>\n",
       "      <td>Casa</td>\n",
       "      <td>Arriendo</td>\n",
       "      <td>16250.000000</td>\n",
       "      <td>1</td>\n",
       "      <td>1.0</td>\n",
       "    </tr>\n",
       "  </tbody>\n",
       "</table>\n",
       "</div>"
      ],
      "text/plain": [
       "       price  n_rooms  n_bath  surface  \\\n",
       "0  1050000.0      3.0     2.0     63.0   \n",
       "1  3930000.0      3.0     2.0    100.0   \n",
       "2   750000.0      3.0     1.0     90.0   \n",
       "3  3400000.0      5.0     4.0     71.0   \n",
       "4  1560000.0      4.0     3.0     96.0   \n",
       "\n",
       "                                             details  \\\n",
       "0  Excelente casa cerca de la calle 80 y Avenida ...   \n",
       "1  Se arrienda casa bonita totalmente amoblada co...   \n",
       "2  CASA DE TRES NIVELES TRES ALCOBAS SALA COMEDOR...   \n",
       "3  casa ezquinera excelente ubicacion cinco alcob...   \n",
       "4  Excelente casa de tres niveles, buena ubicació...   \n",
       "\n",
       "                                                 url  metrocuadrado_index  \\\n",
       "0  https://www.metrocuadrado.com/inmueble/arriend...                 25.6   \n",
       "1  https://www.metrocuadrado.com/inmueble/arriend...                 57.3   \n",
       "2  https://www.metrocuadrado.com/inmueble/arriend...                 12.2   \n",
       "3  https://www.metrocuadrado.com/inmueble/arriend...                 56.0   \n",
       "4  https://www.metrocuadrado.com/inmueble/arriend...                 47.1   \n",
       "\n",
       "  Furnished                      location property      rent     Precio m2  \\\n",
       "0        No              LA SOLEDAD NORTE     Casa  Arriendo  16666.666667   \n",
       "1        No   CIUDAD SALITRE SUR-ORIENTAL     Casa  Arriendo  39300.000000   \n",
       "2        No  VILLA DE LOS ALPES II SECTOR     Casa  Arriendo   8333.333333   \n",
       "3        No                  PARIS GAITAN     Casa  Arriendo  47887.323944   \n",
       "4        No           BALCONES DE ORIENTE     Casa  Arriendo  16250.000000   \n",
       "\n",
       "  Garajes  tipo de producto  \n",
       "0       1               9.0  \n",
       "1       1               1.0  \n",
       "2       0               1.0  \n",
       "3       0               9.0  \n",
       "4       1               1.0  "
      ]
     },
     "execution_count": 518,
     "metadata": {},
     "output_type": "execute_result"
    }
   ],
   "source": [
    "data['tipo de producto'] = data['tipo de producto'].combine_first(datos_sin_tipo)\n",
    "data.head()"
   ]
  },
  {
   "cell_type": "markdown",
   "metadata": {},
   "source": [
    "### Parte 5"
   ]
  },
  {
   "cell_type": "markdown",
   "metadata": {},
   "source": [
    "A partir de la columna 'barrio', haga una fusi\u0013on con el archivo data/assignacion upz/barrio-upz-\n",
    "asignacion.csv para obtener as\u0013\u0010 el c\u0013odigo de la UPZ de cada inmueble. Reporte el numero de observaciones\n",
    "y de barrios a los que no se les puede adjuntar un c\u0013odigo UPZ a partir de este archivo. Tenga en cuenta\n",
    "que aproximadamente 90% de los datos tiene informaci\u0013on sobre UPZ."
   ]
  },
  {
   "cell_type": "markdown",
   "metadata": {},
   "source": [
    "Se cargan los datos desde `data/asignacion_upz/barrio-upz.csv`."
   ]
  },
  {
   "cell_type": "code",
   "execution_count": 539,
   "metadata": {
    "scrolled": false
   },
   "outputs": [
    {
     "data": {
      "text/html": [
       "<div>\n",
       "<style scoped>\n",
       "    .dataframe tbody tr th:only-of-type {\n",
       "        vertical-align: middle;\n",
       "    }\n",
       "\n",
       "    .dataframe tbody tr th {\n",
       "        vertical-align: top;\n",
       "    }\n",
       "\n",
       "    .dataframe thead th {\n",
       "        text-align: right;\n",
       "    }\n",
       "</style>\n",
       "<table border=\"1\" class=\"dataframe\">\n",
       "  <thead>\n",
       "    <tr style=\"text-align: right;\">\n",
       "      <th></th>\n",
       "      <th>UPlCodigo</th>\n",
       "      <th>UPlTipo</th>\n",
       "      <th>UPlNombre</th>\n",
       "      <th>UPlArea</th>\n",
       "      <th>pro_location</th>\n",
       "    </tr>\n",
       "  </thead>\n",
       "  <tbody>\n",
       "    <tr>\n",
       "      <th>0</th>\n",
       "      <td>UPZ100</td>\n",
       "      <td>1</td>\n",
       "      <td>GALERIAS</td>\n",
       "      <td>2.375681e+06</td>\n",
       "      <td>palermo</td>\n",
       "    </tr>\n",
       "    <tr>\n",
       "      <th>1</th>\n",
       "      <td>UPZ100</td>\n",
       "      <td>1</td>\n",
       "      <td>GALERIAS</td>\n",
       "      <td>2.375681e+06</td>\n",
       "      <td>belalcazar</td>\n",
       "    </tr>\n",
       "    <tr>\n",
       "      <th>2</th>\n",
       "      <td>UPZ100</td>\n",
       "      <td>1</td>\n",
       "      <td>GALERIAS</td>\n",
       "      <td>2.375681e+06</td>\n",
       "      <td>sears</td>\n",
       "    </tr>\n",
       "    <tr>\n",
       "      <th>3</th>\n",
       "      <td>UPZ100</td>\n",
       "      <td>1</td>\n",
       "      <td>GALERIAS</td>\n",
       "      <td>2.375681e+06</td>\n",
       "      <td>galerias</td>\n",
       "    </tr>\n",
       "    <tr>\n",
       "      <th>4</th>\n",
       "      <td>UPZ100</td>\n",
       "      <td>1</td>\n",
       "      <td>GALERIAS</td>\n",
       "      <td>2.375681e+06</td>\n",
       "      <td>banco central</td>\n",
       "    </tr>\n",
       "    <tr>\n",
       "      <th>...</th>\n",
       "      <td>...</td>\n",
       "      <td>...</td>\n",
       "      <td>...</td>\n",
       "      <td>...</td>\n",
       "      <td>...</td>\n",
       "    </tr>\n",
       "    <tr>\n",
       "      <th>463</th>\n",
       "      <td>UPZ42</td>\n",
       "      <td>1</td>\n",
       "      <td>VENECIA</td>\n",
       "      <td>6.638420e+06</td>\n",
       "      <td>nuevo muzu</td>\n",
       "    </tr>\n",
       "    <tr>\n",
       "      <th>464</th>\n",
       "      <td>UPZ42</td>\n",
       "      <td>1</td>\n",
       "      <td>VENECIA</td>\n",
       "      <td>6.638420e+06</td>\n",
       "      <td>el condor</td>\n",
       "    </tr>\n",
       "    <tr>\n",
       "      <th>465</th>\n",
       "      <td>UPZ42</td>\n",
       "      <td>1</td>\n",
       "      <td>VENECIA</td>\n",
       "      <td>6.638420e+06</td>\n",
       "      <td>laguneta</td>\n",
       "    </tr>\n",
       "    <tr>\n",
       "      <th>466</th>\n",
       "      <td>UPZ52</td>\n",
       "      <td>1</td>\n",
       "      <td>LA FLORA</td>\n",
       "      <td>1.877160e+06</td>\n",
       "      <td>villa maria</td>\n",
       "    </tr>\n",
       "    <tr>\n",
       "      <th>467</th>\n",
       "      <td>UPZ60</td>\n",
       "      <td>1</td>\n",
       "      <td>PARQUE ENTRENUBES</td>\n",
       "      <td>4.190395e+06</td>\n",
       "      <td>NaN</td>\n",
       "    </tr>\n",
       "  </tbody>\n",
       "</table>\n",
       "<p>468 rows × 5 columns</p>\n",
       "</div>"
      ],
      "text/plain": [
       "    UPlCodigo  UPlTipo          UPlNombre       UPlArea   pro_location\n",
       "0      UPZ100        1           GALERIAS  2.375681e+06        palermo\n",
       "1      UPZ100        1           GALERIAS  2.375681e+06     belalcazar\n",
       "2      UPZ100        1           GALERIAS  2.375681e+06          sears\n",
       "3      UPZ100        1           GALERIAS  2.375681e+06       galerias\n",
       "4      UPZ100        1           GALERIAS  2.375681e+06  banco central\n",
       "..        ...      ...                ...           ...            ...\n",
       "463     UPZ42        1            VENECIA  6.638420e+06     nuevo muzu\n",
       "464     UPZ42        1            VENECIA  6.638420e+06      el condor\n",
       "465     UPZ42        1            VENECIA  6.638420e+06       laguneta\n",
       "466     UPZ52        1           LA FLORA  1.877160e+06    villa maria\n",
       "467     UPZ60        1  PARQUE ENTRENUBES  4.190395e+06            NaN\n",
       "\n",
       "[468 rows x 5 columns]"
      ]
     },
     "execution_count": 539,
     "metadata": {},
     "output_type": "execute_result"
    }
   ],
   "source": [
    "barrio = pd.read_csv('data/asignacion_upz/barrio-upz.csv')\n",
    "barrio"
   ]
  },
  {
   "cell_type": "markdown",
   "metadata": {},
   "source": [
    "Se deduce que la columna `UPlNombre` tiene el nombre del barrio y que se relaciona con la columna `location` del dataframe."
   ]
  },
  {
   "cell_type": "markdown",
   "metadata": {},
   "source": [
    "En primer lugar se buscan los valores únicos en la columna `UPlNombre`."
   ]
  },
  {
   "cell_type": "code",
   "execution_count": 526,
   "metadata": {},
   "outputs": [
    {
     "data": {
      "text/plain": [
       "array(['GALERIAS', 'LAS MARGARITAS', 'QUINTA PAREDES', 'TEUSAQUILLO'],\n",
       "      dtype=object)"
      ]
     },
     "execution_count": 526,
     "metadata": {},
     "output_type": "execute_result"
    }
   ],
   "source": [
    "b_unicos = barrio['UPlNombre'].unique()\n",
    "b_unicos[:4]"
   ]
  },
  {
   "cell_type": "code",
   "execution_count": 654,
   "metadata": {},
   "outputs": [],
   "source": [
    "code = pd.Series(data=0, index=data.index, dtype=float)"
   ]
  },
  {
   "cell_type": "code",
   "execution_count": 554,
   "metadata": {},
   "outputs": [
    {
     "data": {
      "text/plain": [
       "nan"
      ]
     },
     "execution_count": 554,
     "metadata": {},
     "output_type": "execute_result"
    }
   ],
   "source": [
    "import numpy as np\n",
    "np.nan"
   ]
  },
  {
   "cell_type": "code",
   "execution_count": 584,
   "metadata": {},
   "outputs": [],
   "source": [
    "location = data['location'].str.strip()"
   ]
  },
  {
   "cell_type": "code",
   "execution_count": 660,
   "metadata": {},
   "outputs": [
    {
     "data": {
      "text/plain": [
       "array(['GALERIAS', 'LAS MARGARITAS', 'QUINTA PAREDES', 'TEUSAQUILLO',\n",
       "       'SAGRADO CORAZON', 'GRAN BRITALIA', 'ZONA INDUSTRIAL', 'FONTIBON',\n",
       "       'DOCE DE OCTUBRE', 'MODELIA', 'PARQUE SALITRE', 'JARDIN BOTANICO',\n",
       "       'EL REFUGIO', 'SUBA', 'BOLIVIA', 'COUNTRY CLUB', 'SANTA BARBARA',\n",
       "       'LOS ANDES', 'SAN ISIDRO - PATIOS', 'LA ESMERALDA', 'EL PORVENIR',\n",
       "       'PATIO BONITO', 'CHAPINERO', 'CIUDAD SALITRE ORIENTAL',\n",
       "       'PARDO RUBIO', 'SOSIEGO', 'PUENTE ARANDA', 'LA SABANA', 'CARVAJAL',\n",
       "       'LAS NIEVES', 'SANTA ISABEL', 'APOGEO', 'EL PRADO', 'NIZA',\n",
       "       'CASA BLANCA SUBA', 'CIUDAD SALITRE OCCIDENTAL',\n",
       "       'PARQUE SIMON BOLIVAR - CAN', 'SANTA CECILIA', 'EL TESORO',\n",
       "       'MONTE BLANCO', 'TIBABUYES', 'MINUTO DE DIOS',\n",
       "       'FONTIBON SAN PABLO', 'GUAYMARAL', 'CORABASTOS', 'LUCERO',\n",
       "       'EL MOCHUELO', 'DIANA TURBAY', 'LOS LIBERTADORES', 'DANUBIO',\n",
       "       'ARBORIZADORA', 'LA ACADEMIA', 'SAN JOSE DE BAVARIA', 'BRITALIA',\n",
       "       'LAS FERIAS', 'CAPELLANIA', 'LA GLORIA', 'LA ALHAMBRA',\n",
       "       'CALANDAIMA', 'TOBERIN', 'LA URIBE', 'ALFONSO LOPEZ', 'COMUNEROS',\n",
       "       'SAN RAFAEL', 'KENNEDY CENTRAL', 'TIMIZA', 'BAVARIA', 'AMERICAS',\n",
       "       'LOS CEDROS', 'JERUSALEM', 'SAN JOSE', 'SAN FRANCISCO',\n",
       "       'GRAN YOMASA', 'SAN CRISTOBAL NORTE', 'USAQUEN', 'GARCES NAVAS',\n",
       "       'ENGATIVA', 'LA FLORESTA', 'CHICO LAGO', 'LOS ALCAZARES',\n",
       "       'LOURDES', 'LA MACARENA', 'LA CANDELARIA', 'VERBENAL', 'EL RINCON',\n",
       "       'BOYACA REAL', 'ALAMOS', 'CIUDAD JARDIN', 'RESTREPO', 'MUZU',\n",
       "       'CIUDAD MONTES', '20 DE JULIO', 'BOSA OCCIDENTAL', 'BOSA CENTRAL',\n",
       "       'SAN BLAS', 'LAS CRUCES', 'TINTAL SUR',\n",
       "       'PASEO DE LOS LIBERTADORES', 'CASTILLA', 'GRANJAS DE TECHO',\n",
       "       'TINTAL NORTE', 'AEROPUERTO EL DORADO', 'ZONA FRANCA', 'MARRUECOS',\n",
       "       'QUIROGA', 'TUNJUELITO', 'MARCO FIDEL SUAREZ', 'ISMAEL PERDOMO',\n",
       "       'CIUDAD USME', 'VENECIA', 'LA FLORA', 'PARQUE ENTRENUBES'],\n",
       "      dtype=object)"
      ]
     },
     "execution_count": 660,
     "metadata": {},
     "output_type": "execute_result"
    }
   ],
   "source": [
    "nombreup = barrio['UPlNombre']\n",
    "codigoup = barrio['UPlCodigo']\n",
    "nombreup.unique()"
   ]
  },
  {
   "cell_type": "code",
   "execution_count": 661,
   "metadata": {},
   "outputs": [
    {
     "data": {
      "text/plain": [
       "array(['LA SOLEDAD NORTE', 'CIUDAD SALITRE SUR-ORIENTAL',\n",
       "       'VILLA DE LOS ALPES II SECTOR', 'PARIS GAITAN',\n",
       "       'BALCONES DE ORIENTE', 'TIBABUYES', 'PORTALES DEL NORTE',\n",
       "       'URBANIZACION BOLIVIA ORIENTAL', 'URBANIZACION AZAFRANES',\n",
       "       'URBANIZACION EL CORTIJO', 'CAMPO ALEGRE', 'SANTA ANA ORIENTAL',\n",
       "       'HIPOTECHO II', 'MIRANDELA', 'COSTA AZUL', 'CANTALEJO',\n",
       "       'NORMANDIA OCCIDENTAL', 'LOS PANTANOS', 'BOSQUES DE MARIANA',\n",
       "       'BOSQUE DE PINOS', 'ESTACION VICTORIA', 'VILLA ALSACIA',\n",
       "       'BRITALIA', 'SAN JORGE', 'PRADO VERANIEGO NORTE',\n",
       "       'URBANIZACION TIBABUYES UNIVERSAL', 'EL TINTAL A.S.D.', 'TIMIZA',\n",
       "       'AUTOPISTA MUZU', 'HIPOTECHO III', 'BELLAVISTA', 'MOLINOS NORTE',\n",
       "       'CEDRO BOLIVAR', 'LA LIBERIA', 'LA GRANJA', 'NUEVA ZELANDIA',\n",
       "       'LA ISABELA', 'CAPELLANIA', 'VILLAS DE GRANADA I', 'BAVARIA',\n",
       "       'EL REDIL', 'ACACIAS', 'BARRANCAS NORTE', 'SANTA ANA OCCIDENTAL',\n",
       "       'URBANIZACION TINTALA', 'VALLADOLID', 'EL PLAN', 'SALITRE I',\n",
       "       'EL VERVENAL', 'TOBERIN', 'LA PRADERA', 'LA CATEDRAL',\n",
       "       'EL MORTIÑO', 'MUZU', 'VILLA DEL PRADO', 'AMERICAS OCCIDENTAL',\n",
       "       'GUIPARMA', 'LOS CEREZOS', 'CIUDAD JARDIN NORTE', 'PREDIO CALDAS',\n",
       "       'MARGARITAS OCCIDENTAL', 'MARRUECOS II SECTOR', 'SANTA TERESA',\n",
       "       'EL RINCON SANTO', 'LAS GALIAS', 'LA TRINIDAD', 'CEDRITOS',\n",
       "       'VILLA DEL RIO', 'MAZUREN', 'URBANIZACION LA GRAN GRANADA',\n",
       "       'LA PRIMAVERA', 'VILLA DEL NORTE III', 'CIUDAD BACHUE',\n",
       "       'SANTA BARBARA', 'BERTHA HERNANDEZ DE OSPINA PER', 'RODESIA',\n",
       "       'PINOS DE LOMBARDIA', 'CEDRO SALAZAR', 'TUNJUELITO',\n",
       "       'SANTA HELENITA', 'BILBAO I SECTOR', 'GILMAR', 'VILLA MARIA',\n",
       "       'MONACO', 'SANTA BARBARA CENTRAL', 'LOS NARANJOS',\n",
       "       'MARCO FIDEL SUAREZ', 'MANDALAY II', 'CIUDAD TECHO', 'OSORIO XII',\n",
       "       'PRADERA NORTE', 'LA MACARENA', 'BOSQUE IZQUIERDO', 'MARIA PAZ',\n",
       "       'SAN CIPRIANO', 'BARRANCAS', 'EL RINCON DE LOS ANGELES',\n",
       "       'CAOBOS SALAZAR', 'GALAN', 'CHICO NORTE II', 'VILLA RIOS',\n",
       "       'SANTA HELENA', 'ACACIAS USAQUEN', 'LA CAROLINA', 'EL PORVENIR',\n",
       "       'SUBA NARANJOS', 'SAN BERNARDINO', 'TURINGIA II',\n",
       "       'ESTRELLA DEL NORTE', 'VILLA MAGDALA', 'POTRERILLOS',\n",
       "       'JOSE MARIA CARBONELL', 'SAN FERNANDO', 'BOSCONIA',\n",
       "       'LAS MARGARITAS', 'VILLA DORADO NORTE', 'CALANDAIMA',\n",
       "       'URBANIZACION CARVAJAL', 'PRIMAVERA OCCIDENTAL',\n",
       "       'TEJARES DEL NORTE', 'FLORIDA BLANCA', 'SANTA SOFIA',\n",
       "       'CEDRO NARVAEZ', 'LA CHUCUA', '', 'BOGOTA PROTECHO II',\n",
       "       'SAN JOSE DEL PRADO', 'URBANIZACION SABANA DE TIBABUYES',\n",
       "       'LOMBARDIA', 'EL PALMAR', 'EL RETAZO',\n",
       "       'URBANIZACION CIUDAD KENNEDY SU', 'URBANIZACION BOSQUES DE MEDINA',\n",
       "       'URBANIZACION EL DORADO', 'INDIA CATALINA', 'MADELENA II Y IV',\n",
       "       'LISBOA', 'VILLA NOVA', 'TIERRA LINDA', 'LAS CRUCES',\n",
       "       'URBANIZACION SANTA COLOMA', 'EL CONTADOR',\n",
       "       'VILLAS DEL MEDITERRANEO', 'ESCOCIA', 'LAS FLORES',\n",
       "       'EL TINTAL CENTRAL', 'TUNA ALTA', 'GRAN GRANADA', 'PRADO PINZON',\n",
       "       'JUAN XXIII', 'SANTA BARBARA ORIENTAL', 'CASA BLANCA SUBA',\n",
       "       'VILLA CLAUDIA', 'USAQUEN', 'MARANTA III SECTOR', 'EL CEREZO',\n",
       "       'CANAPRO', 'LOS ANDES', 'LA PATRIA', 'POPULAR MODELO',\n",
       "       'EL SALITRE', 'PALOBLANCO', 'JULIO FLOREZ', 'ENTRERIOS',\n",
       "       'LAS ACASIAS', 'CONEJERA', 'LA TRIGUERA', 'POLO CLUB', 'CARMEN',\n",
       "       'CENTRO AMERICAS', 'LOS CEDROS ORIENTAL', 'NIZA SUBA',\n",
       "       'SANTA ROSA', 'SANTA CECILIA', 'SANTA ISABEL',\n",
       "       'SAN JOSE DE BAVARIA', 'PUENTE LARGO', 'MARSELLA', 'LA CALLEJA',\n",
       "       'JOSE JOAQUIN VARGAS', 'RESTREPO', 'VILLA LUZ', 'ALTOS DE SUBA',\n",
       "       'RAFAEL URIBE', 'PROVIVIENDA NORTE', 'JORGE CORTES',\n",
       "       'SANTA HELENA I', 'LA ESTRADITA', 'CIUDAD SALITRE OCCIDENTAL',\n",
       "       'MALLORCA', 'VERACRUZ', 'ALAMOS NORTE', 'ANTIGUO COUNTRY',\n",
       "       'EL ENCANTO', 'LA ESPAÑOLA', 'NORMANDIA', 'NA',\n",
       "       'MODELIA OCCIDENTAL', 'LA ESMERALDA', 'SAN ANTONIO NOR',\n",
       "       'NIZA NORTE', 'AMERICAS SECTOR GALAN', 'RINCON DEL CHICO',\n",
       "       'LA ESPERANZA', 'ALAMOS', 'BELMIRA', 'CAMPIN OCCIDENTAL',\n",
       "       'AUTOPISTA MEDELLIN', 'SABANALARGA', 'ALCAZARES',\n",
       "       'PARQUE POPULAR SALITRE', 'IBERIA', 'BONANZA', 'EL BATAN',\n",
       "       'LOS CEDRITOS', 'SANTA BARBARA ALTA', 'LAS VILLAS',\n",
       "       'AMERICAS OCCIDENTAL II', 'PARQUES DE LORENA', 'BOYACA',\n",
       "       'LA INDEPENDENCIA', 'ATENAS', 'BAQUERO', 'QUINTA PAREDES',\n",
       "       'LOS CEDROS', 'TORCA', 'PRINCESA BOCHICA', 'TUNALITO', 'EMAUS',\n",
       "       'SUBA URBANO', 'FOLEDO', 'CASA BLANCA', 'BOLIVIA', 'EL RINCON',\n",
       "       'SAN LUIS', 'SAN FRANCISCO', 'MOCHUELO NORTE', 'CONTADOR',\n",
       "       'LA NUEVA GLORIA', 'COUNTRY CLUB', 'URBANIZACION CORDOBA NIZA',\n",
       "       'ALCAZARES NORTE', 'QUINTA CAMACHO', 'PRADO VERANIEGO', 'LOURDES',\n",
       "       'SAN MIGUEL', 'LA CASTELLANA', 'LAS ORQUIDEAS',\n",
       "       'CLUB LOS LAGARTOS', 'CIUDAD QUIRIGUA', 'BANCO CENTRAL',\n",
       "       'GINEBRA NORTE', 'LAS AMERICAS', 'MARGARITAS I SECTOR', 'BALCARES',\n",
       "       'VILLAS DE GRANADA', 'GIRALDA', 'URBANIZACION AVENIDA DECIMA',\n",
       "       'NUEVA MARSELLA I', 'ZONA INDUSTRIAL', 'SANTA BIBIANA',\n",
       "       'SANTA BARBARA OCCIDENTAL', 'SAN FELIPE', 'LOS ROSALES',\n",
       "       'AMERICA OCCIDENTAL III', 'ESTORIL', 'MODELIA', 'SIETE DE AGOSTO',\n",
       "       'PASADENA', 'SAN GABRIEL NORTE', 'CHICO NORTE', 'LA SOLEDAD',\n",
       "       'CHICO NORTE III', 'CERROS DE LOS ALPES', 'SANTA CATALINA',\n",
       "       'LA VICTORIA', 'PALERMO', 'JARDINES DEL NORTE',\n",
       "       'URBANIZACION ALEJANDRO', 'ALOHA SECTOR SUR', 'SANTANDER',\n",
       "       'ALFONSO LOPEZ', 'COMUNEROS', 'PRADO VERANIEGO SUR',\n",
       "       'BOSQUE DE MODELIA', 'EL NOGAL', 'CHAPINERO SUR OCCIDENTAL',\n",
       "       'SAN PATRICIO', 'SANTA TERESITA', 'CANODROMO', 'MARIA CRISTINA',\n",
       "       'SAN JOAQUIN', 'LA ESTRADA', 'ESCUELA MILITAR', 'RINCON DEL CEDRO',\n",
       "       'POTOSI', 'VICTORIA NORTE', 'LOS ANGELES', 'GARCES NAVAS ORIENTAL',\n",
       "       'URBANIZACION CIUDADELA COLSUBSIDIO', 'QUINTA RAMOS',\n",
       "       'JORGE ELIECER GAITAN', 'HIPOTECHO', 'NIZA CORDOBA',\n",
       "       'LOS ANDES NORTE', 'EL SOL', 'ALTOS DE CHOZICA',\n",
       "       'VILLEMAR FONTIBON', 'GRAN AMERICA', 'VERAGUAS', 'PARDO RUBIO',\n",
       "       'CERROS DE SANTA BARBARA', 'ZONA FRANCA', 'LAGO GAITAN',\n",
       "       'LA VERACRUZ', 'BOSQUE POPULAR', 'LA FRAGUA', 'EL REFUGIO',\n",
       "       'LAS FERIAS OCCIDENTAL', 'SANTA ISABEL SUR', 'CONCEPCION NORTE',\n",
       "       'NIZA', 'LA COLINA CAMPESTRE', 'REMANSO', 'EL RECUERDO',\n",
       "       'A.J. SUCRE I', 'MARLY', 'RIONEGRO', 'BUENOS AIRES',\n",
       "       'URBANIZACION CASTILLA', 'TEUSAQUILLO', 'NUEVO CONTRY',\n",
       "       'EL RECREO DE LOS FRAILES', 'EL ESPARTILLAL', 'SIERRAS DEL MORAL',\n",
       "       'EL RETIRO', 'EL CEDRO', 'VIVEROS', 'CAJICA', 'PRADOS DEL SALITRE',\n",
       "       'LA IGUALDAD', 'ARMENIA', 'SAN DIEGO', 'LA CABAÑA',\n",
       "       'CENTRO NARIÑO', 'CENTENARIO', 'SAN JOSE', 'SAN CAYETANO',\n",
       "       'SAMPER MENDOZA', 'ONCE DE NOVIEMBRE', 'CIUDAD JARDIN SUR',\n",
       "       'ESTRELLA', 'EL SEMINARIO', 'LA MAGDALENA', 'LA SALLE',\n",
       "       'LA FLORIDA', 'NICOLAS DE FEDERMAN', 'BABARIA TECHO III', 'BOSTON',\n",
       "       'SAN ISIDRO', 'COLOMBIA', 'LA ACANADA', 'CENTRO FONTIBON',\n",
       "       'CENTRO ADMINISTRATIVO', 'BELLA SUIZA',\n",
       "       'CANDELARIA LA NUEVA II SECTOR', 'LA PORCIUNCULA',\n",
       "       'JARDIN BOTANICO', 'LUSITANIA', 'NIZA SUR', 'BOSQUE CALDERON',\n",
       "       'ACEVEDO TEJADA', 'SAGRADO CORAZON', 'REMANSO SUR', 'LA AURORA',\n",
       "       'EL PROGRESO', 'CHAPINERO NORTE', 'CLARET', 'CHICO', 'INGLES',\n",
       "       'LA CAMELIA', 'BOSQUES DEL MARQUEZ', 'GIRARDOT', 'LA MERCED',\n",
       "       'LA CONCORDIA', 'QUINTA MUTIS', 'FLORIDA BLANCA NORTE',\n",
       "       'LA MERCED NORTE', 'CIUDADELA REAL', 'BOSQUES DE PINO', 'RICAURTE',\n",
       "       'ANDES NORTE', 'CARVAJAL', 'BELALCAZAR', 'SUCRE', 'JAZMIN',\n",
       "       'LA PERSEVERANCIA', 'SAMPER', 'LA SURENA',\n",
       "       'URBANIZACION TECHO BAVARIA', 'GINEBRA', 'LA CAPUCHINA',\n",
       "       'LA CAPILLA', 'LA CABRERA', 'SIERRAS DE MORAL',\n",
       "       'EL CARMEN FONTIBON', 'PARIS', 'CASABLANCA SUBA',\n",
       "       'NUEVA MARSELLA III', 'CHAPINERO CENTRAL', 'LAS ACACIAS',\n",
       "       'SAN MARTIN', 'LAS NIEVES', 'QUESADA', 'COLSEGUROS',\n",
       "       'URBANIZACION TURINGIA', 'LA ESPERANZA NORTE',\n",
       "       'LA CAMPIÑA I SECTOR', 'CIUDAD SALITRE NOR-ORIENTAL',\n",
       "       'MINUTO DE DIOS', 'EL CODITO', 'EL CAMPIN', 'SIMON BOLIVAR',\n",
       "       'LAS AGUAS', 'PARQUE RESIDENCIA NUEVO SUBA',\n",
       "       'URBANIZACION CORDOBA', 'CATALUNA', 'ALCALA', 'LA FAVORITA',\n",
       "       'SEARS', 'LA EMILIA', 'CEDRO MADEIRAS', 'PAULO VI NORTE',\n",
       "       'LA LIBERTAD', 'SAN FERNANDO OCCIDENTAL', 'INGEMAR', 'PLENITUD',\n",
       "       'SANTA FE', 'NARIÑO SUR', 'TIBANA', 'SAN CRISTOBAL SUR', 'EGIPTO',\n",
       "       'CONJUNTO RESIDENCIAL EL BOSQUE', 'EL CONDADO DE LA PAZ',\n",
       "       'SAN CRISTOBAL NORTE', 'OLAYA', 'NUEVA GRANADA',\n",
       "       'BOSQUE CALDERON TEJADA', 'EL TRIUNFO', 'JARDIN DEL NORTE',\n",
       "       'LA FELICIDAD', 'SANTA MARIA', 'OLARTE', 'VILLA MENDOZA',\n",
       "       'EL LISTON', 'AUTOPISTA MUZU 0RIENTAL', 'EL LAUREL',\n",
       "       'BENJAMIN HERRERA', 'TAPETE', 'CIUDAD BACHUE I', 'SANTA MATILDE',\n",
       "       'TUNA', 'EL MORISCO', 'QUIROGA CENTRAL', 'CALVO SUR',\n",
       "       'BOCHICA PRIMER SECTOR', 'PRADOS DE LA CALLEJA', 'LA ALAMEDA',\n",
       "       'BELEN', 'SALAZAR GOMEZ', 'COLON', 'VERSALLES', 'CASA BLANCA I',\n",
       "       'METROPOLIS', 'ESCUELA DE INFANTERIA', 'EL PORTAL', 'EL TINTAL',\n",
       "       'TIBABITA', 'SAN BERNARDO', 'JOSE ANTONIO GALAN', 'CHAPINERO ALTO',\n",
       "       'URBANIZACION BENGALA', 'EL CHILCAL', 'EL PINO',\n",
       "       'BOSQUES DE SAN JORGE', 'SAN VICTORINO', 'SUBA',\n",
       "       'URBANIZACION BOCHICA I', 'CHICO NORTE II SECTOR',\n",
       "       'URBANIZACION BOCHICA III', 'CHICO NORTE III SECTOR', 'GALERIAS',\n",
       "       'TIMIZA A', 'EL CHICO', 'LOS CEDROS-USAQUÉN', 'CHICO NAVARRA',\n",
       "       'BOCHICA II', 'BOSQUE DE PINOS I', 'VILLA MAYOR ORIENTAL',\n",
       "       'CHICO RESERVADO', 'NICOLÁS DE FEDERMÁN', 'EL ROLIN',\n",
       "       'URBANIZACION CATALINA', 'MORABIA', 'JERICO', 'GRANADA NORTE',\n",
       "       'LA ALQUERIA', 'SAN ANTONIO NORTE', 'LAGUNETA', 'SAN BASILIO',\n",
       "       'DOCE DE OCTUBRE', 'SOCIEGO SUR', 'RESTREPO OCCIDENTAL',\n",
       "       'PUENTE ARANDA', 'UNIDAD CARABELAS', 'EL DORADO', 'LA FRAGUITA',\n",
       "       'MILENTA', 'BOCHICA', 'MILLAN', 'URBANIZACION CIUDAD BACHUE II',\n",
       "       'URBANIZACION CASTILLA LA NUEVA', 'SAN EUSEBIO',\n",
       "       'PLAYAS DE JABOQUE', 'LAGO DE SUBA', 'VILLA INES', 'LAS FERIAS',\n",
       "       'NUEVO MUZU', 'LAS MERCEDES', 'H.B.', 'LA ASUNCION',\n",
       "       'LOS CIPRECES', 'EL ROSARIO', 'URBANIZACION CASTILLA REAL',\n",
       "       'EL RUBI', 'CINCO DE NOVIEMBRE', 'URBANIZACION SANTA CECILIA',\n",
       "       'LA ESPERANZA SUR', 'BRASILIA', 'FLORENCIA',\n",
       "       'SAN ANTONIO DE PADUA', 'SAN CARLOS', 'AUTOPISTA DEL SUR',\n",
       "       'VENECIA', 'GRAN BRITALIA I', 'EL PAÑUELITO', 'NARANJOS',\n",
       "       'LOS EJIDOS', 'RINCON DE SANTA PAULA', 'EL JARDIN', 'CEDRO GOLF',\n",
       "       'EL CONTADOR-USAQUÉN', 'SOCIEGO', 'FERROCAJA', 'PORCIUNCULA',\n",
       "       'OSPINA PEREZ SUR', 'EDUARDO SANTOS', 'PARDO RUBIO NOROCCIDENTAL',\n",
       "       'RINCON DE MANDALAY', 'LUNAPARK', 'EL VERGEL OCCIDENTAL',\n",
       "       'SUPER MANZANA', 'MONTERREY', 'BOSQUE DE PINOS USAQUEN',\n",
       "       'ESPARTILLAL', 'BOSQUE DE PINOS III', 'GRANADA',\n",
       "       'CHAPINERO OCCIDENTAL', 'SAN JOSE DE USAQUEN', 'VILLA DEL MAR',\n",
       "       'VILLAS DEL MADRIGAL', 'TIBABUYES II', 'URBANIZACION EL PARQUE',\n",
       "       'ARBORIZADORA BAJA', 'HIPODROMO DE TECHO II', 'ATAHUALPA',\n",
       "       'LOS MONJES', 'EL CONDOR', 'BATAN',\n",
       "       'SANTA BARBARA CENTRAL-USAQUÉN', 'SUPER MANZANA 9B', 'CANTAGALLO',\n",
       "       'LA PAZ', 'CARACAS', 'CIUDAD BERNA', 'CALLEJA', 'RINCON DEL NORTE',\n",
       "       'VILLA SAGRARIO', 'NUEVO KENNEDY', 'LAGO TIMIZA I',\n",
       "       'URBANIZACION PARQUE METROPOLIT.', 'ESTACION CENTRAL', 'JERUSALEN',\n",
       "       'SAN JAVIER', 'VILLA ELISA', 'COFRADIA', 'CENTRO INDUSTRIAL',\n",
       "       'SAN JOSE DE LA GRANJA', 'SANTA FE DEL TINTAL', 'TUNA BAJA',\n",
       "       'PAULO VI', 'ALMENDROS NORTE', 'GARCES NAVES OCCIDENTAL',\n",
       "       'MULTIFAMILIARES LA PAZ', 'CLUB DE LOS LAGARTOS',\n",
       "       'URBANIZACION SINAI', 'LIBANO', 'PORTAL DE LAS MERCEDES',\n",
       "       'GUSTAVO RESTREPO', 'SABANA GRANDE', 'URBANIZACION TUNDAMA',\n",
       "       'BILBAO II SECTOR', 'EL TEJAR', 'CIUDAD VILLAMAYOR ANTIGUA',\n",
       "       'SANTIAGO PEREZ', 'SAN MARTIN DE PORRES I Y II', 'SEVILLA',\n",
       "       'I SECTOR', 'COCADAS', 'LIBERTADOR', 'VILLA TERESITA',\n",
       "       'POLICARPA SALAVARRETA', 'EL MORAL'], dtype=object)"
      ]
     },
     "execution_count": 661,
     "metadata": {},
     "output_type": "execute_result"
    }
   ],
   "source": [
    "location.unique()\n",
    "#'URBANIZACION SABANA DE TIBABUYES'"
   ]
  },
  {
   "cell_type": "code",
   "execution_count": 662,
   "metadata": {},
   "outputs": [
    {
     "data": {
      "text/plain": [
       "215      URBANIZACION SABANA DE TIBABUYES\n",
       "225      URBANIZACION SABANA DE TIBABUYES\n",
       "14190    URBANIZACION SABANA DE TIBABUYES\n",
       "15203    URBANIZACION SABANA DE TIBABUYES\n",
       "15215    URBANIZACION SABANA DE TIBABUYES\n",
       "16299    URBANIZACION SABANA DE TIBABUYES\n",
       "Name: location, dtype: object"
      ]
     },
     "execution_count": 662,
     "metadata": {},
     "output_type": "execute_result"
    }
   ],
   "source": [
    "location[location=='URBANIZACION SABANA DE TIBABUYES']"
   ]
  },
  {
   "cell_type": "code",
   "execution_count": 663,
   "metadata": {},
   "outputs": [
    {
     "data": {
      "text/plain": [
       "174    TIBABUYES\n",
       "175    TIBABUYES\n",
       "176    TIBABUYES\n",
       "Name: UPlNombre, dtype: object"
      ]
     },
     "execution_count": 663,
     "metadata": {},
     "output_type": "execute_result"
    }
   ],
   "source": [
    "nombreup[nombreup=='TIBABUYES']"
   ]
  },
  {
   "cell_type": "code",
   "execution_count": 667,
   "metadata": {},
   "outputs": [
    {
     "name": "stdout",
     "output_type": "stream",
     "text": [
      "5\n",
      "True\n"
     ]
    }
   ],
   "source": [
    "x = location.str.contains(nombreup[174])\n",
    "x[215]\n",
    "print(x.argmax())\n",
    "print(x[5])"
   ]
  },
  {
   "cell_type": "code",
   "execution_count": 669,
   "metadata": {},
   "outputs": [
    {
     "data": {
      "text/plain": [
       "'URBANIZACION SABANA DE TIBABUYES'"
      ]
     },
     "execution_count": 669,
     "metadata": {},
     "output_type": "execute_result"
    }
   ],
   "source": [
    "location[215]"
   ]
  },
  {
   "cell_type": "code",
   "execution_count": 675,
   "metadata": {},
   "outputs": [
    {
     "data": {
      "text/plain": [
       "'UPZ71'"
      ]
     },
     "execution_count": 675,
     "metadata": {},
     "output_type": "execute_result"
    }
   ],
   "source": [
    "codigoup[174]"
   ]
  },
  {
   "cell_type": "code",
   "execution_count": 676,
   "metadata": {},
   "outputs": [
    {
     "data": {
      "text/plain": [
       "'TIBABUYES'"
      ]
     },
     "execution_count": 676,
     "metadata": {},
     "output_type": "execute_result"
    }
   ],
   "source": [
    "nombreup[174]"
   ]
  },
  {
   "cell_type": "code",
   "execution_count": 708,
   "metadata": {},
   "outputs": [
    {
     "data": {
      "text/plain": [
       "0                 LA SOLEDAD NORTE\n",
       "1      CIUDAD SALITRE SUR-ORIENTAL\n",
       "2     VILLA DE LOS ALPES II SECTOR\n",
       "3                     PARIS GAITAN\n",
       "4              BALCONES DE ORIENTE\n",
       "5                        TIBABUYES\n",
       "6                     PARIS GAITAN\n",
       "7               PORTALES DEL NORTE\n",
       "8    URBANIZACION BOLIVIA ORIENTAL\n",
       "9           URBANIZACION AZAFRANES\n",
       "Name: location, dtype: object"
      ]
     },
     "execution_count": 708,
     "metadata": {},
     "output_type": "execute_result"
    }
   ],
   "source": [
    "locati = location[0:10]\n",
    "locati"
   ]
  },
  {
   "cell_type": "code",
   "execution_count": 692,
   "metadata": {},
   "outputs": [],
   "source": [
    "code = pd.Series(index=data.index, dtype=float)"
   ]
  },
  {
   "cell_type": "code",
   "execution_count": 710,
   "metadata": {
    "scrolled": true
   },
   "outputs": [
    {
     "name": "stdout",
     "output_type": "stream",
     "text": [
      "i 0\n",
      "loc LA SOLEDAD NORTE\n",
      "j 0\n",
      "bar GALERIAS\n",
      "GALERIAS\n",
      "indice 5810\n",
      "True\n",
      "\n",
      "i 1\n",
      "loc CIUDAD SALITRE SUR-ORIENTAL\n",
      "j 0\n",
      "bar GALERIAS\n",
      "GALERIAS\n",
      "indice 5810\n",
      "True\n",
      "\n",
      "i 2\n",
      "loc VILLA DE LOS ALPES II SECTOR\n",
      "j 0\n",
      "bar GALERIAS\n",
      "GALERIAS\n",
      "indice 5810\n",
      "True\n",
      "\n",
      "i 3\n",
      "loc PARIS GAITAN\n",
      "j 0\n",
      "bar GALERIAS\n",
      "GALERIAS\n",
      "indice 5810\n",
      "True\n",
      "\n",
      "i 4\n",
      "loc BALCONES DE ORIENTE\n",
      "j 0\n",
      "bar GALERIAS\n",
      "GALERIAS\n",
      "indice 5810\n",
      "True\n",
      "\n",
      "i 5\n",
      "loc TIBABUYES\n",
      "j 0\n",
      "bar GALERIAS\n",
      "GALERIAS\n",
      "indice 5810\n",
      "True\n",
      "\n",
      "i 6\n",
      "loc PARIS GAITAN\n",
      "j 0\n",
      "bar GALERIAS\n",
      "GALERIAS\n",
      "indice 5810\n",
      "True\n",
      "\n",
      "i 7\n",
      "loc PORTALES DEL NORTE\n",
      "j 0\n",
      "bar GALERIAS\n",
      "GALERIAS\n",
      "indice 5810\n",
      "True\n",
      "\n",
      "i 8\n",
      "loc URBANIZACION BOLIVIA ORIENTAL\n",
      "j 0\n",
      "bar GALERIAS\n",
      "GALERIAS\n",
      "indice 5810\n",
      "True\n",
      "\n",
      "i 9\n",
      "loc URBANIZACION AZAFRANES\n",
      "j 0\n",
      "bar GALERIAS\n",
      "GALERIAS\n",
      "indice 5810\n",
      "True\n",
      "\n"
     ]
    }
   ],
   "source": [
    "for i, loc in enumerate(locati):\n",
    "    for j, bar in enumerate(nombreup):\n",
    "        busqueda = location.str.contains(nombreup[j])\n",
    "        if busqueda.any() == True:\n",
    "            indice = busqueda.argmax()\n",
    "            print('i', i)\n",
    "            print('loc', loc)\n",
    "            print('j', j)\n",
    "            print('bar', bar)\n",
    "            print(nombreup[j])\n",
    "            print('indice', indice)\n",
    "            print(busqueda.max())\n",
    "            print()\n",
    "            code[indice] = codigoup[j]\n",
    "            break"
   ]
  },
  {
   "cell_type": "code",
   "execution_count": 712,
   "metadata": {},
   "outputs": [
    {
     "data": {
      "text/plain": [
       "5810    UPZ100\n",
       "dtype: object"
      ]
     },
     "execution_count": 712,
     "metadata": {},
     "output_type": "execute_result"
    }
   ],
   "source": [
    "code[code.isnull()==False]"
   ]
  },
  {
   "cell_type": "code",
   "execution_count": 698,
   "metadata": {},
   "outputs": [
    {
     "data": {
      "text/plain": [
       "nan"
      ]
     },
     "execution_count": 698,
     "metadata": {},
     "output_type": "execute_result"
    }
   ],
   "source": [
    "for i, loc in enumerate(locati):\n",
    "    for j, bar in enumerate(nombreup):\n",
    "        busqueda = location.str.contains(nombreup[j])\n",
    "        if busqueda.any() == True:\n",
    "            indice = busqueda.argmax()\n",
    "            print('i', i)\n",
    "            print('loc', loc)\n",
    "            print('j', j)\n",
    "            print('bar', bar)\n",
    "            print(nombreup[j])\n",
    "            print('indice', indice)\n",
    "            print(busqueda.max())\n",
    "            print()\n",
    "            code[indice] = codigoup[j]\n",
    "            break"
   ]
  },
  {
   "cell_type": "code",
   "execution_count": 686,
   "metadata": {},
   "outputs": [],
   "source": [
    "for i, bar in enumerate(nombreup):\n",
    "    \n",
    "    busqueda = location.str.contains(nombreup[i])\n",
    "    if busqueda.any() == True:\n",
    "        indice = busqueda.argmax()\n",
    "        code[indice] = codigoup[i]"
   ]
  },
  {
   "cell_type": "code",
   "execution_count": 691,
   "metadata": {
    "scrolled": false
   },
   "outputs": [
    {
     "data": {
      "text/plain": [
       "5         UPZ71\n",
       "8         UPZ24\n",
       "26        UPZ18\n",
       "32        UPZ48\n",
       "33        UPZ41\n",
       "          ...  \n",
       "7385      UPZ22\n",
       "7564     UPZ111\n",
       "9092      UPZ42\n",
       "9498      UPZ81\n",
       "12053     UPZ65\n",
       "Length: 64, dtype: object"
      ]
     },
     "execution_count": 691,
     "metadata": {},
     "output_type": "execute_result"
    }
   ],
   "source": [
    "code.isnull().sum()"
   ]
  },
  {
   "cell_type": "markdown",
   "metadata": {},
   "source": [
    "### Parte 6"
   ]
  },
  {
   "cell_type": "markdown",
   "metadata": {},
   "source": [
    "## P2"
   ]
  },
  {
   "cell_type": "code",
   "execution_count": null,
   "metadata": {},
   "outputs": [],
   "source": []
  },
  {
   "cell_type": "markdown",
   "metadata": {},
   "source": [
    "## P3"
   ]
  },
  {
   "cell_type": "code",
   "execution_count": null,
   "metadata": {},
   "outputs": [],
   "source": []
  }
 ],
 "metadata": {
  "kernelspec": {
   "display_name": "Python 3",
   "language": "python",
   "name": "python3"
  },
  "language_info": {
   "codemirror_mode": {
    "name": "ipython",
    "version": 3
   },
   "file_extension": ".py",
   "mimetype": "text/x-python",
   "name": "python",
   "nbconvert_exporter": "python",
   "pygments_lexer": "ipython3",
   "version": "3.7.4"
  },
  "toc": {
   "base_numbering": 1,
   "nav_menu": {},
   "number_sections": true,
   "sideBar": true,
   "skip_h1_title": false,
   "title_cell": "Table of Contents",
   "title_sidebar": "Contents",
   "toc_cell": false,
   "toc_position": {},
   "toc_section_display": true,
   "toc_window_display": false
  }
 },
 "nbformat": 4,
 "nbformat_minor": 2
}
