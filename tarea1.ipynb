{
 "cells": [
  {
   "cell_type": "markdown",
   "metadata": {},
   "source": [
    "# Tarea 1 \n",
    "\n",
    "Alumnos:\n",
    "\n",
    "* Miguel Espinoza\n",
    "* Sebastián López\n",
    "* Pedro Pérez"
   ]
  },
  {
   "cell_type": "markdown",
   "metadata": {},
   "source": [
    "## P1"
   ]
  },
  {
   "cell_type": "markdown",
   "metadata": {},
   "source": [
    "### Parte 1"
   ]
  },
  {
   "cell_type": "code",
   "execution_count": 1,
   "metadata": {},
   "outputs": [
    {
     "data": {
      "text/plain": [
       "['w13', 'w14', 'w15', 'w16', 'w17']"
      ]
     },
     "execution_count": 1,
     "metadata": {},
     "output_type": "execute_result"
    }
   ],
   "source": [
    "import os\n",
    "\n",
    "folder = 'data/raw/'  #Carpeta principal en la que estan los archivos\n",
    "weeks = os.listdir(folder)  #Se agregan las subcarpetas a una lista\n",
    "weeks"
   ]
  },
  {
   "cell_type": "code",
   "execution_count": 2,
   "metadata": {},
   "outputs": [
    {
     "data": {
      "text/plain": [
       "['data/raw/w13/metrocuadrado_all_w13.csv',\n",
       " 'data/raw/w14/metrocuadrado_all_w14.csv',\n",
       " 'data/raw/w15/metrocuadrado_all_w15.csv',\n",
       " 'data/raw/w16/metrocuadrado_all_w16.csv',\n",
       " 'data/raw/w17/metrocuadrado_all_w17.csv']"
      ]
     },
     "execution_count": 2,
     "metadata": {},
     "output_type": "execute_result"
    }
   ],
   "source": [
    "#Se crean dos listas para guardar los archivos normales\n",
    "#y los 'furnished'\n",
    "files = []\n",
    "files_furnished = []\n",
    "\n",
    "#Mediante un bucle for se guardan las direcciones de todos\n",
    "#los archivos en las listas creadas\n",
    "for week in weeks:\n",
    "    direccion = folder + week + '/'\n",
    "    file = os.listdir(direccion)\n",
    "    files.append(direccion + file[0])\n",
    "    files_furnished.append(direccion + file[1])\n",
    "    \n",
    "files"
   ]
  },
  {
   "cell_type": "code",
   "execution_count": 3,
   "metadata": {
    "scrolled": false
   },
   "outputs": [
    {
     "data": {
      "text/html": [
       "<div>\n",
       "<style scoped>\n",
       "    .dataframe tbody tr th:only-of-type {\n",
       "        vertical-align: middle;\n",
       "    }\n",
       "\n",
       "    .dataframe tbody tr th {\n",
       "        vertical-align: top;\n",
       "    }\n",
       "\n",
       "    .dataframe thead th {\n",
       "        text-align: right;\n",
       "    }\n",
       "</style>\n",
       "<table border=\"1\" class=\"dataframe\">\n",
       "  <thead>\n",
       "    <tr style=\"text-align: right;\">\n",
       "      <th></th>\n",
       "      <th>property_type|rent_type|location</th>\n",
       "      <th>price</th>\n",
       "      <th>n_rooms</th>\n",
       "      <th>n_bath</th>\n",
       "      <th>surface</th>\n",
       "      <th>details</th>\n",
       "      <th>url</th>\n",
       "      <th>metrocuadrado_index</th>\n",
       "    </tr>\n",
       "  </thead>\n",
       "  <tbody>\n",
       "    <tr>\n",
       "      <th>0</th>\n",
       "      <td>Casa en Arriendo, LA SOLEDAD NORTE Bogotá D.C..</td>\n",
       "      <td>$1.050.000</td>\n",
       "      <td>3</td>\n",
       "      <td>2</td>\n",
       "      <td>63.0 m2</td>\n",
       "      <td>Excelente casa cerca de la calle 80 y Avenida ...</td>\n",
       "      <td>https://www.metrocuadrado.com/inmueble/arriend...</td>\n",
       "      <td>25.6</td>\n",
       "    </tr>\n",
       "    <tr>\n",
       "      <th>1</th>\n",
       "      <td>Casa en Arriendo, CIUDAD SALITRE SUR-ORIENTAL ...</td>\n",
       "      <td>$3.930.000</td>\n",
       "      <td>3</td>\n",
       "      <td>2</td>\n",
       "      <td>100.0 m2</td>\n",
       "      <td>Se arrienda casa bonita totalmente amoblada co...</td>\n",
       "      <td>https://www.metrocuadrado.com/inmueble/arriend...</td>\n",
       "      <td>57.3</td>\n",
       "    </tr>\n",
       "    <tr>\n",
       "      <th>2</th>\n",
       "      <td>Casa en Arriendo, VILLA DE LOS ALPES II SECTOR...</td>\n",
       "      <td>$750.000</td>\n",
       "      <td>3</td>\n",
       "      <td>1</td>\n",
       "      <td>90.0 m2</td>\n",
       "      <td>CASA DE TRES NIVELES TRES ALCOBAS SALA COMEDOR...</td>\n",
       "      <td>https://www.metrocuadrado.com/inmueble/arriend...</td>\n",
       "      <td>12.2</td>\n",
       "    </tr>\n",
       "  </tbody>\n",
       "</table>\n",
       "</div>"
      ],
      "text/plain": [
       "                    property_type|rent_type|location       price n_rooms  \\\n",
       "0    Casa en Arriendo, LA SOLEDAD NORTE Bogotá D.C..  $1.050.000       3   \n",
       "1  Casa en Arriendo, CIUDAD SALITRE SUR-ORIENTAL ...  $3.930.000       3   \n",
       "2  Casa en Arriendo, VILLA DE LOS ALPES II SECTOR...    $750.000       3   \n",
       "\n",
       "  n_bath   surface                                            details  \\\n",
       "0      2   63.0 m2  Excelente casa cerca de la calle 80 y Avenida ...   \n",
       "1      2  100.0 m2  Se arrienda casa bonita totalmente amoblada co...   \n",
       "2      1   90.0 m2  CASA DE TRES NIVELES TRES ALCOBAS SALA COMEDOR...   \n",
       "\n",
       "                                                 url  metrocuadrado_index  \n",
       "0  https://www.metrocuadrado.com/inmueble/arriend...                 25.6  \n",
       "1  https://www.metrocuadrado.com/inmueble/arriend...                 57.3  \n",
       "2  https://www.metrocuadrado.com/inmueble/arriend...                 12.2  "
      ]
     },
     "execution_count": 3,
     "metadata": {},
     "output_type": "execute_result"
    }
   ],
   "source": [
    "import pandas as pd\n",
    "\n",
    "#Se lee el primer dataframe para observar los datos\n",
    "data_all = pd.read_csv(files[0])\n",
    "data_all.head(3)"
   ]
  },
  {
   "cell_type": "markdown",
   "metadata": {},
   "source": [
    "En primer lugar se combinan los dataframes normales"
   ]
  },
  {
   "cell_type": "code",
   "execution_count": 4,
   "metadata": {
    "scrolled": false
   },
   "outputs": [
    {
     "name": "stdout",
     "output_type": "stream",
     "text": [
      "Cantidad de datos:  16470\n"
     ]
    },
    {
     "data": {
      "text/html": [
       "<div>\n",
       "<style scoped>\n",
       "    .dataframe tbody tr th:only-of-type {\n",
       "        vertical-align: middle;\n",
       "    }\n",
       "\n",
       "    .dataframe tbody tr th {\n",
       "        vertical-align: top;\n",
       "    }\n",
       "\n",
       "    .dataframe thead th {\n",
       "        text-align: right;\n",
       "    }\n",
       "</style>\n",
       "<table border=\"1\" class=\"dataframe\">\n",
       "  <thead>\n",
       "    <tr style=\"text-align: right;\">\n",
       "      <th></th>\n",
       "      <th>property_type|rent_type|location</th>\n",
       "      <th>price</th>\n",
       "      <th>n_rooms</th>\n",
       "      <th>n_bath</th>\n",
       "      <th>surface</th>\n",
       "      <th>details</th>\n",
       "      <th>url</th>\n",
       "      <th>metrocuadrado_index</th>\n",
       "    </tr>\n",
       "  </thead>\n",
       "  <tbody>\n",
       "    <tr>\n",
       "      <th>0</th>\n",
       "      <td>Casa en Arriendo, LA SOLEDAD NORTE Bogotá D.C..</td>\n",
       "      <td>$1.050.000</td>\n",
       "      <td>3</td>\n",
       "      <td>2</td>\n",
       "      <td>63.0 m2</td>\n",
       "      <td>Excelente casa cerca de la calle 80 y Avenida ...</td>\n",
       "      <td>https://www.metrocuadrado.com/inmueble/arriend...</td>\n",
       "      <td>25.6</td>\n",
       "    </tr>\n",
       "    <tr>\n",
       "      <th>1</th>\n",
       "      <td>Casa en Arriendo, CIUDAD SALITRE SUR-ORIENTAL ...</td>\n",
       "      <td>$3.930.000</td>\n",
       "      <td>3</td>\n",
       "      <td>2</td>\n",
       "      <td>100.0 m2</td>\n",
       "      <td>Se arrienda casa bonita totalmente amoblada co...</td>\n",
       "      <td>https://www.metrocuadrado.com/inmueble/arriend...</td>\n",
       "      <td>57.3</td>\n",
       "    </tr>\n",
       "    <tr>\n",
       "      <th>2</th>\n",
       "      <td>Casa en Arriendo, VILLA DE LOS ALPES II SECTOR...</td>\n",
       "      <td>$750.000</td>\n",
       "      <td>3</td>\n",
       "      <td>1</td>\n",
       "      <td>90.0 m2</td>\n",
       "      <td>CASA DE TRES NIVELES TRES ALCOBAS SALA COMEDOR...</td>\n",
       "      <td>https://www.metrocuadrado.com/inmueble/arriend...</td>\n",
       "      <td>12.2</td>\n",
       "    </tr>\n",
       "  </tbody>\n",
       "</table>\n",
       "</div>"
      ],
      "text/plain": [
       "                    property_type|rent_type|location       price n_rooms  \\\n",
       "0    Casa en Arriendo, LA SOLEDAD NORTE Bogotá D.C..  $1.050.000       3   \n",
       "1  Casa en Arriendo, CIUDAD SALITRE SUR-ORIENTAL ...  $3.930.000       3   \n",
       "2  Casa en Arriendo, VILLA DE LOS ALPES II SECTOR...    $750.000       3   \n",
       "\n",
       "  n_bath   surface                                            details  \\\n",
       "0      2   63.0 m2  Excelente casa cerca de la calle 80 y Avenida ...   \n",
       "1      2  100.0 m2  Se arrienda casa bonita totalmente amoblada co...   \n",
       "2      1   90.0 m2  CASA DE TRES NIVELES TRES ALCOBAS SALA COMEDOR...   \n",
       "\n",
       "                                                 url  metrocuadrado_index  \n",
       "0  https://www.metrocuadrado.com/inmueble/arriend...                 25.6  \n",
       "1  https://www.metrocuadrado.com/inmueble/arriend...                 57.3  \n",
       "2  https://www.metrocuadrado.com/inmueble/arriend...                 12.2  "
      ]
     },
     "execution_count": 4,
     "metadata": {},
     "output_type": "execute_result"
    }
   ],
   "source": [
    "data_all = pd.read_csv(files[0])\n",
    "\n",
    "for file in files:\n",
    "    dato_semanal = pd.read_csv(file)\n",
    "    data_all = data_all.merge(dato_semanal, how = 'outer') \n",
    "    #Se pone 'outer' para hacer la union de todos los dataframes\n",
    "\n",
    "print('Cantidad de datos: ', len(data_all))\n",
    "data_all.head(3)"
   ]
  },
  {
   "cell_type": "code",
   "execution_count": 5,
   "metadata": {},
   "outputs": [
    {
     "name": "stdout",
     "output_type": "stream",
     "text": [
      "Duplicados:  175\n"
     ]
    }
   ],
   "source": [
    "#Se ve si hay duplicados\n",
    "print('Duplicados: ', data_all.duplicated().sum())"
   ]
  },
  {
   "cell_type": "code",
   "execution_count": 6,
   "metadata": {
    "scrolled": true
   },
   "outputs": [
    {
     "name": "stdout",
     "output_type": "stream",
     "text": [
      "Cantidad de datos:  16295\n"
     ]
    }
   ],
   "source": [
    "#Se eliminan las filas duplicadas\n",
    "data_all.drop_duplicates(inplace=True)\n",
    "print('Cantidad de datos: ', len(data_all))"
   ]
  },
  {
   "cell_type": "markdown",
   "metadata": {},
   "source": [
    "Ahora se combinan los archivos furnished"
   ]
  },
  {
   "cell_type": "code",
   "execution_count": 7,
   "metadata": {},
   "outputs": [
    {
     "name": "stdout",
     "output_type": "stream",
     "text": [
      "Cantidad de datos:  2101\n"
     ]
    },
    {
     "data": {
      "text/html": [
       "<div>\n",
       "<style scoped>\n",
       "    .dataframe tbody tr th:only-of-type {\n",
       "        vertical-align: middle;\n",
       "    }\n",
       "\n",
       "    .dataframe tbody tr th {\n",
       "        vertical-align: top;\n",
       "    }\n",
       "\n",
       "    .dataframe thead th {\n",
       "        text-align: right;\n",
       "    }\n",
       "</style>\n",
       "<table border=\"1\" class=\"dataframe\">\n",
       "  <thead>\n",
       "    <tr style=\"text-align: right;\">\n",
       "      <th></th>\n",
       "      <th>property_type|rent_type|location</th>\n",
       "      <th>price</th>\n",
       "      <th>n_rooms</th>\n",
       "      <th>n_bath</th>\n",
       "      <th>surface</th>\n",
       "      <th>details</th>\n",
       "      <th>url</th>\n",
       "      <th>metrocuadrado_index</th>\n",
       "    </tr>\n",
       "  </thead>\n",
       "  <tbody>\n",
       "    <tr>\n",
       "      <th>0</th>\n",
       "      <td>Casa en Arriendo, CIUDAD SALITRE SUR-ORIENTAL ...</td>\n",
       "      <td>$3.930.000</td>\n",
       "      <td>3.0</td>\n",
       "      <td>2.0</td>\n",
       "      <td>100.0 m2</td>\n",
       "      <td>Se arrienda casa bonita totalmente amoblada co...</td>\n",
       "      <td>https://www.metrocuadrado.com/inmueble/arriend...</td>\n",
       "      <td>57.3</td>\n",
       "    </tr>\n",
       "    <tr>\n",
       "      <th>1</th>\n",
       "      <td>Casa en Venta Y Arriendo, BELLAVISTA Bogotá D.C..</td>\n",
       "      <td>$1.300.000</td>\n",
       "      <td>3.0</td>\n",
       "      <td>2.0</td>\n",
       "      <td>72.0 m2</td>\n",
       "      <td>hermosa casa en venta y en arriendo en, mandal...</td>\n",
       "      <td>https://www.metrocuadrado.com/inmueble/venta-c...</td>\n",
       "      <td>41.4</td>\n",
       "    </tr>\n",
       "    <tr>\n",
       "      <th>2</th>\n",
       "      <td>Casa en Arriendo, PORTALES DEL NORTE Bogotá D.C..</td>\n",
       "      <td>$1.800.000</td>\n",
       "      <td>3.0</td>\n",
       "      <td>3.0</td>\n",
       "      <td>76.81 m2</td>\n",
       "      <td>Estrato 4. CASA TRIPLEX!! Exterior . Cuenta co...</td>\n",
       "      <td>https://www.metrocuadrado.com/inmueble/arriend...</td>\n",
       "      <td>41.3</td>\n",
       "    </tr>\n",
       "  </tbody>\n",
       "</table>\n",
       "</div>"
      ],
      "text/plain": [
       "                    property_type|rent_type|location       price  n_rooms  \\\n",
       "0  Casa en Arriendo, CIUDAD SALITRE SUR-ORIENTAL ...  $3.930.000      3.0   \n",
       "1  Casa en Venta Y Arriendo, BELLAVISTA Bogotá D.C..  $1.300.000      3.0   \n",
       "2  Casa en Arriendo, PORTALES DEL NORTE Bogotá D.C..  $1.800.000      3.0   \n",
       "\n",
       "   n_bath   surface                                            details  \\\n",
       "0     2.0  100.0 m2  Se arrienda casa bonita totalmente amoblada co...   \n",
       "1     2.0   72.0 m2  hermosa casa en venta y en arriendo en, mandal...   \n",
       "2     3.0  76.81 m2  Estrato 4. CASA TRIPLEX!! Exterior . Cuenta co...   \n",
       "\n",
       "                                                 url  metrocuadrado_index  \n",
       "0  https://www.metrocuadrado.com/inmueble/arriend...                 57.3  \n",
       "1  https://www.metrocuadrado.com/inmueble/venta-c...                 41.4  \n",
       "2  https://www.metrocuadrado.com/inmueble/arriend...                 41.3  "
      ]
     },
     "execution_count": 7,
     "metadata": {},
     "output_type": "execute_result"
    }
   ],
   "source": [
    "data_furnished = pd.read_csv(files_furnished[0])\n",
    "\n",
    "for file in files_furnished:\n",
    "    dato_semanal = pd.read_csv(file)\n",
    "    data_furnished = data_furnished.merge(dato_semanal, how='outer')\n",
    "\n",
    "print('Cantidad de datos: ', len(data_furnished))\n",
    "data_furnished.head(3)"
   ]
  },
  {
   "cell_type": "code",
   "execution_count": 8,
   "metadata": {},
   "outputs": [
    {
     "name": "stdout",
     "output_type": "stream",
     "text": [
      "Duplicados:  2\n"
     ]
    }
   ],
   "source": [
    "#Se buscan los duplicados y se eliminan\n",
    "print('Duplicados: ', data_furnished.duplicated().sum())"
   ]
  },
  {
   "cell_type": "code",
   "execution_count": 9,
   "metadata": {},
   "outputs": [
    {
     "name": "stdout",
     "output_type": "stream",
     "text": [
      "Cantidad de datos:  2099\n"
     ]
    }
   ],
   "source": [
    "data_furnished.drop_duplicates(inplace=True)\n",
    "\n",
    "print('Cantidad de datos: ', len(data_furnished))\n",
    "#Se observa que son muchos menos los datos de tipo furnished"
   ]
  },
  {
   "cell_type": "markdown",
   "metadata": {},
   "source": [
    "Al intentar combinar ambos dataframes usando `data_all.merge(data_furnished, how='outer')` aparece el error:\n",
    "\n",
    "`ValueError: You are trying to merge on object and float64 columns. If you wish to proceed you should use pd.concat`\n",
    "\n",
    "Por lo que se decide comprobar los tipos de las columnas"
   ]
  },
  {
   "cell_type": "code",
   "execution_count": 10,
   "metadata": {},
   "outputs": [
    {
     "name": "stdout",
     "output_type": "stream",
     "text": [
      "Tipos Data All\n",
      "property_type|rent_type|location     object\n",
      "price                                object\n",
      "n_rooms                              object\n",
      "n_bath                               object\n",
      "surface                              object\n",
      "details                              object\n",
      "url                                  object\n",
      "metrocuadrado_index                 float64\n",
      "dtype: object\n",
      "\n",
      "Tipos Data Furnished\n",
      "property_type|rent_type|location     object\n",
      "price                                object\n",
      "n_rooms                             float64\n",
      "n_bath                              float64\n",
      "surface                              object\n",
      "details                              object\n",
      "url                                  object\n",
      "metrocuadrado_index                 float64\n",
      "dtype: object\n"
     ]
    }
   ],
   "source": [
    "#Se observan las columnas de los dataframe\n",
    "print('Tipos Data All')\n",
    "print(data_all.dtypes)\n",
    "print()\n",
    "print('Tipos Data Furnished')\n",
    "print(data_furnished.dtypes)"
   ]
  },
  {
   "cell_type": "markdown",
   "metadata": {},
   "source": [
    "Se observa que el error se debe a que en `Data All` las columnas `n_rooms` y `n_bath` son de tipo `object`, en cambio en `Data Furnished` son de tipo `float64`.\n",
    "\n",
    "Este problema se resuelve simplemente cambiando el tipo de esas columnas."
   ]
  },
  {
   "cell_type": "code",
   "execution_count": 11,
   "metadata": {},
   "outputs": [],
   "source": [
    "#Se cambian las columnas de 'data_furnished' a object\n",
    "data_furnished = data_furnished.astype({'n_rooms':'object', 'n_bath':'object'})\n",
    "\n",
    "#Obs: No se pueden cambiar las columnas de 'data_all' a float64, pues hay un dato llamado '5+'"
   ]
  },
  {
   "cell_type": "code",
   "execution_count": 153,
   "metadata": {},
   "outputs": [
    {
     "name": "stdout",
     "output_type": "stream",
     "text": [
      "Cantidad de datos:  18394\n"
     ]
    },
    {
     "data": {
      "text/html": [
       "<div>\n",
       "<style scoped>\n",
       "    .dataframe tbody tr th:only-of-type {\n",
       "        vertical-align: middle;\n",
       "    }\n",
       "\n",
       "    .dataframe tbody tr th {\n",
       "        vertical-align: top;\n",
       "    }\n",
       "\n",
       "    .dataframe thead th {\n",
       "        text-align: right;\n",
       "    }\n",
       "</style>\n",
       "<table border=\"1\" class=\"dataframe\">\n",
       "  <thead>\n",
       "    <tr style=\"text-align: right;\">\n",
       "      <th></th>\n",
       "      <th>property_type|rent_type|location</th>\n",
       "      <th>price</th>\n",
       "      <th>n_rooms</th>\n",
       "      <th>n_bath</th>\n",
       "      <th>surface</th>\n",
       "      <th>details</th>\n",
       "      <th>url</th>\n",
       "      <th>metrocuadrado_index</th>\n",
       "      <th>Furnished</th>\n",
       "    </tr>\n",
       "  </thead>\n",
       "  <tbody>\n",
       "    <tr>\n",
       "      <th>0</th>\n",
       "      <td>Casa en Arriendo, LA SOLEDAD NORTE Bogotá D.C..</td>\n",
       "      <td>$1.050.000</td>\n",
       "      <td>3</td>\n",
       "      <td>2</td>\n",
       "      <td>63.0 m2</td>\n",
       "      <td>Excelente casa cerca de la calle 80 y Avenida ...</td>\n",
       "      <td>https://www.metrocuadrado.com/inmueble/arriend...</td>\n",
       "      <td>25.6</td>\n",
       "      <td>left_only</td>\n",
       "    </tr>\n",
       "    <tr>\n",
       "      <th>1</th>\n",
       "      <td>Casa en Arriendo, CIUDAD SALITRE SUR-ORIENTAL ...</td>\n",
       "      <td>$3.930.000</td>\n",
       "      <td>3</td>\n",
       "      <td>2</td>\n",
       "      <td>100.0 m2</td>\n",
       "      <td>Se arrienda casa bonita totalmente amoblada co...</td>\n",
       "      <td>https://www.metrocuadrado.com/inmueble/arriend...</td>\n",
       "      <td>57.3</td>\n",
       "      <td>left_only</td>\n",
       "    </tr>\n",
       "    <tr>\n",
       "      <th>2</th>\n",
       "      <td>Casa en Arriendo, VILLA DE LOS ALPES II SECTOR...</td>\n",
       "      <td>$750.000</td>\n",
       "      <td>3</td>\n",
       "      <td>1</td>\n",
       "      <td>90.0 m2</td>\n",
       "      <td>CASA DE TRES NIVELES TRES ALCOBAS SALA COMEDOR...</td>\n",
       "      <td>https://www.metrocuadrado.com/inmueble/arriend...</td>\n",
       "      <td>12.2</td>\n",
       "      <td>left_only</td>\n",
       "    </tr>\n",
       "  </tbody>\n",
       "</table>\n",
       "</div>"
      ],
      "text/plain": [
       "                    property_type|rent_type|location       price n_rooms  \\\n",
       "0    Casa en Arriendo, LA SOLEDAD NORTE Bogotá D.C..  $1.050.000       3   \n",
       "1  Casa en Arriendo, CIUDAD SALITRE SUR-ORIENTAL ...  $3.930.000       3   \n",
       "2  Casa en Arriendo, VILLA DE LOS ALPES II SECTOR...    $750.000       3   \n",
       "\n",
       "  n_bath   surface                                            details  \\\n",
       "0      2   63.0 m2  Excelente casa cerca de la calle 80 y Avenida ...   \n",
       "1      2  100.0 m2  Se arrienda casa bonita totalmente amoblada co...   \n",
       "2      1   90.0 m2  CASA DE TRES NIVELES TRES ALCOBAS SALA COMEDOR...   \n",
       "\n",
       "                                                 url  metrocuadrado_index  \\\n",
       "0  https://www.metrocuadrado.com/inmueble/arriend...                 25.6   \n",
       "1  https://www.metrocuadrado.com/inmueble/arriend...                 57.3   \n",
       "2  https://www.metrocuadrado.com/inmueble/arriend...                 12.2   \n",
       "\n",
       "   Furnished  \n",
       "0  left_only  \n",
       "1  left_only  \n",
       "2  left_only  "
      ]
     },
     "execution_count": 153,
     "metadata": {},
     "output_type": "execute_result"
    }
   ],
   "source": [
    "#Se combinan los dataframes\n",
    "data = data_all.merge(data_furnished, how='outer', indicator='Furnished')\n",
    "\n",
    "#Se coloca utiliza el parámetro indicator para indicar de que dataframe \n",
    "#proviene cada fila.\n",
    "#left_only indica que viene del dataframe 'data_all'\n",
    "#right_only indica que viene del dataframe 'data_furnished'\n",
    "#y both que proviene de ambos\n",
    "\n",
    "print('Cantidad de datos: ', len(data))\n",
    "data.head(3)"
   ]
  },
  {
   "cell_type": "code",
   "execution_count": 154,
   "metadata": {
    "scrolled": true
   },
   "outputs": [
    {
     "data": {
      "text/html": [
       "<div>\n",
       "<style scoped>\n",
       "    .dataframe tbody tr th:only-of-type {\n",
       "        vertical-align: middle;\n",
       "    }\n",
       "\n",
       "    .dataframe tbody tr th {\n",
       "        vertical-align: top;\n",
       "    }\n",
       "\n",
       "    .dataframe thead th {\n",
       "        text-align: right;\n",
       "    }\n",
       "</style>\n",
       "<table border=\"1\" class=\"dataframe\">\n",
       "  <thead>\n",
       "    <tr style=\"text-align: right;\">\n",
       "      <th></th>\n",
       "      <th>property_type|rent_type|location</th>\n",
       "      <th>price</th>\n",
       "      <th>n_rooms</th>\n",
       "      <th>n_bath</th>\n",
       "      <th>surface</th>\n",
       "      <th>details</th>\n",
       "      <th>url</th>\n",
       "      <th>metrocuadrado_index</th>\n",
       "      <th>Furnished</th>\n",
       "    </tr>\n",
       "  </thead>\n",
       "  <tbody>\n",
       "    <tr>\n",
       "      <th>0</th>\n",
       "      <td>Casa en Arriendo, LA SOLEDAD NORTE Bogotá D.C..</td>\n",
       "      <td>$1.050.000</td>\n",
       "      <td>3</td>\n",
       "      <td>2</td>\n",
       "      <td>63.0 m2</td>\n",
       "      <td>Excelente casa cerca de la calle 80 y Avenida ...</td>\n",
       "      <td>https://www.metrocuadrado.com/inmueble/arriend...</td>\n",
       "      <td>25.6</td>\n",
       "      <td>No</td>\n",
       "    </tr>\n",
       "    <tr>\n",
       "      <th>1</th>\n",
       "      <td>Casa en Arriendo, CIUDAD SALITRE SUR-ORIENTAL ...</td>\n",
       "      <td>$3.930.000</td>\n",
       "      <td>3</td>\n",
       "      <td>2</td>\n",
       "      <td>100.0 m2</td>\n",
       "      <td>Se arrienda casa bonita totalmente amoblada co...</td>\n",
       "      <td>https://www.metrocuadrado.com/inmueble/arriend...</td>\n",
       "      <td>57.3</td>\n",
       "      <td>No</td>\n",
       "    </tr>\n",
       "    <tr>\n",
       "      <th>2</th>\n",
       "      <td>Casa en Arriendo, VILLA DE LOS ALPES II SECTOR...</td>\n",
       "      <td>$750.000</td>\n",
       "      <td>3</td>\n",
       "      <td>1</td>\n",
       "      <td>90.0 m2</td>\n",
       "      <td>CASA DE TRES NIVELES TRES ALCOBAS SALA COMEDOR...</td>\n",
       "      <td>https://www.metrocuadrado.com/inmueble/arriend...</td>\n",
       "      <td>12.2</td>\n",
       "      <td>No</td>\n",
       "    </tr>\n",
       "  </tbody>\n",
       "</table>\n",
       "</div>"
      ],
      "text/plain": [
       "                    property_type|rent_type|location       price n_rooms  \\\n",
       "0    Casa en Arriendo, LA SOLEDAD NORTE Bogotá D.C..  $1.050.000       3   \n",
       "1  Casa en Arriendo, CIUDAD SALITRE SUR-ORIENTAL ...  $3.930.000       3   \n",
       "2  Casa en Arriendo, VILLA DE LOS ALPES II SECTOR...    $750.000       3   \n",
       "\n",
       "  n_bath   surface                                            details  \\\n",
       "0      2   63.0 m2  Excelente casa cerca de la calle 80 y Avenida ...   \n",
       "1      2  100.0 m2  Se arrienda casa bonita totalmente amoblada co...   \n",
       "2      1   90.0 m2  CASA DE TRES NIVELES TRES ALCOBAS SALA COMEDOR...   \n",
       "\n",
       "                                                 url  metrocuadrado_index  \\\n",
       "0  https://www.metrocuadrado.com/inmueble/arriend...                 25.6   \n",
       "1  https://www.metrocuadrado.com/inmueble/arriend...                 57.3   \n",
       "2  https://www.metrocuadrado.com/inmueble/arriend...                 12.2   \n",
       "\n",
       "  Furnished  \n",
       "0        No  \n",
       "1        No  \n",
       "2        No  "
      ]
     },
     "execution_count": 154,
     "metadata": {},
     "output_type": "execute_result"
    }
   ],
   "source": [
    "data['Furnished'].replace({'left_only':'No', 'right_only':'Si', 'both':'Ambos'}, inplace=True)\n",
    "\n",
    "#Se cambian los nombres para indicar más claramente si provienen de furnished o no\n",
    "data.head(3)"
   ]
  },
  {
   "cell_type": "code",
   "execution_count": 155,
   "metadata": {},
   "outputs": [
    {
     "data": {
      "text/plain": [
       "No    16295\n",
       "Si     2099\n",
       "Name: Furnished, dtype: int64"
      ]
     },
     "execution_count": 155,
     "metadata": {},
     "output_type": "execute_result"
    }
   ],
   "source": [
    "#Se cuentan la cantidad de cada valores de cada tipo\n",
    "data['Furnished'].value_counts()"
   ]
  },
  {
   "cell_type": "markdown",
   "metadata": {},
   "source": [
    "Como se observa no hay elementos comunes entre ambos grupos, son disjuntos. No hay archivos con texto 'furnished' que no estén contenidos en archivos con texto 'all'."
   ]
  },
  {
   "cell_type": "code",
   "execution_count": 156,
   "metadata": {},
   "outputs": [
    {
     "data": {
      "text/html": [
       "<div>\n",
       "<style scoped>\n",
       "    .dataframe tbody tr th:only-of-type {\n",
       "        vertical-align: middle;\n",
       "    }\n",
       "\n",
       "    .dataframe tbody tr th {\n",
       "        vertical-align: top;\n",
       "    }\n",
       "\n",
       "    .dataframe thead th {\n",
       "        text-align: right;\n",
       "    }\n",
       "</style>\n",
       "<table border=\"1\" class=\"dataframe\">\n",
       "  <thead>\n",
       "    <tr style=\"text-align: right;\">\n",
       "      <th></th>\n",
       "      <th>property_type|rent_type|location</th>\n",
       "      <th>price</th>\n",
       "      <th>n_rooms</th>\n",
       "      <th>n_bath</th>\n",
       "      <th>surface</th>\n",
       "      <th>details</th>\n",
       "      <th>url</th>\n",
       "      <th>metrocuadrado_index</th>\n",
       "    </tr>\n",
       "  </thead>\n",
       "  <tbody>\n",
       "  </tbody>\n",
       "</table>\n",
       "</div>"
      ],
      "text/plain": [
       "Empty DataFrame\n",
       "Columns: [property_type|rent_type|location, price, n_rooms, n_bath, surface, details, url, metrocuadrado_index]\n",
       "Index: []"
      ]
     },
     "execution_count": 156,
     "metadata": {},
     "output_type": "execute_result"
    }
   ],
   "source": [
    "#Esto se comprueba tambien haciendo una intersección entre los dataframes\n",
    "#mediante el argumento 'inner'\n",
    "pd.merge(data_all, data_furnished, how='inner')\n",
    "\n",
    "#Se observa que el resultado es un dataframe vacío"
   ]
  },
  {
   "cell_type": "markdown",
   "metadata": {},
   "source": [
    "### Parte 2"
   ]
  },
  {
   "cell_type": "markdown",
   "metadata": {},
   "source": [
    "#### A"
   ]
  },
  {
   "cell_type": "markdown",
   "metadata": {},
   "source": [
    "Primero se limpia el precio"
   ]
  },
  {
   "cell_type": "code",
   "execution_count": 157,
   "metadata": {},
   "outputs": [
    {
     "data": {
      "text/plain": [
       "0    $1.050.000\n",
       "1    $3.930.000\n",
       "2      $750.000\n",
       "Name: price, dtype: object"
      ]
     },
     "execution_count": 157,
     "metadata": {},
     "output_type": "execute_result"
    }
   ],
   "source": [
    "data['price'].head(3)"
   ]
  },
  {
   "cell_type": "markdown",
   "metadata": {},
   "source": [
    "Se observa que son de tipo `object`, pues el precio contiene el signo peso '$' y los puntos. Convendría eliminar este signo y los puntos para poder pasar los datos a `float64`."
   ]
  },
  {
   "cell_type": "code",
   "execution_count": 158,
   "metadata": {},
   "outputs": [
    {
     "data": {
      "text/plain": [
       "0    1050000\n",
       "1    3930000\n",
       "2     750000\n",
       "Name: price, dtype: object"
      ]
     },
     "execution_count": 158,
     "metadata": {},
     "output_type": "execute_result"
    }
   ],
   "source": [
    "data['price'] = data['price'].str.replace('$','')\n",
    "data['price'] = data['price'].str.replace('.','')\n",
    "data['price'].head(3)"
   ]
  },
  {
   "cell_type": "code",
   "execution_count": 159,
   "metadata": {},
   "outputs": [
    {
     "data": {
      "text/plain": [
       "0    1050000.0\n",
       "1    3930000.0\n",
       "2     750000.0\n",
       "Name: price, dtype: float64"
      ]
     },
     "execution_count": 159,
     "metadata": {},
     "output_type": "execute_result"
    }
   ],
   "source": [
    "#Se cambia el tipo a float64\n",
    "data['price'] = data['price'].astype('float')\n",
    "data['price'].head(3)"
   ]
  },
  {
   "cell_type": "markdown",
   "metadata": {},
   "source": [
    "Ahora se limpia el área"
   ]
  },
  {
   "cell_type": "code",
   "execution_count": 160,
   "metadata": {},
   "outputs": [
    {
     "data": {
      "text/plain": [
       "18390    164.34 m2\n",
       "18391     110.0 m2\n",
       "18392     106.0 m2\n",
       "18393     135.0 m2\n",
       "Name: surface, dtype: object"
      ]
     },
     "execution_count": 160,
     "metadata": {},
     "output_type": "execute_result"
    }
   ],
   "source": [
    "data['surface'].tail(4)"
   ]
  },
  {
   "cell_type": "markdown",
   "metadata": {},
   "source": [
    "Se deben eliminar los carácteres ' m2' al final del número, y luego cambiar el tipo a `float`."
   ]
  },
  {
   "cell_type": "code",
   "execution_count": 161,
   "metadata": {},
   "outputs": [
    {
     "data": {
      "text/plain": [
       "18390    164.34\n",
       "18391    110.00\n",
       "18392    106.00\n",
       "18393    135.00\n",
       "Name: surface, dtype: float64"
      ]
     },
     "execution_count": 161,
     "metadata": {},
     "output_type": "execute_result"
    }
   ],
   "source": [
    "data['surface'] = data['surface'].str.replace(' m2','')\n",
    "data['surface'] = data['surface'].astype('float')\n",
    "data['surface'].tail(4)"
   ]
  },
  {
   "cell_type": "markdown",
   "metadata": {},
   "source": [
    "Ahora se limpia el número de habitaciones"
   ]
  },
  {
   "cell_type": "code",
   "execution_count": 162,
   "metadata": {},
   "outputs": [
    {
     "data": {
      "text/plain": [
       "0    3\n",
       "1    3\n",
       "2    3\n",
       "Name: n_rooms, dtype: object"
      ]
     },
     "execution_count": 162,
     "metadata": {},
     "output_type": "execute_result"
    }
   ],
   "source": [
    "data['n_rooms'].head(3)"
   ]
  },
  {
   "cell_type": "markdown",
   "metadata": {},
   "source": [
    "Parece que fueran números enteros, pero el tipo de la columna es object"
   ]
  },
  {
   "cell_type": "code",
   "execution_count": 163,
   "metadata": {},
   "outputs": [
    {
     "data": {
      "text/plain": [
       "array(['3', '5', '4', '2', '1', nan, '5+', 3.0, 5.0, 4.0, 2.0, 1.0],\n",
       "      dtype=object)"
      ]
     },
     "execution_count": 163,
     "metadata": {},
     "output_type": "execute_result"
    }
   ],
   "source": [
    "#Se ven los valores de la columna\n",
    "data['n_rooms'].unique()"
   ]
  },
  {
   "cell_type": "markdown",
   "metadata": {},
   "source": [
    "Se observa que la columna tiene valores de tipo string y float. Más aún se ve que se podría cambiar inmediatamente el tipo a `float` sino existiera el valor `5+`."
   ]
  },
  {
   "cell_type": "code",
   "execution_count": 164,
   "metadata": {},
   "outputs": [
    {
     "data": {
      "text/plain": [
       "2      6571\n",
       "1      6271\n",
       "3      1351\n",
       "4      1198\n",
       "1.0    1040\n",
       "2.0     938\n",
       "5       862\n",
       "3.0      52\n",
       "5.0      36\n",
       "4.0      32\n",
       "5+        9\n",
       "Name: n_rooms, dtype: int64"
      ]
     },
     "execution_count": 164,
     "metadata": {},
     "output_type": "execute_result"
    }
   ],
   "source": [
    "#Se cuenta cuantas entradas hay de cada valor\n",
    "data['n_rooms'].value_counts()"
   ]
  },
  {
   "cell_type": "markdown",
   "metadata": {},
   "source": [
    "Se ve que solo son 9 las entradas con valor `5+`, por lo que es una parte infima del total del dataset que es de $18394$ entradas, simplemente se podrían eliminar. Pero como no se desea botar datos, se cambiará el valor `5+` por $6$, dado que es el entero mayor a 5 más cercano."
   ]
  },
  {
   "cell_type": "code",
   "execution_count": 165,
   "metadata": {},
   "outputs": [
    {
     "data": {
      "text/plain": [
       "array(['3', '5', '4', '2', '1', nan, 6, 3.0, 5.0, 4.0, 2.0, 1.0],\n",
       "      dtype=object)"
      ]
     },
     "execution_count": 165,
     "metadata": {},
     "output_type": "execute_result"
    }
   ],
   "source": [
    "data['n_rooms'] = data['n_rooms'].replace('5+',6)\n",
    "#Se reemplazan el valor que daba problemas, y se muestran los valores de las entradas\n",
    "data['n_rooms'].unique()"
   ]
  },
  {
   "cell_type": "code",
   "execution_count": 166,
   "metadata": {},
   "outputs": [
    {
     "data": {
      "text/plain": [
       "0    3.0\n",
       "1    3.0\n",
       "2    3.0\n",
       "Name: n_rooms, dtype: float64"
      ]
     },
     "execution_count": 166,
     "metadata": {},
     "output_type": "execute_result"
    }
   ],
   "source": [
    "#Como esta correcto, se puede cambiar el tipo de la columna\n",
    "data['n_rooms'] = data['n_rooms'].astype('float')\n",
    "data['n_rooms'].head(3)"
   ]
  },
  {
   "cell_type": "markdown",
   "metadata": {},
   "source": [
    "Por último se limpia el número de baños"
   ]
  },
  {
   "cell_type": "code",
   "execution_count": 167,
   "metadata": {},
   "outputs": [
    {
     "data": {
      "text/plain": [
       "18391    3\n",
       "18392    3\n",
       "18393    2\n",
       "Name: n_bath, dtype: object"
      ]
     },
     "execution_count": 167,
     "metadata": {},
     "output_type": "execute_result"
    }
   ],
   "source": [
    "data['n_bath'].tail(3)"
   ]
  },
  {
   "cell_type": "markdown",
   "metadata": {},
   "source": [
    "Nuevamente parecen ser enteros, pero el tipo es object"
   ]
  },
  {
   "cell_type": "code",
   "execution_count": 168,
   "metadata": {},
   "outputs": [
    {
     "data": {
      "text/plain": [
       "array(['2', '1', '4', '3', nan, '5', '5+', 2.0, 3.0, 4.0, 5.0, 1.0],\n",
       "      dtype=object)"
      ]
     },
     "execution_count": 168,
     "metadata": {},
     "output_type": "execute_result"
    }
   ],
   "source": [
    "#Se ven los valores de la columna\n",
    "data['n_bath'].unique()"
   ]
  },
  {
   "cell_type": "markdown",
   "metadata": {},
   "source": [
    "Nuevamente el error viene dado por `5+`, por lo que se procede de igual manera que en `n_rooms`."
   ]
  },
  {
   "cell_type": "code",
   "execution_count": 169,
   "metadata": {},
   "outputs": [
    {
     "data": {
      "text/plain": [
       "0    2.0\n",
       "1    2.0\n",
       "2    1.0\n",
       "Name: n_bath, dtype: float64"
      ]
     },
     "execution_count": 169,
     "metadata": {},
     "output_type": "execute_result"
    }
   ],
   "source": [
    "data['n_bath'] = data['n_bath'].replace('5+',6) #Se reemplazan '5+' por 6\n",
    "data['n_bath'] = data['n_bath'].astype('float') #Se cambia el tipo a float\n",
    "data['n_bath'].head(3)"
   ]
  },
  {
   "cell_type": "markdown",
   "metadata": {},
   "source": [
    "Finalmente se muestran nuevamente los tipos de las columnas"
   ]
  },
  {
   "cell_type": "code",
   "execution_count": 170,
   "metadata": {},
   "outputs": [
    {
     "data": {
      "text/plain": [
       "property_type|rent_type|location     object\n",
       "price                               float64\n",
       "n_rooms                             float64\n",
       "n_bath                              float64\n",
       "surface                             float64\n",
       "details                              object\n",
       "url                                  object\n",
       "metrocuadrado_index                 float64\n",
       "Furnished                            object\n",
       "dtype: object"
      ]
     },
     "execution_count": 170,
     "metadata": {},
     "output_type": "execute_result"
    }
   ],
   "source": [
    "data.dtypes"
   ]
  },
  {
   "cell_type": "markdown",
   "metadata": {},
   "source": [
    "#### B"
   ]
  },
  {
   "cell_type": "markdown",
   "metadata": {},
   "source": [
    "Se debe dividir la columna `property_type|rent_type|location` en 3 columnas distintas."
   ]
  },
  {
   "cell_type": "code",
   "execution_count": 171,
   "metadata": {},
   "outputs": [],
   "source": [
    "#Se hace una copia de la data por si se realiza un error\n",
    "copia_seguridad = data.copy()"
   ]
  },
  {
   "cell_type": "code",
   "execution_count": 151,
   "metadata": {},
   "outputs": [],
   "source": [
    "#Cuando algo salga mal correr esta celda\n",
    "data = copia_seguridad.copy()"
   ]
  },
  {
   "cell_type": "code",
   "execution_count": 172,
   "metadata": {},
   "outputs": [
    {
     "data": {
      "text/plain": [
       "0          Casa en Arriendo, LA SOLEDAD NORTE Bogotá D.C..\n",
       "1        Casa en Arriendo, CIUDAD SALITRE SUR-ORIENTAL ...\n",
       "2        Casa en Arriendo, VILLA DE LOS ALPES II SECTOR...\n",
       "3              Casa en Arriendo, PARIS GAITAN Bogotá D.C..\n",
       "4        Casa en Arriendo, BALCONES DE ORIENTE Bogotá D...\n",
       "                               ...                        \n",
       "18389    Apartamento en Arriendo, CHICO NORTE Bogotá D.C..\n",
       "18390    Apartamento en Arriendo, CHICO NORTE II Bogotá...\n",
       "18391    Apartamento en Venta Y Arriendo, CHICO NORTE B...\n",
       "18392    Apartamento en Arriendo, MOLINOS NORTE Bogotá ...\n",
       "18393       Apartamento en Arriendo, EL NOGAL Bogotá D.C..\n",
       "Name: property_type|rent_type|location, Length: 18394, dtype: object"
      ]
     },
     "execution_count": 172,
     "metadata": {},
     "output_type": "execute_result"
    }
   ],
   "source": [
    "#Se muestran unos pocos datos de esta columna\n",
    "data['property_type|rent_type|location']"
   ]
  },
  {
   "cell_type": "markdown",
   "metadata": {},
   "source": [
    "Se pueden deducir varias cosas:\n",
    "1. El tipo de propiedad es la primera palabra del string.\n",
    "2. El tipo de renta aparece después de la palabra 'en' y un espacio ' '.\n",
    "3. El lugar esta después de la coma."
   ]
  },
  {
   "cell_type": "markdown",
   "metadata": {},
   "source": [
    "En primer lugar se decide dividir el string en dos partes separadas por la coma."
   ]
  },
  {
   "cell_type": "code",
   "execution_count": 173,
   "metadata": {},
   "outputs": [
    {
     "data": {
      "text/html": [
       "<div>\n",
       "<style scoped>\n",
       "    .dataframe tbody tr th:only-of-type {\n",
       "        vertical-align: middle;\n",
       "    }\n",
       "\n",
       "    .dataframe tbody tr th {\n",
       "        vertical-align: top;\n",
       "    }\n",
       "\n",
       "    .dataframe thead th {\n",
       "        text-align: right;\n",
       "    }\n",
       "</style>\n",
       "<table border=\"1\" class=\"dataframe\">\n",
       "  <thead>\n",
       "    <tr style=\"text-align: right;\">\n",
       "      <th></th>\n",
       "      <th>0</th>\n",
       "      <th>1</th>\n",
       "    </tr>\n",
       "  </thead>\n",
       "  <tbody>\n",
       "    <tr>\n",
       "      <th>0</th>\n",
       "      <td>Casa en Arriendo</td>\n",
       "      <td>LA SOLEDAD NORTE Bogotá D.C..</td>\n",
       "    </tr>\n",
       "    <tr>\n",
       "      <th>1</th>\n",
       "      <td>Casa en Arriendo</td>\n",
       "      <td>CIUDAD SALITRE SUR-ORIENTAL Bogotá D.C..</td>\n",
       "    </tr>\n",
       "    <tr>\n",
       "      <th>2</th>\n",
       "      <td>Casa en Arriendo</td>\n",
       "      <td>VILLA DE LOS ALPES II SECTOR Bogotá D.C..</td>\n",
       "    </tr>\n",
       "  </tbody>\n",
       "</table>\n",
       "</div>"
      ],
      "text/plain": [
       "                  0                                           1\n",
       "0  Casa en Arriendo               LA SOLEDAD NORTE Bogotá D.C..\n",
       "1  Casa en Arriendo    CIUDAD SALITRE SUR-ORIENTAL Bogotá D.C..\n",
       "2  Casa en Arriendo   VILLA DE LOS ALPES II SECTOR Bogotá D.C.."
      ]
     },
     "execution_count": 173,
     "metadata": {},
     "output_type": "execute_result"
    }
   ],
   "source": [
    "new_columns = data['property_type|rent_type|location'].str.split(pat=',', expand=True)\n",
    "new_columns.head(3)"
   ]
  },
  {
   "cell_type": "code",
   "execution_count": 174,
   "metadata": {},
   "outputs": [
    {
     "data": {
      "text/html": [
       "<div>\n",
       "<style scoped>\n",
       "    .dataframe tbody tr th:only-of-type {\n",
       "        vertical-align: middle;\n",
       "    }\n",
       "\n",
       "    .dataframe tbody tr th {\n",
       "        vertical-align: top;\n",
       "    }\n",
       "\n",
       "    .dataframe thead th {\n",
       "        text-align: right;\n",
       "    }\n",
       "</style>\n",
       "<table border=\"1\" class=\"dataframe\">\n",
       "  <thead>\n",
       "    <tr style=\"text-align: right;\">\n",
       "      <th></th>\n",
       "      <th>price</th>\n",
       "      <th>n_rooms</th>\n",
       "      <th>n_bath</th>\n",
       "      <th>surface</th>\n",
       "      <th>details</th>\n",
       "      <th>url</th>\n",
       "      <th>metrocuadrado_index</th>\n",
       "      <th>Furnished</th>\n",
       "      <th>property_type|rent_type</th>\n",
       "      <th>location</th>\n",
       "    </tr>\n",
       "  </thead>\n",
       "  <tbody>\n",
       "    <tr>\n",
       "      <th>0</th>\n",
       "      <td>1050000.0</td>\n",
       "      <td>3.0</td>\n",
       "      <td>2.0</td>\n",
       "      <td>63.0</td>\n",
       "      <td>Excelente casa cerca de la calle 80 y Avenida ...</td>\n",
       "      <td>https://www.metrocuadrado.com/inmueble/arriend...</td>\n",
       "      <td>25.6</td>\n",
       "      <td>No</td>\n",
       "      <td>Casa en Arriendo</td>\n",
       "      <td>LA SOLEDAD NORTE Bogotá D.C..</td>\n",
       "    </tr>\n",
       "    <tr>\n",
       "      <th>1</th>\n",
       "      <td>3930000.0</td>\n",
       "      <td>3.0</td>\n",
       "      <td>2.0</td>\n",
       "      <td>100.0</td>\n",
       "      <td>Se arrienda casa bonita totalmente amoblada co...</td>\n",
       "      <td>https://www.metrocuadrado.com/inmueble/arriend...</td>\n",
       "      <td>57.3</td>\n",
       "      <td>No</td>\n",
       "      <td>Casa en Arriendo</td>\n",
       "      <td>CIUDAD SALITRE SUR-ORIENTAL Bogotá D.C..</td>\n",
       "    </tr>\n",
       "    <tr>\n",
       "      <th>2</th>\n",
       "      <td>750000.0</td>\n",
       "      <td>3.0</td>\n",
       "      <td>1.0</td>\n",
       "      <td>90.0</td>\n",
       "      <td>CASA DE TRES NIVELES TRES ALCOBAS SALA COMEDOR...</td>\n",
       "      <td>https://www.metrocuadrado.com/inmueble/arriend...</td>\n",
       "      <td>12.2</td>\n",
       "      <td>No</td>\n",
       "      <td>Casa en Arriendo</td>\n",
       "      <td>VILLA DE LOS ALPES II SECTOR Bogotá D.C..</td>\n",
       "    </tr>\n",
       "  </tbody>\n",
       "</table>\n",
       "</div>"
      ],
      "text/plain": [
       "       price  n_rooms  n_bath  surface  \\\n",
       "0  1050000.0      3.0     2.0     63.0   \n",
       "1  3930000.0      3.0     2.0    100.0   \n",
       "2   750000.0      3.0     1.0     90.0   \n",
       "\n",
       "                                             details  \\\n",
       "0  Excelente casa cerca de la calle 80 y Avenida ...   \n",
       "1  Se arrienda casa bonita totalmente amoblada co...   \n",
       "2  CASA DE TRES NIVELES TRES ALCOBAS SALA COMEDOR...   \n",
       "\n",
       "                                                 url  metrocuadrado_index  \\\n",
       "0  https://www.metrocuadrado.com/inmueble/arriend...                 25.6   \n",
       "1  https://www.metrocuadrado.com/inmueble/arriend...                 57.3   \n",
       "2  https://www.metrocuadrado.com/inmueble/arriend...                 12.2   \n",
       "\n",
       "  Furnished property_type|rent_type  \\\n",
       "0        No        Casa en Arriendo   \n",
       "1        No        Casa en Arriendo   \n",
       "2        No        Casa en Arriendo   \n",
       "\n",
       "                                     location  \n",
       "0               LA SOLEDAD NORTE Bogotá D.C..  \n",
       "1    CIUDAD SALITRE SUR-ORIENTAL Bogotá D.C..  \n",
       "2   VILLA DE LOS ALPES II SECTOR Bogotá D.C..  "
      ]
     },
     "execution_count": 174,
     "metadata": {},
     "output_type": "execute_result"
    }
   ],
   "source": [
    "#Se insertan las columnas en la data \n",
    "data[['property_type|rent_type', 'location']] = new_columns\n",
    "\n",
    "#Se elimina la columna original\n",
    "data.drop('property_type|rent_type|location', axis=1, inplace=True)\n",
    "\n",
    "data.head(3)"
   ]
  },
  {
   "cell_type": "markdown",
   "metadata": {},
   "source": [
    "Ahora se divide la columna `property_type|rent_type` en dos columnas más."
   ]
  },
  {
   "cell_type": "code",
   "execution_count": 175,
   "metadata": {},
   "outputs": [
    {
     "data": {
      "text/html": [
       "<div>\n",
       "<style scoped>\n",
       "    .dataframe tbody tr th:only-of-type {\n",
       "        vertical-align: middle;\n",
       "    }\n",
       "\n",
       "    .dataframe tbody tr th {\n",
       "        vertical-align: top;\n",
       "    }\n",
       "\n",
       "    .dataframe thead th {\n",
       "        text-align: right;\n",
       "    }\n",
       "</style>\n",
       "<table border=\"1\" class=\"dataframe\">\n",
       "  <thead>\n",
       "    <tr style=\"text-align: right;\">\n",
       "      <th></th>\n",
       "      <th>0</th>\n",
       "      <th>1</th>\n",
       "    </tr>\n",
       "  </thead>\n",
       "  <tbody>\n",
       "    <tr>\n",
       "      <th>0</th>\n",
       "      <td>Casa</td>\n",
       "      <td>Arriendo</td>\n",
       "    </tr>\n",
       "    <tr>\n",
       "      <th>1</th>\n",
       "      <td>Casa</td>\n",
       "      <td>Arriendo</td>\n",
       "    </tr>\n",
       "    <tr>\n",
       "      <th>2</th>\n",
       "      <td>Casa</td>\n",
       "      <td>Arriendo</td>\n",
       "    </tr>\n",
       "  </tbody>\n",
       "</table>\n",
       "</div>"
      ],
      "text/plain": [
       "       0         1\n",
       "0  Casa   Arriendo\n",
       "1  Casa   Arriendo\n",
       "2  Casa   Arriendo"
      ]
     },
     "execution_count": 175,
     "metadata": {},
     "output_type": "execute_result"
    }
   ],
   "source": [
    "new_columns = data['property_type|rent_type'].str.split(pat='en ', expand=True)\n",
    "new_columns.head(3)"
   ]
  },
  {
   "cell_type": "code",
   "execution_count": 176,
   "metadata": {},
   "outputs": [
    {
     "data": {
      "text/html": [
       "<div>\n",
       "<style scoped>\n",
       "    .dataframe tbody tr th:only-of-type {\n",
       "        vertical-align: middle;\n",
       "    }\n",
       "\n",
       "    .dataframe tbody tr th {\n",
       "        vertical-align: top;\n",
       "    }\n",
       "\n",
       "    .dataframe thead th {\n",
       "        text-align: right;\n",
       "    }\n",
       "</style>\n",
       "<table border=\"1\" class=\"dataframe\">\n",
       "  <thead>\n",
       "    <tr style=\"text-align: right;\">\n",
       "      <th></th>\n",
       "      <th>price</th>\n",
       "      <th>n_rooms</th>\n",
       "      <th>n_bath</th>\n",
       "      <th>surface</th>\n",
       "      <th>details</th>\n",
       "      <th>url</th>\n",
       "      <th>metrocuadrado_index</th>\n",
       "      <th>Furnished</th>\n",
       "      <th>location</th>\n",
       "      <th>property</th>\n",
       "      <th>rent</th>\n",
       "    </tr>\n",
       "  </thead>\n",
       "  <tbody>\n",
       "    <tr>\n",
       "      <th>0</th>\n",
       "      <td>1050000.0</td>\n",
       "      <td>3.0</td>\n",
       "      <td>2.0</td>\n",
       "      <td>63.0</td>\n",
       "      <td>Excelente casa cerca de la calle 80 y Avenida ...</td>\n",
       "      <td>https://www.metrocuadrado.com/inmueble/arriend...</td>\n",
       "      <td>25.6</td>\n",
       "      <td>No</td>\n",
       "      <td>LA SOLEDAD NORTE Bogotá D.C..</td>\n",
       "      <td>Casa</td>\n",
       "      <td>Arriendo</td>\n",
       "    </tr>\n",
       "    <tr>\n",
       "      <th>1</th>\n",
       "      <td>3930000.0</td>\n",
       "      <td>3.0</td>\n",
       "      <td>2.0</td>\n",
       "      <td>100.0</td>\n",
       "      <td>Se arrienda casa bonita totalmente amoblada co...</td>\n",
       "      <td>https://www.metrocuadrado.com/inmueble/arriend...</td>\n",
       "      <td>57.3</td>\n",
       "      <td>No</td>\n",
       "      <td>CIUDAD SALITRE SUR-ORIENTAL Bogotá D.C..</td>\n",
       "      <td>Casa</td>\n",
       "      <td>Arriendo</td>\n",
       "    </tr>\n",
       "    <tr>\n",
       "      <th>2</th>\n",
       "      <td>750000.0</td>\n",
       "      <td>3.0</td>\n",
       "      <td>1.0</td>\n",
       "      <td>90.0</td>\n",
       "      <td>CASA DE TRES NIVELES TRES ALCOBAS SALA COMEDOR...</td>\n",
       "      <td>https://www.metrocuadrado.com/inmueble/arriend...</td>\n",
       "      <td>12.2</td>\n",
       "      <td>No</td>\n",
       "      <td>VILLA DE LOS ALPES II SECTOR Bogotá D.C..</td>\n",
       "      <td>Casa</td>\n",
       "      <td>Arriendo</td>\n",
       "    </tr>\n",
       "  </tbody>\n",
       "</table>\n",
       "</div>"
      ],
      "text/plain": [
       "       price  n_rooms  n_bath  surface  \\\n",
       "0  1050000.0      3.0     2.0     63.0   \n",
       "1  3930000.0      3.0     2.0    100.0   \n",
       "2   750000.0      3.0     1.0     90.0   \n",
       "\n",
       "                                             details  \\\n",
       "0  Excelente casa cerca de la calle 80 y Avenida ...   \n",
       "1  Se arrienda casa bonita totalmente amoblada co...   \n",
       "2  CASA DE TRES NIVELES TRES ALCOBAS SALA COMEDOR...   \n",
       "\n",
       "                                                 url  metrocuadrado_index  \\\n",
       "0  https://www.metrocuadrado.com/inmueble/arriend...                 25.6   \n",
       "1  https://www.metrocuadrado.com/inmueble/arriend...                 57.3   \n",
       "2  https://www.metrocuadrado.com/inmueble/arriend...                 12.2   \n",
       "\n",
       "  Furnished                                    location property      rent  \n",
       "0        No               LA SOLEDAD NORTE Bogotá D.C..    Casa   Arriendo  \n",
       "1        No    CIUDAD SALITRE SUR-ORIENTAL Bogotá D.C..    Casa   Arriendo  \n",
       "2        No   VILLA DE LOS ALPES II SECTOR Bogotá D.C..    Casa   Arriendo  "
      ]
     },
     "execution_count": 176,
     "metadata": {},
     "output_type": "execute_result"
    }
   ],
   "source": [
    "#Se insertan las columnas en la data y se elimina la columna original\n",
    "data[['property','rent']] = new_columns\n",
    "data.drop('property_type|rent_type', axis=1, inplace=True)\n",
    "data.head(3)"
   ]
  },
  {
   "cell_type": "markdown",
   "metadata": {},
   "source": [
    "Por último se revisa que no hayan espacios vacíos al inicio o final de las nuevas columnas."
   ]
  },
  {
   "cell_type": "code",
   "execution_count": 178,
   "metadata": {
    "scrolled": true
   },
   "outputs": [
    {
     "name": "stdout",
     "output_type": "stream",
     "text": [
      " LA SOLEDAD NORTE Bogotá D.C..\n",
      "Casa \n",
      "Arriendo\n"
     ]
    }
   ],
   "source": [
    "print(data['location'][0])\n",
    "print(data['property'][0])\n",
    "print(data['rent'][0])"
   ]
  },
  {
   "cell_type": "markdown",
   "metadata": {},
   "source": [
    "Tanto location como property tienen espacios, por lo que se utiliza strip para eliminarlos."
   ]
  },
  {
   "cell_type": "code",
   "execution_count": 182,
   "metadata": {},
   "outputs": [],
   "source": [
    "data['location'] = data['location'].str.strip()\n",
    "data['property'] = data['property'].str.strip()"
   ]
  },
  {
   "cell_type": "markdown",
   "metadata": {},
   "source": [
    "### Parte 3"
   ]
  },
  {
   "cell_type": "markdown",
   "metadata": {},
   "source": []
  },
  {
   "cell_type": "markdown",
   "metadata": {},
   "source": [
    "### Parte 4"
   ]
  },
  {
   "cell_type": "markdown",
   "metadata": {},
   "source": [
    "### Parte 5"
   ]
  },
  {
   "cell_type": "markdown",
   "metadata": {},
   "source": [
    "### Parte 6"
   ]
  },
  {
   "cell_type": "markdown",
   "metadata": {},
   "source": [
    "## P2"
   ]
  },
  {
   "cell_type": "code",
   "execution_count": null,
   "metadata": {},
   "outputs": [],
   "source": []
  },
  {
   "cell_type": "markdown",
   "metadata": {},
   "source": [
    "# P3 "
   ]
  },
  {
   "cell_type": "markdown",
   "metadata": {},
   "source": [
    "## Implementación"
   ]
  },
  {
   "cell_type": "markdown",
   "metadata": {},
   "source": [
    "### Parte 1"
   ]
  },
  {
   "cell_type": "code",
   "execution_count": 2,
   "metadata": {},
   "outputs": [],
   "source": [
    "from sklearn.base import BaseEstimator as BE\n",
    "from sklearn.base import RegressorMixin as RM\n",
    "import numpy as np\n",
    "\n",
    "class RegresionBayesianaEmpirica(BE,RM):\n",
    "    \n",
    "    def __init__(self,alpha,beta,tol=1e-15,maxiter=100):\n",
    "        self.set_params(alpha=alpha,beta=beta,tol=tol,maxiter=maxiter)\n",
    "        \n",
    "    def get_posteriori(self,X,y,alpha,beta):\n",
    "        N,d = X.shape\n",
    "        try:\n",
    "            S_N = np.linalg.inv(alpha*np.eye(d) + beta*np.dot(X.T,X)) # dim dxd\n",
    "        except LinAlgError:\n",
    "            print('Matriz S_N no invertible')\n",
    "        m_N = beta*np.dot(S_N,np.dot(X.T,y)) # dim dx1\n",
    "\n",
    "        return m_N, S_N\n",
    "    \n",
    "    \n",
    "    def fit(self,X,y,i=0,verbose=True):\n",
    "        i += 1\n",
    "        if verbose:\n",
    "            print('Iteracion',i)\n",
    "            print('Valores actuales: alpha=',self.alpha,' beta=',self.beta)\n",
    "        if i <= self.maxiter:\n",
    "            N,d = X.shape\n",
    "            eigen_val, eigen_vec = np.linalg.eig(self.beta*np.dot(X.T,X))\n",
    "            eigen_val = np.real_if_close(eigen_val,tol=1)\n",
    "            gamma = np.sum(eigen_val/(self.alpha + eigen_val))\n",
    "            m_N, S_N = self.get_posteriori(X,y,self.alpha,self.beta)\n",
    "        \n",
    "            new_alpha = gamma/(np.dot(m_N.T,m_N))\n",
    "            new_beta = (N-gamma)/(np.sum((y-np.dot(m_N.T,X.T))**2))\n",
    "        \n",
    "            if np.abs(self.alpha - new_alpha) < self.tol and np.abs(self.beta - new_beta) < self.tol:\n",
    "                self.alpha = new_alpha\n",
    "                self.beta = new_beta\n",
    "                self.m_N = m_N\n",
    "                self.S_N = S_N\n",
    "                if verbose:\n",
    "                    print('Valores finales: alpha=',self.alpha,' beta=',self.beta)\n",
    "            else:\n",
    "                self.alpha = new_alpha\n",
    "                self.beta = new_beta\n",
    "                self.m_N = m_N\n",
    "                self.S_N = S_N\n",
    "                self.fit(X,y,i)\n",
    "                \n",
    "    \n",
    "    def predict(self,X_,return_std=False):\n",
    "        y_ = np.dot(X_,self.m_N)\n",
    "        y_std = np.sqrt((1/self.beta) + np.diag(np.dot(X_,np.dot(self.S_N,X_.T))))\n",
    "        \n",
    "        if return_std:\n",
    "            return (y_,y_std)\n",
    "        return y_"
   ]
  },
  {
   "cell_type": "markdown",
   "metadata": {},
   "source": [
    "### Parte 2"
   ]
  },
  {
   "cell_type": "code",
   "execution_count": 3,
   "metadata": {},
   "outputs": [],
   "source": [
    "import pandas as pd\n",
    "import numpy as np\n",
    "\n",
    "#Datos para prueba\n",
    "df = pd.read_csv('data_2.csv')"
   ]
  },
  {
   "cell_type": "code",
   "execution_count": 4,
   "metadata": {},
   "outputs": [],
   "source": [
    "df.replace([np.inf, -np.inf], np.nan, inplace=True)\n",
    "df.dropna(inplace=True)\n",
    "df.drop(df[df.surface==0].index, inplace=True)\n",
    "df.drop(['price','surface','url','details','personas','property'],axis=1,inplace=True)#"
   ]
  },
  {
   "cell_type": "code",
   "execution_count": 5,
   "metadata": {},
   "outputs": [
    {
     "name": "stdout",
     "output_type": "stream",
     "text": [
      "<class 'pandas.core.frame.DataFrame'>\n",
      "Int64Index: 15773 entries, 3 to 18018\n",
      "Data columns (total 19 columns):\n",
      "n_rooms                   15773 non-null float64\n",
      "n_bath                    15773 non-null float64\n",
      "metrocuadrado_index       15773 non-null float64\n",
      "Garajes                   15773 non-null int64\n",
      "tipo de producto          15773 non-null int64\n",
      "trabajo_ninos             15773 non-null float64\n",
      "trabajoamp_ninos          15773 non-null float64\n",
      "jovenes_nini              15773 non-null float64\n",
      "indice_envegecimiento     15773 non-null float64\n",
      "jefe_mujer                15773 non-null float64\n",
      "adultos_mayores_pobres    15773 non-null float64\n",
      "indice_inseguridad        15773 non-null float64\n",
      "areas_verdes_perc         15773 non-null float64\n",
      "pob_density               15773 non-null float64\n",
      "Precio m2                 15773 non-null float64\n",
      "location                  15773 non-null object\n",
      "rent                      15773 non-null object\n",
      "Furnished                 15773 non-null object\n",
      "UPZRecat                  15773 non-null int64\n",
      "dtypes: float64(13), int64(3), object(3)\n",
      "memory usage: 2.4+ MB\n"
     ]
    }
   ],
   "source": [
    "df.info()"
   ]
  },
  {
   "cell_type": "code",
   "execution_count": 6,
   "metadata": {},
   "outputs": [],
   "source": [
    "df_y = df['Precio m2']#.to_numpy()\n",
    "df_X = df.drop('Precio m2',axis=1)#.to_numpy()\n",
    "\n",
    "#num_cols = df_X.select_dtypes(include=['int64', 'float64']).columns\n",
    "#cat_cols = df_X.select_dtypes(include=['object']).columns\n",
    "float_cols = ['pob_density']\n",
    "percentage_cols = ['n_rooms','n_bath','metrocuadrado_index','Garajes','trabajo_ninos','trabajoamp_ninos',\n",
    "                   'jovenes_nini','indice_envegecimiento','jefe_mujer','adultos_mayores_pobres','indice_inseguridad',\n",
    "                   'areas_verdes_perc']\n",
    "num_cols = float_cols + percentage_cols\n",
    "cat_cols = ['Furnished','location','rent','tipo de producto','UPZRecat']"
   ]
  },
  {
   "cell_type": "code",
   "execution_count": 8,
   "metadata": {},
   "outputs": [],
   "source": [
    "from sklearn.preprocessing import StandardScaler, MinMaxScaler, OneHotEncoder, PolynomialFeatures, FunctionTransformer\n",
    "from sklearn.compose import ColumnTransformer\n",
    "from sklearn.pipeline import Pipeline\n",
    "\n",
    "#cat pipe\n",
    "cat_pipe = Pipeline(steps=[('ordinal', OneHotEncoder(handle_unknown='ignore'))])\n",
    "\n",
    "#num pipe\n",
    "float_pipe = Pipeline(steps=[('scaler',StandardScaler())     ])#,('poly',PolynomialFeatures(degree=3))])\n",
    "percentage_pipe = Pipeline(steps=[('scaler',MinMaxScaler())    ])#,('poly',PolynomialFeatures(degree=3))])\n",
    "\n",
    "num_trans = ColumnTransformer(transformers=[('flt',float_pipe,float_cols),('perc',percentage_pipe,percentage_cols)])\n",
    "num_pipe = Pipeline(steps=[('trans',num_trans),('poly',PolynomialFeatures(degree=3))])\n",
    "\n",
    "#Se diferencian columnas numéricas y categóricas\n",
    "#prep = ColumnTransformer(transformers=[('flt',float_pipe,float_cols),('perc',percentage_pipe,percentage_cols),('cat',cat_pipe,cat_cols)])\n",
    "prep = ColumnTransformer(transformers=[('num',num_pipe,num_cols),('cat',cat_pipe,cat_cols)])"
   ]
  },
  {
   "cell_type": "markdown",
   "metadata": {},
   "source": [
    "### Parte 3"
   ]
  },
  {
   "cell_type": "code",
   "execution_count": 9,
   "metadata": {},
   "outputs": [],
   "source": [
    "random_state = 7\n",
    "def run(df_X,df_y,mode='all'):\n",
    "    from sklearn.model_selection import train_test_split\n",
    "    import numpy as np\n",
    "    import pickle\n",
    "    \n",
    "    alpha_grid = np.linspace(1e-10,1e-5,3,endpoint=True)\n",
    "    beta_grid = np.linspace(1e-10,1e-5,3,endpoint=True)\n",
    "    \n",
    "    actual_R2 = 0\n",
    "    actual_RMSE = 0\n",
    "    \n",
    "    X_train, X_test, y_train, y_test = train_test_split(df_X, df_y, test_size=0.2, random_state=random_state)\n",
    "    def run_single(pipeline):\n",
    "        pipeline.fit(X_train,y_train)\n",
    "        print('Fit terminado', '\\n')\n",
    "        y_pred = pipeline.predict(X_test) \n",
    "\n",
    "        R_2 = pipeline.score(X_test, y_test)\n",
    "        RMSE = np.sqrt(np.mean((y_pred-y_test)**2))\n",
    "        return R_2, RMSE\n",
    "    \n",
    "    best_alpha = alpha_grid[0]\n",
    "    best_beta = beta_grid[0]\n",
    "    for alpha in alpha_grid:\n",
    "        for beta in beta_grid:\n",
    "            Tubo = Pipeline(steps=[('prep',prep),('clf', RegresionBayesianaEmpirica(alpha,beta))])\n",
    "            print(\"Empezando fit: alpha y beta iniciales\",[alpha,beta])\n",
    "            R_2, RMSE = run_single(Tubo)\n",
    "            if R_2 > actual_R2:\n",
    "                actual_R2 = R_2\n",
    "                actual_RMSE = RMSE\n",
    "                best_alpha = alpha\n",
    "                best_beta = beta\n",
    "    \n",
    "    best_fit = Pipeline(steps=[('prep',prep),('clf', RegresionBayesianaEmpirica(best_alpha,best_beta))])\n",
    "    print(\"Reentrenando el mejor modelo encontrado\")\n",
    "    best_fit.fit(X_train,y_train)\n",
    "    if mode=='all':\n",
    "        filename = 'modelo.pkl'\n",
    "        pickle.dump(best_fit,open(filename,'wb'))\n",
    "    elif mode=='EDA':\n",
    "        filename = 'modelo_EDA.pkl'\n",
    "        pickle.dump(best_fit,open(filename,'wb'))\n",
    "    else:\n",
    "        raise InvalidMode('Modo de ejecución no válido')\n",
    "    \n",
    "    print('RMSE:',actual_RMSE,' R_2:',actual_R2)"
   ]
  },
  {
   "cell_type": "code",
   "execution_count": 10,
   "metadata": {
    "scrolled": true
   },
   "outputs": [
    {
     "name": "stdout",
     "output_type": "stream",
     "text": [
      "Empezando fit: alpha y beta iniciales [1e-10, 1e-10]\n",
      "Iteracion 1\n",
      "Valores actuales: alpha= 1e-10  beta= 1e-10\n",
      "Iteracion 2\n",
      "Valores actuales: alpha= 3.978539862578262e-08  beta= 1.9773342167209437e-08\n",
      "Iteracion 3\n",
      "Valores actuales: alpha= 5.667706371939517e-08  beta= 1.9675809447163005e-08\n",
      "Iteracion 4\n",
      "Valores actuales: alpha= 6.644933258497099e-08  beta= 1.9616018571349217e-08\n",
      "Iteracion 5\n",
      "Valores actuales: alpha= 7.098469894332905e-08  beta= 1.958637885203841e-08\n",
      "Iteracion 6\n",
      "Valores actuales: alpha= 7.288199824268012e-08  beta= 1.9573502590974547e-08\n",
      "Iteracion 7\n",
      "Valores actuales: alpha= 7.36417026243422e-08  beta= 1.956825752371224e-08\n",
      "Iteracion 8\n",
      "Valores actuales: alpha= 7.394059770426668e-08  beta= 1.9566179215545826e-08\n",
      "Iteracion 9\n",
      "Valores actuales: alpha= 7.40573825357311e-08  beta= 1.956536487280285e-08\n",
      "Iteracion 10\n",
      "Valores actuales: alpha= 7.410288962387289e-08  beta= 1.9565047198022736e-08\n",
      "Iteracion 11\n",
      "Valores actuales: alpha= 7.412060350473668e-08  beta= 1.9564923487695795e-08\n",
      "Iteracion 12\n",
      "Valores actuales: alpha= 7.412749589946402e-08  beta= 1.956487534439915e-08\n",
      "Iteracion 13\n",
      "Valores actuales: alpha= 7.413017727209709e-08  beta= 1.9564856613809738e-08\n",
      "Iteracion 14\n",
      "Valores actuales: alpha= 7.413122035121003e-08  beta= 1.9564849327248104e-08\n",
      "Iteracion 15\n",
      "Valores actuales: alpha= 7.413162610902496e-08  beta= 1.9564846492747104e-08\n",
      "Iteracion 16\n",
      "Valores actuales: alpha= 7.413178394738786e-08  beta= 1.956484539013191e-08\n",
      "Iteracion 17\n",
      "Valores actuales: alpha= 7.413184534560424e-08  beta= 1.956484496122029e-08\n",
      "Iteracion 18\n",
      "Valores actuales: alpha= 7.4131869229167e-08  beta= 1.956484479437597e-08\n",
      "Iteracion 19\n",
      "Valores actuales: alpha= 7.413187851988843e-08  beta= 1.9564844729473407e-08\n",
      "Iteracion 20\n",
      "Valores actuales: alpha= 7.413188213374908e-08  beta= 1.9564844704227917e-08\n",
      "Iteracion 21\n",
      "Valores actuales: alpha= 7.413188353967903e-08  beta= 1.956484469440645e-08\n",
      "Valores finales: alpha= 7.413188408661189e-08  beta= 1.956484469058572e-08\n",
      "Fit terminado \n",
      "\n",
      "Empezando fit: alpha y beta iniciales [1e-10, 5.0000500000000005e-06]\n",
      "Iteracion 1\n",
      "Valores actuales: alpha= 1e-10  beta= 5.0000500000000005e-06\n",
      "Iteracion 2\n",
      "Valores actuales: alpha= 1.0969335351411948e-10  beta= 1.9998985920547537e-08\n",
      "Iteracion 3\n",
      "Valores actuales: alpha= 1.8991198703527764e-09  beta= 2.0030216162075537e-08\n",
      "Iteracion 4\n",
      "Valores actuales: alpha= 9.997584624292795e-09  beta= 1.997652610259875e-08\n",
      "Iteracion 5\n",
      "Valores actuales: alpha= 2.6889087720724428e-08  beta= 1.9851319584346496e-08\n",
      "Iteracion 6\n",
      "Valores actuales: alpha= 4.668411567861851e-08  beta= 1.9733715849670646e-08\n",
      "Iteracion 7\n",
      "Valores actuales: alpha= 6.102442369288144e-08  beta= 1.9649766174698433e-08\n",
      "Iteracion 8\n",
      "Valores actuales: alpha= 6.854901884207098e-08  beta= 1.9602481467531452e-08\n",
      "Iteracion 9\n",
      "Valores actuales: alpha= 7.187782872128466e-08  beta= 1.9580355970400164e-08\n",
      "Iteracion 10\n",
      "Valores actuales: alpha= 7.324200848575128e-08  beta= 1.9571023657961404e-08\n",
      "Iteracion 11\n",
      "Valores actuales: alpha= 7.378371464480222e-08  beta= 1.956727112278829e-08\n",
      "Iteracion 12\n",
      "Valores actuales: alpha= 7.399614160925715e-08  beta= 1.956579206919412e-08\n",
      "Iteracion 13\n",
      "Valores actuales: alpha= 7.407903472653136e-08  beta= 1.9565213748460976e-08\n",
      "Iteracion 14\n",
      "Valores actuales: alpha= 7.411131916219488e-08  beta= 1.9564988331509104e-08\n",
      "Iteracion 15\n",
      "Valores actuales: alpha= 7.412388359957446e-08  beta= 1.9564900576840675e-08\n",
      "Iteracion 16\n",
      "Valores actuales: alpha= 7.412877199625798e-08  beta= 1.9564866430377342e-08\n",
      "Iteracion 17\n",
      "Valores actuales: alpha= 7.413067369035514e-08  beta= 1.9564853146029982e-08\n",
      "Iteracion 18\n",
      "Valores actuales: alpha= 7.41314134586203e-08  beta= 1.956484797826029e-08\n",
      "Iteracion 19\n",
      "Valores actuales: alpha= 7.413170122723773e-08  beta= 1.9564845967992323e-08\n",
      "Iteracion 20\n",
      "Valores actuales: alpha= 7.413181316794038e-08  beta= 1.956484518600494e-08\n",
      "Iteracion 21\n",
      "Valores actuales: alpha= 7.41318567123341e-08  beta= 1.9564844881815297e-08\n",
      "Iteracion 22\n",
      "Valores actuales: alpha= 7.413187365093597e-08  beta= 1.9564844763486643e-08\n",
      "Iteracion 23\n",
      "Valores actuales: alpha= 7.413188023989557e-08  beta= 1.956484471745788e-08\n",
      "Iteracion 24\n",
      "Valores actuales: alpha= 7.413188280290724e-08  beta= 1.9564844699553348e-08\n",
      "Valores finales: alpha= 7.413188379987628e-08  beta= 1.9564844692588785e-08\n",
      "Fit terminado \n",
      "\n",
      "Empezando fit: alpha y beta iniciales [1e-10, 1e-05]\n",
      "Iteracion 1\n",
      "Valores actuales: alpha= 1e-10  beta= 1e-05\n",
      "Iteracion 2\n",
      "Valores actuales: alpha= 9.312809608666841e-11  beta= 1.9995561553355747e-08\n",
      "Iteracion 3\n",
      "Valores actuales: alpha= 1.721612894400159e-09  beta= 2.0030526910147023e-08\n",
      "Iteracion 4\n",
      "Valores actuales: alpha= 9.444639148502229e-09  beta= 1.998103659392833e-08\n",
      "Iteracion 5\n",
      "Valores actuales: alpha= 2.6001808353307403e-08  beta= 1.985707675693152e-08\n",
      "Iteracion 6\n",
      "Valores actuales: alpha= 4.587924698958057e-08  beta= 1.973832588379384e-08\n",
      "Iteracion 7\n",
      "Valores actuales: alpha= 6.054547598078756e-08  beta= 1.9652673295995335e-08\n",
      "Iteracion 8\n",
      "Valores actuales: alpha= 6.832447896287709e-08  beta= 1.9603943615587418e-08\n",
      "Iteracion 9\n",
      "Valores actuales: alpha= 7.178355952925332e-08  beta= 1.9580994849153703e-08\n",
      "Iteracion 10\n",
      "Valores actuales: alpha= 7.320421205621732e-08  beta= 1.957128446920054e-08\n",
      "Iteracion 11\n",
      "Valores actuales: alpha= 7.376883672760316e-08  beta= 1.9567374552305007e-08\n",
      "Iteracion 12\n",
      "Valores actuales: alpha= 7.399032736261361e-08  beta= 1.9565832608831947e-08\n",
      "Iteracion 13\n",
      "Valores actuales: alpha= 7.407676894257365e-08  beta= 1.9565229564904775e-08\n",
      "Iteracion 14\n",
      "Valores actuales: alpha= 7.411043716785794e-08  beta= 1.9564994491113847e-08\n",
      "Iteracion 15\n",
      "Valores actuales: alpha= 7.412354041545237e-08  beta= 1.9564902973966623e-08\n",
      "Iteracion 16\n",
      "Valores actuales: alpha= 7.412863848568779e-08  beta= 1.9564867363006816e-08\n",
      "Iteracion 17\n",
      "Valores actuales: alpha= 7.413062175348855e-08  beta= 1.95648535088413e-08\n",
      "Iteracion 18\n",
      "Valores actuales: alpha= 7.413139325497235e-08  beta= 1.956484811939681e-08\n",
      "Iteracion 19\n",
      "Valores actuales: alpha= 7.413169336801929e-08  beta= 1.9564846022894646e-08\n",
      "Iteracion 20\n",
      "Valores actuales: alpha= 7.413181011077201e-08  beta= 1.9564845207361508e-08\n",
      "Iteracion 21\n",
      "Valores actuales: alpha= 7.413185552310286e-08  beta= 1.9564844890122956e-08\n",
      "Iteracion 22\n",
      "Valores actuales: alpha= 7.413187318816234e-08  beta= 1.9564844766719464e-08\n",
      "Iteracion 23\n",
      "Valores actuales: alpha= 7.413188005982357e-08  beta= 1.9564844718715817e-08\n",
      "Iteracion 24\n",
      "Valores actuales: alpha= 7.413188273294871e-08  beta= 1.9564844700042062e-08\n",
      "Iteracion 25\n",
      "Valores actuales: alpha= 7.413188377270881e-08  beta= 1.956484469277857e-08\n",
      "Valores finales: alpha= 7.41318841771487e-08  beta= 1.9564844689953255e-08\n",
      "Fit terminado \n",
      "\n",
      "Empezando fit: alpha y beta iniciales [5.0000500000000005e-06, 1e-10]\n",
      "Iteracion 1\n",
      "Valores actuales: alpha= 5.0000500000000005e-06  beta= 1e-10\n",
      "Iteracion 2\n",
      "Valores actuales: alpha= 7.400176277153302e-08  beta= 4.075340697102142e-09\n",
      "Iteracion 3\n",
      "Valores actuales: alpha= 1.1271063524542534e-07  beta= 1.913375543064671e-08\n",
      "Iteracion 4\n",
      "Valores actuales: alpha= 8.634969616523296e-08  beta= 1.947057578100391e-08\n",
      "Iteracion 5\n",
      "Valores actuales: alpha= 7.85419693714607e-08  beta= 1.9533028724556912e-08\n",
      "Iteracion 6\n",
      "Valores actuales: alpha= 7.579997340874361e-08  beta= 1.9553054308197997e-08\n",
      "Iteracion 7\n",
      "Valores actuales: alpha= 7.477382989002215e-08  beta= 1.9560340208293158e-08\n",
      "Iteracion 8\n",
      "Valores actuales: alpha= 7.438056240737548e-08  beta= 1.9563104504758598e-08\n",
      "Iteracion 9\n",
      "Valores actuales: alpha= 7.422846287087852e-08  beta= 1.9564169567382968e-08\n",
      "Iteracion 10\n",
      "Valores actuales: alpha= 7.416942933762816e-08  beta= 1.9564582341425646e-08\n",
      "Iteracion 11\n",
      "Valores actuales: alpha= 7.414648561865357e-08  beta= 1.956474267782093e-08\n",
      "Iteracion 12\n",
      "Valores actuales: alpha= 7.41375636692864e-08  beta= 1.9564805012942873e-08\n",
      "Iteracion 13\n",
      "Valores actuales: alpha= 7.413409354138812e-08  beta= 1.9564829255672582e-08\n",
      "Iteracion 14\n",
      "Valores actuales: alpha= 7.41327437515675e-08  beta= 1.9564838685153574e-08\n",
      "Iteracion 15\n",
      "Valores actuales: alpha= 7.413221870187931e-08  beta= 1.9564842353044784e-08\n",
      "Iteracion 16\n",
      "Valores actuales: alpha= 7.413201446233977e-08  beta= 1.9564843779813848e-08\n",
      "Iteracion 17\n",
      "Valores actuales: alpha= 7.413193501461446e-08  beta= 1.9564844334815766e-08\n",
      "Iteracion 18\n",
      "Valores actuales: alpha= 7.413190410991801e-08  beta= 1.9564844550708066e-08\n"
     ]
    },
    {
     "name": "stdout",
     "output_type": "stream",
     "text": [
      "Iteracion 19\n",
      "Valores actuales: alpha= 7.413189208811028e-08  beta= 1.9564844634689325e-08\n",
      "Iteracion 20\n",
      "Valores actuales: alpha= 7.413188741177078e-08  beta= 1.956484466735702e-08\n",
      "Iteracion 21\n",
      "Valores actuales: alpha= 7.4131885592846e-08  beta= 1.956484468006356e-08\n",
      "Valores finales: alpha= 7.41318848849799e-08  beta= 1.9564844685008528e-08\n",
      "Fit terminado \n",
      "\n",
      "Empezando fit: alpha y beta iniciales [5.0000500000000005e-06, 5.0000500000000005e-06]\n",
      "Iteracion 1\n",
      "Valores actuales: alpha= 5.0000500000000005e-06  beta= 5.0000500000000005e-06\n",
      "Iteracion 2\n",
      "Valores actuales: alpha= 3.9785398625760786e-08  beta= 1.9773342167209625e-08\n",
      "Iteracion 3\n",
      "Valores actuales: alpha= 5.667706371938881e-08  beta= 1.9675809447163032e-08\n",
      "Iteracion 4\n",
      "Valores actuales: alpha= 6.644933258502111e-08  beta= 1.9616018571348854e-08\n",
      "Iteracion 5\n",
      "Valores actuales: alpha= 7.098469894340808e-08  beta= 1.9586378852037862e-08\n",
      "Iteracion 6\n",
      "Valores actuales: alpha= 7.288199824256862e-08  beta= 1.9573502590975334e-08\n",
      "Iteracion 7\n",
      "Valores actuales: alpha= 7.364170262441855e-08  beta= 1.9568257523711703e-08\n",
      "Iteracion 8\n",
      "Valores actuales: alpha= 7.394059770408418e-08  beta= 1.95661792155471e-08\n",
      "Iteracion 9\n",
      "Valores actuales: alpha= 7.405738253564661e-08  beta= 1.9565364872803442e-08\n",
      "Iteracion 10\n",
      "Valores actuales: alpha= 7.410288962387728e-08  beta= 1.9565047198022706e-08\n",
      "Iteracion 11\n",
      "Valores actuales: alpha= 7.412060350498632e-08  beta= 1.9564923487694054e-08\n",
      "Iteracion 12\n",
      "Valores actuales: alpha= 7.412749589948292e-08  beta= 1.9564875344399017e-08\n",
      "Iteracion 13\n",
      "Valores actuales: alpha= 7.413017727234021e-08  beta= 1.9564856613808044e-08\n",
      "Iteracion 14\n",
      "Valores actuales: alpha= 7.413122035139471e-08  beta= 1.956484932724681e-08\n",
      "Iteracion 15\n",
      "Valores actuales: alpha= 7.413162610916103e-08  beta= 1.9564846492746155e-08\n",
      "Iteracion 16\n",
      "Valores actuales: alpha= 7.413178394731216e-08  beta= 1.9564845390132444e-08\n",
      "Iteracion 17\n",
      "Valores actuales: alpha= 7.413184534540774e-08  beta= 1.956484496122166e-08\n",
      "Iteracion 18\n",
      "Valores actuales: alpha= 7.413186922897179e-08  beta= 1.9564844794377333e-08\n",
      "Iteracion 19\n",
      "Valores actuales: alpha= 7.413187851976011e-08  beta= 1.9564844729474307e-08\n",
      "Iteracion 20\n",
      "Valores actuales: alpha= 7.413188213389742e-08  beta= 1.9564844704226878e-08\n",
      "Iteracion 21\n",
      "Valores actuales: alpha= 7.41318835395653e-08  beta= 1.9564844694407245e-08\n",
      "Valores finales: alpha= 7.413188408632282e-08  beta= 1.9564844690587742e-08\n",
      "Fit terminado \n",
      "\n",
      "Empezando fit: alpha y beta iniciales [5.0000500000000005e-06, 1e-05]\n",
      "Iteracion 1\n",
      "Valores actuales: alpha= 5.0000500000000005e-06  beta= 1e-05\n",
      "Iteracion 2\n",
      "Valores actuales: alpha= 2.6874545479807297e-08  beta= 1.9851413374191323e-08\n",
      "Iteracion 3\n",
      "Valores actuales: alpha= 4.667107060930157e-08  beta= 1.97337905794415e-08\n",
      "Iteracion 4\n",
      "Valores actuales: alpha= 6.101671619234826e-08  beta= 1.9649813040143453e-08\n",
      "Iteracion 5\n",
      "Valores actuales: alpha= 6.85454182050001e-08  beta= 1.9602504942427645e-08\n",
      "Iteracion 6\n",
      "Valores actuales: alpha= 7.187631936162955e-08  beta= 1.9580366205574812e-08\n",
      "Iteracion 7\n",
      "Valores actuales: alpha= 7.324140369442148e-08  beta= 1.9571027832307457e-08\n",
      "Iteracion 8\n",
      "Valores actuales: alpha= 7.378347663718926e-08  beta= 1.9567272777553405e-08\n",
      "Iteracion 9\n",
      "Valores actuales: alpha= 7.39960486056416e-08  beta= 1.9565792717684056e-08\n",
      "Iteracion 10\n",
      "Valores actuales: alpha= 7.407899848471718e-08  beta= 1.9565214001453048e-08\n",
      "Iteracion 11\n",
      "Valores actuales: alpha= 7.411130505464402e-08  beta= 1.9564988430032926e-08\n",
      "Iteracion 12\n",
      "Valores actuales: alpha= 7.412387811017801e-08  beta= 1.9564900615183954e-08\n",
      "Iteracion 13\n",
      "Valores actuales: alpha= 7.412876986073552e-08  beta= 1.956486644529491e-08\n",
      "Iteracion 14\n",
      "Valores actuales: alpha= 7.413067285973798e-08  beta= 1.9564853151832363e-08\n",
      "Iteracion 15\n",
      "Valores actuales: alpha= 7.413141313548444e-08  beta= 1.956484798051762e-08\n",
      "Iteracion 16\n",
      "Valores actuales: alpha= 7.413170110161634e-08  beta= 1.956484596886988e-08\n",
      "Iteracion 17\n",
      "Valores actuales: alpha= 7.413181311910821e-08  beta= 1.956484518634607e-08\n",
      "Iteracion 18\n",
      "Valores actuales: alpha= 7.413185669329939e-08  beta= 1.9564844881948267e-08\n",
      "Iteracion 19\n",
      "Valores actuales: alpha= 7.413187364338248e-08  beta= 1.9564844763539414e-08\n",
      "Iteracion 20\n",
      "Valores actuales: alpha= 7.413188023689739e-08  beta= 1.9564844717478828e-08\n",
      "Iteracion 21\n",
      "Valores actuales: alpha= 7.413188280166188e-08  beta= 1.9564844699562046e-08\n",
      "Valores finales: alpha= 7.413188379955595e-08  beta= 1.956484469259102e-08\n",
      "Fit terminado \n",
      "\n",
      "Empezando fit: alpha y beta iniciales [1e-05, 1e-10]\n",
      "Iteracion 1\n",
      "Valores actuales: alpha= 1e-05  beta= 1e-10\n",
      "Iteracion 2\n",
      "Valores actuales: alpha= 8.560904849155795e-08  beta= 2.626091032378725e-09\n",
      "Iteracion 3\n",
      "Valores actuales: alpha= 1.227630838971044e-07  beta= 1.8873512347798485e-08\n",
      "Iteracion 4\n",
      "Valores actuales: alpha= 8.900143111412236e-08  beta= 1.9447071425525184e-08\n",
      "Iteracion 5\n",
      "Valores actuales: alpha= 7.941875511120908e-08  beta= 1.952644041966483e-08\n",
      "Iteracion 6\n",
      "Valores actuales: alpha= 7.612077970870485e-08  beta= 1.9550754164423665e-08\n",
      "Iteracion 7\n",
      "Valores actuales: alpha= 7.489572437578715e-08  beta= 1.9559480303179453e-08\n",
      "Iteracion 8\n",
      "Valores actuales: alpha= 7.442754970404001e-08  beta= 1.9562775026329062e-08\n",
      "Iteracion 9\n",
      "Valores actuales: alpha= 7.424667629130139e-08  beta= 1.956404214769788e-08\n",
      "Iteracion 10\n",
      "Valores actuales: alpha= 7.417650454246905e-08  beta= 1.9564532887920204e-08\n",
      "Iteracion 11\n",
      "Valores actuales: alpha= 7.414923636406084e-08  beta= 1.9564723457601832e-08\n",
      "Iteracion 12\n",
      "Valores actuales: alpha= 7.413863347092305e-08  beta= 1.9564797538946936e-08\n",
      "Iteracion 13\n",
      "Valores actuales: alpha= 7.41345096542011e-08  beta= 1.9564826348719624e-08\n",
      "Iteracion 14\n",
      "Valores actuales: alpha= 7.413290561175362e-08  beta= 1.9564837554425622e-08\n",
      "Iteracion 15\n",
      "Valores actuales: alpha= 7.413228166371108e-08  beta= 1.9564841913207524e-08\n",
      "Iteracion 16\n",
      "Valores actuales: alpha= 7.413203895399371e-08  beta= 1.9564843608721164e-08\n",
      "Iteracion 17\n",
      "Valores actuales: alpha= 7.413194454162885e-08  beta= 1.9564844268262458e-08\n",
      "Iteracion 18\n",
      "Valores actuales: alpha= 7.413190781573424e-08  beta= 1.956484452482019e-08\n",
      "Iteracion 19\n",
      "Valores actuales: alpha= 7.413189352987336e-08  beta= 1.9564844624617537e-08\n",
      "Iteracion 20\n",
      "Valores actuales: alpha= 7.413188797272612e-08  beta= 1.956484466343833e-08\n",
      "Iteracion 21\n",
      "Valores actuales: alpha= 7.413188581091791e-08  beta= 1.9564844678540164e-08\n",
      "Valores finales: alpha= 7.413188496995917e-08  beta= 1.9564844684414884e-08\n",
      "Fit terminado \n",
      "\n",
      "Empezando fit: alpha y beta iniciales [1e-05, 5.0000500000000005e-06]\n",
      "Iteracion 1\n",
      "Valores actuales: alpha= 1e-05  beta= 5.0000500000000005e-06\n",
      "Iteracion 2\n",
      "Valores actuales: alpha= 5.651767521958292e-08  beta= 1.967675101587667e-08\n",
      "Iteracion 3\n",
      "Valores actuales: alpha= 6.636962444710959e-08  beta= 1.9616526696786955e-08\n",
      "Iteracion 4\n",
      "Valores actuales: alpha= 7.09502732292375e-08  beta= 1.9586609680157808e-08\n",
      "Iteracion 5\n",
      "Valores actuales: alpha= 7.286803523822874e-08  beta= 1.957359849972531e-08\n",
      "Iteracion 6\n",
      "Valores actuales: alpha= 7.363618113720015e-08  beta= 1.9568295837139505e-08\n",
      "Iteracion 7\n",
      "Valores actuales: alpha= 7.393843605517409e-08  beta= 1.956619427650779e-08\n",
      "Iteracion 8\n",
      "Valores actuales: alpha= 7.405653956274118e-08  beta= 1.956537075553695e-08\n",
      "Iteracion 9\n",
      "Valores actuales: alpha= 7.410256139332602e-08  beta= 1.9565049490037398e-08\n",
      "Iteracion 10\n",
      "Valores actuales: alpha= 7.41204757767409e-08  beta= 1.95649243798313e-08\n",
      "Iteracion 11\n",
      "Valores actuales: alpha= 7.412744620661136e-08  beta= 1.956487569151947e-08\n",
      "Iteracion 12\n",
      "Valores actuales: alpha= 7.413015794074558e-08  beta= 1.956485674885036e-08\n",
      "Iteracion 13\n",
      "Valores actuales: alpha= 7.413121283145281e-08  beta= 1.9564849379778695e-08\n",
      "Iteracion 14\n",
      "Valores actuales: alpha= 7.413162318390525e-08  beta= 1.956484651318116e-08\n",
      "Iteracion 15\n",
      "Valores actuales: alpha= 7.413178280964541e-08  beta= 1.9564845398079873e-08\n",
      "Iteracion 16\n",
      "Valores actuales: alpha= 7.413184490294175e-08  beta= 1.9564844964312613e-08\n",
      "Iteracion 17\n",
      "Valores actuales: alpha= 7.413186905695257e-08  beta= 1.9564844795579014e-08\n",
      "Iteracion 18\n",
      "Valores actuales: alpha= 7.413187845287706e-08  beta= 1.956484472994153e-08\n",
      "Iteracion 19\n",
      "Valores actuales: alpha= 7.413188210768264e-08  beta= 1.956484470441001e-08\n",
      "Iteracion 20\n",
      "Valores actuales: alpha= 7.413188352930091e-08  beta= 1.9564844694478955e-08\n"
     ]
    },
    {
     "name": "stdout",
     "output_type": "stream",
     "text": [
      "Valores finales: alpha= 7.413188408246225e-08  beta= 1.9564844690614705e-08\n",
      "Fit terminado \n",
      "\n",
      "Empezando fit: alpha y beta iniciales [1e-05, 1e-05]\n",
      "Iteracion 1\n",
      "Valores actuales: alpha= 1e-05  beta= 1e-05\n",
      "Iteracion 2\n",
      "Valores actuales: alpha= 3.978539862572367e-08  beta= 1.977334216720995e-08\n",
      "Iteracion 3\n",
      "Valores actuales: alpha= 5.667706371936893e-08  beta= 1.9675809447163144e-08\n",
      "Iteracion 4\n",
      "Valores actuales: alpha= 6.644933258491352e-08  beta= 1.961601857134962e-08\n",
      "Iteracion 5\n",
      "Valores actuales: alpha= 7.098469894332097e-08  beta= 1.9586378852038458e-08\n",
      "Iteracion 6\n",
      "Valores actuales: alpha= 7.288199824264824e-08  beta= 1.9573502590974775e-08\n",
      "Iteracion 7\n",
      "Valores actuales: alpha= 7.364170262427937e-08  beta= 1.9568257523712675e-08\n",
      "Iteracion 8\n",
      "Valores actuales: alpha= 7.394059770400915e-08  beta= 1.9566179215547626e-08\n",
      "Iteracion 9\n",
      "Valores actuales: alpha= 7.405738253549483e-08  beta= 1.95653648728045e-08\n",
      "Iteracion 10\n",
      "Valores actuales: alpha= 7.410288962386444e-08  beta= 1.95650471980228e-08\n",
      "Iteracion 11\n",
      "Valores actuales: alpha= 7.412060350479389e-08  beta= 1.9564923487695398e-08\n",
      "Iteracion 12\n",
      "Valores actuales: alpha= 7.412749589948671e-08  beta= 1.9564875344398994e-08\n",
      "Iteracion 13\n",
      "Valores actuales: alpha= 7.413017727219225e-08  beta= 1.9564856613809076e-08\n",
      "Iteracion 14\n",
      "Valores actuales: alpha= 7.41312203512361e-08  beta= 1.9564849327247915e-08\n",
      "Iteracion 15\n",
      "Valores actuales: alpha= 7.413162610916542e-08  beta= 1.9564846492746125e-08\n",
      "Iteracion 16\n",
      "Valores actuales: alpha= 7.413178394740777e-08  beta= 1.9564845390131772e-08\n",
      "Iteracion 17\n",
      "Valores actuales: alpha= 7.413184534566154e-08  beta= 1.956484496121989e-08\n",
      "Iteracion 18\n",
      "Valores actuales: alpha= 7.413186922917344e-08  beta= 1.9564844794375927e-08\n",
      "Iteracion 19\n",
      "Valores actuales: alpha= 7.41318785198477e-08  beta= 1.9564844729473688e-08\n",
      "Iteracion 20\n",
      "Valores actuales: alpha= 7.413188213394972e-08  beta= 1.956484470422651e-08\n",
      "Iteracion 21\n",
      "Valores actuales: alpha= 7.413188353970415e-08  beta= 1.9564844694406276e-08\n",
      "Valores finales: alpha= 7.413188408659057e-08  beta= 1.956484469058587e-08\n",
      "Fit terminado \n",
      "\n",
      "Reentrenando el mejor modelo encontrado\n",
      "Iteracion 1\n",
      "Valores actuales: alpha= 5.0000500000000005e-06  beta= 1e-05\n",
      "Iteracion 2\n",
      "Valores actuales: alpha= 2.6874545479807297e-08  beta= 1.9851413374191323e-08\n",
      "Iteracion 3\n",
      "Valores actuales: alpha= 4.667107060930157e-08  beta= 1.97337905794415e-08\n",
      "Iteracion 4\n",
      "Valores actuales: alpha= 6.101671619234826e-08  beta= 1.9649813040143453e-08\n",
      "Iteracion 5\n",
      "Valores actuales: alpha= 6.85454182050001e-08  beta= 1.9602504942427645e-08\n",
      "Iteracion 6\n",
      "Valores actuales: alpha= 7.187631936162955e-08  beta= 1.9580366205574812e-08\n",
      "Iteracion 7\n",
      "Valores actuales: alpha= 7.324140369442148e-08  beta= 1.9571027832307457e-08\n",
      "Iteracion 8\n",
      "Valores actuales: alpha= 7.378347663718926e-08  beta= 1.9567272777553405e-08\n",
      "Iteracion 9\n",
      "Valores actuales: alpha= 7.39960486056416e-08  beta= 1.9565792717684056e-08\n",
      "Iteracion 10\n",
      "Valores actuales: alpha= 7.407899848471718e-08  beta= 1.9565214001453048e-08\n",
      "Iteracion 11\n",
      "Valores actuales: alpha= 7.411130505464402e-08  beta= 1.9564988430032926e-08\n",
      "Iteracion 12\n",
      "Valores actuales: alpha= 7.412387811017801e-08  beta= 1.9564900615183954e-08\n",
      "Iteracion 13\n",
      "Valores actuales: alpha= 7.412876986073552e-08  beta= 1.956486644529491e-08\n",
      "Iteracion 14\n",
      "Valores actuales: alpha= 7.413067285973798e-08  beta= 1.9564853151832363e-08\n",
      "Iteracion 15\n",
      "Valores actuales: alpha= 7.413141313548444e-08  beta= 1.956484798051762e-08\n",
      "Iteracion 16\n",
      "Valores actuales: alpha= 7.413170110161634e-08  beta= 1.956484596886988e-08\n",
      "Iteracion 17\n",
      "Valores actuales: alpha= 7.413181311910821e-08  beta= 1.956484518634607e-08\n",
      "Iteracion 18\n",
      "Valores actuales: alpha= 7.413185669329939e-08  beta= 1.9564844881948267e-08\n",
      "Iteracion 19\n",
      "Valores actuales: alpha= 7.413187364338248e-08  beta= 1.9564844763539414e-08\n",
      "Iteracion 20\n",
      "Valores actuales: alpha= 7.413188023689739e-08  beta= 1.9564844717478828e-08\n",
      "Iteracion 21\n",
      "Valores actuales: alpha= 7.413188280166188e-08  beta= 1.9564844699562046e-08\n",
      "Valores finales: alpha= 7.413188379955595e-08  beta= 1.956484469259102e-08\n",
      "RMSE: 7184.74804490344  R_2: 0.6764981683319504\n"
     ]
    }
   ],
   "source": [
    "run(df_X,df_y)"
   ]
  },
  {
   "cell_type": "markdown",
   "metadata": {},
   "source": [
    "### Parte 4"
   ]
  },
  {
   "cell_type": "code",
   "execution_count": 11,
   "metadata": {},
   "outputs": [],
   "source": [
    "#Ahora, seleccionamos solo aquellas columnas que se obtienen del análisis EDA\n",
    "df_y = df['Precio m2']#.to_numpy()\n",
    "df_X = df[['n_rooms','metrocuadrado_index','tipo de producto','indice_envegecimiento','jefe_mujer',\n",
    "                  'Furnished','UPZRecat']]#.to_numpy()\n",
    "\n",
    "#num_cols = df_X.select_dtypes(include=['int64', 'float64']).columns\n",
    "#cat_cols = df_X.select_dtypes(include=['object']).columns\n",
    "float_cols = []\n",
    "percentage_cols = ['n_rooms','metrocuadrado_index','indice_envegecimiento','jefe_mujer']\n",
    "num_cols = float_cols + percentage_cols\n",
    "cat_cols = ['Furnished','tipo de producto','UPZRecat']"
   ]
  },
  {
   "cell_type": "code",
   "execution_count": 12,
   "metadata": {},
   "outputs": [],
   "source": [
    "from sklearn.preprocessing import StandardScaler, MinMaxScaler, OneHotEncoder, PolynomialFeatures, FunctionTransformer\n",
    "from sklearn.compose import ColumnTransformer\n",
    "from sklearn.pipeline import Pipeline\n",
    "\n",
    "#cat pipe\n",
    "cat_pipe = Pipeline(steps=[('ordinal', OneHotEncoder(handle_unknown='ignore'))])\n",
    "\n",
    "#num pipe\n",
    "float_pipe = Pipeline(steps=[('scaler',StandardScaler())     ])#,('poly',PolynomialFeatures(degree=3))])\n",
    "percentage_pipe = Pipeline(steps=[('scaler',MinMaxScaler())    ])#,('poly',PolynomialFeatures(degree=3))])\n",
    "\n",
    "num_trans = ColumnTransformer(transformers=[('flt',float_pipe,float_cols),('perc',percentage_pipe,percentage_cols)])\n",
    "num_pipe = Pipeline(steps=[('trans',num_trans),('poly',PolynomialFeatures(degree=3))])\n",
    "\n",
    "#Se diferencian columnas numéricas y categóricas\n",
    "#prep = ColumnTransformer(transformers=[('flt',float_pipe,float_cols),('perc',percentage_pipe,percentage_cols),('cat',cat_pipe,cat_cols)])\n",
    "prep = ColumnTransformer(transformers=[('num',num_pipe,num_cols),('cat',cat_pipe,cat_cols)])"
   ]
  },
  {
   "cell_type": "code",
   "execution_count": 13,
   "metadata": {},
   "outputs": [
    {
     "name": "stdout",
     "output_type": "stream",
     "text": [
      "Empezando fit: alpha y beta iniciales [1e-10, 1e-10]\n",
      "Iteracion 1\n",
      "Valores actuales: alpha= 1e-10  beta= 1e-10\n",
      "Iteracion 2\n",
      "Valores actuales: alpha= 8.111795241418061e-09  beta= 1.522523912398418e-08\n",
      "Iteracion 3\n",
      "Valores actuales: alpha= 5.058518036005735e-09  beta= 1.5264585137037273e-08\n",
      "Iteracion 4\n",
      "Valores actuales: alpha= 3.5662055039023164e-09  beta= 1.5291348590848967e-08\n",
      "Iteracion 5\n",
      "Valores actuales: alpha= 2.8155825871450023e-09  beta= 1.530796101590647e-08\n",
      "Iteracion 6\n",
      "Valores actuales: alpha= 2.4350804297152657e-09  beta= 1.5317326273691068e-08\n",
      "Iteracion 7\n",
      "Valores actuales: alpha= 2.241464420026334e-09  beta= 1.5322308671756167e-08\n",
      "Iteracion 8\n",
      "Valores actuales: alpha= 2.142689884334832e-09  beta= 1.5324892732171605e-08\n",
      "Iteracion 9\n",
      "Valores actuales: alpha= 2.0922156474346977e-09  beta= 1.532622092082614e-08\n",
      "Iteracion 10\n",
      "Valores actuales: alpha= 2.066397985059938e-09  beta= 1.5326901728496497e-08\n",
      "Iteracion 11\n",
      "Valores actuales: alpha= 2.0531851283735516e-09  beta= 1.5327250435812625e-08\n",
      "Iteracion 12\n",
      "Valores actuales: alpha= 2.0464211802347447e-09  beta= 1.53274290087469e-08\n",
      "Iteracion 13\n",
      "Valores actuales: alpha= 2.042958053025453e-09  beta= 1.532752045218573e-08\n",
      "Iteracion 14\n",
      "Valores actuales: alpha= 2.0411848029987994e-09  beta= 1.5327567278177526e-08\n",
      "Iteracion 15\n",
      "Valores actuales: alpha= 2.0402767967505977e-09  beta= 1.532759125668177e-08\n",
      "Iteracion 16\n",
      "Valores actuales: alpha= 2.0398118355745466e-09  beta= 1.5327603535543254e-08\n",
      "Iteracion 17\n",
      "Valores actuales: alpha= 2.039573742209958e-09  beta= 1.5327609823258074e-08\n",
      "Iteracion 18\n",
      "Valores actuales: alpha= 2.0394518188786713e-09  beta= 1.5327613043099404e-08\n",
      "Iteracion 19\n",
      "Valores actuales: alpha= 2.0393893860858176e-09  beta= 1.5327614691874768e-08\n",
      "Iteracion 20\n",
      "Valores actuales: alpha= 2.039357413520071e-09  beta= 1.5327615536233044e-08\n",
      "Iteracion 21\n",
      "Valores actuales: alpha= 2.0393410431676888e-09  beta= 1.532761596855529e-08\n",
      "Iteracion 22\n",
      "Valores actuales: alpha= 2.0393326595348913e-09  beta= 1.53276161899575e-08\n",
      "Iteracion 23\n",
      "Valores actuales: alpha= 2.0393283671992113e-09  beta= 1.5327616303313227e-08\n",
      "Iteracion 24\n",
      "Valores actuales: alpha= 2.0393261687182195e-09  beta= 1.5327616361372624e-08\n",
      "Iteracion 25\n",
      "Valores actuales: alpha= 2.0393250435663016e-09  beta= 1.5327616391086613e-08\n",
      "Valores finales: alpha= 2.0393244658162758e-09  beta= 1.532761640634434e-08\n",
      "Fit terminado \n",
      "\n",
      "Empezando fit: alpha y beta iniciales [1e-10, 5.0000500000000005e-06]\n",
      "Iteracion 1\n",
      "Valores actuales: alpha= 1e-10  beta= 5.0000500000000005e-06\n",
      "Iteracion 2\n",
      "Valores actuales: alpha= 9.24866159306068e-10  beta= 1.5348209920565863e-08\n",
      "Iteracion 3\n",
      "Valores actuales: alpha= 1.4595220124608975e-09  beta= 1.5342326780081134e-08\n",
      "Iteracion 4\n",
      "Valores actuales: alpha= 1.7406597751246969e-09  beta= 1.5335458988946437e-08\n",
      "Iteracion 5\n",
      "Valores actuales: alpha= 1.8859830092601938e-09  beta= 1.533166513173719e-08\n",
      "Iteracion 6\n",
      "Valores actuales: alpha= 1.96070281746739e-09  beta= 1.532969373739405e-08\n",
      "Iteracion 7\n",
      "Valores actuales: alpha= 1.999038706212564e-09  beta= 1.5328680729872834e-08\n",
      "Iteracion 8\n",
      "Valores actuales: alpha= 2.0186882392964087e-09  beta= 1.5328161516333985e-08\n",
      "Iteracion 9\n",
      "Valores actuales: alpha= 2.0287551185231225e-09  beta= 1.5327895567721235e-08\n",
      "Iteracion 10\n",
      "Valores actuales: alpha= 2.033911391758799e-09  beta= 1.5327759369530798e-08\n",
      "Iteracion 11\n",
      "Valores actuales: alpha= 2.0365521363151014e-09  beta= 1.5327689623109653e-08\n",
      "Iteracion 12\n",
      "Valores actuales: alpha= 2.0379044901492723e-09  beta= 1.5327653907006475e-08\n",
      "Iteracion 13\n",
      "Valores actuales: alpha= 2.038597023707021e-09  beta= 1.5327635617456015e-08\n",
      "Iteracion 14\n",
      "Valores actuales: alpha= 2.0389516606727628e-09  beta= 1.532762625175659e-08\n",
      "Iteracion 15\n",
      "Valores actuales: alpha= 2.039133263419122e-09  beta= 1.5327621455796828e-08\n",
      "Iteracion 16\n",
      "Valores actuales: alpha= 2.03922625946223e-09  beta= 1.5327618999866755e-08\n",
      "Iteracion 17\n",
      "Valores actuales: alpha= 2.039273880557225e-09  beta= 1.532761774224486e-08\n",
      "Iteracion 18\n",
      "Valores actuales: alpha= 2.0392982671444697e-09  beta= 1.5327617098221944e-08\n",
      "Iteracion 19\n",
      "Valores actuales: alpha= 2.0393107549907875e-09  beta= 1.5327616768431837e-08\n",
      "Iteracion 20\n",
      "Valores actuales: alpha= 2.0393171496924177e-09  beta= 1.5327616599554937e-08\n",
      "Iteracion 21\n",
      "Valores actuales: alpha= 2.0393204234087556e-09  beta= 1.532761651309977e-08\n",
      "Iteracion 22\n",
      "Valores actuales: alpha= 2.0393221018901956e-09  beta= 1.5327616468772964e-08\n",
      "Valores finales: alpha= 2.0393229590218568e-09  beta= 1.532761644613708e-08\n",
      "Fit terminado \n",
      "\n",
      "Empezando fit: alpha y beta iniciales [1e-10, 1e-05]\n",
      "Iteracion 1\n",
      "Valores actuales: alpha= 1e-10  beta= 1e-05\n",
      "Iteracion 2\n",
      "Valores actuales: alpha= 9.247578482616255e-10  beta= 1.534820892094038e-08\n",
      "Iteracion 3\n",
      "Valores actuales: alpha= 1.4594640840823857e-09  beta= 1.534232807748722e-08\n",
      "Iteracion 4\n",
      "Valores actuales: alpha= 1.7406297017488994e-09  beta= 1.5335459764480225e-08\n",
      "Iteracion 5\n",
      "Valores actuales: alpha= 1.8859675237813697e-09  beta= 1.5331665539479235e-08\n",
      "Iteracion 6\n",
      "Valores actuales: alpha= 1.9606948675466855e-09  beta= 1.5329693947424054e-08\n",
      "Iteracion 7\n",
      "Valores actuales: alpha= 1.999034631050867e-09  beta= 1.53286808375627e-08\n",
      "Iteracion 8\n",
      "Valores actuales: alpha= 2.0186861530573772e-09  beta= 1.532816157145345e-08\n",
      "Iteracion 9\n",
      "Valores actuales: alpha= 2.028754049037684e-09  beta= 1.532789559597234e-08\n",
      "Iteracion 10\n",
      "Valores actuales: alpha= 2.033910845203426e-09  beta= 1.5327759383966685e-08\n",
      "Iteracion 11\n",
      "Valores actuales: alpha= 2.03655185354938e-09  beta= 1.532768963057773e-08\n",
      "Iteracion 12\n",
      "Valores actuales: alpha= 2.037904344395625e-09  beta= 1.5327653910855813e-08\n",
      "Iteracion 13\n",
      "Valores actuales: alpha= 2.038596949216375e-09  beta= 1.5327635619423266e-08\n",
      "Iteracion 14\n",
      "Valores actuales: alpha= 2.0389516221835505e-09  beta= 1.532762625277306e-08\n",
      "Iteracion 15\n",
      "Valores actuales: alpha= 2.039133245161873e-09  beta= 1.5327621456278985e-08\n",
      "Iteracion 16\n",
      "Valores actuales: alpha= 2.039226251438072e-09  beta= 1.5327619000078663e-08\n",
      "Iteracion 17\n",
      "Valores actuales: alpha= 2.0392738797829015e-09  beta= 1.5327617742265312e-08\n",
      "Iteracion 18\n",
      "Valores actuales: alpha= 2.0392982669660683e-09  beta= 1.532761709822666e-08\n",
      "Iteracion 19\n",
      "Valores actuales: alpha= 2.0393107558603595e-09  beta= 1.5327616768408874e-08\n",
      "Iteracion 20\n",
      "Valores actuales: alpha= 2.039317149635032e-09  beta= 1.5327616599556453e-08\n",
      "Iteracion 21\n",
      "Valores actuales: alpha= 2.039320423879815e-09  beta= 1.532761651308733e-08\n",
      "Iteracion 22\n",
      "Valores actuales: alpha= 2.0393221007957107e-09  beta= 1.5327616468801866e-08\n",
      "Valores finales: alpha= 2.0393229613283713e-09  beta= 1.532761644607617e-08\n",
      "Fit terminado \n",
      "\n",
      "Empezando fit: alpha y beta iniciales [5.0000500000000005e-06, 1e-10]\n",
      "Iteracion 1\n",
      "Valores actuales: alpha= 5.0000500000000005e-06  beta= 1e-10\n",
      "Iteracion 2\n",
      "Valores actuales: alpha= 1.766901921541264e-08  beta= 3.1205851189645556e-09\n",
      "Iteracion 3\n",
      "Valores actuales: alpha= 1.8053871506320994e-08  beta= 1.5129548779258263e-08\n",
      "Iteracion 4\n",
      "Valores actuales: alpha= 9.181325161840463e-09  beta= 1.521415955074382e-08\n",
      "Iteracion 5\n",
      "Valores actuales: alpha= 5.560851709372021e-09  beta= 1.525698981512135e-08\n",
      "Iteracion 6\n",
      "Valores actuales: alpha= 3.816487993131561e-09  beta= 1.5286332358651685e-08\n",
      "Iteracion 7\n",
      "Valores actuales: alpha= 2.942065628824168e-09  beta= 1.5304988046535437e-08\n",
      "Iteracion 8\n",
      "Valores actuales: alpha= 2.4993208507502543e-09  beta= 1.5315702808731445e-08\n",
      "Iteracion 9\n",
      "Valores actuales: alpha= 2.2741952604587166e-09  beta= 1.5321457931584992e-08\n",
      "Iteracion 10\n",
      "Valores actuales: alpha= 2.1594022109261064e-09  beta= 1.5324453967261642e-08\n",
      "Iteracion 11\n",
      "Valores actuales: alpha= 2.1007601622467685e-09  beta= 1.532599579440846e-08\n",
      "Iteracion 12\n",
      "Valores actuales: alpha= 2.070769787860748e-09  beta= 1.5326786389298748e-08\n",
      "Iteracion 13\n",
      "Valores actuales: alpha= 2.0554228590627405e-09  beta= 1.5327191366947008e-08\n",
      "Iteracion 14\n",
      "Valores actuales: alpha= 2.0475668170311e-09  beta= 1.5327398760443423e-08\n",
      "Iteracion 15\n",
      "Valores actuales: alpha= 2.0435446409398585e-09  beta= 1.5327504962752e-08\n",
      "Iteracion 16\n",
      "Valores actuales: alpha= 2.0414851655600216e-09  beta= 1.532755934637677e-08\n",
      "Iteracion 17\n",
      "Valores actuales: alpha= 2.0404306002674754e-09  beta= 1.5327587195017558e-08\n",
      "Iteracion 18\n",
      "Valores actuales: alpha= 2.0398905944304236e-09  beta= 1.532760145564024e-08\n",
      "Iteracion 19\n",
      "Valores actuales: alpha= 2.0396140725217493e-09  beta= 1.5327608758187755e-08\n",
      "Iteracion 20\n",
      "Valores actuales: alpha= 2.039472472440065e-09  beta= 1.5327612497664168e-08\n",
      "Iteracion 21\n",
      "Valores actuales: alpha= 2.0393999629117982e-09  beta= 1.532761441255325e-08\n",
      "Iteracion 22\n",
      "Valores actuales: alpha= 2.0393628314501405e-09  beta= 1.5327615393151758e-08\n",
      "Iteracion 23\n",
      "Valores actuales: alpha= 2.0393438162659733e-09  beta= 1.5327615895320932e-08\n",
      "Iteracion 24\n",
      "Valores actuales: alpha= 2.0393340802709747e-09  beta= 1.5327616152437472e-08\n",
      "Iteracion 25\n",
      "Valores actuales: alpha= 2.0393290937307964e-09  beta= 1.5327616284126346e-08\n"
     ]
    },
    {
     "name": "stdout",
     "output_type": "stream",
     "text": [
      "Iteracion 26\n",
      "Valores actuales: alpha= 2.0393265418011222e-09  beta= 1.5327616351519924e-08\n",
      "Iteracion 27\n",
      "Valores actuales: alpha= 2.039325233318529e-09  beta= 1.5327616386075477e-08\n",
      "Valores finales: alpha= 2.0393245632820616e-09  beta= 1.5327616403770382e-08\n",
      "Fit terminado \n",
      "\n",
      "Empezando fit: alpha y beta iniciales [5.0000500000000005e-06, 5.0000500000000005e-06]\n",
      "Iteracion 1\n",
      "Valores actuales: alpha= 5.0000500000000005e-06  beta= 5.0000500000000005e-06\n",
      "Iteracion 2\n",
      "Valores actuales: alpha= 8.111795241800731e-09  beta= 1.522523912398031e-08\n",
      "Iteracion 3\n",
      "Valores actuales: alpha= 5.058518035813044e-09  beta= 1.5264585137039996e-08\n",
      "Iteracion 4\n",
      "Valores actuales: alpha= 3.5662055042212508e-09  beta= 1.529134859084277e-08\n",
      "Iteracion 5\n",
      "Valores actuales: alpha= 2.8155825871051363e-09  beta= 1.530796101590728e-08\n",
      "Iteracion 6\n",
      "Valores actuales: alpha= 2.4350804271812947e-09  beta= 1.5317326273754142e-08\n",
      "Iteracion 7\n",
      "Valores actuales: alpha= 2.241464416708973e-09  beta= 1.5322308671841912e-08\n",
      "Iteracion 8\n",
      "Valores actuales: alpha= 2.142689880819679e-09  beta= 1.5324892732263628e-08\n",
      "Iteracion 9\n",
      "Valores actuales: alpha= 2.0922156462932816e-09  beta= 1.532622092085628e-08\n",
      "Iteracion 10\n",
      "Valores actuales: alpha= 2.066397983373945e-09  beta= 1.5326901728540923e-08\n",
      "Iteracion 11\n",
      "Valores actuales: alpha= 2.053185127864137e-09  beta= 1.5327250435826082e-08\n",
      "Iteracion 12\n",
      "Valores actuales: alpha= 2.046421180112431e-09  beta= 1.5327429008750128e-08\n",
      "Iteracion 13\n",
      "Valores actuales: alpha= 2.0429580531791644e-09  beta= 1.5327520452181676e-08\n",
      "Iteracion 14\n",
      "Valores actuales: alpha= 2.041184803053014e-09  beta= 1.5327567278176093e-08\n",
      "Iteracion 15\n",
      "Valores actuales: alpha= 2.0402767969118727e-09  beta= 1.532759125667751e-08\n",
      "Iteracion 16\n",
      "Valores actuales: alpha= 2.039811835385945e-09  beta= 1.532760353554823e-08\n",
      "Iteracion 17\n",
      "Valores actuales: alpha= 2.0395737414018266e-09  beta= 1.5327609823279415e-08\n",
      "Iteracion 18\n",
      "Valores actuales: alpha= 2.039451820783272e-09  beta= 1.5327613043049105e-08\n",
      "Iteracion 19\n",
      "Valores actuales: alpha= 2.0393893860271238e-09  beta= 1.5327614691876317e-08\n",
      "Iteracion 20\n",
      "Valores actuales: alpha= 2.03935741468999e-09  beta= 1.5327615536202147e-08\n",
      "Iteracion 21\n",
      "Valores actuales: alpha= 2.0393410429472468e-09  beta= 1.5327615968561115e-08\n",
      "Iteracion 22\n",
      "Valores actuales: alpha= 2.0393326598595924e-09  beta= 1.5327616189948925e-08\n",
      "Iteracion 23\n",
      "Valores actuales: alpha= 2.0393283656092656e-09  beta= 1.5327616303355212e-08\n",
      "Iteracion 24\n",
      "Valores actuales: alpha= 2.0393261680203222e-09  beta= 1.5327616361391054e-08\n",
      "Iteracion 25\n",
      "Valores actuales: alpha= 2.039325041900578e-09  beta= 1.5327616391130606e-08\n",
      "Valores finales: alpha= 2.03932446555288e-09  beta= 1.5327616406351298e-08\n",
      "Fit terminado \n",
      "\n",
      "Empezando fit: alpha y beta iniciales [5.0000500000000005e-06, 1e-05]\n",
      "Iteracion 1\n",
      "Valores actuales: alpha= 5.0000500000000005e-06  beta= 1e-05\n",
      "Iteracion 2\n",
      "Valores actuales: alpha= 4.821343079828654e-09  beta= 1.526838503610417e-08\n",
      "Iteracion 3\n",
      "Valores actuales: alpha= 3.4475531567856594e-09  beta= 1.5293813729904098e-08\n",
      "Iteracion 4\n",
      "Valores actuales: alpha= 2.755551247168875e-09  beta= 1.53093970726017e-08\n",
      "Iteracion 5\n",
      "Valores actuales: alpha= 2.404571344320063e-09  beta= 1.5318102807430026e-08\n",
      "Iteracion 6\n",
      "Valores actuales: alpha= 2.2259130039442196e-09  beta= 1.5322713930865355e-08\n",
      "Iteracion 7\n",
      "Valores actuales: alpha= 2.134747112695175e-09  beta= 1.5325101451147564e-08\n",
      "Iteracion 8\n",
      "Valores actuales: alpha= 2.0881540831939367e-09  beta= 1.532632796830064e-08\n",
      "Iteracion 9\n",
      "Valores actuales: alpha= 2.0643197009711655e-09  beta= 1.5326956566045697e-08\n",
      "Iteracion 10\n",
      "Valores actuales: alpha= 2.0521212959550187e-09  beta= 1.5327278519128396e-08\n",
      "Iteracion 11\n",
      "Valores actuales: alpha= 2.0458765231786568e-09  beta= 1.5327443389724112e-08\n",
      "Iteracion 12\n",
      "Valores actuales: alpha= 2.042679174435202e-09  beta= 1.532752781634206e-08\n",
      "Iteracion 13\n",
      "Valores actuales: alpha= 2.041042003810606e-09  beta= 1.532757104915909e-08\n",
      "Iteracion 14\n",
      "Valores actuales: alpha= 2.0402036743829034e-09  beta= 1.532759318771319e-08\n",
      "Iteracion 15\n",
      "Valores actuales: alpha= 2.039774392189678e-09  beta= 1.5327604524368325e-08\n",
      "Iteracion 16\n",
      "Valores actuales: alpha= 2.039554567441277e-09  beta= 1.532761032963882e-08\n",
      "Iteracion 17\n",
      "Valores actuales: alpha= 2.0394420013435042e-09  beta= 1.532761330236858e-08\n",
      "Iteracion 18\n",
      "Valores actuales: alpha= 2.03938435746991e-09  beta= 1.532761482467462e-08\n",
      "Iteracion 19\n",
      "Valores actuales: alpha= 2.0393548395434447e-09  beta= 1.5327615604208804e-08\n",
      "Iteracion 20\n",
      "Valores actuales: alpha= 2.0393397244300598e-09  beta= 1.532761600338165e-08\n",
      "Iteracion 21\n",
      "Valores actuales: alpha= 2.0393319844969496e-09  beta= 1.5327616207784488e-08\n",
      "Iteracion 22\n",
      "Valores actuales: alpha= 2.0393280206187597e-09  beta= 1.5327616312466024e-08\n",
      "Iteracion 23\n",
      "Valores actuales: alpha= 2.0393259897804865e-09  beta= 1.5327616366098165e-08\n",
      "Iteracion 24\n",
      "Valores actuales: alpha= 2.0393249510058966e-09  beta= 1.532761639353103e-08\n",
      "Valores finales: alpha= 2.0393244197996848e-09  beta= 1.5327616407559587e-08\n",
      "Fit terminado \n",
      "\n",
      "Empezando fit: alpha y beta iniciales [1e-05, 1e-10]\n",
      "Iteracion 1\n",
      "Valores actuales: alpha= 1e-05  beta= 1e-10\n",
      "Iteracion 2\n",
      "Valores actuales: alpha= 2.1427759186741097e-08  beta= 1.9698246712561135e-09\n",
      "Iteracion 3\n",
      "Valores actuales: alpha= 1.993572225629149e-08  beta= 1.509529121504135e-08\n",
      "Iteracion 4\n",
      "Valores actuales: alpha= 9.82579610278621e-09  beta= 1.520788498422111e-08\n",
      "Iteracion 5\n",
      "Valores actuales: alpha= 5.8573697727479e-09  beta= 1.525276436737902e-08\n",
      "Iteracion 6\n",
      "Valores actuales: alpha= 3.963497837527941e-09  beta= 1.528349658924894e-08\n",
      "Iteracion 7\n",
      "Valores actuales: alpha= 3.016262077983081e-09  beta= 1.5303277444058995e-08\n",
      "Iteracion 8\n",
      "Valores actuales: alpha= 2.5369804812028593e-09  beta= 1.5314758688036953e-08\n",
      "Iteracion 9\n",
      "Valores actuales: alpha= 2.2933743266062243e-09  beta= 1.5320960893535843e-08\n",
      "Iteracion 10\n",
      "Valores actuales: alpha= 2.169192131758647e-09  beta= 1.5324197208620468e-08\n",
      "Iteracion 11\n",
      "Valores actuales: alpha= 2.105764588825807e-09  beta= 1.5325863989663783e-08\n",
      "Iteracion 12\n",
      "Valores actuales: alpha= 2.0733300586405586e-09  beta= 1.532671885270896e-08\n",
      "Iteracion 13\n",
      "Valores actuales: alpha= 2.056733279745651e-09  beta= 1.532715677820232e-08\n",
      "Iteracion 14\n",
      "Valores actuales: alpha= 2.0482376863488564e-09  beta= 1.532738104794563e-08\n",
      "Iteracion 15\n",
      "Valores actuales: alpha= 2.0438881355515795e-09  beta= 1.532749589255918e-08\n",
      "Iteracion 16\n",
      "Valores actuales: alpha= 2.0416610490694417e-09  beta= 1.5327554701777633e-08\n",
      "Iteracion 17\n",
      "Valores actuales: alpha= 2.040520664425151e-09  beta= 1.5327584816598954e-08\n",
      "Iteracion 18\n",
      "Valores actuales: alpha= 2.039936713795983e-09  beta= 1.5327600237699175e-08\n",
      "Iteracion 19\n",
      "Valores actuales: alpha= 2.039637688612599e-09  beta= 1.5327608134518494e-08\n",
      "Iteracion 20\n",
      "Valores actuales: alpha= 2.039484564618021e-09  beta= 1.532761217832471e-08\n",
      "Iteracion 21\n",
      "Valores actuales: alpha= 2.0394061544434895e-09  beta= 1.532761424904223e-08\n",
      "Iteracion 22\n",
      "Valores actuales: alpha= 2.0393660019427488e-09  beta= 1.532761530942272e-08\n",
      "Iteracion 23\n",
      "Valores actuales: alpha= 2.039345439901346e-09  beta= 1.5327615852442576e-08\n",
      "Iteracion 24\n",
      "Valores actuales: alpha= 2.03933491240119e-09  beta= 1.532761613046186e-08\n",
      "Iteracion 25\n",
      "Valores actuales: alpha= 2.0393295207389884e-09  beta= 1.5327616272849542e-08\n",
      "Iteracion 26\n",
      "Valores actuales: alpha= 2.0393267595492832e-09  beta= 1.5327616345769444e-08\n",
      "Iteracion 27\n",
      "Valores actuales: alpha= 2.0393253443509756e-09  beta= 1.532761638314323e-08\n",
      "Valores finales: alpha= 2.0393246212873125e-09  beta= 1.5327616402238526e-08\n",
      "Fit terminado \n",
      "\n",
      "Empezando fit: alpha y beta iniciales [1e-05, 5.0000500000000005e-06]\n",
      "Iteracion 1\n",
      "Valores actuales: alpha= 1e-05  beta= 5.0000500000000005e-06\n",
      "Iteracion 2\n",
      "Valores actuales: alpha= 1.2564550748756465e-08  beta= 1.518321763332286e-08\n",
      "Iteracion 3\n",
      "Valores actuales: alpha= 7.060747067154877e-09  beta= 1.5237209650761593e-08\n",
      "Iteracion 4\n",
      "Valores actuales: alpha= 4.5535022859849655e-09  beta= 1.52728603439041e-08\n",
      "Iteracion 5\n",
      "Valores actuales: alpha= 3.3132291754355055e-09  beta= 1.529667504802111e-08\n",
      "Iteracion 6\n",
      "Valores actuales: alpha= 2.6875389816502874e-09  beta= 1.53110433179221e-08\n",
      "Iteracion 7\n",
      "Valores actuales: alpha= 2.3699903572382606e-09  beta= 1.5318987091036847e-08\n",
      "Iteracion 8\n",
      "Valores actuales: alpha= 2.2082804177296175e-09  beta= 1.5323174192319122e-08\n",
      "Iteracion 9\n",
      "Valores actuales: alpha= 2.1257396098672895e-09  beta= 1.532533828835217e-08\n",
      "Iteracion 10\n",
      "Valores actuales: alpha= 2.083547540434728e-09  beta= 1.5326449405707323e-08\n"
     ]
    },
    {
     "name": "stdout",
     "output_type": "stream",
     "text": [
      "Iteracion 11\n",
      "Valores actuales: alpha= 2.0619624064004937e-09  beta= 1.5327018770956208e-08\n",
      "Iteracion 12\n",
      "Valores actuales: alpha= 2.050914606101217e-09  beta= 1.5327310374832218e-08\n",
      "Iteracion 13\n",
      "Valores actuales: alpha= 2.0452587177525483e-09  beta= 1.532745970237663e-08\n",
      "Iteracion 14\n",
      "Valores actuales: alpha= 2.0423628386225927e-09  beta= 1.5327536169676513e-08\n",
      "Iteracion 15\n",
      "Valores actuales: alpha= 2.040880021317467e-09  beta= 1.532757532674343e-08\n",
      "Iteracion 16\n",
      "Valores actuales: alpha= 2.0401207283428346e-09  beta= 1.532759537817495e-08\n",
      "Iteracion 17\n",
      "Valores actuales: alpha= 2.0397319175402554e-09  beta= 1.532760564606295e-08\n",
      "Iteracion 18\n",
      "Valores actuales: alpha= 2.039532817557711e-09  beta= 1.5327610904025322e-08\n",
      "Iteracion 19\n",
      "Valores actuales: alpha= 2.0394308626793922e-09  beta= 1.5327613596527247e-08\n",
      "Iteracion 20\n",
      "Valores actuales: alpha= 2.0393786555758173e-09  beta= 1.5327614975254974e-08\n",
      "Iteracion 21\n",
      "Valores actuales: alpha= 2.0393519206223763e-09  beta= 1.532761568129416e-08\n",
      "Iteracion 22\n",
      "Valores actuales: alpha= 2.0393382313505153e-09  beta= 1.5327616042812182e-08\n",
      "Iteracion 23\n",
      "Valores actuales: alpha= 2.039331219671602e-09  beta= 1.5327616227982657e-08\n",
      "Iteracion 24\n",
      "Valores actuales: alpha= 2.039327628684226e-09  beta= 1.532761632281657e-08\n",
      "Iteracion 25\n",
      "Valores actuales: alpha= 2.0393257912936475e-09  beta= 1.532761637133998e-08\n",
      "Valores finales: alpha= 2.039324850360006e-09  beta= 1.5327616396188974e-08\n",
      "Fit terminado \n",
      "\n",
      "Empezando fit: alpha y beta iniciales [1e-05, 1e-05]\n",
      "Iteracion 1\n",
      "Valores actuales: alpha= 1e-05  beta= 1e-05\n",
      "Iteracion 2\n",
      "Valores actuales: alpha= 8.111795241007395e-09  beta= 1.5225239123988328e-08\n",
      "Iteracion 3\n",
      "Valores actuales: alpha= 5.058518036303519e-09  beta= 1.5264585137032988e-08\n",
      "Iteracion 4\n",
      "Valores actuales: alpha= 3.566205503954307e-09  beta= 1.5291348590847815e-08\n",
      "Iteracion 5\n",
      "Valores actuales: alpha= 2.8155825872531177e-09  beta= 1.5307961015903965e-08\n",
      "Iteracion 6\n",
      "Valores actuales: alpha= 2.435080427825417e-09  beta= 1.5317326273738075e-08\n",
      "Iteracion 7\n",
      "Valores actuales: alpha= 2.241464418888478e-09  beta= 1.5322308671785743e-08\n",
      "Iteracion 8\n",
      "Valores actuales: alpha= 2.1426898843847166e-09  beta= 1.5324892732170404e-08\n",
      "Iteracion 9\n",
      "Valores actuales: alpha= 2.092215647793214e-09  beta= 1.5326220920816722e-08\n",
      "Iteracion 10\n",
      "Valores actuales: alpha= 2.066397984542914e-09  beta= 1.53269017285101e-08\n",
      "Iteracion 11\n",
      "Valores actuales: alpha= 2.053185127937781e-09  beta= 1.5327250435824123e-08\n",
      "Iteracion 12\n",
      "Valores actuales: alpha= 2.0464211789313653e-09  beta= 1.5327429008781296e-08\n",
      "Iteracion 13\n",
      "Valores actuales: alpha= 2.042958052384783e-09  beta= 1.532752045220265e-08\n",
      "Iteracion 14\n",
      "Valores actuales: alpha= 2.0411848020056053e-09  beta= 1.532756727820375e-08\n",
      "Iteracion 15\n",
      "Valores actuales: alpha= 2.0402767963538686e-09  beta= 1.5327591256692248e-08\n",
      "Iteracion 16\n",
      "Valores actuales: alpha= 2.0398118365319218e-09  beta= 1.532760353551797e-08\n",
      "Iteracion 17\n",
      "Valores actuales: alpha= 2.03957374289065e-09  beta= 1.5327609823240097e-08\n",
      "Iteracion 18\n",
      "Valores actuales: alpha= 2.0394518185611026e-09  beta= 1.532761304310779e-08\n",
      "Iteracion 19\n",
      "Valores actuales: alpha= 2.0393893861585934e-09  beta= 1.5327614691872846e-08\n",
      "Iteracion 20\n",
      "Valores actuales: alpha= 2.0393574159048595e-09  beta= 1.5327615536170065e-08\n",
      "Iteracion 21\n",
      "Valores actuales: alpha= 2.0393410430687625e-09  beta= 1.5327615968557905e-08\n",
      "Iteracion 22\n",
      "Valores actuales: alpha= 2.039332659793082e-09  beta= 1.5327616189950682e-08\n",
      "Iteracion 23\n",
      "Valores actuales: alpha= 2.039328366950578e-09  beta= 1.5327616303319792e-08\n",
      "Iteracion 24\n",
      "Valores actuales: alpha= 2.039326167082784e-09  beta= 1.5327616361415813e-08\n",
      "Iteracion 25\n",
      "Valores actuales: alpha= 2.0393250420134226e-09  beta= 1.5327616391127625e-08\n",
      "Valores finales: alpha= 2.0393244655635733e-09  beta= 1.5327616406351013e-08\n",
      "Fit terminado \n",
      "\n",
      "Reentrenando el mejor modelo encontrado\n",
      "Iteracion 1\n",
      "Valores actuales: alpha= 1e-10  beta= 5.0000500000000005e-06\n",
      "Iteracion 2\n",
      "Valores actuales: alpha= 9.24866159306068e-10  beta= 1.5348209920565863e-08\n",
      "Iteracion 3\n",
      "Valores actuales: alpha= 1.4595220124608975e-09  beta= 1.5342326780081134e-08\n",
      "Iteracion 4\n",
      "Valores actuales: alpha= 1.7406597751246969e-09  beta= 1.5335458988946437e-08\n",
      "Iteracion 5\n",
      "Valores actuales: alpha= 1.8859830092601938e-09  beta= 1.533166513173719e-08\n",
      "Iteracion 6\n",
      "Valores actuales: alpha= 1.96070281746739e-09  beta= 1.532969373739405e-08\n",
      "Iteracion 7\n",
      "Valores actuales: alpha= 1.999038706212564e-09  beta= 1.5328680729872834e-08\n",
      "Iteracion 8\n",
      "Valores actuales: alpha= 2.0186882392964087e-09  beta= 1.5328161516333985e-08\n",
      "Iteracion 9\n",
      "Valores actuales: alpha= 2.0287551185231225e-09  beta= 1.5327895567721235e-08\n",
      "Iteracion 10\n",
      "Valores actuales: alpha= 2.033911391758799e-09  beta= 1.5327759369530798e-08\n",
      "Iteracion 11\n",
      "Valores actuales: alpha= 2.0365521363151014e-09  beta= 1.5327689623109653e-08\n",
      "Iteracion 12\n",
      "Valores actuales: alpha= 2.0379044901492723e-09  beta= 1.5327653907006475e-08\n",
      "Iteracion 13\n",
      "Valores actuales: alpha= 2.038597023707021e-09  beta= 1.5327635617456015e-08\n",
      "Iteracion 14\n",
      "Valores actuales: alpha= 2.0389516606727628e-09  beta= 1.532762625175659e-08\n",
      "Iteracion 15\n",
      "Valores actuales: alpha= 2.039133263419122e-09  beta= 1.5327621455796828e-08\n",
      "Iteracion 16\n",
      "Valores actuales: alpha= 2.03922625946223e-09  beta= 1.5327618999866755e-08\n",
      "Iteracion 17\n",
      "Valores actuales: alpha= 2.039273880557225e-09  beta= 1.532761774224486e-08\n",
      "Iteracion 18\n",
      "Valores actuales: alpha= 2.0392982671444697e-09  beta= 1.5327617098221944e-08\n",
      "Iteracion 19\n",
      "Valores actuales: alpha= 2.0393107549907875e-09  beta= 1.5327616768431837e-08\n",
      "Iteracion 20\n",
      "Valores actuales: alpha= 2.0393171496924177e-09  beta= 1.5327616599554937e-08\n",
      "Iteracion 21\n",
      "Valores actuales: alpha= 2.0393204234087556e-09  beta= 1.532761651309977e-08\n",
      "Iteracion 22\n",
      "Valores actuales: alpha= 2.0393221018901956e-09  beta= 1.5327616468772964e-08\n",
      "Valores finales: alpha= 2.0393229590218568e-09  beta= 1.532761644613708e-08\n",
      "RMSE: 8083.610013345835  R_2: 0.5904901384489528\n"
     ]
    }
   ],
   "source": [
    "run(df_X,df_y,mode='EDA')"
   ]
  },
  {
   "cell_type": "markdown",
   "metadata": {},
   "source": [
    "### Parte 5"
   ]
  },
  {
   "cell_type": "code",
   "execution_count": 14,
   "metadata": {},
   "outputs": [
    {
     "name": "stdout",
     "output_type": "stream",
     "text": [
      "Fit terminado \n",
      "\n",
      "RMSE =  8083.34595688417  R2 = 0.5905168918323402\n"
     ]
    }
   ],
   "source": [
    "from sklearn.linear_model import BayesianRidge\n",
    "from sklearn.model_selection import train_test_split\n",
    "\n",
    "X_train, X_test, y_train, y_test = train_test_split(df_X, df_y, test_size=0.2, random_state=random_state)\n",
    "BR_pipe = Pipeline([('prep',prep),('clf',BayesianRidge())])\n",
    "BR_pipe.fit(X_train,y_train)\n",
    "print('Fit terminado', '\\n')\n",
    "y_pred = BR_pipe.predict(X_test) \n",
    "\n",
    "R_2 = BR_pipe.score(X_test, y_test)\n",
    "RMSE = np.sqrt(np.mean((y_pred-y_test)**2))\n",
    "print('RMSE = ',RMSE,' R2 =',R_2,)"
   ]
  }
 ],
 "metadata": {
  "kernelspec": {
   "display_name": "Python 3",
   "language": "python",
   "name": "python3"
  },
  "language_info": {
   "codemirror_mode": {
    "name": "ipython",
    "version": 3
   },
   "file_extension": ".py",
   "mimetype": "text/x-python",
   "name": "python",
   "nbconvert_exporter": "python",
   "pygments_lexer": "ipython3",
   "version": "3.7.3"
  },
  "toc": {
   "base_numbering": 1,
   "nav_menu": {},
   "number_sections": true,
   "sideBar": true,
   "skip_h1_title": false,
   "title_cell": "Table of Contents",
   "title_sidebar": "Contents",
   "toc_cell": false,
   "toc_position": {},
   "toc_section_display": true,
   "toc_window_display": false
  }
 },
 "nbformat": 4,
 "nbformat_minor": 2
}
