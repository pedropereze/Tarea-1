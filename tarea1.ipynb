{
 "cells": [
  {
   "cell_type": "markdown",
   "metadata": {},
   "source": [
    "# Tarea 1 \n",
    "\n",
    "Alumnos:\n",
    "\n",
    "* Miguel Espinoza\n",
    "* Sebastián López\n",
    "* Pedro Pérez"
   ]
  },
  {
   "cell_type": "markdown",
   "metadata": {},
   "source": [
    "## P1"
   ]
  },
  {
   "cell_type": "markdown",
   "metadata": {},
   "source": [
    "### Parte 1"
   ]
  },
  {
   "cell_type": "code",
   "execution_count": 1,
   "metadata": {},
   "outputs": [
    {
     "data": {
      "text/plain": [
       "['w13', 'w14', 'w15', 'w16', 'w17']"
      ]
     },
     "execution_count": 1,
     "metadata": {},
     "output_type": "execute_result"
    }
   ],
   "source": [
    "import os\n",
    "\n",
    "folder = 'data/raw/'  #Carpeta principal en la que estan los archivos\n",
    "weeks = os.listdir(folder)  #Se agregan las subcarpetas a una lista\n",
    "weeks"
   ]
  },
  {
   "cell_type": "code",
   "execution_count": 2,
   "metadata": {},
   "outputs": [
    {
     "data": {
      "text/plain": [
       "['data/raw/w13/metrocuadrado_all_w13.csv',\n",
       " 'data/raw/w14/metrocuadrado_all_w14.csv',\n",
       " 'data/raw/w15/metrocuadrado_all_w15.csv',\n",
       " 'data/raw/w16/metrocuadrado_all_w16.csv',\n",
       " 'data/raw/w17/metrocuadrado_all_w17.csv']"
      ]
     },
     "execution_count": 2,
     "metadata": {},
     "output_type": "execute_result"
    }
   ],
   "source": [
    "#Se crean dos listas para guardar los archivos normales\n",
    "#y los 'furnished'\n",
    "files = []\n",
    "files_furnished = []\n",
    "\n",
    "#Mediante un bucle for se guardan las direcciones de todos\n",
    "#los archivos en las listas creadas\n",
    "for week in weeks:\n",
    "    direccion = folder + week + '/'\n",
    "    file = os.listdir(direccion)\n",
    "    files.append(direccion + file[0])\n",
    "    files_furnished.append(direccion + file[1])\n",
    "    \n",
    "files"
   ]
  },
  {
   "cell_type": "code",
   "execution_count": 3,
   "metadata": {
    "scrolled": false
   },
   "outputs": [
    {
     "data": {
      "text/html": [
       "<div>\n",
       "<style scoped>\n",
       "    .dataframe tbody tr th:only-of-type {\n",
       "        vertical-align: middle;\n",
       "    }\n",
       "\n",
       "    .dataframe tbody tr th {\n",
       "        vertical-align: top;\n",
       "    }\n",
       "\n",
       "    .dataframe thead th {\n",
       "        text-align: right;\n",
       "    }\n",
       "</style>\n",
       "<table border=\"1\" class=\"dataframe\">\n",
       "  <thead>\n",
       "    <tr style=\"text-align: right;\">\n",
       "      <th></th>\n",
       "      <th>property_type|rent_type|location</th>\n",
       "      <th>price</th>\n",
       "      <th>n_rooms</th>\n",
       "      <th>n_bath</th>\n",
       "      <th>surface</th>\n",
       "      <th>details</th>\n",
       "      <th>url</th>\n",
       "      <th>metrocuadrado_index</th>\n",
       "    </tr>\n",
       "  </thead>\n",
       "  <tbody>\n",
       "    <tr>\n",
       "      <th>0</th>\n",
       "      <td>Casa en Arriendo, LA SOLEDAD NORTE Bogotá D.C..</td>\n",
       "      <td>$1.050.000</td>\n",
       "      <td>3</td>\n",
       "      <td>2</td>\n",
       "      <td>63.0 m2</td>\n",
       "      <td>Excelente casa cerca de la calle 80 y Avenida ...</td>\n",
       "      <td>https://www.metrocuadrado.com/inmueble/arriend...</td>\n",
       "      <td>25.6</td>\n",
       "    </tr>\n",
       "    <tr>\n",
       "      <th>1</th>\n",
       "      <td>Casa en Arriendo, CIUDAD SALITRE SUR-ORIENTAL ...</td>\n",
       "      <td>$3.930.000</td>\n",
       "      <td>3</td>\n",
       "      <td>2</td>\n",
       "      <td>100.0 m2</td>\n",
       "      <td>Se arrienda casa bonita totalmente amoblada co...</td>\n",
       "      <td>https://www.metrocuadrado.com/inmueble/arriend...</td>\n",
       "      <td>57.3</td>\n",
       "    </tr>\n",
       "    <tr>\n",
       "      <th>2</th>\n",
       "      <td>Casa en Arriendo, VILLA DE LOS ALPES II SECTOR...</td>\n",
       "      <td>$750.000</td>\n",
       "      <td>3</td>\n",
       "      <td>1</td>\n",
       "      <td>90.0 m2</td>\n",
       "      <td>CASA DE TRES NIVELES TRES ALCOBAS SALA COMEDOR...</td>\n",
       "      <td>https://www.metrocuadrado.com/inmueble/arriend...</td>\n",
       "      <td>12.2</td>\n",
       "    </tr>\n",
       "  </tbody>\n",
       "</table>\n",
       "</div>"
      ],
      "text/plain": [
       "                    property_type|rent_type|location       price n_rooms  \\\n",
       "0    Casa en Arriendo, LA SOLEDAD NORTE Bogotá D.C..  $1.050.000       3   \n",
       "1  Casa en Arriendo, CIUDAD SALITRE SUR-ORIENTAL ...  $3.930.000       3   \n",
       "2  Casa en Arriendo, VILLA DE LOS ALPES II SECTOR...    $750.000       3   \n",
       "\n",
       "  n_bath   surface                                            details  \\\n",
       "0      2   63.0 m2  Excelente casa cerca de la calle 80 y Avenida ...   \n",
       "1      2  100.0 m2  Se arrienda casa bonita totalmente amoblada co...   \n",
       "2      1   90.0 m2  CASA DE TRES NIVELES TRES ALCOBAS SALA COMEDOR...   \n",
       "\n",
       "                                                 url  metrocuadrado_index  \n",
       "0  https://www.metrocuadrado.com/inmueble/arriend...                 25.6  \n",
       "1  https://www.metrocuadrado.com/inmueble/arriend...                 57.3  \n",
       "2  https://www.metrocuadrado.com/inmueble/arriend...                 12.2  "
      ]
     },
     "execution_count": 3,
     "metadata": {},
     "output_type": "execute_result"
    }
   ],
   "source": [
    "import pandas as pd\n",
    "\n",
    "#Se lee el primer dataframe para observar los datos\n",
    "data_all = pd.read_csv(files[0])\n",
    "data_all.head(3)"
   ]
  },
  {
   "cell_type": "markdown",
   "metadata": {},
   "source": [
    "En primer lugar se combinan los dataframes normales"
   ]
  },
  {
   "cell_type": "code",
   "execution_count": 4,
   "metadata": {
    "scrolled": false
   },
   "outputs": [
    {
     "name": "stdout",
     "output_type": "stream",
     "text": [
      "Cantidad de datos:  16470\n"
     ]
    },
    {
     "data": {
      "text/html": [
       "<div>\n",
       "<style scoped>\n",
       "    .dataframe tbody tr th:only-of-type {\n",
       "        vertical-align: middle;\n",
       "    }\n",
       "\n",
       "    .dataframe tbody tr th {\n",
       "        vertical-align: top;\n",
       "    }\n",
       "\n",
       "    .dataframe thead th {\n",
       "        text-align: right;\n",
       "    }\n",
       "</style>\n",
       "<table border=\"1\" class=\"dataframe\">\n",
       "  <thead>\n",
       "    <tr style=\"text-align: right;\">\n",
       "      <th></th>\n",
       "      <th>property_type|rent_type|location</th>\n",
       "      <th>price</th>\n",
       "      <th>n_rooms</th>\n",
       "      <th>n_bath</th>\n",
       "      <th>surface</th>\n",
       "      <th>details</th>\n",
       "      <th>url</th>\n",
       "      <th>metrocuadrado_index</th>\n",
       "    </tr>\n",
       "  </thead>\n",
       "  <tbody>\n",
       "    <tr>\n",
       "      <th>0</th>\n",
       "      <td>Casa en Arriendo, LA SOLEDAD NORTE Bogotá D.C..</td>\n",
       "      <td>$1.050.000</td>\n",
       "      <td>3</td>\n",
       "      <td>2</td>\n",
       "      <td>63.0 m2</td>\n",
       "      <td>Excelente casa cerca de la calle 80 y Avenida ...</td>\n",
       "      <td>https://www.metrocuadrado.com/inmueble/arriend...</td>\n",
       "      <td>25.6</td>\n",
       "    </tr>\n",
       "    <tr>\n",
       "      <th>1</th>\n",
       "      <td>Casa en Arriendo, CIUDAD SALITRE SUR-ORIENTAL ...</td>\n",
       "      <td>$3.930.000</td>\n",
       "      <td>3</td>\n",
       "      <td>2</td>\n",
       "      <td>100.0 m2</td>\n",
       "      <td>Se arrienda casa bonita totalmente amoblada co...</td>\n",
       "      <td>https://www.metrocuadrado.com/inmueble/arriend...</td>\n",
       "      <td>57.3</td>\n",
       "    </tr>\n",
       "    <tr>\n",
       "      <th>2</th>\n",
       "      <td>Casa en Arriendo, VILLA DE LOS ALPES II SECTOR...</td>\n",
       "      <td>$750.000</td>\n",
       "      <td>3</td>\n",
       "      <td>1</td>\n",
       "      <td>90.0 m2</td>\n",
       "      <td>CASA DE TRES NIVELES TRES ALCOBAS SALA COMEDOR...</td>\n",
       "      <td>https://www.metrocuadrado.com/inmueble/arriend...</td>\n",
       "      <td>12.2</td>\n",
       "    </tr>\n",
       "  </tbody>\n",
       "</table>\n",
       "</div>"
      ],
      "text/plain": [
       "                    property_type|rent_type|location       price n_rooms  \\\n",
       "0    Casa en Arriendo, LA SOLEDAD NORTE Bogotá D.C..  $1.050.000       3   \n",
       "1  Casa en Arriendo, CIUDAD SALITRE SUR-ORIENTAL ...  $3.930.000       3   \n",
       "2  Casa en Arriendo, VILLA DE LOS ALPES II SECTOR...    $750.000       3   \n",
       "\n",
       "  n_bath   surface                                            details  \\\n",
       "0      2   63.0 m2  Excelente casa cerca de la calle 80 y Avenida ...   \n",
       "1      2  100.0 m2  Se arrienda casa bonita totalmente amoblada co...   \n",
       "2      1   90.0 m2  CASA DE TRES NIVELES TRES ALCOBAS SALA COMEDOR...   \n",
       "\n",
       "                                                 url  metrocuadrado_index  \n",
       "0  https://www.metrocuadrado.com/inmueble/arriend...                 25.6  \n",
       "1  https://www.metrocuadrado.com/inmueble/arriend...                 57.3  \n",
       "2  https://www.metrocuadrado.com/inmueble/arriend...                 12.2  "
      ]
     },
     "execution_count": 4,
     "metadata": {},
     "output_type": "execute_result"
    }
   ],
   "source": [
    "data_all = pd.read_csv(files[0])\n",
    "\n",
    "for file in files:\n",
    "    dato_semanal = pd.read_csv(file)\n",
    "    data_all = data_all.merge(dato_semanal, how = 'outer') \n",
    "    #Se pone 'outer' para hacer la union de todos los dataframes\n",
    "\n",
    "print('Cantidad de datos: ', len(data_all))\n",
    "data_all.head(3)"
   ]
  },
  {
   "cell_type": "code",
   "execution_count": 5,
   "metadata": {},
   "outputs": [
    {
     "name": "stdout",
     "output_type": "stream",
     "text": [
      "Duplicados:  175\n"
     ]
    }
   ],
   "source": [
    "#Se ve si hay duplicados\n",
    "print('Duplicados: ', data_all.duplicated().sum())"
   ]
  },
  {
   "cell_type": "code",
   "execution_count": 6,
   "metadata": {
    "scrolled": true
   },
   "outputs": [
    {
     "name": "stdout",
     "output_type": "stream",
     "text": [
      "Cantidad de datos:  16295\n"
     ]
    }
   ],
   "source": [
    "#Se eliminan las filas duplicadas\n",
    "data_all.drop_duplicates(inplace=True)\n",
    "print('Cantidad de datos: ', len(data_all))"
   ]
  },
  {
   "cell_type": "markdown",
   "metadata": {},
   "source": [
    "Ahora se combinan los archivos furnished"
   ]
  },
  {
   "cell_type": "code",
   "execution_count": 7,
   "metadata": {},
   "outputs": [
    {
     "name": "stdout",
     "output_type": "stream",
     "text": [
      "Cantidad de datos:  2101\n"
     ]
    },
    {
     "data": {
      "text/html": [
       "<div>\n",
       "<style scoped>\n",
       "    .dataframe tbody tr th:only-of-type {\n",
       "        vertical-align: middle;\n",
       "    }\n",
       "\n",
       "    .dataframe tbody tr th {\n",
       "        vertical-align: top;\n",
       "    }\n",
       "\n",
       "    .dataframe thead th {\n",
       "        text-align: right;\n",
       "    }\n",
       "</style>\n",
       "<table border=\"1\" class=\"dataframe\">\n",
       "  <thead>\n",
       "    <tr style=\"text-align: right;\">\n",
       "      <th></th>\n",
       "      <th>property_type|rent_type|location</th>\n",
       "      <th>price</th>\n",
       "      <th>n_rooms</th>\n",
       "      <th>n_bath</th>\n",
       "      <th>surface</th>\n",
       "      <th>details</th>\n",
       "      <th>url</th>\n",
       "      <th>metrocuadrado_index</th>\n",
       "    </tr>\n",
       "  </thead>\n",
       "  <tbody>\n",
       "    <tr>\n",
       "      <th>0</th>\n",
       "      <td>Casa en Arriendo, CIUDAD SALITRE SUR-ORIENTAL ...</td>\n",
       "      <td>$3.930.000</td>\n",
       "      <td>3.0</td>\n",
       "      <td>2.0</td>\n",
       "      <td>100.0 m2</td>\n",
       "      <td>Se arrienda casa bonita totalmente amoblada co...</td>\n",
       "      <td>https://www.metrocuadrado.com/inmueble/arriend...</td>\n",
       "      <td>57.3</td>\n",
       "    </tr>\n",
       "    <tr>\n",
       "      <th>1</th>\n",
       "      <td>Casa en Venta Y Arriendo, BELLAVISTA Bogotá D.C..</td>\n",
       "      <td>$1.300.000</td>\n",
       "      <td>3.0</td>\n",
       "      <td>2.0</td>\n",
       "      <td>72.0 m2</td>\n",
       "      <td>hermosa casa en venta y en arriendo en, mandal...</td>\n",
       "      <td>https://www.metrocuadrado.com/inmueble/venta-c...</td>\n",
       "      <td>41.4</td>\n",
       "    </tr>\n",
       "    <tr>\n",
       "      <th>2</th>\n",
       "      <td>Casa en Arriendo, PORTALES DEL NORTE Bogotá D.C..</td>\n",
       "      <td>$1.800.000</td>\n",
       "      <td>3.0</td>\n",
       "      <td>3.0</td>\n",
       "      <td>76.81 m2</td>\n",
       "      <td>Estrato 4. CASA TRIPLEX!! Exterior . Cuenta co...</td>\n",
       "      <td>https://www.metrocuadrado.com/inmueble/arriend...</td>\n",
       "      <td>41.3</td>\n",
       "    </tr>\n",
       "  </tbody>\n",
       "</table>\n",
       "</div>"
      ],
      "text/plain": [
       "                    property_type|rent_type|location       price  n_rooms  \\\n",
       "0  Casa en Arriendo, CIUDAD SALITRE SUR-ORIENTAL ...  $3.930.000      3.0   \n",
       "1  Casa en Venta Y Arriendo, BELLAVISTA Bogotá D.C..  $1.300.000      3.0   \n",
       "2  Casa en Arriendo, PORTALES DEL NORTE Bogotá D.C..  $1.800.000      3.0   \n",
       "\n",
       "   n_bath   surface                                            details  \\\n",
       "0     2.0  100.0 m2  Se arrienda casa bonita totalmente amoblada co...   \n",
       "1     2.0   72.0 m2  hermosa casa en venta y en arriendo en, mandal...   \n",
       "2     3.0  76.81 m2  Estrato 4. CASA TRIPLEX!! Exterior . Cuenta co...   \n",
       "\n",
       "                                                 url  metrocuadrado_index  \n",
       "0  https://www.metrocuadrado.com/inmueble/arriend...                 57.3  \n",
       "1  https://www.metrocuadrado.com/inmueble/venta-c...                 41.4  \n",
       "2  https://www.metrocuadrado.com/inmueble/arriend...                 41.3  "
      ]
     },
     "execution_count": 7,
     "metadata": {},
     "output_type": "execute_result"
    }
   ],
   "source": [
    "data_furnished = pd.read_csv(files_furnished[0])\n",
    "\n",
    "for file in files_furnished:\n",
    "    dato_semanal = pd.read_csv(file)\n",
    "    data_furnished = data_furnished.merge(dato_semanal, how='outer')\n",
    "\n",
    "print('Cantidad de datos: ', len(data_furnished))\n",
    "data_furnished.head(3)"
   ]
  },
  {
   "cell_type": "code",
   "execution_count": 8,
   "metadata": {},
   "outputs": [
    {
     "name": "stdout",
     "output_type": "stream",
     "text": [
      "Duplicados:  2\n"
     ]
    }
   ],
   "source": [
    "#Se buscan los duplicados y se eliminan\n",
    "print('Duplicados: ', data_furnished.duplicated().sum())"
   ]
  },
  {
   "cell_type": "code",
   "execution_count": 9,
   "metadata": {},
   "outputs": [
    {
     "name": "stdout",
     "output_type": "stream",
     "text": [
      "Cantidad de datos:  2099\n"
     ]
    }
   ],
   "source": [
    "data_furnished.drop_duplicates(inplace=True)\n",
    "\n",
    "print('Cantidad de datos: ', len(data_furnished))\n",
    "#Se observa que son muchos menos los datos de tipo furnished"
   ]
  },
  {
   "cell_type": "markdown",
   "metadata": {},
   "source": [
    "Al intentar combinar ambos dataframes usando `data_all.merge(data_furnished, how='outer')` aparece el error:\n",
    "\n",
    "`ValueError: You are trying to merge on object and float64 columns. If you wish to proceed you should use pd.concat`\n",
    "\n",
    "Por lo que se decide comprobar los tipos de las columnas"
   ]
  },
  {
   "cell_type": "code",
   "execution_count": 10,
   "metadata": {},
   "outputs": [
    {
     "name": "stdout",
     "output_type": "stream",
     "text": [
      "Tipos Data All\n",
      "property_type|rent_type|location     object\n",
      "price                                object\n",
      "n_rooms                              object\n",
      "n_bath                               object\n",
      "surface                              object\n",
      "details                              object\n",
      "url                                  object\n",
      "metrocuadrado_index                 float64\n",
      "dtype: object\n",
      "\n",
      "Tipos Data Furnished\n",
      "property_type|rent_type|location     object\n",
      "price                                object\n",
      "n_rooms                             float64\n",
      "n_bath                              float64\n",
      "surface                              object\n",
      "details                              object\n",
      "url                                  object\n",
      "metrocuadrado_index                 float64\n",
      "dtype: object\n"
     ]
    }
   ],
   "source": [
    "#Se observan las columnas de los dataframe\n",
    "print('Tipos Data All')\n",
    "print(data_all.dtypes)\n",
    "print()\n",
    "print('Tipos Data Furnished')\n",
    "print(data_furnished.dtypes)"
   ]
  },
  {
   "cell_type": "markdown",
   "metadata": {},
   "source": [
    "Se observa que el error se debe a que en `Data All` las columnas `n_rooms` y `n_bath` son de tipo `object`, en cambio en `Data Furnished` son de tipo `float64`.\n",
    "\n",
    "Este problema se resuelve simplemente cambiando el tipo de esas columnas."
   ]
  },
  {
   "cell_type": "code",
   "execution_count": 11,
   "metadata": {},
   "outputs": [],
   "source": [
    "#Se cambian las columnas de 'data_furnished' a object\n",
    "data_furnished = data_furnished.astype({'n_rooms':'object', 'n_bath':'object'})\n",
    "\n",
    "#Obs: No se pueden cambiar las columnas de 'data_all' a float64, pues hay un dato llamado '5+'"
   ]
  },
  {
   "cell_type": "code",
   "execution_count": 153,
   "metadata": {},
   "outputs": [
    {
     "name": "stdout",
     "output_type": "stream",
     "text": [
      "Cantidad de datos:  18394\n"
     ]
    },
    {
     "data": {
      "text/html": [
       "<div>\n",
       "<style scoped>\n",
       "    .dataframe tbody tr th:only-of-type {\n",
       "        vertical-align: middle;\n",
       "    }\n",
       "\n",
       "    .dataframe tbody tr th {\n",
       "        vertical-align: top;\n",
       "    }\n",
       "\n",
       "    .dataframe thead th {\n",
       "        text-align: right;\n",
       "    }\n",
       "</style>\n",
       "<table border=\"1\" class=\"dataframe\">\n",
       "  <thead>\n",
       "    <tr style=\"text-align: right;\">\n",
       "      <th></th>\n",
       "      <th>property_type|rent_type|location</th>\n",
       "      <th>price</th>\n",
       "      <th>n_rooms</th>\n",
       "      <th>n_bath</th>\n",
       "      <th>surface</th>\n",
       "      <th>details</th>\n",
       "      <th>url</th>\n",
       "      <th>metrocuadrado_index</th>\n",
       "      <th>Furnished</th>\n",
       "    </tr>\n",
       "  </thead>\n",
       "  <tbody>\n",
       "    <tr>\n",
       "      <th>0</th>\n",
       "      <td>Casa en Arriendo, LA SOLEDAD NORTE Bogotá D.C..</td>\n",
       "      <td>$1.050.000</td>\n",
       "      <td>3</td>\n",
       "      <td>2</td>\n",
       "      <td>63.0 m2</td>\n",
       "      <td>Excelente casa cerca de la calle 80 y Avenida ...</td>\n",
       "      <td>https://www.metrocuadrado.com/inmueble/arriend...</td>\n",
       "      <td>25.6</td>\n",
       "      <td>left_only</td>\n",
       "    </tr>\n",
       "    <tr>\n",
       "      <th>1</th>\n",
       "      <td>Casa en Arriendo, CIUDAD SALITRE SUR-ORIENTAL ...</td>\n",
       "      <td>$3.930.000</td>\n",
       "      <td>3</td>\n",
       "      <td>2</td>\n",
       "      <td>100.0 m2</td>\n",
       "      <td>Se arrienda casa bonita totalmente amoblada co...</td>\n",
       "      <td>https://www.metrocuadrado.com/inmueble/arriend...</td>\n",
       "      <td>57.3</td>\n",
       "      <td>left_only</td>\n",
       "    </tr>\n",
       "    <tr>\n",
       "      <th>2</th>\n",
       "      <td>Casa en Arriendo, VILLA DE LOS ALPES II SECTOR...</td>\n",
       "      <td>$750.000</td>\n",
       "      <td>3</td>\n",
       "      <td>1</td>\n",
       "      <td>90.0 m2</td>\n",
       "      <td>CASA DE TRES NIVELES TRES ALCOBAS SALA COMEDOR...</td>\n",
       "      <td>https://www.metrocuadrado.com/inmueble/arriend...</td>\n",
       "      <td>12.2</td>\n",
       "      <td>left_only</td>\n",
       "    </tr>\n",
       "  </tbody>\n",
       "</table>\n",
       "</div>"
      ],
      "text/plain": [
       "                    property_type|rent_type|location       price n_rooms  \\\n",
       "0    Casa en Arriendo, LA SOLEDAD NORTE Bogotá D.C..  $1.050.000       3   \n",
       "1  Casa en Arriendo, CIUDAD SALITRE SUR-ORIENTAL ...  $3.930.000       3   \n",
       "2  Casa en Arriendo, VILLA DE LOS ALPES II SECTOR...    $750.000       3   \n",
       "\n",
       "  n_bath   surface                                            details  \\\n",
       "0      2   63.0 m2  Excelente casa cerca de la calle 80 y Avenida ...   \n",
       "1      2  100.0 m2  Se arrienda casa bonita totalmente amoblada co...   \n",
       "2      1   90.0 m2  CASA DE TRES NIVELES TRES ALCOBAS SALA COMEDOR...   \n",
       "\n",
       "                                                 url  metrocuadrado_index  \\\n",
       "0  https://www.metrocuadrado.com/inmueble/arriend...                 25.6   \n",
       "1  https://www.metrocuadrado.com/inmueble/arriend...                 57.3   \n",
       "2  https://www.metrocuadrado.com/inmueble/arriend...                 12.2   \n",
       "\n",
       "   Furnished  \n",
       "0  left_only  \n",
       "1  left_only  \n",
       "2  left_only  "
      ]
     },
     "execution_count": 153,
     "metadata": {},
     "output_type": "execute_result"
    }
   ],
   "source": [
    "#Se combinan los dataframes\n",
    "data = data_all.merge(data_furnished, how='outer', indicator='Furnished')\n",
    "\n",
    "#Se coloca utiliza el parámetro indicator para indicar de que dataframe \n",
    "#proviene cada fila.\n",
    "#left_only indica que viene del dataframe 'data_all'\n",
    "#right_only indica que viene del dataframe 'data_furnished'\n",
    "#y both que proviene de ambos\n",
    "\n",
    "print('Cantidad de datos: ', len(data))\n",
    "data.head(3)"
   ]
  },
  {
   "cell_type": "code",
   "execution_count": 154,
   "metadata": {
    "scrolled": true
   },
   "outputs": [
    {
     "data": {
      "text/html": [
       "<div>\n",
       "<style scoped>\n",
       "    .dataframe tbody tr th:only-of-type {\n",
       "        vertical-align: middle;\n",
       "    }\n",
       "\n",
       "    .dataframe tbody tr th {\n",
       "        vertical-align: top;\n",
       "    }\n",
       "\n",
       "    .dataframe thead th {\n",
       "        text-align: right;\n",
       "    }\n",
       "</style>\n",
       "<table border=\"1\" class=\"dataframe\">\n",
       "  <thead>\n",
       "    <tr style=\"text-align: right;\">\n",
       "      <th></th>\n",
       "      <th>property_type|rent_type|location</th>\n",
       "      <th>price</th>\n",
       "      <th>n_rooms</th>\n",
       "      <th>n_bath</th>\n",
       "      <th>surface</th>\n",
       "      <th>details</th>\n",
       "      <th>url</th>\n",
       "      <th>metrocuadrado_index</th>\n",
       "      <th>Furnished</th>\n",
       "    </tr>\n",
       "  </thead>\n",
       "  <tbody>\n",
       "    <tr>\n",
       "      <th>0</th>\n",
       "      <td>Casa en Arriendo, LA SOLEDAD NORTE Bogotá D.C..</td>\n",
       "      <td>$1.050.000</td>\n",
       "      <td>3</td>\n",
       "      <td>2</td>\n",
       "      <td>63.0 m2</td>\n",
       "      <td>Excelente casa cerca de la calle 80 y Avenida ...</td>\n",
       "      <td>https://www.metrocuadrado.com/inmueble/arriend...</td>\n",
       "      <td>25.6</td>\n",
       "      <td>No</td>\n",
       "    </tr>\n",
       "    <tr>\n",
       "      <th>1</th>\n",
       "      <td>Casa en Arriendo, CIUDAD SALITRE SUR-ORIENTAL ...</td>\n",
       "      <td>$3.930.000</td>\n",
       "      <td>3</td>\n",
       "      <td>2</td>\n",
       "      <td>100.0 m2</td>\n",
       "      <td>Se arrienda casa bonita totalmente amoblada co...</td>\n",
       "      <td>https://www.metrocuadrado.com/inmueble/arriend...</td>\n",
       "      <td>57.3</td>\n",
       "      <td>No</td>\n",
       "    </tr>\n",
       "    <tr>\n",
       "      <th>2</th>\n",
       "      <td>Casa en Arriendo, VILLA DE LOS ALPES II SECTOR...</td>\n",
       "      <td>$750.000</td>\n",
       "      <td>3</td>\n",
       "      <td>1</td>\n",
       "      <td>90.0 m2</td>\n",
       "      <td>CASA DE TRES NIVELES TRES ALCOBAS SALA COMEDOR...</td>\n",
       "      <td>https://www.metrocuadrado.com/inmueble/arriend...</td>\n",
       "      <td>12.2</td>\n",
       "      <td>No</td>\n",
       "    </tr>\n",
       "  </tbody>\n",
       "</table>\n",
       "</div>"
      ],
      "text/plain": [
       "                    property_type|rent_type|location       price n_rooms  \\\n",
       "0    Casa en Arriendo, LA SOLEDAD NORTE Bogotá D.C..  $1.050.000       3   \n",
       "1  Casa en Arriendo, CIUDAD SALITRE SUR-ORIENTAL ...  $3.930.000       3   \n",
       "2  Casa en Arriendo, VILLA DE LOS ALPES II SECTOR...    $750.000       3   \n",
       "\n",
       "  n_bath   surface                                            details  \\\n",
       "0      2   63.0 m2  Excelente casa cerca de la calle 80 y Avenida ...   \n",
       "1      2  100.0 m2  Se arrienda casa bonita totalmente amoblada co...   \n",
       "2      1   90.0 m2  CASA DE TRES NIVELES TRES ALCOBAS SALA COMEDOR...   \n",
       "\n",
       "                                                 url  metrocuadrado_index  \\\n",
       "0  https://www.metrocuadrado.com/inmueble/arriend...                 25.6   \n",
       "1  https://www.metrocuadrado.com/inmueble/arriend...                 57.3   \n",
       "2  https://www.metrocuadrado.com/inmueble/arriend...                 12.2   \n",
       "\n",
       "  Furnished  \n",
       "0        No  \n",
       "1        No  \n",
       "2        No  "
      ]
     },
     "execution_count": 154,
     "metadata": {},
     "output_type": "execute_result"
    }
   ],
   "source": [
    "data['Furnished'].replace({'left_only':'No', 'right_only':'Si', 'both':'Ambos'}, inplace=True)\n",
    "\n",
    "#Se cambian los nombres para indicar más claramente si provienen de furnished o no\n",
    "data.head(3)"
   ]
  },
  {
   "cell_type": "code",
   "execution_count": 155,
   "metadata": {},
   "outputs": [
    {
     "data": {
      "text/plain": [
       "No    16295\n",
       "Si     2099\n",
       "Name: Furnished, dtype: int64"
      ]
     },
     "execution_count": 155,
     "metadata": {},
     "output_type": "execute_result"
    }
   ],
   "source": [
    "#Se cuentan la cantidad de cada valores de cada tipo\n",
    "data['Furnished'].value_counts()"
   ]
  },
  {
   "cell_type": "markdown",
   "metadata": {},
   "source": [
    "Como se observa no hay elementos comunes entre ambos grupos, son disjuntos. No hay archivos con texto 'furnished' que no estén contenidos en archivos con texto 'all'."
   ]
  },
  {
   "cell_type": "code",
   "execution_count": 156,
   "metadata": {},
   "outputs": [
    {
     "data": {
      "text/html": [
       "<div>\n",
       "<style scoped>\n",
       "    .dataframe tbody tr th:only-of-type {\n",
       "        vertical-align: middle;\n",
       "    }\n",
       "\n",
       "    .dataframe tbody tr th {\n",
       "        vertical-align: top;\n",
       "    }\n",
       "\n",
       "    .dataframe thead th {\n",
       "        text-align: right;\n",
       "    }\n",
       "</style>\n",
       "<table border=\"1\" class=\"dataframe\">\n",
       "  <thead>\n",
       "    <tr style=\"text-align: right;\">\n",
       "      <th></th>\n",
       "      <th>property_type|rent_type|location</th>\n",
       "      <th>price</th>\n",
       "      <th>n_rooms</th>\n",
       "      <th>n_bath</th>\n",
       "      <th>surface</th>\n",
       "      <th>details</th>\n",
       "      <th>url</th>\n",
       "      <th>metrocuadrado_index</th>\n",
       "    </tr>\n",
       "  </thead>\n",
       "  <tbody>\n",
       "  </tbody>\n",
       "</table>\n",
       "</div>"
      ],
      "text/plain": [
       "Empty DataFrame\n",
       "Columns: [property_type|rent_type|location, price, n_rooms, n_bath, surface, details, url, metrocuadrado_index]\n",
       "Index: []"
      ]
     },
     "execution_count": 156,
     "metadata": {},
     "output_type": "execute_result"
    }
   ],
   "source": [
    "#Esto se comprueba tambien haciendo una intersección entre los dataframes\n",
    "#mediante el argumento 'inner'\n",
    "pd.merge(data_all, data_furnished, how='inner')\n",
    "\n",
    "#Se observa que el resultado es un dataframe vacío"
   ]
  },
  {
   "cell_type": "markdown",
   "metadata": {},
   "source": [
    "### Parte 2"
   ]
  },
  {
   "cell_type": "markdown",
   "metadata": {},
   "source": [
    "#### A"
   ]
  },
  {
   "cell_type": "markdown",
   "metadata": {},
   "source": [
    "Primero se limpia el precio"
   ]
  },
  {
   "cell_type": "code",
   "execution_count": 157,
   "metadata": {},
   "outputs": [
    {
     "data": {
      "text/plain": [
       "0    $1.050.000\n",
       "1    $3.930.000\n",
       "2      $750.000\n",
       "Name: price, dtype: object"
      ]
     },
     "execution_count": 157,
     "metadata": {},
     "output_type": "execute_result"
    }
   ],
   "source": [
    "data['price'].head(3)"
   ]
  },
  {
   "cell_type": "markdown",
   "metadata": {},
   "source": [
    "Se observa que son de tipo `object`, pues el precio contiene el signo peso '$' y los puntos. Convendría eliminar este signo y los puntos para poder pasar los datos a `float64`."
   ]
  },
  {
   "cell_type": "code",
   "execution_count": 158,
   "metadata": {},
   "outputs": [
    {
     "data": {
      "text/plain": [
       "0    1050000\n",
       "1    3930000\n",
       "2     750000\n",
       "Name: price, dtype: object"
      ]
     },
     "execution_count": 158,
     "metadata": {},
     "output_type": "execute_result"
    }
   ],
   "source": [
    "data['price'] = data['price'].str.replace('$','')\n",
    "data['price'] = data['price'].str.replace('.','')\n",
    "data['price'].head(3)"
   ]
  },
  {
   "cell_type": "code",
   "execution_count": 159,
   "metadata": {},
   "outputs": [
    {
     "data": {
      "text/plain": [
       "0    1050000.0\n",
       "1    3930000.0\n",
       "2     750000.0\n",
       "Name: price, dtype: float64"
      ]
     },
     "execution_count": 159,
     "metadata": {},
     "output_type": "execute_result"
    }
   ],
   "source": [
    "#Se cambia el tipo a float64\n",
    "data['price'] = data['price'].astype('float')\n",
    "data['price'].head(3)"
   ]
  },
  {
   "cell_type": "markdown",
   "metadata": {},
   "source": [
    "Ahora se limpia el área"
   ]
  },
  {
   "cell_type": "code",
   "execution_count": 160,
   "metadata": {},
   "outputs": [
    {
     "data": {
      "text/plain": [
       "18390    164.34 m2\n",
       "18391     110.0 m2\n",
       "18392     106.0 m2\n",
       "18393     135.0 m2\n",
       "Name: surface, dtype: object"
      ]
     },
     "execution_count": 160,
     "metadata": {},
     "output_type": "execute_result"
    }
   ],
   "source": [
    "data['surface'].tail(4)"
   ]
  },
  {
   "cell_type": "markdown",
   "metadata": {},
   "source": [
    "Se deben eliminar los carácteres ' m2' al final del número, y luego cambiar el tipo a `float`."
   ]
  },
  {
   "cell_type": "code",
   "execution_count": 161,
   "metadata": {},
   "outputs": [
    {
     "data": {
      "text/plain": [
       "18390    164.34\n",
       "18391    110.00\n",
       "18392    106.00\n",
       "18393    135.00\n",
       "Name: surface, dtype: float64"
      ]
     },
     "execution_count": 161,
     "metadata": {},
     "output_type": "execute_result"
    }
   ],
   "source": [
    "data['surface'] = data['surface'].str.replace(' m2','')\n",
    "data['surface'] = data['surface'].astype('float')\n",
    "data['surface'].tail(4)"
   ]
  },
  {
   "cell_type": "markdown",
   "metadata": {},
   "source": [
    "Ahora se limpia el número de habitaciones"
   ]
  },
  {
   "cell_type": "code",
   "execution_count": 162,
   "metadata": {},
   "outputs": [
    {
     "data": {
      "text/plain": [
       "0    3\n",
       "1    3\n",
       "2    3\n",
       "Name: n_rooms, dtype: object"
      ]
     },
     "execution_count": 162,
     "metadata": {},
     "output_type": "execute_result"
    }
   ],
   "source": [
    "data['n_rooms'].head(3)"
   ]
  },
  {
   "cell_type": "markdown",
   "metadata": {},
   "source": [
    "Parece que fueran números enteros, pero el tipo de la columna es object"
   ]
  },
  {
   "cell_type": "code",
   "execution_count": 163,
   "metadata": {},
   "outputs": [
    {
     "data": {
      "text/plain": [
       "array(['3', '5', '4', '2', '1', nan, '5+', 3.0, 5.0, 4.0, 2.0, 1.0],\n",
       "      dtype=object)"
      ]
     },
     "execution_count": 163,
     "metadata": {},
     "output_type": "execute_result"
    }
   ],
   "source": [
    "#Se ven los valores de la columna\n",
    "data['n_rooms'].unique()"
   ]
  },
  {
   "cell_type": "markdown",
   "metadata": {},
   "source": [
    "Se observa que la columna tiene valores de tipo string y float. Más aún se ve que se podría cambiar inmediatamente el tipo a `float` sino existiera el valor `5+`."
   ]
  },
  {
   "cell_type": "code",
   "execution_count": 164,
   "metadata": {},
   "outputs": [
    {
     "data": {
      "text/plain": [
       "2      6571\n",
       "1      6271\n",
       "3      1351\n",
       "4      1198\n",
       "1.0    1040\n",
       "2.0     938\n",
       "5       862\n",
       "3.0      52\n",
       "5.0      36\n",
       "4.0      32\n",
       "5+        9\n",
       "Name: n_rooms, dtype: int64"
      ]
     },
     "execution_count": 164,
     "metadata": {},
     "output_type": "execute_result"
    }
   ],
   "source": [
    "#Se cuenta cuantas entradas hay de cada valor\n",
    "data['n_rooms'].value_counts()"
   ]
  },
  {
   "cell_type": "markdown",
   "metadata": {},
   "source": [
    "Se ve que solo son 9 las entradas con valor `5+`, por lo que es una parte infima del total del dataset que es de $18394$ entradas, simplemente se podrían eliminar. Pero como no se desea botar datos, se cambiará el valor `5+` por $6$, dado que es el entero mayor a 5 más cercano."
   ]
  },
  {
   "cell_type": "code",
   "execution_count": 165,
   "metadata": {},
   "outputs": [
    {
     "data": {
      "text/plain": [
       "array(['3', '5', '4', '2', '1', nan, 6, 3.0, 5.0, 4.0, 2.0, 1.0],\n",
       "      dtype=object)"
      ]
     },
     "execution_count": 165,
     "metadata": {},
     "output_type": "execute_result"
    }
   ],
   "source": [
    "data['n_rooms'] = data['n_rooms'].replace('5+',6)\n",
    "#Se reemplazan el valor que daba problemas, y se muestran los valores de las entradas\n",
    "data['n_rooms'].unique()"
   ]
  },
  {
   "cell_type": "code",
   "execution_count": 166,
   "metadata": {},
   "outputs": [
    {
     "data": {
      "text/plain": [
       "0    3.0\n",
       "1    3.0\n",
       "2    3.0\n",
       "Name: n_rooms, dtype: float64"
      ]
     },
     "execution_count": 166,
     "metadata": {},
     "output_type": "execute_result"
    }
   ],
   "source": [
    "#Como esta correcto, se puede cambiar el tipo de la columna\n",
    "data['n_rooms'] = data['n_rooms'].astype('float')\n",
    "data['n_rooms'].head(3)"
   ]
  },
  {
   "cell_type": "markdown",
   "metadata": {},
   "source": [
    "Por último se limpia el número de baños"
   ]
  },
  {
   "cell_type": "code",
   "execution_count": 167,
   "metadata": {},
   "outputs": [
    {
     "data": {
      "text/plain": [
       "18391    3\n",
       "18392    3\n",
       "18393    2\n",
       "Name: n_bath, dtype: object"
      ]
     },
     "execution_count": 167,
     "metadata": {},
     "output_type": "execute_result"
    }
   ],
   "source": [
    "data['n_bath'].tail(3)"
   ]
  },
  {
   "cell_type": "markdown",
   "metadata": {},
   "source": [
    "Nuevamente parecen ser enteros, pero el tipo es object"
   ]
  },
  {
   "cell_type": "code",
   "execution_count": 168,
   "metadata": {},
   "outputs": [
    {
     "data": {
      "text/plain": [
       "array(['2', '1', '4', '3', nan, '5', '5+', 2.0, 3.0, 4.0, 5.0, 1.0],\n",
       "      dtype=object)"
      ]
     },
     "execution_count": 168,
     "metadata": {},
     "output_type": "execute_result"
    }
   ],
   "source": [
    "#Se ven los valores de la columna\n",
    "data['n_bath'].unique()"
   ]
  },
  {
   "cell_type": "markdown",
   "metadata": {},
   "source": [
    "Nuevamente el error viene dado por `5+`, por lo que se procede de igual manera que en `n_rooms`."
   ]
  },
  {
   "cell_type": "code",
   "execution_count": 169,
   "metadata": {},
   "outputs": [
    {
     "data": {
      "text/plain": [
       "0    2.0\n",
       "1    2.0\n",
       "2    1.0\n",
       "Name: n_bath, dtype: float64"
      ]
     },
     "execution_count": 169,
     "metadata": {},
     "output_type": "execute_result"
    }
   ],
   "source": [
    "data['n_bath'] = data['n_bath'].replace('5+',6) #Se reemplazan '5+' por 6\n",
    "data['n_bath'] = data['n_bath'].astype('float') #Se cambia el tipo a float\n",
    "data['n_bath'].head(3)"
   ]
  },
  {
   "cell_type": "markdown",
   "metadata": {},
   "source": [
    "Finalmente se muestran nuevamente los tipos de las columnas"
   ]
  },
  {
   "cell_type": "code",
   "execution_count": 170,
   "metadata": {},
   "outputs": [
    {
     "data": {
      "text/plain": [
       "property_type|rent_type|location     object\n",
       "price                               float64\n",
       "n_rooms                             float64\n",
       "n_bath                              float64\n",
       "surface                             float64\n",
       "details                              object\n",
       "url                                  object\n",
       "metrocuadrado_index                 float64\n",
       "Furnished                            object\n",
       "dtype: object"
      ]
     },
     "execution_count": 170,
     "metadata": {},
     "output_type": "execute_result"
    }
   ],
   "source": [
    "data.dtypes"
   ]
  },
  {
   "cell_type": "markdown",
   "metadata": {},
   "source": [
    "#### B"
   ]
  },
  {
   "cell_type": "markdown",
   "metadata": {},
   "source": [
    "Se debe dividir la columna `property_type|rent_type|location` en 3 columnas distintas."
   ]
  },
  {
   "cell_type": "code",
   "execution_count": 171,
   "metadata": {},
   "outputs": [],
   "source": [
    "#Se hace una copia de la data por si se realiza un error\n",
    "copia_seguridad = data.copy()"
   ]
  },
  {
   "cell_type": "code",
   "execution_count": 151,
   "metadata": {},
   "outputs": [],
   "source": [
    "#Cuando algo salga mal correr esta celda\n",
    "data = copia_seguridad.copy()"
   ]
  },
  {
   "cell_type": "code",
   "execution_count": 172,
   "metadata": {},
   "outputs": [
    {
     "data": {
      "text/plain": [
       "0          Casa en Arriendo, LA SOLEDAD NORTE Bogotá D.C..\n",
       "1        Casa en Arriendo, CIUDAD SALITRE SUR-ORIENTAL ...\n",
       "2        Casa en Arriendo, VILLA DE LOS ALPES II SECTOR...\n",
       "3              Casa en Arriendo, PARIS GAITAN Bogotá D.C..\n",
       "4        Casa en Arriendo, BALCONES DE ORIENTE Bogotá D...\n",
       "                               ...                        \n",
       "18389    Apartamento en Arriendo, CHICO NORTE Bogotá D.C..\n",
       "18390    Apartamento en Arriendo, CHICO NORTE II Bogotá...\n",
       "18391    Apartamento en Venta Y Arriendo, CHICO NORTE B...\n",
       "18392    Apartamento en Arriendo, MOLINOS NORTE Bogotá ...\n",
       "18393       Apartamento en Arriendo, EL NOGAL Bogotá D.C..\n",
       "Name: property_type|rent_type|location, Length: 18394, dtype: object"
      ]
     },
     "execution_count": 172,
     "metadata": {},
     "output_type": "execute_result"
    }
   ],
   "source": [
    "#Se muestran unos pocos datos de esta columna\n",
    "data['property_type|rent_type|location']"
   ]
  },
  {
   "cell_type": "markdown",
   "metadata": {},
   "source": [
    "Se pueden deducir varias cosas:\n",
    "1. El tipo de propiedad es la primera palabra del string.\n",
    "2. El tipo de renta aparece después de la palabra 'en' y un espacio ' '.\n",
    "3. El lugar esta después de la coma."
   ]
  },
  {
   "cell_type": "markdown",
   "metadata": {},
   "source": [
    "En primer lugar se decide dividir el string en dos partes separadas por la coma."
   ]
  },
  {
   "cell_type": "code",
   "execution_count": 173,
   "metadata": {},
   "outputs": [
    {
     "data": {
      "text/html": [
       "<div>\n",
       "<style scoped>\n",
       "    .dataframe tbody tr th:only-of-type {\n",
       "        vertical-align: middle;\n",
       "    }\n",
       "\n",
       "    .dataframe tbody tr th {\n",
       "        vertical-align: top;\n",
       "    }\n",
       "\n",
       "    .dataframe thead th {\n",
       "        text-align: right;\n",
       "    }\n",
       "</style>\n",
       "<table border=\"1\" class=\"dataframe\">\n",
       "  <thead>\n",
       "    <tr style=\"text-align: right;\">\n",
       "      <th></th>\n",
       "      <th>0</th>\n",
       "      <th>1</th>\n",
       "    </tr>\n",
       "  </thead>\n",
       "  <tbody>\n",
       "    <tr>\n",
       "      <th>0</th>\n",
       "      <td>Casa en Arriendo</td>\n",
       "      <td>LA SOLEDAD NORTE Bogotá D.C..</td>\n",
       "    </tr>\n",
       "    <tr>\n",
       "      <th>1</th>\n",
       "      <td>Casa en Arriendo</td>\n",
       "      <td>CIUDAD SALITRE SUR-ORIENTAL Bogotá D.C..</td>\n",
       "    </tr>\n",
       "    <tr>\n",
       "      <th>2</th>\n",
       "      <td>Casa en Arriendo</td>\n",
       "      <td>VILLA DE LOS ALPES II SECTOR Bogotá D.C..</td>\n",
       "    </tr>\n",
       "  </tbody>\n",
       "</table>\n",
       "</div>"
      ],
      "text/plain": [
       "                  0                                           1\n",
       "0  Casa en Arriendo               LA SOLEDAD NORTE Bogotá D.C..\n",
       "1  Casa en Arriendo    CIUDAD SALITRE SUR-ORIENTAL Bogotá D.C..\n",
       "2  Casa en Arriendo   VILLA DE LOS ALPES II SECTOR Bogotá D.C.."
      ]
     },
     "execution_count": 173,
     "metadata": {},
     "output_type": "execute_result"
    }
   ],
   "source": [
    "new_columns = data['property_type|rent_type|location'].str.split(pat=',', expand=True)\n",
    "new_columns.head(3)"
   ]
  },
  {
   "cell_type": "code",
   "execution_count": 174,
   "metadata": {},
   "outputs": [
    {
     "data": {
      "text/html": [
       "<div>\n",
       "<style scoped>\n",
       "    .dataframe tbody tr th:only-of-type {\n",
       "        vertical-align: middle;\n",
       "    }\n",
       "\n",
       "    .dataframe tbody tr th {\n",
       "        vertical-align: top;\n",
       "    }\n",
       "\n",
       "    .dataframe thead th {\n",
       "        text-align: right;\n",
       "    }\n",
       "</style>\n",
       "<table border=\"1\" class=\"dataframe\">\n",
       "  <thead>\n",
       "    <tr style=\"text-align: right;\">\n",
       "      <th></th>\n",
       "      <th>price</th>\n",
       "      <th>n_rooms</th>\n",
       "      <th>n_bath</th>\n",
       "      <th>surface</th>\n",
       "      <th>details</th>\n",
       "      <th>url</th>\n",
       "      <th>metrocuadrado_index</th>\n",
       "      <th>Furnished</th>\n",
       "      <th>property_type|rent_type</th>\n",
       "      <th>location</th>\n",
       "    </tr>\n",
       "  </thead>\n",
       "  <tbody>\n",
       "    <tr>\n",
       "      <th>0</th>\n",
       "      <td>1050000.0</td>\n",
       "      <td>3.0</td>\n",
       "      <td>2.0</td>\n",
       "      <td>63.0</td>\n",
       "      <td>Excelente casa cerca de la calle 80 y Avenida ...</td>\n",
       "      <td>https://www.metrocuadrado.com/inmueble/arriend...</td>\n",
       "      <td>25.6</td>\n",
       "      <td>No</td>\n",
       "      <td>Casa en Arriendo</td>\n",
       "      <td>LA SOLEDAD NORTE Bogotá D.C..</td>\n",
       "    </tr>\n",
       "    <tr>\n",
       "      <th>1</th>\n",
       "      <td>3930000.0</td>\n",
       "      <td>3.0</td>\n",
       "      <td>2.0</td>\n",
       "      <td>100.0</td>\n",
       "      <td>Se arrienda casa bonita totalmente amoblada co...</td>\n",
       "      <td>https://www.metrocuadrado.com/inmueble/arriend...</td>\n",
       "      <td>57.3</td>\n",
       "      <td>No</td>\n",
       "      <td>Casa en Arriendo</td>\n",
       "      <td>CIUDAD SALITRE SUR-ORIENTAL Bogotá D.C..</td>\n",
       "    </tr>\n",
       "    <tr>\n",
       "      <th>2</th>\n",
       "      <td>750000.0</td>\n",
       "      <td>3.0</td>\n",
       "      <td>1.0</td>\n",
       "      <td>90.0</td>\n",
       "      <td>CASA DE TRES NIVELES TRES ALCOBAS SALA COMEDOR...</td>\n",
       "      <td>https://www.metrocuadrado.com/inmueble/arriend...</td>\n",
       "      <td>12.2</td>\n",
       "      <td>No</td>\n",
       "      <td>Casa en Arriendo</td>\n",
       "      <td>VILLA DE LOS ALPES II SECTOR Bogotá D.C..</td>\n",
       "    </tr>\n",
       "  </tbody>\n",
       "</table>\n",
       "</div>"
      ],
      "text/plain": [
       "       price  n_rooms  n_bath  surface  \\\n",
       "0  1050000.0      3.0     2.0     63.0   \n",
       "1  3930000.0      3.0     2.0    100.0   \n",
       "2   750000.0      3.0     1.0     90.0   \n",
       "\n",
       "                                             details  \\\n",
       "0  Excelente casa cerca de la calle 80 y Avenida ...   \n",
       "1  Se arrienda casa bonita totalmente amoblada co...   \n",
       "2  CASA DE TRES NIVELES TRES ALCOBAS SALA COMEDOR...   \n",
       "\n",
       "                                                 url  metrocuadrado_index  \\\n",
       "0  https://www.metrocuadrado.com/inmueble/arriend...                 25.6   \n",
       "1  https://www.metrocuadrado.com/inmueble/arriend...                 57.3   \n",
       "2  https://www.metrocuadrado.com/inmueble/arriend...                 12.2   \n",
       "\n",
       "  Furnished property_type|rent_type  \\\n",
       "0        No        Casa en Arriendo   \n",
       "1        No        Casa en Arriendo   \n",
       "2        No        Casa en Arriendo   \n",
       "\n",
       "                                     location  \n",
       "0               LA SOLEDAD NORTE Bogotá D.C..  \n",
       "1    CIUDAD SALITRE SUR-ORIENTAL Bogotá D.C..  \n",
       "2   VILLA DE LOS ALPES II SECTOR Bogotá D.C..  "
      ]
     },
     "execution_count": 174,
     "metadata": {},
     "output_type": "execute_result"
    }
   ],
   "source": [
    "#Se insertan las columnas en la data \n",
    "data[['property_type|rent_type', 'location']] = new_columns\n",
    "\n",
    "#Se elimina la columna original\n",
    "data.drop('property_type|rent_type|location', axis=1, inplace=True)\n",
    "\n",
    "data.head(3)"
   ]
  },
  {
   "cell_type": "markdown",
   "metadata": {},
   "source": [
    "Ahora se divide la columna `property_type|rent_type` en dos columnas más."
   ]
  },
  {
   "cell_type": "code",
   "execution_count": 175,
   "metadata": {},
   "outputs": [
    {
     "data": {
      "text/html": [
       "<div>\n",
       "<style scoped>\n",
       "    .dataframe tbody tr th:only-of-type {\n",
       "        vertical-align: middle;\n",
       "    }\n",
       "\n",
       "    .dataframe tbody tr th {\n",
       "        vertical-align: top;\n",
       "    }\n",
       "\n",
       "    .dataframe thead th {\n",
       "        text-align: right;\n",
       "    }\n",
       "</style>\n",
       "<table border=\"1\" class=\"dataframe\">\n",
       "  <thead>\n",
       "    <tr style=\"text-align: right;\">\n",
       "      <th></th>\n",
       "      <th>0</th>\n",
       "      <th>1</th>\n",
       "    </tr>\n",
       "  </thead>\n",
       "  <tbody>\n",
       "    <tr>\n",
       "      <th>0</th>\n",
       "      <td>Casa</td>\n",
       "      <td>Arriendo</td>\n",
       "    </tr>\n",
       "    <tr>\n",
       "      <th>1</th>\n",
       "      <td>Casa</td>\n",
       "      <td>Arriendo</td>\n",
       "    </tr>\n",
       "    <tr>\n",
       "      <th>2</th>\n",
       "      <td>Casa</td>\n",
       "      <td>Arriendo</td>\n",
       "    </tr>\n",
       "  </tbody>\n",
       "</table>\n",
       "</div>"
      ],
      "text/plain": [
       "       0         1\n",
       "0  Casa   Arriendo\n",
       "1  Casa   Arriendo\n",
       "2  Casa   Arriendo"
      ]
     },
     "execution_count": 175,
     "metadata": {},
     "output_type": "execute_result"
    }
   ],
   "source": [
    "new_columns = data['property_type|rent_type'].str.split(pat='en ', expand=True)\n",
    "new_columns.head(3)"
   ]
  },
  {
   "cell_type": "code",
   "execution_count": 176,
   "metadata": {},
   "outputs": [
    {
     "data": {
      "text/html": [
       "<div>\n",
       "<style scoped>\n",
       "    .dataframe tbody tr th:only-of-type {\n",
       "        vertical-align: middle;\n",
       "    }\n",
       "\n",
       "    .dataframe tbody tr th {\n",
       "        vertical-align: top;\n",
       "    }\n",
       "\n",
       "    .dataframe thead th {\n",
       "        text-align: right;\n",
       "    }\n",
       "</style>\n",
       "<table border=\"1\" class=\"dataframe\">\n",
       "  <thead>\n",
       "    <tr style=\"text-align: right;\">\n",
       "      <th></th>\n",
       "      <th>price</th>\n",
       "      <th>n_rooms</th>\n",
       "      <th>n_bath</th>\n",
       "      <th>surface</th>\n",
       "      <th>details</th>\n",
       "      <th>url</th>\n",
       "      <th>metrocuadrado_index</th>\n",
       "      <th>Furnished</th>\n",
       "      <th>location</th>\n",
       "      <th>property</th>\n",
       "      <th>rent</th>\n",
       "    </tr>\n",
       "  </thead>\n",
       "  <tbody>\n",
       "    <tr>\n",
       "      <th>0</th>\n",
       "      <td>1050000.0</td>\n",
       "      <td>3.0</td>\n",
       "      <td>2.0</td>\n",
       "      <td>63.0</td>\n",
       "      <td>Excelente casa cerca de la calle 80 y Avenida ...</td>\n",
       "      <td>https://www.metrocuadrado.com/inmueble/arriend...</td>\n",
       "      <td>25.6</td>\n",
       "      <td>No</td>\n",
       "      <td>LA SOLEDAD NORTE Bogotá D.C..</td>\n",
       "      <td>Casa</td>\n",
       "      <td>Arriendo</td>\n",
       "    </tr>\n",
       "    <tr>\n",
       "      <th>1</th>\n",
       "      <td>3930000.0</td>\n",
       "      <td>3.0</td>\n",
       "      <td>2.0</td>\n",
       "      <td>100.0</td>\n",
       "      <td>Se arrienda casa bonita totalmente amoblada co...</td>\n",
       "      <td>https://www.metrocuadrado.com/inmueble/arriend...</td>\n",
       "      <td>57.3</td>\n",
       "      <td>No</td>\n",
       "      <td>CIUDAD SALITRE SUR-ORIENTAL Bogotá D.C..</td>\n",
       "      <td>Casa</td>\n",
       "      <td>Arriendo</td>\n",
       "    </tr>\n",
       "    <tr>\n",
       "      <th>2</th>\n",
       "      <td>750000.0</td>\n",
       "      <td>3.0</td>\n",
       "      <td>1.0</td>\n",
       "      <td>90.0</td>\n",
       "      <td>CASA DE TRES NIVELES TRES ALCOBAS SALA COMEDOR...</td>\n",
       "      <td>https://www.metrocuadrado.com/inmueble/arriend...</td>\n",
       "      <td>12.2</td>\n",
       "      <td>No</td>\n",
       "      <td>VILLA DE LOS ALPES II SECTOR Bogotá D.C..</td>\n",
       "      <td>Casa</td>\n",
       "      <td>Arriendo</td>\n",
       "    </tr>\n",
       "  </tbody>\n",
       "</table>\n",
       "</div>"
      ],
      "text/plain": [
       "       price  n_rooms  n_bath  surface  \\\n",
       "0  1050000.0      3.0     2.0     63.0   \n",
       "1  3930000.0      3.0     2.0    100.0   \n",
       "2   750000.0      3.0     1.0     90.0   \n",
       "\n",
       "                                             details  \\\n",
       "0  Excelente casa cerca de la calle 80 y Avenida ...   \n",
       "1  Se arrienda casa bonita totalmente amoblada co...   \n",
       "2  CASA DE TRES NIVELES TRES ALCOBAS SALA COMEDOR...   \n",
       "\n",
       "                                                 url  metrocuadrado_index  \\\n",
       "0  https://www.metrocuadrado.com/inmueble/arriend...                 25.6   \n",
       "1  https://www.metrocuadrado.com/inmueble/arriend...                 57.3   \n",
       "2  https://www.metrocuadrado.com/inmueble/arriend...                 12.2   \n",
       "\n",
       "  Furnished                                    location property      rent  \n",
       "0        No               LA SOLEDAD NORTE Bogotá D.C..    Casa   Arriendo  \n",
       "1        No    CIUDAD SALITRE SUR-ORIENTAL Bogotá D.C..    Casa   Arriendo  \n",
       "2        No   VILLA DE LOS ALPES II SECTOR Bogotá D.C..    Casa   Arriendo  "
      ]
     },
     "execution_count": 176,
     "metadata": {},
     "output_type": "execute_result"
    }
   ],
   "source": [
    "#Se insertan las columnas en la data y se elimina la columna original\n",
    "data[['property','rent']] = new_columns\n",
    "data.drop('property_type|rent_type', axis=1, inplace=True)\n",
    "data.head(3)"
   ]
  },
  {
   "cell_type": "markdown",
   "metadata": {},
   "source": [
    "Por último se revisa que no hayan espacios vacíos al inicio o final de las nuevas columnas."
   ]
  },
  {
   "cell_type": "code",
   "execution_count": 178,
   "metadata": {
    "scrolled": true
   },
   "outputs": [
    {
     "name": "stdout",
     "output_type": "stream",
     "text": [
      " LA SOLEDAD NORTE Bogotá D.C..\n",
      "Casa \n",
      "Arriendo\n"
     ]
    }
   ],
   "source": [
    "print(data['location'][0])\n",
    "print(data['property'][0])\n",
    "print(data['rent'][0])"
   ]
  },
  {
   "cell_type": "markdown",
   "metadata": {},
   "source": [
    "Tanto location como property tienen espacios, por lo que se utiliza strip para eliminarlos."
   ]
  },
  {
   "cell_type": "code",
   "execution_count": 182,
   "metadata": {},
   "outputs": [],
   "source": [
    "data['location'] = data['location'].str.strip()\n",
    "data['property'] = data['property'].str.strip()"
   ]
  },
  {
   "cell_type": "markdown",
   "metadata": {},
   "source": [
    "### Parte 3"
   ]
  },
  {
   "cell_type": "markdown",
   "metadata": {},
   "source": []
  },
  {
   "cell_type": "markdown",
   "metadata": {},
   "source": [
    "### Parte 4"
   ]
  },
  {
   "cell_type": "markdown",
   "metadata": {},
   "source": [
    "### Parte 5"
   ]
  },
  {
   "cell_type": "markdown",
   "metadata": {},
   "source": [
    "### Parte 6"
   ]
  },
  {
   "cell_type": "markdown",
   "metadata": {},
   "source": [
    "## P2"
   ]
  },
  {
   "cell_type": "code",
   "execution_count": null,
   "metadata": {},
   "outputs": [],
   "source": []
  },
  {
   "cell_type": "markdown",
   "metadata": {},
   "source": [
    "# P3 "
   ]
  },
  {
   "cell_type": "markdown",
   "metadata": {},
   "source": [
    "## Implementación"
   ]
  },
  {
   "cell_type": "markdown",
   "metadata": {},
   "source": [
    "### Parte 1"
   ]
  },
  {
   "cell_type": "code",
   "execution_count": 120,
   "metadata": {},
   "outputs": [],
   "source": [
    "from sklearn.base import BaseEstimator as BE\n",
    "from sklearn.base import RegressorMixin as RM\n",
    "import numpy as np\n",
    "\n",
    "class RegresionBayesianaEmpirica(BE,RM):\n",
    "    \n",
    "    def __init__(self,alpha,beta,tol=1e-15,maxiter=100):\n",
    "        self.set_params(alpha=alpha,beta=beta,tol=tol,maxiter=maxiter)\n",
    "        \n",
    "    def get_posteriori(self,X,y,alpha,beta):\n",
    "        N,d = X.shape\n",
    "        try:\n",
    "            S_N = np.linalg.inv(alpha*np.eye(d) + beta*np.dot(X.T,X)) # dim dxd\n",
    "        except LinAlgError:\n",
    "            print('Matriz S_N no invertible')\n",
    "        m_N = beta*np.dot(S_N,np.dot(X.T,y)) # dim dx1\n",
    "\n",
    "        return m_N, S_N\n",
    "    \n",
    "    \n",
    "    def fit(self,X,y,i=0,verbose=True):\n",
    "        i += 1\n",
    "        if verbose:\n",
    "            print('Iteracion',i)\n",
    "            print('Valores actuales: alpha=',self.alpha,' beta=',self.beta)\n",
    "        if i <= self.maxiter:\n",
    "            N,d = X.shape\n",
    "            eigen_val, eigen_vec = np.linalg.eig(self.beta*np.dot(X.T,X))\n",
    "            eigen_val = np.real_if_close(eigen_val,tol=1)\n",
    "            gamma = np.sum(eigen_val/(self.alpha + eigen_val))\n",
    "            m_N, S_N = self.get_posteriori(X,y,self.alpha,self.beta)\n",
    "        \n",
    "            new_alpha = gamma/(np.dot(m_N.T,m_N))\n",
    "            new_beta = (N-gamma)/(np.sum((y-np.dot(m_N.T,X.T))**2))\n",
    "        \n",
    "            if np.abs(self.alpha - new_alpha) < self.tol and np.abs(self.beta - new_beta) < self.tol:\n",
    "                self.alpha = new_alpha\n",
    "                self.beta = new_beta\n",
    "                self.m_N = m_N\n",
    "                self.S_N = S_N\n",
    "                if verbose:\n",
    "                    print('Valores finales: alpha=',self.alpha,' beta=',self.beta)\n",
    "            else:\n",
    "                self.alpha = new_alpha\n",
    "                self.beta = new_beta\n",
    "                self.m_N = m_N\n",
    "                self.S_N = S_N\n",
    "                self.fit(X,y,i)\n",
    "                \n",
    "    \n",
    "    def predict(self,X_,return_std=False):\n",
    "        y_ = np.dot(X_,self.m_N)\n",
    "        y_std = np.sqrt((1/self.beta) + np.diag(np.dot(X_,np.dot(self.S_N,X_.T))))\n",
    "        \n",
    "        if return_std:\n",
    "            return (y_,y_std)\n",
    "        return y_"
   ]
  },
  {
   "cell_type": "markdown",
   "metadata": {},
   "source": [
    "### Parte 2"
   ]
  },
  {
   "cell_type": "code",
   "execution_count": 164,
   "metadata": {},
   "outputs": [],
   "source": [
    "import pandas as pd\n",
    "import numpy as np\n",
    "\n",
    "#Datos para prueba\n",
    "df = pd.read_csv('data.csv')"
   ]
  },
  {
   "cell_type": "code",
   "execution_count": 165,
   "metadata": {},
   "outputs": [],
   "source": [
    "df.replace([np.inf, -np.inf], np.nan, inplace=True)\n",
    "df.dropna(inplace=True)\n",
    "df.drop(df[df.surface==0].index, inplace=True)\n",
    "df.drop(['price','surface','url','details','CodigoUPZ','personas','property'],axis=1,inplace=True)#"
   ]
  },
  {
   "cell_type": "code",
   "execution_count": 166,
   "metadata": {},
   "outputs": [
    {
     "name": "stdout",
     "output_type": "stream",
     "text": [
      "<class 'pandas.core.frame.DataFrame'>\n",
      "Int64Index: 16091 entries, 3 to 18393\n",
      "Data columns (total 18 columns):\n",
      "n_rooms                                    16091 non-null float64\n",
      "n_bath                                     16091 non-null float64\n",
      "metrocuadrado_index                        16091 non-null float64\n",
      "Furnished                                  16091 non-null object\n",
      "location                                   16091 non-null object\n",
      "rent                                       16091 non-null object\n",
      "Precio m2                                  16091 non-null float64\n",
      "Garajes                                    16091 non-null int64\n",
      "tipo de producto                           16091 non-null float64\n",
      "trabajoinf_ninos_5_17_anos_perc            16091 non-null float64\n",
      "trabajoinfampliado_ninos_5_17_anos_perc    16091 non-null float64\n",
      "jovenes_14_24_anos_nini_perc               16091 non-null float64\n",
      "indice_envegecimiento                      16091 non-null float64\n",
      "jefe_mujer_perc                            16091 non-null float64\n",
      "adultos_mayores_pobres_perc                16091 non-null float64\n",
      "indice_inseguridad                         16091 non-null float64\n",
      "areas_verdes_perc                          16091 non-null float64\n",
      "pob_density                                16091 non-null float64\n",
      "dtypes: float64(14), int64(1), object(3)\n",
      "memory usage: 2.3+ MB\n"
     ]
    }
   ],
   "source": [
    "df.info()"
   ]
  },
  {
   "cell_type": "code",
   "execution_count": 167,
   "metadata": {},
   "outputs": [],
   "source": [
    "df_y = df['Precio m2']#.to_numpy()\n",
    "df_X = df.drop('Precio m2',axis=1)#.to_numpy()\n",
    "\n",
    "#num_cols = df_X.select_dtypes(include=['int64', 'float64']).columns\n",
    "#cat_cols = df_X.select_dtypes(include=['object']).columns\n",
    "float_cols = ['pob_density']\n",
    "percentage_cols = ['n_rooms','n_bath','metrocuadrado_index','Garajes','trabajoinf_ninos_5_17_anos_perc',\n",
    "              'trabajoinfampliado_ninos_5_17_anos_perc','jovenes_14_24_anos_nini_perc','indice_envegecimiento',\n",
    "              'jefe_mujer_perc','adultos_mayores_pobres_perc','indice_inseguridad','areas_verdes_perc']\n",
    "cat_cols = ['Furnished','location','rent','tipo de producto']"
   ]
  },
  {
   "cell_type": "code",
   "execution_count": 168,
   "metadata": {},
   "outputs": [],
   "source": [
    "from sklearn.preprocessing import StandardScaler, MinMaxScaler, OneHotEncoder, PolynomialFeatures, FunctionTransformer\n",
    "from sklearn.compose import ColumnTransformer\n",
    "from sklearn.pipeline import Pipeline\n",
    "\n",
    "#cat pipe\n",
    "cat_pipe = Pipeline(steps=[('ordinal', OneHotEncoder(handle_unknown='ignore'))])\n",
    "\n",
    "#num pipe\n",
    "#num_pipe = Pipeline(steps=[('poly',PolynomialFeatures(degree=3)),('scaler',StandardScaler())])\n",
    "float_pipe = Pipeline(steps=[('scaler',StandardScaler()),('poly',PolynomialFeatures(degree=3))])\n",
    "percentage_pipe = Pipeline(steps=[('scaler',MinMaxScaler()),('poly',PolynomialFeatures(degree=3))])\n",
    "\n",
    "#Se diferencian columnas numéricas y categóricas\n",
    "prep = ColumnTransformer(transformers=[('flt',float_pipe,float_cols),('perc',percentage_pipe,percentage_cols),('cat',cat_pipe,cat_cols)])"
   ]
  },
  {
   "cell_type": "markdown",
   "metadata": {},
   "source": [
    "### Parte 3"
   ]
  },
  {
   "cell_type": "code",
   "execution_count": 169,
   "metadata": {},
   "outputs": [],
   "source": [
    "random_state = 7\n",
    "def run(df_X,df_y):\n",
    "    from sklearn.model_selection import train_test_split\n",
    "    import numpy as np\n",
    "    import pickle\n",
    "    \n",
    "    alpha_grid = np.linspace(1e-10,1e-5,3,endpoint=True)\n",
    "    beta_grid = np.linspace(1e-10,1e-5,3,endpoint=True)\n",
    "    \n",
    "    actual_R2 = 0\n",
    "    actual_RMSE = 0\n",
    "    \n",
    "    X_train, X_test, y_train, y_test = train_test_split(df_X, df_y, test_size=0.2, random_state=random_state)\n",
    "    def run_single(pipeline):\n",
    "        pipeline.fit(X_train,y_train)\n",
    "        print('Fit terminado', '\\n')\n",
    "        y_pred = pipeline.predict(X_test) \n",
    "\n",
    "        R_2 = pipeline.score(X_test, y_test)\n",
    "        RMSE = np.sqrt(np.mean((y_pred-y_test)**2))\n",
    "        return R_2, RMSE\n",
    "    \n",
    "    best_alpha = alpha_grid[0]\n",
    "    best_beta = beta_grid[0]\n",
    "    for alpha in alpha_grid:\n",
    "        for beta in beta_grid:\n",
    "            Tubo = Pipeline(steps=[('prep',prep),('clf', RegresionBayesianaEmpirica(alpha,beta))])\n",
    "            print(\"Empezando fit: alpha y beta iniciales\",[alpha,beta])\n",
    "            R_2, RMSE = run_single(Tubo)\n",
    "            if R_2 > actual_R2:\n",
    "                actual_R2 = R_2\n",
    "                actual_RMSE = RMSE\n",
    "                best_alpha = alpha\n",
    "                best_beta = beta\n",
    "                \n",
    "    best_fit = Pipeline(steps=[('prep',prep),('clf', RegresionBayesianaEmpirica(best_alpha,best_beta))])\n",
    "    best_fit.fit(X_train,y_train,clf__verbose=False)\n",
    "    filename = 'modelo.pkl'\n",
    "    pickle.dump(best_fit,open(filename,'wb'))\n",
    "    \n",
    "    print('RMSE:',actual_RMSE,' R_2:',actual_R2)"
   ]
  },
  {
   "cell_type": "code",
   "execution_count": 170,
   "metadata": {},
   "outputs": [
    {
     "name": "stdout",
     "output_type": "stream",
     "text": [
      "Empezando fit: alpha y beta iniciales [1e-10, 1e-10]\n",
      "Iteracion 1\n",
      "Valores actuales: alpha= 1e-10  beta= 1e-10\n",
      "Iteracion 2\n",
      "Valores actuales: alpha= 7.426618085220108e-12  beta= 3.940169346525641e-13\n",
      "Iteracion 3\n",
      "Valores actuales: alpha= 3.196548133399462e-11  beta= 3.994279635346027e-13\n",
      "Iteracion 4\n",
      "Valores actuales: alpha= 7.720029719024391e-11  beta= 3.999414575851797e-13\n",
      "Iteracion 5\n",
      "Valores actuales: alpha= 1.3773188621953584e-10  beta= 3.9977698036263363e-13\n",
      "Iteracion 6\n",
      "Valores actuales: alpha= 1.9931039409778445e-10  beta= 3.995646776464928e-13\n",
      "Iteracion 7\n",
      "Valores actuales: alpha= 2.5283577006326216e-10  beta= 3.993910429944042e-13\n",
      "Iteracion 8\n",
      "Valores actuales: alpha= 2.958996838152452e-10  beta= 3.992651845728542e-13\n",
      "Iteracion 9\n",
      "Valores actuales: alpha= 3.291581172890137e-10  beta= 3.9917692032169043e-13\n",
      "Iteracion 10\n",
      "Valores actuales: alpha= 3.5423057282882533e-10  beta= 3.991152819944527e-13\n",
      "Iteracion 11\n",
      "Valores actuales: alpha= 3.728428447163209e-10  beta= 3.990720798253454e-13\n",
      "Iteracion 12\n",
      "Valores actuales: alpha= 3.8651803899309846e-10  beta= 3.9904164766072225e-13\n",
      "Iteracion 13\n",
      "Valores actuales: alpha= 3.9649511871797914e-10  beta= 3.990201144079187e-13\n",
      "Iteracion 14\n",
      "Valores actuales: alpha= 4.0373845073368704e-10  beta= 3.9900482317671846e-13\n",
      "Iteracion 15\n",
      "Valores actuales: alpha= 4.0897893116710817e-10  beta= 3.9899393491663614e-13\n",
      "Iteracion 16\n",
      "Valores actuales: alpha= 4.1276109360309207e-10  beta= 3.9898616613190016e-13\n",
      "Iteracion 17\n",
      "Valores actuales: alpha= 4.1548600933016774e-10  beta= 3.989806148707917e-13\n",
      "Iteracion 18\n",
      "Valores actuales: alpha= 4.1744678050694593e-10  beta= 3.9897664388191917e-13\n",
      "Iteracion 19\n",
      "Valores actuales: alpha= 4.188564449763008e-10  beta= 3.9897380109133187e-13\n",
      "Iteracion 20\n",
      "Valores actuales: alpha= 4.1986925798425373e-10  beta= 3.9897176481869623e-13\n",
      "Iteracion 21\n",
      "Valores actuales: alpha= 4.2059661179999983e-10  beta= 3.9897030565707805e-13\n",
      "Iteracion 22\n",
      "Valores actuales: alpha= 4.2111879275788683e-10  beta= 3.9896925973867083e-13\n",
      "Iteracion 23\n",
      "Valores actuales: alpha= 4.21493588981575e-10  beta= 3.98968509873009e-13\n",
      "Iteracion 24\n",
      "Valores actuales: alpha= 4.217625546778533e-10  beta= 3.9896797217963577e-13\n",
      "Iteracion 25\n",
      "Valores actuales: alpha= 4.2195554992446775e-10  beta= 3.989675865832288e-13\n",
      "Iteracion 26\n",
      "Valores actuales: alpha= 4.2209402100078494e-10  beta= 3.9896731003870145e-13\n",
      "Iteracion 27\n",
      "Valores actuales: alpha= 4.2219336572323205e-10  beta= 3.989671116936297e-13\n",
      "Iteracion 28\n",
      "Valores actuales: alpha= 4.222646364797619e-10  beta= 3.989669694295803e-13\n",
      "Iteracion 29\n",
      "Valores actuales: alpha= 4.223157651139453e-10  beta= 3.9896686738700565e-13\n",
      "Iteracion 30\n",
      "Valores actuales: alpha= 4.223524432413849e-10  beta= 3.989667941928155e-13\n",
      "Iteracion 31\n",
      "Valores actuales: alpha= 4.223787545862717e-10  beta= 3.9896674169052606e-13\n",
      "Iteracion 32\n",
      "Valores actuales: alpha= 4.2239762901723695e-10  beta= 3.9896670403016453e-13\n",
      "Iteracion 33\n",
      "Valores actuales: alpha= 4.224111684680421e-10  beta= 3.9896667701584467e-13\n",
      "Iteracion 34\n",
      "Valores actuales: alpha= 4.224208808470211e-10  beta= 3.9896665763797807e-13\n",
      "Iteracion 35\n",
      "Valores actuales: alpha= 4.22427847887274e-10  beta= 3.9896664373782473e-13\n",
      "Iteracion 36\n",
      "Valores actuales: alpha= 4.2243284558144533e-10  beta= 3.98966633766923e-13\n",
      "Iteracion 37\n",
      "Valores actuales: alpha= 4.2243643058895695e-10  beta= 3.9896662661454986e-13\n",
      "Iteracion 38\n",
      "Valores actuales: alpha= 4.224390022265888e-10  beta= 3.9896662148396913e-13\n",
      "Iteracion 39\n",
      "Valores actuales: alpha= 4.2244084694031424e-10  beta= 3.989666178036683e-13\n",
      "Iteracion 40\n",
      "Valores actuales: alpha= 4.2244217020837444e-10  beta= 3.989666151636894e-13\n",
      "Valores finales: alpha= 4.2244311942738327e-10  beta= 3.989666132699605e-13\n",
      "Fit terminado \n",
      "\n",
      "Empezando fit: alpha y beta iniciales [1e-10, 5.0000500000000005e-06]\n",
      "Iteracion 1\n",
      "Valores actuales: alpha= 1e-10  beta= 5.0000500000000005e-06\n",
      "Iteracion 2\n",
      "Valores actuales: alpha= 6.539878345000874e-15  beta= 3.873324374146092e-13\n",
      "Iteracion 3\n",
      "Valores actuales: alpha= 3.035921099185512e-13  beta= 3.891520439780306e-13\n",
      "Iteracion 4\n",
      "Valores actuales: alpha= 6.296975677677521e-12  beta= 3.935029555782743e-13\n",
      "Iteracion 5\n",
      "Valores actuales: alpha= 2.936227325056798e-11  beta= 3.9927199277406033e-13\n",
      "Iteracion 6\n",
      "Valores actuales: alpha= 7.300018669624912e-11  beta= 3.999442462611489e-13\n",
      "Iteracion 7\n",
      "Valores actuales: alpha= 1.3284772655052947e-10  beta= 3.9979349165712244e-13\n",
      "Iteracion 8\n",
      "Valores actuales: alpha= 1.9477803475883757e-10  beta= 3.9958008894632e-13\n",
      "Iteracion 9\n",
      "Valores actuales: alpha= 2.4907190099086884e-10  beta= 3.9940266352620703e-13\n",
      "Iteracion 10\n",
      "Valores actuales: alpha= 2.9294192895175396e-10  beta= 3.9927340748801207e-13\n",
      "Iteracion 11\n",
      "Valores actuales: alpha= 3.269046885087434e-10  beta= 3.9918266179308606e-13\n",
      "Iteracion 12\n",
      "Valores actuales: alpha= 3.5254625491476163e-10  beta= 3.991192965976999e-13\n",
      "Iteracion 13\n",
      "Valores actuales: alpha= 3.7159957232049824e-10  beta= 3.9907490058864214e-13\n",
      "Iteracion 14\n",
      "Valores actuales: alpha= 3.8560808148673256e-10  beta= 3.9904363930171177e-13\n",
      "Iteracion 15\n",
      "Valores actuales: alpha= 3.958330177969167e-10  beta= 3.9902152634902043e-13\n",
      "Iteracion 16\n",
      "Valores actuales: alpha= 4.0325867367883023e-10  beta= 3.9900582729628125e-13\n",
      "Iteracion 17\n",
      "Valores actuales: alpha= 4.0863228018273835e-10  beta= 3.98994650690713e-13\n",
      "Iteracion 18\n",
      "Valores actuales: alpha= 4.12511145625208e-10  beta= 3.9898667724766727e-13\n",
      "Iteracion 19\n",
      "Valores actuales: alpha= 4.1530605220993503e-10  beta= 3.989809803072775e-13\n",
      "Iteracion 20\n",
      "Valores actuales: alpha= 4.173173509920606e-10  beta= 3.9897690540080127e-13\n",
      "Iteracion 21\n",
      "Valores actuales: alpha= 4.187634258321487e-10  beta= 3.9897398836738853e-13\n",
      "Iteracion 22\n",
      "Valores actuales: alpha= 4.198024422672195e-10  beta= 3.989718989929472e-13\n",
      "Iteracion 23\n",
      "Valores actuales: alpha= 4.205486364339312e-10  beta= 3.9897040181955707e-13\n",
      "Iteracion 24\n",
      "Valores actuales: alpha= 4.2108435470493823e-10  beta= 3.989693286752407e-13\n",
      "Iteracion 25\n",
      "Valores actuales: alpha= 4.214688732577777e-10  beta= 3.989685593007744e-13\n",
      "Iteracion 26\n",
      "Valores actuales: alpha= 4.2174481904246255e-10  beta= 3.989680076240492e-13\n",
      "Iteracion 27\n",
      "Valores actuales: alpha= 4.21942824385023e-10  beta= 3.9896761200258026e-13\n",
      "Iteracion 28\n",
      "Valores actuales: alpha= 4.2208489093048686e-10  beta= 3.989673282696702e-13\n",
      "Iteracion 29\n",
      "Valores actuales: alpha= 4.2218681560061563e-10  beta= 3.989671247696492e-13\n",
      "Iteracion 30\n",
      "Valores actuales: alpha= 4.2225993744647436e-10  beta= 3.9896697880857096e-13\n",
      "Iteracion 31\n",
      "Valores actuales: alpha= 4.2231239413545334e-10  beta= 3.9896687411440514e-13\n",
      "Iteracion 32\n",
      "Valores actuales: alpha= 4.223500250253371e-10  beta= 3.989667990183554e-13\n",
      "Iteracion 33\n",
      "Valores actuales: alpha= 4.2237701987088037e-10  beta= 3.989667451519122e-13\n",
      "Iteracion 34\n",
      "Valores actuales: alpha= 4.223963846256308e-10  beta= 3.9896670651305806e-13\n",
      "Iteracion 35\n",
      "Valores actuales: alpha= 4.224102758147018e-10  beta= 3.9896667879686525e-13\n",
      "Iteracion 36\n",
      "Valores actuales: alpha= 4.224202405132782e-10  beta= 3.989666589155395e-13\n",
      "Iteracion 37\n",
      "Valores actuales: alpha= 4.2242738855352494e-10  beta= 3.9896664465424795e-13\n",
      "Iteracion 38\n",
      "Valores actuales: alpha= 4.224325160861728e-10  beta= 3.989666344242953e-13\n",
      "Iteracion 39\n",
      "Valores actuales: alpha= 4.22436194231556e-10  beta= 3.989666270860996e-13\n",
      "Iteracion 40\n",
      "Valores actuales: alpha= 4.22438832680161e-10  beta= 3.98966621822224e-13\n",
      "Iteracion 41\n",
      "Valores actuales: alpha= 4.2244072531957034e-10  beta= 3.9896661804630753e-13\n",
      "Iteracion 42\n",
      "Valores actuales: alpha= 4.224420829662217e-10  beta= 3.989666153377411e-13\n",
      "Valores finales: alpha= 4.2244305684604126e-10  beta= 3.989666133948126e-13\n",
      "Fit terminado \n",
      "\n",
      "Empezando fit: alpha y beta iniciales [1e-10, 1e-05]\n",
      "Iteracion 1\n",
      "Valores actuales: alpha= 1e-10  beta= 1e-05\n",
      "Iteracion 2\n",
      "Valores actuales: alpha= 5.787474888227339e-15  beta= 3.872924736208566e-13\n",
      "Iteracion 3\n",
      "Valores actuales: alpha= 2.749410086725472e-13  beta= 3.8908128008048796e-13\n",
      "Iteracion 4\n",
      "Valores actuales: alpha= 5.8811639886952916e-12  beta= 3.9330603910640747e-13\n",
      "Iteracion 5\n",
      "Valores actuales: alpha= 2.8374238680135993e-11  beta= 3.9920051765910013e-13\n",
      "Iteracion 6\n",
      "Valores actuales: alpha= 7.137790728524259e-11  beta= 3.99944549345789e-13\n",
      "Iteracion 7\n",
      "Valores actuales: alpha= 1.30930699258547e-10  beta= 3.997999197787725e-13\n"
     ]
    },
    {
     "name": "stdout",
     "output_type": "stream",
     "text": [
      "Iteracion 8\n",
      "Valores actuales: alpha= 1.929836710738247e-10  beta= 3.995862129568203e-13\n",
      "Iteracion 9\n",
      "Valores actuales: alpha= 2.475756464281259e-10  beta= 3.9940730997723335e-13\n",
      "Iteracion 10\n",
      "Valores actuales: alpha= 2.917635691504164e-10  beta= 3.9927670073803873e-13\n",
      "Iteracion 11\n",
      "Valores actuales: alpha= 3.260057702742306e-10  beta= 3.991849616248775e-13\n",
      "Iteracion 12\n",
      "Valores actuales: alpha= 3.5187380639633163e-10  beta= 3.991209043608223e-13\n",
      "Iteracion 13\n",
      "Valores actuales: alpha= 3.711029330366756e-10  beta= 3.990760299336701e-13\n",
      "Iteracion 14\n",
      "Valores actuales: alpha= 3.852444508575908e-10  beta= 3.9904443649815546e-13\n",
      "Iteracion 15\n",
      "Valores actuales: alpha= 3.955683639305274e-10  beta= 3.9902209139905854e-13\n",
      "Iteracion 16\n",
      "Valores actuales: alpha= 4.030668623518364e-10  beta= 3.99006229079721e-13\n",
      "Iteracion 17\n",
      "Valores actuales: alpha= 4.0849367343463073e-10  beta= 3.989949370658417e-13\n",
      "Iteracion 18\n",
      "Valores actuales: alpha= 4.124111957620663e-10  beta= 3.9898688172443793e-13\n",
      "Iteracion 19\n",
      "Valores actuales: alpha= 4.1523408567668096e-10  beta= 3.989811264951742e-13\n",
      "Iteracion 20\n",
      "Valores actuales: alpha= 4.1726558845397343e-10  beta= 3.989770100134815e-13\n",
      "Iteracion 21\n",
      "Valores actuales: alpha= 4.1872622356762996e-10  beta= 3.989740632792125e-13\n",
      "Iteracion 22\n",
      "Valores actuales: alpha= 4.1977571920259477e-10  beta= 3.9897195266247985e-13\n",
      "Iteracion 23\n",
      "Valores actuales: alpha= 4.2052944826596083e-10  beta= 3.9897044028382406e-13\n",
      "Iteracion 24\n",
      "Valores actuales: alpha= 4.2107058073156114e-10  beta= 3.9896935624903776e-13\n",
      "Iteracion 25\n",
      "Valores actuales: alpha= 4.2145898777510786e-10  beta= 3.9896857907112443e-13\n",
      "Iteracion 26\n",
      "Valores actuales: alpha= 4.21737725321668e-10  beta= 3.989680218011898e-13\n",
      "Iteracion 27\n",
      "Valores actuales: alpha= 4.2193773452846666e-10  beta= 3.989676221698303e-13\n",
      "Iteracion 28\n",
      "Valores actuales: alpha= 4.220812391480185e-10  beta= 3.9896733556168403e-13\n",
      "Iteracion 29\n",
      "Valores actuales: alpha= 4.22184195721589e-10  beta= 3.9896712999977767e-13\n",
      "Iteracion 30\n",
      "Valores actuales: alpha= 4.2225805795193383e-10  beta= 3.989669825599611e-13\n",
      "Iteracion 31\n",
      "Valores actuales: alpha= 4.223110458276159e-10  beta= 3.9896687680521423e-13\n",
      "Iteracion 32\n",
      "Valores actuales: alpha= 4.223490577980132e-10  beta= 3.9896680094846166e-13\n",
      "Iteracion 33\n",
      "Valores actuales: alpha= 4.2237632602667927e-10  beta= 3.989667465363872e-13\n",
      "Iteracion 34\n",
      "Valores actuales: alpha= 4.223958868988618e-10  beta= 3.98966707506158e-13\n",
      "Iteracion 35\n",
      "Valores actuales: alpha= 4.2240991877467905e-10  beta= 3.989666795092321e-13\n",
      "Iteracion 36\n",
      "Valores actuales: alpha= 4.224199843950103e-10  beta= 3.9896665942653426e-13\n",
      "Iteracion 37\n",
      "Valores actuales: alpha= 4.2242720483091913e-10  beta= 3.989666450207958e-13\n",
      "Iteracion 38\n",
      "Valores actuales: alpha= 4.2243238429586306e-10  beta= 3.9896663468722887e-13\n",
      "Iteracion 39\n",
      "Valores actuales: alpha= 4.224360996941816e-10  beta= 3.989666272747084e-13\n",
      "Iteracion 40\n",
      "Valores actuales: alpha= 4.224387648655948e-10  beta= 3.989666219575181e-13\n",
      "Iteracion 41\n",
      "Valores actuales: alpha= 4.2244067667414206e-10  beta= 3.989666181433575e-13\n",
      "Iteracion 42\n",
      "Valores actuales: alpha= 4.2244204807142026e-10  beta= 3.9896661540735767e-13\n",
      "Valores finales: alpha= 4.224430318149829e-10  beta= 3.9896661344475045e-13\n",
      "Fit terminado \n",
      "\n",
      "Empezando fit: alpha y beta iniciales [5.0000500000000005e-06, 1e-10]\n",
      "Iteracion 1\n",
      "Valores actuales: alpha= 5.0000500000000005e-06  beta= 1e-10\n",
      "Iteracion 2\n",
      "Valores actuales: alpha= 5.075462911536303e-09  beta= 3.972693501657099e-13\n",
      "Iteracion 3\n",
      "Valores actuales: alpha= 2.6592302367222604e-09  beta= 3.976864831061969e-13\n",
      "Iteracion 4\n",
      "Valores actuales: alpha= 1.7025415523026521e-09  beta= 3.979460438658415e-13\n",
      "Iteracion 5\n",
      "Valores actuales: alpha= 1.2150761346134638e-09  beta= 3.9815946868517763e-13\n",
      "Iteracion 6\n",
      "Valores actuales: alpha= 9.36294316145005e-10  beta= 3.9833897335737623e-13\n",
      "Iteracion 7\n",
      "Valores actuales: alpha= 7.656373393195158e-10  beta= 3.9848698161573376e-13\n",
      "Iteracion 8\n",
      "Valores actuales: alpha= 6.563751447004633e-10  beta= 3.9860568243507637e-13\n",
      "Iteracion 9\n",
      "Valores actuales: alpha= 5.842003344812479e-10  beta= 3.9869839112686e-13\n",
      "Iteracion 10\n",
      "Valores actuales: alpha= 5.354449579776124e-10  beta= 3.987692076820126e-13\n",
      "Iteracion 11\n",
      "Valores actuales: alpha= 5.019694474497473e-10  beta= 3.988223713216808e-13\n",
      "Iteracion 12\n",
      "Valores actuales: alpha= 4.787097934872599e-10  beta= 3.988617693427762e-13\n",
      "Iteracion 13\n",
      "Valores actuales: alpha= 4.6240681698886157e-10  beta= 3.9889069316076834e-13\n",
      "Iteracion 14\n",
      "Valores actuales: alpha= 4.509067713469864e-10  beta= 3.9891178534526987e-13\n",
      "Iteracion 15\n",
      "Valores actuales: alpha= 4.427569058271752e-10  beta= 3.989270933351901e-13\n",
      "Iteracion 16\n",
      "Valores actuales: alpha= 4.3696171676130203e-10  beta= 3.989381659186382e-13\n",
      "Iteracion 17\n",
      "Valores actuales: alpha= 4.3283079475936754e-10  beta= 3.9894615581090506e-13\n",
      "Iteracion 18\n",
      "Valores actuales: alpha= 4.2988098483601564e-10  beta= 3.9895191147504827e-13\n",
      "Iteracion 19\n",
      "Valores actuales: alpha= 4.277718964209006e-10  beta= 3.989560526678444e-13\n",
      "Iteracion 20\n",
      "Valores actuales: alpha= 4.262625311274188e-10  beta= 3.9895902968746597e-13\n",
      "Iteracion 21\n",
      "Valores actuales: alpha= 4.2518164268997966e-10  beta= 3.9896116849246225e-13\n",
      "Iteracion 22\n",
      "Valores actuales: alpha= 4.2440722786591414e-10  beta= 3.9896270441762667e-13\n",
      "Iteracion 23\n",
      "Valores actuales: alpha= 4.2385220018450255e-10  beta= 3.9896380705462866e-13\n",
      "Iteracion 24\n",
      "Valores actuales: alpha= 4.234543110703541e-10  beta= 3.9896459845719575e-13\n",
      "Iteracion 25\n",
      "Valores actuales: alpha= 4.2316902151155757e-10  beta= 3.9896516638408387e-13\n",
      "Iteracion 26\n",
      "Valores actuales: alpha= 4.229644408692609e-10  beta= 3.9896557389318037e-13\n",
      "Iteracion 27\n",
      "Valores actuales: alpha= 4.2281772315466143e-10  beta= 3.9896586627224707e-13\n",
      "Iteracion 28\n",
      "Valores actuales: alpha= 4.2271249576229567e-10  beta= 3.9896607603554366e-13\n",
      "Iteracion 29\n",
      "Valores actuales: alpha= 4.2263702211736147e-10  beta= 3.989662265209079e-13\n",
      "Iteracion 30\n",
      "Valores actuales: alpha= 4.225828873373017e-10  beta= 3.9896633447666094e-13\n",
      "Iteracion 31\n",
      "Valores actuales: alpha= 4.225440572955673e-10  beta= 3.9896641192066955e-13\n",
      "Iteracion 32\n",
      "Valores actuales: alpha= 4.2251620462649503e-10  beta= 3.989664674756563e-13\n",
      "Iteracion 33\n",
      "Valores actuales: alpha= 4.224962257460558e-10  beta= 3.9896650732795616e-13\n",
      "Iteracion 34\n",
      "Valores actuales: alpha= 4.224818946526572e-10  beta= 3.989665359157227e-13\n",
      "Iteracion 35\n",
      "Valores actuales: alpha= 4.2247161472006946e-10  beta= 3.9896655642283697e-13\n",
      "Iteracion 36\n",
      "Valores actuales: alpha= 4.224642407191381e-10  beta= 3.989665711333247e-13\n",
      "Iteracion 37\n",
      "Valores actuales: alpha= 4.224589511837056e-10  beta= 3.9896658168565323e-13\n",
      "Iteracion 38\n",
      "Valores actuales: alpha= 4.224551568729879e-10  beta= 3.989665892551777e-13\n",
      "Iteracion 39\n",
      "Valores actuales: alpha= 4.224524351182625e-10  beta= 3.9896659468503294e-13\n",
      "Iteracion 40\n",
      "Valores actuales: alpha= 4.224504827326264e-10  beta= 3.9896659858003237e-13\n",
      "Iteracion 41\n",
      "Valores actuales: alpha= 4.224490822342892e-10  beta= 3.989666013740313e-13\n",
      "Iteracion 42\n",
      "Valores actuales: alpha= 4.2244807761881864e-10  beta= 3.989666033782485e-13\n",
      "Valores finales: alpha= 4.224473569805529e-10  beta= 3.989666048159317e-13\n",
      "Fit terminado \n",
      "\n",
      "Empezando fit: alpha y beta iniciales [5.0000500000000005e-06, 5.0000500000000005e-06]\n",
      "Iteracion 1\n",
      "Valores actuales: alpha= 5.0000500000000005e-06  beta= 5.0000500000000005e-06\n",
      "Iteracion 2\n",
      "Valores actuales: alpha= 7.426618085225011e-12  beta= 3.940169346525647e-13\n",
      "Iteracion 3\n",
      "Valores actuales: alpha= 3.196548133400578e-11  beta= 3.994279635346032e-13\n",
      "Iteracion 4\n",
      "Valores actuales: alpha= 7.72002971902616e-11  beta= 3.999414575851796e-13\n",
      "Iteracion 5\n",
      "Valores actuales: alpha= 1.3773188621955598e-10  beta= 3.9977698036263353e-13\n",
      "Iteracion 6\n",
      "Valores actuales: alpha= 1.9931039409780314e-10  beta= 3.9956467764649277e-13\n",
      "Iteracion 7\n",
      "Valores actuales: alpha= 2.528357700632773e-10  beta= 3.993910429944042e-13\n",
      "Iteracion 8\n",
      "Valores actuales: alpha= 2.9589968381525725e-10  beta= 3.9926518457285416e-13\n",
      "Iteracion 9\n",
      "Valores actuales: alpha= 3.2915811728902254e-10  beta= 3.991769203216904e-13\n",
      "Iteracion 10\n",
      "Valores actuales: alpha= 3.5423057282883256e-10  beta= 3.991152819944527e-13\n",
      "Iteracion 11\n",
      "Valores actuales: alpha= 3.7284284471632584e-10  beta= 3.9907207982534535e-13\n"
     ]
    },
    {
     "name": "stdout",
     "output_type": "stream",
     "text": [
      "Iteracion 12\n",
      "Valores actuales: alpha= 3.865180389931024e-10  beta= 3.9904164766072225e-13\n",
      "Iteracion 13\n",
      "Valores actuales: alpha= 3.9649511871798213e-10  beta= 3.990201144079187e-13\n",
      "Iteracion 14\n",
      "Valores actuales: alpha= 4.037384507336889e-10  beta= 3.9900482317671846e-13\n",
      "Iteracion 15\n",
      "Valores actuales: alpha= 4.0897893116710946e-10  beta= 3.9899393491663614e-13\n",
      "Iteracion 16\n",
      "Valores actuales: alpha= 4.127610936030931e-10  beta= 3.9898616613190016e-13\n",
      "Iteracion 17\n",
      "Valores actuales: alpha= 4.154860093301691e-10  beta= 3.989806148707917e-13\n",
      "Iteracion 18\n",
      "Valores actuales: alpha= 4.1744678050694676e-10  beta= 3.9897664388191917e-13\n",
      "Iteracion 19\n",
      "Valores actuales: alpha= 4.188564449763018e-10  beta= 3.989738010913319e-13\n",
      "Iteracion 20\n",
      "Valores actuales: alpha= 4.1986925798425414e-10  beta= 3.9897176481869623e-13\n",
      "Iteracion 21\n",
      "Valores actuales: alpha= 4.205966117999996e-10  beta= 3.9897030565707805e-13\n",
      "Iteracion 22\n",
      "Valores actuales: alpha= 4.2111879275788673e-10  beta= 3.9896925973867083e-13\n",
      "Iteracion 23\n",
      "Valores actuales: alpha= 4.214935889815756e-10  beta= 3.989685098730091e-13\n",
      "Iteracion 24\n",
      "Valores actuales: alpha= 4.2176255467785374e-10  beta= 3.989679721796358e-13\n",
      "Iteracion 25\n",
      "Valores actuales: alpha= 4.2195554992446795e-10  beta= 3.9896758658322876e-13\n",
      "Iteracion 26\n",
      "Valores actuales: alpha= 4.2209402100078546e-10  beta= 3.989673100387015e-13\n",
      "Iteracion 27\n",
      "Valores actuales: alpha= 4.2219336572323267e-10  beta= 3.9896711169362973e-13\n",
      "Iteracion 28\n",
      "Valores actuales: alpha= 4.2226463647976213e-10  beta= 3.989669694295803e-13\n",
      "Iteracion 29\n",
      "Valores actuales: alpha= 4.223157651139455e-10  beta= 3.9896686738700565e-13\n",
      "Iteracion 30\n",
      "Valores actuales: alpha= 4.223524432413848e-10  beta= 3.9896679419281545e-13\n",
      "Iteracion 31\n",
      "Valores actuales: alpha= 4.22378754586272e-10  beta= 3.9896674169052606e-13\n",
      "Iteracion 32\n",
      "Valores actuales: alpha= 4.22397629017237e-10  beta= 3.9896670403016453e-13\n",
      "Iteracion 33\n",
      "Valores actuales: alpha= 4.2241116846804236e-10  beta= 3.9896667701584467e-13\n",
      "Iteracion 34\n",
      "Valores actuales: alpha= 4.224208808470215e-10  beta= 3.9896665763797807e-13\n",
      "Iteracion 35\n",
      "Valores actuales: alpha= 4.22427847887275e-10  beta= 3.9896664373782473e-13\n",
      "Iteracion 36\n",
      "Valores actuales: alpha= 4.2243284558144636e-10  beta= 3.98966633766923e-13\n",
      "Iteracion 37\n",
      "Valores actuales: alpha= 4.224364305889576e-10  beta= 3.9896662661454986e-13\n",
      "Iteracion 38\n",
      "Valores actuales: alpha= 4.224390022265893e-10  beta= 3.9896662148396913e-13\n",
      "Iteracion 39\n",
      "Valores actuales: alpha= 4.2244084694031465e-10  beta= 3.989666178036683e-13\n",
      "Iteracion 40\n",
      "Valores actuales: alpha= 4.2244217020837475e-10  beta= 3.989666151636894e-13\n",
      "Valores finales: alpha= 4.224431194273831e-10  beta= 3.989666132699605e-13\n",
      "Fit terminado \n",
      "\n",
      "Empezando fit: alpha y beta iniciales [5.0000500000000005e-06, 1e-05]\n",
      "Iteracion 1\n",
      "Valores actuales: alpha= 5.0000500000000005e-06  beta= 1e-05\n",
      "Iteracion 2\n",
      "Valores actuales: alpha= 4.585286776440376e-12  beta= 3.926584912673567e-13\n",
      "Iteracion 3\n",
      "Valores actuales: alpha= 2.5156137137470406e-11  beta= 3.9890566802387253e-13\n",
      "Iteracion 4\n",
      "Valores actuales: alpha= 6.598063789210795e-11  beta= 3.9994162905605124e-13\n",
      "Iteracion 5\n",
      "Valores actuales: alpha= 1.2442126892215444e-10  beta= 3.998214714902967e-13\n",
      "Iteracion 6\n",
      "Valores actuales: alpha= 1.8682147936609172e-10  beta= 3.9960733203487083e-13\n",
      "Iteracion 7\n",
      "Valores actuales: alpha= 2.4240948153223706e-10  beta= 3.994234693337729e-13\n",
      "Iteracion 8\n",
      "Valores actuales: alpha= 2.8768348934320145e-10  beta= 3.992881798209896e-13\n",
      "Iteracion 9\n",
      "Valores actuales: alpha= 3.228880644206524e-10  beta= 3.991929802524005e-13\n",
      "Iteracion 10\n",
      "Valores actuales: alpha= 3.4953908242168627e-10  beta= 3.991265085870321e-13\n",
      "Iteracion 11\n",
      "Valores actuales: alpha= 3.6937739098657953e-10  beta= 3.990799651692719e-13\n",
      "Iteracion 12\n",
      "Valores actuales: alpha= 3.839804248063315e-10  beta= 3.9904721349547406e-13\n",
      "Iteracion 13\n",
      "Valores actuales: alpha= 3.946480821308156e-10  beta= 3.9902405924038955e-13\n",
      "Iteracion 14\n",
      "Valores actuales: alpha= 4.023997173133108e-10  beta= 3.9900762806733674e-13\n",
      "Iteracion 15\n",
      "Valores actuales: alpha= 4.0801149964846404e-10  beta= 3.989959340694541e-13\n",
      "Iteracion 16\n",
      "Valores actuales: alpha= 4.120634567104872e-10  beta= 3.989875935295968e-13\n",
      "Iteracion 17\n",
      "Valores actuales: alpha= 4.1498368301645943e-10  beta= 3.9898163535288053e-13\n",
      "Iteracion 18\n",
      "Valores actuales: alpha= 4.1708547323518975e-10  beta= 3.9897737413465945e-13\n",
      "Iteracion 19\n",
      "Valores actuales: alpha= 4.1859676727468805e-10  beta= 3.98974324011695e-13\n",
      "Iteracion 20\n",
      "Valores actuales: alpha= 4.1968272548483665e-10  beta= 3.9897213945541487e-13\n",
      "Iteracion 21\n",
      "Valores actuales: alpha= 4.2046267377735534e-10  beta= 3.98970574153238e-13\n",
      "Iteracion 22\n",
      "Valores actuales: alpha= 4.2102264677740936e-10  beta= 3.989694522143321e-13\n",
      "Iteracion 23\n",
      "Valores actuales: alpha= 4.2142458552230415e-10  beta= 3.989686478773085e-13\n",
      "Iteracion 24\n",
      "Valores actuales: alpha= 4.2171303841529186e-10  beta= 3.989680711411189e-13\n",
      "Iteracion 25\n",
      "Valores actuales: alpha= 4.219200211792048e-10  beta= 3.989676575541666e-13\n",
      "Iteracion 26\n",
      "Valores actuales: alpha= 4.2206853042599573e-10  beta= 3.9896736093944846e-13\n",
      "Iteracion 27\n",
      "Valores actuales: alpha= 4.2217507814253604e-10  beta= 3.989671482016909e-13\n",
      "Iteracion 28\n",
      "Valores actuales: alpha= 4.222515170097024e-10  beta= 3.9896699561553775e-13\n",
      "Iteracion 29\n",
      "Valores actuales: alpha= 4.2230635349292336e-10  beta= 3.989668861697461e-13\n",
      "Iteracion 30\n",
      "Valores actuales: alpha= 4.2234569168288616e-10  beta= 3.9896680766559526e-13\n",
      "Iteracion 31\n",
      "Valores actuales: alpha= 4.2237391132924596e-10  beta= 3.989667513546176e-13\n",
      "Iteracion 32\n",
      "Valores actuales: alpha= 4.22394154722901e-10  beta= 3.9896671096232883e-13\n",
      "Iteracion 33\n",
      "Valores actuales: alpha= 4.2240867621261926e-10  beta= 3.989666819883989e-13\n",
      "Iteracion 34\n",
      "Valores actuales: alpha= 4.224190930581397e-10  beta= 3.98966661204889e-13\n",
      "Iteracion 35\n",
      "Valores actuales: alpha= 4.2242656544361894e-10  beta= 3.9896664629644886e-13\n",
      "Iteracion 36\n",
      "Valores actuales: alpha= 4.2243192564210454e-10  beta= 3.98966635602285e-13\n",
      "Iteracion 37\n",
      "Valores actuales: alpha= 4.2243577068724194e-10  beta= 3.98966627931101e-13\n",
      "Iteracion 38\n",
      "Valores actuales: alpha= 4.224385288587761e-10  beta= 3.9896662242836554e-13\n",
      "Iteracion 39\n",
      "Valores actuales: alpha= 4.2244050737934664e-10  beta= 3.9896661848110893e-13\n",
      "Iteracion 40\n",
      "Valores actuales: alpha= 4.224419266312533e-10  beta= 3.9896661564963597e-13\n",
      "Iteracion 41\n",
      "Valores actuales: alpha= 4.22442944702402e-10  beta= 3.989666136185433e-13\n",
      "Valores finales: alpha= 4.224436749944582e-10  beta= 3.9896661216158456e-13\n",
      "Fit terminado \n",
      "\n",
      "Empezando fit: alpha y beta iniciales [1e-05, 1e-10]\n",
      "Iteracion 1\n",
      "Valores actuales: alpha= 1e-05  beta= 1e-10\n",
      "Iteracion 2\n",
      "Valores actuales: alpha= 6.925217325099552e-09  beta= 3.9703937329671863e-13\n",
      "Iteracion 3\n",
      "Valores actuales: alpha= 3.192714945716251e-09  beta= 3.975807940716728e-13\n",
      "Iteracion 4\n",
      "Valores actuales: alpha= 1.9447770414094976e-09  beta= 3.978667392280295e-13\n",
      "Iteracion 5\n",
      "Valores actuales: alpha= 1.3454911742423024e-09  beta= 3.9809285861055916e-13\n",
      "Iteracion 6\n",
      "Valores actuales: alpha= 1.0131715978829706e-09  beta= 3.9828318424921515e-13\n",
      "Iteracion 7\n",
      "Valores actuales: alpha= 8.136129676248428e-10  beta= 3.984414115063066e-13\n",
      "Iteracion 8\n",
      "Valores actuales: alpha= 6.874973193227596e-10  beta= 3.9856949220947506e-13\n",
      "Iteracion 9\n",
      "Valores actuales: alpha= 6.049504281806154e-10  beta= 3.9867036734809433e-13\n",
      "Iteracion 10\n",
      "Valores actuales: alpha= 5.495563037970612e-10  beta= 3.987479483921404e-13\n",
      "Iteracion 11\n",
      "Valores actuales: alpha= 5.117057733584194e-10  beta= 3.9880649469621575e-13\n",
      "Iteracion 12\n",
      "Valores actuales: alpha= 4.854990581445146e-10  beta= 3.9885004864892097e-13\n",
      "Iteracion 13\n",
      "Valores actuales: alpha= 4.671779360595068e-10  beta= 3.988821121585548e-13\n",
      "Iteracion 14\n",
      "Valores actuales: alpha= 4.5427870881417435e-10  beta= 3.9890554005889854e-13\n",
      "Iteracion 15\n",
      "Valores actuales: alpha= 4.4514984244953364e-10  beta= 3.98922567016262e-13\n",
      "Iteracion 16\n",
      "Valores actuales: alpha= 4.38664987990141e-10  beta= 3.9893489516381145e-13\n",
      "Iteracion 17\n",
      "Valores actuales: alpha= 4.340457996439897e-10  beta= 3.9894379730883643e-13\n",
      "Iteracion 18\n",
      "Valores actuales: alpha= 4.307490498066758e-10  beta= 3.989502133296209e-13\n",
      "Iteracion 19\n",
      "Valores actuales: alpha= 4.2839278926212054e-10  beta= 3.9895483128698215e-13\n"
     ]
    },
    {
     "name": "stdout",
     "output_type": "stream",
     "text": [
      "Iteracion 20\n",
      "Valores actuales: alpha= 4.2670699248117085e-10  beta= 3.989581518832701e-13\n",
      "Iteracion 21\n",
      "Valores actuales: alpha= 4.254999929428202e-10  beta= 3.989605379580786e-13\n",
      "Iteracion 22\n",
      "Valores actuales: alpha= 4.246353454869286e-10  beta= 3.989622516747835e-13\n",
      "Iteracion 23\n",
      "Valores actuales: alpha= 4.2401570988419783e-10  beta= 3.989634820616433e-13\n",
      "Iteracion 24\n",
      "Valores actuales: alpha= 4.235715366288313e-10  beta= 3.989643652133719e-13\n",
      "Iteracion 25\n",
      "Valores actuales: alpha= 4.2325307749841597e-10  beta= 3.98964999011413e-13\n",
      "Iteracion 26\n",
      "Valores actuales: alpha= 4.2302471951325745e-10  beta= 3.9896545380101595e-13\n",
      "Iteracion 27\n",
      "Valores actuales: alpha= 4.2286095393622716e-10  beta= 3.98965780110784e-13\n",
      "Iteracion 28\n",
      "Valores actuales: alpha= 4.2274350189940894e-10  beta= 3.989660142212791e-13\n",
      "Iteracion 29\n",
      "Valores actuales: alpha= 4.2265926136799463e-10  beta= 3.9896618217556334e-13\n",
      "Iteracion 30\n",
      "Valores actuales: alpha= 4.2259883898261765e-10  beta= 3.989663026643175e-13\n",
      "Iteracion 31\n",
      "Valores actuales: alpha= 4.2255549924536147e-10  beta= 3.9896638909965765e-13\n",
      "Iteracion 32\n",
      "Valores actuales: alpha= 4.225244119434154e-10  beta= 3.989664511049237e-13\n",
      "Iteracion 33\n",
      "Valores actuales: alpha= 4.225021129233335e-10  beta= 3.989664955844705e-13\n",
      "Iteracion 34\n",
      "Valores actuales: alpha= 4.224861176073946e-10  beta= 3.989665274916361e-13\n",
      "Iteracion 35\n",
      "Valores actuales: alpha= 4.2247464392168927e-10  beta= 3.9896655037992293e-13\n",
      "Iteracion 36\n",
      "Valores actuales: alpha= 4.224664136288719e-10  beta= 3.9896656679853124e-13\n",
      "Iteracion 37\n",
      "Valores actuales: alpha= 4.2246050986185257e-10  beta= 3.989665785761626e-13\n",
      "Iteracion 38\n",
      "Valores actuales: alpha= 4.2245627495100667e-10  beta= 3.9896658702464157e-13\n",
      "Iteracion 39\n",
      "Valores actuales: alpha= 4.224532371442064e-10  beta= 3.989665930850007e-13\n",
      "Iteracion 40\n",
      "Valores actuales: alpha= 4.2245105804695413e-10  beta= 3.9896659743228125e-13\n",
      "Iteracion 41\n",
      "Valores actuales: alpha= 4.2244949492271967e-10  beta= 3.9896660055071546e-13\n",
      "Iteracion 42\n",
      "Valores actuales: alpha= 4.2244837365148547e-10  beta= 3.9896660278766003e-13\n",
      "Valores finales: alpha= 4.224475693329421e-10  beta= 3.9896660439228545e-13\n",
      "Fit terminado \n",
      "\n",
      "Empezando fit: alpha y beta iniciales [1e-05, 5.0000500000000005e-06]\n",
      "Iteracion 1\n",
      "Valores actuales: alpha= 1e-05  beta= 5.0000500000000005e-06\n",
      "Iteracion 2\n",
      "Valores actuales: alpha= 1.1156686209424339e-11  beta= 3.9554818932168226e-13\n",
      "Iteracion 3\n",
      "Valores actuales: alpha= 3.9979212844706455e-11  beta= 3.9971560082095714e-13\n",
      "Iteracion 4\n",
      "Valores actuales: alpha= 8.951026829402964e-11  beta= 3.9992140924550835e-13\n",
      "Iteracion 5\n",
      "Valores actuales: alpha= 1.5145862351909145e-10  beta= 3.997298557049854e-13\n",
      "Iteracion 6\n",
      "Valores actuales: alpha= 2.1177420092691314e-10  beta= 3.9952277681682995e-13\n",
      "Iteracion 7\n",
      "Valores actuales: alpha= 2.6307902067245406e-10  beta= 3.9935991574799715e-13\n",
      "Iteracion 8\n",
      "Valores actuales: alpha= 3.039043022655544e-10  beta= 3.9924324037854226e-13\n",
      "Iteracion 9\n",
      "Valores actuales: alpha= 3.3523624641295135e-10  beta= 3.9916160241565037e-13\n",
      "Iteracion 10\n",
      "Valores actuales: alpha= 3.587638873392989e-10  beta= 3.99104564555338e-13\n",
      "Iteracion 11\n",
      "Valores actuales: alpha= 3.761842663737627e-10  beta= 3.9906454386261426e-13\n",
      "Iteracion 12\n",
      "Valores actuales: alpha= 3.889612171713889e-10  beta= 3.9903632333269775e-13\n",
      "Iteracion 13\n",
      "Valores actuales: alpha= 3.9827158711592003e-10  beta= 3.9901633788090517e-13\n",
      "Iteracion 14\n",
      "Valores actuales: alpha= 4.0502510235254373e-10  beta= 3.990021364122477e-13\n",
      "Iteracion 15\n",
      "Valores actuales: alpha= 4.0990824818594555e-10  beta= 3.9899201914089086e-13\n",
      "Iteracion 16\n",
      "Valores actuales: alpha= 4.1343100038045955e-10  beta= 3.989847978388027e-13\n",
      "Iteracion 17\n",
      "Valores actuales: alpha= 4.159682431786288e-10  beta= 3.9897963642219015e-13\n",
      "Iteracion 18\n",
      "Valores actuales: alpha= 4.177935713555319e-10  beta= 3.9897594359323343e-13\n",
      "Iteracion 19\n",
      "Valores actuales: alpha= 4.1910565630039476e-10  beta= 3.989732995682605e-13\n",
      "Iteracion 20\n",
      "Valores actuales: alpha= 4.200482551859776e-10  beta= 3.989714054810112e-13\n",
      "Iteracion 21\n",
      "Valores actuales: alpha= 4.2072513039696684e-10  beta= 3.9897004810967914e-13\n",
      "Iteracion 22\n",
      "Valores actuales: alpha= 4.2121104395000463e-10  beta= 3.9896907510365116e-13\n",
      "Iteracion 23\n",
      "Valores actuales: alpha= 4.215597948512262e-10  beta= 3.989683774862218e-13\n",
      "Iteracion 24\n",
      "Valores actuales: alpha= 4.218100622213406e-10  beta= 3.989678772442523e-13\n",
      "Iteracion 25\n",
      "Valores actuales: alpha= 4.2198963676602067e-10  beta= 3.9896751849852457e-13\n",
      "Iteracion 26\n",
      "Valores actuales: alpha= 4.2211847674639646e-10  beta= 3.9896726120740423e-13\n",
      "Iteracion 27\n",
      "Valores actuales: alpha= 4.2221091072880015e-10  beta= 3.9896707666956606e-13\n",
      "Iteracion 28\n",
      "Valores actuales: alpha= 4.2227722314439825e-10  beta= 3.989669443078909e-13\n",
      "Iteracion 29\n",
      "Valores actuales: alpha= 4.2232479446895806e-10  beta= 3.9896684936756843e-13\n",
      "Iteracion 30\n",
      "Valores actuales: alpha= 4.2235892055384656e-10  beta= 3.9896678126750956e-13\n",
      "Iteracion 31\n",
      "Valores actuales: alpha= 4.223834011004292e-10  beta= 3.989667324191196e-13\n",
      "Iteracion 32\n",
      "Valores actuales: alpha= 4.224009621728652e-10  beta= 3.98966697379667e-13\n",
      "Iteracion 33\n",
      "Valores actuales: alpha= 4.22413559475801e-10  beta= 3.9896667224532924e-13\n",
      "Iteracion 34\n",
      "Valores actuales: alpha= 4.2242259600557763e-10  beta= 3.989666542159908e-13\n",
      "Iteracion 35\n",
      "Valores actuales: alpha= 4.2242907822985204e-10  beta= 3.989666412831561e-13\n",
      "Iteracion 36\n",
      "Valores actuales: alpha= 4.224337281465474e-10  beta= 3.9896663200612996e-13\n",
      "Iteracion 37\n",
      "Valores actuales: alpha= 4.2243706368073046e-10  beta= 3.989666253514884e-13\n",
      "Iteracion 38\n",
      "Valores actuales: alpha= 4.224394563626963e-10  beta= 3.9896662057794216e-13\n",
      "Iteracion 39\n",
      "Valores actuales: alpha= 4.224411727057452e-10  beta= 3.989666171537508e-13\n",
      "Iteracion 40\n",
      "Valores actuales: alpha= 4.2244240388951985e-10  beta= 3.98966614697486e-13\n",
      "Valores finales: alpha= 4.224432870536766e-10  beta= 3.9896661293553995e-13\n",
      "Fit terminado \n",
      "\n",
      "Empezando fit: alpha y beta iniciales [1e-05, 1e-05]\n",
      "Iteracion 1\n",
      "Valores actuales: alpha= 1e-05  beta= 1e-05\n",
      "Iteracion 2\n",
      "Valores actuales: alpha= 7.426618085224769e-12  beta= 3.940169346525638e-13\n",
      "Iteracion 3\n",
      "Valores actuales: alpha= 3.1965481334005065e-11  beta= 3.994279635346032e-13\n",
      "Iteracion 4\n",
      "Valores actuales: alpha= 7.720029719026033e-11  beta= 3.999414575851797e-13\n",
      "Iteracion 5\n",
      "Valores actuales: alpha= 1.3773188621955474e-10  beta= 3.997769803626336e-13\n",
      "Iteracion 6\n",
      "Valores actuales: alpha= 1.9931039409780195e-10  beta= 3.9956467764649277e-13\n",
      "Iteracion 7\n",
      "Valores actuales: alpha= 2.528357700632763e-10  beta= 3.9939104299440426e-13\n",
      "Iteracion 8\n",
      "Valores actuales: alpha= 2.9589968381525694e-10  beta= 3.9926518457285416e-13\n",
      "Iteracion 9\n",
      "Valores actuales: alpha= 3.29158117289022e-10  beta= 3.991769203216904e-13\n",
      "Iteracion 10\n",
      "Valores actuales: alpha= 3.5423057282883194e-10  beta= 3.9911528199445273e-13\n",
      "Iteracion 11\n",
      "Valores actuales: alpha= 3.7284284471632553e-10  beta= 3.9907207982534535e-13\n",
      "Iteracion 12\n",
      "Valores actuales: alpha= 3.8651803899310223e-10  beta= 3.9904164766072225e-13\n",
      "Iteracion 13\n",
      "Valores actuales: alpha= 3.96495118717982e-10  beta= 3.990201144079187e-13\n",
      "Iteracion 14\n",
      "Valores actuales: alpha= 4.037384507336888e-10  beta= 3.9900482317671846e-13\n",
      "Iteracion 15\n",
      "Valores actuales: alpha= 4.0897893116710925e-10  beta= 3.9899393491663614e-13\n",
      "Iteracion 16\n",
      "Valores actuales: alpha= 4.127610936030929e-10  beta= 3.9898616613190016e-13\n",
      "Iteracion 17\n",
      "Valores actuales: alpha= 4.1548600933016846e-10  beta= 3.989806148707917e-13\n",
      "Iteracion 18\n",
      "Valores actuales: alpha= 4.1744678050694634e-10  beta= 3.9897664388191917e-13\n",
      "Iteracion 19\n",
      "Valores actuales: alpha= 4.1885644497630094e-10  beta= 3.989738010913319e-13\n",
      "Iteracion 20\n",
      "Valores actuales: alpha= 4.1986925798425363e-10  beta= 3.9897176481869623e-13\n",
      "Iteracion 21\n",
      "Valores actuales: alpha= 4.2059661179999983e-10  beta= 3.9897030565707805e-13\n",
      "Iteracion 22\n",
      "Valores actuales: alpha= 4.2111879275788683e-10  beta= 3.9896925973867083e-13\n",
      "Iteracion 23\n",
      "Valores actuales: alpha= 4.21493588981575e-10  beta= 3.98968509873009e-13\n",
      "Iteracion 24\n",
      "Valores actuales: alpha= 4.217625546778533e-10  beta= 3.9896797217963577e-13\n",
      "Iteracion 25\n",
      "Valores actuales: alpha= 4.2195554992446775e-10  beta= 3.989675865832288e-13\n",
      "Iteracion 26\n",
      "Valores actuales: alpha= 4.2209402100078494e-10  beta= 3.9896731003870145e-13\n"
     ]
    },
    {
     "name": "stdout",
     "output_type": "stream",
     "text": [
      "Iteracion 27\n",
      "Valores actuales: alpha= 4.2219336572323205e-10  beta= 3.989671116936297e-13\n",
      "Iteracion 28\n",
      "Valores actuales: alpha= 4.222646364797619e-10  beta= 3.989669694295803e-13\n",
      "Iteracion 29\n",
      "Valores actuales: alpha= 4.223157651139453e-10  beta= 3.9896686738700565e-13\n",
      "Iteracion 30\n",
      "Valores actuales: alpha= 4.223524432413849e-10  beta= 3.989667941928155e-13\n",
      "Iteracion 31\n",
      "Valores actuales: alpha= 4.223787545862717e-10  beta= 3.9896674169052606e-13\n",
      "Iteracion 32\n",
      "Valores actuales: alpha= 4.2239762901723695e-10  beta= 3.9896670403016453e-13\n",
      "Iteracion 33\n",
      "Valores actuales: alpha= 4.224111684680421e-10  beta= 3.9896667701584467e-13\n",
      "Iteracion 34\n",
      "Valores actuales: alpha= 4.224208808470211e-10  beta= 3.9896665763797807e-13\n",
      "Iteracion 35\n",
      "Valores actuales: alpha= 4.22427847887274e-10  beta= 3.9896664373782473e-13\n",
      "Iteracion 36\n",
      "Valores actuales: alpha= 4.2243284558144533e-10  beta= 3.98966633766923e-13\n",
      "Iteracion 37\n",
      "Valores actuales: alpha= 4.2243643058895695e-10  beta= 3.9896662661454986e-13\n",
      "Iteracion 38\n",
      "Valores actuales: alpha= 4.224390022265888e-10  beta= 3.9896662148396913e-13\n",
      "Iteracion 39\n",
      "Valores actuales: alpha= 4.2244084694031424e-10  beta= 3.989666178036683e-13\n",
      "Iteracion 40\n",
      "Valores actuales: alpha= 4.2244217020837444e-10  beta= 3.989666151636894e-13\n",
      "Valores finales: alpha= 4.2244311942738327e-10  beta= 3.989666132699605e-13\n",
      "Fit terminado \n",
      "\n",
      "Iteracion 2\n",
      "Valores actuales: alpha= 5.787474888227339e-15  beta= 3.872924736208566e-13\n",
      "Iteracion 3\n",
      "Valores actuales: alpha= 2.749410086725472e-13  beta= 3.8908128008048796e-13\n",
      "Iteracion 4\n",
      "Valores actuales: alpha= 5.8811639886952916e-12  beta= 3.9330603910640747e-13\n",
      "Iteracion 5\n",
      "Valores actuales: alpha= 2.8374238680135993e-11  beta= 3.9920051765910013e-13\n",
      "Iteracion 6\n",
      "Valores actuales: alpha= 7.137790728524259e-11  beta= 3.99944549345789e-13\n",
      "Iteracion 7\n",
      "Valores actuales: alpha= 1.30930699258547e-10  beta= 3.997999197787725e-13\n",
      "Iteracion 8\n",
      "Valores actuales: alpha= 1.929836710738247e-10  beta= 3.995862129568203e-13\n",
      "Iteracion 9\n",
      "Valores actuales: alpha= 2.475756464281259e-10  beta= 3.9940730997723335e-13\n",
      "Iteracion 10\n",
      "Valores actuales: alpha= 2.917635691504164e-10  beta= 3.9927670073803873e-13\n",
      "Iteracion 11\n",
      "Valores actuales: alpha= 3.260057702742306e-10  beta= 3.991849616248775e-13\n",
      "Iteracion 12\n",
      "Valores actuales: alpha= 3.5187380639633163e-10  beta= 3.991209043608223e-13\n",
      "Iteracion 13\n",
      "Valores actuales: alpha= 3.711029330366756e-10  beta= 3.990760299336701e-13\n",
      "Iteracion 14\n",
      "Valores actuales: alpha= 3.852444508575908e-10  beta= 3.9904443649815546e-13\n",
      "Iteracion 15\n",
      "Valores actuales: alpha= 3.955683639305274e-10  beta= 3.9902209139905854e-13\n",
      "Iteracion 16\n",
      "Valores actuales: alpha= 4.030668623518364e-10  beta= 3.99006229079721e-13\n",
      "Iteracion 17\n",
      "Valores actuales: alpha= 4.0849367343463073e-10  beta= 3.989949370658417e-13\n",
      "Iteracion 18\n",
      "Valores actuales: alpha= 4.124111957620663e-10  beta= 3.9898688172443793e-13\n",
      "Iteracion 19\n",
      "Valores actuales: alpha= 4.1523408567668096e-10  beta= 3.989811264951742e-13\n",
      "Iteracion 20\n",
      "Valores actuales: alpha= 4.1726558845397343e-10  beta= 3.989770100134815e-13\n",
      "Iteracion 21\n",
      "Valores actuales: alpha= 4.1872622356762996e-10  beta= 3.989740632792125e-13\n",
      "Iteracion 22\n",
      "Valores actuales: alpha= 4.1977571920259477e-10  beta= 3.9897195266247985e-13\n",
      "Iteracion 23\n",
      "Valores actuales: alpha= 4.2052944826596083e-10  beta= 3.9897044028382406e-13\n",
      "Iteracion 24\n",
      "Valores actuales: alpha= 4.2107058073156114e-10  beta= 3.9896935624903776e-13\n",
      "Iteracion 25\n",
      "Valores actuales: alpha= 4.2145898777510786e-10  beta= 3.9896857907112443e-13\n",
      "Iteracion 26\n",
      "Valores actuales: alpha= 4.21737725321668e-10  beta= 3.989680218011898e-13\n",
      "Iteracion 27\n",
      "Valores actuales: alpha= 4.2193773452846666e-10  beta= 3.989676221698303e-13\n",
      "Iteracion 28\n",
      "Valores actuales: alpha= 4.220812391480185e-10  beta= 3.9896733556168403e-13\n",
      "Iteracion 29\n",
      "Valores actuales: alpha= 4.22184195721589e-10  beta= 3.9896712999977767e-13\n",
      "Iteracion 30\n",
      "Valores actuales: alpha= 4.2225805795193383e-10  beta= 3.989669825599611e-13\n",
      "Iteracion 31\n",
      "Valores actuales: alpha= 4.223110458276159e-10  beta= 3.9896687680521423e-13\n",
      "Iteracion 32\n",
      "Valores actuales: alpha= 4.223490577980132e-10  beta= 3.9896680094846166e-13\n",
      "Iteracion 33\n",
      "Valores actuales: alpha= 4.2237632602667927e-10  beta= 3.989667465363872e-13\n",
      "Iteracion 34\n",
      "Valores actuales: alpha= 4.223958868988618e-10  beta= 3.98966707506158e-13\n",
      "Iteracion 35\n",
      "Valores actuales: alpha= 4.2240991877467905e-10  beta= 3.989666795092321e-13\n",
      "Iteracion 36\n",
      "Valores actuales: alpha= 4.224199843950103e-10  beta= 3.9896665942653426e-13\n",
      "Iteracion 37\n",
      "Valores actuales: alpha= 4.2242720483091913e-10  beta= 3.989666450207958e-13\n",
      "Iteracion 38\n",
      "Valores actuales: alpha= 4.2243238429586306e-10  beta= 3.9896663468722887e-13\n",
      "Iteracion 39\n",
      "Valores actuales: alpha= 4.224360996941816e-10  beta= 3.989666272747084e-13\n",
      "Iteracion 40\n",
      "Valores actuales: alpha= 4.224387648655948e-10  beta= 3.989666219575181e-13\n",
      "Iteracion 41\n",
      "Valores actuales: alpha= 4.2244067667414206e-10  beta= 3.989666181433575e-13\n",
      "Iteracion 42\n",
      "Valores actuales: alpha= 4.2244204807142026e-10  beta= 3.9896661540735767e-13\n",
      "Valores finales: alpha= 4.224430318149829e-10  beta= 3.9896661344475045e-13\n",
      "RMSE: 1676701.0675071115  R_2: 0.005425045950699037\n"
     ]
    }
   ],
   "source": [
    "run(df_X,df_y)"
   ]
  },
  {
   "cell_type": "markdown",
   "metadata": {},
   "source": [
    "### Parte 4"
   ]
  },
  {
   "cell_type": "code",
   "execution_count": null,
   "metadata": {},
   "outputs": [],
   "source": [
    "#Usar los datos con las columnas EDA, repetir parte 3"
   ]
  },
  {
   "cell_type": "markdown",
   "metadata": {},
   "source": [
    "### Parte 5"
   ]
  },
  {
   "cell_type": "code",
   "execution_count": 101,
   "metadata": {},
   "outputs": [
    {
     "name": "stdout",
     "output_type": "stream",
     "text": [
      "Fit terminado \n",
      "\n",
      "RMSE =  1681279.9903399977  R2 = -1.4564547221374013e-05\n"
     ]
    }
   ],
   "source": [
    "from sklearn.linear_model import BayesianRidge\n",
    "from sklearn.model_selection import train_test_split\n",
    "\n",
    "X_train, X_test, y_train, y_test = train_test_split(df_X, df_y, test_size=0.2, random_state=random_state)\n",
    "BR_pipe = Pipeline([('prep',prep),('clf',BayesianRidge())])\n",
    "BR_pipe.fit(X_train,y_train)\n",
    "print('Fit terminado', '\\n')\n",
    "y_pred = BR_pipe.predict(X_test) \n",
    "\n",
    "R_2 = BR_pipe.score(X_test, y_test)\n",
    "RMSE = np.sqrt(np.mean((y_pred-y_test)**2))\n",
    "print('RMSE = ',RMSE,' R2 =',R_2,)"
   ]
  }
 ],
 "metadata": {
  "kernelspec": {
   "display_name": "Python 3",
   "language": "python",
   "name": "python3"
  },
  "language_info": {
   "codemirror_mode": {
    "name": "ipython",
    "version": 3
   },
   "file_extension": ".py",
   "mimetype": "text/x-python",
   "name": "python",
   "nbconvert_exporter": "python",
   "pygments_lexer": "ipython3",
   "version": "3.7.3"
  },
  "toc": {
   "base_numbering": 1,
   "nav_menu": {},
   "number_sections": true,
   "sideBar": true,
   "skip_h1_title": false,
   "title_cell": "Table of Contents",
   "title_sidebar": "Contents",
   "toc_cell": false,
   "toc_position": {},
   "toc_section_display": true,
   "toc_window_display": false
  }
 },
 "nbformat": 4,
 "nbformat_minor": 2
}
